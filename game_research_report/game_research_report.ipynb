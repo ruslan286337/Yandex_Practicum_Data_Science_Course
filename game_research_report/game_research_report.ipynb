{
 "cells": [
  {
   "cell_type": "markdown",
   "metadata": {},
   "source": [
    "**ВЕДЕНИЕ**\n",
    "\n",
    "**1.** Рассмотрим в общих чертах данные нам данные об играх \n",
    "\n",
    "**2.** Проведем предобработку данных: заполним пропуски, где это возможно, уберем явные дубликаты и по, возможности нахождения, неявные, добавим необходимые для будущего анализа столбцы\n",
    "\n",
    "**3.** Исследовательский анализ: опеределим акутальный период, время жизни платформы, найдем самые прибыльные платформы и жанры, а также корелляцию продаж от оценок пользователей и критиков.\n",
    "\n",
    "**4.** Составим портрет пользователя регионов **NA**, **EU** и **JP**\n",
    "\n",
    "**5.** Проверка гипотез\n",
    "\n",
    "**6.** Вывод\n"
   ]
  },
  {
   "cell_type": "markdown",
   "metadata": {},
   "source": [
    "## Общая информация"
   ]
  },
  {
   "cell_type": "code",
   "execution_count": 1,
   "metadata": {},
   "outputs": [],
   "source": [
    "import pandas as pd\n",
    "import numpy as np\n",
    "import matplotlib.pyplot as plt\n",
    "from matplotlib.axes._axes import _log as matplotlib_axes_logger\n",
    "matplotlib_axes_logger.setLevel('ERROR')\n",
    "import seaborn as sns\n",
    "from scipy import stats as st\n",
    "sns.set_theme(style=\"darkgrid\")"
   ]
  },
  {
   "cell_type": "code",
   "execution_count": 2,
   "metadata": {
    "scrolled": true
   },
   "outputs": [
    {
     "data": {
      "text/html": [
       "<div>\n",
       "<style scoped>\n",
       "    .dataframe tbody tr th:only-of-type {\n",
       "        vertical-align: middle;\n",
       "    }\n",
       "\n",
       "    .dataframe tbody tr th {\n",
       "        vertical-align: top;\n",
       "    }\n",
       "\n",
       "    .dataframe thead th {\n",
       "        text-align: right;\n",
       "    }\n",
       "</style>\n",
       "<table border=\"1\" class=\"dataframe\">\n",
       "  <thead>\n",
       "    <tr style=\"text-align: right;\">\n",
       "      <th></th>\n",
       "      <th>Name</th>\n",
       "      <th>Platform</th>\n",
       "      <th>Year_of_Release</th>\n",
       "      <th>Genre</th>\n",
       "      <th>NA_sales</th>\n",
       "      <th>EU_sales</th>\n",
       "      <th>JP_sales</th>\n",
       "      <th>Other_sales</th>\n",
       "      <th>Critic_Score</th>\n",
       "      <th>User_Score</th>\n",
       "      <th>Rating</th>\n",
       "    </tr>\n",
       "  </thead>\n",
       "  <tbody>\n",
       "    <tr>\n",
       "      <th>0</th>\n",
       "      <td>Wii Sports</td>\n",
       "      <td>Wii</td>\n",
       "      <td>2006.0</td>\n",
       "      <td>Sports</td>\n",
       "      <td>41.36</td>\n",
       "      <td>28.96</td>\n",
       "      <td>3.77</td>\n",
       "      <td>8.45</td>\n",
       "      <td>76.0</td>\n",
       "      <td>8</td>\n",
       "      <td>E</td>\n",
       "    </tr>\n",
       "    <tr>\n",
       "      <th>1</th>\n",
       "      <td>Super Mario Bros.</td>\n",
       "      <td>NES</td>\n",
       "      <td>1985.0</td>\n",
       "      <td>Platform</td>\n",
       "      <td>29.08</td>\n",
       "      <td>3.58</td>\n",
       "      <td>6.81</td>\n",
       "      <td>0.77</td>\n",
       "      <td>NaN</td>\n",
       "      <td>NaN</td>\n",
       "      <td>NaN</td>\n",
       "    </tr>\n",
       "    <tr>\n",
       "      <th>2</th>\n",
       "      <td>Mario Kart Wii</td>\n",
       "      <td>Wii</td>\n",
       "      <td>2008.0</td>\n",
       "      <td>Racing</td>\n",
       "      <td>15.68</td>\n",
       "      <td>12.76</td>\n",
       "      <td>3.79</td>\n",
       "      <td>3.29</td>\n",
       "      <td>82.0</td>\n",
       "      <td>8.3</td>\n",
       "      <td>E</td>\n",
       "    </tr>\n",
       "    <tr>\n",
       "      <th>3</th>\n",
       "      <td>Wii Sports Resort</td>\n",
       "      <td>Wii</td>\n",
       "      <td>2009.0</td>\n",
       "      <td>Sports</td>\n",
       "      <td>15.61</td>\n",
       "      <td>10.93</td>\n",
       "      <td>3.28</td>\n",
       "      <td>2.95</td>\n",
       "      <td>80.0</td>\n",
       "      <td>8</td>\n",
       "      <td>E</td>\n",
       "    </tr>\n",
       "    <tr>\n",
       "      <th>4</th>\n",
       "      <td>Pokemon Red/Pokemon Blue</td>\n",
       "      <td>GB</td>\n",
       "      <td>1996.0</td>\n",
       "      <td>Role-Playing</td>\n",
       "      <td>11.27</td>\n",
       "      <td>8.89</td>\n",
       "      <td>10.22</td>\n",
       "      <td>1.00</td>\n",
       "      <td>NaN</td>\n",
       "      <td>NaN</td>\n",
       "      <td>NaN</td>\n",
       "    </tr>\n",
       "  </tbody>\n",
       "</table>\n",
       "</div>"
      ],
      "text/plain": [
       "                       Name Platform  Year_of_Release         Genre  NA_sales  \\\n",
       "0                Wii Sports      Wii           2006.0        Sports     41.36   \n",
       "1         Super Mario Bros.      NES           1985.0      Platform     29.08   \n",
       "2            Mario Kart Wii      Wii           2008.0        Racing     15.68   \n",
       "3         Wii Sports Resort      Wii           2009.0        Sports     15.61   \n",
       "4  Pokemon Red/Pokemon Blue       GB           1996.0  Role-Playing     11.27   \n",
       "\n",
       "   EU_sales  JP_sales  Other_sales  Critic_Score User_Score Rating  \n",
       "0     28.96      3.77         8.45          76.0          8      E  \n",
       "1      3.58      6.81         0.77           NaN        NaN    NaN  \n",
       "2     12.76      3.79         3.29          82.0        8.3      E  \n",
       "3     10.93      3.28         2.95          80.0          8      E  \n",
       "4      8.89     10.22         1.00           NaN        NaN    NaN  "
      ]
     },
     "execution_count": 2,
     "metadata": {},
     "output_type": "execute_result"
    }
   ],
   "source": [
    "try:\n",
    "    data = pd.read_csv('C:/Users/rusla/Downloads/games.csv')\n",
    "except:\n",
    "    data = pd.read_csv('/datasets/games.csv')\n",
    "data.head()"
   ]
  },
  {
   "cell_type": "code",
   "execution_count": 3,
   "metadata": {},
   "outputs": [
    {
     "name": "stdout",
     "output_type": "stream",
     "text": [
      "<class 'pandas.core.frame.DataFrame'>\n",
      "RangeIndex: 16715 entries, 0 to 16714\n",
      "Data columns (total 11 columns):\n",
      " #   Column           Non-Null Count  Dtype  \n",
      "---  ------           --------------  -----  \n",
      " 0   Name             16713 non-null  object \n",
      " 1   Platform         16715 non-null  object \n",
      " 2   Year_of_Release  16446 non-null  float64\n",
      " 3   Genre            16713 non-null  object \n",
      " 4   NA_sales         16715 non-null  float64\n",
      " 5   EU_sales         16715 non-null  float64\n",
      " 6   JP_sales         16715 non-null  float64\n",
      " 7   Other_sales      16715 non-null  float64\n",
      " 8   Critic_Score     8137 non-null   float64\n",
      " 9   User_Score       10014 non-null  object \n",
      " 10  Rating           9949 non-null   object \n",
      "dtypes: float64(6), object(5)\n",
      "memory usage: 1.4+ MB\n"
     ]
    }
   ],
   "source": [
    "data.info()"
   ]
  },
  {
   "cell_type": "code",
   "execution_count": 4,
   "metadata": {},
   "outputs": [
    {
     "data": {
      "text/plain": [
       "Name                  2\n",
       "Platform              0\n",
       "Year_of_Release     269\n",
       "Genre                 2\n",
       "NA_sales              0\n",
       "EU_sales              0\n",
       "JP_sales              0\n",
       "Other_sales           0\n",
       "Critic_Score       8578\n",
       "User_Score         6701\n",
       "Rating             6766\n",
       "dtype: int64"
      ]
     },
     "execution_count": 4,
     "metadata": {},
     "output_type": "execute_result"
    }
   ],
   "source": [
    "data.isna().sum()"
   ]
  },
  {
   "cell_type": "code",
   "execution_count": 5,
   "metadata": {},
   "outputs": [
    {
     "data": {
      "image/png": "[encoded data removed]",
      "text/plain": [
       "<Figure size 720x720 with 6 Axes>"
      ]
     },
     "metadata": {},
     "output_type": "display_data"
    }
   ],
   "source": [
    "data.hist(bins=45,figsize=(10,10))\n",
    "plt.show()"
   ]
  },
  {
   "cell_type": "markdown",
   "metadata": {},
   "source": [
    "## Предобработка"
   ]
  },
  {
   "cell_type": "code",
   "execution_count": 6,
   "metadata": {},
   "outputs": [
    {
     "data": {
      "text/plain": [
       "Index(['name', 'platform', 'year_of_release', 'genre', 'na_sales', 'eu_sales',\n",
       "       'jp_sales', 'other_sales', 'critic_score', 'user_score', 'rating'],\n",
       "      dtype='object')"
      ]
     },
     "execution_count": 6,
     "metadata": {},
     "output_type": "execute_result"
    }
   ],
   "source": [
    "data.rename(str.lower, axis='columns', inplace = True)\n",
    "data.columns"
   ]
  },
  {
   "cell_type": "markdown",
   "metadata": {},
   "source": [
    "Комментарий: Cтолбец **Year_of_Release** должен быть **int**, так как год - целое число."
   ]
  },
  {
   "cell_type": "code",
   "execution_count": 7,
   "metadata": {},
   "outputs": [
    {
     "data": {
      "text/plain": [
       "name                object\n",
       "platform            object\n",
       "year_of_release      Int64\n",
       "genre               object\n",
       "na_sales           float64\n",
       "eu_sales           float64\n",
       "jp_sales           float64\n",
       "other_sales        float64\n",
       "critic_score       float64\n",
       "user_score          object\n",
       "rating              object\n",
       "dtype: object"
      ]
     },
     "execution_count": 7,
     "metadata": {},
     "output_type": "execute_result"
    }
   ],
   "source": [
    "data['year_of_release'] = data['year_of_release'].astype('Int64')\n",
    "data.dtypes"
   ]
  },
  {
   "cell_type": "markdown",
   "metadata": {},
   "source": [
    "Комментарий: Значения в столбце **user_score** tbd означает to be determined или будет опеределено. Оценка по каким то причинам еще не выялвена среди пользователей, значит такое значение можно спокойно причислить к NaN поскольку достовернного значения вытащить из этой информации не получиться. К тому же преобразуем тип во **float**"
   ]
  },
  {
   "cell_type": "code",
   "execution_count": 8,
   "metadata": {},
   "outputs": [
    {
     "name": "stdout",
     "output_type": "stream",
     "text": [
      "Количество пропусков user_score до преобразования: 6701\n",
      "Количество пропусков user_score после преобразования: 9125\n"
     ]
    }
   ],
   "source": [
    "print('Количество пропусков user_score до преобразования:',data['user_score'].isna().sum())\n",
    "data.loc[data['user_score'] == 'tbd', 'user_score'] = np.nan\n",
    "data['user_score'] = pd.to_numeric(data['user_score'], errors='coerce')\n",
    "print('Количество пропусков user_score после преобразования:',data['user_score'].isna().sum())"
   ]
  },
  {
   "cell_type": "code",
   "execution_count": 9,
   "metadata": {},
   "outputs": [
    {
     "data": {
      "text/html": [
       "<div>\n",
       "<style scoped>\n",
       "    .dataframe tbody tr th:only-of-type {\n",
       "        vertical-align: middle;\n",
       "    }\n",
       "\n",
       "    .dataframe tbody tr th {\n",
       "        vertical-align: top;\n",
       "    }\n",
       "\n",
       "    .dataframe thead th {\n",
       "        text-align: right;\n",
       "    }\n",
       "</style>\n",
       "<table border=\"1\" class=\"dataframe\">\n",
       "  <thead>\n",
       "    <tr style=\"text-align: right;\">\n",
       "      <th></th>\n",
       "      <th>name</th>\n",
       "      <th>platform</th>\n",
       "      <th>year_of_release</th>\n",
       "      <th>genre</th>\n",
       "      <th>na_sales</th>\n",
       "      <th>eu_sales</th>\n",
       "      <th>jp_sales</th>\n",
       "      <th>other_sales</th>\n",
       "      <th>critic_score</th>\n",
       "      <th>user_score</th>\n",
       "      <th>rating</th>\n",
       "    </tr>\n",
       "  </thead>\n",
       "  <tbody>\n",
       "    <tr>\n",
       "      <th>659</th>\n",
       "      <td>NaN</td>\n",
       "      <td>GEN</td>\n",
       "      <td>1993</td>\n",
       "      <td>NaN</td>\n",
       "      <td>1.78</td>\n",
       "      <td>0.53</td>\n",
       "      <td>0.00</td>\n",
       "      <td>0.08</td>\n",
       "      <td>NaN</td>\n",
       "      <td>NaN</td>\n",
       "      <td>NaN</td>\n",
       "    </tr>\n",
       "    <tr>\n",
       "      <th>14244</th>\n",
       "      <td>NaN</td>\n",
       "      <td>GEN</td>\n",
       "      <td>1993</td>\n",
       "      <td>NaN</td>\n",
       "      <td>0.00</td>\n",
       "      <td>0.00</td>\n",
       "      <td>0.03</td>\n",
       "      <td>0.00</td>\n",
       "      <td>NaN</td>\n",
       "      <td>NaN</td>\n",
       "      <td>NaN</td>\n",
       "    </tr>\n",
       "  </tbody>\n",
       "</table>\n",
       "</div>"
      ],
      "text/plain": [
       "      name platform  year_of_release genre  na_sales  eu_sales  jp_sales  \\\n",
       "659    NaN      GEN             1993   NaN      1.78      0.53      0.00   \n",
       "14244  NaN      GEN             1993   NaN      0.00      0.00      0.03   \n",
       "\n",
       "       other_sales  critic_score  user_score rating  \n",
       "659           0.08           NaN         NaN    NaN  \n",
       "14244         0.00           NaN         NaN    NaN  "
      ]
     },
     "execution_count": 9,
     "metadata": {},
     "output_type": "execute_result"
    }
   ],
   "source": [
    "data.query('name.isnull()')"
   ]
  },
  {
   "cell_type": "markdown",
   "metadata": {},
   "source": [
    "Комментарий: Всего 2 пропуска в стобце **name**, и там же пропущены **genre** и почти все другие значения, небольшая потеря."
   ]
  },
  {
   "cell_type": "code",
   "execution_count": 10,
   "metadata": {},
   "outputs": [
    {
     "name": "stdout",
     "output_type": "stream",
     "text": [
      "Количество данных до удаления: 16715\n",
      "Количество данных после удаления: 16713\n"
     ]
    }
   ],
   "source": [
    "print('Количество данных до удаления:',len(data))\n",
    "data.drop(data[data['name'].isna()].index, inplace=True)\n",
    "print('Количество данных после удаления:',len(data))"
   ]
  },
  {
   "cell_type": "markdown",
   "metadata": {},
   "source": [
    "Комментарий: Поскольку год будет играть важную роль в нашем анализе, удалим пропуски связанные с ним, их не так много. "
   ]
  },
  {
   "cell_type": "code",
   "execution_count": 11,
   "metadata": {},
   "outputs": [
    {
     "name": "stdout",
     "output_type": "stream",
     "text": [
      "Количество данных до удаления: 16713\n",
      "Количество данных после удаления: 16444\n"
     ]
    }
   ],
   "source": [
    "print('Количество данных до удаления:',len(data))\n",
    "data.drop(data[data['year_of_release'].isna()].index, inplace=True)\n",
    "print('Количество данных после удаления:',len(data))"
   ]
  },
  {
   "cell_type": "code",
   "execution_count": 12,
   "metadata": {},
   "outputs": [
    {
     "name": "stdout",
     "output_type": "stream",
     "text": [
      "Количество уникальных имен игр: 11426\n"
     ]
    }
   ],
   "source": [
    "print('Количество уникальных имен игр:',len(data['name'].unique()))"
   ]
  },
  {
   "cell_type": "markdown",
   "metadata": {},
   "source": [
    "Комментарий: Были обнаружены следующие неявные дубликаты, встает вопрос, стоит ли объединять продажи, все совпадает кроме них. Тут без пояснение того, как данные собирались не обойтись, но так как в дубликате очень мало, можно объединить, сильно на выборку не повлияет. "
   ]
  },
  {
   "cell_type": "code",
   "execution_count": 13,
   "metadata": {},
   "outputs": [
    {
     "data": {
      "text/html": [
       "<div>\n",
       "<style scoped>\n",
       "    .dataframe tbody tr th:only-of-type {\n",
       "        vertical-align: middle;\n",
       "    }\n",
       "\n",
       "    .dataframe tbody tr th {\n",
       "        vertical-align: top;\n",
       "    }\n",
       "\n",
       "    .dataframe thead th {\n",
       "        text-align: right;\n",
       "    }\n",
       "</style>\n",
       "<table border=\"1\" class=\"dataframe\">\n",
       "  <thead>\n",
       "    <tr style=\"text-align: right;\">\n",
       "      <th></th>\n",
       "      <th>name</th>\n",
       "      <th>platform</th>\n",
       "      <th>year_of_release</th>\n",
       "      <th>genre</th>\n",
       "      <th>na_sales</th>\n",
       "      <th>eu_sales</th>\n",
       "      <th>jp_sales</th>\n",
       "      <th>other_sales</th>\n",
       "      <th>critic_score</th>\n",
       "      <th>user_score</th>\n",
       "      <th>rating</th>\n",
       "    </tr>\n",
       "  </thead>\n",
       "  <tbody>\n",
       "    <tr>\n",
       "      <th>1591</th>\n",
       "      <td>Need for Speed: Most Wanted</td>\n",
       "      <td>X360</td>\n",
       "      <td>2005</td>\n",
       "      <td>Racing</td>\n",
       "      <td>1.0</td>\n",
       "      <td>0.13</td>\n",
       "      <td>0.02</td>\n",
       "      <td>0.10</td>\n",
       "      <td>83.0</td>\n",
       "      <td>8.5</td>\n",
       "      <td>T</td>\n",
       "    </tr>\n",
       "    <tr>\n",
       "      <th>11715</th>\n",
       "      <td>Need for Speed: Most Wanted</td>\n",
       "      <td>PC</td>\n",
       "      <td>2012</td>\n",
       "      <td>Racing</td>\n",
       "      <td>0.0</td>\n",
       "      <td>0.06</td>\n",
       "      <td>0.00</td>\n",
       "      <td>0.02</td>\n",
       "      <td>82.0</td>\n",
       "      <td>8.5</td>\n",
       "      <td>T</td>\n",
       "    </tr>\n",
       "    <tr>\n",
       "      <th>16230</th>\n",
       "      <td>Madden NFL 13</td>\n",
       "      <td>PS3</td>\n",
       "      <td>2012</td>\n",
       "      <td>Sports</td>\n",
       "      <td>0.0</td>\n",
       "      <td>0.01</td>\n",
       "      <td>0.00</td>\n",
       "      <td>0.00</td>\n",
       "      <td>83.0</td>\n",
       "      <td>5.5</td>\n",
       "      <td>E</td>\n",
       "    </tr>\n",
       "  </tbody>\n",
       "</table>\n",
       "</div>"
      ],
      "text/plain": [
       "                              name platform  year_of_release   genre  \\\n",
       "1591   Need for Speed: Most Wanted     X360             2005  Racing   \n",
       "11715  Need for Speed: Most Wanted       PC             2012  Racing   \n",
       "16230                Madden NFL 13      PS3             2012  Sports   \n",
       "\n",
       "       na_sales  eu_sales  jp_sales  other_sales  critic_score  user_score  \\\n",
       "1591        1.0      0.13      0.02         0.10          83.0         8.5   \n",
       "11715       0.0      0.06      0.00         0.02          82.0         8.5   \n",
       "16230       0.0      0.01      0.00         0.00          83.0         5.5   \n",
       "\n",
       "      rating  \n",
       "1591       T  \n",
       "11715      T  \n",
       "16230      E  "
      ]
     },
     "execution_count": 13,
     "metadata": {},
     "output_type": "execute_result"
    }
   ],
   "source": [
    "data[data.loc[:,['name','platform']].duplicated(keep='first')]"
   ]
  },
  {
   "cell_type": "code",
   "execution_count": 14,
   "metadata": {
    "scrolled": true
   },
   "outputs": [
    {
     "data": {
      "text/html": [
       "<div>\n",
       "<style scoped>\n",
       "    .dataframe tbody tr th:only-of-type {\n",
       "        vertical-align: middle;\n",
       "    }\n",
       "\n",
       "    .dataframe tbody tr th {\n",
       "        vertical-align: top;\n",
       "    }\n",
       "\n",
       "    .dataframe thead th {\n",
       "        text-align: right;\n",
       "    }\n",
       "</style>\n",
       "<table border=\"1\" class=\"dataframe\">\n",
       "  <thead>\n",
       "    <tr style=\"text-align: right;\">\n",
       "      <th></th>\n",
       "      <th>name</th>\n",
       "      <th>platform</th>\n",
       "      <th>year_of_release</th>\n",
       "      <th>genre</th>\n",
       "      <th>na_sales</th>\n",
       "      <th>eu_sales</th>\n",
       "      <th>jp_sales</th>\n",
       "      <th>other_sales</th>\n",
       "      <th>critic_score</th>\n",
       "      <th>user_score</th>\n",
       "      <th>rating</th>\n",
       "    </tr>\n",
       "  </thead>\n",
       "  <tbody>\n",
       "    <tr>\n",
       "      <th>604</th>\n",
       "      <td>Madden NFL 13</td>\n",
       "      <td>PS3</td>\n",
       "      <td>2012</td>\n",
       "      <td>Sports</td>\n",
       "      <td>2.11</td>\n",
       "      <td>0.22</td>\n",
       "      <td>0.00</td>\n",
       "      <td>0.23</td>\n",
       "      <td>83.0</td>\n",
       "      <td>5.5</td>\n",
       "      <td>E</td>\n",
       "    </tr>\n",
       "    <tr>\n",
       "      <th>1190</th>\n",
       "      <td>Need for Speed: Most Wanted</td>\n",
       "      <td>X360</td>\n",
       "      <td>2012</td>\n",
       "      <td>Racing</td>\n",
       "      <td>0.62</td>\n",
       "      <td>0.78</td>\n",
       "      <td>0.01</td>\n",
       "      <td>0.15</td>\n",
       "      <td>83.0</td>\n",
       "      <td>8.5</td>\n",
       "      <td>T</td>\n",
       "    </tr>\n",
       "    <tr>\n",
       "      <th>5972</th>\n",
       "      <td>Need for Speed: Most Wanted</td>\n",
       "      <td>PC</td>\n",
       "      <td>2005</td>\n",
       "      <td>Racing</td>\n",
       "      <td>0.02</td>\n",
       "      <td>0.23</td>\n",
       "      <td>0.00</td>\n",
       "      <td>0.04</td>\n",
       "      <td>82.0</td>\n",
       "      <td>8.5</td>\n",
       "      <td>T</td>\n",
       "    </tr>\n",
       "  </tbody>\n",
       "</table>\n",
       "</div>"
      ],
      "text/plain": [
       "                             name platform  year_of_release   genre  na_sales  \\\n",
       "604                 Madden NFL 13      PS3             2012  Sports      2.11   \n",
       "1190  Need for Speed: Most Wanted     X360             2012  Racing      0.62   \n",
       "5972  Need for Speed: Most Wanted       PC             2005  Racing      0.02   \n",
       "\n",
       "      eu_sales  jp_sales  other_sales  critic_score  user_score rating  \n",
       "604       0.22      0.00         0.23          83.0         5.5      E  \n",
       "1190      0.78      0.01         0.15          83.0         8.5      T  \n",
       "5972      0.23      0.00         0.04          82.0         8.5      T  "
      ]
     },
     "execution_count": 14,
     "metadata": {},
     "output_type": "execute_result"
    }
   ],
   "source": [
    "data[data.loc[:,['name','platform']].duplicated(keep='last')]"
   ]
  },
  {
   "cell_type": "code",
   "execution_count": 15,
   "metadata": {},
   "outputs": [],
   "source": [
    "duplicate_list = data[data.loc[:,['name','platform']].duplicated(keep='first')].sort_values(by=['name']).index\n",
    "origin_list = data[data.loc[:,['name','platform']].duplicated(keep='last')].sort_values(by=['name']).index\n",
    "for index in range(0,len(origin_list)):\n",
    "    data.loc[origin_list[index], ['na_sales', 'eu_sales', 'jp_sales', 'other_sales']] += \\\n",
    "    data.loc[duplicate_list[index], ['na_sales', 'eu_sales', 'jp_sales', 'other_sales']]"
   ]
  },
  {
   "cell_type": "code",
   "execution_count": 16,
   "metadata": {},
   "outputs": [
    {
     "name": "stdout",
     "output_type": "stream",
     "text": [
      "Количество данных до удаления: 16444\n",
      "Количество данных после удаления: 16441\n"
     ]
    }
   ],
   "source": [
    "print('Количество данных до удаления:',len(data))\n",
    "data.drop(data[data.loc[:,['name','platform']].duplicated(keep='first')].index, inplace=True)\n",
    "print('Количество данных после удаления:',len(data))"
   ]
  },
  {
   "cell_type": "markdown",
   "metadata": {},
   "source": [
    "Комментарий: Посмотрим сколько пропусков осталось"
   ]
  },
  {
   "cell_type": "code",
   "execution_count": 17,
   "metadata": {},
   "outputs": [
    {
     "data": {
      "text/plain": [
       "name                  0\n",
       "platform              0\n",
       "year_of_release       0\n",
       "genre                 0\n",
       "na_sales              0\n",
       "eu_sales              0\n",
       "jp_sales              0\n",
       "other_sales           0\n",
       "critic_score       8461\n",
       "user_score         8981\n",
       "rating             6676\n",
       "dtype: int64"
      ]
     },
     "execution_count": 17,
     "metadata": {},
     "output_type": "execute_result"
    }
   ],
   "source": [
    "data.isna().sum()"
   ]
  },
  {
   "cell_type": "markdown",
   "metadata": {},
   "source": [
    "Комментарий: Все NaN поменяем на Unknown, значения составляющие пренебрежительно малую часть - удалим. "
   ]
  },
  {
   "cell_type": "code",
   "execution_count": 18,
   "metadata": {},
   "outputs": [],
   "source": [
    "data['rating'].fillna('Unknown', inplace=True)"
   ]
  },
  {
   "cell_type": "code",
   "execution_count": 19,
   "metadata": {
    "scrolled": false
   },
   "outputs": [
    {
     "data": {
      "image/png": "[encoded data removed]",
      "text/plain": [
       "<Figure size 1440x1440 with 1 Axes>"
      ]
     },
     "metadata": {},
     "output_type": "display_data"
    }
   ],
   "source": [
    "data.groupby('genre')['rating'].value_counts().plot(kind='bar', figsize = (20,20), grid=True)\n",
    "plt.ylabel('number of games')\n",
    "plt.show()"
   ]
  },
  {
   "cell_type": "code",
   "execution_count": 20,
   "metadata": {},
   "outputs": [
    {
     "name": "stdout",
     "output_type": "stream",
     "text": [
      "Количество данных до удаления: 16441\n",
      "Количество данных после удаления: 16428\n"
     ]
    }
   ],
   "source": [
    "rating_to_delete = data['rating'].value_counts()[-4:].index\n",
    "print('Количество данных до удаления:',len(data))\n",
    "data.drop(data.query('rating in @rating_to_delete').index, inplace=True)\n",
    "print('Количество данных после удаления:',len(data))"
   ]
  },
  {
   "cell_type": "code",
   "execution_count": 21,
   "metadata": {},
   "outputs": [],
   "source": [
    "data.reset_index(drop=True, inplace=True)"
   ]
  },
  {
   "cell_type": "code",
   "execution_count": 22,
   "metadata": {},
   "outputs": [],
   "source": [
    "data['total_sales'] = data.loc[:,'na_sales':'other_sales'].sum(axis=1)"
   ]
  },
  {
   "cell_type": "code",
   "execution_count": 23,
   "metadata": {
    "scrolled": true
   },
   "outputs": [
    {
     "data": {
      "text/html": [
       "<div>\n",
       "<style scoped>\n",
       "    .dataframe tbody tr th:only-of-type {\n",
       "        vertical-align: middle;\n",
       "    }\n",
       "\n",
       "    .dataframe tbody tr th {\n",
       "        vertical-align: top;\n",
       "    }\n",
       "\n",
       "    .dataframe thead th {\n",
       "        text-align: right;\n",
       "    }\n",
       "</style>\n",
       "<table border=\"1\" class=\"dataframe\">\n",
       "  <thead>\n",
       "    <tr style=\"text-align: right;\">\n",
       "      <th></th>\n",
       "      <th>name</th>\n",
       "      <th>platform</th>\n",
       "      <th>year_of_release</th>\n",
       "      <th>genre</th>\n",
       "      <th>na_sales</th>\n",
       "      <th>eu_sales</th>\n",
       "      <th>jp_sales</th>\n",
       "      <th>other_sales</th>\n",
       "      <th>critic_score</th>\n",
       "      <th>user_score</th>\n",
       "      <th>rating</th>\n",
       "      <th>total_sales</th>\n",
       "    </tr>\n",
       "  </thead>\n",
       "  <tbody>\n",
       "    <tr>\n",
       "      <th>0</th>\n",
       "      <td>Wii Sports</td>\n",
       "      <td>Wii</td>\n",
       "      <td>2006</td>\n",
       "      <td>Sports</td>\n",
       "      <td>41.36</td>\n",
       "      <td>28.96</td>\n",
       "      <td>3.77</td>\n",
       "      <td>8.45</td>\n",
       "      <td>76.0</td>\n",
       "      <td>8.0</td>\n",
       "      <td>E</td>\n",
       "      <td>82.54</td>\n",
       "    </tr>\n",
       "    <tr>\n",
       "      <th>1</th>\n",
       "      <td>Super Mario Bros.</td>\n",
       "      <td>NES</td>\n",
       "      <td>1985</td>\n",
       "      <td>Platform</td>\n",
       "      <td>29.08</td>\n",
       "      <td>3.58</td>\n",
       "      <td>6.81</td>\n",
       "      <td>0.77</td>\n",
       "      <td>NaN</td>\n",
       "      <td>NaN</td>\n",
       "      <td>Unknown</td>\n",
       "      <td>40.24</td>\n",
       "    </tr>\n",
       "    <tr>\n",
       "      <th>2</th>\n",
       "      <td>Mario Kart Wii</td>\n",
       "      <td>Wii</td>\n",
       "      <td>2008</td>\n",
       "      <td>Racing</td>\n",
       "      <td>15.68</td>\n",
       "      <td>12.76</td>\n",
       "      <td>3.79</td>\n",
       "      <td>3.29</td>\n",
       "      <td>82.0</td>\n",
       "      <td>8.3</td>\n",
       "      <td>E</td>\n",
       "      <td>35.52</td>\n",
       "    </tr>\n",
       "    <tr>\n",
       "      <th>3</th>\n",
       "      <td>Wii Sports Resort</td>\n",
       "      <td>Wii</td>\n",
       "      <td>2009</td>\n",
       "      <td>Sports</td>\n",
       "      <td>15.61</td>\n",
       "      <td>10.93</td>\n",
       "      <td>3.28</td>\n",
       "      <td>2.95</td>\n",
       "      <td>80.0</td>\n",
       "      <td>8.0</td>\n",
       "      <td>E</td>\n",
       "      <td>32.77</td>\n",
       "    </tr>\n",
       "    <tr>\n",
       "      <th>4</th>\n",
       "      <td>Pokemon Red/Pokemon Blue</td>\n",
       "      <td>GB</td>\n",
       "      <td>1996</td>\n",
       "      <td>Role-Playing</td>\n",
       "      <td>11.27</td>\n",
       "      <td>8.89</td>\n",
       "      <td>10.22</td>\n",
       "      <td>1.00</td>\n",
       "      <td>NaN</td>\n",
       "      <td>NaN</td>\n",
       "      <td>Unknown</td>\n",
       "      <td>31.38</td>\n",
       "    </tr>\n",
       "  </tbody>\n",
       "</table>\n",
       "</div>"
      ],
      "text/plain": [
       "                       name platform  year_of_release         genre  na_sales  \\\n",
       "0                Wii Sports      Wii             2006        Sports     41.36   \n",
       "1         Super Mario Bros.      NES             1985      Platform     29.08   \n",
       "2            Mario Kart Wii      Wii             2008        Racing     15.68   \n",
       "3         Wii Sports Resort      Wii             2009        Sports     15.61   \n",
       "4  Pokemon Red/Pokemon Blue       GB             1996  Role-Playing     11.27   \n",
       "\n",
       "   eu_sales  jp_sales  other_sales  critic_score  user_score   rating  \\\n",
       "0     28.96      3.77         8.45          76.0         8.0        E   \n",
       "1      3.58      6.81         0.77           NaN         NaN  Unknown   \n",
       "2     12.76      3.79         3.29          82.0         8.3        E   \n",
       "3     10.93      3.28         2.95          80.0         8.0        E   \n",
       "4      8.89     10.22         1.00           NaN         NaN  Unknown   \n",
       "\n",
       "   total_sales  \n",
       "0        82.54  \n",
       "1        40.24  \n",
       "2        35.52  \n",
       "3        32.77  \n",
       "4        31.38  "
      ]
     },
     "execution_count": 23,
     "metadata": {},
     "output_type": "execute_result"
    }
   ],
   "source": [
    "data.head()"
   ]
  },
  {
   "cell_type": "markdown",
   "metadata": {},
   "source": [
    "## Исследовательский анализ"
   ]
  },
  {
   "cell_type": "code",
   "execution_count": 24,
   "metadata": {
    "scrolled": true
   },
   "outputs": [
    {
     "data": {
      "image/png": "[encoded data removed]",
      "text/plain": [
       "<Figure size 1296x432 with 1 Axes>"
      ]
     },
     "metadata": {},
     "output_type": "display_data"
    }
   ],
   "source": [
    "data.groupby('year_of_release')['name'].agg('count').plot(kind='bar', figsize=(18,6), rot=0, grid = True)\n",
    "plt.ylabel('number of games')\n",
    "plt.show()"
   ]
  },
  {
   "cell_type": "markdown",
   "metadata": {},
   "source": [
    "Комментарий: Данные за все периоды не важны, поскольку рынок меняется, технологии меняются и т.д. С 2009 года количество выходящий игр стало уменьшаться, рынок изменился, как минимум поэтому данные до этого промежутка нам точно интересны, в 2012 произошел скачок, количество выходящих игр уменьшилось почти на половину, по сравнению с 2011 годом. Последние 3 года самый оптимальный выбор для актуального периода."
   ]
  },
  {
   "cell_type": "code",
   "execution_count": 25,
   "metadata": {
    "scrolled": true
   },
   "outputs": [
    {
     "data": {
      "image/png": "[encoded data removed]",
      "text/plain": [
       "<Figure size 1296x432 with 1 Axes>"
      ]
     },
     "metadata": {},
     "output_type": "display_data"
    }
   ],
   "source": [
    "data.groupby('platform')['total_sales'].sum().sort_values().plot(kind='bar', figsize=(18,6), rot=0, grid=True)\n",
    "plt.ylabel('number of games')\n",
    "plt.show()"
   ]
  },
  {
   "cell_type": "code",
   "execution_count": 26,
   "metadata": {},
   "outputs": [
    {
     "data": {
      "text/plain": [
       "<AxesSubplot:xlabel='platform', ylabel='year_of_release'>"
      ]
     },
     "execution_count": 26,
     "metadata": {},
     "output_type": "execute_result"
    },
    {
     "data": {
      "image/png": "[encoded data removed]",
      "text/plain": [
       "<Figure size 432x288 with 2 Axes>"
      ]
     },
     "metadata": {},
     "output_type": "display_data"
    }
   ],
   "source": [
    "biggest_platform = data.groupby('platform')['total_sales'].sum().sort_values().index[-6:]\n",
    "data_biggest_platform = data.query('platform in @biggest_platform')\n",
    "pivot_platform = data_biggest_platform.pivot_table(index='year_of_release', \n",
    "                                                   columns='platform', values='total_sales', aggfunc='sum')\n",
    "sns.heatmap(pivot_platform, cmap='Blues')\n"
   ]
  },
  {
   "cell_type": "code",
   "execution_count": 27,
   "metadata": {},
   "outputs": [
    {
     "name": "stdout",
     "output_type": "stream",
     "text": [
      "Cредняя продолжительности жизни платформы: 7.612903225806452\n"
     ]
    }
   ],
   "source": [
    "print('Cредняя продолжительности жизни платформы:', end=' ')\n",
    "print((data.groupby('platform')['year_of_release'].max() - data.groupby('platform')['year_of_release'].min()).mean())"
   ]
  },
  {
   "cell_type": "code",
   "execution_count": 28,
   "metadata": {},
   "outputs": [],
   "source": [
    "data_actual = data.query('year_of_release >= 2014')"
   ]
  },
  {
   "cell_type": "markdown",
   "metadata": {},
   "source": [
    "Комментарий: Выберем потенциально прибыльные платформы"
   ]
  },
  {
   "cell_type": "code",
   "execution_count": 29,
   "metadata": {},
   "outputs": [
    {
     "data": {
      "text/plain": [
       "<AxesSubplot:xlabel='platform', ylabel='year_of_release'>"
      ]
     },
     "execution_count": 29,
     "metadata": {},
     "output_type": "execute_result"
    },
    {
     "data": {
      "image/png": "[encoded data removed]",
      "text/plain": [
       "<Figure size 432x288 with 2 Axes>"
      ]
     },
     "metadata": {},
     "output_type": "display_data"
    }
   ],
   "source": [
    "sns.heatmap(data_actual.pivot_table(index='year_of_release', columns='platform', \n",
    "                                    values='total_sales', aggfunc='sum'), cmap='Blues')"
   ]
  },
  {
   "cell_type": "markdown",
   "metadata": {},
   "source": [
    "Комментарий: Как видно на графкие, на пике находятся **PS4** и **Xone**, они вытеснили **PS3** и **X360**. Можно в качестве 3 платформы взять **3DS**, не считая гигантов, у нее лучше показатели среди остальных."
   ]
  },
  {
   "cell_type": "code",
   "execution_count": 30,
   "metadata": {},
   "outputs": [
    {
     "data": {
      "image/png": "[encoded data removed]",
      "text/plain": [
       "<Figure size 432x576 with 2 Axes>"
      ]
     },
     "metadata": {},
     "output_type": "display_data"
    }
   ],
   "source": [
    "most_sales_platform = ['PS4', 'XOne', '3DS']\n",
    "fig_1, (ax1, ax2) = plt.subplots(2,1, figsize=(6,8))\n",
    "sns.boxplot(ax = ax1,x='platform', y='total_sales',data=data_actual.query('platform in @most_sales_platform'))\n",
    "sns.boxplot(ax = ax2, x='platform', y='total_sales',data=data_actual.query('platform in @most_sales_platform'))\n",
    "ax2.set_ylim(0,2)\n",
    "plt.show()"
   ]
  },
  {
   "cell_type": "markdown",
   "metadata": {},
   "source": [
    "Комментарий: Мы имеем довольно неплохое количество выбросов продаж, причем по всем платформам, скорее всего это просто очень продаваемые игры, гораздо лучше медианного значения, это вполне возможно. Первый квантиль очень близко к нулю, что дополнительно говорит нам что большая часть продаж гораздо меньше."
   ]
  },
  {
   "cell_type": "markdown",
   "metadata": {},
   "source": [
    "Комментарий: Самая популярная платформа это PS4, на ее данных рассмотрим связь "
   ]
  },
  {
   "cell_type": "code",
   "execution_count": 31,
   "metadata": {},
   "outputs": [
    {
     "data": {
      "image/png": "[encoded data removed]",
      "text/plain": [
       "<Figure size 432x576 with 2 Axes>"
      ]
     },
     "metadata": {},
     "output_type": "display_data"
    }
   ],
   "source": [
    "fig_2, (ax1, ax2) = plt.subplots(2,1, figsize=(6,8))\n",
    "data_actual[data_actual['platform'] == 'PS4'].plot(ax = ax1, x='total_sales', y='critic_score', kind='scatter', grid=True)\n",
    "data_actual[data_actual['platform'] == 'PS4'].plot(ax = ax2, x='total_sales', y='user_score', kind='scatter', grid=True)\n",
    "ax1.set_title('platform PS4')\n",
    "plt.show()"
   ]
  },
  {
   "cell_type": "markdown",
   "metadata": {},
   "source": [
    "Комментарий: Таким образом оценки пользователей не оказывают влиятния на продажи, а вот критиков оказывают, но не сильно. К тому же, диаграммы рассеивания показывают как раз выбросы продаж, какие были на графиках **boxplot**."
   ]
  },
  {
   "cell_type": "code",
   "execution_count": 32,
   "metadata": {},
   "outputs": [
    {
     "data": {
      "text/html": [
       "<div>\n",
       "<style scoped>\n",
       "    .dataframe tbody tr th:only-of-type {\n",
       "        vertical-align: middle;\n",
       "    }\n",
       "\n",
       "    .dataframe tbody tr th {\n",
       "        vertical-align: top;\n",
       "    }\n",
       "\n",
       "    .dataframe thead th {\n",
       "        text-align: right;\n",
       "    }\n",
       "</style>\n",
       "<table border=\"1\" class=\"dataframe\">\n",
       "  <thead>\n",
       "    <tr style=\"text-align: right;\">\n",
       "      <th></th>\n",
       "      <th>critic_score</th>\n",
       "      <th>user_score</th>\n",
       "    </tr>\n",
       "    <tr>\n",
       "      <th>platform</th>\n",
       "      <th></th>\n",
       "      <th></th>\n",
       "    </tr>\n",
       "  </thead>\n",
       "  <tbody>\n",
       "    <tr>\n",
       "      <th>PS4</th>\n",
       "      <td>237</td>\n",
       "      <td>242</td>\n",
       "    </tr>\n",
       "    <tr>\n",
       "      <th>XOne</th>\n",
       "      <td>155</td>\n",
       "      <td>165</td>\n",
       "    </tr>\n",
       "    <tr>\n",
       "      <th>PC</th>\n",
       "      <td>116</td>\n",
       "      <td>122</td>\n",
       "    </tr>\n",
       "    <tr>\n",
       "      <th>PSV</th>\n",
       "      <td>54</td>\n",
       "      <td>73</td>\n",
       "    </tr>\n",
       "    <tr>\n",
       "      <th>3DS</th>\n",
       "      <td>51</td>\n",
       "      <td>55</td>\n",
       "    </tr>\n",
       "    <tr>\n",
       "      <th>WiiU</th>\n",
       "      <td>43</td>\n",
       "      <td>48</td>\n",
       "    </tr>\n",
       "    <tr>\n",
       "      <th>PS3</th>\n",
       "      <td>36</td>\n",
       "      <td>98</td>\n",
       "    </tr>\n",
       "    <tr>\n",
       "      <th>X360</th>\n",
       "      <td>26</td>\n",
       "      <td>83</td>\n",
       "    </tr>\n",
       "    <tr>\n",
       "      <th>PSP</th>\n",
       "      <td>0</td>\n",
       "      <td>0</td>\n",
       "    </tr>\n",
       "    <tr>\n",
       "      <th>Wii</th>\n",
       "      <td>0</td>\n",
       "      <td>2</td>\n",
       "    </tr>\n",
       "  </tbody>\n",
       "</table>\n",
       "</div>"
      ],
      "text/plain": [
       "          critic_score  user_score\n",
       "platform                          \n",
       "PS4                237         242\n",
       "XOne               155         165\n",
       "PC                 116         122\n",
       "PSV                 54          73\n",
       "3DS                 51          55\n",
       "WiiU                43          48\n",
       "PS3                 36          98\n",
       "X360                26          83\n",
       "PSP                  0           0\n",
       "Wii                  0           2"
      ]
     },
     "execution_count": 32,
     "metadata": {},
     "output_type": "execute_result"
    }
   ],
   "source": [
    "data_actual.groupby('platform')[['critic_score','user_score']].count().sort_values(['critic_score'], ascending=False)"
   ]
  },
  {
   "cell_type": "code",
   "execution_count": 33,
   "metadata": {},
   "outputs": [],
   "source": [
    "corr_data = pd.DataFrame()\n",
    "for platform in data_actual.groupby('platform')[['critic_score','user_score']].count().sort_values(['critic_score'], ascending=False).index[:8]:\n",
    "    temp_row = {'platform':platform, \n",
    "                'critic_score_corr':data_actual.loc[data_actual['platform'] == platform, 'critic_score']\n",
    "                .corr(data_actual.loc[data_actual['platform'] == platform, 'total_sales']),\n",
    "                'user_score_corr':data_actual.loc[data_actual['platform'] == platform, 'user_score']\n",
    "                .corr(data_actual.loc[data_actual['platform'] == platform, 'total_sales'])}\n",
    "    corr_data = corr_data.append(temp_row, ignore_index = True)"
   ]
  },
  {
   "cell_type": "code",
   "execution_count": 34,
   "metadata": {},
   "outputs": [
    {
     "data": {
      "text/html": [
       "<div>\n",
       "<style scoped>\n",
       "    .dataframe tbody tr th:only-of-type {\n",
       "        vertical-align: middle;\n",
       "    }\n",
       "\n",
       "    .dataframe tbody tr th {\n",
       "        vertical-align: top;\n",
       "    }\n",
       "\n",
       "    .dataframe thead th {\n",
       "        text-align: right;\n",
       "    }\n",
       "</style>\n",
       "<table border=\"1\" class=\"dataframe\">\n",
       "  <thead>\n",
       "    <tr style=\"text-align: right;\">\n",
       "      <th></th>\n",
       "      <th>critic_score_corr</th>\n",
       "      <th>platform</th>\n",
       "      <th>user_score_corr</th>\n",
       "    </tr>\n",
       "  </thead>\n",
       "  <tbody>\n",
       "    <tr>\n",
       "      <th>0</th>\n",
       "      <td>0.402661</td>\n",
       "      <td>PS4</td>\n",
       "      <td>-0.040132</td>\n",
       "    </tr>\n",
       "    <tr>\n",
       "      <th>1</th>\n",
       "      <td>0.428677</td>\n",
       "      <td>XOne</td>\n",
       "      <td>-0.070384</td>\n",
       "    </tr>\n",
       "    <tr>\n",
       "      <th>2</th>\n",
       "      <td>0.174634</td>\n",
       "      <td>PC</td>\n",
       "      <td>-0.071597</td>\n",
       "    </tr>\n",
       "    <tr>\n",
       "      <th>3</th>\n",
       "      <td>0.042665</td>\n",
       "      <td>PSV</td>\n",
       "      <td>-0.168455</td>\n",
       "    </tr>\n",
       "    <tr>\n",
       "      <th>4</th>\n",
       "      <td>0.314117</td>\n",
       "      <td>3DS</td>\n",
       "      <td>0.215193</td>\n",
       "    </tr>\n",
       "    <tr>\n",
       "      <th>5</th>\n",
       "      <td>0.370201</td>\n",
       "      <td>WiiU</td>\n",
       "      <td>0.407926</td>\n",
       "    </tr>\n",
       "    <tr>\n",
       "      <th>6</th>\n",
       "      <td>0.446575</td>\n",
       "      <td>PS3</td>\n",
       "      <td>-0.166761</td>\n",
       "    </tr>\n",
       "    <tr>\n",
       "      <th>7</th>\n",
       "      <td>0.525723</td>\n",
       "      <td>X360</td>\n",
       "      <td>-0.138445</td>\n",
       "    </tr>\n",
       "  </tbody>\n",
       "</table>\n",
       "</div>"
      ],
      "text/plain": [
       "   critic_score_corr platform  user_score_corr\n",
       "0           0.402661      PS4        -0.040132\n",
       "1           0.428677     XOne        -0.070384\n",
       "2           0.174634       PC        -0.071597\n",
       "3           0.042665      PSV        -0.168455\n",
       "4           0.314117      3DS         0.215193\n",
       "5           0.370201     WiiU         0.407926\n",
       "6           0.446575      PS3        -0.166761\n",
       "7           0.525723     X360        -0.138445"
      ]
     },
     "execution_count": 34,
     "metadata": {},
     "output_type": "execute_result"
    }
   ],
   "source": [
    "corr_data"
   ]
  },
  {
   "cell_type": "code",
   "execution_count": 35,
   "metadata": {},
   "outputs": [
    {
     "data": {
      "image/png": "[encoded data removed]",
      "text/plain": [
       "<Figure size 432x288 with 1 Axes>"
      ]
     },
     "metadata": {},
     "output_type": "display_data"
    },
    {
     "data": {
      "image/png": "[encoded data removed]",
      "text/plain": [
       "<Figure size 432x288 with 1 Axes>"
      ]
     },
     "metadata": {},
     "output_type": "display_data"
    }
   ],
   "source": [
    "sns.lineplot(data=corr_data, x='platform', y = 'critic_score_corr')\n",
    "plt.show()\n",
    "\n",
    "sns.lineplot(data=corr_data, x='platform', y = 'user_score_corr')\n",
    "plt.show()"
   ]
  },
  {
   "cell_type": "markdown",
   "metadata": {},
   "source": [
    "Комментарий: На данных графиках мы можем увидеть как меняется корреляция продаж от оценок критиков и пользователей в зависимости от платформы. Аномальными относительно остальных я считаю стоит выделить для **critic_score** платформы **PC**, **PSV** и **3DS**. Для **user_score** платформы **3DS** и **WiiU**. С помощью данных графиков можно понять как пользователи доверяют оценкам на различных платформы."
   ]
  },
  {
   "cell_type": "code",
   "execution_count": 36,
   "metadata": {},
   "outputs": [
    {
     "data": {
      "image/png": "[encoded data removed]",
      "text/plain": [
       "<Figure size 432x576 with 2 Axes>"
      ]
     },
     "metadata": {},
     "output_type": "display_data"
    }
   ],
   "source": [
    "fig_3, (ax1, ax2) = plt.subplots(2,1, figsize=(6,8))\n",
    "data_actual.plot(ax = ax1, x='total_sales', y='critic_score', kind='scatter',grid=True)\n",
    "data_actual.plot(ax = ax2, x='total_sales', y='user_score', kind='scatter',grid=True)\n",
    "ax1.set_title('all platforms')\n",
    "plt.show()\n",
    "    "
   ]
  },
  {
   "cell_type": "markdown",
   "metadata": {},
   "source": [
    "Комментарий: Если рассматривать все платформы, то на обоих графиках мы наблюдаем большое скопление около 0 по оси **x** (**total_sales**). Однако? обратив внимание на график рассеивание **total_sales** от **critic_score** в интервале **total_sales** [2, 12] все значения находятся выше отметки в **60** по **critic_score**, когда на графике рассеивания **total_sales** от **user_score** в таком же интервале более хаотическое рассеивание. Можно сделать вывод, что в совокупности, на продажи больше влияет оценки критиков, нежели пользователей."
   ]
  },
  {
   "cell_type": "code",
   "execution_count": 37,
   "metadata": {},
   "outputs": [
    {
     "data": {
      "image/png": "[encoded data removed]",
      "text/plain": [
       "<Figure size 936x432 with 1 Axes>"
      ]
     },
     "metadata": {},
     "output_type": "display_data"
    }
   ],
   "source": [
    "data_actual.groupby('genre')['total_sales'].sum().sort_values().plot(kind='bar', figsize=(13,6), rot=0, grid=True)\n",
    "plt.ylabel('number of sales')\n",
    "plt.show()"
   ]
  },
  {
   "cell_type": "code",
   "execution_count": 38,
   "metadata": {},
   "outputs": [
    {
     "data": {
      "text/html": [
       "<div>\n",
       "<style scoped>\n",
       "    .dataframe tbody tr th:only-of-type {\n",
       "        vertical-align: middle;\n",
       "    }\n",
       "\n",
       "    .dataframe tbody tr th {\n",
       "        vertical-align: top;\n",
       "    }\n",
       "\n",
       "    .dataframe thead th {\n",
       "        text-align: right;\n",
       "    }\n",
       "</style>\n",
       "<table border=\"1\" class=\"dataframe\">\n",
       "  <thead>\n",
       "    <tr style=\"text-align: right;\">\n",
       "      <th></th>\n",
       "      <th>mean</th>\n",
       "      <th>median</th>\n",
       "    </tr>\n",
       "    <tr>\n",
       "      <th>genre</th>\n",
       "      <th></th>\n",
       "      <th></th>\n",
       "    </tr>\n",
       "  </thead>\n",
       "  <tbody>\n",
       "    <tr>\n",
       "      <th>Action</th>\n",
       "      <td>0.322068</td>\n",
       "      <td>0.090</td>\n",
       "    </tr>\n",
       "    <tr>\n",
       "      <th>Adventure</th>\n",
       "      <td>0.094865</td>\n",
       "      <td>0.030</td>\n",
       "    </tr>\n",
       "    <tr>\n",
       "      <th>Fighting</th>\n",
       "      <td>0.470333</td>\n",
       "      <td>0.125</td>\n",
       "    </tr>\n",
       "    <tr>\n",
       "      <th>Misc</th>\n",
       "      <td>0.332301</td>\n",
       "      <td>0.090</td>\n",
       "    </tr>\n",
       "    <tr>\n",
       "      <th>Platform</th>\n",
       "      <td>0.476053</td>\n",
       "      <td>0.140</td>\n",
       "    </tr>\n",
       "    <tr>\n",
       "      <th>Puzzle</th>\n",
       "      <td>0.157857</td>\n",
       "      <td>0.045</td>\n",
       "    </tr>\n",
       "    <tr>\n",
       "      <th>Racing</th>\n",
       "      <td>0.398841</td>\n",
       "      <td>0.090</td>\n",
       "    </tr>\n",
       "    <tr>\n",
       "      <th>Role-Playing</th>\n",
       "      <td>0.459005</td>\n",
       "      <td>0.110</td>\n",
       "    </tr>\n",
       "    <tr>\n",
       "      <th>Shooter</th>\n",
       "      <td>1.335469</td>\n",
       "      <td>0.515</td>\n",
       "    </tr>\n",
       "    <tr>\n",
       "      <th>Simulation</th>\n",
       "      <td>0.298409</td>\n",
       "      <td>0.100</td>\n",
       "    </tr>\n",
       "    <tr>\n",
       "      <th>Sports</th>\n",
       "      <td>0.680000</td>\n",
       "      <td>0.180</td>\n",
       "    </tr>\n",
       "    <tr>\n",
       "      <th>Strategy</th>\n",
       "      <td>0.107027</td>\n",
       "      <td>0.060</td>\n",
       "    </tr>\n",
       "  </tbody>\n",
       "</table>\n",
       "</div>"
      ],
      "text/plain": [
       "                  mean  median\n",
       "genre                         \n",
       "Action        0.322068   0.090\n",
       "Adventure     0.094865   0.030\n",
       "Fighting      0.470333   0.125\n",
       "Misc          0.332301   0.090\n",
       "Platform      0.476053   0.140\n",
       "Puzzle        0.157857   0.045\n",
       "Racing        0.398841   0.090\n",
       "Role-Playing  0.459005   0.110\n",
       "Shooter       1.335469   0.515\n",
       "Simulation    0.298409   0.100\n",
       "Sports        0.680000   0.180\n",
       "Strategy      0.107027   0.060"
      ]
     },
     "execution_count": 38,
     "metadata": {},
     "output_type": "execute_result"
    }
   ],
   "source": [
    "data_actual.groupby('genre')['total_sales'].agg(['mean', 'median'])"
   ]
  },
  {
   "cell_type": "code",
   "execution_count": 39,
   "metadata": {
    "scrolled": false
   },
   "outputs": [
    {
     "data": {
      "image/png": "[encoded data removed]",
      "text/plain": [
       "<Figure size 864x432 with 1 Axes>"
      ]
     },
     "metadata": {},
     "output_type": "display_data"
    },
    {
     "data": {
      "image/png": "[encoded data removed]",
      "text/plain": [
       "<Figure size 864x432 with 1 Axes>"
      ]
     },
     "metadata": {},
     "output_type": "display_data"
    }
   ],
   "source": [
    "data_actual.groupby('genre')['total_sales'].mean().plot(kind='bar', figsize=(12,6), grid=True, rot=0)\n",
    "plt.ylabel('mean')\n",
    "plt.show()\n",
    "data_actual.groupby('genre')['total_sales'].median().plot(kind='bar', figsize=(12,6), grid=True, rot=0)\n",
    "plt.ylabel('median')\n",
    "plt.show()"
   ]
  },
  {
   "cell_type": "code",
   "execution_count": 40,
   "metadata": {},
   "outputs": [
    {
     "data": {
      "image/png": "[encoded data removed]",
      "text/plain": [
       "<Figure size 936x576 with 1 Axes>"
      ]
     },
     "metadata": {},
     "output_type": "display_data"
    }
   ],
   "source": [
    "fig, ax = plt.subplots(figsize=(13,8))\n",
    "sns.boxplot(ax =ax, data=data_actual, x='genre', y='total_sales')\n",
    "plt.show()"
   ]
  },
  {
   "cell_type": "markdown",
   "metadata": {},
   "source": [
    "Комментарий: Самым прибыльным жанром является **Shooter**, с самыми низкой прибыльностью **Adventure**. **Shooter** выделяется по всем параметрам, в том время как **Action** имеет более высокое количество продаж, но прибыльность на уровне остальных жанров."
   ]
  },
  {
   "cell_type": "markdown",
   "metadata": {},
   "source": [
    "## Портрет пользователя каждого региона"
   ]
  },
  {
   "cell_type": "markdown",
   "metadata": {},
   "source": [
    "### Самые популярные платформы (топ-5)"
   ]
  },
  {
   "cell_type": "code",
   "execution_count": 41,
   "metadata": {
    "scrolled": false
   },
   "outputs": [
    {
     "data": {
      "image/png": "[encoded data removed]",
      "text/plain": [
       "<Figure size 1152x1152 with 3 Axes>"
      ]
     },
     "metadata": {},
     "output_type": "display_data"
    }
   ],
   "source": [
    "fig_4, (ax1, ax2, ax3) = plt.subplots(3,1, figsize=(16,16))\n",
    "data_actual.replace(['PSV', 'Wii', 'PSP'], 'other')\\\n",
    ".groupby('platform')['na_sales'].sum().sort_values().plot(ax = ax1, kind='pie', grid=True, autopct='%1.0f%%')\n",
    "ax1.set_title('NA region most popular platform')\n",
    "ax1.set_ylabel('')\n",
    "data_actual.replace(['PSV', 'Wii', 'PSP'], 'other')\\\n",
    ".groupby('platform')['eu_sales'].sum().sort_values().plot(ax = ax2, kind='pie', grid=True, autopct='%1.0f%%')\n",
    "ax2.set_title('EU region most popular platform')\n",
    "ax2.set_ylabel('')\n",
    "data_actual.replace(['PC', 'Wii', 'X360', 'XOne', 'PSP'], 'other')\\\n",
    ".groupby('platform')['jp_sales'].sum().sort_values().plot(ax = ax3, kind='pie', grid=True, autopct='%1.0f%%')\n",
    "ax3.set_title('JP region most popular platform')\n",
    "ax3.set_ylabel('')\n",
    "plt.show()"
   ]
  },
  {
   "cell_type": "markdown",
   "metadata": {},
   "source": [
    "Комментарий: В регионе **NA** побеждает **PS4**, однако **XOne** не отстает, в регионе **EU** с большим отрывом лидирует **PS4**, а вот регион **JP** удивляет, там лидирует **3DS**."
   ]
  },
  {
   "cell_type": "markdown",
   "metadata": {},
   "source": [
    "### Самые популярные жанры (топ-5)"
   ]
  },
  {
   "cell_type": "code",
   "execution_count": 42,
   "metadata": {},
   "outputs": [
    {
     "data": {
      "image/png": "[encoded data removed]",
      "text/plain": [
       "<Figure size 1152x1152 with 3 Axes>"
      ]
     },
     "metadata": {},
     "output_type": "display_data"
    }
   ],
   "source": [
    "fig_5, (ax1, ax2, ax3) = plt.subplots(3,1, figsize=(16,16))\n",
    "data_actual.groupby('genre')['na_sales'].sum().sort_values()[-5:].plot(ax=ax1, kind='bar', rot=0, grid=True)\n",
    "ax1.set_title('NA region popular genre')\n",
    "ax1.set_ylabel('sales')\n",
    "data_actual.groupby('genre')['eu_sales'].sum().sort_values()[-5:].plot(ax=ax2, kind='bar', rot=0, grid=True)\n",
    "ax2.set_title('EU region popular genre')\n",
    "ax2.set_ylabel('sales')\n",
    "data_actual.groupby('genre')['jp_sales'].sum().sort_values()[-5:].plot(ax=ax3, kind='bar', rot=0, grid=True)\n",
    "ax3.set_title('JP region popular genre')\n",
    "ax3.set_ylabel('sales')\n",
    "plt.show()"
   ]
  },
  {
   "cell_type": "code",
   "execution_count": 43,
   "metadata": {
    "scrolled": true
   },
   "outputs": [
    {
     "name": "stdout",
     "output_type": "stream",
     "text": [
      "Самые популярные жанры для NA: ['Shooter', 'Action', 'Sports', 'Role-Playing', 'Misc']\n",
      "----------------------------------------------------------------------------------------------------------------\n",
      "Самые популярные жанры для EU: ['Action', 'Shooter', 'Sports', 'Role-Playing', 'Racing']\n",
      "----------------------------------------------------------------------------------------------------------------\n",
      "Самые популярные жанры для JP: ['Role-Playing', 'Action', 'Fighting', 'Misc', 'Shooter']\n"
     ]
    }
   ],
   "source": [
    "print('Самые популярные жанры для NA:', data_actual.groupby('genre')['na_sales'].sum().sort_values(ascending=False)[:5].index.to_list())\n",
    "print('----------------------------------------------------------------------------------------------------------------')\n",
    "print('Самые популярные жанры для EU:', data_actual.groupby('genre')['eu_sales'].sum().sort_values(ascending=False)[:5].index.to_list())\n",
    "print('----------------------------------------------------------------------------------------------------------------')\n",
    "print('Самые популярные жанры для JP:', data_actual.groupby('genre')['jp_sales'].sum().sort_values(ascending=False)[:5].index.to_list())"
   ]
  },
  {
   "cell_type": "markdown",
   "metadata": {},
   "source": [
    "Комментарий: Топ-5 популярных жанров в регионах **NA** и **EU** практически идентичны, а вот **JP** сильно отличается распределением, где очень сильно доминирует 2 жанра, причем один из которых **Role-Playing**, но если сравнивать по цифрам, то он продается примерно одинаково во всех регионах. Вопросов скорее всего культурных предпочтений, а также того, что население **JP** региона гораздо меньше других рассматриваемых."
   ]
  },
  {
   "cell_type": "markdown",
   "metadata": {},
   "source": [
    "### Рейтинг ESRB на продажи в отдельном регионе"
   ]
  },
  {
   "cell_type": "code",
   "execution_count": 44,
   "metadata": {},
   "outputs": [
    {
     "data": {
      "text/plain": [
       "na_sales    284.06\n",
       "eu_sales    270.68\n",
       "jp_sales     93.09\n",
       "dtype: float64"
      ]
     },
     "execution_count": 44,
     "metadata": {},
     "output_type": "execute_result"
    }
   ],
   "source": [
    "data_actual[['na_sales', 'eu_sales', 'jp_sales']].sum()"
   ]
  },
  {
   "cell_type": "code",
   "execution_count": 45,
   "metadata": {},
   "outputs": [
    {
     "data": {
      "image/png": "[encoded data removed]",
      "text/plain": [
       "<Figure size 576x432 with 1 Axes>"
      ]
     },
     "metadata": {},
     "output_type": "display_data"
    },
    {
     "data": {
      "image/png": "[encoded data removed]",
      "text/plain": [
       "<Figure size 576x432 with 1 Axes>"
      ]
     },
     "metadata": {},
     "output_type": "display_data"
    },
    {
     "data": {
      "image/png": "[encoded data removed]",
      "text/plain": [
       "<Figure size 576x432 with 1 Axes>"
      ]
     },
     "metadata": {},
     "output_type": "display_data"
    }
   ],
   "source": [
    "for sales in ['na_sales', 'eu_sales', 'jp_sales']:\n",
    "    data_actual.groupby('rating')[sales].sum().sort_values().plot(kind='bar', rot=0, grid=True, figsize=(8,6))\n",
    "    plt.ylabel(sales)\n",
    "    plt.show()"
   ]
  },
  {
   "cell_type": "markdown",
   "metadata": {},
   "source": [
    "Комментарий: В регионе **NA** и **EU** популярный рейтинг **M**, на втором месте **Unknown**, в регионе **JP** подавляющее большинство приходится на **Unknown**. Возможно это связано с регулировкой возрастный ограничений в этом регионе, она может не такая жесткая как в **NA** и **EU**, хотя там тоже довольно много **Unknown**."
   ]
  },
  {
   "cell_type": "markdown",
   "metadata": {},
   "source": [
    "## Гипотезы"
   ]
  },
  {
   "cell_type": "markdown",
   "metadata": {},
   "source": [
    "### Средние пользовательские рейтинги платформ Xbox One и PC одинаковые"
   ]
  },
  {
   "cell_type": "markdown",
   "metadata": {},
   "source": [
    "Комментарий: Параметр оценки **alpha** зададим 0.5, и будем им пользоваться при всех гипотезах.\n",
    "\n",
    "$H_{0}$ - Средние пользовательские рейтинги платформ Xbox One и PC одинаковые\n",
    "\n",
    "$H_{1}$ - Средние пользовательские рейтинги платформ Xbox One и PC разные"
   ]
  },
  {
   "cell_type": "code",
   "execution_count": 46,
   "metadata": {},
   "outputs": [],
   "source": [
    "alpha = 0.05"
   ]
  },
  {
   "cell_type": "code",
   "execution_count": 47,
   "metadata": {},
   "outputs": [
    {
     "name": "stdout",
     "output_type": "stream",
     "text": [
      "Не получилось отвергнуть нулевую гипотезу\n"
     ]
    }
   ],
   "source": [
    "result_1 = st.ttest_ind(data_actual[data_actual['platform'] == 'XOne']['user_score'].dropna(),\n",
    "                        data_actual[data_actual['platform'] == 'PC']['user_score'].dropna())\n",
    "error = abs(1 - data_actual[data_actual['platform'] == 'PC']['user_score']\n",
    "         .dropna().mean()/data_actual[data_actual['platform'] == 'XOne']['user_score'].dropna().mean())\n",
    "if (result_1.pvalue/2 < alpha and error > alpha):\n",
    "    print(\"Отвергаем нулевую гипотезу\")\n",
    "else:\n",
    "    print(\"Не получилось отвергнуть нулевую гипотезу\")"
   ]
  },
  {
   "cell_type": "markdown",
   "metadata": {},
   "source": [
    "Комментарий: У нас две независимые выборки, кроме того, при проверке дополнительно на равенство средних была введена погрешность **error**, у нас величины дробные, поэтому равенство их возможно только с некоторой точность, была выбрана точность **alpha**, погрешность в 5% оптимально. "
   ]
  },
  {
   "cell_type": "markdown",
   "metadata": {},
   "source": [
    "### Средние пользовательские рейтинги жанров Action и Sports разные."
   ]
  },
  {
   "cell_type": "markdown",
   "metadata": {},
   "source": [
    "Комментарий:\n",
    "\n",
    "$H_{0}$ - Средние пользовательские рейтинги жанров Action и Sports одинаковые\n",
    "\n",
    "$H_{1}$ - Средние пользовательские рейтинги жанров Action и Sports разные"
   ]
  },
  {
   "cell_type": "code",
   "execution_count": 51,
   "metadata": {},
   "outputs": [
    {
     "name": "stdout",
     "output_type": "stream",
     "text": [
      "Отвергаем нулевую гипотезу\n"
     ]
    }
   ],
   "source": [
    "result_2 = st.ttest_ind(data_actual[data_actual['genre'] == 'Action']['user_score'].dropna(),\n",
    "                        data_actual[data_actual['genre'] == 'Sports']['user_score'].dropna())\n",
    "error = abs(1 - data_actual[data_actual['genre'] == 'Action']['user_score']\n",
    "         .dropna().mean()/data_actual[data_actual['genre'] == 'Sports']['user_score'].dropna().mean())\n",
    "if (result_2.pvalue/2 < alpha and error > alpha):\n",
    "    print(\"Отвергаем нулевую гипотезу\")\n",
    "else:\n",
    "    print(\"Не получилось отвергнуть нулевую гипотезу\")"
   ]
  },
  {
   "cell_type": "markdown",
   "metadata": {},
   "source": [
    "Комментарий: Таким образом отвергнуть ни одну из гипотез не получилось. Критерий применялся **ttest_ind** потому что нет никаких предпосылок считать, что эти оценки зависят друг от друга. Кроме того, alpha была выбрана самой стандартной и также на основе ее проверялась процентная разность между средними для более точной оценки."
   ]
  },
  {
   "cell_type": "markdown",
   "metadata": {},
   "source": [
    "## Вывод"
   ]
  },
  {
   "cell_type": "markdown",
   "metadata": {},
   "source": [
    "В ходе проведения анализа сначала была выявлена длительность за которое исчезают платформу, относительно этого значения выбирался актуальный период. После работа проводилась только с актуальными данными, были выявлены потенциально прибыльные платформы: **PS4** и **XOne**, график строчка 26. Была произведена оценка с помощью **boxplot**, где выбросы вполне имеют место быть, поскольку вполне возможны игры так сильно \"выстрелившие\" на рынке. Были рассмотрены влияние оценок пользователей и критиков, где корреляция очень сильно зависит от платформы, так например продажи игр на платформе **PSV** не зависят ни от чьих оценок, в том время как продажи игр на платформе **WiiU** сильнее всех зависят от оценок пользователей, что видно на соответствующих  графиках. Самым прибыльным жанром игр оказался **Shooter**, об этом можно сказаться на основе анализа средних, медианных значений и графика **boxplot**. Был составлен портрет пользователей регионо **NA**, **EU** и **JP**, где рынок Японии весьма отличается от рынка двух других регионов. Были проверены гипотеза равенства средних значений пользовательского рейтинга для платформ **Xbox One** и **PC**, а также неравенства для жанров **Action** и **Sports**. Отвергнуть обе не удалось."
   ]
  },
  {
   "cell_type": "code",
   "execution_count": null,
   "metadata": {},
   "outputs": [],
   "source": []
  }
 ],
 "metadata": {
  "ExecuteTimeLog": [
   {
    "duration": 417,
    "start_time": "2022-10-03T16:55:44.895Z"
   },
   {
    "duration": 186,
    "start_time": "2022-10-03T16:56:18.170Z"
   },
   {
    "duration": 62,
    "start_time": "2022-10-03T16:56:26.302Z"
   },
   {
    "duration": 15,
    "start_time": "2022-10-03T16:57:38.627Z"
   },
   {
    "duration": 19,
    "start_time": "2022-10-03T16:59:40.148Z"
   },
   {
    "duration": 803,
    "start_time": "2022-10-03T17:00:13.015Z"
   },
   {
    "duration": 905,
    "start_time": "2022-10-03T17:00:45.380Z"
   },
   {
    "duration": 69,
    "start_time": "2022-10-03T17:09:12.379Z"
   },
   {
    "duration": 3,
    "start_time": "2022-10-03T17:10:32.916Z"
   },
   {
    "duration": 6,
    "start_time": "2022-10-03T17:10:45.835Z"
   },
   {
    "duration": 19,
    "start_time": "2022-10-03T17:10:59.031Z"
   },
   {
    "duration": 9,
    "start_time": "2022-10-03T17:14:19.168Z"
   },
   {
    "duration": 12,
    "start_time": "2022-10-03T17:14:40.390Z"
   },
   {
    "duration": 12,
    "start_time": "2022-10-03T17:15:37.400Z"
   },
   {
    "duration": 18,
    "start_time": "2022-10-03T17:16:01.220Z"
   },
   {
    "duration": 26,
    "start_time": "2022-10-03T17:19:00.608Z"
   },
   {
    "duration": 22,
    "start_time": "2022-10-03T17:19:08.188Z"
   },
   {
    "duration": 9,
    "start_time": "2022-10-03T17:19:13.873Z"
   },
   {
    "duration": 22,
    "start_time": "2022-10-03T17:21:03.184Z"
   },
   {
    "duration": 9,
    "start_time": "2022-10-03T17:23:47.121Z"
   },
   {
    "duration": 19,
    "start_time": "2022-10-03T17:24:17.261Z"
   },
   {
    "duration": 10,
    "start_time": "2022-10-03T17:24:42.802Z"
   },
   {
    "duration": 11,
    "start_time": "2022-10-03T17:25:14.245Z"
   },
   {
    "duration": 6,
    "start_time": "2022-10-03T17:25:59.237Z"
   },
   {
    "duration": 8,
    "start_time": "2022-10-03T17:26:38.917Z"
   },
   {
    "duration": 13,
    "start_time": "2022-10-03T17:26:42.996Z"
   },
   {
    "duration": 941,
    "start_time": "2022-10-03T17:30:00.041Z"
   },
   {
    "duration": 3,
    "start_time": "2022-10-03T17:30:17.901Z"
   },
   {
    "duration": 6,
    "start_time": "2022-10-03T17:30:31.178Z"
   },
   {
    "duration": 12,
    "start_time": "2022-10-03T17:30:39.165Z"
   },
   {
    "duration": 13,
    "start_time": "2022-10-03T17:30:44.608Z"
   },
   {
    "duration": 8,
    "start_time": "2022-10-03T17:31:14.822Z"
   },
   {
    "duration": 5,
    "start_time": "2022-10-03T17:34:36.027Z"
   },
   {
    "duration": 18,
    "start_time": "2022-10-03T17:35:44.995Z"
   },
   {
    "duration": 7,
    "start_time": "2022-10-03T17:36:15.003Z"
   },
   {
    "duration": 5,
    "start_time": "2022-10-03T17:36:29.391Z"
   },
   {
    "duration": 385,
    "start_time": "2022-10-03T17:36:38.007Z"
   },
   {
    "duration": 68,
    "start_time": "2022-10-03T17:36:38.394Z"
   },
   {
    "duration": 13,
    "start_time": "2022-10-03T17:36:38.464Z"
   },
   {
    "duration": 14,
    "start_time": "2022-10-03T17:36:38.479Z"
   },
   {
    "duration": 1065,
    "start_time": "2022-10-03T17:36:38.495Z"
   },
   {
    "duration": 4,
    "start_time": "2022-10-03T17:36:39.562Z"
   },
   {
    "duration": 1515,
    "start_time": "2022-10-03T17:36:39.568Z"
   },
   {
    "duration": 8,
    "start_time": "2022-10-03T17:36:57.786Z"
   },
   {
    "duration": 9,
    "start_time": "2022-10-03T17:44:57.634Z"
   },
   {
    "duration": 13,
    "start_time": "2022-10-03T17:46:00.743Z"
   },
   {
    "duration": 5,
    "start_time": "2022-10-03T17:48:17.481Z"
   },
   {
    "duration": 12,
    "start_time": "2022-10-03T17:48:44.224Z"
   },
   {
    "duration": 5,
    "start_time": "2022-10-03T17:48:50.787Z"
   },
   {
    "duration": 8,
    "start_time": "2022-10-03T17:49:24.070Z"
   },
   {
    "duration": 339,
    "start_time": "2022-10-03T17:49:44.655Z"
   },
   {
    "duration": 63,
    "start_time": "2022-10-03T17:49:44.996Z"
   },
   {
    "duration": 12,
    "start_time": "2022-10-03T17:49:45.060Z"
   },
   {
    "duration": 7,
    "start_time": "2022-10-03T17:49:45.074Z"
   },
   {
    "duration": 1109,
    "start_time": "2022-10-03T17:49:45.083Z"
   },
   {
    "duration": 5,
    "start_time": "2022-10-03T17:49:46.194Z"
   },
   {
    "duration": 22,
    "start_time": "2022-10-03T17:49:46.201Z"
   },
   {
    "duration": 19,
    "start_time": "2022-10-03T17:49:46.224Z"
   },
   {
    "duration": 8,
    "start_time": "2022-10-03T17:49:46.244Z"
   },
   {
    "duration": 8,
    "start_time": "2022-10-03T17:52:38.083Z"
   },
   {
    "duration": 8,
    "start_time": "2022-10-03T17:53:24.528Z"
   },
   {
    "duration": 6,
    "start_time": "2022-10-03T17:55:51.659Z"
   },
   {
    "duration": 22,
    "start_time": "2022-10-03T17:56:43.355Z"
   },
   {
    "duration": 17,
    "start_time": "2022-10-03T17:56:50.963Z"
   },
   {
    "duration": 377,
    "start_time": "2022-10-03T17:57:46.739Z"
   },
   {
    "duration": 68,
    "start_time": "2022-10-03T17:57:47.117Z"
   },
   {
    "duration": 13,
    "start_time": "2022-10-03T17:57:47.186Z"
   },
   {
    "duration": 15,
    "start_time": "2022-10-03T17:57:47.200Z"
   },
   {
    "duration": 1204,
    "start_time": "2022-10-03T17:57:47.217Z"
   },
   {
    "duration": 5,
    "start_time": "2022-10-03T17:57:48.422Z"
   },
   {
    "duration": 11,
    "start_time": "2022-10-03T17:57:48.429Z"
   },
   {
    "duration": 9,
    "start_time": "2022-10-03T17:57:48.441Z"
   },
   {
    "duration": 11,
    "start_time": "2022-10-03T17:57:48.452Z"
   },
   {
    "duration": 8,
    "start_time": "2022-10-03T17:57:48.465Z"
   },
   {
    "duration": 6,
    "start_time": "2022-10-03T17:57:48.475Z"
   },
   {
    "duration": 45,
    "start_time": "2022-10-03T17:57:48.482Z"
   },
   {
    "duration": 4569,
    "start_time": "2022-10-03T17:57:56.091Z"
   },
   {
    "duration": 517,
    "start_time": "2022-10-03T18:03:59.442Z"
   },
   {
    "duration": 66,
    "start_time": "2022-10-03T18:04:17.160Z"
   },
   {
    "duration": 579,
    "start_time": "2022-10-03T18:05:17.360Z"
   },
   {
    "duration": 27,
    "start_time": "2022-10-03T18:09:26.988Z"
   },
   {
    "duration": 25,
    "start_time": "2022-10-03T18:10:50.435Z"
   },
   {
    "duration": 18,
    "start_time": "2022-10-03T18:11:21.498Z"
   },
   {
    "duration": 21,
    "start_time": "2022-10-03T18:11:30.510Z"
   },
   {
    "duration": 22,
    "start_time": "2022-10-03T18:11:35.331Z"
   },
   {
    "duration": 57,
    "start_time": "2022-10-06T16:52:52.650Z"
   },
   {
    "duration": 393,
    "start_time": "2022-10-06T16:53:01.807Z"
   },
   {
    "duration": 119,
    "start_time": "2022-10-06T16:53:02.202Z"
   },
   {
    "duration": 16,
    "start_time": "2022-10-06T16:53:02.323Z"
   },
   {
    "duration": 25,
    "start_time": "2022-10-06T16:53:02.343Z"
   },
   {
    "duration": 1403,
    "start_time": "2022-10-06T16:53:02.370Z"
   },
   {
    "duration": 4,
    "start_time": "2022-10-06T16:53:03.775Z"
   },
   {
    "duration": 7,
    "start_time": "2022-10-06T16:53:03.781Z"
   },
   {
    "duration": 11,
    "start_time": "2022-10-06T16:53:03.790Z"
   },
   {
    "duration": 10,
    "start_time": "2022-10-06T16:53:03.803Z"
   },
   {
    "duration": 22,
    "start_time": "2022-10-06T16:53:03.815Z"
   },
   {
    "duration": 24,
    "start_time": "2022-10-06T16:53:03.839Z"
   },
   {
    "duration": 6,
    "start_time": "2022-10-06T16:53:03.864Z"
   },
   {
    "duration": 5258,
    "start_time": "2022-10-06T16:53:03.871Z"
   },
   {
    "duration": 36,
    "start_time": "2022-10-06T16:53:09.131Z"
   },
   {
    "duration": 1038,
    "start_time": "2022-10-06T16:53:09.168Z"
   },
   {
    "duration": 2,
    "start_time": "2022-10-06T16:54:06.349Z"
   },
   {
    "duration": 396,
    "start_time": "2022-10-06T16:54:10.749Z"
   },
   {
    "duration": 66,
    "start_time": "2022-10-06T16:54:11.147Z"
   },
   {
    "duration": 25,
    "start_time": "2022-10-06T16:54:11.215Z"
   },
   {
    "duration": 13,
    "start_time": "2022-10-06T16:54:11.246Z"
   },
   {
    "duration": 1217,
    "start_time": "2022-10-06T16:54:11.261Z"
   },
   {
    "duration": 5,
    "start_time": "2022-10-06T16:54:12.480Z"
   },
   {
    "duration": 9,
    "start_time": "2022-10-06T16:54:12.486Z"
   },
   {
    "duration": 7,
    "start_time": "2022-10-06T16:54:12.496Z"
   },
   {
    "duration": 10,
    "start_time": "2022-10-06T16:54:12.505Z"
   },
   {
    "duration": 8,
    "start_time": "2022-10-06T16:54:12.545Z"
   },
   {
    "duration": 9,
    "start_time": "2022-10-06T16:54:12.555Z"
   },
   {
    "duration": 26,
    "start_time": "2022-10-06T16:54:12.565Z"
   },
   {
    "duration": 18,
    "start_time": "2022-10-06T16:54:12.593Z"
   },
   {
    "duration": 34,
    "start_time": "2022-10-06T16:54:12.613Z"
   },
   {
    "duration": 7,
    "start_time": "2022-10-06T16:54:12.649Z"
   },
   {
    "duration": 4,
    "start_time": "2022-10-06T16:54:47.146Z"
   },
   {
    "duration": 7,
    "start_time": "2022-10-06T16:54:49.009Z"
   },
   {
    "duration": 86,
    "start_time": "2022-10-06T16:55:26.706Z"
   },
   {
    "duration": 5,
    "start_time": "2022-10-06T16:55:39.665Z"
   },
   {
    "duration": 9,
    "start_time": "2022-10-06T16:55:47.818Z"
   },
   {
    "duration": 392,
    "start_time": "2022-10-06T16:59:16.365Z"
   },
   {
    "duration": 74,
    "start_time": "2022-10-06T16:59:16.760Z"
   },
   {
    "duration": 15,
    "start_time": "2022-10-06T16:59:16.842Z"
   },
   {
    "duration": 10,
    "start_time": "2022-10-06T16:59:16.858Z"
   },
   {
    "duration": 1191,
    "start_time": "2022-10-06T16:59:16.870Z"
   },
   {
    "duration": 5,
    "start_time": "2022-10-06T16:59:18.062Z"
   },
   {
    "duration": 8,
    "start_time": "2022-10-06T16:59:18.069Z"
   },
   {
    "duration": 9,
    "start_time": "2022-10-06T16:59:18.079Z"
   },
   {
    "duration": 11,
    "start_time": "2022-10-06T16:59:18.090Z"
   },
   {
    "duration": 8,
    "start_time": "2022-10-06T16:59:18.103Z"
   },
   {
    "duration": 39,
    "start_time": "2022-10-06T16:59:18.112Z"
   },
   {
    "duration": 10,
    "start_time": "2022-10-06T16:59:18.153Z"
   },
   {
    "duration": 27,
    "start_time": "2022-10-06T16:59:18.165Z"
   },
   {
    "duration": 7,
    "start_time": "2022-10-06T16:59:18.195Z"
   },
   {
    "duration": 383,
    "start_time": "2022-10-06T16:59:46.957Z"
   },
   {
    "duration": 69,
    "start_time": "2022-10-06T16:59:47.343Z"
   },
   {
    "duration": 13,
    "start_time": "2022-10-06T16:59:47.414Z"
   },
   {
    "duration": 21,
    "start_time": "2022-10-06T16:59:47.428Z"
   },
   {
    "duration": 1249,
    "start_time": "2022-10-06T16:59:47.452Z"
   },
   {
    "duration": 6,
    "start_time": "2022-10-06T16:59:48.702Z"
   },
   {
    "duration": 18,
    "start_time": "2022-10-06T16:59:48.709Z"
   },
   {
    "duration": 20,
    "start_time": "2022-10-06T16:59:48.729Z"
   },
   {
    "duration": 15,
    "start_time": "2022-10-06T16:59:48.750Z"
   },
   {
    "duration": 8,
    "start_time": "2022-10-06T16:59:48.767Z"
   },
   {
    "duration": 7,
    "start_time": "2022-10-06T16:59:48.777Z"
   },
   {
    "duration": 9,
    "start_time": "2022-10-06T16:59:48.785Z"
   },
   {
    "duration": 23,
    "start_time": "2022-10-06T16:59:48.796Z"
   },
   {
    "duration": 10,
    "start_time": "2022-10-06T16:59:48.835Z"
   },
   {
    "duration": 376,
    "start_time": "2022-10-06T17:05:16.678Z"
   },
   {
    "duration": 68,
    "start_time": "2022-10-06T17:05:17.056Z"
   },
   {
    "duration": 17,
    "start_time": "2022-10-06T17:05:17.128Z"
   },
   {
    "duration": 10,
    "start_time": "2022-10-06T17:05:17.148Z"
   },
   {
    "duration": 1163,
    "start_time": "2022-10-06T17:05:17.160Z"
   },
   {
    "duration": 24,
    "start_time": "2022-10-06T17:05:18.325Z"
   },
   {
    "duration": 15,
    "start_time": "2022-10-06T17:05:18.350Z"
   },
   {
    "duration": 6,
    "start_time": "2022-10-06T17:05:18.366Z"
   },
   {
    "duration": 9,
    "start_time": "2022-10-06T17:05:18.374Z"
   },
   {
    "duration": 9,
    "start_time": "2022-10-06T17:05:18.384Z"
   },
   {
    "duration": 8,
    "start_time": "2022-10-06T17:05:18.395Z"
   },
   {
    "duration": 5,
    "start_time": "2022-10-06T17:05:18.405Z"
   },
   {
    "duration": 7,
    "start_time": "2022-10-06T17:05:18.413Z"
   },
   {
    "duration": 97,
    "start_time": "2022-10-06T17:05:18.421Z"
   },
   {
    "duration": 9,
    "start_time": "2022-10-06T17:06:42.058Z"
   },
   {
    "duration": 9,
    "start_time": "2022-10-06T17:06:51.098Z"
   },
   {
    "duration": 407,
    "start_time": "2022-10-06T17:13:00.445Z"
   },
   {
    "duration": 70,
    "start_time": "2022-10-06T17:13:00.854Z"
   },
   {
    "duration": 14,
    "start_time": "2022-10-06T17:13:00.926Z"
   },
   {
    "duration": 26,
    "start_time": "2022-10-06T17:13:00.942Z"
   },
   {
    "duration": 1170,
    "start_time": "2022-10-06T17:13:00.969Z"
   },
   {
    "duration": 4,
    "start_time": "2022-10-06T17:13:02.141Z"
   },
   {
    "duration": 18,
    "start_time": "2022-10-06T17:13:02.147Z"
   },
   {
    "duration": 16,
    "start_time": "2022-10-06T17:13:02.166Z"
   },
   {
    "duration": 16,
    "start_time": "2022-10-06T17:13:02.184Z"
   },
   {
    "duration": 19,
    "start_time": "2022-10-06T17:13:02.203Z"
   },
   {
    "duration": 27,
    "start_time": "2022-10-06T17:13:02.224Z"
   },
   {
    "duration": 8,
    "start_time": "2022-10-06T17:13:02.253Z"
   },
   {
    "duration": 7,
    "start_time": "2022-10-06T17:13:02.263Z"
   },
   {
    "duration": 90,
    "start_time": "2022-10-06T17:13:02.272Z"
   },
   {
    "duration": 377,
    "start_time": "2022-10-06T17:14:01.368Z"
   },
   {
    "duration": 67,
    "start_time": "2022-10-06T17:14:01.747Z"
   },
   {
    "duration": 15,
    "start_time": "2022-10-06T17:14:01.815Z"
   },
   {
    "duration": 10,
    "start_time": "2022-10-06T17:14:01.832Z"
   },
   {
    "duration": 1157,
    "start_time": "2022-10-06T17:14:01.843Z"
   },
   {
    "duration": 5,
    "start_time": "2022-10-06T17:14:03.002Z"
   },
   {
    "duration": 13,
    "start_time": "2022-10-06T17:14:03.009Z"
   },
   {
    "duration": 17,
    "start_time": "2022-10-06T17:14:03.024Z"
   },
   {
    "duration": 9,
    "start_time": "2022-10-06T17:14:03.043Z"
   },
   {
    "duration": 9,
    "start_time": "2022-10-06T17:14:03.054Z"
   },
   {
    "duration": 9,
    "start_time": "2022-10-06T17:14:03.065Z"
   },
   {
    "duration": 6,
    "start_time": "2022-10-06T17:14:03.075Z"
   },
   {
    "duration": 120,
    "start_time": "2022-10-06T17:14:03.083Z"
   },
   {
    "duration": 389,
    "start_time": "2022-10-06T17:14:15.398Z"
   },
   {
    "duration": 68,
    "start_time": "2022-10-06T17:14:15.789Z"
   },
   {
    "duration": 14,
    "start_time": "2022-10-06T17:14:15.859Z"
   },
   {
    "duration": 8,
    "start_time": "2022-10-06T17:14:15.875Z"
   },
   {
    "duration": 1228,
    "start_time": "2022-10-06T17:14:15.884Z"
   },
   {
    "duration": 5,
    "start_time": "2022-10-06T17:14:17.113Z"
   },
   {
    "duration": 17,
    "start_time": "2022-10-06T17:14:17.119Z"
   },
   {
    "duration": 23,
    "start_time": "2022-10-06T17:14:17.138Z"
   },
   {
    "duration": 11,
    "start_time": "2022-10-06T17:14:17.163Z"
   },
   {
    "duration": 9,
    "start_time": "2022-10-06T17:14:17.175Z"
   },
   {
    "duration": 7,
    "start_time": "2022-10-06T17:14:17.186Z"
   },
   {
    "duration": 6,
    "start_time": "2022-10-06T17:14:17.194Z"
   },
   {
    "duration": 54,
    "start_time": "2022-10-06T17:14:17.201Z"
   },
   {
    "duration": 36,
    "start_time": "2022-10-06T17:14:32.186Z"
   },
   {
    "duration": 11,
    "start_time": "2022-10-06T17:25:21.420Z"
   },
   {
    "duration": 127,
    "start_time": "2022-10-06T17:26:37.692Z"
   },
   {
    "duration": 11,
    "start_time": "2022-10-06T17:26:43.807Z"
   },
   {
    "duration": 151,
    "start_time": "2022-10-06T17:26:53.015Z"
   },
   {
    "duration": 940,
    "start_time": "2022-10-06T17:27:05.487Z"
   },
   {
    "duration": 9,
    "start_time": "2022-10-06T17:31:26.089Z"
   },
   {
    "duration": 70,
    "start_time": "2022-10-06T17:32:00.724Z"
   },
   {
    "duration": 1145,
    "start_time": "2022-10-06T17:32:06.327Z"
   },
   {
    "duration": 66,
    "start_time": "2022-10-06T17:32:07.474Z"
   },
   {
    "duration": 14,
    "start_time": "2022-10-06T17:32:07.542Z"
   },
   {
    "duration": 9,
    "start_time": "2022-10-06T17:32:07.558Z"
   },
   {
    "duration": 902,
    "start_time": "2022-10-06T17:32:07.568Z"
   },
   {
    "duration": 6,
    "start_time": "2022-10-06T17:32:08.472Z"
   },
   {
    "duration": 8,
    "start_time": "2022-10-06T17:32:08.480Z"
   },
   {
    "duration": 11,
    "start_time": "2022-10-06T17:32:08.490Z"
   },
   {
    "duration": 34,
    "start_time": "2022-10-06T17:32:08.503Z"
   },
   {
    "duration": 10,
    "start_time": "2022-10-06T17:32:08.540Z"
   },
   {
    "duration": 6,
    "start_time": "2022-10-06T17:32:08.552Z"
   },
   {
    "duration": 6,
    "start_time": "2022-10-06T17:32:08.560Z"
   },
   {
    "duration": 32,
    "start_time": "2022-10-06T17:32:08.568Z"
   },
   {
    "duration": 918,
    "start_time": "2022-10-06T17:32:08.602Z"
   },
   {
    "duration": 19,
    "start_time": "2022-10-06T17:32:09.522Z"
   },
   {
    "duration": 108,
    "start_time": "2022-10-06T17:32:09.543Z"
   },
   {
    "duration": 1085,
    "start_time": "2022-10-06T17:33:08.328Z"
   },
   {
    "duration": 103,
    "start_time": "2022-10-06T17:33:58.069Z"
   },
   {
    "duration": 8,
    "start_time": "2022-10-06T17:35:22.325Z"
   },
   {
    "duration": 10,
    "start_time": "2022-10-06T17:35:25.949Z"
   },
   {
    "duration": 1130,
    "start_time": "2022-10-06T17:35:44.021Z"
   },
   {
    "duration": 63,
    "start_time": "2022-10-06T17:35:45.153Z"
   },
   {
    "duration": 13,
    "start_time": "2022-10-06T17:35:45.218Z"
   },
   {
    "duration": 13,
    "start_time": "2022-10-06T17:35:45.233Z"
   },
   {
    "duration": 898,
    "start_time": "2022-10-06T17:35:45.248Z"
   },
   {
    "duration": 5,
    "start_time": "2022-10-06T17:35:46.148Z"
   },
   {
    "duration": 23,
    "start_time": "2022-10-06T17:35:46.155Z"
   },
   {
    "duration": 13,
    "start_time": "2022-10-06T17:35:46.180Z"
   },
   {
    "duration": 17,
    "start_time": "2022-10-06T17:35:46.195Z"
   },
   {
    "duration": 9,
    "start_time": "2022-10-06T17:35:46.213Z"
   },
   {
    "duration": 7,
    "start_time": "2022-10-06T17:35:46.233Z"
   },
   {
    "duration": 15,
    "start_time": "2022-10-06T17:35:46.242Z"
   },
   {
    "duration": 52,
    "start_time": "2022-10-06T17:35:46.258Z"
   },
   {
    "duration": 1051,
    "start_time": "2022-10-06T17:35:46.313Z"
   },
   {
    "duration": 104,
    "start_time": "2022-10-06T17:35:47.365Z"
   },
   {
    "duration": 9,
    "start_time": "2022-10-06T17:35:47.470Z"
   },
   {
    "duration": 52,
    "start_time": "2022-10-06T17:39:30.703Z"
   },
   {
    "duration": 1128,
    "start_time": "2022-10-06T17:40:13.148Z"
   },
   {
    "duration": 66,
    "start_time": "2022-10-06T17:40:14.279Z"
   },
   {
    "duration": 20,
    "start_time": "2022-10-06T17:40:14.347Z"
   },
   {
    "duration": 12,
    "start_time": "2022-10-06T17:40:14.369Z"
   },
   {
    "duration": 883,
    "start_time": "2022-10-06T17:40:14.384Z"
   },
   {
    "duration": 6,
    "start_time": "2022-10-06T17:40:15.270Z"
   },
   {
    "duration": 12,
    "start_time": "2022-10-06T17:40:15.278Z"
   },
   {
    "duration": 11,
    "start_time": "2022-10-06T17:40:15.292Z"
   },
   {
    "duration": 30,
    "start_time": "2022-10-06T17:40:15.304Z"
   },
   {
    "duration": 9,
    "start_time": "2022-10-06T17:40:15.336Z"
   },
   {
    "duration": 7,
    "start_time": "2022-10-06T17:40:15.346Z"
   },
   {
    "duration": 9,
    "start_time": "2022-10-06T17:40:15.354Z"
   },
   {
    "duration": 46,
    "start_time": "2022-10-06T17:40:15.364Z"
   },
   {
    "duration": 1168,
    "start_time": "2022-10-06T17:40:15.434Z"
   },
   {
    "duration": 148,
    "start_time": "2022-10-06T17:45:36.359Z"
   },
   {
    "duration": 13,
    "start_time": "2022-10-06T17:47:32.027Z"
   },
   {
    "duration": 17,
    "start_time": "2022-10-06T17:47:35.683Z"
   },
   {
    "duration": 16,
    "start_time": "2022-10-06T17:47:54.344Z"
   },
   {
    "duration": 1143,
    "start_time": "2022-10-06T17:48:14.245Z"
   },
   {
    "duration": 65,
    "start_time": "2022-10-06T17:48:15.390Z"
   },
   {
    "duration": 15,
    "start_time": "2022-10-06T17:48:15.456Z"
   },
   {
    "duration": 9,
    "start_time": "2022-10-06T17:48:15.473Z"
   },
   {
    "duration": 962,
    "start_time": "2022-10-06T17:48:15.483Z"
   },
   {
    "duration": 5,
    "start_time": "2022-10-06T17:48:16.447Z"
   },
   {
    "duration": 11,
    "start_time": "2022-10-06T17:48:16.454Z"
   },
   {
    "duration": 11,
    "start_time": "2022-10-06T17:48:16.466Z"
   },
   {
    "duration": 20,
    "start_time": "2022-10-06T17:48:16.478Z"
   },
   {
    "duration": 7,
    "start_time": "2022-10-06T17:48:16.500Z"
   },
   {
    "duration": 10,
    "start_time": "2022-10-06T17:48:16.534Z"
   },
   {
    "duration": 7,
    "start_time": "2022-10-06T17:48:16.545Z"
   },
   {
    "duration": 45,
    "start_time": "2022-10-06T17:48:16.553Z"
   },
   {
    "duration": 1031,
    "start_time": "2022-10-06T17:48:16.600Z"
   },
   {
    "duration": 1070,
    "start_time": "2022-10-06T17:48:26.476Z"
   },
   {
    "duration": 65,
    "start_time": "2022-10-06T17:48:27.548Z"
   },
   {
    "duration": 12,
    "start_time": "2022-10-06T17:48:27.615Z"
   },
   {
    "duration": 7,
    "start_time": "2022-10-06T17:48:27.628Z"
   },
   {
    "duration": 876,
    "start_time": "2022-10-06T17:48:27.637Z"
   },
   {
    "duration": 5,
    "start_time": "2022-10-06T17:48:28.515Z"
   },
   {
    "duration": 13,
    "start_time": "2022-10-06T17:48:28.522Z"
   },
   {
    "duration": 10,
    "start_time": "2022-10-06T17:48:28.537Z"
   },
   {
    "duration": 16,
    "start_time": "2022-10-06T17:48:28.548Z"
   },
   {
    "duration": 6,
    "start_time": "2022-10-06T17:48:28.566Z"
   },
   {
    "duration": 13,
    "start_time": "2022-10-06T17:48:28.573Z"
   },
   {
    "duration": 12,
    "start_time": "2022-10-06T17:48:28.587Z"
   },
   {
    "duration": 66,
    "start_time": "2022-10-06T17:48:28.600Z"
   },
   {
    "duration": 1018,
    "start_time": "2022-10-06T17:48:28.667Z"
   },
   {
    "duration": 52,
    "start_time": "2022-10-06T18:10:21.990Z"
   },
   {
    "duration": 6,
    "start_time": "2022-10-06T18:10:25.981Z"
   },
   {
    "duration": 55,
    "start_time": "2022-10-06T18:12:12.263Z"
   },
   {
    "duration": 5,
    "start_time": "2022-10-06T18:12:19.406Z"
   },
   {
    "duration": 26,
    "start_time": "2022-10-06T18:12:28.005Z"
   },
   {
    "duration": 27,
    "start_time": "2022-10-06T18:14:13.442Z"
   },
   {
    "duration": 20,
    "start_time": "2022-10-06T18:15:33.761Z"
   },
   {
    "duration": 33,
    "start_time": "2022-10-06T18:15:53.561Z"
   },
   {
    "duration": 27,
    "start_time": "2022-10-06T18:15:58.310Z"
   },
   {
    "duration": 22,
    "start_time": "2022-10-06T18:16:10.574Z"
   },
   {
    "duration": 105,
    "start_time": "2022-10-06T18:16:37.150Z"
   },
   {
    "duration": 3,
    "start_time": "2022-10-06T18:16:43.154Z"
   },
   {
    "duration": 5,
    "start_time": "2022-10-06T18:16:47.081Z"
   },
   {
    "duration": 4,
    "start_time": "2022-10-06T18:17:06.877Z"
   },
   {
    "duration": 24,
    "start_time": "2022-10-06T18:17:09.205Z"
   },
   {
    "duration": 18,
    "start_time": "2022-10-06T18:17:37.854Z"
   },
   {
    "duration": 19,
    "start_time": "2022-10-06T18:17:42.865Z"
   },
   {
    "duration": 25,
    "start_time": "2022-10-06T18:17:47.472Z"
   },
   {
    "duration": 24,
    "start_time": "2022-10-06T18:22:40.686Z"
   },
   {
    "duration": 23,
    "start_time": "2022-10-06T18:23:11.423Z"
   },
   {
    "duration": 23,
    "start_time": "2022-10-06T18:23:29.738Z"
   },
   {
    "duration": 320,
    "start_time": "2022-10-06T18:23:55.746Z"
   },
   {
    "duration": 24,
    "start_time": "2022-10-06T18:24:12.359Z"
   },
   {
    "duration": 1143,
    "start_time": "2022-10-06T18:25:50.218Z"
   },
   {
    "duration": 81,
    "start_time": "2022-10-06T18:25:51.363Z"
   },
   {
    "duration": 15,
    "start_time": "2022-10-06T18:25:51.445Z"
   },
   {
    "duration": 9,
    "start_time": "2022-10-06T18:25:51.462Z"
   },
   {
    "duration": 920,
    "start_time": "2022-10-06T18:25:51.472Z"
   },
   {
    "duration": 4,
    "start_time": "2022-10-06T18:25:52.394Z"
   },
   {
    "duration": 10,
    "start_time": "2022-10-06T18:25:52.399Z"
   },
   {
    "duration": 23,
    "start_time": "2022-10-06T18:25:52.410Z"
   },
   {
    "duration": 17,
    "start_time": "2022-10-06T18:25:52.435Z"
   },
   {
    "duration": 8,
    "start_time": "2022-10-06T18:25:52.454Z"
   },
   {
    "duration": 7,
    "start_time": "2022-10-06T18:25:52.463Z"
   },
   {
    "duration": 10,
    "start_time": "2022-10-06T18:25:52.472Z"
   },
   {
    "duration": 62,
    "start_time": "2022-10-06T18:25:52.483Z"
   },
   {
    "duration": 1049,
    "start_time": "2022-10-06T18:25:52.546Z"
   },
   {
    "duration": 26,
    "start_time": "2022-10-06T18:25:53.597Z"
   },
   {
    "duration": 118,
    "start_time": "2022-10-06T18:33:20.191Z"
   },
   {
    "duration": 23,
    "start_time": "2022-10-06T18:33:29.447Z"
   },
   {
    "duration": 26,
    "start_time": "2022-10-06T18:33:34.048Z"
   },
   {
    "duration": 13,
    "start_time": "2022-10-06T18:40:41.808Z"
   },
   {
    "duration": 16,
    "start_time": "2022-10-06T18:40:48.308Z"
   },
   {
    "duration": 13,
    "start_time": "2022-10-06T18:41:09.763Z"
   },
   {
    "duration": 487,
    "start_time": "2022-10-06T18:43:05.584Z"
   },
   {
    "duration": 12,
    "start_time": "2022-10-06T18:43:13.201Z"
   },
   {
    "duration": 9,
    "start_time": "2022-10-06T18:43:52.980Z"
   },
   {
    "duration": 12,
    "start_time": "2022-10-06T18:44:29.329Z"
   },
   {
    "duration": 13,
    "start_time": "2022-10-06T18:44:52.455Z"
   },
   {
    "duration": 20,
    "start_time": "2022-10-06T18:45:00.887Z"
   },
   {
    "duration": 1117,
    "start_time": "2022-10-06T18:45:46.845Z"
   },
   {
    "duration": 64,
    "start_time": "2022-10-06T18:45:47.963Z"
   },
   {
    "duration": 13,
    "start_time": "2022-10-06T18:45:48.029Z"
   },
   {
    "duration": 14,
    "start_time": "2022-10-06T18:45:48.043Z"
   },
   {
    "duration": 908,
    "start_time": "2022-10-06T18:45:48.059Z"
   },
   {
    "duration": 4,
    "start_time": "2022-10-06T18:45:48.969Z"
   },
   {
    "duration": 10,
    "start_time": "2022-10-06T18:45:48.974Z"
   },
   {
    "duration": 10,
    "start_time": "2022-10-06T18:45:48.986Z"
   },
   {
    "duration": 37,
    "start_time": "2022-10-06T18:45:48.998Z"
   },
   {
    "duration": 9,
    "start_time": "2022-10-06T18:45:49.038Z"
   },
   {
    "duration": 15,
    "start_time": "2022-10-06T18:45:49.048Z"
   },
   {
    "duration": 7,
    "start_time": "2022-10-06T18:45:49.064Z"
   },
   {
    "duration": 61,
    "start_time": "2022-10-06T18:45:49.073Z"
   },
   {
    "duration": 1039,
    "start_time": "2022-10-06T18:45:49.136Z"
   },
   {
    "duration": 18,
    "start_time": "2022-10-06T18:45:50.177Z"
   },
   {
    "duration": 19,
    "start_time": "2022-10-06T18:48:52.287Z"
   },
   {
    "duration": 20,
    "start_time": "2022-10-06T18:48:54.808Z"
   },
   {
    "duration": 9,
    "start_time": "2022-10-06T18:50:17.275Z"
   },
   {
    "duration": 1101,
    "start_time": "2022-10-06T18:50:22.157Z"
   },
   {
    "duration": 65,
    "start_time": "2022-10-06T18:50:23.260Z"
   },
   {
    "duration": 15,
    "start_time": "2022-10-06T18:50:23.326Z"
   },
   {
    "duration": 14,
    "start_time": "2022-10-06T18:50:23.343Z"
   },
   {
    "duration": 875,
    "start_time": "2022-10-06T18:50:23.358Z"
   },
   {
    "duration": 4,
    "start_time": "2022-10-06T18:50:24.235Z"
   },
   {
    "duration": 9,
    "start_time": "2022-10-06T18:50:24.240Z"
   },
   {
    "duration": 11,
    "start_time": "2022-10-06T18:50:24.251Z"
   },
   {
    "duration": 17,
    "start_time": "2022-10-06T18:50:24.263Z"
   },
   {
    "duration": 7,
    "start_time": "2022-10-06T18:50:24.282Z"
   },
   {
    "duration": 10,
    "start_time": "2022-10-06T18:50:24.291Z"
   },
   {
    "duration": 6,
    "start_time": "2022-10-06T18:50:24.333Z"
   },
   {
    "duration": 13,
    "start_time": "2022-10-06T18:50:24.340Z"
   },
   {
    "duration": 46,
    "start_time": "2022-10-06T18:50:24.354Z"
   },
   {
    "duration": 1039,
    "start_time": "2022-10-06T18:50:24.401Z"
   },
   {
    "duration": 19,
    "start_time": "2022-10-06T18:50:25.442Z"
   },
   {
    "duration": 17,
    "start_time": "2022-10-06T18:50:25.462Z"
   },
   {
    "duration": 1143,
    "start_time": "2022-10-06T18:50:47.603Z"
   },
   {
    "duration": 67,
    "start_time": "2022-10-06T18:50:48.750Z"
   },
   {
    "duration": 14,
    "start_time": "2022-10-06T18:50:48.819Z"
   },
   {
    "duration": 9,
    "start_time": "2022-10-06T18:50:48.836Z"
   },
   {
    "duration": 891,
    "start_time": "2022-10-06T18:50:48.847Z"
   },
   {
    "duration": 5,
    "start_time": "2022-10-06T18:50:49.740Z"
   },
   {
    "duration": 15,
    "start_time": "2022-10-06T18:50:49.747Z"
   },
   {
    "duration": 14,
    "start_time": "2022-10-06T18:50:49.764Z"
   },
   {
    "duration": 22,
    "start_time": "2022-10-06T18:50:49.780Z"
   },
   {
    "duration": 7,
    "start_time": "2022-10-06T18:50:49.805Z"
   },
   {
    "duration": 8,
    "start_time": "2022-10-06T18:50:49.833Z"
   },
   {
    "duration": 12,
    "start_time": "2022-10-06T18:50:49.842Z"
   },
   {
    "duration": 19,
    "start_time": "2022-10-06T18:50:49.856Z"
   },
   {
    "duration": 18,
    "start_time": "2022-10-06T18:50:49.877Z"
   },
   {
    "duration": 8,
    "start_time": "2022-10-06T18:50:49.896Z"
   },
   {
    "duration": 65,
    "start_time": "2022-10-06T18:50:49.906Z"
   },
   {
    "duration": 1044,
    "start_time": "2022-10-06T18:50:49.972Z"
   },
   {
    "duration": 47,
    "start_time": "2022-10-07T13:17:26.596Z"
   },
   {
    "duration": 1357,
    "start_time": "2022-10-07T13:17:33.274Z"
   },
   {
    "duration": 108,
    "start_time": "2022-10-07T13:17:34.633Z"
   },
   {
    "duration": 14,
    "start_time": "2022-10-07T13:17:34.742Z"
   },
   {
    "duration": 8,
    "start_time": "2022-10-07T13:17:34.759Z"
   },
   {
    "duration": 911,
    "start_time": "2022-10-07T13:17:34.768Z"
   },
   {
    "duration": 5,
    "start_time": "2022-10-07T13:17:35.681Z"
   },
   {
    "duration": 10,
    "start_time": "2022-10-07T13:17:35.688Z"
   },
   {
    "duration": 40,
    "start_time": "2022-10-07T13:17:35.700Z"
   },
   {
    "duration": 18,
    "start_time": "2022-10-07T13:17:35.742Z"
   },
   {
    "duration": 9,
    "start_time": "2022-10-07T13:17:35.763Z"
   },
   {
    "duration": 11,
    "start_time": "2022-10-07T13:17:35.774Z"
   },
   {
    "duration": 46,
    "start_time": "2022-10-07T13:17:35.787Z"
   },
   {
    "duration": 21,
    "start_time": "2022-10-07T13:17:35.835Z"
   },
   {
    "duration": 23,
    "start_time": "2022-10-07T13:17:35.858Z"
   },
   {
    "duration": 11,
    "start_time": "2022-10-07T13:17:35.883Z"
   },
   {
    "duration": 44,
    "start_time": "2022-10-07T13:17:35.896Z"
   },
   {
    "duration": 45,
    "start_time": "2022-10-07T13:17:35.942Z"
   },
   {
    "duration": 1132,
    "start_time": "2022-10-07T13:17:35.989Z"
   },
   {
    "duration": 15,
    "start_time": "2022-10-07T13:19:38.131Z"
   },
   {
    "duration": 109,
    "start_time": "2022-10-07T13:22:57.562Z"
   },
   {
    "duration": 26,
    "start_time": "2022-10-07T13:23:08.758Z"
   },
   {
    "duration": 19,
    "start_time": "2022-10-07T13:23:18.567Z"
   },
   {
    "duration": 16,
    "start_time": "2022-10-07T13:31:47.051Z"
   },
   {
    "duration": 5,
    "start_time": "2022-10-07T13:32:13.892Z"
   },
   {
    "duration": 1248,
    "start_time": "2022-10-07T13:32:53.179Z"
   },
   {
    "duration": 1136,
    "start_time": "2022-10-07T13:33:28.217Z"
   },
   {
    "duration": 64,
    "start_time": "2022-10-07T13:33:29.355Z"
   },
   {
    "duration": 14,
    "start_time": "2022-10-07T13:33:29.421Z"
   },
   {
    "duration": 12,
    "start_time": "2022-10-07T13:33:29.436Z"
   },
   {
    "duration": 918,
    "start_time": "2022-10-07T13:33:29.451Z"
   },
   {
    "duration": 6,
    "start_time": "2022-10-07T13:33:30.371Z"
   },
   {
    "duration": 56,
    "start_time": "2022-10-07T13:33:30.379Z"
   },
   {
    "duration": 29,
    "start_time": "2022-10-07T13:33:30.437Z"
   },
   {
    "duration": 29,
    "start_time": "2022-10-07T13:33:30.467Z"
   },
   {
    "duration": 7,
    "start_time": "2022-10-07T13:33:30.498Z"
   },
   {
    "duration": 13,
    "start_time": "2022-10-07T13:33:30.506Z"
   },
   {
    "duration": 12,
    "start_time": "2022-10-07T13:33:30.520Z"
   },
   {
    "duration": 29,
    "start_time": "2022-10-07T13:33:30.533Z"
   },
   {
    "duration": 17,
    "start_time": "2022-10-07T13:33:30.564Z"
   },
   {
    "duration": 22,
    "start_time": "2022-10-07T13:33:30.583Z"
   },
   {
    "duration": 26,
    "start_time": "2022-10-07T13:33:30.607Z"
   },
   {
    "duration": 5,
    "start_time": "2022-10-07T13:33:30.635Z"
   },
   {
    "duration": 19,
    "start_time": "2022-10-07T13:33:30.641Z"
   },
   {
    "duration": 41,
    "start_time": "2022-10-07T13:33:30.662Z"
   },
   {
    "duration": 1055,
    "start_time": "2022-10-07T13:33:30.705Z"
   },
   {
    "duration": 5,
    "start_time": "2022-10-07T13:34:07.408Z"
   },
   {
    "duration": 14,
    "start_time": "2022-10-07T13:36:12.302Z"
   },
   {
    "duration": 1126,
    "start_time": "2022-10-07T13:38:19.267Z"
   },
   {
    "duration": 67,
    "start_time": "2022-10-07T13:38:20.395Z"
   },
   {
    "duration": 22,
    "start_time": "2022-10-07T13:38:20.467Z"
   },
   {
    "duration": 15,
    "start_time": "2022-10-07T13:38:20.492Z"
   },
   {
    "duration": 990,
    "start_time": "2022-10-07T13:38:20.534Z"
   },
   {
    "duration": 9,
    "start_time": "2022-10-07T13:38:21.526Z"
   },
   {
    "duration": 11,
    "start_time": "2022-10-07T13:38:21.537Z"
   },
   {
    "duration": 14,
    "start_time": "2022-10-07T13:38:21.550Z"
   },
   {
    "duration": 20,
    "start_time": "2022-10-07T13:38:21.566Z"
   },
   {
    "duration": 51,
    "start_time": "2022-10-07T13:38:21.588Z"
   },
   {
    "duration": 9,
    "start_time": "2022-10-07T13:38:21.641Z"
   },
   {
    "duration": 18,
    "start_time": "2022-10-07T13:38:21.652Z"
   },
   {
    "duration": 33,
    "start_time": "2022-10-07T13:38:21.673Z"
   },
   {
    "duration": 33,
    "start_time": "2022-10-07T13:38:21.707Z"
   },
   {
    "duration": 12,
    "start_time": "2022-10-07T13:38:21.741Z"
   },
   {
    "duration": 11,
    "start_time": "2022-10-07T13:38:21.754Z"
   },
   {
    "duration": 15,
    "start_time": "2022-10-07T13:38:21.766Z"
   },
   {
    "duration": 5,
    "start_time": "2022-10-07T13:38:21.782Z"
   },
   {
    "duration": 46,
    "start_time": "2022-10-07T13:38:21.789Z"
   },
   {
    "duration": 42,
    "start_time": "2022-10-07T13:38:21.837Z"
   },
   {
    "duration": 1097,
    "start_time": "2022-10-07T13:38:21.880Z"
   },
   {
    "duration": 12,
    "start_time": "2022-10-07T13:38:47.178Z"
   },
   {
    "duration": 1147,
    "start_time": "2022-10-07T13:39:04.211Z"
   },
   {
    "duration": 65,
    "start_time": "2022-10-07T13:39:05.360Z"
   },
   {
    "duration": 15,
    "start_time": "2022-10-07T13:39:05.427Z"
   },
   {
    "duration": 22,
    "start_time": "2022-10-07T13:39:05.445Z"
   },
   {
    "duration": 977,
    "start_time": "2022-10-07T13:39:05.468Z"
   },
   {
    "duration": 7,
    "start_time": "2022-10-07T13:39:06.447Z"
   },
   {
    "duration": 63,
    "start_time": "2022-10-07T13:39:06.457Z"
   },
   {
    "duration": 30,
    "start_time": "2022-10-07T13:39:06.522Z"
   },
   {
    "duration": 36,
    "start_time": "2022-10-07T13:39:06.554Z"
   },
   {
    "duration": 10,
    "start_time": "2022-10-07T13:39:06.594Z"
   },
   {
    "duration": 34,
    "start_time": "2022-10-07T13:39:06.606Z"
   },
   {
    "duration": 27,
    "start_time": "2022-10-07T13:39:06.642Z"
   },
   {
    "duration": 41,
    "start_time": "2022-10-07T13:39:06.670Z"
   },
   {
    "duration": 36,
    "start_time": "2022-10-07T13:39:06.713Z"
   },
   {
    "duration": 10,
    "start_time": "2022-10-07T13:39:06.751Z"
   },
   {
    "duration": 37,
    "start_time": "2022-10-07T13:39:06.763Z"
   },
   {
    "duration": 14,
    "start_time": "2022-10-07T13:39:06.801Z"
   },
   {
    "duration": 33,
    "start_time": "2022-10-07T13:39:06.817Z"
   },
   {
    "duration": 36,
    "start_time": "2022-10-07T13:39:06.852Z"
   },
   {
    "duration": 24,
    "start_time": "2022-10-07T13:39:06.890Z"
   },
   {
    "duration": 69,
    "start_time": "2022-10-07T13:39:06.916Z"
   },
   {
    "duration": 1087,
    "start_time": "2022-10-07T13:39:06.987Z"
   },
   {
    "duration": 42,
    "start_time": "2022-10-07T13:40:53.387Z"
   },
   {
    "duration": 7,
    "start_time": "2022-10-07T13:41:33.777Z"
   },
   {
    "duration": 26,
    "start_time": "2022-10-07T13:41:46.536Z"
   },
   {
    "duration": 20,
    "start_time": "2022-10-07T13:42:19.531Z"
   },
   {
    "duration": 7,
    "start_time": "2022-10-07T13:42:22.641Z"
   },
   {
    "duration": 12,
    "start_time": "2022-10-07T13:43:00.832Z"
   },
   {
    "duration": 56,
    "start_time": "2022-10-07T13:43:07.512Z"
   },
   {
    "duration": 13,
    "start_time": "2022-10-07T13:43:10.520Z"
   },
   {
    "duration": 1311,
    "start_time": "2022-10-07T13:44:06.955Z"
   },
   {
    "duration": 70,
    "start_time": "2022-10-07T13:44:08.268Z"
   },
   {
    "duration": 14,
    "start_time": "2022-10-07T13:44:08.342Z"
   },
   {
    "duration": 23,
    "start_time": "2022-10-07T13:44:08.359Z"
   },
   {
    "duration": 942,
    "start_time": "2022-10-07T13:44:08.384Z"
   },
   {
    "duration": 6,
    "start_time": "2022-10-07T13:44:09.328Z"
   },
   {
    "duration": 11,
    "start_time": "2022-10-07T13:44:09.336Z"
   },
   {
    "duration": 12,
    "start_time": "2022-10-07T13:44:09.349Z"
   },
   {
    "duration": 18,
    "start_time": "2022-10-07T13:44:09.363Z"
   },
   {
    "duration": 58,
    "start_time": "2022-10-07T13:44:09.382Z"
   },
   {
    "duration": 12,
    "start_time": "2022-10-07T13:44:09.441Z"
   },
   {
    "duration": 9,
    "start_time": "2022-10-07T13:44:09.456Z"
   },
   {
    "duration": 23,
    "start_time": "2022-10-07T13:44:09.469Z"
   },
   {
    "duration": 61,
    "start_time": "2022-10-07T13:44:09.493Z"
   },
   {
    "duration": 12,
    "start_time": "2022-10-07T13:44:09.556Z"
   },
   {
    "duration": 11,
    "start_time": "2022-10-07T13:44:09.570Z"
   },
   {
    "duration": 57,
    "start_time": "2022-10-07T13:44:09.582Z"
   },
   {
    "duration": 5,
    "start_time": "2022-10-07T13:44:09.641Z"
   },
   {
    "duration": 9,
    "start_time": "2022-10-07T13:44:09.648Z"
   },
   {
    "duration": 12,
    "start_time": "2022-10-07T13:44:09.659Z"
   },
   {
    "duration": 12,
    "start_time": "2022-10-07T13:44:09.672Z"
   },
   {
    "duration": 69,
    "start_time": "2022-10-07T13:44:09.687Z"
   },
   {
    "duration": 1086,
    "start_time": "2022-10-07T13:44:09.758Z"
   },
   {
    "duration": 1109,
    "start_time": "2022-10-07T13:45:37.552Z"
   },
   {
    "duration": 78,
    "start_time": "2022-10-07T13:45:38.663Z"
   },
   {
    "duration": 17,
    "start_time": "2022-10-07T13:45:38.743Z"
   },
   {
    "duration": 10,
    "start_time": "2022-10-07T13:45:38.761Z"
   },
   {
    "duration": 970,
    "start_time": "2022-10-07T13:45:38.773Z"
   },
   {
    "duration": 6,
    "start_time": "2022-10-07T13:45:39.745Z"
   },
   {
    "duration": 26,
    "start_time": "2022-10-07T13:45:39.752Z"
   },
   {
    "duration": 13,
    "start_time": "2022-10-07T13:45:39.780Z"
   },
   {
    "duration": 40,
    "start_time": "2022-10-07T13:45:39.795Z"
   },
   {
    "duration": 9,
    "start_time": "2022-10-07T13:45:39.838Z"
   },
   {
    "duration": 18,
    "start_time": "2022-10-07T13:45:39.848Z"
   },
   {
    "duration": 14,
    "start_time": "2022-10-07T13:45:39.867Z"
   },
   {
    "duration": 22,
    "start_time": "2022-10-07T13:45:39.882Z"
   },
   {
    "duration": 44,
    "start_time": "2022-10-07T13:45:39.906Z"
   },
   {
    "duration": 11,
    "start_time": "2022-10-07T13:45:39.951Z"
   },
   {
    "duration": 11,
    "start_time": "2022-10-07T13:45:39.964Z"
   },
   {
    "duration": 57,
    "start_time": "2022-10-07T13:45:39.977Z"
   },
   {
    "duration": 14,
    "start_time": "2022-10-07T13:45:40.037Z"
   },
   {
    "duration": 47,
    "start_time": "2022-10-07T13:45:40.054Z"
   },
   {
    "duration": 18,
    "start_time": "2022-10-07T13:45:40.103Z"
   },
   {
    "duration": 50,
    "start_time": "2022-10-07T13:45:40.123Z"
   },
   {
    "duration": 1091,
    "start_time": "2022-10-07T13:45:40.175Z"
   },
   {
    "duration": 14,
    "start_time": "2022-10-07T13:46:42.830Z"
   },
   {
    "duration": 1175,
    "start_time": "2022-10-07T13:49:46.407Z"
   },
   {
    "duration": 68,
    "start_time": "2022-10-07T13:49:47.584Z"
   },
   {
    "duration": 13,
    "start_time": "2022-10-07T13:49:47.654Z"
   },
   {
    "duration": 9,
    "start_time": "2022-10-07T13:49:47.669Z"
   },
   {
    "duration": 960,
    "start_time": "2022-10-07T13:49:47.680Z"
   },
   {
    "duration": 5,
    "start_time": "2022-10-07T13:49:48.641Z"
   },
   {
    "duration": 13,
    "start_time": "2022-10-07T13:49:48.647Z"
   },
   {
    "duration": 13,
    "start_time": "2022-10-07T13:49:48.661Z"
   },
   {
    "duration": 18,
    "start_time": "2022-10-07T13:49:48.676Z"
   },
   {
    "duration": 7,
    "start_time": "2022-10-07T13:49:48.696Z"
   },
   {
    "duration": 9,
    "start_time": "2022-10-07T13:49:48.736Z"
   },
   {
    "duration": 14,
    "start_time": "2022-10-07T13:49:48.746Z"
   },
   {
    "duration": 21,
    "start_time": "2022-10-07T13:49:48.761Z"
   },
   {
    "duration": 51,
    "start_time": "2022-10-07T13:49:48.786Z"
   },
   {
    "duration": 11,
    "start_time": "2022-10-07T13:49:48.838Z"
   },
   {
    "duration": 13,
    "start_time": "2022-10-07T13:49:48.851Z"
   },
   {
    "duration": 25,
    "start_time": "2022-10-07T13:49:48.866Z"
   },
   {
    "duration": 42,
    "start_time": "2022-10-07T13:49:48.892Z"
   },
   {
    "duration": 9,
    "start_time": "2022-10-07T13:49:48.935Z"
   },
   {
    "duration": 44,
    "start_time": "2022-10-07T13:49:48.946Z"
   },
   {
    "duration": 1074,
    "start_time": "2022-10-07T13:49:48.992Z"
   },
   {
    "duration": 8,
    "start_time": "2022-10-07T15:32:12.308Z"
   },
   {
    "duration": 22,
    "start_time": "2022-10-07T15:32:14.607Z"
   },
   {
    "duration": 13,
    "start_time": "2022-10-07T15:32:25.913Z"
   },
   {
    "duration": 7,
    "start_time": "2022-10-07T15:32:31.402Z"
   },
   {
    "duration": 98,
    "start_time": "2022-10-07T15:32:40.538Z"
   },
   {
    "duration": 7,
    "start_time": "2022-10-07T15:34:52.234Z"
   },
   {
    "duration": 5,
    "start_time": "2022-10-07T15:35:03.163Z"
   },
   {
    "duration": 15,
    "start_time": "2022-10-07T15:35:08.344Z"
   },
   {
    "duration": 8,
    "start_time": "2022-10-07T16:10:28.531Z"
   },
   {
    "duration": 349,
    "start_time": "2022-10-07T16:12:02.777Z"
   },
   {
    "duration": 303,
    "start_time": "2022-10-07T16:12:16.698Z"
   },
   {
    "duration": 328,
    "start_time": "2022-10-07T16:12:26.234Z"
   },
   {
    "duration": 285,
    "start_time": "2022-10-07T16:12:59.315Z"
   },
   {
    "duration": 302,
    "start_time": "2022-10-07T16:13:04.251Z"
   },
   {
    "duration": 290,
    "start_time": "2022-10-07T16:13:09.467Z"
   },
   {
    "duration": 375,
    "start_time": "2022-10-07T16:13:20.737Z"
   },
   {
    "duration": 301,
    "start_time": "2022-10-07T16:13:28.439Z"
   },
   {
    "duration": 285,
    "start_time": "2022-10-07T16:13:34.307Z"
   },
   {
    "duration": 11,
    "start_time": "2022-10-07T16:15:28.203Z"
   },
   {
    "duration": 8,
    "start_time": "2022-10-07T16:15:42.296Z"
   },
   {
    "duration": 10,
    "start_time": "2022-10-07T16:15:58.309Z"
   },
   {
    "duration": 130,
    "start_time": "2022-10-07T16:16:08.089Z"
   },
   {
    "duration": 297,
    "start_time": "2022-10-07T16:16:19.621Z"
   },
   {
    "duration": 283,
    "start_time": "2022-10-07T16:16:35.266Z"
   },
   {
    "duration": 3,
    "start_time": "2022-10-07T16:19:22.776Z"
   },
   {
    "duration": 892,
    "start_time": "2022-10-07T16:23:04.687Z"
   },
   {
    "duration": 9,
    "start_time": "2022-10-07T16:23:14.977Z"
   },
   {
    "duration": 9,
    "start_time": "2022-10-07T16:23:33.601Z"
   },
   {
    "duration": 8,
    "start_time": "2022-10-07T16:24:09.434Z"
   },
   {
    "duration": 9,
    "start_time": "2022-10-07T16:24:26.032Z"
   },
   {
    "duration": 10,
    "start_time": "2022-10-07T16:24:31.263Z"
   },
   {
    "duration": 7,
    "start_time": "2022-10-07T16:24:46.796Z"
   },
   {
    "duration": 6,
    "start_time": "2022-10-07T16:24:53.088Z"
   },
   {
    "duration": 7,
    "start_time": "2022-10-07T16:25:01.899Z"
   },
   {
    "duration": 7,
    "start_time": "2022-10-07T16:25:22.408Z"
   },
   {
    "duration": 7,
    "start_time": "2022-10-07T16:25:29.945Z"
   },
   {
    "duration": 6,
    "start_time": "2022-10-07T16:25:33.956Z"
   },
   {
    "duration": 8,
    "start_time": "2022-10-07T16:25:40.592Z"
   },
   {
    "duration": 7,
    "start_time": "2022-10-07T16:26:08.740Z"
   },
   {
    "duration": 7,
    "start_time": "2022-10-07T16:26:22.957Z"
   },
   {
    "duration": 0,
    "start_time": "2022-10-07T16:26:53.212Z"
   },
   {
    "duration": 7,
    "start_time": "2022-10-07T16:26:58.603Z"
   },
   {
    "duration": 6,
    "start_time": "2022-10-07T16:27:20.141Z"
   },
   {
    "duration": 8,
    "start_time": "2022-10-07T16:27:29.925Z"
   },
   {
    "duration": 8,
    "start_time": "2022-10-07T16:41:18.350Z"
   },
   {
    "duration": 21,
    "start_time": "2022-10-07T16:41:22.759Z"
   },
   {
    "duration": 11,
    "start_time": "2022-10-07T16:45:17.488Z"
   },
   {
    "duration": 5,
    "start_time": "2022-10-07T16:45:28.825Z"
   },
   {
    "duration": 21,
    "start_time": "2022-10-07T16:45:54.234Z"
   },
   {
    "duration": 3,
    "start_time": "2022-10-07T16:46:22.907Z"
   },
   {
    "duration": 598,
    "start_time": "2022-10-07T16:46:29.650Z"
   },
   {
    "duration": 69,
    "start_time": "2022-10-07T16:46:30.249Z"
   },
   {
    "duration": 15,
    "start_time": "2022-10-07T16:46:30.320Z"
   },
   {
    "duration": 22,
    "start_time": "2022-10-07T16:46:30.337Z"
   },
   {
    "duration": 987,
    "start_time": "2022-10-07T16:46:30.361Z"
   },
   {
    "duration": 5,
    "start_time": "2022-10-07T16:46:31.349Z"
   },
   {
    "duration": 30,
    "start_time": "2022-10-07T16:46:31.356Z"
   },
   {
    "duration": 39,
    "start_time": "2022-10-07T16:46:31.388Z"
   },
   {
    "duration": 20,
    "start_time": "2022-10-07T16:46:31.429Z"
   },
   {
    "duration": 9,
    "start_time": "2022-10-07T16:46:31.452Z"
   },
   {
    "duration": 10,
    "start_time": "2022-10-07T16:46:31.463Z"
   },
   {
    "duration": 17,
    "start_time": "2022-10-07T16:46:31.474Z"
   },
   {
    "duration": 41,
    "start_time": "2022-10-07T16:46:31.493Z"
   },
   {
    "duration": 17,
    "start_time": "2022-10-07T16:46:31.536Z"
   },
   {
    "duration": 11,
    "start_time": "2022-10-07T16:46:31.555Z"
   },
   {
    "duration": 12,
    "start_time": "2022-10-07T16:46:31.568Z"
   },
   {
    "duration": 68,
    "start_time": "2022-10-07T16:46:31.582Z"
   },
   {
    "duration": 10,
    "start_time": "2022-10-07T16:46:31.653Z"
   },
   {
    "duration": 9,
    "start_time": "2022-10-07T16:46:31.664Z"
   },
   {
    "duration": 1034,
    "start_time": "2022-10-07T16:46:31.675Z"
   },
   {
    "duration": 2,
    "start_time": "2022-10-07T16:46:32.711Z"
   },
   {
    "duration": 20,
    "start_time": "2022-10-07T16:46:32.715Z"
   },
   {
    "duration": 19,
    "start_time": "2022-10-07T16:46:32.737Z"
   },
   {
    "duration": 320,
    "start_time": "2022-10-07T16:46:32.758Z"
   },
   {
    "duration": 272,
    "start_time": "2022-10-07T16:46:33.080Z"
   },
   {
    "duration": 6,
    "start_time": "2022-10-07T16:46:33.354Z"
   },
   {
    "duration": 38,
    "start_time": "2022-10-07T16:46:33.362Z"
   },
   {
    "duration": 5,
    "start_time": "2022-10-07T16:46:33.403Z"
   },
   {
    "duration": 3,
    "start_time": "2022-10-07T16:47:32.670Z"
   },
   {
    "duration": 11,
    "start_time": "2022-10-07T16:54:39.695Z"
   },
   {
    "duration": 267,
    "start_time": "2022-10-07T16:54:50.132Z"
   },
   {
    "duration": 19,
    "start_time": "2022-10-07T16:57:05.555Z"
   },
   {
    "duration": 199,
    "start_time": "2022-10-07T16:57:19.763Z"
   },
   {
    "duration": 12,
    "start_time": "2022-10-07T16:57:42.619Z"
   },
   {
    "duration": 670,
    "start_time": "2022-10-07T16:57:55.124Z"
   },
   {
    "duration": 923,
    "start_time": "2022-10-07T16:58:05.758Z"
   },
   {
    "duration": 1262,
    "start_time": "2022-10-07T16:58:09.419Z"
   },
   {
    "duration": 12,
    "start_time": "2022-10-07T16:58:15.306Z"
   },
   {
    "duration": 118,
    "start_time": "2022-10-07T17:01:52.218Z"
   },
   {
    "duration": 1119,
    "start_time": "2022-10-07T17:01:59.971Z"
   },
   {
    "duration": 101,
    "start_time": "2022-10-07T17:02:41.208Z"
   },
   {
    "duration": 177,
    "start_time": "2022-10-07T17:03:09.711Z"
   },
   {
    "duration": 168,
    "start_time": "2022-10-07T17:03:17.792Z"
   },
   {
    "duration": 9,
    "start_time": "2022-10-07T17:04:22.243Z"
   },
   {
    "duration": 123,
    "start_time": "2022-10-07T17:04:26.064Z"
   },
   {
    "duration": 6,
    "start_time": "2022-10-07T17:06:02.492Z"
   },
   {
    "duration": 918,
    "start_time": "2022-10-08T12:54:21.384Z"
   },
   {
    "duration": 201,
    "start_time": "2022-10-08T12:54:22.304Z"
   },
   {
    "duration": 18,
    "start_time": "2022-10-08T12:54:22.507Z"
   },
   {
    "duration": 12,
    "start_time": "2022-10-08T12:54:22.527Z"
   },
   {
    "duration": 1003,
    "start_time": "2022-10-08T12:54:22.542Z"
   },
   {
    "duration": 5,
    "start_time": "2022-10-08T12:54:23.547Z"
   },
   {
    "duration": 9,
    "start_time": "2022-10-08T12:54:23.554Z"
   },
   {
    "duration": 39,
    "start_time": "2022-10-08T12:54:23.565Z"
   },
   {
    "duration": 21,
    "start_time": "2022-10-08T12:54:23.606Z"
   },
   {
    "duration": 7,
    "start_time": "2022-10-08T12:54:23.628Z"
   },
   {
    "duration": 10,
    "start_time": "2022-10-08T12:54:23.637Z"
   },
   {
    "duration": 6,
    "start_time": "2022-10-08T12:54:23.648Z"
   },
   {
    "duration": 58,
    "start_time": "2022-10-08T12:54:23.655Z"
   },
   {
    "duration": 19,
    "start_time": "2022-10-08T12:54:23.716Z"
   },
   {
    "duration": 13,
    "start_time": "2022-10-08T12:54:23.738Z"
   },
   {
    "duration": 53,
    "start_time": "2022-10-08T12:54:23.753Z"
   },
   {
    "duration": 27,
    "start_time": "2022-10-08T12:54:23.808Z"
   },
   {
    "duration": 12,
    "start_time": "2022-10-08T12:54:23.836Z"
   },
   {
    "duration": 10,
    "start_time": "2022-10-08T12:54:23.849Z"
   },
   {
    "duration": 1042,
    "start_time": "2022-10-08T12:54:23.896Z"
   },
   {
    "duration": 3,
    "start_time": "2022-10-08T12:54:24.940Z"
   },
   {
    "duration": 10,
    "start_time": "2022-10-08T12:54:24.944Z"
   },
   {
    "duration": 16,
    "start_time": "2022-10-08T12:54:24.955Z"
   },
   {
    "duration": 352,
    "start_time": "2022-10-08T12:54:24.973Z"
   },
   {
    "duration": 284,
    "start_time": "2022-10-08T12:54:25.327Z"
   },
   {
    "duration": 7,
    "start_time": "2022-10-08T12:54:25.613Z"
   },
   {
    "duration": 8,
    "start_time": "2022-10-08T12:54:25.621Z"
   },
   {
    "duration": 5,
    "start_time": "2022-10-08T12:54:25.630Z"
   },
   {
    "duration": 11,
    "start_time": "2022-10-08T12:54:25.636Z"
   },
   {
    "duration": 203,
    "start_time": "2022-10-08T12:54:25.648Z"
   },
   {
    "duration": 7,
    "start_time": "2022-10-08T12:55:08.847Z"
   },
   {
    "duration": 7,
    "start_time": "2022-10-08T12:56:07.640Z"
   },
   {
    "duration": 1272,
    "start_time": "2022-10-08T12:56:23.528Z"
   },
   {
    "duration": 8,
    "start_time": "2022-10-08T12:56:38.071Z"
   },
   {
    "duration": 5,
    "start_time": "2022-10-08T12:56:48.358Z"
   },
   {
    "duration": 8,
    "start_time": "2022-10-08T13:05:23.793Z"
   },
   {
    "duration": 1247,
    "start_time": "2022-10-08T13:05:29.655Z"
   },
   {
    "duration": 68,
    "start_time": "2022-10-08T13:05:30.904Z"
   },
   {
    "duration": 15,
    "start_time": "2022-10-08T13:05:30.973Z"
   },
   {
    "duration": 10,
    "start_time": "2022-10-08T13:05:30.990Z"
   },
   {
    "duration": 874,
    "start_time": "2022-10-08T13:05:31.001Z"
   },
   {
    "duration": 5,
    "start_time": "2022-10-08T13:05:31.877Z"
   },
   {
    "duration": 34,
    "start_time": "2022-10-08T13:05:31.883Z"
   },
   {
    "duration": 15,
    "start_time": "2022-10-08T13:05:31.919Z"
   },
   {
    "duration": 25,
    "start_time": "2022-10-08T13:05:31.936Z"
   },
   {
    "duration": 11,
    "start_time": "2022-10-08T13:05:31.964Z"
   },
   {
    "duration": 10,
    "start_time": "2022-10-08T13:05:31.996Z"
   },
   {
    "duration": 9,
    "start_time": "2022-10-08T13:05:32.008Z"
   },
   {
    "duration": 22,
    "start_time": "2022-10-08T13:05:32.019Z"
   },
   {
    "duration": 17,
    "start_time": "2022-10-08T13:05:32.042Z"
   },
   {
    "duration": 43,
    "start_time": "2022-10-08T13:05:32.060Z"
   },
   {
    "duration": 10,
    "start_time": "2022-10-08T13:05:32.105Z"
   },
   {
    "duration": 24,
    "start_time": "2022-10-08T13:05:32.116Z"
   },
   {
    "duration": 11,
    "start_time": "2022-10-08T13:05:32.141Z"
   },
   {
    "duration": 45,
    "start_time": "2022-10-08T13:05:32.154Z"
   },
   {
    "duration": 1068,
    "start_time": "2022-10-08T13:05:32.201Z"
   },
   {
    "duration": 3,
    "start_time": "2022-10-08T13:05:33.271Z"
   },
   {
    "duration": 21,
    "start_time": "2022-10-08T13:05:33.276Z"
   },
   {
    "duration": 22,
    "start_time": "2022-10-08T13:05:33.299Z"
   },
   {
    "duration": 389,
    "start_time": "2022-10-08T13:05:33.323Z"
   },
   {
    "duration": 273,
    "start_time": "2022-10-08T13:05:33.714Z"
   },
   {
    "duration": 9,
    "start_time": "2022-10-08T13:05:33.988Z"
   },
   {
    "duration": 8,
    "start_time": "2022-10-08T13:05:33.999Z"
   },
   {
    "duration": 5,
    "start_time": "2022-10-08T13:05:34.010Z"
   },
   {
    "duration": 11,
    "start_time": "2022-10-08T13:05:34.016Z"
   },
   {
    "duration": 374,
    "start_time": "2022-10-08T13:05:34.028Z"
   },
   {
    "duration": 0,
    "start_time": "2022-10-08T13:05:34.403Z"
   },
   {
    "duration": 22,
    "start_time": "2022-10-08T13:05:51.102Z"
   },
   {
    "duration": 15,
    "start_time": "2022-10-08T13:08:32.103Z"
   },
   {
    "duration": 368,
    "start_time": "2022-10-08T13:08:34.232Z"
   },
   {
    "duration": 2022,
    "start_time": "2022-10-08T13:12:51.815Z"
   },
   {
    "duration": 14,
    "start_time": "2022-10-08T13:13:00.756Z"
   },
   {
    "duration": 4,
    "start_time": "2022-10-08T13:13:12.336Z"
   },
   {
    "duration": 12,
    "start_time": "2022-10-08T13:13:19.411Z"
   },
   {
    "duration": 9,
    "start_time": "2022-10-08T13:13:21.395Z"
   },
   {
    "duration": 14,
    "start_time": "2022-10-08T13:13:25.615Z"
   },
   {
    "duration": 95,
    "start_time": "2022-10-08T13:14:04.587Z"
   },
   {
    "duration": 348,
    "start_time": "2022-10-08T13:16:21.947Z"
   },
   {
    "duration": 112,
    "start_time": "2022-10-08T13:18:07.543Z"
   },
   {
    "duration": 67,
    "start_time": "2022-10-08T13:18:34.645Z"
   },
   {
    "duration": 118,
    "start_time": "2022-10-08T13:18:38.023Z"
   },
   {
    "duration": 1114,
    "start_time": "2022-10-08T13:18:48.763Z"
   },
   {
    "duration": 18,
    "start_time": "2022-10-08T13:19:02.056Z"
   },
   {
    "duration": 9,
    "start_time": "2022-10-08T13:20:41.017Z"
   },
   {
    "duration": 5,
    "start_time": "2022-10-08T13:20:46.520Z"
   },
   {
    "duration": 395,
    "start_time": "2022-10-08T13:21:07.961Z"
   },
   {
    "duration": 26,
    "start_time": "2022-10-08T13:21:17.504Z"
   },
   {
    "duration": 17,
    "start_time": "2022-10-08T13:21:32.472Z"
   },
   {
    "duration": 12,
    "start_time": "2022-10-08T13:21:46.776Z"
   },
   {
    "duration": 1795,
    "start_time": "2022-10-08T13:21:52.401Z"
   },
   {
    "duration": 6,
    "start_time": "2022-10-08T13:22:18.620Z"
   },
   {
    "duration": 14,
    "start_time": "2022-10-08T13:22:30.344Z"
   },
   {
    "duration": 4,
    "start_time": "2022-10-08T13:22:32.316Z"
   },
   {
    "duration": 304,
    "start_time": "2022-10-08T13:22:37.216Z"
   },
   {
    "duration": 15,
    "start_time": "2022-10-08T13:22:48.139Z"
   },
   {
    "duration": 432,
    "start_time": "2022-10-08T13:22:49.084Z"
   },
   {
    "duration": 8,
    "start_time": "2022-10-08T13:23:51.359Z"
   },
   {
    "duration": 7,
    "start_time": "2022-10-08T13:23:52.392Z"
   },
   {
    "duration": 15,
    "start_time": "2022-10-08T13:23:52.976Z"
   },
   {
    "duration": 425,
    "start_time": "2022-10-08T13:23:53.459Z"
   },
   {
    "duration": 7,
    "start_time": "2022-10-08T13:24:30.276Z"
   },
   {
    "duration": 7,
    "start_time": "2022-10-08T13:24:30.683Z"
   },
   {
    "duration": 13,
    "start_time": "2022-10-08T13:24:31.055Z"
   },
   {
    "duration": 300,
    "start_time": "2022-10-08T13:24:31.444Z"
   },
   {
    "duration": 374,
    "start_time": "2022-10-08T13:24:58.570Z"
   },
   {
    "duration": 360,
    "start_time": "2022-10-08T13:25:08.243Z"
   },
   {
    "duration": 1116,
    "start_time": "2022-10-08T13:25:15.840Z"
   },
   {
    "duration": 73,
    "start_time": "2022-10-08T13:25:16.958Z"
   },
   {
    "duration": 20,
    "start_time": "2022-10-08T13:25:17.033Z"
   },
   {
    "duration": 11,
    "start_time": "2022-10-08T13:25:17.055Z"
   },
   {
    "duration": 895,
    "start_time": "2022-10-08T13:25:17.069Z"
   },
   {
    "duration": 5,
    "start_time": "2022-10-08T13:25:17.966Z"
   },
   {
    "duration": 28,
    "start_time": "2022-10-08T13:25:17.972Z"
   },
   {
    "duration": 12,
    "start_time": "2022-10-08T13:25:18.002Z"
   },
   {
    "duration": 29,
    "start_time": "2022-10-08T13:25:18.016Z"
   },
   {
    "duration": 7,
    "start_time": "2022-10-08T13:25:18.047Z"
   },
   {
    "duration": 9,
    "start_time": "2022-10-08T13:25:18.056Z"
   },
   {
    "duration": 35,
    "start_time": "2022-10-08T13:25:18.067Z"
   },
   {
    "duration": 25,
    "start_time": "2022-10-08T13:25:18.103Z"
   },
   {
    "duration": 19,
    "start_time": "2022-10-08T13:25:18.130Z"
   },
   {
    "duration": 11,
    "start_time": "2022-10-08T13:25:18.150Z"
   },
   {
    "duration": 41,
    "start_time": "2022-10-08T13:25:18.163Z"
   },
   {
    "duration": 24,
    "start_time": "2022-10-08T13:25:18.206Z"
   },
   {
    "duration": 10,
    "start_time": "2022-10-08T13:25:18.231Z"
   },
   {
    "duration": 8,
    "start_time": "2022-10-08T13:25:18.242Z"
   },
   {
    "duration": 1046,
    "start_time": "2022-10-08T13:25:18.252Z"
   },
   {
    "duration": 3,
    "start_time": "2022-10-08T13:25:19.300Z"
   },
   {
    "duration": 29,
    "start_time": "2022-10-08T13:25:19.305Z"
   },
   {
    "duration": 17,
    "start_time": "2022-10-08T13:25:19.336Z"
   },
   {
    "duration": 377,
    "start_time": "2022-10-08T13:25:19.354Z"
   },
   {
    "duration": 262,
    "start_time": "2022-10-08T13:25:19.733Z"
   },
   {
    "duration": 338,
    "start_time": "2022-10-08T13:25:19.997Z"
   },
   {
    "duration": 24,
    "start_time": "2022-10-08T13:38:49.651Z"
   },
   {
    "duration": 24,
    "start_time": "2022-10-08T13:39:01.149Z"
   },
   {
    "duration": 23,
    "start_time": "2022-10-08T13:39:05.857Z"
   },
   {
    "duration": 24,
    "start_time": "2022-10-08T13:39:27.294Z"
   },
   {
    "duration": 24,
    "start_time": "2022-10-08T13:39:31.734Z"
   },
   {
    "duration": 24,
    "start_time": "2022-10-08T13:41:03.557Z"
   },
   {
    "duration": 25,
    "start_time": "2022-10-08T13:41:13.325Z"
   },
   {
    "duration": 28,
    "start_time": "2022-10-08T13:41:42.821Z"
   },
   {
    "duration": 25,
    "start_time": "2022-10-08T13:41:46.786Z"
   },
   {
    "duration": 6,
    "start_time": "2022-10-08T13:42:32.105Z"
   },
   {
    "duration": 181,
    "start_time": "2022-10-08T13:43:09.997Z"
   },
   {
    "duration": 160,
    "start_time": "2022-10-08T13:43:23.294Z"
   },
   {
    "duration": 5,
    "start_time": "2022-10-08T13:46:19.638Z"
   },
   {
    "duration": 7,
    "start_time": "2022-10-08T13:46:25.856Z"
   },
   {
    "duration": 5,
    "start_time": "2022-10-08T13:46:32.311Z"
   },
   {
    "duration": 6,
    "start_time": "2022-10-08T13:46:33.297Z"
   },
   {
    "duration": 7,
    "start_time": "2022-10-08T13:46:35.781Z"
   },
   {
    "duration": 5,
    "start_time": "2022-10-08T13:46:55.442Z"
   },
   {
    "duration": 8,
    "start_time": "2022-10-08T13:46:58.334Z"
   },
   {
    "duration": 103,
    "start_time": "2022-10-08T13:47:22.293Z"
   },
   {
    "duration": 86,
    "start_time": "2022-10-08T13:47:32.462Z"
   },
   {
    "duration": 5,
    "start_time": "2022-10-08T13:48:41.044Z"
   },
   {
    "duration": 21,
    "start_time": "2022-10-08T13:48:44.553Z"
   },
   {
    "duration": 5,
    "start_time": "2022-10-08T13:49:02.285Z"
   },
   {
    "duration": 10,
    "start_time": "2022-10-08T13:49:22.218Z"
   },
   {
    "duration": 189,
    "start_time": "2022-10-08T13:49:33.260Z"
   },
   {
    "duration": 253,
    "start_time": "2022-10-08T14:02:42.720Z"
   },
   {
    "duration": 111,
    "start_time": "2022-10-08T14:02:55.798Z"
   },
   {
    "duration": 105,
    "start_time": "2022-10-08T14:02:57.699Z"
   },
   {
    "duration": 1136,
    "start_time": "2022-10-08T14:03:09.731Z"
   },
   {
    "duration": 69,
    "start_time": "2022-10-08T14:03:10.869Z"
   },
   {
    "duration": 14,
    "start_time": "2022-10-08T14:03:10.940Z"
   },
   {
    "duration": 10,
    "start_time": "2022-10-08T14:03:10.956Z"
   },
   {
    "duration": 953,
    "start_time": "2022-10-08T14:03:10.969Z"
   },
   {
    "duration": 6,
    "start_time": "2022-10-08T14:03:11.923Z"
   },
   {
    "duration": 43,
    "start_time": "2022-10-08T14:03:11.931Z"
   },
   {
    "duration": 14,
    "start_time": "2022-10-08T14:03:11.977Z"
   },
   {
    "duration": 24,
    "start_time": "2022-10-08T14:03:11.993Z"
   },
   {
    "duration": 10,
    "start_time": "2022-10-08T14:03:12.021Z"
   },
   {
    "duration": 10,
    "start_time": "2022-10-08T14:03:12.033Z"
   },
   {
    "duration": 6,
    "start_time": "2022-10-08T14:03:12.045Z"
   },
   {
    "duration": 60,
    "start_time": "2022-10-08T14:03:12.052Z"
   },
   {
    "duration": 18,
    "start_time": "2022-10-08T14:03:12.114Z"
   },
   {
    "duration": 11,
    "start_time": "2022-10-08T14:03:12.134Z"
   },
   {
    "duration": 11,
    "start_time": "2022-10-08T14:03:12.146Z"
   },
   {
    "duration": 57,
    "start_time": "2022-10-08T14:03:12.159Z"
   },
   {
    "duration": 11,
    "start_time": "2022-10-08T14:03:12.218Z"
   },
   {
    "duration": 9,
    "start_time": "2022-10-08T14:03:12.231Z"
   },
   {
    "duration": 1088,
    "start_time": "2022-10-08T14:03:12.242Z"
   },
   {
    "duration": 3,
    "start_time": "2022-10-08T14:03:13.332Z"
   },
   {
    "duration": 31,
    "start_time": "2022-10-08T14:03:13.337Z"
   },
   {
    "duration": 28,
    "start_time": "2022-10-08T14:03:13.370Z"
   },
   {
    "duration": 410,
    "start_time": "2022-10-08T14:03:13.399Z"
   },
   {
    "duration": 275,
    "start_time": "2022-10-08T14:03:13.811Z"
   },
   {
    "duration": 359,
    "start_time": "2022-10-08T14:03:14.095Z"
   },
   {
    "duration": 8,
    "start_time": "2022-10-08T14:03:14.456Z"
   },
   {
    "duration": 177,
    "start_time": "2022-10-08T14:03:14.468Z"
   },
   {
    "duration": 5,
    "start_time": "2022-10-08T14:03:14.647Z"
   },
   {
    "duration": 21,
    "start_time": "2022-10-08T14:03:14.654Z"
   },
   {
    "duration": 232,
    "start_time": "2022-10-08T14:03:14.677Z"
   },
   {
    "duration": 12,
    "start_time": "2022-10-08T14:07:23.320Z"
   },
   {
    "duration": 7,
    "start_time": "2022-10-08T14:07:30.863Z"
   },
   {
    "duration": 11,
    "start_time": "2022-10-08T14:10:17.246Z"
   },
   {
    "duration": 184,
    "start_time": "2022-10-08T14:10:40.870Z"
   },
   {
    "duration": 208,
    "start_time": "2022-10-08T14:13:50.744Z"
   },
   {
    "duration": 24,
    "start_time": "2022-10-08T14:14:02.756Z"
   },
   {
    "duration": 120,
    "start_time": "2022-10-08T14:14:19.193Z"
   },
   {
    "duration": 116,
    "start_time": "2022-10-08T14:15:06.187Z"
   },
   {
    "duration": 166,
    "start_time": "2022-10-08T14:16:17.220Z"
   },
   {
    "duration": 18,
    "start_time": "2022-10-08T14:20:38.500Z"
   },
   {
    "duration": 13,
    "start_time": "2022-10-08T14:21:15.094Z"
   },
   {
    "duration": 274,
    "start_time": "2022-10-08T14:21:24.752Z"
   },
   {
    "duration": 1098,
    "start_time": "2022-10-08T14:21:51.800Z"
   },
   {
    "duration": 65,
    "start_time": "2022-10-08T14:21:52.900Z"
   },
   {
    "duration": 13,
    "start_time": "2022-10-08T14:21:52.967Z"
   },
   {
    "duration": 8,
    "start_time": "2022-10-08T14:21:52.983Z"
   },
   {
    "duration": 850,
    "start_time": "2022-10-08T14:21:52.995Z"
   },
   {
    "duration": 5,
    "start_time": "2022-10-08T14:21:53.847Z"
   },
   {
    "duration": 34,
    "start_time": "2022-10-08T14:21:53.853Z"
   },
   {
    "duration": 11,
    "start_time": "2022-10-08T14:21:53.889Z"
   },
   {
    "duration": 17,
    "start_time": "2022-10-08T14:21:53.901Z"
   },
   {
    "duration": 7,
    "start_time": "2022-10-08T14:21:53.920Z"
   },
   {
    "duration": 7,
    "start_time": "2022-10-08T14:21:53.928Z"
   },
   {
    "duration": 5,
    "start_time": "2022-10-08T14:21:53.936Z"
   },
   {
    "duration": 53,
    "start_time": "2022-10-08T14:21:53.943Z"
   },
   {
    "duration": 18,
    "start_time": "2022-10-08T14:21:53.998Z"
   },
   {
    "duration": 10,
    "start_time": "2022-10-08T14:21:54.017Z"
   },
   {
    "duration": 10,
    "start_time": "2022-10-08T14:21:54.029Z"
   },
   {
    "duration": 55,
    "start_time": "2022-10-08T14:21:54.040Z"
   },
   {
    "duration": 13,
    "start_time": "2022-10-08T14:21:54.097Z"
   },
   {
    "duration": 8,
    "start_time": "2022-10-08T14:21:54.113Z"
   },
   {
    "duration": 1037,
    "start_time": "2022-10-08T14:21:54.122Z"
   },
   {
    "duration": 2,
    "start_time": "2022-10-08T14:21:55.161Z"
   },
   {
    "duration": 8,
    "start_time": "2022-10-08T14:21:55.165Z"
   },
   {
    "duration": 30,
    "start_time": "2022-10-08T14:21:55.175Z"
   },
   {
    "duration": 379,
    "start_time": "2022-10-08T14:21:55.206Z"
   },
   {
    "duration": 271,
    "start_time": "2022-10-08T14:21:55.586Z"
   },
   {
    "duration": 366,
    "start_time": "2022-10-08T14:21:55.858Z"
   },
   {
    "duration": 6,
    "start_time": "2022-10-08T14:21:56.226Z"
   },
   {
    "duration": 152,
    "start_time": "2022-10-08T14:21:56.234Z"
   },
   {
    "duration": 5,
    "start_time": "2022-10-08T14:21:56.395Z"
   },
   {
    "duration": 209,
    "start_time": "2022-10-08T14:21:56.401Z"
   },
   {
    "duration": 164,
    "start_time": "2022-10-08T14:51:03.316Z"
   },
   {
    "duration": 1119,
    "start_time": "2022-10-08T14:57:08.874Z"
   },
   {
    "duration": 68,
    "start_time": "2022-10-08T14:57:09.995Z"
   },
   {
    "duration": 17,
    "start_time": "2022-10-08T14:57:10.065Z"
   },
   {
    "duration": 12,
    "start_time": "2022-10-08T14:57:10.085Z"
   },
   {
    "duration": 886,
    "start_time": "2022-10-08T14:57:10.099Z"
   },
   {
    "duration": 9,
    "start_time": "2022-10-08T14:57:10.987Z"
   },
   {
    "duration": 47,
    "start_time": "2022-10-08T14:57:10.998Z"
   },
   {
    "duration": 12,
    "start_time": "2022-10-08T14:57:11.046Z"
   },
   {
    "duration": 18,
    "start_time": "2022-10-08T14:57:11.060Z"
   },
   {
    "duration": 8,
    "start_time": "2022-10-08T14:57:11.080Z"
   },
   {
    "duration": 11,
    "start_time": "2022-10-08T14:57:11.089Z"
   },
   {
    "duration": 5,
    "start_time": "2022-10-08T14:57:11.102Z"
   },
   {
    "duration": 19,
    "start_time": "2022-10-08T14:57:11.108Z"
   },
   {
    "duration": 18,
    "start_time": "2022-10-08T14:57:11.128Z"
   },
   {
    "duration": 49,
    "start_time": "2022-10-08T14:57:11.147Z"
   },
   {
    "duration": 11,
    "start_time": "2022-10-08T14:57:11.197Z"
   },
   {
    "duration": 24,
    "start_time": "2022-10-08T14:57:11.210Z"
   },
   {
    "duration": 11,
    "start_time": "2022-10-08T14:57:11.235Z"
   },
   {
    "duration": 8,
    "start_time": "2022-10-08T14:57:11.247Z"
   },
   {
    "duration": 1080,
    "start_time": "2022-10-08T14:57:11.257Z"
   },
   {
    "duration": 3,
    "start_time": "2022-10-08T14:57:12.339Z"
   },
   {
    "duration": 13,
    "start_time": "2022-10-08T14:57:12.344Z"
   },
   {
    "duration": 38,
    "start_time": "2022-10-08T14:57:12.359Z"
   },
   {
    "duration": 400,
    "start_time": "2022-10-08T14:57:12.399Z"
   },
   {
    "duration": 307,
    "start_time": "2022-10-08T14:57:12.801Z"
   },
   {
    "duration": 338,
    "start_time": "2022-10-08T14:57:13.110Z"
   },
   {
    "duration": 6,
    "start_time": "2022-10-08T14:57:13.449Z"
   },
   {
    "duration": 154,
    "start_time": "2022-10-08T14:57:13.458Z"
   },
   {
    "duration": 183,
    "start_time": "2022-10-08T14:57:13.614Z"
   },
   {
    "duration": 274,
    "start_time": "2022-10-08T15:00:40.330Z"
   },
   {
    "duration": 1107,
    "start_time": "2022-10-08T15:01:08.280Z"
   },
   {
    "duration": 64,
    "start_time": "2022-10-08T15:01:09.389Z"
   },
   {
    "duration": 14,
    "start_time": "2022-10-08T15:01:09.455Z"
   },
   {
    "duration": 9,
    "start_time": "2022-10-08T15:01:09.472Z"
   },
   {
    "duration": 916,
    "start_time": "2022-10-08T15:01:09.484Z"
   },
   {
    "duration": 5,
    "start_time": "2022-10-08T15:01:10.402Z"
   },
   {
    "duration": 43,
    "start_time": "2022-10-08T15:01:10.408Z"
   },
   {
    "duration": 12,
    "start_time": "2022-10-08T15:01:10.453Z"
   },
   {
    "duration": 19,
    "start_time": "2022-10-08T15:01:10.466Z"
   },
   {
    "duration": 8,
    "start_time": "2022-10-08T15:01:10.488Z"
   },
   {
    "duration": 14,
    "start_time": "2022-10-08T15:01:10.497Z"
   },
   {
    "duration": 6,
    "start_time": "2022-10-08T15:01:10.513Z"
   },
   {
    "duration": 22,
    "start_time": "2022-10-08T15:01:10.521Z"
   },
   {
    "duration": 18,
    "start_time": "2022-10-08T15:01:10.545Z"
   },
   {
    "duration": 11,
    "start_time": "2022-10-08T15:01:10.594Z"
   },
   {
    "duration": 11,
    "start_time": "2022-10-08T15:01:10.607Z"
   },
   {
    "duration": 25,
    "start_time": "2022-10-08T15:01:10.620Z"
   },
   {
    "duration": 10,
    "start_time": "2022-10-08T15:01:10.647Z"
   },
   {
    "duration": 40,
    "start_time": "2022-10-08T15:01:10.659Z"
   },
   {
    "duration": 1054,
    "start_time": "2022-10-08T15:01:10.701Z"
   },
   {
    "duration": 4,
    "start_time": "2022-10-08T15:01:11.757Z"
   },
   {
    "duration": 8,
    "start_time": "2022-10-08T15:01:11.763Z"
   },
   {
    "duration": 33,
    "start_time": "2022-10-08T15:01:11.773Z"
   },
   {
    "duration": 385,
    "start_time": "2022-10-08T15:01:11.808Z"
   },
   {
    "duration": 272,
    "start_time": "2022-10-08T15:01:12.195Z"
   },
   {
    "duration": 360,
    "start_time": "2022-10-08T15:01:12.469Z"
   },
   {
    "duration": 8,
    "start_time": "2022-10-08T15:01:12.831Z"
   },
   {
    "duration": 124,
    "start_time": "2022-10-08T15:01:12.843Z"
   },
   {
    "duration": 0,
    "start_time": "2022-10-08T15:01:12.969Z"
   },
   {
    "duration": 0,
    "start_time": "2022-10-08T15:01:12.970Z"
   },
   {
    "duration": 320,
    "start_time": "2022-10-08T15:01:20.605Z"
   },
   {
    "duration": 143,
    "start_time": "2022-10-08T15:06:20.955Z"
   },
   {
    "duration": 128,
    "start_time": "2022-10-08T15:06:45.101Z"
   },
   {
    "duration": 172,
    "start_time": "2022-10-08T15:07:09.785Z"
   },
   {
    "duration": 11,
    "start_time": "2022-10-08T15:10:25.513Z"
   },
   {
    "duration": 22,
    "start_time": "2022-10-08T15:10:33.306Z"
   },
   {
    "duration": 15,
    "start_time": "2022-10-08T15:12:38.646Z"
   },
   {
    "duration": 15,
    "start_time": "2022-10-08T15:14:28.890Z"
   },
   {
    "duration": 15,
    "start_time": "2022-10-08T15:14:58.619Z"
   },
   {
    "duration": 16,
    "start_time": "2022-10-08T15:15:02.553Z"
   },
   {
    "duration": 15,
    "start_time": "2022-10-08T15:15:14.901Z"
   },
   {
    "duration": 16,
    "start_time": "2022-10-08T15:16:19.813Z"
   },
   {
    "duration": 95,
    "start_time": "2022-10-08T15:17:09.054Z"
   },
   {
    "duration": 113,
    "start_time": "2022-10-08T15:17:26.924Z"
   },
   {
    "duration": 17,
    "start_time": "2022-10-08T15:17:42.470Z"
   },
   {
    "duration": 16,
    "start_time": "2022-10-08T15:19:47.311Z"
   },
   {
    "duration": 297,
    "start_time": "2022-10-08T15:19:55.215Z"
   },
   {
    "duration": 220,
    "start_time": "2022-10-08T15:20:06.921Z"
   },
   {
    "duration": 207,
    "start_time": "2022-10-08T15:20:40.903Z"
   },
   {
    "duration": 12,
    "start_time": "2022-10-08T15:21:04.249Z"
   },
   {
    "duration": 235,
    "start_time": "2022-10-08T15:21:08.770Z"
   },
   {
    "duration": 247,
    "start_time": "2022-10-08T15:21:15.779Z"
   },
   {
    "duration": 240,
    "start_time": "2022-10-08T15:21:18.661Z"
   },
   {
    "duration": 1175,
    "start_time": "2022-10-08T15:28:15.930Z"
   },
   {
    "duration": 68,
    "start_time": "2022-10-08T15:28:17.107Z"
   },
   {
    "duration": 15,
    "start_time": "2022-10-08T15:28:17.177Z"
   },
   {
    "duration": 8,
    "start_time": "2022-10-08T15:28:17.195Z"
   },
   {
    "duration": 924,
    "start_time": "2022-10-08T15:28:17.205Z"
   },
   {
    "duration": 5,
    "start_time": "2022-10-08T15:28:18.131Z"
   },
   {
    "duration": 39,
    "start_time": "2022-10-08T15:28:18.137Z"
   },
   {
    "duration": 11,
    "start_time": "2022-10-08T15:28:18.178Z"
   },
   {
    "duration": 18,
    "start_time": "2022-10-08T15:28:18.191Z"
   },
   {
    "duration": 9,
    "start_time": "2022-10-08T15:28:18.212Z"
   },
   {
    "duration": 15,
    "start_time": "2022-10-08T15:28:18.222Z"
   },
   {
    "duration": 6,
    "start_time": "2022-10-08T15:28:18.239Z"
   },
   {
    "duration": 50,
    "start_time": "2022-10-08T15:28:18.246Z"
   },
   {
    "duration": 19,
    "start_time": "2022-10-08T15:28:18.298Z"
   },
   {
    "duration": 12,
    "start_time": "2022-10-08T15:28:18.320Z"
   },
   {
    "duration": 13,
    "start_time": "2022-10-08T15:28:18.334Z"
   },
   {
    "duration": 64,
    "start_time": "2022-10-08T15:28:18.349Z"
   },
   {
    "duration": 14,
    "start_time": "2022-10-08T15:28:18.414Z"
   },
   {
    "duration": 10,
    "start_time": "2022-10-08T15:28:18.430Z"
   },
   {
    "duration": 1071,
    "start_time": "2022-10-08T15:28:18.442Z"
   },
   {
    "duration": 3,
    "start_time": "2022-10-08T15:28:19.515Z"
   },
   {
    "duration": 16,
    "start_time": "2022-10-08T15:28:19.520Z"
   },
   {
    "duration": 18,
    "start_time": "2022-10-08T15:28:19.538Z"
   },
   {
    "duration": 408,
    "start_time": "2022-10-08T15:28:19.558Z"
   },
   {
    "duration": 286,
    "start_time": "2022-10-08T15:28:19.968Z"
   },
   {
    "duration": 380,
    "start_time": "2022-10-08T15:28:20.256Z"
   },
   {
    "duration": 8,
    "start_time": "2022-10-08T15:28:20.638Z"
   },
   {
    "duration": 348,
    "start_time": "2022-10-08T15:28:20.650Z"
   },
   {
    "duration": 263,
    "start_time": "2022-10-08T15:28:20.999Z"
   },
   {
    "duration": 274,
    "start_time": "2022-10-08T15:36:37.825Z"
   },
   {
    "duration": 15,
    "start_time": "2022-10-08T15:37:57.882Z"
   },
   {
    "duration": 221,
    "start_time": "2022-10-08T15:38:48.114Z"
   },
   {
    "duration": 291,
    "start_time": "2022-10-08T15:39:41.807Z"
   },
   {
    "duration": 820,
    "start_time": "2022-10-08T15:41:12.705Z"
   },
   {
    "duration": 6,
    "start_time": "2022-10-08T15:41:21.636Z"
   },
   {
    "duration": 73,
    "start_time": "2022-10-08T15:41:52.136Z"
   },
   {
    "duration": 6,
    "start_time": "2022-10-08T15:41:59.510Z"
   },
   {
    "duration": 8,
    "start_time": "2022-10-08T15:42:23.750Z"
   },
   {
    "duration": 6,
    "start_time": "2022-10-08T15:45:05.234Z"
   },
   {
    "duration": 456,
    "start_time": "2022-10-08T15:45:06.861Z"
   },
   {
    "duration": 8,
    "start_time": "2022-10-08T15:45:18.379Z"
   },
   {
    "duration": 6,
    "start_time": "2022-10-08T15:45:51.074Z"
   },
   {
    "duration": 280,
    "start_time": "2022-10-08T15:45:52.015Z"
   },
   {
    "duration": 6,
    "start_time": "2022-10-08T15:46:18.063Z"
   },
   {
    "duration": 327,
    "start_time": "2022-10-08T15:46:19.100Z"
   },
   {
    "duration": 6,
    "start_time": "2022-10-08T15:47:09.746Z"
   },
   {
    "duration": 1069,
    "start_time": "2022-10-08T15:47:14.221Z"
   },
   {
    "duration": 64,
    "start_time": "2022-10-08T15:47:15.292Z"
   },
   {
    "duration": 15,
    "start_time": "2022-10-08T15:47:15.357Z"
   },
   {
    "duration": 8,
    "start_time": "2022-10-08T15:47:15.374Z"
   },
   {
    "duration": 865,
    "start_time": "2022-10-08T15:47:15.383Z"
   },
   {
    "duration": 4,
    "start_time": "2022-10-08T15:47:16.250Z"
   },
   {
    "duration": 37,
    "start_time": "2022-10-08T15:47:16.256Z"
   },
   {
    "duration": 11,
    "start_time": "2022-10-08T15:47:16.295Z"
   },
   {
    "duration": 20,
    "start_time": "2022-10-08T15:47:16.307Z"
   },
   {
    "duration": 8,
    "start_time": "2022-10-08T15:47:16.329Z"
   },
   {
    "duration": 8,
    "start_time": "2022-10-08T15:47:16.338Z"
   },
   {
    "duration": 5,
    "start_time": "2022-10-08T15:47:16.348Z"
   },
   {
    "duration": 19,
    "start_time": "2022-10-08T15:47:16.395Z"
   },
   {
    "duration": 18,
    "start_time": "2022-10-08T15:47:16.415Z"
   },
   {
    "duration": 10,
    "start_time": "2022-10-08T15:47:16.434Z"
   },
   {
    "duration": 10,
    "start_time": "2022-10-08T15:47:16.445Z"
   },
   {
    "duration": 60,
    "start_time": "2022-10-08T15:47:16.456Z"
   },
   {
    "duration": 15,
    "start_time": "2022-10-08T15:47:16.518Z"
   },
   {
    "duration": 9,
    "start_time": "2022-10-08T15:47:16.535Z"
   },
   {
    "duration": 1056,
    "start_time": "2022-10-08T15:47:16.546Z"
   },
   {
    "duration": 3,
    "start_time": "2022-10-08T15:47:17.604Z"
   },
   {
    "duration": 9,
    "start_time": "2022-10-08T15:47:17.609Z"
   },
   {
    "duration": 16,
    "start_time": "2022-10-08T15:47:17.620Z"
   },
   {
    "duration": 408,
    "start_time": "2022-10-08T15:47:17.638Z"
   },
   {
    "duration": 266,
    "start_time": "2022-10-08T15:47:18.047Z"
   },
   {
    "duration": 336,
    "start_time": "2022-10-08T15:47:18.315Z"
   },
   {
    "duration": 7,
    "start_time": "2022-10-08T15:47:18.652Z"
   },
   {
    "duration": 305,
    "start_time": "2022-10-08T15:47:18.662Z"
   },
   {
    "duration": 256,
    "start_time": "2022-10-08T15:47:18.968Z"
   },
   {
    "duration": 258,
    "start_time": "2022-10-08T15:47:19.226Z"
   },
   {
    "duration": 13,
    "start_time": "2022-10-08T15:47:19.486Z"
   },
   {
    "duration": 9,
    "start_time": "2022-10-08T15:47:19.501Z"
   },
   {
    "duration": 209,
    "start_time": "2022-10-08T15:55:43.373Z"
   },
   {
    "duration": 164,
    "start_time": "2022-10-08T15:55:50.660Z"
   },
   {
    "duration": 260,
    "start_time": "2022-10-08T15:55:55.164Z"
   },
   {
    "duration": 181,
    "start_time": "2022-10-08T15:56:13.800Z"
   },
   {
    "duration": 16,
    "start_time": "2022-10-08T16:02:26.037Z"
   },
   {
    "duration": 287,
    "start_time": "2022-10-08T16:07:35.204Z"
   },
   {
    "duration": 1099,
    "start_time": "2022-10-08T16:08:55.473Z"
   },
   {
    "duration": 78,
    "start_time": "2022-10-08T16:08:56.574Z"
   },
   {
    "duration": 14,
    "start_time": "2022-10-08T16:08:56.653Z"
   },
   {
    "duration": 8,
    "start_time": "2022-10-08T16:08:56.668Z"
   },
   {
    "duration": 932,
    "start_time": "2022-10-08T16:08:56.679Z"
   },
   {
    "duration": 5,
    "start_time": "2022-10-08T16:08:57.613Z"
   },
   {
    "duration": 28,
    "start_time": "2022-10-08T16:08:57.619Z"
   },
   {
    "duration": 11,
    "start_time": "2022-10-08T16:08:57.649Z"
   },
   {
    "duration": 19,
    "start_time": "2022-10-08T16:08:57.662Z"
   },
   {
    "duration": 19,
    "start_time": "2022-10-08T16:08:57.682Z"
   },
   {
    "duration": 10,
    "start_time": "2022-10-08T16:08:57.703Z"
   },
   {
    "duration": 10,
    "start_time": "2022-10-08T16:08:57.715Z"
   },
   {
    "duration": 20,
    "start_time": "2022-10-08T16:08:57.727Z"
   },
   {
    "duration": 47,
    "start_time": "2022-10-08T16:08:57.750Z"
   },
   {
    "duration": 12,
    "start_time": "2022-10-08T16:08:57.800Z"
   },
   {
    "duration": 12,
    "start_time": "2022-10-08T16:08:57.814Z"
   },
   {
    "duration": 26,
    "start_time": "2022-10-08T16:08:57.827Z"
   },
   {
    "duration": 46,
    "start_time": "2022-10-08T16:08:57.854Z"
   },
   {
    "duration": 9,
    "start_time": "2022-10-08T16:08:57.902Z"
   },
   {
    "duration": 1061,
    "start_time": "2022-10-08T16:08:57.913Z"
   },
   {
    "duration": 3,
    "start_time": "2022-10-08T16:08:58.977Z"
   },
   {
    "duration": 18,
    "start_time": "2022-10-08T16:08:58.982Z"
   },
   {
    "duration": 19,
    "start_time": "2022-10-08T16:08:59.002Z"
   },
   {
    "duration": 404,
    "start_time": "2022-10-08T16:08:59.022Z"
   },
   {
    "duration": 268,
    "start_time": "2022-10-08T16:08:59.428Z"
   },
   {
    "duration": 341,
    "start_time": "2022-10-08T16:08:59.698Z"
   },
   {
    "duration": 7,
    "start_time": "2022-10-08T16:09:00.041Z"
   },
   {
    "duration": 318,
    "start_time": "2022-10-08T16:09:00.049Z"
   },
   {
    "duration": 249,
    "start_time": "2022-10-08T16:09:00.369Z"
   },
   {
    "duration": 266,
    "start_time": "2022-10-08T16:09:00.620Z"
   },
   {
    "duration": 12,
    "start_time": "2022-10-08T16:09:00.888Z"
   },
   {
    "duration": 201,
    "start_time": "2022-10-08T16:09:00.902Z"
   },
   {
    "duration": 1116,
    "start_time": "2022-10-08T16:09:55.366Z"
   },
   {
    "duration": 76,
    "start_time": "2022-10-08T16:09:56.484Z"
   },
   {
    "duration": 17,
    "start_time": "2022-10-08T16:09:56.562Z"
   },
   {
    "duration": 15,
    "start_time": "2022-10-08T16:09:56.582Z"
   },
   {
    "duration": 944,
    "start_time": "2022-10-08T16:09:56.599Z"
   },
   {
    "duration": 5,
    "start_time": "2022-10-08T16:09:57.544Z"
   },
   {
    "duration": 29,
    "start_time": "2022-10-08T16:09:57.551Z"
   },
   {
    "duration": 15,
    "start_time": "2022-10-08T16:09:57.582Z"
   },
   {
    "duration": 16,
    "start_time": "2022-10-08T16:09:57.599Z"
   },
   {
    "duration": 7,
    "start_time": "2022-10-08T16:09:57.618Z"
   },
   {
    "duration": 6,
    "start_time": "2022-10-08T16:09:57.626Z"
   },
   {
    "duration": 7,
    "start_time": "2022-10-08T16:09:57.634Z"
   },
   {
    "duration": 53,
    "start_time": "2022-10-08T16:09:57.643Z"
   },
   {
    "duration": 17,
    "start_time": "2022-10-08T16:09:57.698Z"
   },
   {
    "duration": 10,
    "start_time": "2022-10-08T16:09:57.717Z"
   },
   {
    "duration": 10,
    "start_time": "2022-10-08T16:09:57.729Z"
   },
   {
    "duration": 55,
    "start_time": "2022-10-08T16:09:57.740Z"
   },
   {
    "duration": 12,
    "start_time": "2022-10-08T16:09:57.797Z"
   },
   {
    "duration": 7,
    "start_time": "2022-10-08T16:09:57.811Z"
   },
   {
    "duration": 1019,
    "start_time": "2022-10-08T16:09:57.820Z"
   },
   {
    "duration": 3,
    "start_time": "2022-10-08T16:09:58.841Z"
   },
   {
    "duration": 8,
    "start_time": "2022-10-08T16:09:58.846Z"
   },
   {
    "duration": 40,
    "start_time": "2022-10-08T16:09:58.856Z"
   },
   {
    "duration": 362,
    "start_time": "2022-10-08T16:09:58.898Z"
   },
   {
    "duration": 263,
    "start_time": "2022-10-08T16:09:59.261Z"
   },
   {
    "duration": 328,
    "start_time": "2022-10-08T16:09:59.525Z"
   },
   {
    "duration": 7,
    "start_time": "2022-10-08T16:09:59.854Z"
   },
   {
    "duration": 317,
    "start_time": "2022-10-08T16:09:59.863Z"
   },
   {
    "duration": 272,
    "start_time": "2022-10-08T16:10:00.182Z"
   },
   {
    "duration": 272,
    "start_time": "2022-10-08T16:10:00.455Z"
   },
   {
    "duration": 9,
    "start_time": "2022-10-08T16:10:00.729Z"
   },
   {
    "duration": 215,
    "start_time": "2022-10-08T16:10:00.740Z"
   },
   {
    "duration": 4,
    "start_time": "2022-10-08T16:10:00.957Z"
   },
   {
    "duration": 354,
    "start_time": "2022-10-08T16:10:17.798Z"
   },
   {
    "duration": 19583,
    "start_time": "2022-10-08T16:11:30.000Z"
   },
   {
    "duration": 4,
    "start_time": "2022-10-08T16:12:26.330Z"
   },
   {
    "duration": 4,
    "start_time": "2022-10-08T16:12:37.604Z"
   },
   {
    "duration": 8,
    "start_time": "2022-10-08T16:14:03.180Z"
   },
   {
    "duration": 133,
    "start_time": "2022-10-08T16:14:10.071Z"
   },
   {
    "duration": 127,
    "start_time": "2022-10-08T16:14:15.836Z"
   },
   {
    "duration": 132,
    "start_time": "2022-10-08T16:14:28.868Z"
   },
   {
    "duration": 331,
    "start_time": "2022-10-08T16:15:29.266Z"
   },
   {
    "duration": 332,
    "start_time": "2022-10-08T16:15:35.282Z"
   },
   {
    "duration": 325,
    "start_time": "2022-10-08T16:15:50.277Z"
   },
   {
    "duration": 334,
    "start_time": "2022-10-08T16:15:55.006Z"
   },
   {
    "duration": 359,
    "start_time": "2022-10-08T16:16:21.942Z"
   },
   {
    "duration": 354,
    "start_time": "2022-10-08T16:18:15.723Z"
   },
   {
    "duration": 396,
    "start_time": "2022-10-08T16:18:32.592Z"
   },
   {
    "duration": 370,
    "start_time": "2022-10-08T16:18:39.407Z"
   },
   {
    "duration": 371,
    "start_time": "2022-10-08T16:18:47.290Z"
   },
   {
    "duration": 606,
    "start_time": "2022-10-08T16:18:51.074Z"
   },
   {
    "duration": 403,
    "start_time": "2022-10-08T16:20:00.786Z"
   },
   {
    "duration": 376,
    "start_time": "2022-10-08T16:20:09.843Z"
   },
   {
    "duration": 386,
    "start_time": "2022-10-08T16:21:18.868Z"
   },
   {
    "duration": 306,
    "start_time": "2022-10-08T16:22:13.953Z"
   },
   {
    "duration": 386,
    "start_time": "2022-10-08T16:22:23.575Z"
   },
   {
    "duration": 399,
    "start_time": "2022-10-08T16:26:36.263Z"
   },
   {
    "duration": 390,
    "start_time": "2022-10-08T16:26:42.847Z"
   },
   {
    "duration": 351,
    "start_time": "2022-10-08T16:31:47.525Z"
   },
   {
    "duration": 284,
    "start_time": "2022-10-08T16:31:58.725Z"
   },
   {
    "duration": 324,
    "start_time": "2022-10-08T16:32:27.597Z"
   },
   {
    "duration": 328,
    "start_time": "2022-10-08T16:32:39.299Z"
   },
   {
    "duration": 563,
    "start_time": "2022-10-08T16:32:45.741Z"
   },
   {
    "duration": 329,
    "start_time": "2022-10-08T16:32:56.636Z"
   },
   {
    "duration": 310,
    "start_time": "2022-10-08T16:33:50.865Z"
   },
   {
    "duration": 293,
    "start_time": "2022-10-08T16:34:17.569Z"
   },
   {
    "duration": 312,
    "start_time": "2022-10-08T16:34:45.897Z"
   },
   {
    "duration": 329,
    "start_time": "2022-10-08T16:40:29.330Z"
   },
   {
    "duration": 480,
    "start_time": "2022-10-08T16:41:12.373Z"
   },
   {
    "duration": 100,
    "start_time": "2022-10-08T17:10:33.015Z"
   },
   {
    "duration": 25,
    "start_time": "2022-10-08T17:10:35.788Z"
   },
   {
    "duration": 129,
    "start_time": "2022-10-08T17:10:42.515Z"
   },
   {
    "duration": 15,
    "start_time": "2022-10-08T17:11:19.196Z"
   },
   {
    "duration": 7,
    "start_time": "2022-10-08T17:11:33.555Z"
   },
   {
    "duration": 113,
    "start_time": "2022-10-08T17:14:20.249Z"
   },
   {
    "duration": 73,
    "start_time": "2022-10-08T17:14:50.645Z"
   },
   {
    "duration": 390,
    "start_time": "2022-10-08T17:14:54.919Z"
   },
   {
    "duration": 326,
    "start_time": "2022-10-08T17:15:33.374Z"
   },
   {
    "duration": 17,
    "start_time": "2022-10-08T17:16:09.113Z"
   },
   {
    "duration": 122,
    "start_time": "2022-10-08T17:16:14.760Z"
   },
   {
    "duration": 129,
    "start_time": "2022-10-08T17:16:25.073Z"
   },
   {
    "duration": 325,
    "start_time": "2022-10-08T17:16:39.377Z"
   },
   {
    "duration": 330,
    "start_time": "2022-10-08T17:16:50.820Z"
   },
   {
    "duration": 314,
    "start_time": "2022-10-08T17:17:04.711Z"
   },
   {
    "duration": 526,
    "start_time": "2022-10-08T20:39:32.912Z"
   },
   {
    "duration": 305,
    "start_time": "2022-10-08T20:39:57.695Z"
   },
   {
    "duration": 55,
    "start_time": "2022-10-09T07:48:48.802Z"
   },
   {
    "duration": 1241,
    "start_time": "2022-10-09T07:49:07.254Z"
   },
   {
    "duration": 101,
    "start_time": "2022-10-09T07:49:08.496Z"
   },
   {
    "duration": 13,
    "start_time": "2022-10-09T07:49:08.598Z"
   },
   {
    "duration": 8,
    "start_time": "2022-10-09T07:49:08.612Z"
   },
   {
    "duration": 869,
    "start_time": "2022-10-09T07:49:08.621Z"
   },
   {
    "duration": 10,
    "start_time": "2022-10-09T07:49:09.492Z"
   },
   {
    "duration": 11,
    "start_time": "2022-10-09T07:49:09.504Z"
   },
   {
    "duration": 12,
    "start_time": "2022-10-09T07:49:09.517Z"
   },
   {
    "duration": 18,
    "start_time": "2022-10-09T07:49:09.531Z"
   },
   {
    "duration": 6,
    "start_time": "2022-10-09T07:49:09.551Z"
   },
   {
    "duration": 41,
    "start_time": "2022-10-09T07:49:09.559Z"
   },
   {
    "duration": 5,
    "start_time": "2022-10-09T07:49:09.602Z"
   },
   {
    "duration": 22,
    "start_time": "2022-10-09T07:49:09.608Z"
   },
   {
    "duration": 16,
    "start_time": "2022-10-09T07:49:09.631Z"
   },
   {
    "duration": 9,
    "start_time": "2022-10-09T07:49:09.649Z"
   },
   {
    "duration": 41,
    "start_time": "2022-10-09T07:49:09.660Z"
   },
   {
    "duration": 23,
    "start_time": "2022-10-09T07:49:09.702Z"
   },
   {
    "duration": 10,
    "start_time": "2022-10-09T07:49:09.727Z"
   },
   {
    "duration": 11,
    "start_time": "2022-10-09T07:49:09.739Z"
   },
   {
    "duration": 998,
    "start_time": "2022-10-09T07:49:09.751Z"
   },
   {
    "duration": 2,
    "start_time": "2022-10-09T07:49:10.751Z"
   },
   {
    "duration": 9,
    "start_time": "2022-10-09T07:49:10.755Z"
   },
   {
    "duration": 40,
    "start_time": "2022-10-09T07:49:10.766Z"
   },
   {
    "duration": 363,
    "start_time": "2022-10-09T07:49:10.807Z"
   },
   {
    "duration": 259,
    "start_time": "2022-10-09T07:49:11.172Z"
   },
   {
    "duration": 428,
    "start_time": "2022-10-09T07:49:11.433Z"
   },
   {
    "duration": 7,
    "start_time": "2022-10-09T07:49:11.862Z"
   },
   {
    "duration": 299,
    "start_time": "2022-10-09T07:49:11.871Z"
   },
   {
    "duration": 253,
    "start_time": "2022-10-09T07:49:12.172Z"
   },
   {
    "duration": 248,
    "start_time": "2022-10-09T07:49:12.427Z"
   },
   {
    "duration": 7,
    "start_time": "2022-10-09T07:49:12.677Z"
   },
   {
    "duration": 197,
    "start_time": "2022-10-09T07:49:12.685Z"
   },
   {
    "duration": 394,
    "start_time": "2022-10-09T07:49:12.883Z"
   },
   {
    "duration": 7,
    "start_time": "2022-10-09T07:49:13.278Z"
   },
   {
    "duration": 7,
    "start_time": "2022-10-09T07:50:28.009Z"
   },
   {
    "duration": 7,
    "start_time": "2022-10-09T07:50:33.345Z"
   },
   {
    "duration": 307,
    "start_time": "2022-10-09T07:54:37.107Z"
   },
   {
    "duration": 304,
    "start_time": "2022-10-09T07:54:57.670Z"
   },
   {
    "duration": 326,
    "start_time": "2022-10-09T07:55:11.353Z"
   },
   {
    "duration": 314,
    "start_time": "2022-10-09T07:55:22.979Z"
   },
   {
    "duration": 343,
    "start_time": "2022-10-09T07:55:42.314Z"
   },
   {
    "duration": 361,
    "start_time": "2022-10-09T07:56:41.695Z"
   },
   {
    "duration": 464,
    "start_time": "2022-10-09T07:56:58.525Z"
   },
   {
    "duration": 6,
    "start_time": "2022-10-09T07:58:31.428Z"
   },
   {
    "duration": 96,
    "start_time": "2022-10-09T07:59:03.381Z"
   },
   {
    "duration": 6,
    "start_time": "2022-10-09T07:59:09.895Z"
   },
   {
    "duration": 7,
    "start_time": "2022-10-09T07:59:29.939Z"
   },
   {
    "duration": 7,
    "start_time": "2022-10-09T07:59:33.763Z"
   },
   {
    "duration": 7,
    "start_time": "2022-10-09T07:59:42.129Z"
   },
   {
    "duration": 7,
    "start_time": "2022-10-09T07:59:48.618Z"
   },
   {
    "duration": 6,
    "start_time": "2022-10-09T07:59:53.728Z"
   },
   {
    "duration": 6,
    "start_time": "2022-10-09T07:59:57.102Z"
   },
   {
    "duration": 6,
    "start_time": "2022-10-09T08:00:22.555Z"
   },
   {
    "duration": 5,
    "start_time": "2022-10-09T08:00:32.179Z"
   },
   {
    "duration": 6,
    "start_time": "2022-10-09T08:00:57.059Z"
   },
   {
    "duration": 79,
    "start_time": "2022-10-09T08:01:07.309Z"
   },
   {
    "duration": 7,
    "start_time": "2022-10-09T08:01:10.230Z"
   },
   {
    "duration": 6,
    "start_time": "2022-10-09T08:01:43.500Z"
   },
   {
    "duration": 5,
    "start_time": "2022-10-09T08:01:45.848Z"
   },
   {
    "duration": 246,
    "start_time": "2022-10-09T08:07:47.945Z"
   },
   {
    "duration": 207,
    "start_time": "2022-10-09T08:08:00.053Z"
   },
   {
    "duration": 6,
    "start_time": "2022-10-09T08:08:05.668Z"
   },
   {
    "duration": 51,
    "start_time": "2022-10-09T08:08:19.472Z"
   },
   {
    "duration": 62,
    "start_time": "2022-10-09T08:08:43.618Z"
   },
   {
    "duration": 38,
    "start_time": "2022-10-09T08:08:47.169Z"
   },
   {
    "duration": 48,
    "start_time": "2022-10-09T08:09:17.119Z"
   },
   {
    "duration": 6,
    "start_time": "2022-10-09T08:09:21.420Z"
   },
   {
    "duration": 6,
    "start_time": "2022-10-09T08:09:30.051Z"
   },
   {
    "duration": 5,
    "start_time": "2022-10-09T08:10:08.870Z"
   },
   {
    "duration": 11,
    "start_time": "2022-10-09T08:10:55.786Z"
   },
   {
    "duration": 9,
    "start_time": "2022-10-09T08:11:02.592Z"
   },
   {
    "duration": 9,
    "start_time": "2022-10-09T08:11:22.465Z"
   },
   {
    "duration": 7,
    "start_time": "2022-10-09T08:17:20.886Z"
   },
   {
    "duration": 7,
    "start_time": "2022-10-09T08:17:28.592Z"
   },
   {
    "duration": 6,
    "start_time": "2022-10-09T08:25:11.300Z"
   },
   {
    "duration": 6,
    "start_time": "2022-10-09T08:25:29.245Z"
   },
   {
    "duration": 96,
    "start_time": "2022-10-09T08:27:33.794Z"
   },
   {
    "duration": 109,
    "start_time": "2022-10-09T08:27:53.391Z"
   },
   {
    "duration": 100,
    "start_time": "2022-10-09T08:27:57.578Z"
   },
   {
    "duration": 103,
    "start_time": "2022-10-09T08:28:17.162Z"
   },
   {
    "duration": 7,
    "start_time": "2022-10-09T08:32:14.848Z"
   },
   {
    "duration": 303,
    "start_time": "2022-10-09T08:32:48.560Z"
   },
   {
    "duration": 7,
    "start_time": "2022-10-09T08:48:11.942Z"
   },
   {
    "duration": 8,
    "start_time": "2022-10-09T08:48:38.143Z"
   },
   {
    "duration": 3,
    "start_time": "2022-10-09T08:48:44.106Z"
   },
   {
    "duration": 5,
    "start_time": "2022-10-09T08:48:50.663Z"
   },
   {
    "duration": 2,
    "start_time": "2022-10-09T08:52:16.057Z"
   },
   {
    "duration": 7,
    "start_time": "2022-10-09T08:52:31.724Z"
   },
   {
    "duration": 3,
    "start_time": "2022-10-09T08:52:38.139Z"
   },
   {
    "duration": 3,
    "start_time": "2022-10-09T08:52:47.115Z"
   },
   {
    "duration": 7,
    "start_time": "2022-10-09T08:53:02.009Z"
   },
   {
    "duration": 7,
    "start_time": "2022-10-09T08:54:47.331Z"
   },
   {
    "duration": 7,
    "start_time": "2022-10-09T08:54:57.086Z"
   },
   {
    "duration": 3,
    "start_time": "2022-10-09T08:54:59.312Z"
   },
   {
    "duration": 7,
    "start_time": "2022-10-09T08:55:04.340Z"
   },
   {
    "duration": 3,
    "start_time": "2022-10-09T08:55:06.044Z"
   },
   {
    "duration": 4,
    "start_time": "2022-10-09T08:55:08.711Z"
   },
   {
    "duration": 3,
    "start_time": "2022-10-09T08:55:41.715Z"
   },
   {
    "duration": 7,
    "start_time": "2022-10-09T08:55:42.115Z"
   },
   {
    "duration": 4,
    "start_time": "2022-10-09T08:55:42.455Z"
   },
   {
    "duration": 1092,
    "start_time": "2022-10-09T09:04:02.383Z"
   },
   {
    "duration": 61,
    "start_time": "2022-10-09T09:04:03.477Z"
   },
   {
    "duration": 11,
    "start_time": "2022-10-09T09:04:03.542Z"
   },
   {
    "duration": 7,
    "start_time": "2022-10-09T09:04:03.555Z"
   },
   {
    "duration": 847,
    "start_time": "2022-10-09T09:04:03.563Z"
   },
   {
    "duration": 6,
    "start_time": "2022-10-09T09:04:04.412Z"
   },
   {
    "duration": 18,
    "start_time": "2022-10-09T09:04:04.419Z"
   },
   {
    "duration": 15,
    "start_time": "2022-10-09T09:04:04.439Z"
   },
   {
    "duration": 42,
    "start_time": "2022-10-09T09:04:04.457Z"
   },
   {
    "duration": 8,
    "start_time": "2022-10-09T09:04:04.501Z"
   },
   {
    "duration": 15,
    "start_time": "2022-10-09T09:04:04.511Z"
   },
   {
    "duration": 8,
    "start_time": "2022-10-09T09:04:04.528Z"
   },
   {
    "duration": 25,
    "start_time": "2022-10-09T09:04:04.538Z"
   },
   {
    "duration": 38,
    "start_time": "2022-10-09T09:04:04.565Z"
   },
   {
    "duration": 12,
    "start_time": "2022-10-09T09:04:04.604Z"
   },
   {
    "duration": 14,
    "start_time": "2022-10-09T09:04:04.618Z"
   },
   {
    "duration": 27,
    "start_time": "2022-10-09T09:04:04.634Z"
   },
   {
    "duration": 37,
    "start_time": "2022-10-09T09:04:04.663Z"
   },
   {
    "duration": 8,
    "start_time": "2022-10-09T09:04:04.702Z"
   },
   {
    "duration": 1036,
    "start_time": "2022-10-09T09:04:04.711Z"
   },
   {
    "duration": 3,
    "start_time": "2022-10-09T09:04:05.749Z"
   },
   {
    "duration": 10,
    "start_time": "2022-10-09T09:04:05.754Z"
   },
   {
    "duration": 17,
    "start_time": "2022-10-09T09:04:05.765Z"
   },
   {
    "duration": 377,
    "start_time": "2022-10-09T09:04:05.784Z"
   },
   {
    "duration": 261,
    "start_time": "2022-10-09T09:04:06.162Z"
   },
   {
    "duration": 324,
    "start_time": "2022-10-09T09:04:06.425Z"
   },
   {
    "duration": 6,
    "start_time": "2022-10-09T09:04:06.752Z"
   },
   {
    "duration": 324,
    "start_time": "2022-10-09T09:04:06.760Z"
   },
   {
    "duration": 239,
    "start_time": "2022-10-09T09:04:07.086Z"
   },
   {
    "duration": 251,
    "start_time": "2022-10-09T09:04:07.327Z"
   },
   {
    "duration": 7,
    "start_time": "2022-10-09T09:04:07.579Z"
   },
   {
    "duration": 183,
    "start_time": "2022-10-09T09:04:07.587Z"
   },
   {
    "duration": 413,
    "start_time": "2022-10-09T09:04:07.772Z"
   },
   {
    "duration": 374,
    "start_time": "2022-10-09T09:04:08.187Z"
   },
   {
    "duration": 9,
    "start_time": "2022-10-09T09:04:08.563Z"
   },
   {
    "duration": 8,
    "start_time": "2022-10-09T09:04:08.573Z"
   },
   {
    "duration": 114,
    "start_time": "2022-10-09T09:04:08.582Z"
   },
   {
    "duration": 2,
    "start_time": "2022-10-09T09:04:08.700Z"
   },
   {
    "duration": 24,
    "start_time": "2022-10-09T09:04:08.703Z"
   },
   {
    "duration": 20,
    "start_time": "2022-10-09T09:04:08.728Z"
   },
   {
    "duration": 8,
    "start_time": "2022-10-09T09:04:08.750Z"
   },
   {
    "duration": 1045,
    "start_time": "2022-10-09T09:07:26.830Z"
   },
   {
    "duration": 61,
    "start_time": "2022-10-09T09:07:27.876Z"
   },
   {
    "duration": 12,
    "start_time": "2022-10-09T09:07:27.938Z"
   },
   {
    "duration": 11,
    "start_time": "2022-10-09T09:07:27.952Z"
   },
   {
    "duration": 832,
    "start_time": "2022-10-09T09:07:27.965Z"
   },
   {
    "duration": 5,
    "start_time": "2022-10-09T09:07:28.799Z"
   },
   {
    "duration": 8,
    "start_time": "2022-10-09T09:07:28.805Z"
   },
   {
    "duration": 10,
    "start_time": "2022-10-09T09:07:28.814Z"
   },
   {
    "duration": 17,
    "start_time": "2022-10-09T09:07:28.826Z"
   },
   {
    "duration": 7,
    "start_time": "2022-10-09T09:07:28.845Z"
   },
   {
    "duration": 6,
    "start_time": "2022-10-09T09:07:28.853Z"
   },
   {
    "duration": 5,
    "start_time": "2022-10-09T09:07:28.860Z"
   },
   {
    "duration": 17,
    "start_time": "2022-10-09T09:07:28.900Z"
   },
   {
    "duration": 15,
    "start_time": "2022-10-09T09:07:28.918Z"
   },
   {
    "duration": 8,
    "start_time": "2022-10-09T09:07:28.935Z"
   },
   {
    "duration": 20,
    "start_time": "2022-10-09T09:07:28.945Z"
   },
   {
    "duration": 42,
    "start_time": "2022-10-09T09:07:28.966Z"
   },
   {
    "duration": 9,
    "start_time": "2022-10-09T09:07:29.010Z"
   },
   {
    "duration": 8,
    "start_time": "2022-10-09T09:07:29.020Z"
   },
   {
    "duration": 951,
    "start_time": "2022-10-09T09:07:29.029Z"
   },
   {
    "duration": 2,
    "start_time": "2022-10-09T09:07:29.982Z"
   },
   {
    "duration": 8,
    "start_time": "2022-10-09T09:07:29.986Z"
   },
   {
    "duration": 13,
    "start_time": "2022-10-09T09:07:30.000Z"
   },
   {
    "duration": 369,
    "start_time": "2022-10-09T09:07:30.014Z"
   },
   {
    "duration": 264,
    "start_time": "2022-10-09T09:07:30.385Z"
   },
   {
    "duration": 369,
    "start_time": "2022-10-09T09:07:30.650Z"
   },
   {
    "duration": 6,
    "start_time": "2022-10-09T09:07:31.020Z"
   },
   {
    "duration": 292,
    "start_time": "2022-10-09T09:07:31.029Z"
   },
   {
    "duration": 240,
    "start_time": "2022-10-09T09:07:31.322Z"
   },
   {
    "duration": 273,
    "start_time": "2022-10-09T09:07:31.564Z"
   },
   {
    "duration": 9,
    "start_time": "2022-10-09T09:07:31.839Z"
   },
   {
    "duration": 199,
    "start_time": "2022-10-09T09:07:31.851Z"
   },
   {
    "duration": 391,
    "start_time": "2022-10-09T09:07:32.052Z"
   },
   {
    "duration": 359,
    "start_time": "2022-10-09T09:07:32.444Z"
   },
   {
    "duration": 9,
    "start_time": "2022-10-09T09:07:32.805Z"
   },
   {
    "duration": 7,
    "start_time": "2022-10-09T09:07:32.815Z"
   },
   {
    "duration": 114,
    "start_time": "2022-10-09T09:07:32.824Z"
   },
   {
    "duration": 3,
    "start_time": "2022-10-09T09:07:32.939Z"
   },
   {
    "duration": 8,
    "start_time": "2022-10-09T09:07:32.943Z"
   },
   {
    "duration": 5,
    "start_time": "2022-10-09T09:07:32.952Z"
   },
   {
    "duration": 7,
    "start_time": "2022-10-09T09:07:32.958Z"
   },
   {
    "duration": 4,
    "start_time": "2022-10-09T09:08:57.900Z"
   },
   {
    "duration": 85,
    "start_time": "2022-10-09T09:10:29.669Z"
   },
   {
    "duration": 4,
    "start_time": "2022-10-09T09:10:34.233Z"
   },
   {
    "duration": 7,
    "start_time": "2022-10-09T09:12:23.317Z"
   },
   {
    "duration": 5,
    "start_time": "2022-10-09T09:12:38.517Z"
   },
   {
    "duration": 7,
    "start_time": "2022-10-09T09:14:15.821Z"
   },
   {
    "duration": 7,
    "start_time": "2022-10-09T09:16:34.270Z"
   },
   {
    "duration": 7,
    "start_time": "2022-10-09T09:16:40.013Z"
   },
   {
    "duration": 6,
    "start_time": "2022-10-09T09:16:47.682Z"
   },
   {
    "duration": 8,
    "start_time": "2022-10-09T09:17:05.129Z"
   },
   {
    "duration": 7,
    "start_time": "2022-10-09T09:17:08.310Z"
   },
   {
    "duration": 7,
    "start_time": "2022-10-09T09:17:15.578Z"
   },
   {
    "duration": 53,
    "start_time": "2022-10-09T09:17:42.910Z"
   },
   {
    "duration": 6,
    "start_time": "2022-10-09T09:17:48.812Z"
   },
   {
    "duration": 7,
    "start_time": "2022-10-09T09:19:07.304Z"
   },
   {
    "duration": 3,
    "start_time": "2022-10-09T09:19:15.262Z"
   },
   {
    "duration": 6,
    "start_time": "2022-10-09T09:19:18.119Z"
   },
   {
    "duration": 10,
    "start_time": "2022-10-09T09:19:30.870Z"
   },
   {
    "duration": 6,
    "start_time": "2022-10-09T09:19:32.850Z"
   },
   {
    "duration": 2,
    "start_time": "2022-10-09T09:21:33.438Z"
   },
   {
    "duration": 4,
    "start_time": "2022-10-09T09:21:34.002Z"
   },
   {
    "duration": 12,
    "start_time": "2022-10-09T09:21:37.220Z"
   },
   {
    "duration": 4,
    "start_time": "2022-10-09T09:21:45.779Z"
   },
   {
    "duration": 3,
    "start_time": "2022-10-09T09:21:52.318Z"
   },
   {
    "duration": 4,
    "start_time": "2022-10-09T09:22:02.427Z"
   },
   {
    "duration": 1078,
    "start_time": "2022-10-09T09:23:39.173Z"
   },
   {
    "duration": 61,
    "start_time": "2022-10-09T09:23:40.252Z"
   },
   {
    "duration": 13,
    "start_time": "2022-10-09T09:23:40.317Z"
   },
   {
    "duration": 7,
    "start_time": "2022-10-09T09:23:40.331Z"
   },
   {
    "duration": 864,
    "start_time": "2022-10-09T09:23:40.340Z"
   },
   {
    "duration": 4,
    "start_time": "2022-10-09T09:23:41.206Z"
   },
   {
    "duration": 9,
    "start_time": "2022-10-09T09:23:41.212Z"
   },
   {
    "duration": 14,
    "start_time": "2022-10-09T09:23:41.223Z"
   },
   {
    "duration": 17,
    "start_time": "2022-10-09T09:23:41.240Z"
   },
   {
    "duration": 7,
    "start_time": "2022-10-09T09:23:41.259Z"
   },
   {
    "duration": 38,
    "start_time": "2022-10-09T09:23:41.267Z"
   },
   {
    "duration": 6,
    "start_time": "2022-10-09T09:23:41.307Z"
   },
   {
    "duration": 17,
    "start_time": "2022-10-09T09:23:41.315Z"
   },
   {
    "duration": 17,
    "start_time": "2022-10-09T09:23:41.334Z"
   },
   {
    "duration": 11,
    "start_time": "2022-10-09T09:23:41.352Z"
   },
   {
    "duration": 40,
    "start_time": "2022-10-09T09:23:41.364Z"
   },
   {
    "duration": 27,
    "start_time": "2022-10-09T09:23:41.406Z"
   },
   {
    "duration": 10,
    "start_time": "2022-10-09T09:23:41.435Z"
   },
   {
    "duration": 18,
    "start_time": "2022-10-09T09:23:41.446Z"
   },
   {
    "duration": 992,
    "start_time": "2022-10-09T09:23:41.466Z"
   },
   {
    "duration": 3,
    "start_time": "2022-10-09T09:23:42.459Z"
   },
   {
    "duration": 9,
    "start_time": "2022-10-09T09:23:42.464Z"
   },
   {
    "duration": 29,
    "start_time": "2022-10-09T09:23:42.474Z"
   },
   {
    "duration": 355,
    "start_time": "2022-10-09T09:23:42.505Z"
   },
   {
    "duration": 235,
    "start_time": "2022-10-09T09:23:42.862Z"
   },
   {
    "duration": 323,
    "start_time": "2022-10-09T09:23:43.099Z"
   },
   {
    "duration": 6,
    "start_time": "2022-10-09T09:23:43.425Z"
   },
   {
    "duration": 245,
    "start_time": "2022-10-09T09:23:43.432Z"
   },
   {
    "duration": 238,
    "start_time": "2022-10-09T09:23:43.679Z"
   },
   {
    "duration": 274,
    "start_time": "2022-10-09T09:23:43.919Z"
   },
   {
    "duration": 11,
    "start_time": "2022-10-09T09:23:44.195Z"
   },
   {
    "duration": 193,
    "start_time": "2022-10-09T09:23:44.208Z"
   },
   {
    "duration": 460,
    "start_time": "2022-10-09T09:23:44.402Z"
   },
   {
    "duration": 360,
    "start_time": "2022-10-09T09:23:44.863Z"
   },
   {
    "duration": 8,
    "start_time": "2022-10-09T09:23:45.225Z"
   },
   {
    "duration": 7,
    "start_time": "2022-10-09T09:23:45.235Z"
   },
   {
    "duration": 120,
    "start_time": "2022-10-09T09:23:45.243Z"
   },
   {
    "duration": 2,
    "start_time": "2022-10-09T09:23:45.365Z"
   },
   {
    "duration": 11,
    "start_time": "2022-10-09T09:23:45.368Z"
   },
   {
    "duration": 830,
    "start_time": "2022-10-09T09:37:08.993Z"
   },
   {
    "duration": 777,
    "start_time": "2022-10-09T09:37:28.160Z"
   },
   {
    "duration": 7,
    "start_time": "2022-10-09T09:37:45.589Z"
   },
   {
    "duration": 8,
    "start_time": "2022-10-09T09:37:51.444Z"
   },
   {
    "duration": 9,
    "start_time": "2022-10-09T09:38:38.083Z"
   },
   {
    "duration": 3,
    "start_time": "2022-10-09T09:38:43.298Z"
   },
   {
    "duration": 11,
    "start_time": "2022-10-09T09:38:55.262Z"
   },
   {
    "duration": 3,
    "start_time": "2022-10-09T09:38:56.078Z"
   },
   {
    "duration": 10,
    "start_time": "2022-10-09T09:39:08.097Z"
   },
   {
    "duration": 3,
    "start_time": "2022-10-09T09:39:08.918Z"
   },
   {
    "duration": 4,
    "start_time": "2022-10-09T09:39:15.158Z"
   },
   {
    "duration": 4,
    "start_time": "2022-10-09T09:39:33.499Z"
   },
   {
    "duration": 4,
    "start_time": "2022-10-09T09:42:24.238Z"
   },
   {
    "duration": 10,
    "start_time": "2022-10-09T09:43:01.028Z"
   },
   {
    "duration": 44,
    "start_time": "2022-10-09T09:43:08.228Z"
   },
   {
    "duration": 7,
    "start_time": "2022-10-09T09:43:11.671Z"
   },
   {
    "duration": 6,
    "start_time": "2022-10-09T09:43:22.053Z"
   },
   {
    "duration": 51,
    "start_time": "2022-10-09T09:44:00.847Z"
   },
   {
    "duration": 10,
    "start_time": "2022-10-09T09:44:07.198Z"
   },
   {
    "duration": 1113,
    "start_time": "2022-10-09T09:44:13.695Z"
   },
   {
    "duration": 61,
    "start_time": "2022-10-09T09:44:14.810Z"
   },
   {
    "duration": 12,
    "start_time": "2022-10-09T09:44:14.872Z"
   },
   {
    "duration": 7,
    "start_time": "2022-10-09T09:44:14.886Z"
   },
   {
    "duration": 863,
    "start_time": "2022-10-09T09:44:14.895Z"
   },
   {
    "duration": 5,
    "start_time": "2022-10-09T09:44:15.759Z"
   },
   {
    "duration": 11,
    "start_time": "2022-10-09T09:44:15.766Z"
   },
   {
    "duration": 22,
    "start_time": "2022-10-09T09:44:15.779Z"
   },
   {
    "duration": 15,
    "start_time": "2022-10-09T09:44:15.802Z"
   },
   {
    "duration": 6,
    "start_time": "2022-10-09T09:44:15.818Z"
   },
   {
    "duration": 7,
    "start_time": "2022-10-09T09:44:15.826Z"
   },
   {
    "duration": 10,
    "start_time": "2022-10-09T09:44:15.835Z"
   },
   {
    "duration": 20,
    "start_time": "2022-10-09T09:44:15.846Z"
   },
   {
    "duration": 40,
    "start_time": "2022-10-09T09:44:15.870Z"
   },
   {
    "duration": 12,
    "start_time": "2022-10-09T09:44:15.912Z"
   },
   {
    "duration": 11,
    "start_time": "2022-10-09T09:44:15.926Z"
   },
   {
    "duration": 24,
    "start_time": "2022-10-09T09:44:15.938Z"
   },
   {
    "duration": 42,
    "start_time": "2022-10-09T09:44:15.964Z"
   },
   {
    "duration": 8,
    "start_time": "2022-10-09T09:44:16.007Z"
   },
   {
    "duration": 939,
    "start_time": "2022-10-09T09:44:16.017Z"
   },
   {
    "duration": 3,
    "start_time": "2022-10-09T09:44:16.957Z"
   },
   {
    "duration": 13,
    "start_time": "2022-10-09T09:44:16.961Z"
   },
   {
    "duration": 25,
    "start_time": "2022-10-09T09:44:16.976Z"
   },
   {
    "duration": 332,
    "start_time": "2022-10-09T09:44:17.003Z"
   },
   {
    "duration": 258,
    "start_time": "2022-10-09T09:44:17.337Z"
   },
   {
    "duration": 336,
    "start_time": "2022-10-09T09:44:17.597Z"
   },
   {
    "duration": 5,
    "start_time": "2022-10-09T09:44:17.935Z"
   },
   {
    "duration": 287,
    "start_time": "2022-10-09T09:44:17.942Z"
   },
   {
    "duration": 224,
    "start_time": "2022-10-09T09:44:18.231Z"
   },
   {
    "duration": 239,
    "start_time": "2022-10-09T09:44:18.457Z"
   },
   {
    "duration": 7,
    "start_time": "2022-10-09T09:44:18.700Z"
   },
   {
    "duration": 192,
    "start_time": "2022-10-09T09:44:18.708Z"
   },
   {
    "duration": 404,
    "start_time": "2022-10-09T09:44:18.902Z"
   },
   {
    "duration": 394,
    "start_time": "2022-10-09T09:44:19.308Z"
   },
   {
    "duration": 10,
    "start_time": "2022-10-09T09:44:19.704Z"
   },
   {
    "duration": 13,
    "start_time": "2022-10-09T09:44:19.715Z"
   },
   {
    "duration": 135,
    "start_time": "2022-10-09T09:44:19.729Z"
   },
   {
    "duration": 3,
    "start_time": "2022-10-09T09:44:19.865Z"
   },
   {
    "duration": 11,
    "start_time": "2022-10-09T09:44:19.869Z"
   },
   {
    "duration": 23,
    "start_time": "2022-10-09T09:44:19.881Z"
   },
   {
    "duration": 1073,
    "start_time": "2022-10-09T09:48:52.318Z"
   },
   {
    "duration": 1045,
    "start_time": "2022-10-09T09:49:55.547Z"
   },
   {
    "duration": 924,
    "start_time": "2022-10-09T09:50:01.227Z"
   },
   {
    "duration": 305,
    "start_time": "2022-10-09T09:50:29.413Z"
   },
   {
    "duration": 286,
    "start_time": "2022-10-09T09:50:34.856Z"
   },
   {
    "duration": 393,
    "start_time": "2022-10-09T09:52:10.568Z"
   },
   {
    "duration": 292,
    "start_time": "2022-10-09T09:52:14.875Z"
   },
   {
    "duration": 421,
    "start_time": "2022-10-09T09:52:18.497Z"
   },
   {
    "duration": 1018,
    "start_time": "2022-10-09T09:52:44.741Z"
   },
   {
    "duration": 243,
    "start_time": "2022-10-09T09:52:55.085Z"
   },
   {
    "duration": 270,
    "start_time": "2022-10-09T09:53:10.033Z"
   },
   {
    "duration": 163,
    "start_time": "2022-10-09T09:53:32.512Z"
   },
   {
    "duration": 223,
    "start_time": "2022-10-09T09:53:36.644Z"
   },
   {
    "duration": 166,
    "start_time": "2022-10-09T09:54:17.557Z"
   },
   {
    "duration": 1110,
    "start_time": "2022-10-09T09:54:55.281Z"
   },
   {
    "duration": 64,
    "start_time": "2022-10-09T09:54:56.393Z"
   },
   {
    "duration": 14,
    "start_time": "2022-10-09T09:54:56.458Z"
   },
   {
    "duration": 8,
    "start_time": "2022-10-09T09:54:56.474Z"
   },
   {
    "duration": 850,
    "start_time": "2022-10-09T09:54:56.484Z"
   },
   {
    "duration": 5,
    "start_time": "2022-10-09T09:54:57.335Z"
   },
   {
    "duration": 10,
    "start_time": "2022-10-09T09:54:57.341Z"
   },
   {
    "duration": 10,
    "start_time": "2022-10-09T09:54:57.352Z"
   },
   {
    "duration": 16,
    "start_time": "2022-10-09T09:54:57.364Z"
   },
   {
    "duration": 7,
    "start_time": "2022-10-09T09:54:57.400Z"
   },
   {
    "duration": 8,
    "start_time": "2022-10-09T09:54:57.408Z"
   },
   {
    "duration": 7,
    "start_time": "2022-10-09T09:54:57.418Z"
   },
   {
    "duration": 20,
    "start_time": "2022-10-09T09:54:57.427Z"
   },
   {
    "duration": 29,
    "start_time": "2022-10-09T09:54:57.451Z"
   },
   {
    "duration": 25,
    "start_time": "2022-10-09T09:54:57.499Z"
   },
   {
    "duration": 11,
    "start_time": "2022-10-09T09:54:57.525Z"
   },
   {
    "duration": 14,
    "start_time": "2022-10-09T09:54:57.537Z"
   },
   {
    "duration": 966,
    "start_time": "2022-10-09T09:54:57.553Z"
   },
   {
    "duration": 3,
    "start_time": "2022-10-09T09:54:58.520Z"
   },
   {
    "duration": 7,
    "start_time": "2022-10-09T09:54:58.525Z"
   },
   {
    "duration": 47,
    "start_time": "2022-10-09T09:54:58.533Z"
   },
   {
    "duration": 366,
    "start_time": "2022-10-09T09:54:58.582Z"
   },
   {
    "duration": 278,
    "start_time": "2022-10-09T09:54:58.950Z"
   },
   {
    "duration": 323,
    "start_time": "2022-10-09T09:54:59.229Z"
   },
   {
    "duration": 5,
    "start_time": "2022-10-09T09:54:59.554Z"
   },
   {
    "duration": 297,
    "start_time": "2022-10-09T09:54:59.561Z"
   },
   {
    "duration": 234,
    "start_time": "2022-10-09T09:54:59.860Z"
   },
   {
    "duration": 239,
    "start_time": "2022-10-09T09:55:00.095Z"
   },
   {
    "duration": 8,
    "start_time": "2022-10-09T09:55:00.335Z"
   },
   {
    "duration": 185,
    "start_time": "2022-10-09T09:55:00.344Z"
   },
   {
    "duration": 409,
    "start_time": "2022-10-09T09:55:00.531Z"
   },
   {
    "duration": 380,
    "start_time": "2022-10-09T09:55:00.942Z"
   },
   {
    "duration": 9,
    "start_time": "2022-10-09T09:55:01.324Z"
   },
   {
    "duration": 34,
    "start_time": "2022-10-09T09:55:01.335Z"
   },
   {
    "duration": 111,
    "start_time": "2022-10-09T09:55:01.370Z"
   },
   {
    "duration": 2,
    "start_time": "2022-10-09T09:55:01.483Z"
   },
   {
    "duration": 48,
    "start_time": "2022-10-09T09:55:01.487Z"
   },
   {
    "duration": 19,
    "start_time": "2022-10-09T09:55:01.537Z"
   },
   {
    "duration": 1271,
    "start_time": "2022-10-09T14:34:07.335Z"
   },
   {
    "duration": 197,
    "start_time": "2022-10-09T14:34:08.608Z"
   },
   {
    "duration": 13,
    "start_time": "2022-10-09T14:34:08.806Z"
   },
   {
    "duration": 8,
    "start_time": "2022-10-09T14:34:08.820Z"
   },
   {
    "duration": 789,
    "start_time": "2022-10-09T14:34:08.829Z"
   },
   {
    "duration": 4,
    "start_time": "2022-10-09T14:34:09.620Z"
   },
   {
    "duration": 9,
    "start_time": "2022-10-09T14:34:09.625Z"
   },
   {
    "duration": 9,
    "start_time": "2022-10-09T14:34:09.636Z"
   },
   {
    "duration": 16,
    "start_time": "2022-10-09T14:34:09.647Z"
   },
   {
    "duration": 7,
    "start_time": "2022-10-09T14:34:09.665Z"
   },
   {
    "duration": 36,
    "start_time": "2022-10-09T14:34:09.673Z"
   },
   {
    "duration": 4,
    "start_time": "2022-10-09T14:34:09.711Z"
   },
   {
    "duration": 17,
    "start_time": "2022-10-09T14:34:09.717Z"
   },
   {
    "duration": 15,
    "start_time": "2022-10-09T14:34:09.736Z"
   },
   {
    "duration": 23,
    "start_time": "2022-10-09T14:34:09.752Z"
   },
   {
    "duration": 37,
    "start_time": "2022-10-09T14:34:09.776Z"
   },
   {
    "duration": 7,
    "start_time": "2022-10-09T14:34:09.815Z"
   },
   {
    "duration": 960,
    "start_time": "2022-10-09T14:34:09.824Z"
   },
   {
    "duration": 2,
    "start_time": "2022-10-09T14:34:10.786Z"
   },
   {
    "duration": 18,
    "start_time": "2022-10-09T14:34:10.789Z"
   },
   {
    "duration": 14,
    "start_time": "2022-10-09T14:34:10.808Z"
   },
   {
    "duration": 357,
    "start_time": "2022-10-09T14:34:10.824Z"
   },
   {
    "duration": 248,
    "start_time": "2022-10-09T14:34:11.183Z"
   },
   {
    "duration": 388,
    "start_time": "2022-10-09T14:34:11.433Z"
   },
   {
    "duration": 6,
    "start_time": "2022-10-09T14:34:11.823Z"
   },
   {
    "duration": 251,
    "start_time": "2022-10-09T14:34:11.830Z"
   },
   {
    "duration": 230,
    "start_time": "2022-10-09T14:34:12.082Z"
   },
   {
    "duration": 234,
    "start_time": "2022-10-09T14:34:12.316Z"
   },
   {
    "duration": 8,
    "start_time": "2022-10-09T14:34:12.552Z"
   },
   {
    "duration": 174,
    "start_time": "2022-10-09T14:34:12.562Z"
   },
   {
    "duration": 370,
    "start_time": "2022-10-09T14:34:12.738Z"
   },
   {
    "duration": 347,
    "start_time": "2022-10-09T14:34:13.109Z"
   },
   {
    "duration": 9,
    "start_time": "2022-10-09T14:34:13.457Z"
   },
   {
    "duration": 8,
    "start_time": "2022-10-09T14:34:13.468Z"
   },
   {
    "duration": 112,
    "start_time": "2022-10-09T14:34:13.477Z"
   },
   {
    "duration": 3,
    "start_time": "2022-10-09T14:34:13.591Z"
   },
   {
    "duration": 18,
    "start_time": "2022-10-09T14:34:13.595Z"
   },
   {
    "duration": 8,
    "start_time": "2022-10-09T14:34:13.615Z"
   },
   {
    "duration": 12,
    "start_time": "2022-10-09T14:34:31.232Z"
   },
   {
    "duration": 10,
    "start_time": "2022-10-09T15:00:51.039Z"
   },
   {
    "duration": 11,
    "start_time": "2022-10-09T15:02:32.495Z"
   },
   {
    "duration": 1234,
    "start_time": "2022-10-09T17:58:45.462Z"
   },
   {
    "duration": 68,
    "start_time": "2022-10-09T17:58:50.010Z"
   },
   {
    "duration": 122,
    "start_time": "2022-10-09T17:59:31.447Z"
   },
   {
    "duration": 88,
    "start_time": "2022-10-09T18:04:39.533Z"
   },
   {
    "duration": 235,
    "start_time": "2022-10-09T18:05:23.520Z"
   },
   {
    "duration": 1445,
    "start_time": "2022-10-11T10:42:38.180Z"
   },
   {
    "duration": 140,
    "start_time": "2022-10-11T10:42:39.627Z"
   },
   {
    "duration": 17,
    "start_time": "2022-10-11T10:42:39.769Z"
   },
   {
    "duration": 11,
    "start_time": "2022-10-11T10:42:39.788Z"
   },
   {
    "duration": 1020,
    "start_time": "2022-10-11T10:42:39.801Z"
   },
   {
    "duration": 5,
    "start_time": "2022-10-11T10:42:40.822Z"
   },
   {
    "duration": 15,
    "start_time": "2022-10-11T10:42:40.828Z"
   },
   {
    "duration": 12,
    "start_time": "2022-10-11T10:42:40.845Z"
   },
   {
    "duration": 18,
    "start_time": "2022-10-11T10:42:40.859Z"
   },
   {
    "duration": 42,
    "start_time": "2022-10-11T10:42:40.880Z"
   },
   {
    "duration": 8,
    "start_time": "2022-10-11T10:42:40.924Z"
   },
   {
    "duration": 8,
    "start_time": "2022-10-11T10:42:40.934Z"
   },
   {
    "duration": 20,
    "start_time": "2022-10-11T10:42:40.944Z"
   },
   {
    "duration": 19,
    "start_time": "2022-10-11T10:42:40.966Z"
   },
   {
    "duration": 25,
    "start_time": "2022-10-11T10:42:41.021Z"
   },
   {
    "duration": 11,
    "start_time": "2022-10-11T10:42:41.048Z"
   },
   {
    "duration": 9,
    "start_time": "2022-10-11T10:42:41.061Z"
   },
   {
    "duration": 1156,
    "start_time": "2022-10-11T10:42:41.071Z"
   },
   {
    "duration": 3,
    "start_time": "2022-10-11T10:42:42.229Z"
   },
   {
    "duration": 15,
    "start_time": "2022-10-11T10:42:42.234Z"
   },
   {
    "duration": 21,
    "start_time": "2022-10-11T10:42:42.252Z"
   },
   {
    "duration": 420,
    "start_time": "2022-10-11T10:42:42.275Z"
   },
   {
    "duration": 294,
    "start_time": "2022-10-11T10:42:42.697Z"
   },
   {
    "duration": 405,
    "start_time": "2022-10-11T10:42:42.993Z"
   },
   {
    "duration": 7,
    "start_time": "2022-10-11T10:42:43.400Z"
   },
   {
    "duration": 291,
    "start_time": "2022-10-11T10:42:43.408Z"
   },
   {
    "duration": 282,
    "start_time": "2022-10-11T10:42:43.701Z"
   },
   {
    "duration": 279,
    "start_time": "2022-10-11T10:42:43.986Z"
   },
   {
    "duration": 9,
    "start_time": "2022-10-11T10:42:44.266Z"
   },
   {
    "duration": 209,
    "start_time": "2022-10-11T10:42:44.276Z"
   },
   {
    "duration": 439,
    "start_time": "2022-10-11T10:42:44.486Z"
   },
   {
    "duration": 426,
    "start_time": "2022-10-11T10:42:44.927Z"
   },
   {
    "duration": 11,
    "start_time": "2022-10-11T10:42:45.355Z"
   },
   {
    "duration": 17,
    "start_time": "2022-10-11T10:42:45.367Z"
   },
   {
    "duration": 134,
    "start_time": "2022-10-11T10:42:45.386Z"
   },
   {
    "duration": 3,
    "start_time": "2022-10-11T10:42:45.522Z"
   },
   {
    "duration": 19,
    "start_time": "2022-10-11T10:42:45.527Z"
   },
   {
    "duration": 17,
    "start_time": "2022-10-11T10:42:45.548Z"
   },
   {
    "duration": 10,
    "start_time": "2022-10-11T10:45:31.414Z"
   },
   {
    "duration": 7,
    "start_time": "2022-10-11T10:46:48.840Z"
   },
   {
    "duration": 6,
    "start_time": "2022-10-11T10:47:13.634Z"
   },
   {
    "duration": 16,
    "start_time": "2022-10-11T10:47:16.622Z"
   },
   {
    "duration": 15,
    "start_time": "2022-10-11T10:47:21.930Z"
   },
   {
    "duration": 1316,
    "start_time": "2022-10-11T10:47:32.907Z"
   },
   {
    "duration": 10,
    "start_time": "2022-10-11T10:55:38.781Z"
   },
   {
    "duration": 1168,
    "start_time": "2022-10-11T10:58:16.445Z"
   },
   {
    "duration": 127,
    "start_time": "2022-10-11T10:58:17.615Z"
   },
   {
    "duration": 14,
    "start_time": "2022-10-11T10:58:17.743Z"
   },
   {
    "duration": 8,
    "start_time": "2022-10-11T10:58:17.759Z"
   },
   {
    "duration": 972,
    "start_time": "2022-10-11T10:58:17.769Z"
   },
   {
    "duration": 5,
    "start_time": "2022-10-11T10:58:18.743Z"
   },
   {
    "duration": 19,
    "start_time": "2022-10-11T10:58:18.750Z"
   },
   {
    "duration": 14,
    "start_time": "2022-10-11T10:58:18.771Z"
   },
   {
    "duration": 19,
    "start_time": "2022-10-11T10:58:18.787Z"
   },
   {
    "duration": 8,
    "start_time": "2022-10-11T10:58:18.822Z"
   },
   {
    "duration": 11,
    "start_time": "2022-10-11T10:58:18.832Z"
   },
   {
    "duration": 6,
    "start_time": "2022-10-11T10:58:18.845Z"
   },
   {
    "duration": 23,
    "start_time": "2022-10-11T10:58:18.853Z"
   },
   {
    "duration": 54,
    "start_time": "2022-10-11T10:58:18.883Z"
   },
   {
    "duration": 37,
    "start_time": "2022-10-11T10:58:18.939Z"
   },
   {
    "duration": 21,
    "start_time": "2022-10-11T10:58:18.978Z"
   },
   {
    "duration": 34,
    "start_time": "2022-10-11T10:58:19.001Z"
   },
   {
    "duration": 11,
    "start_time": "2022-10-11T10:58:19.037Z"
   },
   {
    "duration": 149,
    "start_time": "2022-10-11T10:58:19.050Z"
   },
   {
    "duration": 0,
    "start_time": "2022-10-11T10:58:19.201Z"
   },
   {
    "duration": 0,
    "start_time": "2022-10-11T10:58:19.203Z"
   },
   {
    "duration": 0,
    "start_time": "2022-10-11T10:58:19.204Z"
   },
   {
    "duration": 0,
    "start_time": "2022-10-11T10:58:19.219Z"
   },
   {
    "duration": 0,
    "start_time": "2022-10-11T10:58:19.221Z"
   },
   {
    "duration": 0,
    "start_time": "2022-10-11T10:58:19.223Z"
   },
   {
    "duration": 0,
    "start_time": "2022-10-11T10:58:19.224Z"
   },
   {
    "duration": 0,
    "start_time": "2022-10-11T10:58:19.225Z"
   },
   {
    "duration": 0,
    "start_time": "2022-10-11T10:58:19.226Z"
   },
   {
    "duration": 0,
    "start_time": "2022-10-11T10:58:19.227Z"
   },
   {
    "duration": 0,
    "start_time": "2022-10-11T10:58:19.228Z"
   },
   {
    "duration": 0,
    "start_time": "2022-10-11T10:58:19.229Z"
   },
   {
    "duration": 0,
    "start_time": "2022-10-11T10:58:19.230Z"
   },
   {
    "duration": 0,
    "start_time": "2022-10-11T10:58:19.231Z"
   },
   {
    "duration": 0,
    "start_time": "2022-10-11T10:58:19.233Z"
   },
   {
    "duration": 0,
    "start_time": "2022-10-11T10:58:19.234Z"
   },
   {
    "duration": 0,
    "start_time": "2022-10-11T10:58:19.235Z"
   },
   {
    "duration": 0,
    "start_time": "2022-10-11T10:58:19.237Z"
   },
   {
    "duration": 0,
    "start_time": "2022-10-11T10:58:19.238Z"
   },
   {
    "duration": 0,
    "start_time": "2022-10-11T10:58:19.239Z"
   },
   {
    "duration": 0,
    "start_time": "2022-10-11T10:58:19.240Z"
   },
   {
    "duration": 1151,
    "start_time": "2022-10-11T10:59:17.072Z"
   },
   {
    "duration": 91,
    "start_time": "2022-10-11T10:59:18.224Z"
   },
   {
    "duration": 15,
    "start_time": "2022-10-11T10:59:18.317Z"
   },
   {
    "duration": 28,
    "start_time": "2022-10-11T10:59:18.335Z"
   },
   {
    "duration": 1066,
    "start_time": "2022-10-11T10:59:18.365Z"
   },
   {
    "duration": 6,
    "start_time": "2022-10-11T10:59:19.432Z"
   },
   {
    "duration": 15,
    "start_time": "2022-10-11T10:59:19.440Z"
   },
   {
    "duration": 25,
    "start_time": "2022-10-11T10:59:19.457Z"
   },
   {
    "duration": 20,
    "start_time": "2022-10-11T10:59:19.484Z"
   },
   {
    "duration": 10,
    "start_time": "2022-10-11T10:59:19.520Z"
   },
   {
    "duration": 13,
    "start_time": "2022-10-11T10:59:19.532Z"
   },
   {
    "duration": 26,
    "start_time": "2022-10-11T10:59:19.547Z"
   },
   {
    "duration": 37,
    "start_time": "2022-10-11T10:59:19.575Z"
   },
   {
    "duration": 28,
    "start_time": "2022-10-11T10:59:19.621Z"
   },
   {
    "duration": 29,
    "start_time": "2022-10-11T10:59:19.651Z"
   },
   {
    "duration": 14,
    "start_time": "2022-10-11T10:59:19.682Z"
   },
   {
    "duration": 30,
    "start_time": "2022-10-11T10:59:19.698Z"
   },
   {
    "duration": 12,
    "start_time": "2022-10-11T10:59:19.730Z"
   },
   {
    "duration": 128,
    "start_time": "2022-10-11T10:59:19.744Z"
   },
   {
    "duration": 0,
    "start_time": "2022-10-11T10:59:19.874Z"
   },
   {
    "duration": 0,
    "start_time": "2022-10-11T10:59:19.876Z"
   },
   {
    "duration": 0,
    "start_time": "2022-10-11T10:59:19.876Z"
   },
   {
    "duration": 0,
    "start_time": "2022-10-11T10:59:19.878Z"
   },
   {
    "duration": 0,
    "start_time": "2022-10-11T10:59:19.878Z"
   },
   {
    "duration": 0,
    "start_time": "2022-10-11T10:59:19.880Z"
   },
   {
    "duration": 0,
    "start_time": "2022-10-11T10:59:19.881Z"
   },
   {
    "duration": 0,
    "start_time": "2022-10-11T10:59:19.882Z"
   },
   {
    "duration": 0,
    "start_time": "2022-10-11T10:59:19.883Z"
   },
   {
    "duration": 0,
    "start_time": "2022-10-11T10:59:19.884Z"
   },
   {
    "duration": 0,
    "start_time": "2022-10-11T10:59:19.886Z"
   },
   {
    "duration": 0,
    "start_time": "2022-10-11T10:59:19.887Z"
   },
   {
    "duration": 0,
    "start_time": "2022-10-11T10:59:19.888Z"
   },
   {
    "duration": 0,
    "start_time": "2022-10-11T10:59:19.890Z"
   },
   {
    "duration": 0,
    "start_time": "2022-10-11T10:59:19.891Z"
   },
   {
    "duration": 0,
    "start_time": "2022-10-11T10:59:19.920Z"
   },
   {
    "duration": 0,
    "start_time": "2022-10-11T10:59:19.922Z"
   },
   {
    "duration": 1,
    "start_time": "2022-10-11T10:59:19.923Z"
   },
   {
    "duration": 0,
    "start_time": "2022-10-11T10:59:19.925Z"
   },
   {
    "duration": 0,
    "start_time": "2022-10-11T10:59:19.926Z"
   },
   {
    "duration": 0,
    "start_time": "2022-10-11T10:59:19.927Z"
   },
   {
    "duration": 1160,
    "start_time": "2022-10-11T10:59:46.931Z"
   },
   {
    "duration": 96,
    "start_time": "2022-10-11T10:59:48.092Z"
   },
   {
    "duration": 14,
    "start_time": "2022-10-11T10:59:48.189Z"
   },
   {
    "duration": 10,
    "start_time": "2022-10-11T10:59:48.205Z"
   },
   {
    "duration": 1053,
    "start_time": "2022-10-11T10:59:48.216Z"
   },
   {
    "duration": 6,
    "start_time": "2022-10-11T10:59:49.271Z"
   },
   {
    "duration": 19,
    "start_time": "2022-10-11T10:59:49.279Z"
   },
   {
    "duration": 22,
    "start_time": "2022-10-11T10:59:49.299Z"
   },
   {
    "duration": 18,
    "start_time": "2022-10-11T10:59:49.322Z"
   },
   {
    "duration": 8,
    "start_time": "2022-10-11T10:59:49.343Z"
   },
   {
    "duration": 10,
    "start_time": "2022-10-11T10:59:49.353Z"
   },
   {
    "duration": 6,
    "start_time": "2022-10-11T10:59:49.364Z"
   },
   {
    "duration": 21,
    "start_time": "2022-10-11T10:59:49.371Z"
   },
   {
    "duration": 19,
    "start_time": "2022-10-11T10:59:49.421Z"
   },
   {
    "duration": 25,
    "start_time": "2022-10-11T10:59:49.442Z"
   },
   {
    "duration": 11,
    "start_time": "2022-10-11T10:59:49.469Z"
   },
   {
    "duration": 8,
    "start_time": "2022-10-11T10:59:49.482Z"
   },
   {
    "duration": 4,
    "start_time": "2022-10-11T10:59:49.521Z"
   },
   {
    "duration": 1460,
    "start_time": "2022-10-11T10:59:49.527Z"
   },
   {
    "duration": 10,
    "start_time": "2022-10-11T10:59:50.989Z"
   },
   {
    "duration": 14,
    "start_time": "2022-10-11T10:59:51.001Z"
   },
   {
    "duration": 17,
    "start_time": "2022-10-11T10:59:51.017Z"
   },
   {
    "duration": 44,
    "start_time": "2022-10-11T10:59:51.035Z"
   },
   {
    "duration": 349,
    "start_time": "2022-10-11T10:59:51.081Z"
   },
   {
    "duration": 299,
    "start_time": "2022-10-11T10:59:51.432Z"
   },
   {
    "duration": 363,
    "start_time": "2022-10-11T10:59:51.733Z"
   },
   {
    "duration": 6,
    "start_time": "2022-10-11T10:59:52.098Z"
   },
   {
    "duration": 324,
    "start_time": "2022-10-11T10:59:52.107Z"
   },
   {
    "duration": 278,
    "start_time": "2022-10-11T10:59:52.432Z"
   },
   {
    "duration": 289,
    "start_time": "2022-10-11T10:59:52.712Z"
   },
   {
    "duration": 9,
    "start_time": "2022-10-11T10:59:53.003Z"
   },
   {
    "duration": 212,
    "start_time": "2022-10-11T10:59:53.021Z"
   },
   {
    "duration": 443,
    "start_time": "2022-10-11T10:59:53.234Z"
   },
   {
    "duration": 421,
    "start_time": "2022-10-11T10:59:53.678Z"
   },
   {
    "duration": 10,
    "start_time": "2022-10-11T10:59:54.100Z"
   },
   {
    "duration": 16,
    "start_time": "2022-10-11T10:59:54.121Z"
   },
   {
    "duration": 145,
    "start_time": "2022-10-11T10:59:54.138Z"
   },
   {
    "duration": 2,
    "start_time": "2022-10-11T10:59:54.285Z"
   },
   {
    "duration": 27,
    "start_time": "2022-10-11T10:59:54.289Z"
   },
   {
    "duration": 24,
    "start_time": "2022-10-11T10:59:54.318Z"
   },
   {
    "duration": 289,
    "start_time": "2022-10-11T11:06:23.507Z"
   },
   {
    "duration": 126,
    "start_time": "2022-10-11T11:06:40.489Z"
   },
   {
    "duration": 20,
    "start_time": "2022-10-11T11:08:13.203Z"
   },
   {
    "duration": 107,
    "start_time": "2022-10-11T11:09:28.759Z"
   },
   {
    "duration": 89,
    "start_time": "2022-10-11T11:09:47.696Z"
   },
   {
    "duration": 1430,
    "start_time": "2022-10-11T11:10:52.892Z"
   },
   {
    "duration": 15,
    "start_time": "2022-10-11T11:11:12.741Z"
   },
   {
    "duration": 1312,
    "start_time": "2022-10-11T11:11:23.350Z"
   },
   {
    "duration": 107,
    "start_time": "2022-10-11T11:11:24.664Z"
   },
   {
    "duration": 15,
    "start_time": "2022-10-11T11:11:24.773Z"
   },
   {
    "duration": 22,
    "start_time": "2022-10-11T11:11:24.791Z"
   },
   {
    "duration": 1034,
    "start_time": "2022-10-11T11:11:24.815Z"
   },
   {
    "duration": 6,
    "start_time": "2022-10-11T11:11:25.852Z"
   },
   {
    "duration": 18,
    "start_time": "2022-10-11T11:11:25.860Z"
   },
   {
    "duration": 17,
    "start_time": "2022-10-11T11:11:25.879Z"
   },
   {
    "duration": 31,
    "start_time": "2022-10-11T11:11:25.897Z"
   },
   {
    "duration": 7,
    "start_time": "2022-10-11T11:11:25.932Z"
   },
   {
    "duration": 17,
    "start_time": "2022-10-11T11:11:25.941Z"
   },
   {
    "duration": 12,
    "start_time": "2022-10-11T11:11:25.959Z"
   },
   {
    "duration": 32,
    "start_time": "2022-10-11T11:11:25.972Z"
   },
   {
    "duration": 30,
    "start_time": "2022-10-11T11:11:26.006Z"
   },
   {
    "duration": 27,
    "start_time": "2022-10-11T11:11:26.038Z"
   },
   {
    "duration": 13,
    "start_time": "2022-10-11T11:11:26.067Z"
   },
   {
    "duration": 10,
    "start_time": "2022-10-11T11:11:26.082Z"
   },
   {
    "duration": 1487,
    "start_time": "2022-10-11T11:11:26.120Z"
   },
   {
    "duration": 9,
    "start_time": "2022-10-11T11:11:27.609Z"
   },
   {
    "duration": 13,
    "start_time": "2022-10-11T11:11:27.620Z"
   },
   {
    "duration": 3,
    "start_time": "2022-10-11T11:11:27.635Z"
   },
   {
    "duration": 9,
    "start_time": "2022-10-11T11:11:27.639Z"
   },
   {
    "duration": 17,
    "start_time": "2022-10-11T11:11:27.650Z"
   },
   {
    "duration": 360,
    "start_time": "2022-10-11T11:11:27.669Z"
   },
   {
    "duration": 299,
    "start_time": "2022-10-11T11:11:28.031Z"
   },
   {
    "duration": 351,
    "start_time": "2022-10-11T11:11:28.332Z"
   },
   {
    "duration": 8,
    "start_time": "2022-10-11T11:11:28.685Z"
   },
   {
    "duration": 348,
    "start_time": "2022-10-11T11:11:28.697Z"
   },
   {
    "duration": 327,
    "start_time": "2022-10-11T11:11:29.047Z"
   },
   {
    "duration": 284,
    "start_time": "2022-10-11T11:11:29.375Z"
   },
   {
    "duration": 9,
    "start_time": "2022-10-11T11:11:29.661Z"
   },
   {
    "duration": 217,
    "start_time": "2022-10-11T11:11:29.671Z"
   },
   {
    "duration": 467,
    "start_time": "2022-10-11T11:11:29.890Z"
   },
   {
    "duration": 447,
    "start_time": "2022-10-11T11:11:30.359Z"
   },
   {
    "duration": 18,
    "start_time": "2022-10-11T11:11:30.809Z"
   },
   {
    "duration": 61,
    "start_time": "2022-10-11T11:11:30.828Z"
   },
   {
    "duration": 171,
    "start_time": "2022-10-11T11:11:30.891Z"
   },
   {
    "duration": 2,
    "start_time": "2022-10-11T11:11:31.064Z"
   },
   {
    "duration": 30,
    "start_time": "2022-10-11T11:11:31.067Z"
   },
   {
    "duration": 47,
    "start_time": "2022-10-11T11:11:31.099Z"
   },
   {
    "duration": 45,
    "start_time": "2022-10-11T15:05:29.278Z"
   },
   {
    "duration": 1369,
    "start_time": "2022-10-11T15:05:33.578Z"
   },
   {
    "duration": 146,
    "start_time": "2022-10-11T15:05:34.949Z"
   },
   {
    "duration": 14,
    "start_time": "2022-10-11T15:05:35.097Z"
   },
   {
    "duration": 11,
    "start_time": "2022-10-11T15:05:35.113Z"
   },
   {
    "duration": 894,
    "start_time": "2022-10-11T15:05:35.126Z"
   },
   {
    "duration": 4,
    "start_time": "2022-10-11T15:05:36.022Z"
   },
   {
    "duration": 10,
    "start_time": "2022-10-11T15:05:36.028Z"
   },
   {
    "duration": 16,
    "start_time": "2022-10-11T15:05:36.040Z"
   },
   {
    "duration": 19,
    "start_time": "2022-10-11T15:05:36.058Z"
   },
   {
    "duration": 22,
    "start_time": "2022-10-11T15:05:36.079Z"
   },
   {
    "duration": 6,
    "start_time": "2022-10-11T15:05:36.103Z"
   },
   {
    "duration": 18,
    "start_time": "2022-10-11T15:05:36.110Z"
   },
   {
    "duration": 21,
    "start_time": "2022-10-11T15:05:36.129Z"
   },
   {
    "duration": 17,
    "start_time": "2022-10-11T15:05:36.152Z"
   },
   {
    "duration": 48,
    "start_time": "2022-10-11T15:05:36.171Z"
   },
   {
    "duration": 11,
    "start_time": "2022-10-11T15:05:36.220Z"
   },
   {
    "duration": 8,
    "start_time": "2022-10-11T15:05:36.232Z"
   },
   {
    "duration": 1333,
    "start_time": "2022-10-11T15:05:36.242Z"
   },
   {
    "duration": 10,
    "start_time": "2022-10-11T15:05:37.577Z"
   },
   {
    "duration": 3,
    "start_time": "2022-10-11T15:05:37.589Z"
   },
   {
    "duration": 13,
    "start_time": "2022-10-11T15:05:37.593Z"
   },
   {
    "duration": 17,
    "start_time": "2022-10-11T15:05:37.607Z"
   },
   {
    "duration": 303,
    "start_time": "2022-10-11T15:05:37.626Z"
   },
   {
    "duration": 321,
    "start_time": "2022-10-11T15:05:37.931Z"
   },
   {
    "duration": 430,
    "start_time": "2022-10-11T15:05:38.254Z"
   },
   {
    "duration": 15,
    "start_time": "2022-10-11T15:05:38.686Z"
   },
   {
    "duration": 7,
    "start_time": "2022-10-11T15:05:38.703Z"
   },
   {
    "duration": 295,
    "start_time": "2022-10-11T15:05:38.714Z"
   },
   {
    "duration": 259,
    "start_time": "2022-10-11T15:05:39.011Z"
   },
   {
    "duration": 275,
    "start_time": "2022-10-11T15:05:39.272Z"
   },
   {
    "duration": 7,
    "start_time": "2022-10-11T15:05:39.549Z"
   },
   {
    "duration": 191,
    "start_time": "2022-10-11T15:05:39.558Z"
   },
   {
    "duration": 420,
    "start_time": "2022-10-11T15:05:39.751Z"
   },
   {
    "duration": 382,
    "start_time": "2022-10-11T15:05:40.173Z"
   },
   {
    "duration": 9,
    "start_time": "2022-10-11T15:05:40.556Z"
   },
   {
    "duration": 6,
    "start_time": "2022-10-11T15:05:40.567Z"
   },
   {
    "duration": 127,
    "start_time": "2022-10-11T15:05:40.574Z"
   },
   {
    "duration": 2,
    "start_time": "2022-10-11T15:05:40.703Z"
   },
   {
    "duration": 12,
    "start_time": "2022-10-11T15:05:40.706Z"
   },
   {
    "duration": 8,
    "start_time": "2022-10-11T15:05:40.720Z"
   },
   {
    "duration": 10,
    "start_time": "2022-10-11T15:06:19.706Z"
   },
   {
    "duration": 9,
    "start_time": "2022-10-11T15:06:34.802Z"
   },
   {
    "duration": 69,
    "start_time": "2022-10-11T15:08:39.508Z"
   },
   {
    "duration": 4,
    "start_time": "2022-10-11T15:09:36.379Z"
   },
   {
    "duration": 8,
    "start_time": "2022-10-11T15:09:59.660Z"
   },
   {
    "duration": 14,
    "start_time": "2022-10-11T15:15:33.267Z"
   },
   {
    "duration": 15,
    "start_time": "2022-10-11T15:17:13.662Z"
   },
   {
    "duration": 152,
    "start_time": "2022-10-11T15:22:52.593Z"
   },
   {
    "duration": 15,
    "start_time": "2022-10-11T15:22:56.094Z"
   },
   {
    "duration": 13,
    "start_time": "2022-10-11T15:23:12.956Z"
   },
   {
    "duration": 15,
    "start_time": "2022-10-11T15:23:16.788Z"
   },
   {
    "duration": 88,
    "start_time": "2022-10-11T15:28:28.140Z"
   },
   {
    "duration": 17,
    "start_time": "2022-10-11T15:28:52.599Z"
   },
   {
    "duration": 6,
    "start_time": "2022-10-11T15:29:09.486Z"
   },
   {
    "duration": 4,
    "start_time": "2022-10-11T15:30:27.136Z"
   },
   {
    "duration": 45,
    "start_time": "2022-10-11T15:30:57.291Z"
   },
   {
    "duration": 33,
    "start_time": "2022-10-11T15:31:06.561Z"
   },
   {
    "duration": 5,
    "start_time": "2022-10-11T15:32:50.880Z"
   },
   {
    "duration": 9,
    "start_time": "2022-10-11T15:33:03.227Z"
   },
   {
    "duration": 9,
    "start_time": "2022-10-11T15:33:43.902Z"
   },
   {
    "duration": 9,
    "start_time": "2022-10-11T15:34:33.527Z"
   },
   {
    "duration": 6,
    "start_time": "2022-10-11T15:34:45.387Z"
   },
   {
    "duration": 290,
    "start_time": "2022-10-11T15:35:21.607Z"
   },
   {
    "duration": 67,
    "start_time": "2022-10-11T15:35:24.987Z"
   },
   {
    "duration": 9,
    "start_time": "2022-10-11T15:35:27.779Z"
   },
   {
    "duration": 9,
    "start_time": "2022-10-11T15:36:23.333Z"
   },
   {
    "duration": 15,
    "start_time": "2022-10-11T15:37:09.569Z"
   },
   {
    "duration": 10,
    "start_time": "2022-10-11T15:37:23.343Z"
   },
   {
    "duration": 9,
    "start_time": "2022-10-11T15:37:50.600Z"
   },
   {
    "duration": 7,
    "start_time": "2022-10-11T15:57:22.244Z"
   },
   {
    "duration": 9,
    "start_time": "2022-10-11T15:57:28.892Z"
   },
   {
    "duration": 6,
    "start_time": "2022-10-11T15:58:23.526Z"
   },
   {
    "duration": 6,
    "start_time": "2022-10-11T15:58:29.240Z"
   },
   {
    "duration": 7,
    "start_time": "2022-10-11T15:58:35.672Z"
   },
   {
    "duration": 7,
    "start_time": "2022-10-11T15:58:43.264Z"
   },
   {
    "duration": 39,
    "start_time": "2022-10-11T15:59:10.676Z"
   },
   {
    "duration": 29,
    "start_time": "2022-10-11T16:00:48.280Z"
   },
   {
    "duration": 24,
    "start_time": "2022-10-11T16:04:14.908Z"
   },
   {
    "duration": 26,
    "start_time": "2022-10-11T16:04:20.723Z"
   },
   {
    "duration": 22,
    "start_time": "2022-10-11T16:04:41.474Z"
   },
   {
    "duration": 42,
    "start_time": "2022-10-11T16:05:32.656Z"
   },
   {
    "duration": 5,
    "start_time": "2022-10-11T16:05:39.000Z"
   },
   {
    "duration": 4,
    "start_time": "2022-10-11T16:05:51.336Z"
   },
   {
    "duration": 43,
    "start_time": "2022-10-11T16:08:10.968Z"
   },
   {
    "duration": 8,
    "start_time": "2022-10-11T16:08:13.857Z"
   },
   {
    "duration": 15,
    "start_time": "2022-10-11T16:10:31.456Z"
   },
   {
    "duration": 45,
    "start_time": "2022-10-11T16:10:37.972Z"
   },
   {
    "duration": 7,
    "start_time": "2022-10-11T16:10:38.490Z"
   },
   {
    "duration": 42,
    "start_time": "2022-10-11T16:11:25.808Z"
   },
   {
    "duration": 8,
    "start_time": "2022-10-11T16:11:26.760Z"
   },
   {
    "duration": 43,
    "start_time": "2022-10-11T16:11:33.012Z"
   },
   {
    "duration": 8,
    "start_time": "2022-10-11T16:11:33.455Z"
   },
   {
    "duration": 45,
    "start_time": "2022-10-11T16:11:42.972Z"
   },
   {
    "duration": 8,
    "start_time": "2022-10-11T16:11:43.611Z"
   },
   {
    "duration": 46,
    "start_time": "2022-10-11T16:11:54.121Z"
   },
   {
    "duration": 8,
    "start_time": "2022-10-11T16:11:54.696Z"
   },
   {
    "duration": 110,
    "start_time": "2022-10-11T16:14:19.740Z"
   },
   {
    "duration": 106,
    "start_time": "2022-10-11T16:14:26.996Z"
   },
   {
    "duration": 140,
    "start_time": "2022-10-11T16:16:59.249Z"
   },
   {
    "duration": 132,
    "start_time": "2022-10-11T16:17:35.020Z"
   },
   {
    "duration": 147,
    "start_time": "2022-10-11T16:17:56.572Z"
   },
   {
    "duration": 134,
    "start_time": "2022-10-11T16:18:55.280Z"
   },
   {
    "duration": 131,
    "start_time": "2022-10-11T16:19:34.256Z"
   },
   {
    "duration": 203,
    "start_time": "2022-10-11T16:19:37.587Z"
   },
   {
    "duration": 20,
    "start_time": "2022-10-11T16:19:52.917Z"
   },
   {
    "duration": 279,
    "start_time": "2022-10-11T16:20:00.349Z"
   },
   {
    "duration": 130,
    "start_time": "2022-10-11T16:20:59.026Z"
   },
   {
    "duration": 267,
    "start_time": "2022-10-11T16:21:34.975Z"
   },
   {
    "duration": 10,
    "start_time": "2022-10-11T16:36:15.934Z"
   },
   {
    "duration": 1038,
    "start_time": "2022-10-11T16:36:34.338Z"
   },
   {
    "duration": 90,
    "start_time": "2022-10-11T16:36:35.378Z"
   },
   {
    "duration": 13,
    "start_time": "2022-10-11T16:36:35.472Z"
   },
   {
    "duration": 8,
    "start_time": "2022-10-11T16:36:35.487Z"
   },
   {
    "duration": 804,
    "start_time": "2022-10-11T16:36:35.497Z"
   },
   {
    "duration": 6,
    "start_time": "2022-10-11T16:36:36.303Z"
   },
   {
    "duration": 12,
    "start_time": "2022-10-11T16:36:36.311Z"
   },
   {
    "duration": 12,
    "start_time": "2022-10-11T16:36:36.325Z"
   },
   {
    "duration": 17,
    "start_time": "2022-10-11T16:36:36.340Z"
   },
   {
    "duration": 7,
    "start_time": "2022-10-11T16:36:36.358Z"
   },
   {
    "duration": 38,
    "start_time": "2022-10-11T16:36:36.366Z"
   },
   {
    "duration": 6,
    "start_time": "2022-10-11T16:36:36.405Z"
   },
   {
    "duration": 24,
    "start_time": "2022-10-11T16:36:36.412Z"
   },
   {
    "duration": 16,
    "start_time": "2022-10-11T16:36:36.437Z"
   },
   {
    "duration": 23,
    "start_time": "2022-10-11T16:36:36.455Z"
   },
   {
    "duration": 10,
    "start_time": "2022-10-11T16:36:36.501Z"
   },
   {
    "duration": 7,
    "start_time": "2022-10-11T16:36:36.512Z"
   },
   {
    "duration": 1271,
    "start_time": "2022-10-11T16:36:36.520Z"
   },
   {
    "duration": 9,
    "start_time": "2022-10-11T16:36:37.793Z"
   },
   {
    "duration": 3,
    "start_time": "2022-10-11T16:36:37.803Z"
   },
   {
    "duration": 7,
    "start_time": "2022-10-11T16:36:37.807Z"
   },
   {
    "duration": 16,
    "start_time": "2022-10-11T16:36:37.816Z"
   },
   {
    "duration": 294,
    "start_time": "2022-10-11T16:36:37.833Z"
   },
   {
    "duration": 279,
    "start_time": "2022-10-11T16:36:38.129Z"
   },
   {
    "duration": 343,
    "start_time": "2022-10-11T16:36:38.410Z"
   },
   {
    "duration": 8,
    "start_time": "2022-10-11T16:36:38.755Z"
   },
   {
    "duration": 6,
    "start_time": "2022-10-11T16:36:38.766Z"
   },
   {
    "duration": 314,
    "start_time": "2022-10-11T16:36:38.773Z"
   },
   {
    "duration": 256,
    "start_time": "2022-10-11T16:36:39.089Z"
   },
   {
    "duration": 253,
    "start_time": "2022-10-11T16:36:39.347Z"
   },
   {
    "duration": 10,
    "start_time": "2022-10-11T16:36:39.602Z"
   },
   {
    "duration": 45,
    "start_time": "2022-10-11T16:36:39.614Z"
   },
   {
    "duration": 7,
    "start_time": "2022-10-11T16:36:39.661Z"
   },
   {
    "duration": 377,
    "start_time": "2022-10-11T16:36:39.669Z"
   },
   {
    "duration": 189,
    "start_time": "2022-10-11T16:36:40.047Z"
   },
   {
    "duration": 92,
    "start_time": "2022-10-11T16:36:40.238Z"
   },
   {
    "duration": 0,
    "start_time": "2022-10-11T16:36:40.332Z"
   },
   {
    "duration": 0,
    "start_time": "2022-10-11T16:36:40.333Z"
   },
   {
    "duration": 0,
    "start_time": "2022-10-11T16:36:40.333Z"
   },
   {
    "duration": 0,
    "start_time": "2022-10-11T16:36:40.334Z"
   },
   {
    "duration": 0,
    "start_time": "2022-10-11T16:36:40.335Z"
   },
   {
    "duration": 0,
    "start_time": "2022-10-11T16:36:40.336Z"
   },
   {
    "duration": 0,
    "start_time": "2022-10-11T16:36:40.337Z"
   },
   {
    "duration": 0,
    "start_time": "2022-10-11T16:36:40.337Z"
   },
   {
    "duration": 6,
    "start_time": "2022-10-11T16:36:58.920Z"
   },
   {
    "duration": 10,
    "start_time": "2022-10-11T16:38:08.446Z"
   },
   {
    "duration": 1177,
    "start_time": "2022-10-11T16:38:46.391Z"
   },
   {
    "duration": 82,
    "start_time": "2022-10-11T16:38:47.570Z"
   },
   {
    "duration": 13,
    "start_time": "2022-10-11T16:38:47.653Z"
   },
   {
    "duration": 8,
    "start_time": "2022-10-11T16:38:47.668Z"
   },
   {
    "duration": 875,
    "start_time": "2022-10-11T16:38:47.678Z"
   },
   {
    "duration": 4,
    "start_time": "2022-10-11T16:38:48.555Z"
   },
   {
    "duration": 8,
    "start_time": "2022-10-11T16:38:48.561Z"
   },
   {
    "duration": 10,
    "start_time": "2022-10-11T16:38:48.571Z"
   },
   {
    "duration": 16,
    "start_time": "2022-10-11T16:38:48.600Z"
   },
   {
    "duration": 7,
    "start_time": "2022-10-11T16:38:48.618Z"
   },
   {
    "duration": 7,
    "start_time": "2022-10-11T16:38:48.627Z"
   },
   {
    "duration": 9,
    "start_time": "2022-10-11T16:38:48.635Z"
   },
   {
    "duration": 19,
    "start_time": "2022-10-11T16:38:48.645Z"
   },
   {
    "duration": 48,
    "start_time": "2022-10-11T16:38:48.666Z"
   },
   {
    "duration": 22,
    "start_time": "2022-10-11T16:38:48.716Z"
   },
   {
    "duration": 9,
    "start_time": "2022-10-11T16:38:48.740Z"
   },
   {
    "duration": 7,
    "start_time": "2022-10-11T16:38:48.750Z"
   },
   {
    "duration": 1305,
    "start_time": "2022-10-11T16:38:48.758Z"
   },
   {
    "duration": 9,
    "start_time": "2022-10-11T16:38:50.064Z"
   },
   {
    "duration": 3,
    "start_time": "2022-10-11T16:38:50.075Z"
   },
   {
    "duration": 16,
    "start_time": "2022-10-11T16:38:50.080Z"
   },
   {
    "duration": 15,
    "start_time": "2022-10-11T16:38:50.097Z"
   },
   {
    "duration": 299,
    "start_time": "2022-10-11T16:38:50.113Z"
   },
   {
    "duration": 263,
    "start_time": "2022-10-11T16:38:50.414Z"
   },
   {
    "duration": 329,
    "start_time": "2022-10-11T16:38:50.678Z"
   },
   {
    "duration": 7,
    "start_time": "2022-10-11T16:38:51.009Z"
   },
   {
    "duration": 10,
    "start_time": "2022-10-11T16:38:51.018Z"
   },
   {
    "duration": 275,
    "start_time": "2022-10-11T16:38:51.031Z"
   },
   {
    "duration": 242,
    "start_time": "2022-10-11T16:38:51.307Z"
   },
   {
    "duration": 251,
    "start_time": "2022-10-11T16:38:51.551Z"
   },
   {
    "duration": 9,
    "start_time": "2022-10-11T16:38:51.803Z"
   },
   {
    "duration": 46,
    "start_time": "2022-10-11T16:38:51.814Z"
   },
   {
    "duration": 8,
    "start_time": "2022-10-11T16:38:51.861Z"
   },
   {
    "duration": 371,
    "start_time": "2022-10-11T16:38:51.870Z"
   },
   {
    "duration": 199,
    "start_time": "2022-10-11T16:38:52.242Z"
   },
   {
    "duration": 10,
    "start_time": "2022-10-11T16:38:52.443Z"
   },
   {
    "duration": 305,
    "start_time": "2022-10-11T16:38:52.454Z"
   },
   {
    "duration": 387,
    "start_time": "2022-10-11T16:38:52.761Z"
   },
   {
    "duration": 9,
    "start_time": "2022-10-11T16:38:53.150Z"
   },
   {
    "duration": 8,
    "start_time": "2022-10-11T16:38:53.161Z"
   },
   {
    "duration": 130,
    "start_time": "2022-10-11T16:38:53.170Z"
   },
   {
    "duration": 3,
    "start_time": "2022-10-11T16:38:53.301Z"
   },
   {
    "duration": 11,
    "start_time": "2022-10-11T16:38:53.305Z"
   },
   {
    "duration": 9,
    "start_time": "2022-10-11T16:38:53.317Z"
   },
   {
    "duration": 3,
    "start_time": "2022-10-11T16:39:29.233Z"
   },
   {
    "duration": 1130,
    "start_time": "2022-10-11T16:39:33.069Z"
   },
   {
    "duration": 89,
    "start_time": "2022-10-11T16:39:34.200Z"
   },
   {
    "duration": 13,
    "start_time": "2022-10-11T16:39:34.290Z"
   },
   {
    "duration": 7,
    "start_time": "2022-10-11T16:39:34.304Z"
   },
   {
    "duration": 1038,
    "start_time": "2022-10-11T16:39:34.313Z"
   },
   {
    "duration": 4,
    "start_time": "2022-10-11T16:39:35.353Z"
   },
   {
    "duration": 33,
    "start_time": "2022-10-11T16:39:35.358Z"
   },
   {
    "duration": 16,
    "start_time": "2022-10-11T16:39:35.393Z"
   },
   {
    "duration": 31,
    "start_time": "2022-10-11T16:39:35.411Z"
   },
   {
    "duration": 7,
    "start_time": "2022-10-11T16:39:35.445Z"
   },
   {
    "duration": 17,
    "start_time": "2022-10-11T16:39:35.453Z"
   },
   {
    "duration": 12,
    "start_time": "2022-10-11T16:39:35.472Z"
   },
   {
    "duration": 38,
    "start_time": "2022-10-11T16:39:35.485Z"
   },
   {
    "duration": 26,
    "start_time": "2022-10-11T16:39:35.524Z"
   },
   {
    "duration": 32,
    "start_time": "2022-10-11T16:39:35.552Z"
   },
   {
    "duration": 17,
    "start_time": "2022-10-11T16:39:35.585Z"
   },
   {
    "duration": 27,
    "start_time": "2022-10-11T16:39:35.603Z"
   },
   {
    "duration": 2631,
    "start_time": "2022-10-11T16:39:35.632Z"
   },
   {
    "duration": 9,
    "start_time": "2022-10-11T16:39:38.264Z"
   },
   {
    "duration": 2,
    "start_time": "2022-10-11T16:39:38.275Z"
   },
   {
    "duration": 11,
    "start_time": "2022-10-11T16:39:38.278Z"
   },
   {
    "duration": 17,
    "start_time": "2022-10-11T16:39:38.290Z"
   },
   {
    "duration": 430,
    "start_time": "2022-10-11T16:39:38.308Z"
   },
   {
    "duration": 328,
    "start_time": "2022-10-11T16:39:38.739Z"
   },
   {
    "duration": 380,
    "start_time": "2022-10-11T16:39:39.069Z"
   },
   {
    "duration": 9,
    "start_time": "2022-10-11T16:39:39.452Z"
   },
   {
    "duration": 6,
    "start_time": "2022-10-11T16:39:39.463Z"
   },
   {
    "duration": 341,
    "start_time": "2022-10-11T16:39:39.473Z"
   },
   {
    "duration": 244,
    "start_time": "2022-10-11T16:39:39.815Z"
   },
   {
    "duration": 287,
    "start_time": "2022-10-11T16:39:40.061Z"
   },
   {
    "duration": 8,
    "start_time": "2022-10-11T16:39:40.350Z"
   },
   {
    "duration": 56,
    "start_time": "2022-10-11T16:39:40.360Z"
   },
   {
    "duration": 7,
    "start_time": "2022-10-11T16:39:40.418Z"
   },
   {
    "duration": 281,
    "start_time": "2022-10-11T16:39:40.426Z"
   },
   {
    "duration": 266,
    "start_time": "2022-10-11T16:39:40.709Z"
   },
   {
    "duration": 10,
    "start_time": "2022-10-11T16:39:40.977Z"
   },
   {
    "duration": 335,
    "start_time": "2022-10-11T16:39:40.989Z"
   },
   {
    "duration": 433,
    "start_time": "2022-10-11T16:39:41.326Z"
   },
   {
    "duration": 11,
    "start_time": "2022-10-11T16:39:41.761Z"
   },
   {
    "duration": 15,
    "start_time": "2022-10-11T16:39:41.774Z"
   },
   {
    "duration": 129,
    "start_time": "2022-10-11T16:39:41.801Z"
   },
   {
    "duration": 2,
    "start_time": "2022-10-11T16:39:41.931Z"
   },
   {
    "duration": 32,
    "start_time": "2022-10-11T16:39:41.935Z"
   },
   {
    "duration": 17,
    "start_time": "2022-10-11T16:39:41.968Z"
   },
   {
    "duration": 109,
    "start_time": "2022-10-11T16:42:48.829Z"
   },
   {
    "duration": 312,
    "start_time": "2022-10-11T16:43:08.912Z"
   },
   {
    "duration": 109,
    "start_time": "2022-10-11T16:43:50.482Z"
   },
   {
    "duration": 8,
    "start_time": "2022-10-11T16:43:59.829Z"
   },
   {
    "duration": 309,
    "start_time": "2022-10-11T16:45:35.085Z"
   },
   {
    "duration": 376,
    "start_time": "2022-10-11T16:45:59.342Z"
   },
   {
    "duration": 267,
    "start_time": "2022-10-11T16:47:46.108Z"
   },
   {
    "duration": 15,
    "start_time": "2022-10-11T16:50:38.270Z"
   },
   {
    "duration": 98,
    "start_time": "2022-10-11T16:51:59.792Z"
   },
   {
    "duration": 13,
    "start_time": "2022-10-11T16:52:18.765Z"
   },
   {
    "duration": 7,
    "start_time": "2022-10-11T16:52:33.877Z"
   },
   {
    "duration": 845,
    "start_time": "2022-10-11T16:52:48.935Z"
   },
   {
    "duration": 777,
    "start_time": "2022-10-11T16:52:52.909Z"
   },
   {
    "duration": 13,
    "start_time": "2022-10-11T16:55:33.286Z"
   },
   {
    "duration": 13,
    "start_time": "2022-10-11T16:55:39.111Z"
   },
   {
    "duration": 10,
    "start_time": "2022-10-11T16:55:47.839Z"
   },
   {
    "duration": 828,
    "start_time": "2022-10-11T16:55:57.074Z"
   },
   {
    "duration": 6,
    "start_time": "2022-10-11T16:56:01.694Z"
   },
   {
    "duration": 291,
    "start_time": "2022-10-11T16:57:37.310Z"
   },
   {
    "duration": 285,
    "start_time": "2022-10-11T17:00:04.623Z"
   },
   {
    "duration": 125,
    "start_time": "2022-10-11T17:00:33.785Z"
   },
   {
    "duration": 389,
    "start_time": "2022-10-11T17:00:41.235Z"
   },
   {
    "duration": 275,
    "start_time": "2022-10-11T17:02:29.189Z"
   },
   {
    "duration": 1101,
    "start_time": "2022-10-11T17:02:50.829Z"
   },
   {
    "duration": 91,
    "start_time": "2022-10-11T17:02:51.931Z"
   },
   {
    "duration": 12,
    "start_time": "2022-10-11T17:02:52.023Z"
   },
   {
    "duration": 8,
    "start_time": "2022-10-11T17:02:52.037Z"
   },
   {
    "duration": 990,
    "start_time": "2022-10-11T17:02:52.046Z"
   },
   {
    "duration": 4,
    "start_time": "2022-10-11T17:02:53.039Z"
   },
   {
    "duration": 10,
    "start_time": "2022-10-11T17:02:53.044Z"
   },
   {
    "duration": 12,
    "start_time": "2022-10-11T17:02:53.055Z"
   },
   {
    "duration": 39,
    "start_time": "2022-10-11T17:02:53.068Z"
   },
   {
    "duration": 8,
    "start_time": "2022-10-11T17:02:53.109Z"
   },
   {
    "duration": 9,
    "start_time": "2022-10-11T17:02:53.118Z"
   },
   {
    "duration": 9,
    "start_time": "2022-10-11T17:02:53.129Z"
   },
   {
    "duration": 20,
    "start_time": "2022-10-11T17:02:53.140Z"
   },
   {
    "duration": 46,
    "start_time": "2022-10-11T17:02:53.162Z"
   },
   {
    "duration": 27,
    "start_time": "2022-10-11T17:02:53.210Z"
   },
   {
    "duration": 13,
    "start_time": "2022-10-11T17:02:53.239Z"
   },
   {
    "duration": 8,
    "start_time": "2022-10-11T17:02:53.254Z"
   },
   {
    "duration": 2731,
    "start_time": "2022-10-11T17:02:53.264Z"
   },
   {
    "duration": 9,
    "start_time": "2022-10-11T17:02:55.996Z"
   },
   {
    "duration": 4,
    "start_time": "2022-10-11T17:02:56.006Z"
   },
   {
    "duration": 9,
    "start_time": "2022-10-11T17:02:56.011Z"
   },
   {
    "duration": 15,
    "start_time": "2022-10-11T17:02:56.021Z"
   },
   {
    "duration": 430,
    "start_time": "2022-10-11T17:02:56.037Z"
   },
   {
    "duration": 294,
    "start_time": "2022-10-11T17:02:56.468Z"
   },
   {
    "duration": 359,
    "start_time": "2022-10-11T17:02:56.764Z"
   },
   {
    "duration": 8,
    "start_time": "2022-10-11T17:02:57.125Z"
   },
   {
    "duration": 6,
    "start_time": "2022-10-11T17:02:57.134Z"
   },
   {
    "duration": 345,
    "start_time": "2022-10-11T17:02:57.143Z"
   },
   {
    "duration": 240,
    "start_time": "2022-10-11T17:02:57.490Z"
   },
   {
    "duration": 294,
    "start_time": "2022-10-11T17:02:57.732Z"
   },
   {
    "duration": 9,
    "start_time": "2022-10-11T17:02:58.028Z"
   },
   {
    "duration": 43,
    "start_time": "2022-10-11T17:02:58.038Z"
   },
   {
    "duration": 22,
    "start_time": "2022-10-11T17:02:58.082Z"
   },
   {
    "duration": 282,
    "start_time": "2022-10-11T17:02:58.106Z"
   },
   {
    "duration": 275,
    "start_time": "2022-10-11T17:02:58.390Z"
   },
   {
    "duration": 10,
    "start_time": "2022-10-11T17:02:58.667Z"
   },
   {
    "duration": 272,
    "start_time": "2022-10-11T17:02:58.679Z"
   },
   {
    "duration": 284,
    "start_time": "2022-10-11T17:02:58.952Z"
   },
   {
    "duration": 326,
    "start_time": "2022-10-11T17:02:59.238Z"
   },
   {
    "duration": 397,
    "start_time": "2022-10-11T17:02:59.565Z"
   },
   {
    "duration": 9,
    "start_time": "2022-10-11T17:02:59.964Z"
   },
   {
    "duration": 25,
    "start_time": "2022-10-11T17:02:59.975Z"
   },
   {
    "duration": 130,
    "start_time": "2022-10-11T17:03:00.002Z"
   },
   {
    "duration": 2,
    "start_time": "2022-10-11T17:03:00.133Z"
   },
   {
    "duration": 27,
    "start_time": "2022-10-11T17:03:00.136Z"
   },
   {
    "duration": 32,
    "start_time": "2022-10-11T17:03:00.164Z"
   },
   {
    "duration": 226,
    "start_time": "2022-10-11T17:04:52.382Z"
   },
   {
    "duration": 6,
    "start_time": "2022-10-11T17:05:06.851Z"
   },
   {
    "duration": 361,
    "start_time": "2022-10-11T17:06:14.506Z"
   },
   {
    "duration": 280,
    "start_time": "2022-10-11T17:06:20.072Z"
   },
   {
    "duration": 275,
    "start_time": "2022-10-11T17:06:33.742Z"
   },
   {
    "duration": 213,
    "start_time": "2022-10-11T17:15:49.209Z"
   },
   {
    "duration": 1019,
    "start_time": "2022-10-11T17:21:28.166Z"
   },
   {
    "duration": 88,
    "start_time": "2022-10-11T17:21:29.187Z"
   },
   {
    "duration": 14,
    "start_time": "2022-10-11T17:21:29.276Z"
   },
   {
    "duration": 11,
    "start_time": "2022-10-11T17:21:29.291Z"
   },
   {
    "duration": 850,
    "start_time": "2022-10-11T17:21:29.303Z"
   },
   {
    "duration": 5,
    "start_time": "2022-10-11T17:21:30.155Z"
   },
   {
    "duration": 23,
    "start_time": "2022-10-11T17:21:30.161Z"
   },
   {
    "duration": 15,
    "start_time": "2022-10-11T17:21:30.185Z"
   },
   {
    "duration": 19,
    "start_time": "2022-10-11T17:21:30.202Z"
   },
   {
    "duration": 7,
    "start_time": "2022-10-11T17:21:30.224Z"
   },
   {
    "duration": 7,
    "start_time": "2022-10-11T17:21:30.233Z"
   },
   {
    "duration": 10,
    "start_time": "2022-10-11T17:21:30.241Z"
   },
   {
    "duration": 20,
    "start_time": "2022-10-11T17:21:30.252Z"
   },
   {
    "duration": 35,
    "start_time": "2022-10-11T17:21:30.273Z"
   },
   {
    "duration": 29,
    "start_time": "2022-10-11T17:21:30.310Z"
   },
   {
    "duration": 11,
    "start_time": "2022-10-11T17:21:30.341Z"
   },
   {
    "duration": 9,
    "start_time": "2022-10-11T17:21:30.354Z"
   },
   {
    "duration": 1327,
    "start_time": "2022-10-11T17:21:30.364Z"
   },
   {
    "duration": 12,
    "start_time": "2022-10-11T17:21:31.693Z"
   },
   {
    "duration": 6,
    "start_time": "2022-10-11T17:21:31.706Z"
   },
   {
    "duration": 29,
    "start_time": "2022-10-11T17:21:31.713Z"
   },
   {
    "duration": 18,
    "start_time": "2022-10-11T17:21:31.743Z"
   },
   {
    "duration": 310,
    "start_time": "2022-10-11T17:21:31.762Z"
   },
   {
    "duration": 258,
    "start_time": "2022-10-11T17:21:32.074Z"
   },
   {
    "duration": 323,
    "start_time": "2022-10-11T17:21:32.334Z"
   },
   {
    "duration": 9,
    "start_time": "2022-10-11T17:21:32.659Z"
   },
   {
    "duration": 11,
    "start_time": "2022-10-11T17:21:32.670Z"
   },
   {
    "duration": 287,
    "start_time": "2022-10-11T17:21:32.684Z"
   },
   {
    "duration": 235,
    "start_time": "2022-10-11T17:21:32.973Z"
   },
   {
    "duration": 245,
    "start_time": "2022-10-11T17:21:33.210Z"
   },
   {
    "duration": 10,
    "start_time": "2022-10-11T17:21:33.456Z"
   },
   {
    "duration": 54,
    "start_time": "2022-10-11T17:21:33.467Z"
   },
   {
    "duration": 7,
    "start_time": "2022-10-11T17:21:33.523Z"
   },
   {
    "duration": 319,
    "start_time": "2022-10-11T17:21:33.531Z"
   },
   {
    "duration": 181,
    "start_time": "2022-10-11T17:21:33.851Z"
   },
   {
    "duration": 10,
    "start_time": "2022-10-11T17:21:34.034Z"
   },
   {
    "duration": 275,
    "start_time": "2022-10-11T17:21:34.045Z"
   },
   {
    "duration": 305,
    "start_time": "2022-10-11T17:21:34.321Z"
   },
   {
    "duration": 321,
    "start_time": "2022-10-11T17:21:34.628Z"
   },
   {
    "duration": 372,
    "start_time": "2022-10-11T17:21:34.951Z"
   },
   {
    "duration": 10,
    "start_time": "2022-10-11T17:21:35.324Z"
   },
   {
    "duration": 34,
    "start_time": "2022-10-11T17:21:35.336Z"
   },
   {
    "duration": 106,
    "start_time": "2022-10-11T17:21:35.372Z"
   },
   {
    "duration": 2,
    "start_time": "2022-10-11T17:21:35.480Z"
   },
   {
    "duration": 22,
    "start_time": "2022-10-11T17:21:35.484Z"
   },
   {
    "duration": 10,
    "start_time": "2022-10-11T17:21:35.507Z"
   },
   {
    "duration": 1089,
    "start_time": "2022-10-11T17:22:11.614Z"
   },
   {
    "duration": 83,
    "start_time": "2022-10-11T17:22:12.704Z"
   },
   {
    "duration": 13,
    "start_time": "2022-10-11T17:22:12.791Z"
   },
   {
    "duration": 30,
    "start_time": "2022-10-11T17:22:12.805Z"
   },
   {
    "duration": 923,
    "start_time": "2022-10-11T17:22:12.836Z"
   },
   {
    "duration": 5,
    "start_time": "2022-10-11T17:22:13.761Z"
   },
   {
    "duration": 10,
    "start_time": "2022-10-11T17:22:13.767Z"
   },
   {
    "duration": 21,
    "start_time": "2022-10-11T17:22:13.779Z"
   },
   {
    "duration": 15,
    "start_time": "2022-10-11T17:22:13.802Z"
   },
   {
    "duration": 6,
    "start_time": "2022-10-11T17:22:13.818Z"
   },
   {
    "duration": 20,
    "start_time": "2022-10-11T17:22:13.826Z"
   },
   {
    "duration": 12,
    "start_time": "2022-10-11T17:22:13.848Z"
   },
   {
    "duration": 25,
    "start_time": "2022-10-11T17:22:13.862Z"
   },
   {
    "duration": 15,
    "start_time": "2022-10-11T17:22:13.889Z"
   },
   {
    "duration": 22,
    "start_time": "2022-10-11T17:22:13.905Z"
   },
   {
    "duration": 9,
    "start_time": "2022-10-11T17:22:13.928Z"
   },
   {
    "duration": 9,
    "start_time": "2022-10-11T17:22:13.939Z"
   },
   {
    "duration": 2678,
    "start_time": "2022-10-11T17:22:13.949Z"
   },
   {
    "duration": 9,
    "start_time": "2022-10-11T17:22:16.628Z"
   },
   {
    "duration": 7,
    "start_time": "2022-10-11T17:22:16.639Z"
   },
   {
    "duration": 16,
    "start_time": "2022-10-11T17:22:16.647Z"
   },
   {
    "duration": 16,
    "start_time": "2022-10-11T17:22:16.664Z"
   },
   {
    "duration": 421,
    "start_time": "2022-10-11T17:22:16.681Z"
   },
   {
    "duration": 312,
    "start_time": "2022-10-11T17:22:17.103Z"
   },
   {
    "duration": 321,
    "start_time": "2022-10-11T17:22:17.416Z"
   },
   {
    "duration": 7,
    "start_time": "2022-10-11T17:22:17.739Z"
   },
   {
    "duration": 8,
    "start_time": "2022-10-11T17:22:17.749Z"
   },
   {
    "duration": 335,
    "start_time": "2022-10-11T17:22:17.758Z"
   },
   {
    "duration": 240,
    "start_time": "2022-10-11T17:22:18.095Z"
   },
   {
    "duration": 275,
    "start_time": "2022-10-11T17:22:18.336Z"
   },
   {
    "duration": 10,
    "start_time": "2022-10-11T17:22:18.613Z"
   },
   {
    "duration": 45,
    "start_time": "2022-10-11T17:22:18.624Z"
   },
   {
    "duration": 8,
    "start_time": "2022-10-11T17:22:18.671Z"
   },
   {
    "duration": 277,
    "start_time": "2022-10-11T17:22:18.699Z"
   },
   {
    "duration": 282,
    "start_time": "2022-10-11T17:22:18.978Z"
   },
   {
    "duration": 10,
    "start_time": "2022-10-11T17:22:19.262Z"
   },
   {
    "duration": 280,
    "start_time": "2022-10-11T17:22:19.274Z"
   },
   {
    "duration": 267,
    "start_time": "2022-10-11T17:22:19.555Z"
   },
   {
    "duration": 307,
    "start_time": "2022-10-11T17:22:19.824Z"
   },
   {
    "duration": 388,
    "start_time": "2022-10-11T17:22:20.132Z"
   },
   {
    "duration": 10,
    "start_time": "2022-10-11T17:22:20.522Z"
   },
   {
    "duration": 6,
    "start_time": "2022-10-11T17:22:20.534Z"
   },
   {
    "duration": 126,
    "start_time": "2022-10-11T17:22:20.542Z"
   },
   {
    "duration": 2,
    "start_time": "2022-10-11T17:22:20.669Z"
   },
   {
    "duration": 17,
    "start_time": "2022-10-11T17:22:20.673Z"
   },
   {
    "duration": 9,
    "start_time": "2022-10-11T17:22:20.700Z"
   },
   {
    "duration": 431,
    "start_time": "2022-10-11T17:25:13.007Z"
   },
   {
    "duration": 373,
    "start_time": "2022-10-11T17:27:35.175Z"
   },
   {
    "duration": 363,
    "start_time": "2022-10-11T17:27:42.386Z"
   },
   {
    "duration": 279,
    "start_time": "2022-10-11T17:28:51.427Z"
   },
   {
    "duration": 7,
    "start_time": "2022-10-11T17:38:35.800Z"
   },
   {
    "duration": 47,
    "start_time": "2022-10-11T20:42:34.868Z"
   },
   {
    "duration": 1414,
    "start_time": "2022-10-11T20:42:39.138Z"
   },
   {
    "duration": 130,
    "start_time": "2022-10-11T20:42:40.555Z"
   },
   {
    "duration": 15,
    "start_time": "2022-10-11T20:42:40.687Z"
   },
   {
    "duration": 11,
    "start_time": "2022-10-11T20:42:40.705Z"
   },
   {
    "duration": 1098,
    "start_time": "2022-10-11T20:42:40.718Z"
   },
   {
    "duration": 5,
    "start_time": "2022-10-11T20:42:41.820Z"
   },
   {
    "duration": 16,
    "start_time": "2022-10-11T20:42:41.827Z"
   },
   {
    "duration": 13,
    "start_time": "2022-10-11T20:42:41.845Z"
   },
   {
    "duration": 19,
    "start_time": "2022-10-11T20:42:41.860Z"
   },
   {
    "duration": 40,
    "start_time": "2022-10-11T20:42:41.881Z"
   },
   {
    "duration": 8,
    "start_time": "2022-10-11T20:42:41.923Z"
   },
   {
    "duration": 9,
    "start_time": "2022-10-11T20:42:41.932Z"
   },
   {
    "duration": 25,
    "start_time": "2022-10-11T20:42:41.943Z"
   },
   {
    "duration": 19,
    "start_time": "2022-10-11T20:42:41.970Z"
   },
   {
    "duration": 28,
    "start_time": "2022-10-11T20:42:42.021Z"
   },
   {
    "duration": 11,
    "start_time": "2022-10-11T20:42:42.051Z"
   },
   {
    "duration": 10,
    "start_time": "2022-10-11T20:42:42.064Z"
   },
   {
    "duration": 5,
    "start_time": "2022-10-11T20:42:42.076Z"
   },
   {
    "duration": 3137,
    "start_time": "2022-10-11T20:42:42.082Z"
   },
   {
    "duration": 13,
    "start_time": "2022-10-11T20:42:45.221Z"
   },
   {
    "duration": 9,
    "start_time": "2022-10-11T20:42:45.236Z"
   },
   {
    "duration": 17,
    "start_time": "2022-10-11T20:42:45.247Z"
   },
   {
    "duration": 28,
    "start_time": "2022-10-11T20:42:45.266Z"
   },
   {
    "duration": 26,
    "start_time": "2022-10-11T20:42:45.297Z"
   },
   {
    "duration": 561,
    "start_time": "2022-10-11T20:42:45.325Z"
   },
   {
    "duration": 376,
    "start_time": "2022-10-11T20:42:45.887Z"
   },
   {
    "duration": 470,
    "start_time": "2022-10-11T20:42:46.264Z"
   },
   {
    "duration": 10,
    "start_time": "2022-10-11T20:42:46.738Z"
   },
   {
    "duration": 15,
    "start_time": "2022-10-11T20:42:46.750Z"
   },
   {
    "duration": 395,
    "start_time": "2022-10-11T20:42:46.767Z"
   },
   {
    "duration": 303,
    "start_time": "2022-10-11T20:42:47.165Z"
   },
   {
    "duration": 333,
    "start_time": "2022-10-11T20:42:47.469Z"
   },
   {
    "duration": 19,
    "start_time": "2022-10-11T20:42:47.805Z"
   },
   {
    "duration": 274,
    "start_time": "2022-10-11T20:42:47.826Z"
   },
   {
    "duration": 0,
    "start_time": "2022-10-11T20:42:48.102Z"
   },
   {
    "duration": 0,
    "start_time": "2022-10-11T20:42:48.104Z"
   },
   {
    "duration": 0,
    "start_time": "2022-10-11T20:42:48.105Z"
   },
   {
    "duration": 0,
    "start_time": "2022-10-11T20:42:48.107Z"
   },
   {
    "duration": 0,
    "start_time": "2022-10-11T20:42:48.109Z"
   },
   {
    "duration": 0,
    "start_time": "2022-10-11T20:42:48.111Z"
   },
   {
    "duration": 0,
    "start_time": "2022-10-11T20:42:48.112Z"
   },
   {
    "duration": 0,
    "start_time": "2022-10-11T20:42:48.113Z"
   },
   {
    "duration": 0,
    "start_time": "2022-10-11T20:42:48.115Z"
   },
   {
    "duration": 0,
    "start_time": "2022-10-11T20:42:48.117Z"
   },
   {
    "duration": 0,
    "start_time": "2022-10-11T20:42:48.119Z"
   },
   {
    "duration": 0,
    "start_time": "2022-10-11T20:42:48.121Z"
   },
   {
    "duration": 0,
    "start_time": "2022-10-11T20:42:48.122Z"
   },
   {
    "duration": 0,
    "start_time": "2022-10-11T20:42:48.124Z"
   },
   {
    "duration": 151,
    "start_time": "2022-10-11T20:43:58.075Z"
   },
   {
    "duration": 168,
    "start_time": "2022-10-11T20:44:06.342Z"
   },
   {
    "duration": 153,
    "start_time": "2022-10-11T20:45:37.492Z"
   },
   {
    "duration": 15,
    "start_time": "2022-10-11T20:46:43.258Z"
   },
   {
    "duration": 9,
    "start_time": "2022-10-11T20:47:26.592Z"
   },
   {
    "duration": 7,
    "start_time": "2022-10-11T20:47:40.259Z"
   },
   {
    "duration": 6,
    "start_time": "2022-10-11T20:49:16.162Z"
   },
   {
    "duration": 364,
    "start_time": "2022-10-11T20:49:54.070Z"
   },
   {
    "duration": 16,
    "start_time": "2022-10-11T20:50:02.445Z"
   },
   {
    "duration": 6,
    "start_time": "2022-10-11T20:50:15.654Z"
   },
   {
    "duration": 1219,
    "start_time": "2022-10-11T20:50:39.896Z"
   },
   {
    "duration": 87,
    "start_time": "2022-10-11T20:50:41.117Z"
   },
   {
    "duration": 15,
    "start_time": "2022-10-11T20:50:41.206Z"
   },
   {
    "duration": 8,
    "start_time": "2022-10-11T20:50:41.223Z"
   },
   {
    "duration": 1065,
    "start_time": "2022-10-11T20:50:41.233Z"
   },
   {
    "duration": 5,
    "start_time": "2022-10-11T20:50:42.299Z"
   },
   {
    "duration": 19,
    "start_time": "2022-10-11T20:50:42.306Z"
   },
   {
    "duration": 12,
    "start_time": "2022-10-11T20:50:42.326Z"
   },
   {
    "duration": 18,
    "start_time": "2022-10-11T20:50:42.340Z"
   },
   {
    "duration": 7,
    "start_time": "2022-10-11T20:50:42.361Z"
   },
   {
    "duration": 7,
    "start_time": "2022-10-11T20:50:42.370Z"
   },
   {
    "duration": 12,
    "start_time": "2022-10-11T20:50:42.379Z"
   },
   {
    "duration": 20,
    "start_time": "2022-10-11T20:50:42.421Z"
   },
   {
    "duration": 18,
    "start_time": "2022-10-11T20:50:42.442Z"
   },
   {
    "duration": 26,
    "start_time": "2022-10-11T20:50:42.461Z"
   },
   {
    "duration": 39,
    "start_time": "2022-10-11T20:50:42.488Z"
   },
   {
    "duration": 8,
    "start_time": "2022-10-11T20:50:42.529Z"
   },
   {
    "duration": 12,
    "start_time": "2022-10-11T20:50:42.538Z"
   },
   {
    "duration": 2888,
    "start_time": "2022-10-11T20:50:42.551Z"
   },
   {
    "duration": 10,
    "start_time": "2022-10-11T20:50:45.441Z"
   },
   {
    "duration": 9,
    "start_time": "2022-10-11T20:50:45.452Z"
   },
   {
    "duration": 12,
    "start_time": "2022-10-11T20:50:45.463Z"
   },
   {
    "duration": 26,
    "start_time": "2022-10-11T20:50:45.477Z"
   },
   {
    "duration": 17,
    "start_time": "2022-10-11T20:50:45.505Z"
   },
   {
    "duration": 514,
    "start_time": "2022-10-11T20:50:45.523Z"
   },
   {
    "duration": 351,
    "start_time": "2022-10-11T20:50:46.038Z"
   },
   {
    "duration": 383,
    "start_time": "2022-10-11T20:50:46.391Z"
   },
   {
    "duration": 8,
    "start_time": "2022-10-11T20:50:46.777Z"
   },
   {
    "duration": 18,
    "start_time": "2022-10-11T20:50:46.787Z"
   },
   {
    "duration": 338,
    "start_time": "2022-10-11T20:50:46.806Z"
   },
   {
    "duration": 302,
    "start_time": "2022-10-11T20:50:47.146Z"
   },
   {
    "duration": 319,
    "start_time": "2022-10-11T20:50:47.450Z"
   },
   {
    "duration": 10,
    "start_time": "2022-10-11T20:50:47.771Z"
   },
   {
    "duration": 10,
    "start_time": "2022-10-11T20:50:47.783Z"
   },
   {
    "duration": 119,
    "start_time": "2022-10-11T20:50:47.794Z"
   },
   {
    "duration": 0,
    "start_time": "2022-10-11T20:50:47.914Z"
   },
   {
    "duration": 0,
    "start_time": "2022-10-11T20:50:47.915Z"
   },
   {
    "duration": 0,
    "start_time": "2022-10-11T20:50:47.916Z"
   },
   {
    "duration": 0,
    "start_time": "2022-10-11T20:50:47.917Z"
   },
   {
    "duration": 0,
    "start_time": "2022-10-11T20:50:47.920Z"
   },
   {
    "duration": 0,
    "start_time": "2022-10-11T20:50:47.921Z"
   },
   {
    "duration": 0,
    "start_time": "2022-10-11T20:50:47.922Z"
   },
   {
    "duration": 0,
    "start_time": "2022-10-11T20:50:47.923Z"
   },
   {
    "duration": 0,
    "start_time": "2022-10-11T20:50:47.924Z"
   },
   {
    "duration": 0,
    "start_time": "2022-10-11T20:50:47.925Z"
   },
   {
    "duration": 0,
    "start_time": "2022-10-11T20:50:47.926Z"
   },
   {
    "duration": 0,
    "start_time": "2022-10-11T20:50:47.927Z"
   },
   {
    "duration": 0,
    "start_time": "2022-10-11T20:50:47.928Z"
   },
   {
    "duration": 0,
    "start_time": "2022-10-11T20:50:47.929Z"
   },
   {
    "duration": 0,
    "start_time": "2022-10-11T20:50:47.931Z"
   },
   {
    "duration": 7,
    "start_time": "2022-10-11T20:52:08.290Z"
   },
   {
    "duration": 6,
    "start_time": "2022-10-11T20:52:18.198Z"
   },
   {
    "duration": 5,
    "start_time": "2022-10-11T20:54:05.662Z"
   },
   {
    "duration": 8,
    "start_time": "2022-10-11T20:54:19.239Z"
   },
   {
    "duration": 4,
    "start_time": "2022-10-11T20:54:28.791Z"
   },
   {
    "duration": 6,
    "start_time": "2022-10-11T20:56:57.102Z"
   },
   {
    "duration": 8,
    "start_time": "2022-10-11T20:57:03.667Z"
   },
   {
    "duration": 6,
    "start_time": "2022-10-11T20:57:06.597Z"
   },
   {
    "duration": 7,
    "start_time": "2022-10-11T20:57:16.057Z"
   },
   {
    "duration": 9,
    "start_time": "2022-10-11T20:58:25.591Z"
   },
   {
    "duration": 10,
    "start_time": "2022-10-11T20:58:30.703Z"
   },
   {
    "duration": 10,
    "start_time": "2022-10-11T20:58:40.592Z"
   },
   {
    "duration": 10,
    "start_time": "2022-10-11T20:58:43.875Z"
   },
   {
    "duration": 6,
    "start_time": "2022-10-11T20:58:53.034Z"
   },
   {
    "duration": 12,
    "start_time": "2022-10-11T21:00:32.251Z"
   },
   {
    "duration": 6,
    "start_time": "2022-10-11T21:01:11.395Z"
   },
   {
    "duration": 4,
    "start_time": "2022-10-11T21:04:01.159Z"
   },
   {
    "duration": 3,
    "start_time": "2022-10-11T21:04:06.329Z"
   },
   {
    "duration": 518,
    "start_time": "2022-10-11T21:05:03.371Z"
   },
   {
    "duration": 1128,
    "start_time": "2022-10-11T21:09:31.131Z"
   },
   {
    "duration": 99,
    "start_time": "2022-10-11T21:09:32.262Z"
   },
   {
    "duration": 16,
    "start_time": "2022-10-11T21:09:34.719Z"
   },
   {
    "duration": 9,
    "start_time": "2022-10-11T21:09:36.040Z"
   },
   {
    "duration": 1043,
    "start_time": "2022-10-11T21:09:37.241Z"
   },
   {
    "duration": 5,
    "start_time": "2022-10-11T21:09:40.576Z"
   },
   {
    "duration": 8,
    "start_time": "2022-10-11T21:09:42.034Z"
   },
   {
    "duration": 12,
    "start_time": "2022-10-11T21:09:44.475Z"
   },
   {
    "duration": 19,
    "start_time": "2022-10-11T21:09:45.139Z"
   },
   {
    "duration": 8,
    "start_time": "2022-10-11T21:09:48.115Z"
   },
   {
    "duration": 10,
    "start_time": "2022-10-11T21:09:48.923Z"
   },
   {
    "duration": 6,
    "start_time": "2022-10-11T21:09:50.609Z"
   },
   {
    "duration": 20,
    "start_time": "2022-10-11T21:09:53.143Z"
   },
   {
    "duration": 22,
    "start_time": "2022-10-11T21:09:53.850Z"
   },
   {
    "duration": 26,
    "start_time": "2022-10-11T21:09:55.899Z"
   },
   {
    "duration": 12,
    "start_time": "2022-10-11T21:09:57.622Z"
   },
   {
    "duration": 9,
    "start_time": "2022-10-11T21:09:59.783Z"
   },
   {
    "duration": 4,
    "start_time": "2022-10-11T21:10:02.820Z"
   },
   {
    "duration": 2928,
    "start_time": "2022-10-11T21:10:03.735Z"
   },
   {
    "duration": 11,
    "start_time": "2022-10-11T21:10:06.666Z"
   },
   {
    "duration": 3,
    "start_time": "2022-10-11T21:10:10.131Z"
   },
   {
    "duration": 7,
    "start_time": "2022-10-11T21:10:10.651Z"
   },
   {
    "duration": 18,
    "start_time": "2022-10-11T21:10:11.007Z"
   },
   {
    "duration": 7,
    "start_time": "2022-10-11T21:10:14.503Z"
   },
   {
    "duration": 114,
    "start_time": "2022-10-11T21:11:00.369Z"
   },
   {
    "duration": 14,
    "start_time": "2022-10-11T21:12:00.964Z"
   },
   {
    "duration": 8,
    "start_time": "2022-10-11T21:12:12.692Z"
   },
   {
    "duration": 10,
    "start_time": "2022-10-11T21:13:00.136Z"
   },
   {
    "duration": 7,
    "start_time": "2022-10-11T21:14:23.251Z"
   },
   {
    "duration": 9,
    "start_time": "2022-10-11T21:14:29.573Z"
   },
   {
    "duration": 6,
    "start_time": "2022-10-11T21:23:56.137Z"
   },
   {
    "duration": 1143,
    "start_time": "2022-10-11T21:24:05.326Z"
   },
   {
    "duration": 85,
    "start_time": "2022-10-11T21:24:06.471Z"
   },
   {
    "duration": 15,
    "start_time": "2022-10-11T21:24:06.558Z"
   },
   {
    "duration": 19,
    "start_time": "2022-10-11T21:24:06.575Z"
   },
   {
    "duration": 1071,
    "start_time": "2022-10-11T21:24:06.596Z"
   },
   {
    "duration": 5,
    "start_time": "2022-10-11T21:24:07.669Z"
   },
   {
    "duration": 62,
    "start_time": "2022-10-11T21:24:07.675Z"
   },
   {
    "duration": 14,
    "start_time": "2022-10-11T21:24:07.739Z"
   },
   {
    "duration": 22,
    "start_time": "2022-10-11T21:24:07.755Z"
   },
   {
    "duration": 8,
    "start_time": "2022-10-11T21:24:07.780Z"
   },
   {
    "duration": 7,
    "start_time": "2022-10-11T21:24:07.789Z"
   },
   {
    "duration": 7,
    "start_time": "2022-10-11T21:24:07.820Z"
   },
   {
    "duration": 33,
    "start_time": "2022-10-11T21:24:07.829Z"
   },
   {
    "duration": 26,
    "start_time": "2022-10-11T21:24:07.864Z"
   },
   {
    "duration": 45,
    "start_time": "2022-10-11T21:24:07.892Z"
   },
   {
    "duration": 12,
    "start_time": "2022-10-11T21:24:07.939Z"
   },
   {
    "duration": 9,
    "start_time": "2022-10-11T21:24:07.952Z"
   },
   {
    "duration": 8,
    "start_time": "2022-10-11T21:24:07.962Z"
   },
   {
    "duration": 3099,
    "start_time": "2022-10-11T21:24:07.972Z"
   },
   {
    "duration": 9,
    "start_time": "2022-10-11T21:24:11.073Z"
   },
   {
    "duration": 3,
    "start_time": "2022-10-11T21:24:11.084Z"
   },
   {
    "duration": 7,
    "start_time": "2022-10-11T21:24:11.089Z"
   },
   {
    "duration": 23,
    "start_time": "2022-10-11T21:24:11.098Z"
   },
   {
    "duration": 9,
    "start_time": "2022-10-11T21:24:11.123Z"
   },
   {
    "duration": 504,
    "start_time": "2022-10-11T21:24:11.134Z"
   },
   {
    "duration": 373,
    "start_time": "2022-10-11T21:24:11.640Z"
   },
   {
    "duration": 368,
    "start_time": "2022-10-11T21:24:12.015Z"
   },
   {
    "duration": 9,
    "start_time": "2022-10-11T21:24:12.387Z"
   },
   {
    "duration": 6,
    "start_time": "2022-10-11T21:24:12.398Z"
   },
   {
    "duration": 352,
    "start_time": "2022-10-11T21:24:12.420Z"
   },
   {
    "duration": 284,
    "start_time": "2022-10-11T21:24:12.774Z"
   },
   {
    "duration": 320,
    "start_time": "2022-10-11T21:24:13.060Z"
   },
   {
    "duration": 11,
    "start_time": "2022-10-11T21:24:13.381Z"
   },
   {
    "duration": 269,
    "start_time": "2022-10-11T21:24:13.394Z"
   },
   {
    "duration": 0,
    "start_time": "2022-10-11T21:24:13.665Z"
   },
   {
    "duration": 0,
    "start_time": "2022-10-11T21:24:13.666Z"
   },
   {
    "duration": 0,
    "start_time": "2022-10-11T21:24:13.668Z"
   },
   {
    "duration": 0,
    "start_time": "2022-10-11T21:24:13.669Z"
   },
   {
    "duration": 1,
    "start_time": "2022-10-11T21:24:13.670Z"
   },
   {
    "duration": 0,
    "start_time": "2022-10-11T21:24:13.672Z"
   },
   {
    "duration": 0,
    "start_time": "2022-10-11T21:24:13.674Z"
   },
   {
    "duration": 0,
    "start_time": "2022-10-11T21:24:13.675Z"
   },
   {
    "duration": 0,
    "start_time": "2022-10-11T21:24:13.677Z"
   },
   {
    "duration": 0,
    "start_time": "2022-10-11T21:24:13.678Z"
   },
   {
    "duration": 0,
    "start_time": "2022-10-11T21:24:13.679Z"
   },
   {
    "duration": 0,
    "start_time": "2022-10-11T21:24:13.680Z"
   },
   {
    "duration": 0,
    "start_time": "2022-10-11T21:24:13.682Z"
   },
   {
    "duration": 0,
    "start_time": "2022-10-11T21:24:13.683Z"
   },
   {
    "duration": 11,
    "start_time": "2022-10-11T21:25:13.313Z"
   },
   {
    "duration": 224,
    "start_time": "2022-10-11T21:25:21.453Z"
   },
   {
    "duration": 1203,
    "start_time": "2022-10-11T21:32:09.740Z"
   },
   {
    "duration": 95,
    "start_time": "2022-10-11T21:32:10.945Z"
   },
   {
    "duration": 16,
    "start_time": "2022-10-11T21:32:11.042Z"
   },
   {
    "duration": 9,
    "start_time": "2022-10-11T21:32:11.061Z"
   },
   {
    "duration": 1095,
    "start_time": "2022-10-11T21:32:11.072Z"
   },
   {
    "duration": 5,
    "start_time": "2022-10-11T21:32:12.169Z"
   },
   {
    "duration": 11,
    "start_time": "2022-10-11T21:32:12.176Z"
   },
   {
    "duration": 13,
    "start_time": "2022-10-11T21:32:12.189Z"
   },
   {
    "duration": 22,
    "start_time": "2022-10-11T21:32:12.222Z"
   },
   {
    "duration": 8,
    "start_time": "2022-10-11T21:32:12.246Z"
   },
   {
    "duration": 10,
    "start_time": "2022-10-11T21:32:12.255Z"
   },
   {
    "duration": 6,
    "start_time": "2022-10-11T21:32:12.267Z"
   },
   {
    "duration": 51,
    "start_time": "2022-10-11T21:32:12.274Z"
   },
   {
    "duration": 19,
    "start_time": "2022-10-11T21:32:12.327Z"
   },
   {
    "duration": 25,
    "start_time": "2022-10-11T21:32:12.347Z"
   },
   {
    "duration": 11,
    "start_time": "2022-10-11T21:32:12.374Z"
   },
   {
    "duration": 39,
    "start_time": "2022-10-11T21:32:12.388Z"
   },
   {
    "duration": 7,
    "start_time": "2022-10-11T21:32:12.429Z"
   },
   {
    "duration": 3101,
    "start_time": "2022-10-11T21:32:12.438Z"
   },
   {
    "duration": 13,
    "start_time": "2022-10-11T21:32:15.541Z"
   },
   {
    "duration": 7,
    "start_time": "2022-10-11T21:32:15.557Z"
   },
   {
    "duration": 11,
    "start_time": "2022-10-11T21:32:15.567Z"
   },
   {
    "duration": 24,
    "start_time": "2022-10-11T21:32:15.580Z"
   },
   {
    "duration": 487,
    "start_time": "2022-10-11T21:32:15.607Z"
   },
   {
    "duration": 355,
    "start_time": "2022-10-11T21:32:16.096Z"
   },
   {
    "duration": 373,
    "start_time": "2022-10-11T21:32:16.453Z"
   },
   {
    "duration": 10,
    "start_time": "2022-10-11T21:32:16.829Z"
   },
   {
    "duration": 13,
    "start_time": "2022-10-11T21:32:16.842Z"
   },
   {
    "duration": 391,
    "start_time": "2022-10-11T21:32:16.857Z"
   },
   {
    "duration": 291,
    "start_time": "2022-10-11T21:32:17.250Z"
   },
   {
    "duration": 321,
    "start_time": "2022-10-11T21:32:17.543Z"
   },
   {
    "duration": 12,
    "start_time": "2022-10-11T21:32:17.866Z"
   },
   {
    "duration": 63,
    "start_time": "2022-10-11T21:32:17.880Z"
   },
   {
    "duration": 9,
    "start_time": "2022-10-11T21:32:17.945Z"
   },
   {
    "duration": 332,
    "start_time": "2022-10-11T21:32:17.955Z"
   },
   {
    "duration": 334,
    "start_time": "2022-10-11T21:32:18.289Z"
   },
   {
    "duration": 11,
    "start_time": "2022-10-11T21:32:18.625Z"
   },
   {
    "duration": 692,
    "start_time": "2022-10-11T21:32:18.637Z"
   },
   {
    "duration": 379,
    "start_time": "2022-10-11T21:32:19.331Z"
   },
   {
    "duration": 350,
    "start_time": "2022-10-11T21:32:19.712Z"
   },
   {
    "duration": 501,
    "start_time": "2022-10-11T21:32:20.064Z"
   },
   {
    "duration": 13,
    "start_time": "2022-10-11T21:32:20.567Z"
   },
   {
    "duration": 24,
    "start_time": "2022-10-11T21:32:20.583Z"
   },
   {
    "duration": 138,
    "start_time": "2022-10-11T21:32:20.609Z"
   },
   {
    "duration": 2,
    "start_time": "2022-10-11T21:32:20.749Z"
   },
   {
    "duration": 39,
    "start_time": "2022-10-11T21:32:20.752Z"
   },
   {
    "duration": 17,
    "start_time": "2022-10-11T21:32:20.793Z"
   },
   {
    "duration": 62,
    "start_time": "2022-10-11T21:37:13.990Z"
   },
   {
    "duration": 117,
    "start_time": "2022-10-11T21:37:19.482Z"
   },
   {
    "duration": 499,
    "start_time": "2022-10-11T21:37:27.695Z"
   },
   {
    "duration": 214,
    "start_time": "2022-10-11T21:38:08.836Z"
   },
   {
    "duration": 412,
    "start_time": "2022-10-11T21:38:14.822Z"
   },
   {
    "duration": 370,
    "start_time": "2022-10-11T21:41:58.726Z"
   },
   {
    "duration": 117,
    "start_time": "2022-10-11T21:42:08.294Z"
   },
   {
    "duration": 302,
    "start_time": "2022-10-11T21:42:12.249Z"
   },
   {
    "duration": 1187,
    "start_time": "2022-10-11T21:43:04.613Z"
   },
   {
    "duration": 138,
    "start_time": "2022-10-11T21:43:05.802Z"
   },
   {
    "duration": 14,
    "start_time": "2022-10-11T21:43:05.941Z"
   },
   {
    "duration": 19,
    "start_time": "2022-10-11T21:43:05.957Z"
   },
   {
    "duration": 1117,
    "start_time": "2022-10-11T21:43:05.977Z"
   },
   {
    "duration": 6,
    "start_time": "2022-10-11T21:43:07.096Z"
   },
   {
    "duration": 20,
    "start_time": "2022-10-11T21:43:07.104Z"
   },
   {
    "duration": 22,
    "start_time": "2022-10-11T21:43:07.126Z"
   },
   {
    "duration": 23,
    "start_time": "2022-10-11T21:43:07.150Z"
   },
   {
    "duration": 9,
    "start_time": "2022-10-11T21:43:07.176Z"
   },
   {
    "duration": 11,
    "start_time": "2022-10-11T21:43:07.187Z"
   },
   {
    "duration": 26,
    "start_time": "2022-10-11T21:43:07.200Z"
   },
   {
    "duration": 20,
    "start_time": "2022-10-11T21:43:07.228Z"
   },
   {
    "duration": 20,
    "start_time": "2022-10-11T21:43:07.250Z"
   },
   {
    "duration": 57,
    "start_time": "2022-10-11T21:43:07.271Z"
   },
   {
    "duration": 13,
    "start_time": "2022-10-11T21:43:07.330Z"
   },
   {
    "duration": 8,
    "start_time": "2022-10-11T21:43:07.345Z"
   },
   {
    "duration": 4,
    "start_time": "2022-10-11T21:43:07.355Z"
   },
   {
    "duration": 3078,
    "start_time": "2022-10-11T21:43:07.361Z"
   },
   {
    "duration": 11,
    "start_time": "2022-10-11T21:43:10.441Z"
   },
   {
    "duration": 3,
    "start_time": "2022-10-11T21:43:10.454Z"
   },
   {
    "duration": 9,
    "start_time": "2022-10-11T21:43:10.459Z"
   },
   {
    "duration": 18,
    "start_time": "2022-10-11T21:43:10.469Z"
   },
   {
    "duration": 499,
    "start_time": "2022-10-11T21:43:10.489Z"
   },
   {
    "duration": 363,
    "start_time": "2022-10-11T21:43:10.989Z"
   },
   {
    "duration": 417,
    "start_time": "2022-10-11T21:43:11.353Z"
   },
   {
    "duration": 9,
    "start_time": "2022-10-11T21:43:11.772Z"
   },
   {
    "duration": 6,
    "start_time": "2022-10-11T21:43:11.785Z"
   },
   {
    "duration": 375,
    "start_time": "2022-10-11T21:43:11.792Z"
   },
   {
    "duration": 302,
    "start_time": "2022-10-11T21:43:12.169Z"
   },
   {
    "duration": 352,
    "start_time": "2022-10-11T21:43:12.473Z"
   },
   {
    "duration": 11,
    "start_time": "2022-10-11T21:43:12.827Z"
   },
   {
    "duration": 52,
    "start_time": "2022-10-11T21:43:12.840Z"
   },
   {
    "duration": 26,
    "start_time": "2022-10-11T21:43:12.894Z"
   },
   {
    "duration": 327,
    "start_time": "2022-10-11T21:43:12.922Z"
   },
   {
    "duration": 308,
    "start_time": "2022-10-11T21:43:13.251Z"
   },
   {
    "duration": 11,
    "start_time": "2022-10-11T21:43:13.561Z"
   },
   {
    "duration": 426,
    "start_time": "2022-10-11T21:43:13.574Z"
   },
   {
    "duration": 329,
    "start_time": "2022-10-11T21:43:14.002Z"
   },
   {
    "duration": 374,
    "start_time": "2022-10-11T21:43:14.332Z"
   },
   {
    "duration": 480,
    "start_time": "2022-10-11T21:43:14.708Z"
   },
   {
    "duration": 11,
    "start_time": "2022-10-11T21:43:15.190Z"
   },
   {
    "duration": 20,
    "start_time": "2022-10-11T21:43:15.202Z"
   },
   {
    "duration": 534,
    "start_time": "2022-10-11T21:43:15.224Z"
   },
   {
    "duration": 2,
    "start_time": "2022-10-11T21:43:15.760Z"
   },
   {
    "duration": 13,
    "start_time": "2022-10-11T21:43:15.764Z"
   },
   {
    "duration": 11,
    "start_time": "2022-10-11T21:43:15.778Z"
   },
   {
    "duration": 45,
    "start_time": "2022-10-11T21:47:06.354Z"
   },
   {
    "duration": 6,
    "start_time": "2022-10-11T21:47:09.902Z"
   },
   {
    "duration": 7,
    "start_time": "2022-10-11T22:01:49.291Z"
   },
   {
    "duration": 7,
    "start_time": "2022-10-11T22:02:54.046Z"
   },
   {
    "duration": 103,
    "start_time": "2022-10-11T22:03:24.888Z"
   },
   {
    "duration": 14,
    "start_time": "2022-10-11T22:03:33.914Z"
   },
   {
    "duration": 14,
    "start_time": "2022-10-11T22:04:27.583Z"
   },
   {
    "duration": 32,
    "start_time": "2022-10-11T22:05:01.871Z"
   },
   {
    "duration": 25,
    "start_time": "2022-10-11T22:05:21.136Z"
   },
   {
    "duration": 9,
    "start_time": "2022-10-11T22:06:19.772Z"
   },
   {
    "duration": 11,
    "start_time": "2022-10-11T22:06:49.768Z"
   },
   {
    "duration": 5,
    "start_time": "2022-10-11T22:06:56.403Z"
   },
   {
    "duration": 1142,
    "start_time": "2022-10-11T22:07:01.710Z"
   },
   {
    "duration": 90,
    "start_time": "2022-10-11T22:07:02.854Z"
   },
   {
    "duration": 13,
    "start_time": "2022-10-11T22:07:02.945Z"
   },
   {
    "duration": 8,
    "start_time": "2022-10-11T22:07:02.960Z"
   },
   {
    "duration": 1027,
    "start_time": "2022-10-11T22:07:02.970Z"
   },
   {
    "duration": 4,
    "start_time": "2022-10-11T22:07:03.999Z"
   },
   {
    "duration": 18,
    "start_time": "2022-10-11T22:07:04.005Z"
   },
   {
    "duration": 35,
    "start_time": "2022-10-11T22:07:04.024Z"
   },
   {
    "duration": 38,
    "start_time": "2022-10-11T22:07:04.061Z"
   },
   {
    "duration": 21,
    "start_time": "2022-10-11T22:07:04.100Z"
   },
   {
    "duration": 28,
    "start_time": "2022-10-11T22:07:04.123Z"
   },
   {
    "duration": 18,
    "start_time": "2022-10-11T22:07:04.153Z"
   },
   {
    "duration": 30,
    "start_time": "2022-10-11T22:07:04.173Z"
   },
   {
    "duration": 20,
    "start_time": "2022-10-11T22:07:04.206Z"
   },
   {
    "duration": 27,
    "start_time": "2022-10-11T22:07:04.227Z"
   },
   {
    "duration": 11,
    "start_time": "2022-10-11T22:07:04.256Z"
   },
   {
    "duration": 30,
    "start_time": "2022-10-11T22:07:04.269Z"
   },
   {
    "duration": 16,
    "start_time": "2022-10-11T22:07:04.301Z"
   },
   {
    "duration": 2880,
    "start_time": "2022-10-11T22:07:04.319Z"
   },
   {
    "duration": 5,
    "start_time": "2022-10-11T22:07:07.201Z"
   },
   {
    "duration": 114,
    "start_time": "2022-10-11T22:07:07.207Z"
   },
   {
    "duration": 9,
    "start_time": "2022-10-11T22:07:07.323Z"
   },
   {
    "duration": 35,
    "start_time": "2022-10-11T22:07:07.334Z"
   },
   {
    "duration": 37,
    "start_time": "2022-10-11T22:07:07.371Z"
   },
   {
    "duration": 412,
    "start_time": "2022-10-11T22:07:07.410Z"
   },
   {
    "duration": 344,
    "start_time": "2022-10-11T22:07:07.824Z"
   },
   {
    "duration": 399,
    "start_time": "2022-10-11T22:07:08.169Z"
   },
   {
    "duration": 9,
    "start_time": "2022-10-11T22:07:08.570Z"
   },
   {
    "duration": 19,
    "start_time": "2022-10-11T22:07:08.580Z"
   },
   {
    "duration": 375,
    "start_time": "2022-10-11T22:07:08.601Z"
   },
   {
    "duration": 284,
    "start_time": "2022-10-11T22:07:08.978Z"
   },
   {
    "duration": 304,
    "start_time": "2022-10-11T22:07:09.265Z"
   },
   {
    "duration": 11,
    "start_time": "2022-10-11T22:07:09.571Z"
   },
   {
    "duration": 65,
    "start_time": "2022-10-11T22:07:09.583Z"
   },
   {
    "duration": 9,
    "start_time": "2022-10-11T22:07:09.650Z"
   },
   {
    "duration": 316,
    "start_time": "2022-10-11T22:07:09.661Z"
   },
   {
    "duration": 316,
    "start_time": "2022-10-11T22:07:09.978Z"
   },
   {
    "duration": 11,
    "start_time": "2022-10-11T22:07:10.296Z"
   },
   {
    "duration": 445,
    "start_time": "2022-10-11T22:07:10.309Z"
   },
   {
    "duration": 319,
    "start_time": "2022-10-11T22:07:10.756Z"
   },
   {
    "duration": 366,
    "start_time": "2022-10-11T22:07:11.078Z"
   },
   {
    "duration": 485,
    "start_time": "2022-10-11T22:07:11.446Z"
   },
   {
    "duration": 11,
    "start_time": "2022-10-11T22:07:11.932Z"
   },
   {
    "duration": 10,
    "start_time": "2022-10-11T22:07:11.945Z"
   },
   {
    "duration": 509,
    "start_time": "2022-10-11T22:07:11.957Z"
   },
   {
    "duration": 3,
    "start_time": "2022-10-11T22:07:12.467Z"
   },
   {
    "duration": 15,
    "start_time": "2022-10-11T22:07:12.472Z"
   },
   {
    "duration": 10,
    "start_time": "2022-10-11T22:07:12.489Z"
   },
   {
    "duration": 6,
    "start_time": "2022-10-11T22:07:21.103Z"
   },
   {
    "duration": 1233,
    "start_time": "2022-10-11T22:07:35.318Z"
   },
   {
    "duration": 186,
    "start_time": "2022-10-11T22:07:36.553Z"
   },
   {
    "duration": 15,
    "start_time": "2022-10-11T22:07:36.741Z"
   },
   {
    "duration": 22,
    "start_time": "2022-10-11T22:07:36.759Z"
   },
   {
    "duration": 1127,
    "start_time": "2022-10-11T22:07:36.783Z"
   },
   {
    "duration": 10,
    "start_time": "2022-10-11T22:07:37.912Z"
   },
   {
    "duration": 30,
    "start_time": "2022-10-11T22:07:37.924Z"
   },
   {
    "duration": 17,
    "start_time": "2022-10-11T22:07:37.956Z"
   },
   {
    "duration": 36,
    "start_time": "2022-10-11T22:07:37.975Z"
   },
   {
    "duration": 14,
    "start_time": "2022-10-11T22:07:38.014Z"
   },
   {
    "duration": 35,
    "start_time": "2022-10-11T22:07:38.030Z"
   },
   {
    "duration": 31,
    "start_time": "2022-10-11T22:07:38.067Z"
   },
   {
    "duration": 31,
    "start_time": "2022-10-11T22:07:38.099Z"
   },
   {
    "duration": 33,
    "start_time": "2022-10-11T22:07:38.131Z"
   },
   {
    "duration": 40,
    "start_time": "2022-10-11T22:07:38.166Z"
   },
   {
    "duration": 13,
    "start_time": "2022-10-11T22:07:38.208Z"
   },
   {
    "duration": 28,
    "start_time": "2022-10-11T22:07:38.223Z"
   },
   {
    "duration": 24,
    "start_time": "2022-10-11T22:07:38.253Z"
   },
   {
    "duration": 3112,
    "start_time": "2022-10-11T22:07:38.279Z"
   },
   {
    "duration": 7,
    "start_time": "2022-10-11T22:07:41.393Z"
   },
   {
    "duration": 106,
    "start_time": "2022-10-11T22:07:41.401Z"
   },
   {
    "duration": 3,
    "start_time": "2022-10-11T22:07:41.508Z"
   },
   {
    "duration": 12,
    "start_time": "2022-10-11T22:07:41.513Z"
   },
   {
    "duration": 16,
    "start_time": "2022-10-11T22:07:41.527Z"
   },
   {
    "duration": 432,
    "start_time": "2022-10-11T22:07:41.545Z"
   },
   {
    "duration": 344,
    "start_time": "2022-10-11T22:07:41.979Z"
   },
   {
    "duration": 373,
    "start_time": "2022-10-11T22:07:42.325Z"
   },
   {
    "duration": 24,
    "start_time": "2022-10-11T22:07:42.702Z"
   },
   {
    "duration": 8,
    "start_time": "2022-10-11T22:07:42.728Z"
   },
   {
    "duration": 337,
    "start_time": "2022-10-11T22:07:42.738Z"
   },
   {
    "duration": 286,
    "start_time": "2022-10-11T22:07:43.078Z"
   },
   {
    "duration": 316,
    "start_time": "2022-10-11T22:07:43.367Z"
   },
   {
    "duration": 11,
    "start_time": "2022-10-11T22:07:43.685Z"
   },
   {
    "duration": 83,
    "start_time": "2022-10-11T22:07:43.697Z"
   },
   {
    "duration": 8,
    "start_time": "2022-10-11T22:07:43.781Z"
   },
   {
    "duration": 307,
    "start_time": "2022-10-11T22:07:43.790Z"
   },
   {
    "duration": 297,
    "start_time": "2022-10-11T22:07:44.098Z"
   },
   {
    "duration": 13,
    "start_time": "2022-10-11T22:07:44.397Z"
   },
   {
    "duration": 408,
    "start_time": "2022-10-11T22:07:44.421Z"
   },
   {
    "duration": 319,
    "start_time": "2022-10-11T22:07:44.831Z"
   },
   {
    "duration": 361,
    "start_time": "2022-10-11T22:07:45.152Z"
   },
   {
    "duration": 452,
    "start_time": "2022-10-11T22:07:45.515Z"
   },
   {
    "duration": 10,
    "start_time": "2022-10-11T22:07:45.969Z"
   },
   {
    "duration": 13,
    "start_time": "2022-10-11T22:07:45.980Z"
   },
   {
    "duration": 487,
    "start_time": "2022-10-11T22:07:45.995Z"
   },
   {
    "duration": 3,
    "start_time": "2022-10-11T22:07:46.483Z"
   },
   {
    "duration": 14,
    "start_time": "2022-10-11T22:07:46.487Z"
   },
   {
    "duration": 23,
    "start_time": "2022-10-11T22:07:46.503Z"
   },
   {
    "duration": 10,
    "start_time": "2022-10-11T22:19:41.200Z"
   },
   {
    "duration": 10,
    "start_time": "2022-10-11T22:30:21.064Z"
   },
   {
    "duration": 48,
    "start_time": "2022-10-12T05:15:40.776Z"
   },
   {
    "duration": 1300,
    "start_time": "2022-10-12T05:15:47.688Z"
   },
   {
    "duration": 246,
    "start_time": "2022-10-12T05:15:48.990Z"
   },
   {
    "duration": 13,
    "start_time": "2022-10-12T05:15:49.237Z"
   },
   {
    "duration": 9,
    "start_time": "2022-10-12T05:15:49.252Z"
   },
   {
    "duration": 925,
    "start_time": "2022-10-12T05:15:49.263Z"
   },
   {
    "duration": 7,
    "start_time": "2022-10-12T05:15:50.190Z"
   },
   {
    "duration": 9,
    "start_time": "2022-10-12T05:15:50.199Z"
   },
   {
    "duration": 11,
    "start_time": "2022-10-12T05:15:50.209Z"
   },
   {
    "duration": 18,
    "start_time": "2022-10-12T05:15:50.221Z"
   },
   {
    "duration": 7,
    "start_time": "2022-10-12T05:15:50.241Z"
   },
   {
    "duration": 8,
    "start_time": "2022-10-12T05:15:50.250Z"
   },
   {
    "duration": 37,
    "start_time": "2022-10-12T05:15:50.260Z"
   },
   {
    "duration": 18,
    "start_time": "2022-10-12T05:15:50.298Z"
   },
   {
    "duration": 17,
    "start_time": "2022-10-12T05:15:50.318Z"
   },
   {
    "duration": 23,
    "start_time": "2022-10-12T05:15:50.337Z"
   },
   {
    "duration": 34,
    "start_time": "2022-10-12T05:15:50.362Z"
   },
   {
    "duration": 8,
    "start_time": "2022-10-12T05:15:50.398Z"
   },
   {
    "duration": 6,
    "start_time": "2022-10-12T05:15:50.408Z"
   },
   {
    "duration": 2641,
    "start_time": "2022-10-12T05:15:50.415Z"
   },
   {
    "duration": 11,
    "start_time": "2022-10-12T05:15:53.058Z"
   },
   {
    "duration": 2,
    "start_time": "2022-10-12T05:15:53.071Z"
   },
   {
    "duration": 7,
    "start_time": "2022-10-12T05:15:53.075Z"
   },
   {
    "duration": 15,
    "start_time": "2022-10-12T05:15:53.083Z"
   },
   {
    "duration": 415,
    "start_time": "2022-10-12T05:15:53.100Z"
   },
   {
    "duration": 307,
    "start_time": "2022-10-12T05:15:53.517Z"
   },
   {
    "duration": 411,
    "start_time": "2022-10-12T05:15:53.826Z"
   },
   {
    "duration": 8,
    "start_time": "2022-10-12T05:15:54.238Z"
   },
   {
    "duration": 6,
    "start_time": "2022-10-12T05:15:54.249Z"
   },
   {
    "duration": 338,
    "start_time": "2022-10-12T05:15:54.257Z"
   },
   {
    "duration": 248,
    "start_time": "2022-10-12T05:15:54.597Z"
   },
   {
    "duration": 270,
    "start_time": "2022-10-12T05:15:54.847Z"
   },
   {
    "duration": 10,
    "start_time": "2022-10-12T05:15:55.118Z"
   },
   {
    "duration": 43,
    "start_time": "2022-10-12T05:15:55.130Z"
   },
   {
    "duration": 26,
    "start_time": "2022-10-12T05:15:55.175Z"
   },
   {
    "duration": 275,
    "start_time": "2022-10-12T05:15:55.202Z"
   },
   {
    "duration": 359,
    "start_time": "2022-10-12T05:15:55.479Z"
   },
   {
    "duration": 197,
    "start_time": "2022-10-12T05:15:55.840Z"
   },
   {
    "duration": 14,
    "start_time": "2022-10-12T05:15:56.039Z"
   },
   {
    "duration": 364,
    "start_time": "2022-10-12T05:15:56.054Z"
   },
   {
    "duration": 365,
    "start_time": "2022-10-12T05:15:56.420Z"
   },
   {
    "duration": 363,
    "start_time": "2022-10-12T05:15:56.787Z"
   },
   {
    "duration": 417,
    "start_time": "2022-10-12T05:15:57.152Z"
   },
   {
    "duration": 9,
    "start_time": "2022-10-12T05:15:57.571Z"
   },
   {
    "duration": 23,
    "start_time": "2022-10-12T05:15:57.582Z"
   },
   {
    "duration": 484,
    "start_time": "2022-10-12T05:15:57.607Z"
   },
   {
    "duration": 3,
    "start_time": "2022-10-12T05:15:58.095Z"
   },
   {
    "duration": 15,
    "start_time": "2022-10-12T05:15:58.100Z"
   },
   {
    "duration": 20,
    "start_time": "2022-10-12T05:15:58.116Z"
   },
   {
    "duration": 5,
    "start_time": "2022-10-12T05:30:08.030Z"
   },
   {
    "duration": 98,
    "start_time": "2022-10-12T05:30:08.087Z"
   },
   {
    "duration": 14,
    "start_time": "2022-10-12T05:30:08.186Z"
   },
   {
    "duration": 12,
    "start_time": "2022-10-12T05:30:08.201Z"
   },
   {
    "duration": 973,
    "start_time": "2022-10-12T05:30:08.215Z"
   },
   {
    "duration": 9,
    "start_time": "2022-10-12T05:30:09.189Z"
   },
   {
    "duration": 9,
    "start_time": "2022-10-12T05:30:09.199Z"
   },
   {
    "duration": 11,
    "start_time": "2022-10-12T05:30:09.209Z"
   },
   {
    "duration": 16,
    "start_time": "2022-10-12T05:30:09.221Z"
   },
   {
    "duration": 7,
    "start_time": "2022-10-12T05:30:09.238Z"
   },
   {
    "duration": 10,
    "start_time": "2022-10-12T05:30:09.248Z"
   },
   {
    "duration": 36,
    "start_time": "2022-10-12T05:30:09.260Z"
   },
   {
    "duration": 20,
    "start_time": "2022-10-12T05:30:09.298Z"
   },
   {
    "duration": 17,
    "start_time": "2022-10-12T05:30:09.320Z"
   },
   {
    "duration": 22,
    "start_time": "2022-10-12T05:30:09.339Z"
   },
   {
    "duration": 38,
    "start_time": "2022-10-12T05:30:09.363Z"
   },
   {
    "duration": 8,
    "start_time": "2022-10-12T05:30:09.403Z"
   },
   {
    "duration": 5,
    "start_time": "2022-10-12T05:30:09.412Z"
   },
   {
    "duration": 2670,
    "start_time": "2022-10-12T05:30:09.419Z"
   },
   {
    "duration": 14,
    "start_time": "2022-10-12T05:30:12.090Z"
   },
   {
    "duration": 11,
    "start_time": "2022-10-12T05:30:12.105Z"
   },
   {
    "duration": 7,
    "start_time": "2022-10-12T05:30:12.118Z"
   },
   {
    "duration": 16,
    "start_time": "2022-10-12T05:30:12.126Z"
   },
   {
    "duration": 503,
    "start_time": "2022-10-12T05:30:12.143Z"
   },
   {
    "duration": 379,
    "start_time": "2022-10-12T05:30:12.648Z"
   },
   {
    "duration": 331,
    "start_time": "2022-10-12T05:30:13.028Z"
   },
   {
    "duration": 10,
    "start_time": "2022-10-12T05:30:13.361Z"
   },
   {
    "duration": 5,
    "start_time": "2022-10-12T05:30:13.373Z"
   },
   {
    "duration": 318,
    "start_time": "2022-10-12T05:30:13.395Z"
   },
   {
    "duration": 257,
    "start_time": "2022-10-12T05:30:13.714Z"
   },
   {
    "duration": 268,
    "start_time": "2022-10-12T05:30:13.972Z"
   },
   {
    "duration": 9,
    "start_time": "2022-10-12T05:30:14.242Z"
   },
   {
    "duration": 57,
    "start_time": "2022-10-12T05:30:14.252Z"
   },
   {
    "duration": 9,
    "start_time": "2022-10-12T05:30:14.311Z"
   },
   {
    "duration": 294,
    "start_time": "2022-10-12T05:30:14.322Z"
   },
   {
    "duration": 311,
    "start_time": "2022-10-12T05:30:14.618Z"
   },
   {
    "duration": 10,
    "start_time": "2022-10-12T05:30:14.931Z"
   },
   {
    "duration": 382,
    "start_time": "2022-10-12T05:30:14.943Z"
   },
   {
    "duration": 287,
    "start_time": "2022-10-12T05:30:15.327Z"
   },
   {
    "duration": 317,
    "start_time": "2022-10-12T05:30:15.616Z"
   },
   {
    "duration": 412,
    "start_time": "2022-10-12T05:30:15.934Z"
   },
   {
    "duration": 10,
    "start_time": "2022-10-12T05:30:16.347Z"
   },
   {
    "duration": 8,
    "start_time": "2022-10-12T05:30:16.359Z"
   },
   {
    "duration": 429,
    "start_time": "2022-10-12T05:30:16.369Z"
   },
   {
    "duration": 2,
    "start_time": "2022-10-12T05:30:16.800Z"
   },
   {
    "duration": 21,
    "start_time": "2022-10-12T05:30:16.804Z"
   },
   {
    "duration": 28,
    "start_time": "2022-10-12T05:30:16.827Z"
   },
   {
    "duration": 55,
    "start_time": "2022-10-13T07:36:50.190Z"
   },
   {
    "duration": 1519,
    "start_time": "2022-10-13T07:36:58.274Z"
   },
   {
    "duration": 129,
    "start_time": "2022-10-13T07:36:59.795Z"
   },
   {
    "duration": 20,
    "start_time": "2022-10-13T07:36:59.926Z"
   },
   {
    "duration": 16,
    "start_time": "2022-10-13T07:36:59.949Z"
   },
   {
    "duration": 1220,
    "start_time": "2022-10-13T07:36:59.972Z"
   },
   {
    "duration": 8,
    "start_time": "2022-10-13T07:37:01.194Z"
   },
   {
    "duration": 21,
    "start_time": "2022-10-13T07:37:01.204Z"
   },
   {
    "duration": 16,
    "start_time": "2022-10-13T07:37:01.227Z"
   },
   {
    "duration": 37,
    "start_time": "2022-10-13T07:37:01.255Z"
   },
   {
    "duration": 10,
    "start_time": "2022-10-13T07:37:01.294Z"
   },
   {
    "duration": 18,
    "start_time": "2022-10-13T07:37:01.306Z"
   },
   {
    "duration": 11,
    "start_time": "2022-10-13T07:37:01.325Z"
   },
   {
    "duration": 38,
    "start_time": "2022-10-13T07:37:01.337Z"
   },
   {
    "duration": 40,
    "start_time": "2022-10-13T07:37:01.380Z"
   },
   {
    "duration": 38,
    "start_time": "2022-10-13T07:37:01.422Z"
   },
   {
    "duration": 54,
    "start_time": "2022-10-13T07:37:01.462Z"
   },
   {
    "duration": 29,
    "start_time": "2022-10-13T07:37:01.520Z"
   },
   {
    "duration": 28,
    "start_time": "2022-10-13T07:37:01.551Z"
   },
   {
    "duration": 3336,
    "start_time": "2022-10-13T07:37:01.581Z"
   },
   {
    "duration": 42,
    "start_time": "2022-10-13T07:37:04.919Z"
   },
   {
    "duration": 23,
    "start_time": "2022-10-13T07:37:04.963Z"
   },
   {
    "duration": 32,
    "start_time": "2022-10-13T07:37:04.989Z"
   },
   {
    "duration": 18,
    "start_time": "2022-10-13T07:37:05.023Z"
   },
   {
    "duration": 692,
    "start_time": "2022-10-13T07:37:05.043Z"
   },
   {
    "duration": 394,
    "start_time": "2022-10-13T07:37:05.737Z"
   },
   {
    "duration": 449,
    "start_time": "2022-10-13T07:37:06.133Z"
   },
   {
    "duration": 10,
    "start_time": "2022-10-13T07:37:06.584Z"
   },
   {
    "duration": 14,
    "start_time": "2022-10-13T07:37:06.596Z"
   },
   {
    "duration": 394,
    "start_time": "2022-10-13T07:37:06.611Z"
   },
   {
    "duration": 307,
    "start_time": "2022-10-13T07:37:07.007Z"
   },
   {
    "duration": 357,
    "start_time": "2022-10-13T07:37:07.316Z"
   },
   {
    "duration": 10,
    "start_time": "2022-10-13T07:37:07.675Z"
   },
   {
    "duration": 55,
    "start_time": "2022-10-13T07:37:07.687Z"
   },
   {
    "duration": 28,
    "start_time": "2022-10-13T07:37:07.744Z"
   },
   {
    "duration": 318,
    "start_time": "2022-10-13T07:37:07.774Z"
   },
   {
    "duration": 489,
    "start_time": "2022-10-13T07:37:08.094Z"
   },
   {
    "duration": 261,
    "start_time": "2022-10-13T07:37:08.586Z"
   },
   {
    "duration": 33,
    "start_time": "2022-10-13T07:37:08.850Z"
   },
   {
    "duration": 554,
    "start_time": "2022-10-13T07:37:08.886Z"
   },
   {
    "duration": 359,
    "start_time": "2022-10-13T07:37:09.441Z"
   },
   {
    "duration": 412,
    "start_time": "2022-10-13T07:37:09.804Z"
   },
   {
    "duration": 509,
    "start_time": "2022-10-13T07:37:10.219Z"
   },
   {
    "duration": 25,
    "start_time": "2022-10-13T07:37:10.730Z"
   },
   {
    "duration": 19,
    "start_time": "2022-10-13T07:37:10.757Z"
   },
   {
    "duration": 556,
    "start_time": "2022-10-13T07:37:10.778Z"
   },
   {
    "duration": 2,
    "start_time": "2022-10-13T07:37:11.337Z"
   },
   {
    "duration": 27,
    "start_time": "2022-10-13T07:37:11.355Z"
   },
   {
    "duration": 22,
    "start_time": "2022-10-13T07:37:11.385Z"
   },
   {
    "duration": 1254,
    "start_time": "2022-10-13T07:39:12.911Z"
   },
   {
    "duration": 103,
    "start_time": "2022-10-13T07:39:14.168Z"
   },
   {
    "duration": 15,
    "start_time": "2022-10-13T07:39:14.272Z"
   },
   {
    "duration": 9,
    "start_time": "2022-10-13T07:39:14.289Z"
   },
   {
    "duration": 1213,
    "start_time": "2022-10-13T07:39:14.300Z"
   },
   {
    "duration": 7,
    "start_time": "2022-10-13T07:39:15.515Z"
   },
   {
    "duration": 58,
    "start_time": "2022-10-13T07:39:15.524Z"
   },
   {
    "duration": 26,
    "start_time": "2022-10-13T07:39:15.586Z"
   },
   {
    "duration": 34,
    "start_time": "2022-10-13T07:39:15.615Z"
   },
   {
    "duration": 14,
    "start_time": "2022-10-13T07:39:15.653Z"
   },
   {
    "duration": 20,
    "start_time": "2022-10-13T07:39:15.673Z"
   },
   {
    "duration": 37,
    "start_time": "2022-10-13T07:39:15.695Z"
   },
   {
    "duration": 38,
    "start_time": "2022-10-13T07:39:15.734Z"
   },
   {
    "duration": 39,
    "start_time": "2022-10-13T07:39:15.775Z"
   },
   {
    "duration": 31,
    "start_time": "2022-10-13T07:39:15.816Z"
   },
   {
    "duration": 28,
    "start_time": "2022-10-13T07:39:15.850Z"
   },
   {
    "duration": 27,
    "start_time": "2022-10-13T07:39:15.880Z"
   },
   {
    "duration": 12,
    "start_time": "2022-10-13T07:39:15.909Z"
   },
   {
    "duration": 3214,
    "start_time": "2022-10-13T07:39:15.923Z"
   },
   {
    "duration": 141,
    "start_time": "2022-10-13T07:39:19.139Z"
   },
   {
    "duration": 9,
    "start_time": "2022-10-13T07:39:19.281Z"
   },
   {
    "duration": 11,
    "start_time": "2022-10-13T07:39:19.292Z"
   },
   {
    "duration": 22,
    "start_time": "2022-10-13T07:39:19.305Z"
   },
   {
    "duration": 474,
    "start_time": "2022-10-13T07:39:19.329Z"
   },
   {
    "duration": 407,
    "start_time": "2022-10-13T07:39:19.805Z"
   },
   {
    "duration": 419,
    "start_time": "2022-10-13T07:39:20.214Z"
   },
   {
    "duration": 23,
    "start_time": "2022-10-13T07:39:20.636Z"
   },
   {
    "duration": 36,
    "start_time": "2022-10-13T07:39:20.670Z"
   },
   {
    "duration": 463,
    "start_time": "2022-10-13T07:39:20.710Z"
   },
   {
    "duration": 345,
    "start_time": "2022-10-13T07:39:21.176Z"
   },
   {
    "duration": 435,
    "start_time": "2022-10-13T07:39:21.524Z"
   },
   {
    "duration": 21,
    "start_time": "2022-10-13T07:39:21.961Z"
   },
   {
    "duration": 94,
    "start_time": "2022-10-13T07:39:21.985Z"
   },
   {
    "duration": 14,
    "start_time": "2022-10-13T07:39:22.081Z"
   },
   {
    "duration": 392,
    "start_time": "2022-10-13T07:39:22.099Z"
   },
   {
    "duration": 470,
    "start_time": "2022-10-13T07:39:22.493Z"
   },
   {
    "duration": 258,
    "start_time": "2022-10-13T07:39:22.965Z"
   },
   {
    "duration": 15,
    "start_time": "2022-10-13T07:39:23.224Z"
   },
   {
    "duration": 485,
    "start_time": "2022-10-13T07:39:23.254Z"
   },
   {
    "duration": 361,
    "start_time": "2022-10-13T07:39:23.741Z"
   },
   {
    "duration": 416,
    "start_time": "2022-10-13T07:39:24.104Z"
   },
   {
    "duration": 508,
    "start_time": "2022-10-13T07:39:24.523Z"
   },
   {
    "duration": 24,
    "start_time": "2022-10-13T07:39:25.034Z"
   },
   {
    "duration": 25,
    "start_time": "2022-10-13T07:39:25.061Z"
   },
   {
    "duration": 611,
    "start_time": "2022-10-13T07:39:25.089Z"
   },
   {
    "duration": 3,
    "start_time": "2022-10-13T07:39:25.702Z"
   },
   {
    "duration": 16,
    "start_time": "2022-10-13T07:39:25.707Z"
   },
   {
    "duration": 36,
    "start_time": "2022-10-13T07:39:25.726Z"
   },
   {
    "duration": 346,
    "start_time": "2022-10-13T07:41:14.331Z"
   },
   {
    "duration": 337,
    "start_time": "2022-10-13T07:41:20.179Z"
   },
   {
    "duration": 407,
    "start_time": "2022-10-13T07:42:22.547Z"
   },
   {
    "duration": 143,
    "start_time": "2022-10-13T08:24:27.308Z"
   },
   {
    "duration": 14,
    "start_time": "2022-10-13T08:25:05.962Z"
   },
   {
    "duration": 4,
    "start_time": "2022-10-13T08:25:12.706Z"
   },
   {
    "duration": 12,
    "start_time": "2022-10-13T08:28:29.065Z"
   },
   {
    "duration": 5033,
    "start_time": "2022-10-13T08:31:28.112Z"
   },
   {
    "duration": 160,
    "start_time": "2022-10-13T08:31:48.962Z"
   },
   {
    "duration": 2513,
    "start_time": "2022-10-13T08:31:55.338Z"
   },
   {
    "duration": 1365,
    "start_time": "2022-10-13T08:31:57.854Z"
   },
   {
    "duration": 95,
    "start_time": "2022-10-13T08:31:59.221Z"
   },
   {
    "duration": 16,
    "start_time": "2022-10-13T08:31:59.317Z"
   },
   {
    "duration": 9,
    "start_time": "2022-10-13T08:31:59.335Z"
   },
   {
    "duration": 1075,
    "start_time": "2022-10-13T08:31:59.346Z"
   },
   {
    "duration": 5,
    "start_time": "2022-10-13T08:32:00.423Z"
   },
   {
    "duration": 37,
    "start_time": "2022-10-13T08:32:00.430Z"
   },
   {
    "duration": 42,
    "start_time": "2022-10-13T08:32:00.469Z"
   },
   {
    "duration": 158,
    "start_time": "2022-10-13T08:32:00.513Z"
   },
   {
    "duration": 9,
    "start_time": "2022-10-13T08:32:00.673Z"
   },
   {
    "duration": 42,
    "start_time": "2022-10-13T08:32:00.684Z"
   },
   {
    "duration": 56,
    "start_time": "2022-10-13T08:32:00.728Z"
   },
   {
    "duration": 51,
    "start_time": "2022-10-13T08:32:00.789Z"
   },
   {
    "duration": 31,
    "start_time": "2022-10-13T08:32:00.842Z"
   },
   {
    "duration": 36,
    "start_time": "2022-10-13T08:32:00.875Z"
   },
   {
    "duration": 14,
    "start_time": "2022-10-13T08:32:00.913Z"
   },
   {
    "duration": 21,
    "start_time": "2022-10-13T08:32:00.929Z"
   },
   {
    "duration": 59,
    "start_time": "2022-10-13T08:32:00.955Z"
   },
   {
    "duration": 3077,
    "start_time": "2022-10-13T08:32:01.016Z"
   },
   {
    "duration": 15,
    "start_time": "2022-10-13T08:32:04.095Z"
   },
   {
    "duration": 4,
    "start_time": "2022-10-13T08:32:04.112Z"
   },
   {
    "duration": 13,
    "start_time": "2022-10-13T08:32:04.118Z"
   },
   {
    "duration": 23,
    "start_time": "2022-10-13T08:32:04.133Z"
   },
   {
    "duration": 542,
    "start_time": "2022-10-13T08:32:04.159Z"
   },
   {
    "duration": 372,
    "start_time": "2022-10-13T08:32:04.704Z"
   },
   {
    "duration": 394,
    "start_time": "2022-10-13T08:32:05.078Z"
   },
   {
    "duration": 10,
    "start_time": "2022-10-13T08:32:05.474Z"
   },
   {
    "duration": 23,
    "start_time": "2022-10-13T08:32:05.486Z"
   },
   {
    "duration": 372,
    "start_time": "2022-10-13T08:32:05.511Z"
   },
   {
    "duration": 328,
    "start_time": "2022-10-13T08:32:05.885Z"
   },
   {
    "duration": 466,
    "start_time": "2022-10-13T08:32:06.214Z"
   },
   {
    "duration": 11,
    "start_time": "2022-10-13T08:32:06.682Z"
   },
   {
    "duration": 67,
    "start_time": "2022-10-13T08:32:06.695Z"
   },
   {
    "duration": 9,
    "start_time": "2022-10-13T08:32:06.764Z"
   },
   {
    "duration": 332,
    "start_time": "2022-10-13T08:32:06.775Z"
   },
   {
    "duration": 333,
    "start_time": "2022-10-13T08:32:07.110Z"
   },
   {
    "duration": 233,
    "start_time": "2022-10-13T08:32:07.445Z"
   },
   {
    "duration": 12,
    "start_time": "2022-10-13T08:32:07.680Z"
   },
   {
    "duration": 429,
    "start_time": "2022-10-13T08:32:07.693Z"
   },
   {
    "duration": 331,
    "start_time": "2022-10-13T08:32:08.126Z"
   },
   {
    "duration": 384,
    "start_time": "2022-10-13T08:32:08.459Z"
   },
   {
    "duration": 582,
    "start_time": "2022-10-13T08:32:08.845Z"
   },
   {
    "duration": 11,
    "start_time": "2022-10-13T08:32:09.429Z"
   },
   {
    "duration": 7,
    "start_time": "2022-10-13T08:32:09.454Z"
   },
   {
    "duration": 444,
    "start_time": "2022-10-13T08:32:09.463Z"
   },
   {
    "duration": 2,
    "start_time": "2022-10-13T08:32:09.909Z"
   },
   {
    "duration": 35,
    "start_time": "2022-10-13T08:32:09.913Z"
   },
   {
    "duration": 12,
    "start_time": "2022-10-13T08:32:09.950Z"
   },
   {
    "duration": 354,
    "start_time": "2022-10-13T08:49:27.315Z"
   },
   {
    "duration": 303,
    "start_time": "2022-10-13T08:49:43.102Z"
   },
   {
    "duration": 48,
    "start_time": "2022-10-13T08:50:19.620Z"
   },
   {
    "duration": 56,
    "start_time": "2022-10-13T08:50:31.374Z"
   },
   {
    "duration": 0,
    "start_time": "2022-10-13T08:50:31.433Z"
   },
   {
    "duration": 0,
    "start_time": "2022-10-13T08:50:31.434Z"
   },
   {
    "duration": 0,
    "start_time": "2022-10-13T08:50:31.436Z"
   },
   {
    "duration": 0,
    "start_time": "2022-10-13T08:50:31.437Z"
   },
   {
    "duration": 0,
    "start_time": "2022-10-13T08:50:31.439Z"
   },
   {
    "duration": 0,
    "start_time": "2022-10-13T08:50:31.440Z"
   },
   {
    "duration": 0,
    "start_time": "2022-10-13T08:50:31.442Z"
   },
   {
    "duration": 0,
    "start_time": "2022-10-13T08:50:31.443Z"
   },
   {
    "duration": 0,
    "start_time": "2022-10-13T08:50:31.445Z"
   },
   {
    "duration": 0,
    "start_time": "2022-10-13T08:50:31.447Z"
   },
   {
    "duration": 64,
    "start_time": "2022-10-13T08:50:31.449Z"
   },
   {
    "duration": 0,
    "start_time": "2022-10-13T08:50:31.516Z"
   },
   {
    "duration": 0,
    "start_time": "2022-10-13T08:50:31.518Z"
   },
   {
    "duration": 0,
    "start_time": "2022-10-13T08:50:31.520Z"
   },
   {
    "duration": 0,
    "start_time": "2022-10-13T08:50:31.521Z"
   },
   {
    "duration": 0,
    "start_time": "2022-10-13T08:50:31.553Z"
   },
   {
    "duration": 0,
    "start_time": "2022-10-13T08:50:31.556Z"
   },
   {
    "duration": 0,
    "start_time": "2022-10-13T08:50:31.557Z"
   },
   {
    "duration": 0,
    "start_time": "2022-10-13T08:50:31.559Z"
   },
   {
    "duration": 0,
    "start_time": "2022-10-13T08:50:31.561Z"
   },
   {
    "duration": 0,
    "start_time": "2022-10-13T08:50:31.563Z"
   },
   {
    "duration": 0,
    "start_time": "2022-10-13T08:50:31.565Z"
   },
   {
    "duration": 0,
    "start_time": "2022-10-13T08:50:31.566Z"
   },
   {
    "duration": 0,
    "start_time": "2022-10-13T08:50:31.568Z"
   },
   {
    "duration": 0,
    "start_time": "2022-10-13T08:50:31.570Z"
   },
   {
    "duration": 0,
    "start_time": "2022-10-13T08:50:31.571Z"
   },
   {
    "duration": 0,
    "start_time": "2022-10-13T08:50:31.573Z"
   },
   {
    "duration": 0,
    "start_time": "2022-10-13T08:50:31.574Z"
   },
   {
    "duration": 0,
    "start_time": "2022-10-13T08:50:31.577Z"
   },
   {
    "duration": 0,
    "start_time": "2022-10-13T08:50:31.578Z"
   },
   {
    "duration": 0,
    "start_time": "2022-10-13T08:50:31.580Z"
   },
   {
    "duration": 0,
    "start_time": "2022-10-13T08:50:31.581Z"
   },
   {
    "duration": 0,
    "start_time": "2022-10-13T08:50:31.583Z"
   },
   {
    "duration": 0,
    "start_time": "2022-10-13T08:50:31.585Z"
   },
   {
    "duration": 0,
    "start_time": "2022-10-13T08:50:31.586Z"
   },
   {
    "duration": 0,
    "start_time": "2022-10-13T08:50:31.588Z"
   },
   {
    "duration": 0,
    "start_time": "2022-10-13T08:50:31.590Z"
   },
   {
    "duration": 0,
    "start_time": "2022-10-13T08:50:31.591Z"
   },
   {
    "duration": 0,
    "start_time": "2022-10-13T08:50:31.593Z"
   },
   {
    "duration": 0,
    "start_time": "2022-10-13T08:50:31.655Z"
   },
   {
    "duration": 14,
    "start_time": "2022-10-13T08:50:31.659Z"
   },
   {
    "duration": 0,
    "start_time": "2022-10-13T08:50:31.675Z"
   },
   {
    "duration": 0,
    "start_time": "2022-10-13T08:50:31.677Z"
   },
   {
    "duration": 0,
    "start_time": "2022-10-13T08:50:31.678Z"
   },
   {
    "duration": 0,
    "start_time": "2022-10-13T08:50:31.680Z"
   },
   {
    "duration": 0,
    "start_time": "2022-10-13T08:50:31.682Z"
   },
   {
    "duration": 0,
    "start_time": "2022-10-13T08:50:31.683Z"
   },
   {
    "duration": 0,
    "start_time": "2022-10-13T08:50:31.684Z"
   },
   {
    "duration": 2449,
    "start_time": "2022-10-13T08:51:00.670Z"
   },
   {
    "duration": 3819,
    "start_time": "2022-10-13T08:51:03.122Z"
   },
   {
    "duration": 1381,
    "start_time": "2022-10-13T08:51:06.943Z"
   },
   {
    "duration": 80,
    "start_time": "2022-10-13T08:51:08.326Z"
   },
   {
    "duration": 15,
    "start_time": "2022-10-13T08:51:08.408Z"
   },
   {
    "duration": 8,
    "start_time": "2022-10-13T08:51:08.425Z"
   },
   {
    "duration": 1164,
    "start_time": "2022-10-13T08:51:08.435Z"
   },
   {
    "duration": 5,
    "start_time": "2022-10-13T08:51:09.601Z"
   },
   {
    "duration": 16,
    "start_time": "2022-10-13T08:51:09.608Z"
   },
   {
    "duration": 131,
    "start_time": "2022-10-13T08:51:09.627Z"
   },
   {
    "duration": 28,
    "start_time": "2022-10-13T08:51:09.761Z"
   },
   {
    "duration": 8,
    "start_time": "2022-10-13T08:51:09.790Z"
   },
   {
    "duration": 15,
    "start_time": "2022-10-13T08:51:09.800Z"
   },
   {
    "duration": 7,
    "start_time": "2022-10-13T08:51:09.817Z"
   },
   {
    "duration": 48,
    "start_time": "2022-10-13T08:51:09.826Z"
   },
   {
    "duration": 22,
    "start_time": "2022-10-13T08:51:09.877Z"
   },
   {
    "duration": 67,
    "start_time": "2022-10-13T08:51:09.901Z"
   },
   {
    "duration": 19,
    "start_time": "2022-10-13T08:51:09.973Z"
   },
   {
    "duration": 14,
    "start_time": "2022-10-13T08:51:09.994Z"
   },
   {
    "duration": 9,
    "start_time": "2022-10-13T08:51:10.010Z"
   },
   {
    "duration": 3211,
    "start_time": "2022-10-13T08:51:10.022Z"
   },
   {
    "duration": 19,
    "start_time": "2022-10-13T08:51:13.236Z"
   },
   {
    "duration": 4,
    "start_time": "2022-10-13T08:51:13.258Z"
   },
   {
    "duration": 12,
    "start_time": "2022-10-13T08:51:13.264Z"
   },
   {
    "duration": 28,
    "start_time": "2022-10-13T08:51:13.279Z"
   },
   {
    "duration": 513,
    "start_time": "2022-10-13T08:51:13.309Z"
   },
   {
    "duration": 394,
    "start_time": "2022-10-13T08:51:13.824Z"
   },
   {
    "duration": 407,
    "start_time": "2022-10-13T08:51:14.224Z"
   },
   {
    "duration": 12,
    "start_time": "2022-10-13T08:51:14.633Z"
   },
   {
    "duration": 8,
    "start_time": "2022-10-13T08:51:14.654Z"
   },
   {
    "duration": 343,
    "start_time": "2022-10-13T08:51:14.664Z"
   },
   {
    "duration": 297,
    "start_time": "2022-10-13T08:51:15.009Z"
   },
   {
    "duration": 441,
    "start_time": "2022-10-13T08:51:15.308Z"
   },
   {
    "duration": 12,
    "start_time": "2022-10-13T08:51:15.751Z"
   },
   {
    "duration": 58,
    "start_time": "2022-10-13T08:51:15.766Z"
   },
   {
    "duration": 8,
    "start_time": "2022-10-13T08:51:15.826Z"
   },
   {
    "duration": 327,
    "start_time": "2022-10-13T08:51:15.853Z"
   },
   {
    "duration": 1196,
    "start_time": "2022-10-13T08:52:15.673Z"
   },
   {
    "duration": 78,
    "start_time": "2022-10-13T08:52:16.871Z"
   },
   {
    "duration": 15,
    "start_time": "2022-10-13T08:52:16.951Z"
   },
   {
    "duration": 11,
    "start_time": "2022-10-13T08:52:16.968Z"
   },
   {
    "duration": 1135,
    "start_time": "2022-10-13T08:52:16.981Z"
   },
   {
    "duration": 6,
    "start_time": "2022-10-13T08:52:18.118Z"
   },
   {
    "duration": 14,
    "start_time": "2022-10-13T08:52:18.125Z"
   },
   {
    "duration": 22,
    "start_time": "2022-10-13T08:52:18.141Z"
   },
   {
    "duration": 32,
    "start_time": "2022-10-13T08:52:18.165Z"
   },
   {
    "duration": 8,
    "start_time": "2022-10-13T08:52:18.199Z"
   },
   {
    "duration": 14,
    "start_time": "2022-10-13T08:52:18.209Z"
   },
   {
    "duration": 10,
    "start_time": "2022-10-13T08:52:18.225Z"
   },
   {
    "duration": 35,
    "start_time": "2022-10-13T08:52:18.237Z"
   },
   {
    "duration": 34,
    "start_time": "2022-10-13T08:52:18.274Z"
   },
   {
    "duration": 28,
    "start_time": "2022-10-13T08:52:18.310Z"
   },
   {
    "duration": 25,
    "start_time": "2022-10-13T08:52:18.339Z"
   },
   {
    "duration": 9,
    "start_time": "2022-10-13T08:52:18.366Z"
   },
   {
    "duration": 9,
    "start_time": "2022-10-13T08:52:18.377Z"
   },
   {
    "duration": 3081,
    "start_time": "2022-10-13T08:52:18.388Z"
   },
   {
    "duration": 23,
    "start_time": "2022-10-13T08:52:21.472Z"
   },
   {
    "duration": 21,
    "start_time": "2022-10-13T08:52:21.499Z"
   },
   {
    "duration": 17,
    "start_time": "2022-10-13T08:52:21.523Z"
   },
   {
    "duration": 33,
    "start_time": "2022-10-13T08:52:21.543Z"
   },
   {
    "duration": 593,
    "start_time": "2022-10-13T08:52:21.578Z"
   },
   {
    "duration": 403,
    "start_time": "2022-10-13T08:52:22.173Z"
   },
   {
    "duration": 426,
    "start_time": "2022-10-13T08:52:22.578Z"
   },
   {
    "duration": 8,
    "start_time": "2022-10-13T08:52:23.006Z"
   },
   {
    "duration": 23,
    "start_time": "2022-10-13T08:52:23.017Z"
   },
   {
    "duration": 409,
    "start_time": "2022-10-13T08:52:23.041Z"
   },
   {
    "duration": 314,
    "start_time": "2022-10-13T08:52:23.454Z"
   },
   {
    "duration": 322,
    "start_time": "2022-10-13T08:52:23.770Z"
   },
   {
    "duration": 14,
    "start_time": "2022-10-13T08:52:24.094Z"
   },
   {
    "duration": 85,
    "start_time": "2022-10-13T08:52:24.111Z"
   },
   {
    "duration": 9,
    "start_time": "2022-10-13T08:52:24.198Z"
   },
   {
    "duration": 340,
    "start_time": "2022-10-13T08:52:24.209Z"
   },
   {
    "duration": 483,
    "start_time": "2022-10-13T08:52:24.552Z"
   },
   {
    "duration": 0,
    "start_time": "2022-10-13T08:52:25.037Z"
   },
   {
    "duration": 0,
    "start_time": "2022-10-13T08:52:25.039Z"
   },
   {
    "duration": 0,
    "start_time": "2022-10-13T08:52:25.040Z"
   },
   {
    "duration": 0,
    "start_time": "2022-10-13T08:52:25.041Z"
   },
   {
    "duration": 0,
    "start_time": "2022-10-13T08:52:25.042Z"
   },
   {
    "duration": 0,
    "start_time": "2022-10-13T08:52:25.054Z"
   },
   {
    "duration": 0,
    "start_time": "2022-10-13T08:52:25.055Z"
   },
   {
    "duration": 0,
    "start_time": "2022-10-13T08:52:25.057Z"
   },
   {
    "duration": 0,
    "start_time": "2022-10-13T08:52:25.058Z"
   },
   {
    "duration": 0,
    "start_time": "2022-10-13T08:52:25.060Z"
   },
   {
    "duration": 0,
    "start_time": "2022-10-13T08:52:25.061Z"
   },
   {
    "duration": 0,
    "start_time": "2022-10-13T08:52:25.062Z"
   },
   {
    "duration": 327,
    "start_time": "2022-10-13T08:52:55.373Z"
   },
   {
    "duration": 1184,
    "start_time": "2022-10-13T08:53:08.213Z"
   },
   {
    "duration": 91,
    "start_time": "2022-10-13T08:53:09.399Z"
   },
   {
    "duration": 16,
    "start_time": "2022-10-13T08:53:09.492Z"
   },
   {
    "duration": 21,
    "start_time": "2022-10-13T08:53:09.510Z"
   },
   {
    "duration": 1123,
    "start_time": "2022-10-13T08:53:09.532Z"
   },
   {
    "duration": 6,
    "start_time": "2022-10-13T08:53:10.657Z"
   },
   {
    "duration": 15,
    "start_time": "2022-10-13T08:53:10.665Z"
   },
   {
    "duration": 12,
    "start_time": "2022-10-13T08:53:10.682Z"
   },
   {
    "duration": 20,
    "start_time": "2022-10-13T08:53:10.696Z"
   },
   {
    "duration": 37,
    "start_time": "2022-10-13T08:53:10.718Z"
   },
   {
    "duration": 9,
    "start_time": "2022-10-13T08:53:10.756Z"
   },
   {
    "duration": 18,
    "start_time": "2022-10-13T08:53:10.767Z"
   },
   {
    "duration": 44,
    "start_time": "2022-10-13T08:53:10.786Z"
   },
   {
    "duration": 26,
    "start_time": "2022-10-13T08:53:10.832Z"
   },
   {
    "duration": 28,
    "start_time": "2022-10-13T08:53:10.860Z"
   },
   {
    "duration": 13,
    "start_time": "2022-10-13T08:53:10.889Z"
   },
   {
    "duration": 10,
    "start_time": "2022-10-13T08:53:10.904Z"
   },
   {
    "duration": 5,
    "start_time": "2022-10-13T08:53:10.915Z"
   },
   {
    "duration": 3098,
    "start_time": "2022-10-13T08:53:10.922Z"
   },
   {
    "duration": 118,
    "start_time": "2022-10-13T08:53:14.022Z"
   },
   {
    "duration": 14,
    "start_time": "2022-10-13T08:53:14.142Z"
   },
   {
    "duration": 11,
    "start_time": "2022-10-13T08:53:14.157Z"
   },
   {
    "duration": 17,
    "start_time": "2022-10-13T08:53:14.170Z"
   },
   {
    "duration": 426,
    "start_time": "2022-10-13T08:53:14.188Z"
   },
   {
    "duration": 367,
    "start_time": "2022-10-13T08:53:14.616Z"
   },
   {
    "duration": 422,
    "start_time": "2022-10-13T08:53:14.984Z"
   },
   {
    "duration": 9,
    "start_time": "2022-10-13T08:53:15.409Z"
   },
   {
    "duration": 6,
    "start_time": "2022-10-13T08:53:15.422Z"
   },
   {
    "duration": 371,
    "start_time": "2022-10-13T08:53:15.430Z"
   },
   {
    "duration": 301,
    "start_time": "2022-10-13T08:53:15.803Z"
   },
   {
    "duration": 329,
    "start_time": "2022-10-13T08:53:16.106Z"
   },
   {
    "duration": 18,
    "start_time": "2022-10-13T08:53:16.437Z"
   },
   {
    "duration": 51,
    "start_time": "2022-10-13T08:53:16.457Z"
   },
   {
    "duration": 8,
    "start_time": "2022-10-13T08:53:16.510Z"
   },
   {
    "duration": 340,
    "start_time": "2022-10-13T08:53:16.520Z"
   },
   {
    "duration": 432,
    "start_time": "2022-10-13T08:53:16.862Z"
   },
   {
    "duration": 273,
    "start_time": "2022-10-13T08:53:17.296Z"
   },
   {
    "duration": 15,
    "start_time": "2022-10-13T08:53:17.572Z"
   },
   {
    "duration": 483,
    "start_time": "2022-10-13T08:53:17.588Z"
   },
   {
    "duration": 358,
    "start_time": "2022-10-13T08:53:18.074Z"
   },
   {
    "duration": 394,
    "start_time": "2022-10-13T08:53:18.434Z"
   },
   {
    "duration": 498,
    "start_time": "2022-10-13T08:53:18.830Z"
   },
   {
    "duration": 10,
    "start_time": "2022-10-13T08:53:19.330Z"
   },
   {
    "duration": 22,
    "start_time": "2022-10-13T08:53:19.342Z"
   },
   {
    "duration": 554,
    "start_time": "2022-10-13T08:53:19.366Z"
   },
   {
    "duration": 3,
    "start_time": "2022-10-13T08:53:19.922Z"
   },
   {
    "duration": 16,
    "start_time": "2022-10-13T08:53:19.927Z"
   },
   {
    "duration": 11,
    "start_time": "2022-10-13T08:53:19.954Z"
   },
   {
    "duration": 13,
    "start_time": "2022-10-13T09:05:05.029Z"
   },
   {
    "duration": 13,
    "start_time": "2022-10-13T09:05:13.840Z"
   },
   {
    "duration": 13,
    "start_time": "2022-10-13T09:05:28.918Z"
   },
   {
    "duration": 5,
    "start_time": "2022-10-13T09:06:10.329Z"
   }
  ],
  "kernelspec": {
   "display_name": "Python 3 (ipykernel)",
   "language": "python",
   "name": "python3"
  },
  "language_info": {
   "codemirror_mode": {
    "name": "ipython",
    "version": 3
   },
   "file_extension": ".py",
   "mimetype": "text/x-python",
   "name": "python",
   "nbconvert_exporter": "python",
   "pygments_lexer": "ipython3",
   "version": "3.9.13"
  },
  "toc": {
   "base_numbering": 1,
   "nav_menu": {
    "height": "420px",
    "width": "422px"
   },
   "number_sections": true,
   "sideBar": true,
   "skip_h1_title": true,
   "title_cell": "Table of Contents",
   "title_sidebar": "Contents",
   "toc_cell": false,
   "toc_position": {},
   "toc_section_display": true,
   "toc_window_display": false
  }
 },
 "nbformat": 4,
 "nbformat_minor": 2
}
