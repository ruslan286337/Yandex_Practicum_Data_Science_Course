{
 "cells": [
  {
   "cell_type": "markdown",
   "metadata": {
    "toc": true
   },
   "source": [
    "<h1>Содержание<span class=\"tocSkip\"></span></h1>\n",
    "<div class=\"toc\"><ul class=\"toc-item\"><li><span><a href=\"#Подготовка\" data-toc-modified-id=\"Подготовка-1\"><span class=\"toc-item-num\">1&nbsp;&nbsp;</span>Подготовка</a></span></li><li><span><a href=\"#Обучение\" data-toc-modified-id=\"Обучение-2\"><span class=\"toc-item-num\">2&nbsp;&nbsp;</span>Обучение</a></span><ul class=\"toc-item\"><li><span><a href=\"#Обычное-обучение\" data-toc-modified-id=\"Обычное-обучение-2.1\"><span class=\"toc-item-num\">2.1&nbsp;&nbsp;</span>Обычное обучение</a></span></li><li><span><a href=\"#Upsampling-обучение\" data-toc-modified-id=\"Upsampling-обучение-2.2\"><span class=\"toc-item-num\">2.2&nbsp;&nbsp;</span>Upsampling обучение</a></span></li><li><span><a href=\"#Downsampling-обучение\" data-toc-modified-id=\"Downsampling-обучение-2.3\"><span class=\"toc-item-num\">2.3&nbsp;&nbsp;</span>Downsampling обучение</a></span></li></ul></li><li><span><a href=\"#Выводы\" data-toc-modified-id=\"Выводы-3\"><span class=\"toc-item-num\">3&nbsp;&nbsp;</span>Выводы</a></span></li><li><span><a href=\"#Чек-лист-проверки\" data-toc-modified-id=\"Чек-лист-проверки-4\"><span class=\"toc-item-num\">4&nbsp;&nbsp;</span>Чек-лист проверки</a></span></li></ul></div>"
   ]
  },
  {
   "cell_type": "markdown",
   "metadata": {},
   "source": [
    "# Проект для «Викишоп»"
   ]
  },
  {
   "cell_type": "markdown",
   "metadata": {},
   "source": [
    "Интернет-магазин «Викишоп» запускает новый сервис. Теперь пользователи могут редактировать и дополнять описания товаров, как в вики-сообществах. То есть клиенты предлагают свои правки и комментируют изменения других. Магазину нужен инструмент, который будет искать токсичные комментарии и отправлять их на модерацию. \n",
    "\n",
    "Обучите модель классифицировать комментарии на позитивные и негативные. В вашем распоряжении набор данных с разметкой о токсичности правок.\n",
    "\n",
    "Постройте модель со значением метрики качества *F1* не меньше 0.75. \n",
    "\n",
    "**Инструкция по выполнению проекта**\n",
    "\n",
    "1. Загрузите и подготовьте данные.\n",
    "2. Обучите разные модели. \n",
    "3. Сделайте выводы.\n",
    "\n",
    "Для выполнения проекта применять *BERT* необязательно, но вы можете попробовать.\n",
    "\n",
    "**Описание данных**\n",
    "\n",
    "Данные находятся в файле `toxic_comments.csv`. Столбец *text* в нём содержит текст комментария, а *toxic* — целевой признак."
   ]
  },
  {
   "cell_type": "code",
   "execution_count": 1,
   "metadata": {
    "scrolled": true
   },
   "outputs": [
    {
     "name": "stdout",
     "output_type": "stream",
     "text": [
      "Note: you may need to restart the kernel to use updated packages.\n"
     ]
    }
   ],
   "source": [
    "pip install -U -q imbalanced-learn"
   ]
  },
  {
   "cell_type": "code",
   "execution_count": 2,
   "metadata": {},
   "outputs": [
    {
     "name": "stderr",
     "output_type": "stream",
     "text": [
      "[nltk_data] Downloading package wordnet to /home/jovyan/nltk_data...\n",
      "[nltk_data]   Package wordnet is already up-to-date!\n",
      "[nltk_data] Downloading package averaged_perceptron_tagger to\n",
      "[nltk_data]     /home/jovyan/nltk_data...\n",
      "[nltk_data]   Package averaged_perceptron_tagger is already up-to-\n",
      "[nltk_data]       date!\n"
     ]
    }
   ],
   "source": [
    "import pandas as pd\n",
    "import numpy as np\n",
    "import re\n",
    "import nltk\n",
    "nltk.download('wordnet')\n",
    "nltk.download('averaged_perceptron_tagger')\n",
    "from nltk.stem import WordNetLemmatizer\n",
    "from nltk.corpus import stopwords as nltk_stopwords\n",
    "from nltk.corpus import wordnet\n",
    "from sklearn.feature_extraction.text import TfidfVectorizer\n",
    "from sklearn.model_selection import train_test_split, cross_val_score\n",
    "from sklearn.metrics import f1_score\n",
    "from sklearn.linear_model import LogisticRegression\n",
    "from sklearn.model_selection import StratifiedKFold\n",
    "from imblearn.over_sampling import SMOTE\n",
    "from imblearn.under_sampling import RandomUnderSampler\n",
    "    from imblearn.pipeline import Pipeline\n",
    "import lightgbm as lgb\n",
    "import warnings\n",
    "warnings.filterwarnings(\"ignore\")"
   ]
  },
  {
   "cell_type": "markdown",
   "metadata": {},
   "source": [
    "## Подготовка"
   ]
  },
  {
   "cell_type": "code",
   "execution_count": 3,
   "metadata": {},
   "outputs": [
    {
     "data": {
      "text/html": [
       "<div>\n",
       "<style scoped>\n",
       "    .dataframe tbody tr th:only-of-type {\n",
       "        vertical-align: middle;\n",
       "    }\n",
       "\n",
       "    .dataframe tbody tr th {\n",
       "        vertical-align: top;\n",
       "    }\n",
       "\n",
       "    .dataframe thead th {\n",
       "        text-align: right;\n",
       "    }\n",
       "</style>\n",
       "<table border=\"1\" class=\"dataframe\">\n",
       "  <thead>\n",
       "    <tr style=\"text-align: right;\">\n",
       "      <th></th>\n",
       "      <th>text</th>\n",
       "      <th>toxic</th>\n",
       "    </tr>\n",
       "  </thead>\n",
       "  <tbody>\n",
       "    <tr>\n",
       "      <th>0</th>\n",
       "      <td>Explanation\\nWhy the edits made under my usern...</td>\n",
       "      <td>0</td>\n",
       "    </tr>\n",
       "    <tr>\n",
       "      <th>1</th>\n",
       "      <td>D'aww! He matches this background colour I'm s...</td>\n",
       "      <td>0</td>\n",
       "    </tr>\n",
       "    <tr>\n",
       "      <th>2</th>\n",
       "      <td>Hey man, I'm really not trying to edit war. It...</td>\n",
       "      <td>0</td>\n",
       "    </tr>\n",
       "    <tr>\n",
       "      <th>3</th>\n",
       "      <td>\"\\nMore\\nI can't make any real suggestions on ...</td>\n",
       "      <td>0</td>\n",
       "    </tr>\n",
       "    <tr>\n",
       "      <th>4</th>\n",
       "      <td>You, sir, are my hero. Any chance you remember...</td>\n",
       "      <td>0</td>\n",
       "    </tr>\n",
       "  </tbody>\n",
       "</table>\n",
       "</div>"
      ],
      "text/plain": [
       "                                                text  toxic\n",
       "0  Explanation\\nWhy the edits made under my usern...      0\n",
       "1  D'aww! He matches this background colour I'm s...      0\n",
       "2  Hey man, I'm really not trying to edit war. It...      0\n",
       "3  \"\\nMore\\nI can't make any real suggestions on ...      0\n",
       "4  You, sir, are my hero. Any chance you remember...      0"
      ]
     },
     "execution_count": 3,
     "metadata": {},
     "output_type": "execute_result"
    }
   ],
   "source": [
    "try:\n",
    "    data = pd.read_csv('C:/datasets/toxic_comments.csv', index_col=[0])\n",
    "except:\n",
    "    data = pd.read_csv('/datasets/toxic_comments.csv', index_col=[0])    \n",
    "data.head()"
   ]
  },
  {
   "cell_type": "code",
   "execution_count": 4,
   "metadata": {},
   "outputs": [
    {
     "data": {
      "text/plain": [
       "0    143106\n",
       "1     16186\n",
       "Name: toxic, dtype: int64"
      ]
     },
     "execution_count": 4,
     "metadata": {},
     "output_type": "execute_result"
    }
   ],
   "source": [
    "data['toxic'].value_counts()"
   ]
  },
  {
   "cell_type": "markdown",
   "metadata": {},
   "source": [
    "<div class=\"alert alert-block alert-info\">\n",
    "<b>Комментарий:</b> Наблюдается большой дизбаланс классов\n",
    "</div>"
   ]
  },
  {
   "cell_type": "code",
   "execution_count": 5,
   "metadata": {},
   "outputs": [],
   "source": [
    "def get_wordnet_pos(word):\n",
    "    tag = nltk.pos_tag([word])[0][1][0].upper()\n",
    "    tag_dict = {\"J\": wordnet.ADJ,\n",
    "                \"N\": wordnet.NOUN,\n",
    "                \"V\": wordnet.VERB,\n",
    "                \"R\": wordnet.ADV}\n",
    "    return tag_dict.get(tag, wordnet.NOUN)"
   ]
  },
  {
   "cell_type": "code",
   "execution_count": 6,
   "metadata": {},
   "outputs": [],
   "source": [
    "wnl = WordNetLemmatizer()\n",
    "def lemmatize_text(text):\n",
    "    new_text = \" \".join(re.sub(r'[^a-zA-Z]', ' ', text).split())\n",
    "    return \" \".join([wnl.lemmatize(w, get_wordnet_pos(w)) for w in nltk.word_tokenize(new_text)])"
   ]
  },
  {
   "cell_type": "markdown",
   "metadata": {},
   "source": [
    "<div class=\"alert alert-block alert-info\">\n",
    "<b>Комментарий:</b> Попимо привычной лемматизации добавляем pos-tag для опеределения части речи, чтобы привести слово в более точное форму.\n",
    "</div>"
   ]
  },
  {
   "cell_type": "code",
   "execution_count": 7,
   "metadata": {},
   "outputs": [
    {
     "name": "stdout",
     "output_type": "stream",
     "text": [
      "CPU times: user 16min 39s, sys: 1min 38s, total: 18min 17s\n",
      "Wall time: 18min 18s\n"
     ]
    }
   ],
   "source": [
    "%%time\n",
    "data['lemm_text'] = data['text'].apply(lemmatize_text)"
   ]
  },
  {
   "cell_type": "code",
   "execution_count": 8,
   "metadata": {},
   "outputs": [
    {
     "data": {
      "text/plain": [
       "0         Explanation Why the edits make under my userna...\n",
       "1         D aww He match this background colour I m seem...\n",
       "2         Hey man I m really not try to edit war It s ju...\n",
       "3         More I can t make any real suggestion on impro...\n",
       "4         You sir be my hero Any chance you remember wha...\n",
       "                                ...                        \n",
       "159446    And for the second time of ask when your view ...\n",
       "159447    You should be ashamed of yourself That be a ho...\n",
       "159448    Spitzer Umm there no actual article for prosti...\n",
       "159449    And it look like it be actually you who put on...\n",
       "159450    And I really don t think you understand I come...\n",
       "Name: lemm_text, Length: 159292, dtype: object"
      ]
     },
     "execution_count": 8,
     "metadata": {},
     "output_type": "execute_result"
    }
   ],
   "source": [
    "data['lemm_text']"
   ]
  },
  {
   "cell_type": "code",
   "execution_count": 9,
   "metadata": {},
   "outputs": [],
   "source": [
    "features_train, features_test, target_train, target_test = train_test_split(data['lemm_text'], data['toxic'], \n",
    "                                                                            test_size=0.2, stratify=data['toxic'])"
   ]
  },
  {
   "cell_type": "code",
   "execution_count": 10,
   "metadata": {},
   "outputs": [
    {
     "name": "stderr",
     "output_type": "stream",
     "text": [
      "[nltk_data] Downloading package stopwords to /home/jovyan/nltk_data...\n",
      "[nltk_data]   Package stopwords is already up-to-date!\n"
     ]
    }
   ],
   "source": [
    "nltk.download('stopwords')\n",
    "stopwords = set(nltk_stopwords.words('english'))\n",
    "\n",
    "count_tf_idf_train = TfidfVectorizer(stop_words=list(stopwords))"
   ]
  },
  {
   "cell_type": "code",
   "execution_count": 11,
   "metadata": {},
   "outputs": [
    {
     "name": "stdout",
     "output_type": "stream",
     "text": [
      "Отношение классов целевого признака: 8.841146034442815\n"
     ]
    }
   ],
   "source": [
    "print('Отношение классов целевого признака:',target_train[target_train == 0].shape[0]\n",
    "      /target_train[target_train == 1].shape[0])"
   ]
  },
  {
   "cell_type": "markdown",
   "metadata": {},
   "source": [
    "## Обучение"
   ]
  },
  {
   "cell_type": "markdown",
   "metadata": {},
   "source": [
    "### Обычное обучение"
   ]
  },
  {
   "cell_type": "code",
   "execution_count": 12,
   "metadata": {},
   "outputs": [],
   "source": [
    "stratified_kfold = StratifiedKFold(n_splits=5)"
   ]
  },
  {
   "cell_type": "code",
   "execution_count": 13,
   "metadata": {},
   "outputs": [
    {
     "name": "stdout",
     "output_type": "stream",
     "text": [
      "LogisticRegression f1 score: 0.7245232469457559\n",
      "CPU times: user 1min 57s, sys: 1min 51s, total: 3min 49s\n",
      "Wall time: 3min 49s\n"
     ]
    }
   ],
   "source": [
    "%%time\n",
    "m_log_r = LogisticRegression(random_state=12345)\n",
    "pipeline_lr = Pipeline([('tfid', count_tf_idf_train), ('model', m_log_r)])\n",
    "scores_log_r = cross_val_score(pipeline_lr, features_train, target_train, scoring='f1', cv=stratified_kfold, n_jobs=-1)\n",
    "print('LogisticRegression f1 score:', scores_log_r.mean())"
   ]
  },
  {
   "cell_type": "code",
   "execution_count": 14,
   "metadata": {},
   "outputs": [
    {
     "name": "stdout",
     "output_type": "stream",
     "text": [
      "LGBMClassifier f1 score: 0.7424863508327213\n",
      "CPU times: user 13min 36s, sys: 0 ns, total: 13min 36s\n",
      "Wall time: 13min 43s\n"
     ]
    }
   ],
   "source": [
    "%%time\n",
    "m_lgb = lgb.LGBMClassifier(random_state=12345)\n",
    "pipeline_lgb = Pipeline([('tfid', count_tf_idf_train), ('model', m_lgb)])\n",
    "scores_lgb = cross_val_score(pipeline_lgb, features_train, target_train, scoring='f1', cv=stratified_kfold, n_jobs=-1)\n",
    "print('LGBMClassifier f1 score:', scores_lgb.mean())"
   ]
  },
  {
   "cell_type": "markdown",
   "metadata": {},
   "source": [
    "### Upsampling обучение"
   ]
  },
  {
   "cell_type": "markdown",
   "metadata": {},
   "source": [
    "<div class=\"alert alert-block alert-info\">\n",
    "<b>Комментарий:</b> Так как у нас наблюдается дизбаланс классов, попробуем методику upsampling\n",
    "</div>"
   ]
  },
  {
   "cell_type": "code",
   "execution_count": 15,
   "metadata": {},
   "outputs": [],
   "source": [
    "smote = SMOTE(sampling_strategy = 0.3, random_state = 12345)"
   ]
  },
  {
   "cell_type": "code",
   "execution_count": 16,
   "metadata": {},
   "outputs": [
    {
     "name": "stdout",
     "output_type": "stream",
     "text": [
      "f1:  0.7705912904694763\n"
     ]
    }
   ],
   "source": [
    "f1_score_log_r_upsampling = []\n",
    "m_log_r_upsampling = LogisticRegression(random_state=12345)\n",
    "pipeline_log_r_upsampling = Pipeline([('tfid', count_tf_idf_train), ('upsampling',smote), ('model', m_log_r_upsampling)])\n",
    "for train, test in stratified_kfold.split(features_train,target_train):\n",
    "    model = pipeline_log_r_upsampling.fit(features_train.iloc[train],target_train.iloc[train])\n",
    "    prediction = model.predict(features_train.iloc[test])\n",
    "    f1_score_log_r_upsampling.append(f1_score(target_train.iloc[test], prediction))\n",
    "print(\"f1: \",np.mean(f1_score_log_r_upsampling))"
   ]
  },
  {
   "cell_type": "code",
   "execution_count": 17,
   "metadata": {},
   "outputs": [
    {
     "name": "stdout",
     "output_type": "stream",
     "text": [
      "f1:  0.7509367021251275\n",
      "CPU times: user 19min 23s, sys: 0 ns, total: 19min 23s\n",
      "Wall time: 19min 31s\n"
     ]
    }
   ],
   "source": [
    "%%time\n",
    "f1_score_lgb_upsampling = []\n",
    "m_lgb_upsampling = lgb.LGBMClassifier(random_state=12345)\n",
    "pipeline_lgb_upsampling = Pipeline([('tfid', count_tf_idf_train), ('upsampling',smote), ('model', m_lgb_upsampling)])\n",
    "for train, test in stratified_kfold.split(features_train,target_train):\n",
    "    model = pipeline_lgb_upsampling.fit(features_train.iloc[train],target_train.iloc[train])\n",
    "    prediction = model.predict(features_train.iloc[test])\n",
    "    f1_score_lgb_upsampling.append(f1_score(target_train.iloc[test], prediction))\n",
    "print(\"f1: \",np.mean(f1_score_lgb_upsampling))"
   ]
  },
  {
   "cell_type": "markdown",
   "metadata": {},
   "source": [
    "### Downsampling обучение"
   ]
  },
  {
   "cell_type": "markdown",
   "metadata": {},
   "source": [
    "<div class=\"alert alert-block alert-info\">\n",
    "<b>Комментарий:</b> Теперь попробуем методику downsampling\n",
    "</div>"
   ]
  },
  {
   "cell_type": "code",
   "execution_count": 18,
   "metadata": {},
   "outputs": [],
   "source": [
    "under = RandomUnderSampler(sampling_strategy = 0.125, random_state=12345)"
   ]
  },
  {
   "cell_type": "code",
   "execution_count": 19,
   "metadata": {},
   "outputs": [
    {
     "name": "stdout",
     "output_type": "stream",
     "text": [
      "f1:  0.7276344957705805\n"
     ]
    }
   ],
   "source": [
    "f1_score_log_r_downsampling = []\n",
    "m_log_r_downsampling = LogisticRegression(random_state=12345)\n",
    "pipeline_log_r_downsampling = Pipeline([('tfid', count_tf_idf_train), ('downsampling', under), ('model', m_log_r_downsampling)])\n",
    "for train, test in stratified_kfold.split(features_train,target_train):\n",
    "    model = pipeline_log_r_downsampling.fit(features_train.iloc[train],target_train.iloc[train])\n",
    "    prediction = model.predict(features_train.iloc[test])\n",
    "    f1_score_log_r_downsampling.append(f1_score(target_train.iloc[test], prediction))\n",
    "print(\"f1: \",np.mean(f1_score_log_r_downsampling))"
   ]
  },
  {
   "cell_type": "code",
   "execution_count": 22,
   "metadata": {},
   "outputs": [
    {
     "name": "stdout",
     "output_type": "stream",
     "text": [
      "f1:  0.7459693758423221\n",
      "CPU times: user 12min 32s, sys: 255 ms, total: 12min 32s\n",
      "Wall time: 12min 41s\n"
     ]
    }
   ],
   "source": [
    "%%time\n",
    "m_lgb_downsampling = lgb.LGBMClassifier(random_state=12345)\n",
    "pipeline_lgb_downsampling = Pipeline([('tfid', count_tf_idf_train), ('downsampling', under), ('model', m_lgb_upsampling)])\n",
    "f1_score_lgb_downsampling = []\n",
    "for train, test in stratified_kfold.split(features_train,target_train):\n",
    "    model = pipeline_lgb_downsampling.fit(features_train.iloc[train],target_train.iloc[train])\n",
    "    prediction = model.predict(features_train.iloc[test])\n",
    "    f1_score_lgb_downsampling.append(f1_score(target_train.iloc[test], prediction))\n",
    "print(\"f1: \",np.mean(f1_score_lgb_downsampling))"
   ]
  },
  {
   "cell_type": "markdown",
   "metadata": {},
   "source": [
    "## Выводы"
   ]
  },
  {
   "cell_type": "markdown",
   "metadata": {},
   "source": [
    "<div class=\"alert alert-block alert-info\">\n",
    "<b>Комментарий:</b> Лучший результат показала LogisticRegression c upsampling, поэтому дальше протестируем ее на тестовой выборке.\n",
    "</div>"
   ]
  },
  {
   "cell_type": "code",
   "execution_count": 23,
   "metadata": {},
   "outputs": [
    {
     "name": "stdout",
     "output_type": "stream",
     "text": [
      "Test f1 score: 0.7790790951387774\n"
     ]
    }
   ],
   "source": [
    "pipeline_log_r_upsampling.fit(features_train, target_train)\n",
    "print('Test f1 score:',f1_score(target_test,pipeline_log_r_upsampling.predict(features_test)))"
   ]
  },
  {
   "cell_type": "markdown",
   "metadata": {},
   "source": [
    "<div class=\"alert alert-block alert-info\">\n",
    "<b>Выводы:</b> Таким образом, мы получили необходимое значение метрики F1 на тестовой выборке, пусть и очень близкое с нижней границы допустимого. Все благодрая upsampling. Также следует понимать, что в нашем обучении мы использовали лишь TF-IDF, что учитывает частоту встречаемости слова в отдельном корпусе и во всем тексте, когда существуют Embeddings, которые также учитывают смысл, контекст и свойства слов. Пользуясь этой методикой, вероятнее всего, показатели f1 были бы выше. \n",
    "</div>"
   ]
  },
  {
   "cell_type": "code",
   "execution_count": null,
   "metadata": {},
   "outputs": [],
   "source": []
  }
 ],
 "metadata": {
  "ExecuteTimeLog": [
   {
    "duration": 49,
    "start_time": "2023-02-07T10:25:46.626Z"
   },
   {
    "duration": 1327,
    "start_time": "2023-02-07T10:25:49.070Z"
   },
   {
    "duration": 2543,
    "start_time": "2023-02-07T10:25:50.401Z"
   },
   {
    "duration": 12,
    "start_time": "2023-02-07T10:26:18.470Z"
   },
   {
    "duration": 845,
    "start_time": "2023-02-07T10:26:28.874Z"
   },
   {
    "duration": 10,
    "start_time": "2023-02-07T10:26:31.266Z"
   },
   {
    "duration": 6,
    "start_time": "2023-02-07T10:30:28.693Z"
   },
   {
    "duration": 3,
    "start_time": "2023-02-07T10:33:25.489Z"
   },
   {
    "duration": 184259,
    "start_time": "2023-02-07T10:35:24.057Z"
   },
   {
    "duration": 6,
    "start_time": "2023-02-07T10:38:36.015Z"
   },
   {
    "duration": 16,
    "start_time": "2023-02-07T10:38:43.595Z"
   },
   {
    "duration": 1817,
    "start_time": "2023-02-07T10:40:01.578Z"
   },
   {
    "duration": 55,
    "start_time": "2023-02-07T10:40:17.642Z"
   },
   {
    "duration": 1386,
    "start_time": "2023-02-07T10:40:23.402Z"
   },
   {
    "duration": 2332,
    "start_time": "2023-02-07T10:40:25.766Z"
   },
   {
    "duration": 3,
    "start_time": "2023-02-07T10:40:28.100Z"
   },
   {
    "duration": 1821,
    "start_time": "2023-02-07T10:40:28.109Z"
   },
   {
    "duration": 51,
    "start_time": "2023-02-07T10:41:47.948Z"
   },
   {
    "duration": 1257,
    "start_time": "2023-02-07T10:41:51.746Z"
   },
   {
    "duration": 2400,
    "start_time": "2023-02-07T10:41:53.588Z"
   },
   {
    "duration": 3,
    "start_time": "2023-02-07T10:41:55.990Z"
   },
   {
    "duration": 1857,
    "start_time": "2023-02-07T10:41:55.995Z"
   },
   {
    "duration": 1272,
    "start_time": "2023-02-07T10:43:32.631Z"
   },
   {
    "duration": 2493,
    "start_time": "2023-02-07T10:43:33.905Z"
   },
   {
    "duration": 4,
    "start_time": "2023-02-07T10:43:36.400Z"
   },
   {
    "duration": 31,
    "start_time": "2023-02-07T10:43:36.406Z"
   },
   {
    "duration": 47,
    "start_time": "2023-02-07T10:54:08.638Z"
   },
   {
    "duration": 1342,
    "start_time": "2023-02-07T10:54:39.089Z"
   },
   {
    "duration": 2371,
    "start_time": "2023-02-07T10:54:41.692Z"
   },
   {
    "duration": 4,
    "start_time": "2023-02-07T10:54:44.064Z"
   },
   {
    "duration": 1897,
    "start_time": "2023-02-07T10:54:44.070Z"
   },
   {
    "duration": 92,
    "start_time": "2023-02-07T10:55:50.000Z"
   },
   {
    "duration": 707,
    "start_time": "2023-02-07T10:56:31.933Z"
   },
   {
    "duration": 717,
    "start_time": "2023-02-07T10:56:37.525Z"
   },
   {
    "duration": 8,
    "start_time": "2023-02-07T10:56:52.257Z"
   },
   {
    "duration": 637,
    "start_time": "2023-02-07T10:56:55.236Z"
   },
   {
    "duration": 213476,
    "start_time": "2023-02-07T10:57:06.724Z"
   },
   {
    "duration": 17,
    "start_time": "2023-02-07T11:00:44.132Z"
   },
   {
    "duration": 1330,
    "start_time": "2023-02-07T11:05:48.164Z"
   },
   {
    "duration": 879,
    "start_time": "2023-02-07T11:05:50.765Z"
   },
   {
    "duration": 4,
    "start_time": "2023-02-07T11:05:57.177Z"
   },
   {
    "duration": 35218,
    "start_time": "2023-02-07T11:06:46.014Z"
   },
   {
    "duration": 21,
    "start_time": "2023-02-07T11:07:31.628Z"
   },
   {
    "duration": 3106,
    "start_time": "2023-02-07T11:49:01.934Z"
   },
   {
    "duration": 795,
    "start_time": "2023-02-07T11:49:06.682Z"
   },
   {
    "duration": 493,
    "start_time": "2023-02-07T11:49:10.649Z"
   },
   {
    "duration": 1616835,
    "start_time": "2023-02-07T11:49:21.926Z"
   },
   {
    "duration": 4143,
    "start_time": "2023-02-07T12:16:26.708Z"
   },
   {
    "duration": 1002,
    "start_time": "2023-02-07T12:16:32.920Z"
   },
   {
    "duration": 561,
    "start_time": "2023-02-07T12:16:38.911Z"
   },
   {
    "duration": 423168,
    "start_time": "2023-02-07T12:16:47.153Z"
   },
   {
    "duration": 4,
    "start_time": "2023-02-07T12:24:29.905Z"
   },
   {
    "duration": 256,
    "start_time": "2023-02-07T12:31:22.083Z"
   },
   {
    "duration": 26,
    "start_time": "2023-02-07T12:34:19.324Z"
   },
   {
    "duration": 24,
    "start_time": "2023-02-07T12:34:27.512Z"
   },
   {
    "duration": 6,
    "start_time": "2023-02-07T12:34:51.703Z"
   },
   {
    "duration": 4,
    "start_time": "2023-02-07T12:34:57.665Z"
   },
   {
    "duration": 16501,
    "start_time": "2023-02-07T12:35:05.816Z"
   },
   {
    "duration": 6,
    "start_time": "2023-02-07T12:35:51.272Z"
   },
   {
    "duration": 4,
    "start_time": "2023-02-07T12:36:22.998Z"
   },
   {
    "duration": 95869,
    "start_time": "2023-02-07T12:36:23.776Z"
   },
   {
    "duration": 5,
    "start_time": "2023-02-07T12:37:59.647Z"
   },
   {
    "duration": 13,
    "start_time": "2023-02-07T12:38:16.629Z"
   },
   {
    "duration": 5284,
    "start_time": "2023-02-07T12:40:03.731Z"
   },
   {
    "duration": 922,
    "start_time": "2023-02-07T12:40:09.018Z"
   },
   {
    "duration": 614,
    "start_time": "2023-02-07T12:40:09.942Z"
   },
   {
    "duration": 5,
    "start_time": "2023-02-07T12:40:10.559Z"
   },
   {
    "duration": 74,
    "start_time": "2023-02-07T12:40:10.567Z"
   },
   {
    "duration": 100948,
    "start_time": "2023-02-07T12:40:10.643Z"
   },
   {
    "duration": 16,
    "start_time": "2023-02-07T12:41:51.593Z"
   },
   {
    "duration": 23,
    "start_time": "2023-02-07T12:41:51.611Z"
   },
   {
    "duration": 353,
    "start_time": "2023-02-07T12:47:42.151Z"
   },
   {
    "duration": 5,
    "start_time": "2023-02-07T12:48:03.088Z"
   },
   {
    "duration": 817,
    "start_time": "2023-02-07T12:48:06.973Z"
   },
   {
    "duration": 63,
    "start_time": "2023-02-07T12:48:16.501Z"
   },
   {
    "duration": 5648,
    "start_time": "2023-02-07T12:49:37.711Z"
   },
   {
    "duration": 4,
    "start_time": "2023-02-07T12:49:46.745Z"
   },
   {
    "duration": 1673,
    "start_time": "2023-02-07T12:50:44.257Z"
   },
   {
    "duration": 5816,
    "start_time": "2023-02-07T12:50:51.669Z"
   },
   {
    "duration": 6227,
    "start_time": "2023-02-07T12:51:03.390Z"
   },
   {
    "duration": 1516,
    "start_time": "2023-02-07T12:51:14.212Z"
   },
   {
    "duration": 5860,
    "start_time": "2023-02-07T12:53:48.897Z"
   },
   {
    "duration": 1448,
    "start_time": "2023-02-07T12:53:54.759Z"
   },
   {
    "duration": 45442,
    "start_time": "2023-02-07T12:53:57.945Z"
   },
   {
    "duration": 20,
    "start_time": "2023-02-07T12:58:13.205Z"
   },
   {
    "duration": 5,
    "start_time": "2023-02-07T12:58:17.054Z"
   },
   {
    "duration": 37,
    "start_time": "2023-02-07T12:58:20.291Z"
   },
   {
    "duration": 4,
    "start_time": "2023-02-07T12:59:32.776Z"
   },
   {
    "duration": 5,
    "start_time": "2023-02-07T12:59:35.451Z"
   },
   {
    "duration": 44378,
    "start_time": "2023-02-07T12:59:39.923Z"
   },
   {
    "duration": 37,
    "start_time": "2023-02-07T13:00:24.303Z"
   },
   {
    "duration": 4178,
    "start_time": "2023-02-07T13:10:57.281Z"
   },
   {
    "duration": 849,
    "start_time": "2023-02-07T13:11:01.461Z"
   },
   {
    "duration": 4491,
    "start_time": "2023-02-07T13:11:05.882Z"
   },
   {
    "duration": 798,
    "start_time": "2023-02-07T13:11:10.375Z"
   },
   {
    "duration": 510,
    "start_time": "2023-02-07T13:11:11.175Z"
   },
   {
    "duration": 5,
    "start_time": "2023-02-07T13:11:11.686Z"
   },
   {
    "duration": 4,
    "start_time": "2023-02-07T13:11:11.694Z"
   },
   {
    "duration": 4292,
    "start_time": "2023-02-07T13:11:51.638Z"
   },
   {
    "duration": 925,
    "start_time": "2023-02-07T13:11:55.933Z"
   },
   {
    "duration": 510,
    "start_time": "2023-02-07T13:11:56.860Z"
   },
   {
    "duration": 2733358,
    "start_time": "2023-02-07T13:11:57.372Z"
   },
   {
    "duration": 4,
    "start_time": "2023-02-07T13:57:30.733Z"
   },
   {
    "duration": 90053,
    "start_time": "2023-02-07T13:57:30.738Z"
   },
   {
    "duration": 7,
    "start_time": "2023-02-07T13:59:00.795Z"
   },
   {
    "duration": 74,
    "start_time": "2023-02-07T13:59:00.803Z"
   },
   {
    "duration": 90,
    "start_time": "2023-02-07T13:59:00.879Z"
   },
   {
    "duration": 6148,
    "start_time": "2023-02-07T13:59:00.971Z"
   },
   {
    "duration": 1478,
    "start_time": "2023-02-07T13:59:07.121Z"
   },
   {
    "duration": 47488,
    "start_time": "2023-02-07T13:59:08.601Z"
   },
   {
    "duration": 37,
    "start_time": "2023-02-07T13:59:56.094Z"
   },
   {
    "duration": 6,
    "start_time": "2023-02-07T16:59:19.789Z"
   },
   {
    "duration": 6,
    "start_time": "2023-02-07T17:40:04.971Z"
   },
   {
    "duration": 180,
    "start_time": "2023-02-07T17:49:46.930Z"
   },
   {
    "duration": 8,
    "start_time": "2023-02-07T17:50:36.018Z"
   },
   {
    "duration": 3,
    "start_time": "2023-02-07T17:51:44.640Z"
   },
   {
    "duration": 1654,
    "start_time": "2023-02-07T17:54:18.595Z"
   },
   {
    "duration": 957,
    "start_time": "2023-02-07T17:54:20.251Z"
   },
   {
    "duration": 7,
    "start_time": "2023-02-07T17:54:21.211Z"
   },
   {
    "duration": 39,
    "start_time": "2023-02-07T17:54:21.220Z"
   },
   {
    "duration": 90905,
    "start_time": "2023-02-07T17:54:21.262Z"
   },
   {
    "duration": 6,
    "start_time": "2023-02-07T17:55:52.169Z"
   },
   {
    "duration": 407,
    "start_time": "2023-02-07T17:55:52.182Z"
   },
   {
    "duration": 6376,
    "start_time": "2023-02-07T17:55:52.591Z"
   },
   {
    "duration": 1464,
    "start_time": "2023-02-07T17:55:58.969Z"
   },
   {
    "duration": 8,
    "start_time": "2023-02-07T17:56:00.435Z"
   },
   {
    "duration": 28,
    "start_time": "2023-02-07T17:56:00.445Z"
   },
   {
    "duration": 1521,
    "start_time": "2023-02-07T18:17:56.779Z"
   },
   {
    "duration": 861,
    "start_time": "2023-02-07T18:17:58.302Z"
   },
   {
    "duration": 6,
    "start_time": "2023-02-07T18:17:59.164Z"
   },
   {
    "duration": 11,
    "start_time": "2023-02-07T18:17:59.171Z"
   },
   {
    "duration": 81571,
    "start_time": "2023-02-07T18:17:59.184Z"
   },
   {
    "duration": 6,
    "start_time": "2023-02-07T18:19:20.757Z"
   },
   {
    "duration": 74,
    "start_time": "2023-02-07T18:19:20.764Z"
   },
   {
    "duration": 5545,
    "start_time": "2023-02-07T18:19:20.839Z"
   },
   {
    "duration": 1288,
    "start_time": "2023-02-07T18:19:26.386Z"
   },
   {
    "duration": 12,
    "start_time": "2023-02-07T18:19:27.675Z"
   },
   {
    "duration": 44393,
    "start_time": "2023-02-07T18:19:27.689Z"
   },
   {
    "duration": 35,
    "start_time": "2023-02-07T18:20:12.085Z"
   },
   {
    "duration": 394381,
    "start_time": "2023-02-07T18:26:43.148Z"
   },
   {
    "duration": 0,
    "start_time": "2023-02-07T18:33:17.532Z"
   },
   {
    "duration": 1652,
    "start_time": "2023-02-07T18:37:02.079Z"
   },
   {
    "duration": 1173,
    "start_time": "2023-02-07T18:37:03.734Z"
   },
   {
    "duration": 6,
    "start_time": "2023-02-07T18:37:04.909Z"
   },
   {
    "duration": 3,
    "start_time": "2023-02-07T18:37:04.917Z"
   },
   {
    "duration": 79224,
    "start_time": "2023-02-07T18:37:04.922Z"
   },
   {
    "duration": 5,
    "start_time": "2023-02-07T18:38:24.147Z"
   },
   {
    "duration": 70,
    "start_time": "2023-02-07T18:38:24.154Z"
   },
   {
    "duration": 5392,
    "start_time": "2023-02-07T18:38:24.226Z"
   },
   {
    "duration": 1326,
    "start_time": "2023-02-07T18:38:29.620Z"
   },
   {
    "duration": 8,
    "start_time": "2023-02-07T18:38:30.948Z"
   },
   {
    "duration": 34052,
    "start_time": "2023-02-07T18:38:30.957Z"
   },
   {
    "duration": 1430,
    "start_time": "2023-02-07T18:39:45.399Z"
   },
   {
    "duration": 848,
    "start_time": "2023-02-07T18:39:46.831Z"
   },
   {
    "duration": 7,
    "start_time": "2023-02-07T18:39:47.681Z"
   },
   {
    "duration": 8,
    "start_time": "2023-02-07T18:39:47.690Z"
   },
   {
    "duration": 4,
    "start_time": "2023-02-07T18:39:47.700Z"
   },
   {
    "duration": 346,
    "start_time": "2023-02-07T18:39:47.706Z"
   },
   {
    "duration": 0,
    "start_time": "2023-02-07T18:39:48.054Z"
   },
   {
    "duration": 0,
    "start_time": "2023-02-07T18:39:48.055Z"
   },
   {
    "duration": 0,
    "start_time": "2023-02-07T18:39:48.056Z"
   },
   {
    "duration": 0,
    "start_time": "2023-02-07T18:39:48.058Z"
   },
   {
    "duration": 0,
    "start_time": "2023-02-07T18:39:48.059Z"
   },
   {
    "duration": 0,
    "start_time": "2023-02-07T18:39:48.060Z"
   },
   {
    "duration": 278,
    "start_time": "2023-02-07T18:41:30.142Z"
   },
   {
    "duration": 1461,
    "start_time": "2023-02-07T18:41:35.005Z"
   },
   {
    "duration": 893,
    "start_time": "2023-02-07T18:41:36.468Z"
   },
   {
    "duration": 19,
    "start_time": "2023-02-07T18:41:37.363Z"
   },
   {
    "duration": 5,
    "start_time": "2023-02-07T18:41:37.384Z"
   },
   {
    "duration": 9,
    "start_time": "2023-02-07T18:41:37.391Z"
   },
   {
    "duration": 1520,
    "start_time": "2023-02-07T18:58:48.559Z"
   },
   {
    "duration": 872,
    "start_time": "2023-02-07T18:58:50.081Z"
   },
   {
    "duration": 6,
    "start_time": "2023-02-07T18:58:50.955Z"
   },
   {
    "duration": 18,
    "start_time": "2023-02-07T18:58:50.962Z"
   },
   {
    "duration": 15,
    "start_time": "2023-02-07T18:58:50.982Z"
   },
   {
    "duration": 1089910,
    "start_time": "2023-02-07T18:58:50.998Z"
   },
   {
    "duration": 5,
    "start_time": "2023-02-07T19:17:00.910Z"
   },
   {
    "duration": 86,
    "start_time": "2023-02-07T19:17:00.917Z"
   },
   {
    "duration": 5058,
    "start_time": "2023-02-07T19:17:01.005Z"
   },
   {
    "duration": 1292,
    "start_time": "2023-02-07T19:17:06.064Z"
   },
   {
    "duration": 20,
    "start_time": "2023-02-07T19:17:07.358Z"
   },
   {
    "duration": 41936,
    "start_time": "2023-02-07T19:17:07.379Z"
   },
   {
    "duration": 4,
    "start_time": "2023-02-07T19:51:01.560Z"
   },
   {
    "duration": 116,
    "start_time": "2023-02-07T19:51:26.031Z"
   },
   {
    "duration": 63,
    "start_time": "2023-02-07T19:56:30.242Z"
   },
   {
    "duration": 57,
    "start_time": "2023-02-07T19:56:37.034Z"
   },
   {
    "duration": 189437,
    "start_time": "2023-02-07T19:56:44.245Z"
   },
   {
    "duration": 246,
    "start_time": "2023-02-07T19:59:53.685Z"
   },
   {
    "duration": 201007,
    "start_time": "2023-02-07T20:03:04.605Z"
   },
   {
    "duration": 9615,
    "start_time": "2023-02-07T20:07:13.101Z"
   },
   {
    "duration": 33,
    "start_time": "2023-02-07T20:08:42.819Z"
   },
   {
    "duration": 1653,
    "start_time": "2023-02-07T20:39:32.030Z"
   },
   {
    "duration": 892,
    "start_time": "2023-02-07T20:39:36.026Z"
   },
   {
    "duration": 8,
    "start_time": "2023-02-07T20:39:36.919Z"
   },
   {
    "duration": 5,
    "start_time": "2023-02-07T20:39:36.928Z"
   },
   {
    "duration": 4,
    "start_time": "2023-02-07T20:39:37.000Z"
   },
   {
    "duration": 1085404,
    "start_time": "2023-02-07T20:39:37.941Z"
   },
   {
    "duration": 44,
    "start_time": "2023-02-07T21:04:11.248Z"
   },
   {
    "duration": 1561,
    "start_time": "2023-02-07T21:04:21.489Z"
   },
   {
    "duration": 840,
    "start_time": "2023-02-07T21:04:23.052Z"
   },
   {
    "duration": 6,
    "start_time": "2023-02-07T21:04:23.893Z"
   },
   {
    "duration": 5,
    "start_time": "2023-02-07T21:04:23.901Z"
   },
   {
    "duration": 5,
    "start_time": "2023-02-07T21:04:23.907Z"
   },
   {
    "duration": 1075371,
    "start_time": "2023-02-07T21:04:23.913Z"
   },
   {
    "duration": 5,
    "start_time": "2023-02-07T21:22:19.286Z"
   },
   {
    "duration": 64,
    "start_time": "2023-02-07T21:22:19.292Z"
   },
   {
    "duration": 4928,
    "start_time": "2023-02-07T21:22:19.358Z"
   },
   {
    "duration": 1169,
    "start_time": "2023-02-07T21:22:24.289Z"
   },
   {
    "duration": 8,
    "start_time": "2023-02-07T21:22:25.460Z"
   },
   {
    "duration": 12,
    "start_time": "2023-02-07T21:22:25.469Z"
   },
   {
    "duration": 44322,
    "start_time": "2023-02-07T21:22:25.483Z"
   },
   {
    "duration": 191889,
    "start_time": "2023-02-07T21:23:09.807Z"
   },
   {
    "duration": 955660,
    "start_time": "2023-02-07T21:26:21.782Z"
   },
   {
    "duration": 4,
    "start_time": "2023-02-07T21:42:17.444Z"
   },
   {
    "duration": 25,
    "start_time": "2023-02-07T21:42:17.449Z"
   },
   {
    "duration": 69,
    "start_time": "2023-02-07T21:42:17.476Z"
   },
   {
    "duration": 59,
    "start_time": "2023-02-07T21:42:22.634Z"
   },
   {
    "duration": 1522,
    "start_time": "2023-02-07T21:48:51.581Z"
   },
   {
    "duration": 877,
    "start_time": "2023-02-07T21:48:53.105Z"
   },
   {
    "duration": 7,
    "start_time": "2023-02-07T21:48:54.836Z"
   },
   {
    "duration": 4,
    "start_time": "2023-02-07T21:48:57.533Z"
   },
   {
    "duration": 3,
    "start_time": "2023-02-07T21:48:57.708Z"
   },
   {
    "duration": 1706,
    "start_time": "2023-02-07T21:51:54.752Z"
   },
   {
    "duration": 824,
    "start_time": "2023-02-07T21:51:56.460Z"
   },
   {
    "duration": 6,
    "start_time": "2023-02-07T21:51:57.285Z"
   },
   {
    "duration": 22,
    "start_time": "2023-02-07T21:51:57.292Z"
   },
   {
    "duration": 22,
    "start_time": "2023-02-07T21:51:57.315Z"
   },
   {
    "duration": 1051880,
    "start_time": "2023-02-07T21:51:57.339Z"
   },
   {
    "duration": 5,
    "start_time": "2023-02-07T22:09:29.220Z"
   },
   {
    "duration": 71,
    "start_time": "2023-02-07T22:09:29.226Z"
   },
   {
    "duration": 4923,
    "start_time": "2023-02-07T22:09:29.298Z"
   },
   {
    "duration": 1178,
    "start_time": "2023-02-07T22:09:34.222Z"
   },
   {
    "duration": 8,
    "start_time": "2023-02-07T22:09:35.401Z"
   },
   {
    "duration": 38878,
    "start_time": "2023-02-07T22:09:35.410Z"
   },
   {
    "duration": 210628,
    "start_time": "2023-02-07T22:10:14.290Z"
   },
   {
    "duration": 5,
    "start_time": "2023-02-07T22:13:44.920Z"
   },
   {
    "duration": 7,
    "start_time": "2023-02-07T22:13:44.927Z"
   },
   {
    "duration": 153,
    "start_time": "2023-02-07T22:13:44.936Z"
   },
   {
    "duration": 0,
    "start_time": "2023-02-07T22:13:45.091Z"
   },
   {
    "duration": 0,
    "start_time": "2023-02-07T22:13:45.092Z"
   },
   {
    "duration": 0,
    "start_time": "2023-02-07T22:13:45.094Z"
   },
   {
    "duration": 16,
    "start_time": "2023-02-07T22:18:33.180Z"
   },
   {
    "duration": 2414,
    "start_time": "2023-02-07T22:18:34.405Z"
   },
   {
    "duration": 4,
    "start_time": "2023-02-07T22:18:41.907Z"
   },
   {
    "duration": 10,
    "start_time": "2023-02-07T22:21:18.564Z"
   },
   {
    "duration": 62,
    "start_time": "2023-02-07T22:21:37.959Z"
   },
   {
    "duration": 7508,
    "start_time": "2023-02-07T22:23:05.443Z"
   },
   {
    "duration": 4,
    "start_time": "2023-02-07T22:23:19.215Z"
   },
   {
    "duration": 52701,
    "start_time": "2023-02-07T22:25:16.195Z"
   },
   {
    "duration": 91,
    "start_time": "2023-02-07T22:27:57.391Z"
   },
   {
    "duration": 14,
    "start_time": "2023-02-07T22:28:42.063Z"
   },
   {
    "duration": 52386,
    "start_time": "2023-02-07T22:28:50.065Z"
   },
   {
    "duration": 53807,
    "start_time": "2023-02-07T22:30:20.248Z"
   },
   {
    "duration": 7700,
    "start_time": "2023-02-07T22:32:43.997Z"
   },
   {
    "duration": 69,
    "start_time": "2023-02-07T22:35:11.872Z"
   },
   {
    "duration": 7853,
    "start_time": "2023-02-07T22:35:37.368Z"
   },
   {
    "duration": 989,
    "start_time": "2023-02-07T22:36:07.861Z"
   },
   {
    "duration": 21920,
    "start_time": "2023-02-07T22:36:12.167Z"
   },
   {
    "duration": 16,
    "start_time": "2023-02-07T22:36:34.089Z"
   },
   {
    "duration": 57,
    "start_time": "2023-02-07T22:39:19.564Z"
   },
   {
    "duration": 59,
    "start_time": "2023-02-07T22:39:21.914Z"
   },
   {
    "duration": 61,
    "start_time": "2023-02-07T22:40:41.879Z"
   },
   {
    "duration": 55,
    "start_time": "2023-02-07T22:40:52.438Z"
   },
   {
    "duration": 54,
    "start_time": "2023-02-07T22:40:59.578Z"
   },
   {
    "duration": 25,
    "start_time": "2023-02-07T22:41:07.606Z"
   },
   {
    "duration": 62,
    "start_time": "2023-02-07T22:41:13.110Z"
   },
   {
    "duration": 53,
    "start_time": "2023-02-07T22:41:17.968Z"
   },
   {
    "duration": 7,
    "start_time": "2023-02-07T22:41:29.230Z"
   },
   {
    "duration": 344881,
    "start_time": "2023-02-07T22:41:33.866Z"
   },
   {
    "duration": 2561,
    "start_time": "2023-02-07T22:47:18.749Z"
   },
   {
    "duration": 56,
    "start_time": "2023-02-07T22:48:37.665Z"
   },
   {
    "duration": 45129,
    "start_time": "2023-02-07T22:49:15.556Z"
   },
   {
    "duration": 2539,
    "start_time": "2023-02-07T22:50:00.687Z"
   },
   {
    "duration": 62,
    "start_time": "2023-02-07T22:51:48.201Z"
   },
   {
    "duration": 85,
    "start_time": "2023-02-07T22:52:00.645Z"
   },
   {
    "duration": 1649,
    "start_time": "2023-02-07T23:23:40.468Z"
   },
   {
    "duration": 54,
    "start_time": "2023-02-07T23:23:50.257Z"
   },
   {
    "duration": 882,
    "start_time": "2023-02-07T23:23:52.910Z"
   },
   {
    "duration": 8,
    "start_time": "2023-02-07T23:23:55.202Z"
   },
   {
    "duration": 3,
    "start_time": "2023-02-07T23:23:57.654Z"
   },
   {
    "duration": 3,
    "start_time": "2023-02-07T23:23:57.822Z"
   },
   {
    "duration": 1060573,
    "start_time": "2023-02-07T23:24:00.474Z"
   },
   {
    "duration": 6,
    "start_time": "2023-02-07T23:41:41.049Z"
   },
   {
    "duration": 78,
    "start_time": "2023-02-07T23:41:41.056Z"
   },
   {
    "duration": 5296,
    "start_time": "2023-02-07T23:41:41.136Z"
   },
   {
    "duration": 1242,
    "start_time": "2023-02-07T23:41:46.435Z"
   },
   {
    "duration": 17,
    "start_time": "2023-02-07T23:41:47.678Z"
   },
   {
    "duration": 42588,
    "start_time": "2023-02-07T23:45:51.231Z"
   },
   {
    "duration": 206864,
    "start_time": "2023-02-07T23:46:33.820Z"
   },
   {
    "duration": 6,
    "start_time": "2023-02-07T23:51:22.861Z"
   },
   {
    "duration": 396,
    "start_time": "2023-02-07T23:51:23.938Z"
   },
   {
    "duration": 3,
    "start_time": "2023-02-07T23:51:31.464Z"
   },
   {
    "duration": 306428,
    "start_time": "2023-02-07T23:51:43.062Z"
   },
   {
    "duration": 5,
    "start_time": "2023-02-07T23:56:49.491Z"
   },
   {
    "duration": 7565,
    "start_time": "2023-02-07T23:56:58.436Z"
   },
   {
    "duration": 53852,
    "start_time": "2023-02-07T23:57:06.003Z"
   },
   {
    "duration": 86,
    "start_time": "2023-02-07T23:57:59.857Z"
   },
   {
    "duration": 4,
    "start_time": "2023-02-07T23:57:59.945Z"
   },
   {
    "duration": 1044,
    "start_time": "2023-02-07T23:57:59.950Z"
   },
   {
    "duration": 11108,
    "start_time": "2023-02-07T23:58:00.996Z"
   },
   {
    "duration": 55,
    "start_time": "2023-02-07T23:58:12.106Z"
   },
   {
    "duration": 24,
    "start_time": "2023-02-07T23:58:12.163Z"
   },
   {
    "duration": 2427,
    "start_time": "2023-02-07T23:58:12.188Z"
   },
   {
    "duration": 15,
    "start_time": "2023-02-07T23:58:14.681Z"
   },
   {
    "duration": 15,
    "start_time": "2023-02-07T23:58:14.698Z"
   },
   {
    "duration": 9,
    "start_time": "2023-02-07T23:58:14.714Z"
   },
   {
    "duration": 0,
    "start_time": "2023-02-07T23:58:14.724Z"
   },
   {
    "duration": 28,
    "start_time": "2023-02-07T23:59:13.515Z"
   },
   {
    "duration": 348193,
    "start_time": "2023-02-07T23:59:17.591Z"
   },
   {
    "duration": 44515,
    "start_time": "2023-02-08T00:05:05.786Z"
   },
   {
    "duration": 2424,
    "start_time": "2023-02-08T00:06:58.062Z"
   },
   {
    "duration": 2500,
    "start_time": "2023-02-08T00:07:00.488Z"
   },
   {
    "duration": 57,
    "start_time": "2023-02-08T00:11:54.972Z"
   },
   {
    "duration": 15,
    "start_time": "2023-02-08T00:11:58.489Z"
   },
   {
    "duration": 1742,
    "start_time": "2023-02-08T00:12:24.064Z"
   },
   {
    "duration": 862,
    "start_time": "2023-02-08T00:12:25.808Z"
   },
   {
    "duration": 12,
    "start_time": "2023-02-08T00:12:26.671Z"
   },
   {
    "duration": 3,
    "start_time": "2023-02-08T00:12:26.685Z"
   },
   {
    "duration": 19,
    "start_time": "2023-02-08T00:12:26.689Z"
   },
   {
    "duration": 1041838,
    "start_time": "2023-02-08T00:12:26.709Z"
   },
   {
    "duration": 5,
    "start_time": "2023-02-08T00:29:48.549Z"
   },
   {
    "duration": 74,
    "start_time": "2023-02-08T00:29:48.555Z"
   },
   {
    "duration": 4852,
    "start_time": "2023-02-08T00:29:48.631Z"
   },
   {
    "duration": 1193,
    "start_time": "2023-02-08T00:29:53.485Z"
   },
   {
    "duration": 21,
    "start_time": "2023-02-08T00:29:54.680Z"
   },
   {
    "duration": 26,
    "start_time": "2023-02-08T00:29:54.703Z"
   },
   {
    "duration": 0,
    "start_time": "2023-02-08T00:29:54.730Z"
   },
   {
    "duration": 0,
    "start_time": "2023-02-08T00:29:54.731Z"
   },
   {
    "duration": 0,
    "start_time": "2023-02-08T00:29:54.732Z"
   },
   {
    "duration": 0,
    "start_time": "2023-02-08T00:29:54.733Z"
   },
   {
    "duration": 0,
    "start_time": "2023-02-08T00:29:54.734Z"
   },
   {
    "duration": 0,
    "start_time": "2023-02-08T00:29:54.735Z"
   },
   {
    "duration": 0,
    "start_time": "2023-02-08T00:29:54.736Z"
   },
   {
    "duration": 0,
    "start_time": "2023-02-08T00:29:54.737Z"
   },
   {
    "duration": 0,
    "start_time": "2023-02-08T00:29:54.737Z"
   },
   {
    "duration": 0,
    "start_time": "2023-02-08T00:29:54.738Z"
   },
   {
    "duration": 42953,
    "start_time": "2023-02-08T00:31:13.550Z"
   },
   {
    "duration": 227193,
    "start_time": "2023-02-08T00:31:56.505Z"
   },
   {
    "duration": 4,
    "start_time": "2023-02-08T00:35:43.700Z"
   },
   {
    "duration": 7350,
    "start_time": "2023-02-08T00:35:43.706Z"
   },
   {
    "duration": 52496,
    "start_time": "2023-02-08T00:35:51.058Z"
   },
   {
    "duration": 164,
    "start_time": "2023-02-08T00:36:43.556Z"
   },
   {
    "duration": 4,
    "start_time": "2023-02-08T00:36:43.721Z"
   },
   {
    "duration": 930,
    "start_time": "2023-02-08T00:36:43.727Z"
   },
   {
    "duration": 11228,
    "start_time": "2023-02-08T00:36:44.658Z"
   },
   {
    "duration": 55,
    "start_time": "2023-02-08T00:36:55.889Z"
   },
   {
    "duration": 6,
    "start_time": "2023-02-08T00:42:24.869Z"
   },
   {
    "duration": 111,
    "start_time": "2023-02-08T00:42:30.109Z"
   },
   {
    "duration": 55,
    "start_time": "2023-02-08T00:42:42.789Z"
   },
   {
    "duration": 25,
    "start_time": "2023-02-08T00:45:28.609Z"
   },
   {
    "duration": 1509,
    "start_time": "2023-02-08T00:46:16.065Z"
   },
   {
    "duration": 823,
    "start_time": "2023-02-08T00:46:17.576Z"
   },
   {
    "duration": 6,
    "start_time": "2023-02-08T00:46:18.401Z"
   },
   {
    "duration": 20,
    "start_time": "2023-02-08T00:46:18.408Z"
   },
   {
    "duration": 14,
    "start_time": "2023-02-08T00:46:18.430Z"
   },
   {
    "duration": 1065751,
    "start_time": "2023-02-08T00:46:18.446Z"
   },
   {
    "duration": 5,
    "start_time": "2023-02-08T01:04:04.199Z"
   },
   {
    "duration": 63,
    "start_time": "2023-02-08T01:04:04.206Z"
   },
   {
    "duration": 5046,
    "start_time": "2023-02-08T01:04:04.271Z"
   },
   {
    "duration": 1171,
    "start_time": "2023-02-08T01:04:09.318Z"
   },
   {
    "duration": 9,
    "start_time": "2023-02-08T01:04:10.491Z"
   },
   {
    "duration": 42004,
    "start_time": "2023-02-08T01:04:10.502Z"
   },
   {
    "duration": 211010,
    "start_time": "2023-02-08T01:04:52.507Z"
   },
   {
    "duration": 3,
    "start_time": "2023-02-08T01:08:23.520Z"
   },
   {
    "duration": 7211,
    "start_time": "2023-02-08T01:08:23.525Z"
   },
   {
    "duration": 53818,
    "start_time": "2023-02-08T01:08:30.737Z"
   },
   {
    "duration": 336359,
    "start_time": "2023-02-08T01:09:24.557Z"
   },
   {
    "duration": 3,
    "start_time": "2023-02-08T01:15:00.918Z"
   },
   {
    "duration": 999,
    "start_time": "2023-02-08T01:15:00.923Z"
   },
   {
    "duration": 11468,
    "start_time": "2023-02-08T01:15:01.924Z"
   },
   {
    "duration": 44313,
    "start_time": "2023-02-08T01:15:13.394Z"
   },
   {
    "duration": 15,
    "start_time": "2023-02-08T01:15:57.710Z"
   },
   {
    "duration": 83,
    "start_time": "2023-02-08T18:52:40.837Z"
   },
   {
    "duration": 2007,
    "start_time": "2023-02-09T09:48:54.797Z"
   },
   {
    "duration": 2631,
    "start_time": "2023-02-09T09:49:01.088Z"
   },
   {
    "duration": 8,
    "start_time": "2023-02-09T09:49:03.721Z"
   },
   {
    "duration": 4,
    "start_time": "2023-02-09T09:49:04.684Z"
   },
   {
    "duration": 4,
    "start_time": "2023-02-09T09:49:04.980Z"
   },
   {
    "duration": 1265706,
    "start_time": "2023-02-09T09:49:07.667Z"
   },
   {
    "duration": 7,
    "start_time": "2023-02-09T10:10:13.376Z"
   },
   {
    "duration": 116,
    "start_time": "2023-02-09T10:10:13.384Z"
   },
   {
    "duration": 5774,
    "start_time": "2023-02-09T10:10:13.503Z"
   },
   {
    "duration": 1325,
    "start_time": "2023-02-09T10:10:19.279Z"
   },
   {
    "duration": 16,
    "start_time": "2023-02-09T10:10:20.607Z"
   },
   {
    "duration": 143,
    "start_time": "2023-02-09T10:17:07.076Z"
   },
   {
    "duration": 55,
    "start_time": "2023-02-09T10:19:56.611Z"
   },
   {
    "duration": 12,
    "start_time": "2023-02-09T10:20:04.431Z"
   },
   {
    "duration": 8416,
    "start_time": "2023-02-09T10:20:37.115Z"
   },
   {
    "duration": 32,
    "start_time": "2023-02-09T10:20:51.268Z"
   },
   {
    "duration": 2140,
    "start_time": "2023-02-09T10:21:48.966Z"
   },
   {
    "duration": 22,
    "start_time": "2023-02-09T10:21:55.503Z"
   },
   {
    "duration": 2399,
    "start_time": "2023-02-09T10:22:23.162Z"
   },
   {
    "duration": 2402,
    "start_time": "2023-02-09T10:22:29.368Z"
   },
   {
    "duration": 2228,
    "start_time": "2023-02-09T10:22:50.202Z"
   },
   {
    "duration": 1355,
    "start_time": "2023-02-09T10:22:52.433Z"
   },
   {
    "duration": 957,
    "start_time": "2023-02-09T10:22:53.789Z"
   },
   {
    "duration": 7,
    "start_time": "2023-02-09T10:22:56.821Z"
   },
   {
    "duration": 3,
    "start_time": "2023-02-09T10:22:58.234Z"
   },
   {
    "duration": 3,
    "start_time": "2023-02-09T10:22:58.574Z"
   },
   {
    "duration": 1069298,
    "start_time": "2023-02-09T10:22:59.567Z"
   },
   {
    "duration": 5,
    "start_time": "2023-02-09T10:40:48.867Z"
   },
   {
    "duration": 75,
    "start_time": "2023-02-09T10:40:48.874Z"
   },
   {
    "duration": 177,
    "start_time": "2023-02-09T10:40:48.951Z"
   },
   {
    "duration": 0,
    "start_time": "2023-02-09T10:40:49.130Z"
   },
   {
    "duration": 0,
    "start_time": "2023-02-09T10:40:49.132Z"
   },
   {
    "duration": 14,
    "start_time": "2023-02-09T10:41:34.162Z"
   },
   {
    "duration": 8,
    "start_time": "2023-02-09T10:44:43.873Z"
   },
   {
    "duration": 6,
    "start_time": "2023-02-09T10:45:12.597Z"
   },
   {
    "duration": 6018,
    "start_time": "2023-02-09T10:45:21.102Z"
   },
   {
    "duration": 1286,
    "start_time": "2023-02-09T10:45:29.676Z"
   },
   {
    "duration": 8,
    "start_time": "2023-02-09T10:45:31.904Z"
   },
   {
    "duration": 47232,
    "start_time": "2023-02-09T10:45:41.296Z"
   },
   {
    "duration": 443879,
    "start_time": "2023-02-09T10:46:28.531Z"
   },
   {
    "duration": 0,
    "start_time": "2023-02-09T10:53:52.425Z"
   },
   {
    "duration": 125821,
    "start_time": "2023-02-09T10:54:03.113Z"
   },
   {
    "duration": 4,
    "start_time": "2023-02-09T10:56:22.025Z"
   },
   {
    "duration": 4,
    "start_time": "2023-02-09T10:56:27.156Z"
   },
   {
    "duration": 3,
    "start_time": "2023-02-09T10:56:32.453Z"
   },
   {
    "duration": 89173,
    "start_time": "2023-02-09T10:57:48.958Z"
   },
   {
    "duration": 6,
    "start_time": "2023-02-09T10:59:18.132Z"
   },
   {
    "duration": 127334,
    "start_time": "2023-02-09T10:59:21.359Z"
   },
   {
    "duration": 2327,
    "start_time": "2023-02-09T11:34:21.026Z"
   },
   {
    "duration": 1757,
    "start_time": "2023-02-09T11:34:23.356Z"
   },
   {
    "duration": 951,
    "start_time": "2023-02-09T11:34:25.115Z"
   },
   {
    "duration": 8,
    "start_time": "2023-02-09T11:34:26.069Z"
   },
   {
    "duration": 34,
    "start_time": "2023-02-09T11:34:26.079Z"
   },
   {
    "duration": 9,
    "start_time": "2023-02-09T11:34:26.115Z"
   },
   {
    "duration": 1078869,
    "start_time": "2023-02-09T11:34:26.126Z"
   },
   {
    "duration": 7,
    "start_time": "2023-02-09T11:52:24.997Z"
   },
   {
    "duration": 73,
    "start_time": "2023-02-09T11:52:25.005Z"
   },
   {
    "duration": 5250,
    "start_time": "2023-02-09T11:52:25.081Z"
   },
   {
    "duration": 1287,
    "start_time": "2023-02-09T11:52:30.333Z"
   },
   {
    "duration": 21,
    "start_time": "2023-02-09T11:52:31.621Z"
   },
   {
    "duration": 46904,
    "start_time": "2023-02-09T11:52:31.643Z"
   },
   {
    "duration": 1250602,
    "start_time": "2023-02-09T11:53:18.549Z"
   },
   {
    "duration": 219,
    "start_time": "2023-02-09T12:14:09.152Z"
   },
   {
    "duration": 52,
    "start_time": "2023-02-09T12:14:09.372Z"
   },
   {
    "duration": 4,
    "start_time": "2023-02-09T12:14:09.426Z"
   },
   {
    "duration": 7355,
    "start_time": "2023-02-09T12:14:09.431Z"
   },
   {
    "duration": 58277,
    "start_time": "2023-02-09T12:14:16.791Z"
   },
   {
    "duration": 1587198,
    "start_time": "2023-02-09T12:15:15.069Z"
   },
   {
    "duration": 2,
    "start_time": "2023-02-09T12:41:42.269Z"
   },
   {
    "duration": 67,
    "start_time": "2023-02-09T12:41:42.292Z"
   },
   {
    "duration": 51,
    "start_time": "2023-02-09T12:41:42.360Z"
   },
   {
    "duration": 3,
    "start_time": "2023-02-09T12:41:42.412Z"
   },
   {
    "duration": 939,
    "start_time": "2023-02-09T12:41:42.417Z"
   },
   {
    "duration": 17144,
    "start_time": "2023-02-09T12:41:43.357Z"
   },
   {
    "duration": 674017,
    "start_time": "2023-02-09T12:42:00.503Z"
   },
   {
    "duration": 3,
    "start_time": "2023-02-09T12:53:14.523Z"
   },
   {
    "duration": 56,
    "start_time": "2023-02-09T12:53:14.527Z"
   },
   {
    "duration": 64,
    "start_time": "2023-02-09T12:53:14.585Z"
   },
   {
    "duration": 20,
    "start_time": "2023-02-09T12:53:14.651Z"
   },
   {
    "duration": 6567,
    "start_time": "2023-02-09T18:04:49.117Z"
   },
   {
    "duration": 2008,
    "start_time": "2023-02-09T18:04:55.686Z"
   },
   {
    "duration": 2616,
    "start_time": "2023-02-09T18:05:20.306Z"
   },
   {
    "duration": 6,
    "start_time": "2023-02-09T18:05:22.924Z"
   },
   {
    "duration": 3,
    "start_time": "2023-02-09T18:05:24.034Z"
   },
   {
    "duration": 3,
    "start_time": "2023-02-09T18:05:24.329Z"
   },
   {
    "duration": 1158949,
    "start_time": "2023-02-09T18:05:27.687Z"
   },
   {
    "duration": 6,
    "start_time": "2023-02-09T18:24:46.638Z"
   },
   {
    "duration": 76,
    "start_time": "2023-02-09T18:24:46.645Z"
   },
   {
    "duration": 5534,
    "start_time": "2023-02-09T18:24:46.723Z"
   },
   {
    "duration": 1327,
    "start_time": "2023-02-09T18:24:52.259Z"
   },
   {
    "duration": 15,
    "start_time": "2023-02-09T18:24:53.588Z"
   },
   {
    "duration": 229189,
    "start_time": "2023-02-09T18:24:53.605Z"
   },
   {
    "duration": 954031,
    "start_time": "2023-02-09T18:28:42.796Z"
   },
   {
    "duration": 2,
    "start_time": "2023-02-09T18:44:36.829Z"
   },
   {
    "duration": 293,
    "start_time": "2023-02-09T18:44:36.833Z"
   },
   {
    "duration": 166,
    "start_time": "2023-02-09T18:44:37.128Z"
   },
   {
    "duration": 2,
    "start_time": "2023-02-09T18:44:37.296Z"
   },
   {
    "duration": 170,
    "start_time": "2023-02-09T18:44:37.300Z"
   },
   {
    "duration": 160,
    "start_time": "2023-02-09T18:44:37.473Z"
   },
   {
    "duration": 12,
    "start_time": "2023-02-09T18:59:51.380Z"
   },
   {
    "duration": 493045,
    "start_time": "2023-02-09T18:59:57.000Z"
   },
   {
    "duration": 87340,
    "start_time": "2023-02-09T19:08:10.047Z"
   },
   {
    "duration": 1351,
    "start_time": "2023-02-09T19:10:25.963Z"
   },
   {
    "duration": 5729,
    "start_time": "2023-02-09T19:10:59.441Z"
   },
   {
    "duration": 130306,
    "start_time": "2023-02-09T19:11:25.602Z"
   },
   {
    "duration": 2,
    "start_time": "2023-02-09T19:20:15.137Z"
   },
   {
    "duration": 90765,
    "start_time": "2023-02-09T19:20:16.317Z"
   },
   {
    "duration": 3,
    "start_time": "2023-02-09T19:22:37.033Z"
   },
   {
    "duration": 96574,
    "start_time": "2023-02-09T19:22:37.670Z"
   },
   {
    "duration": 2,
    "start_time": "2023-02-09T19:25:36.012Z"
   },
   {
    "duration": 213391,
    "start_time": "2023-02-09T19:25:36.323Z"
   },
   {
    "duration": 13,
    "start_time": "2023-02-09T19:30:09.301Z"
   },
   {
    "duration": 3,
    "start_time": "2023-02-09T19:30:35.169Z"
   },
   {
    "duration": 466721,
    "start_time": "2023-02-09T19:30:38.139Z"
   },
   {
    "duration": 122045,
    "start_time": "2023-02-09T19:41:20.202Z"
   },
   {
    "duration": 3,
    "start_time": "2023-02-09T19:44:09.924Z"
   },
   {
    "duration": 418328,
    "start_time": "2023-02-09T19:44:10.328Z"
   },
   {
    "duration": 52,
    "start_time": "2023-02-09T19:51:08.659Z"
   },
   {
    "duration": 109557,
    "start_time": "2023-02-09T19:51:26.428Z"
   },
   {
    "duration": 3,
    "start_time": "2023-02-09T19:54:18.792Z"
   },
   {
    "duration": 21892,
    "start_time": "2023-02-09T19:54:19.163Z"
   },
   {
    "duration": 5372,
    "start_time": "2023-02-09T19:54:41.057Z"
   },
   {
    "duration": 3,
    "start_time": "2023-02-09T19:55:35.276Z"
   },
   {
    "duration": 455097,
    "start_time": "2023-02-09T19:55:35.932Z"
   },
   {
    "duration": 120102,
    "start_time": "2023-02-09T20:03:11.031Z"
   },
   {
    "duration": 1520103,
    "start_time": "2023-02-09T20:05:28.858Z"
   },
   {
    "duration": 5535718,
    "start_time": "2023-02-09T20:30:48.963Z"
   },
   {
    "duration": 2670,
    "start_time": "2023-02-09T22:30:29.162Z"
   },
   {
    "duration": 2453,
    "start_time": "2023-02-09T22:30:31.834Z"
   },
   {
    "duration": 1041,
    "start_time": "2023-02-09T22:30:34.289Z"
   },
   {
    "duration": 6,
    "start_time": "2023-02-09T22:30:35.332Z"
   },
   {
    "duration": 4,
    "start_time": "2023-02-09T22:30:35.340Z"
   },
   {
    "duration": 12,
    "start_time": "2023-02-09T22:30:35.345Z"
   },
   {
    "duration": 1117444,
    "start_time": "2023-02-09T22:30:35.359Z"
   },
   {
    "duration": 6,
    "start_time": "2023-02-09T22:49:12.805Z"
   },
   {
    "duration": 76,
    "start_time": "2023-02-09T22:49:12.820Z"
   },
   {
    "duration": 5,
    "start_time": "2023-02-09T22:49:12.898Z"
   },
   {
    "duration": 21,
    "start_time": "2023-02-09T22:49:12.905Z"
   },
   {
    "duration": 3,
    "start_time": "2023-02-09T22:49:12.928Z"
   },
   {
    "duration": 215110,
    "start_time": "2023-02-09T22:49:12.932Z"
   },
   {
    "duration": 830133,
    "start_time": "2023-02-09T22:52:48.045Z"
   },
   {
    "duration": 42,
    "start_time": "2023-02-09T23:06:38.179Z"
   },
   {
    "duration": 447178,
    "start_time": "2023-02-09T23:06:38.223Z"
   },
   {
    "duration": 0,
    "start_time": "2023-02-09T23:14:05.403Z"
   },
   {
    "duration": 0,
    "start_time": "2023-02-09T23:14:05.404Z"
   },
   {
    "duration": 0,
    "start_time": "2023-02-09T23:14:05.405Z"
   },
   {
    "duration": 0,
    "start_time": "2023-02-09T23:14:05.406Z"
   },
   {
    "duration": 0,
    "start_time": "2023-02-09T23:14:05.421Z"
   },
   {
    "duration": 2408,
    "start_time": "2023-02-09T23:14:45.758Z"
   },
   {
    "duration": 1477,
    "start_time": "2023-02-09T23:14:48.168Z"
   },
   {
    "duration": 960,
    "start_time": "2023-02-09T23:14:49.647Z"
   },
   {
    "duration": 12,
    "start_time": "2023-02-09T23:14:50.609Z"
   },
   {
    "duration": 4,
    "start_time": "2023-02-09T23:14:50.623Z"
   },
   {
    "duration": 17,
    "start_time": "2023-02-09T23:14:50.628Z"
   },
   {
    "duration": 1098124,
    "start_time": "2023-02-09T23:14:50.647Z"
   },
   {
    "duration": 6,
    "start_time": "2023-02-09T23:33:08.773Z"
   },
   {
    "duration": 80,
    "start_time": "2023-02-09T23:33:08.781Z"
   },
   {
    "duration": 6,
    "start_time": "2023-02-09T23:33:08.864Z"
   },
   {
    "duration": 9,
    "start_time": "2023-02-09T23:33:08.872Z"
   },
   {
    "duration": 3,
    "start_time": "2023-02-09T23:33:08.883Z"
   },
   {
    "duration": 229870,
    "start_time": "2023-02-09T23:33:08.888Z"
   },
   {
    "duration": 823786,
    "start_time": "2023-02-09T23:36:58.760Z"
   },
   {
    "duration": 2,
    "start_time": "2023-02-09T23:50:42.549Z"
   },
   {
    "duration": 449559,
    "start_time": "2023-02-09T23:50:42.553Z"
   },
   {
    "duration": 1171024,
    "start_time": "2023-02-09T23:58:12.114Z"
   },
   {
    "duration": 3,
    "start_time": "2023-02-10T00:17:43.139Z"
   },
   {
    "duration": 227473,
    "start_time": "2023-02-10T00:17:43.143Z"
   },
   {
    "duration": 37412,
    "start_time": "2023-02-10T00:21:30.620Z"
   },
   {
    "duration": 123093,
    "start_time": "2023-02-10T00:22:08.034Z"
   },
   {
    "duration": 761103,
    "start_time": "2023-02-10T00:24:11.133Z"
   },
   {
    "duration": 122116,
    "start_time": "2023-02-10T00:36:52.238Z"
   },
   {
    "duration": 60,
    "start_time": "2023-02-10T00:38:54.356Z"
   }
  ],
  "kernelspec": {
   "display_name": "Python 3 (ipykernel)",
   "language": "python",
   "name": "python3"
  },
  "language_info": {
   "codemirror_mode": {
    "name": "ipython",
    "version": 3
   },
   "file_extension": ".py",
   "mimetype": "text/x-python",
   "name": "python",
   "nbconvert_exporter": "python",
   "pygments_lexer": "ipython3",
   "version": "3.9.13"
  },
  "toc": {
   "base_numbering": 1,
   "nav_menu": {},
   "number_sections": true,
   "sideBar": true,
   "skip_h1_title": true,
   "title_cell": "Содержание",
   "title_sidebar": "Contents",
   "toc_cell": true,
   "toc_position": {
    "height": "calc(100% - 180px)",
    "left": "10px",
    "top": "150px",
    "width": "302.391px"
   },
   "toc_section_display": true,
   "toc_window_display": true
  }
 },
 "nbformat": 4,
 "nbformat_minor": 2
}
