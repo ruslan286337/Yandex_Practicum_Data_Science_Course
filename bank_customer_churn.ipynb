{
 "cells": [
  {
   "cell_type": "markdown",
   "metadata": {
    "toc": true
   },
   "source": [
    "<h1>Содержание<span class=\"tocSkip\"></span></h1>\n",
    "<div class=\"toc\"><ul class=\"toc-item\"><li><span><a href=\"#Введение\" data-toc-modified-id=\"Введение-1\"><span class=\"toc-item-num\">1&nbsp;&nbsp;</span>Введение</a></span></li><li><span><a href=\"#Подготовка-данных\" data-toc-modified-id=\"Подготовка-данных-2\"><span class=\"toc-item-num\">2&nbsp;&nbsp;</span>Подготовка данных</a></span></li><li><span><a href=\"#Исследование-задачи\" data-toc-modified-id=\"Исследование-задачи-3\"><span class=\"toc-item-num\">3&nbsp;&nbsp;</span>Исследование задачи</a></span></li><li><span><a href=\"#Борьба-с-дисбалансом\" data-toc-modified-id=\"Борьба-с-дисбалансом-4\"><span class=\"toc-item-num\">4&nbsp;&nbsp;</span>Борьба с дисбалансом</a></span><ul class=\"toc-item\"><li><span><a href=\"#Upsampling\" data-toc-modified-id=\"Upsampling-4.1\"><span class=\"toc-item-num\">4.1&nbsp;&nbsp;</span>Upsampling</a></span></li><li><span><a href=\"#Downsampling\" data-toc-modified-id=\"Downsampling-4.2\"><span class=\"toc-item-num\">4.2&nbsp;&nbsp;</span>Downsampling</a></span></li></ul></li><li><span><a href=\"#Тестирование-модели\" data-toc-modified-id=\"Тестирование-модели-5\"><span class=\"toc-item-num\">5&nbsp;&nbsp;</span>Тестирование модели</a></span></li><li><span><a href=\"#Вывод\" data-toc-modified-id=\"Вывод-6\"><span class=\"toc-item-num\">6&nbsp;&nbsp;</span>Вывод</a></span></li></ul></div>"
   ]
  },
  {
   "cell_type": "markdown",
   "metadata": {},
   "source": [
    "# Отток клиентов"
   ]
  },
  {
   "cell_type": "markdown",
   "metadata": {},
   "source": [
    "Из банка стали уходить клиенты. Каждый месяц. Немного, но заметно. Банковские маркетологи посчитали: сохранять текущих клиентов дешевле, чем привлекать новых.\n",
    "\n",
    "Нужно спрогнозировать, уйдёт клиент из банка в ближайшее время или нет. Вам предоставлены исторические данные о поведении клиентов и расторжении договоров с банком. \n",
    "\n",
    "Постройте модель с предельно большим значением *F1*-меры. Чтобы сдать проект успешно, нужно довести метрику до 0.59. Проверьте *F1*-меру на тестовой выборке самостоятельно.\n",
    "\n",
    "Дополнительно измеряйте *AUC-ROC*, сравнивайте её значение с *F1*-мерой.\n",
    "\n",
    "Источник данных: [https://www.kaggle.com/barelydedicated/bank-customer-churn-modeling](https://www.kaggle.com/barelydedicated/bank-customer-churn-modeling)"
   ]
  },
  {
   "cell_type": "markdown",
   "metadata": {},
   "source": [
    "## Введение"
   ]
  },
  {
   "cell_type": "markdown",
   "metadata": {},
   "source": [
    "**Подготовка данных**\n",
    "\n",
    "Сначала, подготовим данные, разделим их на обучающую и тестовую выборки, обойдемся без валидационной, потому что будем пользоваться кросс-валидацией. Также применим OHE или прямое кодирование, и масштабирование численных признаков.\n",
    "\n",
    "**Исследование задачи**\n",
    "\n",
    "Исследуем баланс классов целевого признака. После без учета дизбаланса произведем обучение различных моделей.\n",
    "\n",
    "**Борьба с дизбалансом**\n",
    "\n",
    "Применим медоты борьбы с дизбалансом: увеличение выборки, уменьшение выборки и изменение порога.\n",
    "\n",
    "**Тестирование модели**\n",
    "\n",
    "Протестируем лучшую модель на тестовой выборки, затем сравним ее адекватность со случайной моделью. Сделаем выводы."
   ]
  },
  {
   "cell_type": "code",
   "execution_count": 1,
   "metadata": {},
   "outputs": [],
   "source": [
    "import pandas as pd\n",
    "import numpy as np\n",
    "import matplotlib.pyplot as plt\n",
    "from sklearn.model_selection import train_test_split\n",
    "from sklearn.tree import DecisionTreeClassifier\n",
    "from sklearn.ensemble import RandomForestClassifier\n",
    "from sklearn.linear_model import LogisticRegression\n",
    "from sklearn.dummy import DummyClassifier\n",
    "from sklearn.model_selection import GridSearchCV\n",
    "from sklearn.preprocessing import StandardScaler\n",
    "from sklearn.model_selection import KFold\n",
    "from sklearn.utils import shuffle\n",
    "from sklearn.metrics import roc_curve, f1_score,roc_auc_score\n",
    "import warnings\n",
    "warnings.filterwarnings('ignore')"
   ]
  },
  {
   "cell_type": "markdown",
   "metadata": {},
   "source": [
    "## Подготовка данных"
   ]
  },
  {
   "cell_type": "code",
   "execution_count": 2,
   "metadata": {},
   "outputs": [],
   "source": [
    "try:\n",
    "    data = pd.read_csv('C:/datasets/Churn.csv')\n",
    "except:\n",
    "    data = pd.read_csv('/datasets/Churn.csv')"
   ]
  },
  {
   "cell_type": "code",
   "execution_count": 3,
   "metadata": {},
   "outputs": [
    {
     "data": {
      "text/html": [
       "<div>\n",
       "<style scoped>\n",
       "    .dataframe tbody tr th:only-of-type {\n",
       "        vertical-align: middle;\n",
       "    }\n",
       "\n",
       "    .dataframe tbody tr th {\n",
       "        vertical-align: top;\n",
       "    }\n",
       "\n",
       "    .dataframe thead th {\n",
       "        text-align: right;\n",
       "    }\n",
       "</style>\n",
       "<table border=\"1\" class=\"dataframe\">\n",
       "  <thead>\n",
       "    <tr style=\"text-align: right;\">\n",
       "      <th></th>\n",
       "      <th>RowNumber</th>\n",
       "      <th>CustomerId</th>\n",
       "      <th>Surname</th>\n",
       "      <th>CreditScore</th>\n",
       "      <th>Geography</th>\n",
       "      <th>Gender</th>\n",
       "      <th>Age</th>\n",
       "      <th>Tenure</th>\n",
       "      <th>Balance</th>\n",
       "      <th>NumOfProducts</th>\n",
       "      <th>HasCrCard</th>\n",
       "      <th>IsActiveMember</th>\n",
       "      <th>EstimatedSalary</th>\n",
       "      <th>Exited</th>\n",
       "    </tr>\n",
       "  </thead>\n",
       "  <tbody>\n",
       "    <tr>\n",
       "      <th>0</th>\n",
       "      <td>1</td>\n",
       "      <td>15634602</td>\n",
       "      <td>Hargrave</td>\n",
       "      <td>619</td>\n",
       "      <td>France</td>\n",
       "      <td>Female</td>\n",
       "      <td>42</td>\n",
       "      <td>2.0</td>\n",
       "      <td>0.00</td>\n",
       "      <td>1</td>\n",
       "      <td>1</td>\n",
       "      <td>1</td>\n",
       "      <td>101348.88</td>\n",
       "      <td>1</td>\n",
       "    </tr>\n",
       "    <tr>\n",
       "      <th>1</th>\n",
       "      <td>2</td>\n",
       "      <td>15647311</td>\n",
       "      <td>Hill</td>\n",
       "      <td>608</td>\n",
       "      <td>Spain</td>\n",
       "      <td>Female</td>\n",
       "      <td>41</td>\n",
       "      <td>1.0</td>\n",
       "      <td>83807.86</td>\n",
       "      <td>1</td>\n",
       "      <td>0</td>\n",
       "      <td>1</td>\n",
       "      <td>112542.58</td>\n",
       "      <td>0</td>\n",
       "    </tr>\n",
       "    <tr>\n",
       "      <th>2</th>\n",
       "      <td>3</td>\n",
       "      <td>15619304</td>\n",
       "      <td>Onio</td>\n",
       "      <td>502</td>\n",
       "      <td>France</td>\n",
       "      <td>Female</td>\n",
       "      <td>42</td>\n",
       "      <td>8.0</td>\n",
       "      <td>159660.80</td>\n",
       "      <td>3</td>\n",
       "      <td>1</td>\n",
       "      <td>0</td>\n",
       "      <td>113931.57</td>\n",
       "      <td>1</td>\n",
       "    </tr>\n",
       "    <tr>\n",
       "      <th>3</th>\n",
       "      <td>4</td>\n",
       "      <td>15701354</td>\n",
       "      <td>Boni</td>\n",
       "      <td>699</td>\n",
       "      <td>France</td>\n",
       "      <td>Female</td>\n",
       "      <td>39</td>\n",
       "      <td>1.0</td>\n",
       "      <td>0.00</td>\n",
       "      <td>2</td>\n",
       "      <td>0</td>\n",
       "      <td>0</td>\n",
       "      <td>93826.63</td>\n",
       "      <td>0</td>\n",
       "    </tr>\n",
       "    <tr>\n",
       "      <th>4</th>\n",
       "      <td>5</td>\n",
       "      <td>15737888</td>\n",
       "      <td>Mitchell</td>\n",
       "      <td>850</td>\n",
       "      <td>Spain</td>\n",
       "      <td>Female</td>\n",
       "      <td>43</td>\n",
       "      <td>2.0</td>\n",
       "      <td>125510.82</td>\n",
       "      <td>1</td>\n",
       "      <td>1</td>\n",
       "      <td>1</td>\n",
       "      <td>79084.10</td>\n",
       "      <td>0</td>\n",
       "    </tr>\n",
       "  </tbody>\n",
       "</table>\n",
       "</div>"
      ],
      "text/plain": [
       "   RowNumber  CustomerId   Surname  CreditScore Geography  Gender  Age  \\\n",
       "0          1    15634602  Hargrave          619    France  Female   42   \n",
       "1          2    15647311      Hill          608     Spain  Female   41   \n",
       "2          3    15619304      Onio          502    France  Female   42   \n",
       "3          4    15701354      Boni          699    France  Female   39   \n",
       "4          5    15737888  Mitchell          850     Spain  Female   43   \n",
       "\n",
       "   Tenure    Balance  NumOfProducts  HasCrCard  IsActiveMember  \\\n",
       "0     2.0       0.00              1          1               1   \n",
       "1     1.0   83807.86              1          0               1   \n",
       "2     8.0  159660.80              3          1               0   \n",
       "3     1.0       0.00              2          0               0   \n",
       "4     2.0  125510.82              1          1               1   \n",
       "\n",
       "   EstimatedSalary  Exited  \n",
       "0        101348.88       1  \n",
       "1        112542.58       0  \n",
       "2        113931.57       1  \n",
       "3         93826.63       0  \n",
       "4         79084.10       0  "
      ]
     },
     "execution_count": 3,
     "metadata": {},
     "output_type": "execute_result"
    }
   ],
   "source": [
    "data.head()"
   ]
  },
  {
   "cell_type": "code",
   "execution_count": 4,
   "metadata": {},
   "outputs": [
    {
     "name": "stdout",
     "output_type": "stream",
     "text": [
      "<class 'pandas.core.frame.DataFrame'>\n",
      "RangeIndex: 10000 entries, 0 to 9999\n",
      "Data columns (total 14 columns):\n",
      " #   Column           Non-Null Count  Dtype  \n",
      "---  ------           --------------  -----  \n",
      " 0   RowNumber        10000 non-null  int64  \n",
      " 1   CustomerId       10000 non-null  int64  \n",
      " 2   Surname          10000 non-null  object \n",
      " 3   CreditScore      10000 non-null  int64  \n",
      " 4   Geography        10000 non-null  object \n",
      " 5   Gender           10000 non-null  object \n",
      " 6   Age              10000 non-null  int64  \n",
      " 7   Tenure           9091 non-null   float64\n",
      " 8   Balance          10000 non-null  float64\n",
      " 9   NumOfProducts    10000 non-null  int64  \n",
      " 10  HasCrCard        10000 non-null  int64  \n",
      " 11  IsActiveMember   10000 non-null  int64  \n",
      " 12  EstimatedSalary  10000 non-null  float64\n",
      " 13  Exited           10000 non-null  int64  \n",
      "dtypes: float64(3), int64(8), object(3)\n",
      "memory usage: 1.1+ MB\n"
     ]
    }
   ],
   "source": [
    "data.info()"
   ]
  },
  {
   "cell_type": "code",
   "execution_count": 5,
   "metadata": {},
   "outputs": [
    {
     "data": {
      "text/plain": [
       "RowNumber            0\n",
       "CustomerId           0\n",
       "Surname              0\n",
       "CreditScore          0\n",
       "Geography            0\n",
       "Gender               0\n",
       "Age                  0\n",
       "Tenure             909\n",
       "Balance              0\n",
       "NumOfProducts        0\n",
       "HasCrCard            0\n",
       "IsActiveMember       0\n",
       "EstimatedSalary      0\n",
       "Exited               0\n",
       "dtype: int64"
      ]
     },
     "execution_count": 5,
     "metadata": {},
     "output_type": "execute_result"
    }
   ],
   "source": [
    "data.isna().sum()"
   ]
  },
  {
   "cell_type": "markdown",
   "metadata": {},
   "source": [
    "<div class=\"alert alert-block alert-info\">\n",
    "<b>Комментарий студента:</b> Как мы видим в столбце Tenure есть пропуски, столбец количественный, значит необходимо пропуски обработать: удалить весь столбец или все строки с пропусками.Столбец лучше всего оставить, по моему мнению, это ценный признак.\n",
    "\n",
    "При формировании данных **features** мы исключим участие столбцов **RowNumber**, **RowNumber** и **Surname**, так как это не признаки, а всего лишь идентификационная информация.\n",
    "</div>\n",
    "\n",
    "\n"
   ]
  },
  {
   "cell_type": "code",
   "execution_count": 7,
   "metadata": {},
   "outputs": [
    {
     "data": {
      "text/plain": [
       "dtype('O')"
      ]
     },
     "execution_count": 7,
     "metadata": {},
     "output_type": "execute_result"
    }
   ],
   "source": [
    "data['Tenure'].fillna(-1, inplace=True)\n",
    "data['Tenure'] = data['Tenure'].astype('object')\n",
    "data['Tenure'].dtypes"
   ]
  },
  {
   "cell_type": "markdown",
   "metadata": {},
   "source": [
    "<div class=\"alert alert-block alert-info\">\n",
    "<b>Изменения:</b> Я решил применить 2 вариант, так как в данных уже есть новые клиенты со значением \"0\", поэтому я посчитал странным, что NaN могли быть неучтенные новые пользователи. 2 Вариант показался мне более правильным. \n",
    "</div>"
   ]
  },
  {
   "cell_type": "code",
   "execution_count": 8,
   "metadata": {},
   "outputs": [
    {
     "name": "stdout",
     "output_type": "stream",
     "text": [
      "Размер данных признаков: (10000, 21)\n",
      "Размер данных целевого признака: (10000,)\n"
     ]
    }
   ],
   "source": [
    "data_ohe = pd.get_dummies(data.drop(['RowNumber','CustomerId','Surname'], axis=1), drop_first=True)\n",
    "target = data_ohe['Exited']\n",
    "features = data_ohe.drop(['Exited'], axis=1)\n",
    "print('Размер данных признаков:', features.shape)\n",
    "print('Размер данных целевого признака:', target.shape)"
   ]
  },
  {
   "cell_type": "markdown",
   "metadata": {},
   "source": [
    "<div class=\"alert alert-block alert-info\">\n",
    "<b>Комментарий студента:</b> Масштабирование численных признаков.\n",
    "</div>"
   ]
  },
  {
   "cell_type": "markdown",
   "metadata": {},
   "source": [
    "<div class=\"alert alert-block alert-info\">\n",
    "<b>Комментарий студента:</b> Разделение данных на обучающую и тестовую выборки.\n",
    "</div>"
   ]
  },
  {
   "cell_type": "code",
   "execution_count": 10,
   "metadata": {},
   "outputs": [
    {
     "name": "stdout",
     "output_type": "stream",
     "text": [
      "Общий размер: (10000, 21) (10000,) \n",
      "Размер тренировочной выборки: (8000, 21) (8000,) \n",
      "Размер тестовой выборки: (2000, 21) (2000,)\n"
     ]
    }
   ],
   "source": [
    "features_train, features_test, target_train, target_test, = train_test_split(features,target, train_size=0.8, random_state=12345, stratify = target)\n",
    "features_train.reset_index(drop=True, inplace=True)\n",
    "target_train.reset_index(drop=True, inplace=True)\n",
    "features_test.reset_index(drop=True, inplace=True)\n",
    "target_test.reset_index(drop=True, inplace=True)\n",
    "print('Общий размер:', features.shape, target.shape, \n",
    "      '\\nРазмер тренировочной выборки:', features_train.shape, target_train.shape,\n",
    "      '\\nРазмер тестовой выборки:', features_test.shape, target_test.shape)"
   ]
  },
  {
   "cell_type": "code",
   "execution_count": 11,
   "metadata": {},
   "outputs": [],
   "source": [
    "numeric = ['CreditScore', 'Age','NumOfProducts', 'Balance', 'EstimatedSalary']\n",
    "scaler = StandardScaler()\n",
    "scaler.fit(features_train[numeric])\n",
    "features_train[numeric] = scaler.transform(features_train[numeric])\n",
    "features_test[numeric] = scaler.transform(features_test[numeric])"
   ]
  },
  {
   "cell_type": "markdown",
   "metadata": {},
   "source": [
    "<div class=\"alert alert-block alert-info\">\n",
    "<b>Изменения:</b> Масштабирование после разделение данных\n",
    "</div>"
   ]
  },
  {
   "cell_type": "markdown",
   "metadata": {},
   "source": [
    "## Исследование задачи"
   ]
  },
  {
   "cell_type": "code",
   "execution_count": 12,
   "metadata": {},
   "outputs": [
    {
     "data": {
      "text/plain": [
       "0    7963\n",
       "1    2037\n",
       "Name: Exited, dtype: int64"
      ]
     },
     "execution_count": 12,
     "metadata": {},
     "output_type": "execute_result"
    }
   ],
   "source": [
    "target.value_counts()"
   ]
  },
  {
   "cell_type": "code",
   "execution_count": 13,
   "metadata": {},
   "outputs": [
    {
     "name": "stdout",
     "output_type": "stream",
     "text": [
      "Отношение классов целевого признака: 3.9079754601226995\n"
     ]
    }
   ],
   "source": [
    "print('Отношение классов целевого признака:',target_train[target_train == 0].shape[0]\n",
    "      /target_train[target_train == 1].shape[0])"
   ]
  },
  {
   "cell_type": "markdown",
   "metadata": {},
   "source": [
    "<div class=\"alert alert-block alert-info\">\n",
    "<b>Комментарий студента:</b> Дизбаланс между классами целевого объекта почти в 4 раза.\n",
    "</div>"
   ]
  },
  {
   "cell_type": "code",
   "execution_count": 14,
   "metadata": {},
   "outputs": [],
   "source": [
    "kf = KFold(n_splits=5, shuffle=False)"
   ]
  },
  {
   "cell_type": "code",
   "execution_count": 15,
   "metadata": {},
   "outputs": [
    {
     "name": "stdout",
     "output_type": "stream",
     "text": [
      "F1: 0.5699794201621936\n",
      "Параметры модели дерева решений: {'max_depth': 7, 'min_samples_leaf': 7, 'min_samples_split': 2}\n"
     ]
    }
   ],
   "source": [
    "model_tree = DecisionTreeClassifier(random_state=12345)\n",
    "parametrs = {'max_depth': range (1,10),\n",
    "             'min_samples_leaf': range (1,8),\n",
    "             'min_samples_split': range (1,8) }\n",
    "grid_tree = GridSearchCV(model_tree, parametrs, cv=kf, scoring = 'f1', n_jobs=-1)\n",
    "grid_tree.fit(features_train, target_train)\n",
    "print(\"F1:\", grid_tree.best_score_)\n",
    "print(\"Параметры модели дерева решений:\", grid_tree.best_params_)"
   ]
  },
  {
   "cell_type": "code",
   "execution_count": 16,
   "metadata": {},
   "outputs": [
    {
     "name": "stdout",
     "output_type": "stream",
     "text": [
      "F1: 0.3220776060946398\n",
      "Параметры модели логистическая регрессия: {'max_iter': 100, 'solver': 'liblinear'}\n"
     ]
    }
   ],
   "source": [
    "model_logistic_reg = LogisticRegression(random_state=12345)\n",
    "parametrs_logistic = {'max_iter': range(100,2001,100),\n",
    "                     'solver': ['lbfgs','liblinear']}\n",
    "grid_logistic = GridSearchCV(model_logistic_reg, parametrs_logistic, cv=kf, scoring = 'f1', n_jobs=-1)\n",
    "grid_logistic.fit(features_train, target_train)\n",
    "print(\"F1:\", grid_logistic.best_score_)\n",
    "print(\"Параметры модели логистическая регрессия:\", grid_logistic.best_params_)"
   ]
  },
  {
   "cell_type": "code",
   "execution_count": 17,
   "metadata": {},
   "outputs": [
    {
     "name": "stdout",
     "output_type": "stream",
     "text": [
      "F1: 0.530924502938025\n",
      "Параметры модели лес: {'max_depth': 9, 'n_estimators': 90}\n"
     ]
    }
   ],
   "source": [
    "model_forest =  RandomForestClassifier(random_state=12345)\n",
    "parametrs_forest = {'n_estimators': range (10, 101, 10),\n",
    "                    'max_depth': range (1, 10)}\n",
    "grid_forest = GridSearchCV(model_forest, parametrs_forest, cv=kf, scoring = 'f1', n_jobs=-1)\n",
    "grid_forest.fit(features_train, target_train)\n",
    "print(\"F1:\", grid_forest.best_score_)\n",
    "print(\"Параметры модели лес:\", grid_forest.best_params_)"
   ]
  },
  {
   "cell_type": "markdown",
   "metadata": {},
   "source": [
    "<div class=\"alert alert-block alert-info\">\n",
    "<b>Комментарий студента:</b> Как можно заметить, даже с кросс-валидацией, ни одна модель не смогла перейти порог F1 метрики в 0.59.\n",
    "</div>"
   ]
  },
  {
   "cell_type": "markdown",
   "metadata": {},
   "source": [
    "## Борьба с дисбалансом"
   ]
  },
  {
   "cell_type": "markdown",
   "metadata": {},
   "source": [
    "### Upsampling"
   ]
  },
  {
   "cell_type": "markdown",
   "metadata": {},
   "source": [
    "<div class=\"alert alert-block alert-info\">\n",
    "<b>Комментарий студента:</b> Будем увеличивать выборку, а именно продублируем и перемешаем данные с наименьшим по количествую классом.\n",
    "</div>"
   ]
  },
  {
   "cell_type": "code",
   "execution_count": 18,
   "metadata": {},
   "outputs": [],
   "source": [
    "def upsample(features, target, repeat):\n",
    "    features_zeros = features[target == 0]\n",
    "    features_ones = features[target == 1]\n",
    "    target_zeros = target[target == 0]\n",
    "    target_ones = target[target == 1]\n",
    "\n",
    "    features_upsampled = pd.concat([features_zeros] + [features_ones] * repeat)\n",
    "    target_upsampled = pd.concat([target_zeros] + [target_ones] * repeat)\n",
    "    \n",
    "    features_upsampled, target_upsampled = shuffle(\n",
    "        features_upsampled, target_upsampled, random_state=12345)\n",
    "    \n",
    "    return features_upsampled, target_upsampled\n"
   ]
  },
  {
   "cell_type": "code",
   "execution_count": 19,
   "metadata": {},
   "outputs": [],
   "source": [
    "def score_model_upsample(model, params, repeat, features_train, target_train, cv=None):\n",
    "    if cv is None:\n",
    "        cv =  KFold(n_splits=5, shuffle=False)\n",
    "        \n",
    "    scores = []\n",
    "    for train_fold_index, val_fold_index in cv.split(features_train, target_train):\n",
    "        # Get the training data\n",
    "        features_train_fold, target_train_fold = features_train.iloc[train_fold_index], target_train[train_fold_index]\n",
    "        # Get the validation data\n",
    "        features_val_fold, target_val_fold = features_train.iloc[val_fold_index], target_train[val_fold_index]\n",
    "\n",
    "        # Upsample only the data in the training section\n",
    "        features_train_fold_upsample, target_train_fold_upsample = upsample(features_train_fold, target_train_fold,repeat)\n",
    "        # Fit the model on the upsampled training data\n",
    "        model_obj = model(**params).fit(features_train_fold_upsample, target_train_fold_upsample)\n",
    "        # Score the model on the (non-upsampled) validation data\n",
    "        score = f1_score(target_val_fold, model_obj.predict(features_val_fold))\n",
    "        scores.append(score)\n",
    "    return np.array(scores)"
   ]
  },
  {
   "cell_type": "code",
   "execution_count": 20,
   "metadata": {},
   "outputs": [],
   "source": [
    "repeat = 3"
   ]
  },
  {
   "cell_type": "markdown",
   "metadata": {},
   "source": [
    "<div class=\"alert alert-block alert-info\">\n",
    "<b>Комментарий студента:</b> Так как выборка в отличается в 4 раза, для рановесия классов логичнее умножать на 4, но так мы можем переборщить с повторами, лучше всего увеличивать в 3 раза, так лучше значения F1 меры.\n",
    "</div>"
   ]
  },
  {
   "cell_type": "code",
   "execution_count": 21,
   "metadata": {},
   "outputs": [
    {
     "data": {
      "text/plain": [
       "{'max_depth': 7,\n",
       " 'min_samples_leaf': 7,\n",
       " 'min_samples_split': 2,\n",
       " 'random_state': 12345,\n",
       " 'f1': 0.5775387308957038}"
      ]
     },
     "execution_count": 21,
     "metadata": {},
     "output_type": "execute_result"
    }
   ],
   "source": [
    "score_tracker_tree = []\n",
    "for max_depth in range(1,10):\n",
    "    for min_samples_leaf in range(1,8):\n",
    "        for min_samples_split in  range(2,8):\n",
    "            example_params = {'max_depth': max_depth,\n",
    "                              'min_samples_leaf': min_samples_leaf,\n",
    "                              'min_samples_split': min_samples_split,\n",
    "                              'random_state': 12345\n",
    "                             }\n",
    "            example_params['f1'] = score_model_upsample(DecisionTreeClassifier, example_params, repeat, \n",
    "                                               features_train,target_train,kf).mean()\n",
    "            score_tracker_tree.append(example_params)\n",
    "sorted(score_tracker_tree, key=lambda x: x['f1'], reverse=True)[0]"
   ]
  },
  {
   "cell_type": "code",
   "execution_count": 22,
   "metadata": {},
   "outputs": [
    {
     "data": {
      "text/plain": [
       "{'max_iter': 100, 'solver': 'lbfgs', 'f1': 0.4939070425637633}"
      ]
     },
     "execution_count": 22,
     "metadata": {},
     "output_type": "execute_result"
    }
   ],
   "source": [
    "score_tracker_logistic = []\n",
    "for max_iter in range(100,2001,100):\n",
    "    for solver in ['lbfgs','liblinear']:\n",
    "        example_params = {'max_iter': max_iter,\n",
    "                          'solver': solver}\n",
    "        example_params['f1'] = score_model_upsample(LogisticRegression, example_params, repeat, \n",
    "                                               features_train,target_train,kf).mean()\n",
    "        score_tracker_logistic.append(example_params)\n",
    "sorted(score_tracker_logistic, key=lambda x: x['f1'], reverse=True)[0]"
   ]
  },
  {
   "cell_type": "code",
   "execution_count": 23,
   "metadata": {},
   "outputs": [
    {
     "data": {
      "text/plain": [
       "{'n_estimators': 260,\n",
       " 'max_depth': 10,\n",
       " 'random_state': 12345,\n",
       " 'f1': 0.6204754779103586}"
      ]
     },
     "execution_count": 23,
     "metadata": {},
     "output_type": "execute_result"
    }
   ],
   "source": [
    "score_tracker_forest = []\n",
    "for n_estimators in range (10, 311, 50):\n",
    "    for max_depth in range (1, 13):\n",
    "        example_params = {'n_estimators': n_estimators,\n",
    "                          'max_depth': max_depth,\n",
    "                          'random_state': 12345}\n",
    "        example_params['f1'] = score_model_upsample(RandomForestClassifier, example_params, repeat, \n",
    "                                               features_train,target_train,kf).mean()\n",
    "        score_tracker_forest.append(example_params)\n",
    "sorted(score_tracker_forest, key=lambda x: x['f1'], reverse=True)[0]"
   ]
  },
  {
   "cell_type": "markdown",
   "metadata": {},
   "source": [
    "<div class=\"alert alert-block alert-info\">\n",
    "<b>Комментарий студента:</b> Лидирует случайный лес, при этом он единственный и преодолел порог в значение 0.59.\n",
    "</div>"
   ]
  },
  {
   "cell_type": "markdown",
   "metadata": {},
   "source": [
    "### Downsampling"
   ]
  },
  {
   "cell_type": "markdown",
   "metadata": {},
   "source": [
    "<div class=\"alert alert-block alert-info\">\n",
    "<b>Комментарий студента:</b> Будем уменьшать выборку, а именно ту часть, где классы встречаются чаще.\n",
    "</div>"
   ]
  },
  {
   "cell_type": "code",
   "execution_count": 24,
   "metadata": {},
   "outputs": [],
   "source": [
    "def downsample(features, target, fraction):\n",
    "    features_zeros = features[target == 0]\n",
    "    features_ones = features[target == 1]\n",
    "    target_zeros = target[target == 0]\n",
    "    target_ones = target[target == 1]\n",
    "\n",
    "    features_downsampled = pd.concat(\n",
    "        [features_zeros.sample(frac=fraction, random_state=12345)] + [features_ones])\n",
    "    target_downsampled = pd.concat(\n",
    "        [target_zeros.sample(frac=fraction, random_state=12345)] + [target_ones])\n",
    "    \n",
    "    features_downsampled, target_downsampled = shuffle(\n",
    "        features_downsampled, target_downsampled, random_state=12345)\n",
    "    \n",
    "    return features_downsampled, target_downsampled"
   ]
  },
  {
   "cell_type": "code",
   "execution_count": 25,
   "metadata": {},
   "outputs": [],
   "source": [
    "def score_model_downsample(model, params, frac, features_train, target_train, cv=None):\n",
    "\n",
    "    if cv is None:\n",
    "        cv =  KFold(n_splits=5, shuffle=False)\n",
    "        \n",
    "    scores = []\n",
    "\n",
    "    for train_fold_index, val_fold_index in cv.split(features_train, target_train):\n",
    "        # Get the training data\n",
    "        features_train_fold, target_train_fold = features_train.iloc[train_fold_index], target_train[train_fold_index]\n",
    "        # Get the validation data\n",
    "        features_val_fold, target_val_fold = features_train.iloc[val_fold_index], target_train[val_fold_index]\n",
    "\n",
    "        # Upsample only the data in the training section\n",
    "        features_train_fold_upsample, target_train_fold_upsample = downsample(features_train_fold, target_train_fold,frac)\n",
    "        # Fit the model on the upsampled training data\n",
    "        model_obj = model(**params).fit(features_train_fold_upsample, target_train_fold_upsample)\n",
    "        # Score the model on the (non-upsampled) validation data\n",
    "        score = f1_score(target_val_fold, model_obj.predict(features_val_fold))\n",
    "        scores.append(score)\n",
    "    return np.array(scores)"
   ]
  },
  {
   "cell_type": "code",
   "execution_count": 26,
   "metadata": {},
   "outputs": [],
   "source": [
    "frac=0.33"
   ]
  },
  {
   "cell_type": "code",
   "execution_count": 27,
   "metadata": {},
   "outputs": [
    {
     "data": {
      "text/plain": [
       "{'max_depth': 6,\n",
       " 'min_samples_leaf': 3,\n",
       " 'min_samples_split': 2,\n",
       " 'random_state': 12345,\n",
       " 'f1': 0.5760085036048446}"
      ]
     },
     "execution_count": 27,
     "metadata": {},
     "output_type": "execute_result"
    }
   ],
   "source": [
    "score_tracker_tree = []\n",
    "for max_depth in range(1,10):\n",
    "    for min_samples_leaf in range(1,8):\n",
    "        for min_samples_split in  range(2,8):\n",
    "            example_params = {'max_depth': max_depth,\n",
    "                              'min_samples_leaf': min_samples_leaf,\n",
    "                              'min_samples_split': min_samples_split,\n",
    "                              'random_state': 12345\n",
    "                             }\n",
    "            example_params['f1'] = score_model_downsample(DecisionTreeClassifier, example_params, frac, \n",
    "                                               features_train,target_train,kf).mean()\n",
    "            score_tracker_tree.append(example_params)\n",
    "sorted(score_tracker_tree, key=lambda x: x['f1'], reverse=True)[0]"
   ]
  },
  {
   "cell_type": "code",
   "execution_count": 28,
   "metadata": {},
   "outputs": [
    {
     "data": {
      "text/plain": [
       "{'max_iter': 100, 'solver': 'lbfgs', 'f1': 0.49485236374457314}"
      ]
     },
     "execution_count": 28,
     "metadata": {},
     "output_type": "execute_result"
    }
   ],
   "source": [
    "score_tracker_logistic = []\n",
    "for max_iter in range(100,2001,100):\n",
    "    for solver in ['lbfgs','liblinear']:\n",
    "        example_params = {'max_iter': max_iter,\n",
    "                          'solver': solver}\n",
    "        example_params['f1'] = score_model_downsample(LogisticRegression, example_params, frac, \n",
    "                                               features_train,target_train,kf).mean()\n",
    "        score_tracker_logistic.append(example_params)\n",
    "sorted(score_tracker_logistic, key=lambda x: x['f1'], reverse=True)[0]"
   ]
  },
  {
   "cell_type": "code",
   "execution_count": 29,
   "metadata": {},
   "outputs": [
    {
     "data": {
      "text/plain": [
       "{'n_estimators': 70,\n",
       " 'max_depth': 8,\n",
       " 'random_state': 12345,\n",
       " 'f1': 0.6056404328798984}"
      ]
     },
     "execution_count": 29,
     "metadata": {},
     "output_type": "execute_result"
    }
   ],
   "source": [
    "score_tracker_forest = []\n",
    "for n_estimators in range (10, 101, 10):\n",
    "    for max_depth in range (1, 10):\n",
    "        example_params = {'n_estimators': n_estimators,\n",
    "                          'max_depth': max_depth,\n",
    "                          'random_state': 12345}\n",
    "        example_params['f1'] = score_model_downsample(RandomForestClassifier, example_params, frac, \n",
    "                                               features_train,target_train,kf).mean()\n",
    "        score_tracker_forest.append(example_params)\n",
    "sorted(score_tracker_forest, key=lambda x: x['f1'], reverse=True)[0]"
   ]
  },
  {
   "cell_type": "markdown",
   "metadata": {},
   "source": [
    "<div class=\"alert alert-block alert-info\">\n",
    "<b>Комментарий студента:</b> Аналогично, с предыдущим пунктом лучший показателей у случайного леса, однако в целом по всем моделя метрика F1 ниже, в сравнении с методом upsampling.\n",
    "</div> "
   ]
  },
  {
   "cell_type": "markdown",
   "metadata": {},
   "source": [
    "## Тестирование модели"
   ]
  },
  {
   "cell_type": "markdown",
   "metadata": {},
   "source": [
    "<div class=\"alert alert-block alert-info\">\n",
    "<b>Комментарий студента:</b> Выбираем модель случайного леса, обученную с помощью upsamling, с параметрами: n_estimators: 260, max_depth: 10, random_state: 12345.\n",
    "</div> "
   ]
  },
  {
   "cell_type": "code",
   "execution_count": 30,
   "metadata": {},
   "outputs": [
    {
     "data": {
      "text/plain": [
       "0.6467065868263473"
      ]
     },
     "execution_count": 30,
     "metadata": {},
     "output_type": "execute_result"
    }
   ],
   "source": [
    "best_model = RandomForestClassifier(n_estimators=260, max_depth=10, random_state=12345)\n",
    "features_train_upsample, target_train_upsample = upsample(features_train, target_train, repeat)\n",
    "best_model.fit(features_train_upsample,target_train_upsample)\n",
    "f1_score(target_test, best_model.predict(features_test))"
   ]
  },
  {
   "cell_type": "markdown",
   "metadata": {},
   "source": [
    "<div class=\"alert alert-block alert-info\">\n",
    "<b>Комментарий студента:</b> F1 метрика на тестовой выборке соответствует условию задачи.\n",
    "</div> "
   ]
  },
  {
   "cell_type": "code",
   "execution_count": 31,
   "metadata": {
    "scrolled": false
   },
   "outputs": [
    {
     "data": {
      "image/png": "[encoded data removed]",
      "text/plain": [
       "<Figure size 720x576 with 1 Axes>"
      ]
     },
     "metadata": {
      "needs_background": "light"
     },
     "output_type": "display_data"
    }
   ],
   "source": [
    "probabilities_test = best_model.predict_proba(features_test)\n",
    "probabilities_one_test = probabilities_test[:, 1]\n",
    "fpr, tpr, thresholds = roc_curve(target_test, probabilities_one_test) \n",
    "plt.figure(figsize=(10,8))\n",
    "plt.plot(fpr,tpr,color='black')\n",
    "plt.plot([0, 1], [0, 1], linestyle='--', color='red')\n",
    "plt.grid(visible=True)\n",
    "plt.xlim([0,1])\n",
    "plt.ylim([0,1])\n",
    "plt.xlabel(\"False Positive Rate\")\n",
    "plt.ylabel(\"True Positive Rate\")\n",
    "plt.title(\"ROC-кривая\")\n",
    "plt.show()"
   ]
  },
  {
   "cell_type": "code",
   "execution_count": 32,
   "metadata": {},
   "outputs": [
    {
     "name": "stdout",
     "output_type": "stream",
     "text": [
      "Площадь под графиком (AUC-ROC): 0.8686313432076145\n"
     ]
    }
   ],
   "source": [
    "print('Площадь под графиком (AUC-ROC):',roc_auc_score(target_test,probabilities_one_test))"
   ]
  },
  {
   "cell_type": "markdown",
   "metadata": {},
   "source": [
    "<div class=\"alert alert-block alert-info\">\n",
    "<b>Комментарий студента:</b> Показатель AUC-ROC выше, чем у случайной модели, что показывает качественнность полученной.\n",
    "</div> "
   ]
  },
  {
   "cell_type": "markdown",
   "metadata": {},
   "source": [
    "## Вывод"
   ]
  },
  {
   "cell_type": "markdown",
   "metadata": {},
   "source": [
    "Задача по поиску модели, которая бы предсказывала клиентов, которые потенциально могут уйти, выполнена. Полученная модель на тестостой выборке имеет показатели F1 меры, которые укладываются в заданные. Касательно проделанной работы могу отметить, что без балансировки данных очень тяжело. Ни одна модель не смогла перейти порог F1 меры в 0.59. Поэтому борьба с дисбалансом оказалась важной составляющей. Пусть и с ней не все модели смогли преодолеть порог, но модель случайного леса показала себя хорошо, как при **upsamling**, так и при **downsampling**, но в первом случае лучше, поэтому и была выбрана. График **ROC-кривой** дополнительно подтверждает работоспособность модели.  "
   ]
  },
  {
   "cell_type": "code",
   "execution_count": null,
   "metadata": {},
   "outputs": [],
   "source": []
  }
 ],
 "metadata": {
  "ExecuteTimeLog": [
   {
    "duration": 422,
    "start_time": "2022-11-09T12:57:20.369Z"
   },
   {
    "duration": 697,
    "start_time": "2022-11-09T12:57:27.826Z"
   },
   {
    "duration": 65,
    "start_time": "2022-11-09T12:58:17.370Z"
   },
   {
    "duration": 165,
    "start_time": "2022-11-09T12:58:22.726Z"
   },
   {
    "duration": 19,
    "start_time": "2022-11-09T12:58:32.304Z"
   },
   {
    "duration": 12,
    "start_time": "2022-11-09T12:59:14.229Z"
   },
   {
    "duration": 7,
    "start_time": "2022-11-09T12:59:25.665Z"
   },
   {
    "duration": 62,
    "start_time": "2022-11-09T13:05:53.338Z"
   },
   {
    "duration": 12,
    "start_time": "2022-11-09T13:05:53.821Z"
   },
   {
    "duration": 59,
    "start_time": "2022-11-09T13:06:23.996Z"
   },
   {
    "duration": 12,
    "start_time": "2022-11-09T13:06:24.285Z"
   },
   {
    "duration": 238,
    "start_time": "2022-11-09T13:11:40.518Z"
   },
   {
    "duration": 194,
    "start_time": "2022-11-09T13:12:42.519Z"
   },
   {
    "duration": 191,
    "start_time": "2022-11-09T13:13:27.907Z"
   },
   {
    "duration": 810,
    "start_time": "2022-11-09T13:15:14.856Z"
   },
   {
    "duration": 19,
    "start_time": "2022-11-09T13:15:46.270Z"
   },
   {
    "duration": 31,
    "start_time": "2022-11-09T13:16:02.891Z"
   },
   {
    "duration": 16,
    "start_time": "2022-11-09T13:16:14.481Z"
   },
   {
    "duration": 13,
    "start_time": "2022-11-09T13:16:18.022Z"
   },
   {
    "duration": 12,
    "start_time": "2022-11-09T13:16:37.602Z"
   },
   {
    "duration": 11,
    "start_time": "2022-11-09T13:16:48.270Z"
   },
   {
    "duration": 18,
    "start_time": "2022-11-09T13:17:23.798Z"
   },
   {
    "duration": 1024,
    "start_time": "2022-11-09T13:17:33.785Z"
   },
   {
    "duration": 61,
    "start_time": "2022-11-09T13:17:34.811Z"
   },
   {
    "duration": 19,
    "start_time": "2022-11-09T13:17:34.873Z"
   },
   {
    "duration": 16,
    "start_time": "2022-11-09T13:17:34.894Z"
   },
   {
    "duration": 7,
    "start_time": "2022-11-09T13:17:34.911Z"
   },
   {
    "duration": 22,
    "start_time": "2022-11-09T13:17:34.919Z"
   },
   {
    "duration": 4,
    "start_time": "2022-11-09T13:20:20.666Z"
   },
   {
    "duration": 10,
    "start_time": "2022-11-09T13:22:14.195Z"
   },
   {
    "duration": 19,
    "start_time": "2022-11-09T13:23:26.078Z"
   },
   {
    "duration": 25,
    "start_time": "2022-11-09T13:23:36.698Z"
   },
   {
    "duration": 1065,
    "start_time": "2022-11-09T13:24:06.039Z"
   },
   {
    "duration": 56,
    "start_time": "2022-11-09T13:24:07.105Z"
   },
   {
    "duration": 17,
    "start_time": "2022-11-09T13:24:07.165Z"
   },
   {
    "duration": 18,
    "start_time": "2022-11-09T13:24:07.183Z"
   },
   {
    "duration": 6,
    "start_time": "2022-11-09T13:24:07.202Z"
   },
   {
    "duration": 13,
    "start_time": "2022-11-09T13:24:07.210Z"
   },
   {
    "duration": 28,
    "start_time": "2022-11-09T13:24:07.225Z"
   },
   {
    "duration": 19,
    "start_time": "2022-11-09T13:24:07.255Z"
   },
   {
    "duration": 9,
    "start_time": "2022-11-09T13:29:12.500Z"
   },
   {
    "duration": 6,
    "start_time": "2022-11-09T13:29:40.163Z"
   },
   {
    "duration": 96,
    "start_time": "2022-11-09T13:41:49.807Z"
   },
   {
    "duration": 8,
    "start_time": "2022-11-09T13:43:45.712Z"
   },
   {
    "duration": 1085,
    "start_time": "2022-11-09T13:43:54.391Z"
   },
   {
    "duration": 59,
    "start_time": "2022-11-09T13:43:55.477Z"
   },
   {
    "duration": 18,
    "start_time": "2022-11-09T13:43:55.538Z"
   },
   {
    "duration": 19,
    "start_time": "2022-11-09T13:43:55.558Z"
   },
   {
    "duration": 13,
    "start_time": "2022-11-09T13:43:55.578Z"
   },
   {
    "duration": 20,
    "start_time": "2022-11-09T13:43:55.592Z"
   },
   {
    "duration": 29,
    "start_time": "2022-11-09T13:43:55.613Z"
   },
   {
    "duration": 17,
    "start_time": "2022-11-09T13:43:55.643Z"
   },
   {
    "duration": 8,
    "start_time": "2022-11-09T13:43:55.661Z"
   },
   {
    "duration": 8,
    "start_time": "2022-11-09T13:44:22.440Z"
   },
   {
    "duration": 1062,
    "start_time": "2022-11-09T13:44:30.139Z"
   },
   {
    "duration": 56,
    "start_time": "2022-11-09T13:44:31.203Z"
   },
   {
    "duration": 17,
    "start_time": "2022-11-09T13:44:31.261Z"
   },
   {
    "duration": 16,
    "start_time": "2022-11-09T13:44:31.280Z"
   },
   {
    "duration": 8,
    "start_time": "2022-11-09T13:44:31.297Z"
   },
   {
    "duration": 28,
    "start_time": "2022-11-09T13:44:31.307Z"
   },
   {
    "duration": 21,
    "start_time": "2022-11-09T13:44:31.336Z"
   },
   {
    "duration": 18,
    "start_time": "2022-11-09T13:44:31.359Z"
   },
   {
    "duration": 9,
    "start_time": "2022-11-09T13:44:31.378Z"
   },
   {
    "duration": 17,
    "start_time": "2022-11-09T13:51:46.108Z"
   },
   {
    "duration": 7,
    "start_time": "2022-11-09T13:52:00.518Z"
   },
   {
    "duration": 7,
    "start_time": "2022-11-09T13:52:39.643Z"
   },
   {
    "duration": 8,
    "start_time": "2022-11-09T13:53:48.224Z"
   },
   {
    "duration": 4,
    "start_time": "2022-11-09T13:54:03.044Z"
   },
   {
    "duration": 26240,
    "start_time": "2022-11-09T14:12:52.107Z"
   },
   {
    "duration": 27612,
    "start_time": "2022-11-09T14:35:25.785Z"
   },
   {
    "duration": 1090,
    "start_time": "2022-11-09T14:43:16.685Z"
   },
   {
    "duration": 79,
    "start_time": "2022-11-09T14:43:17.777Z"
   },
   {
    "duration": 28,
    "start_time": "2022-11-09T14:43:17.859Z"
   },
   {
    "duration": 14,
    "start_time": "2022-11-09T14:43:17.889Z"
   },
   {
    "duration": 9,
    "start_time": "2022-11-09T14:43:17.905Z"
   },
   {
    "duration": 9,
    "start_time": "2022-11-09T14:43:17.916Z"
   },
   {
    "duration": 16,
    "start_time": "2022-11-09T14:43:17.948Z"
   },
   {
    "duration": 25,
    "start_time": "2022-11-09T14:43:17.966Z"
   },
   {
    "duration": 11,
    "start_time": "2022-11-09T14:43:17.993Z"
   },
   {
    "duration": 5,
    "start_time": "2022-11-09T14:43:18.005Z"
   },
   {
    "duration": 27794,
    "start_time": "2022-11-09T14:43:18.012Z"
   },
   {
    "duration": 42747,
    "start_time": "2022-11-09T14:43:45.808Z"
   },
   {
    "duration": 101,
    "start_time": "2022-11-09T14:47:16.553Z"
   },
   {
    "duration": 210,
    "start_time": "2022-11-09T14:47:35.946Z"
   },
   {
    "duration": 4,
    "start_time": "2022-11-09T14:47:50.814Z"
   },
   {
    "duration": 240,
    "start_time": "2022-11-09T14:47:54.022Z"
   },
   {
    "duration": 337,
    "start_time": "2022-11-09T14:48:12.142Z"
   },
   {
    "duration": 303,
    "start_time": "2022-11-09T14:48:25.904Z"
   },
   {
    "duration": 94,
    "start_time": "2022-11-09T14:51:25.367Z"
   },
   {
    "duration": 172,
    "start_time": "2022-11-09T14:51:39.582Z"
   },
   {
    "duration": 137,
    "start_time": "2022-11-09T14:56:52.920Z"
   },
   {
    "duration": 4,
    "start_time": "2022-11-09T14:56:59.087Z"
   },
   {
    "duration": 1078,
    "start_time": "2022-11-09T14:57:04.451Z"
   },
   {
    "duration": 58,
    "start_time": "2022-11-09T14:57:05.531Z"
   },
   {
    "duration": 17,
    "start_time": "2022-11-09T14:57:05.590Z"
   },
   {
    "duration": 10,
    "start_time": "2022-11-09T14:57:05.609Z"
   },
   {
    "duration": 6,
    "start_time": "2022-11-09T14:57:05.621Z"
   },
   {
    "duration": 9,
    "start_time": "2022-11-09T14:57:05.628Z"
   },
   {
    "duration": 14,
    "start_time": "2022-11-09T14:57:05.638Z"
   },
   {
    "duration": 20,
    "start_time": "2022-11-09T14:57:05.653Z"
   },
   {
    "duration": 11,
    "start_time": "2022-11-09T14:57:05.674Z"
   },
   {
    "duration": 6,
    "start_time": "2022-11-09T14:57:05.687Z"
   },
   {
    "duration": 27946,
    "start_time": "2022-11-09T14:57:05.695Z"
   },
   {
    "duration": 162,
    "start_time": "2022-11-09T14:57:33.643Z"
   },
   {
    "duration": 46650,
    "start_time": "2022-11-09T14:57:33.807Z"
   },
   {
    "duration": 667,
    "start_time": "2022-11-09T14:58:20.459Z"
   },
   {
    "duration": 236,
    "start_time": "2022-11-09T14:58:51.720Z"
   },
   {
    "duration": 1270,
    "start_time": "2022-11-09T16:55:49.116Z"
   },
   {
    "duration": 198,
    "start_time": "2022-11-09T16:55:50.389Z"
   },
   {
    "duration": 22,
    "start_time": "2022-11-09T16:55:50.589Z"
   },
   {
    "duration": 18,
    "start_time": "2022-11-09T16:55:50.613Z"
   },
   {
    "duration": 10,
    "start_time": "2022-11-09T16:55:50.635Z"
   },
   {
    "duration": 8,
    "start_time": "2022-11-09T16:55:50.647Z"
   },
   {
    "duration": 17,
    "start_time": "2022-11-09T16:55:50.656Z"
   },
   {
    "duration": 46,
    "start_time": "2022-11-09T16:55:50.675Z"
   },
   {
    "duration": 13,
    "start_time": "2022-11-09T16:55:50.724Z"
   },
   {
    "duration": 14,
    "start_time": "2022-11-09T16:55:50.739Z"
   },
   {
    "duration": 34045,
    "start_time": "2022-11-09T16:55:50.755Z"
   },
   {
    "duration": 266,
    "start_time": "2022-11-09T16:56:24.803Z"
   },
   {
    "duration": 37659,
    "start_time": "2022-11-09T16:56:25.070Z"
   },
   {
    "duration": 467,
    "start_time": "2022-11-09T16:57:02.734Z"
   },
   {
    "duration": 109,
    "start_time": "2022-11-09T17:00:32.805Z"
   },
   {
    "duration": 12,
    "start_time": "2022-11-09T17:00:41.768Z"
   },
   {
    "duration": 231,
    "start_time": "2022-11-09T17:00:51.944Z"
   },
   {
    "duration": 244,
    "start_time": "2022-11-09T17:02:04.278Z"
   },
   {
    "duration": 1169,
    "start_time": "2022-11-09T17:06:22.214Z"
   },
   {
    "duration": 61,
    "start_time": "2022-11-09T17:06:23.386Z"
   },
   {
    "duration": 23,
    "start_time": "2022-11-09T17:06:23.449Z"
   },
   {
    "duration": 20,
    "start_time": "2022-11-09T17:06:23.473Z"
   },
   {
    "duration": 7,
    "start_time": "2022-11-09T17:06:23.496Z"
   },
   {
    "duration": 18,
    "start_time": "2022-11-09T17:06:23.505Z"
   },
   {
    "duration": 20,
    "start_time": "2022-11-09T17:06:23.525Z"
   },
   {
    "duration": 18,
    "start_time": "2022-11-09T17:06:23.548Z"
   },
   {
    "duration": 10,
    "start_time": "2022-11-09T17:06:23.568Z"
   },
   {
    "duration": 4,
    "start_time": "2022-11-09T17:06:23.580Z"
   },
   {
    "duration": 32801,
    "start_time": "2022-11-09T17:06:23.619Z"
   },
   {
    "duration": 285,
    "start_time": "2022-11-09T17:06:56.422Z"
   },
   {
    "duration": 37319,
    "start_time": "2022-11-09T17:06:56.708Z"
   },
   {
    "duration": 310,
    "start_time": "2022-11-09T17:07:34.120Z"
   },
   {
    "duration": 42571,
    "start_time": "2022-11-09T17:07:34.432Z"
   },
   {
    "duration": 128,
    "start_time": "2022-11-09T17:09:24.045Z"
   },
   {
    "duration": 1099,
    "start_time": "2022-11-10T20:44:58.931Z"
   },
   {
    "duration": 123,
    "start_time": "2022-11-10T20:45:00.033Z"
   },
   {
    "duration": 33,
    "start_time": "2022-11-10T20:45:00.159Z"
   },
   {
    "duration": 24,
    "start_time": "2022-11-10T20:45:00.195Z"
   },
   {
    "duration": 24,
    "start_time": "2022-11-10T20:45:00.221Z"
   },
   {
    "duration": 46,
    "start_time": "2022-11-10T20:45:00.247Z"
   },
   {
    "duration": 78,
    "start_time": "2022-11-10T20:45:00.294Z"
   },
   {
    "duration": 81,
    "start_time": "2022-11-10T20:45:00.374Z"
   },
   {
    "duration": 28,
    "start_time": "2022-11-10T20:45:00.456Z"
   },
   {
    "duration": 62,
    "start_time": "2022-11-10T20:45:00.486Z"
   },
   {
    "duration": 126,
    "start_time": "2022-11-10T20:45:00.549Z"
   },
   {
    "duration": 0,
    "start_time": "2022-11-10T20:45:00.677Z"
   },
   {
    "duration": 0,
    "start_time": "2022-11-10T20:45:00.678Z"
   },
   {
    "duration": 0,
    "start_time": "2022-11-10T20:45:00.679Z"
   },
   {
    "duration": 0,
    "start_time": "2022-11-10T20:45:00.680Z"
   },
   {
    "duration": 0,
    "start_time": "2022-11-10T20:45:00.681Z"
   },
   {
    "duration": 0,
    "start_time": "2022-11-10T20:45:00.682Z"
   },
   {
    "duration": 3,
    "start_time": "2022-11-10T20:46:36.695Z"
   },
   {
    "duration": 1577,
    "start_time": "2022-11-10T20:46:40.850Z"
   },
   {
    "duration": 67,
    "start_time": "2022-11-10T20:46:42.429Z"
   },
   {
    "duration": 20,
    "start_time": "2022-11-10T20:46:42.498Z"
   },
   {
    "duration": 20,
    "start_time": "2022-11-10T20:46:42.521Z"
   },
   {
    "duration": 26,
    "start_time": "2022-11-10T20:46:42.543Z"
   },
   {
    "duration": 22,
    "start_time": "2022-11-10T20:46:42.571Z"
   },
   {
    "duration": 38,
    "start_time": "2022-11-10T20:46:42.595Z"
   },
   {
    "duration": 18,
    "start_time": "2022-11-10T20:46:42.634Z"
   },
   {
    "duration": 17,
    "start_time": "2022-11-10T20:46:42.654Z"
   },
   {
    "duration": 16,
    "start_time": "2022-11-10T20:46:42.674Z"
   },
   {
    "duration": 119,
    "start_time": "2022-11-10T20:46:42.692Z"
   },
   {
    "duration": 0,
    "start_time": "2022-11-10T20:46:42.813Z"
   },
   {
    "duration": 0,
    "start_time": "2022-11-10T20:46:42.814Z"
   },
   {
    "duration": 0,
    "start_time": "2022-11-10T20:46:42.822Z"
   },
   {
    "duration": 0,
    "start_time": "2022-11-10T20:46:42.823Z"
   },
   {
    "duration": 0,
    "start_time": "2022-11-10T20:46:42.824Z"
   },
   {
    "duration": 0,
    "start_time": "2022-11-10T20:46:42.826Z"
   },
   {
    "duration": 4,
    "start_time": "2022-11-10T20:48:04.291Z"
   },
   {
    "duration": 1074,
    "start_time": "2022-11-10T20:48:14.146Z"
   },
   {
    "duration": 70,
    "start_time": "2022-11-10T20:48:15.222Z"
   },
   {
    "duration": 19,
    "start_time": "2022-11-10T20:48:15.293Z"
   },
   {
    "duration": 15,
    "start_time": "2022-11-10T20:48:15.313Z"
   },
   {
    "duration": 6,
    "start_time": "2022-11-10T20:48:15.330Z"
   },
   {
    "duration": 9,
    "start_time": "2022-11-10T20:48:15.337Z"
   },
   {
    "duration": 27,
    "start_time": "2022-11-10T20:48:15.347Z"
   },
   {
    "duration": 23,
    "start_time": "2022-11-10T20:48:15.376Z"
   },
   {
    "duration": 9,
    "start_time": "2022-11-10T20:48:15.400Z"
   },
   {
    "duration": 5,
    "start_time": "2022-11-10T20:48:15.422Z"
   },
   {
    "duration": 8,
    "start_time": "2022-11-10T20:48:15.428Z"
   },
   {
    "duration": 28448,
    "start_time": "2022-11-10T20:48:15.437Z"
   },
   {
    "duration": 201,
    "start_time": "2022-11-10T20:48:43.887Z"
   },
   {
    "duration": 33639,
    "start_time": "2022-11-10T20:48:44.090Z"
   },
   {
    "duration": 365,
    "start_time": "2022-11-10T20:49:17.731Z"
   },
   {
    "duration": 38619,
    "start_time": "2022-11-10T20:49:18.098Z"
   },
   {
    "duration": 149,
    "start_time": "2022-11-10T20:49:56.718Z"
   },
   {
    "duration": 4,
    "start_time": "2022-11-10T21:02:52.710Z"
   },
   {
    "duration": 72,
    "start_time": "2022-11-10T21:02:53.437Z"
   },
   {
    "duration": 4,
    "start_time": "2022-11-10T21:03:55.735Z"
   },
   {
    "duration": 5,
    "start_time": "2022-11-10T21:09:03.137Z"
   },
   {
    "duration": 5,
    "start_time": "2022-11-10T21:09:53.535Z"
   },
   {
    "duration": 91,
    "start_time": "2022-11-10T21:16:25.160Z"
   },
   {
    "duration": 103,
    "start_time": "2022-11-10T21:16:36.639Z"
   },
   {
    "duration": 7,
    "start_time": "2022-11-10T21:18:30.744Z"
   },
   {
    "duration": 1056,
    "start_time": "2022-11-10T21:18:37.639Z"
   },
   {
    "duration": 68,
    "start_time": "2022-11-10T21:18:38.698Z"
   },
   {
    "duration": 19,
    "start_time": "2022-11-10T21:18:38.767Z"
   },
   {
    "duration": 13,
    "start_time": "2022-11-10T21:18:38.788Z"
   },
   {
    "duration": 7,
    "start_time": "2022-11-10T21:18:38.803Z"
   },
   {
    "duration": 8,
    "start_time": "2022-11-10T21:18:38.811Z"
   },
   {
    "duration": 14,
    "start_time": "2022-11-10T21:18:38.820Z"
   },
   {
    "duration": 17,
    "start_time": "2022-11-10T21:18:38.836Z"
   },
   {
    "duration": 10,
    "start_time": "2022-11-10T21:18:38.854Z"
   },
   {
    "duration": 5,
    "start_time": "2022-11-10T21:18:38.865Z"
   },
   {
    "duration": 6,
    "start_time": "2022-11-10T21:18:38.871Z"
   },
   {
    "duration": 29020,
    "start_time": "2022-11-10T21:18:38.879Z"
   },
   {
    "duration": 202,
    "start_time": "2022-11-10T21:19:07.900Z"
   },
   {
    "duration": 34524,
    "start_time": "2022-11-10T21:19:08.104Z"
   },
   {
    "duration": 366,
    "start_time": "2022-11-10T21:19:42.630Z"
   },
   {
    "duration": 37971,
    "start_time": "2022-11-10T21:19:42.997Z"
   },
   {
    "duration": 129,
    "start_time": "2022-11-10T21:20:20.970Z"
   },
   {
    "duration": 4,
    "start_time": "2022-11-10T21:20:21.101Z"
   },
   {
    "duration": 117,
    "start_time": "2022-11-10T21:20:21.106Z"
   },
   {
    "duration": 12,
    "start_time": "2022-11-10T21:21:57.268Z"
   },
   {
    "duration": 10,
    "start_time": "2022-11-10T21:22:13.072Z"
   },
   {
    "duration": 1044,
    "start_time": "2022-11-10T21:22:36.269Z"
   },
   {
    "duration": 76,
    "start_time": "2022-11-10T21:22:38.046Z"
   },
   {
    "duration": 1094,
    "start_time": "2022-11-10T21:22:48.031Z"
   },
   {
    "duration": 66,
    "start_time": "2022-11-10T21:22:49.985Z"
   },
   {
    "duration": 21,
    "start_time": "2022-11-10T21:22:51.271Z"
   },
   {
    "duration": 15,
    "start_time": "2022-11-10T21:22:53.080Z"
   },
   {
    "duration": 7,
    "start_time": "2022-11-10T21:22:54.667Z"
   },
   {
    "duration": 8,
    "start_time": "2022-11-10T21:22:57.268Z"
   },
   {
    "duration": 15,
    "start_time": "2022-11-10T21:22:59.560Z"
   },
   {
    "duration": 19,
    "start_time": "2022-11-10T21:23:02.480Z"
   },
   {
    "duration": 9,
    "start_time": "2022-11-10T21:23:04.815Z"
   },
   {
    "duration": 11,
    "start_time": "2022-11-10T21:23:17.208Z"
   },
   {
    "duration": 11,
    "start_time": "2022-11-10T21:25:43.046Z"
   },
   {
    "duration": 4,
    "start_time": "2022-11-10T21:27:02.764Z"
   },
   {
    "duration": 4,
    "start_time": "2022-11-10T21:27:10.632Z"
   },
   {
    "duration": 95,
    "start_time": "2022-11-10T21:27:11.276Z"
   },
   {
    "duration": 3,
    "start_time": "2022-11-10T21:27:19.280Z"
   },
   {
    "duration": 26,
    "start_time": "2022-11-10T21:27:22.316Z"
   },
   {
    "duration": 85,
    "start_time": "2022-11-10T21:27:40.865Z"
   },
   {
    "duration": 1108,
    "start_time": "2022-11-10T21:28:29.391Z"
   },
   {
    "duration": 68,
    "start_time": "2022-11-10T21:28:30.501Z"
   },
   {
    "duration": 21,
    "start_time": "2022-11-10T21:28:30.570Z"
   },
   {
    "duration": 20,
    "start_time": "2022-11-10T21:28:30.593Z"
   },
   {
    "duration": 8,
    "start_time": "2022-11-10T21:28:30.615Z"
   },
   {
    "duration": 35,
    "start_time": "2022-11-10T21:28:30.625Z"
   },
   {
    "duration": 38,
    "start_time": "2022-11-10T21:28:30.662Z"
   },
   {
    "duration": 22,
    "start_time": "2022-11-10T21:28:30.701Z"
   },
   {
    "duration": 18,
    "start_time": "2022-11-10T21:28:30.725Z"
   },
   {
    "duration": 12,
    "start_time": "2022-11-10T21:28:30.746Z"
   },
   {
    "duration": 22,
    "start_time": "2022-11-10T21:28:30.760Z"
   },
   {
    "duration": 28528,
    "start_time": "2022-11-10T21:28:30.784Z"
   },
   {
    "duration": 223,
    "start_time": "2022-11-10T21:28:59.314Z"
   },
   {
    "duration": 33184,
    "start_time": "2022-11-10T21:28:59.538Z"
   },
   {
    "duration": 277,
    "start_time": "2022-11-10T21:29:32.724Z"
   },
   {
    "duration": 38031,
    "start_time": "2022-11-10T21:29:33.003Z"
   },
   {
    "duration": 134,
    "start_time": "2022-11-10T21:30:11.036Z"
   },
   {
    "duration": 4,
    "start_time": "2022-11-10T21:30:11.172Z"
   },
   {
    "duration": 85,
    "start_time": "2022-11-10T21:30:11.177Z"
   },
   {
    "duration": 11,
    "start_time": "2022-11-10T21:30:11.263Z"
   },
   {
    "duration": 73,
    "start_time": "2022-11-10T21:37:20.736Z"
   },
   {
    "duration": 75,
    "start_time": "2022-11-10T21:37:47.834Z"
   },
   {
    "duration": 92,
    "start_time": "2022-11-10T21:38:11.047Z"
   },
   {
    "duration": 10,
    "start_time": "2022-11-10T21:38:18.918Z"
   },
   {
    "duration": 24,
    "start_time": "2022-11-10T21:39:00.005Z"
   },
   {
    "duration": 4,
    "start_time": "2022-11-10T21:40:06.281Z"
   },
   {
    "duration": 4,
    "start_time": "2022-11-10T21:40:19.892Z"
   },
   {
    "duration": 3,
    "start_time": "2022-11-10T21:40:48.377Z"
   },
   {
    "duration": 4,
    "start_time": "2022-11-10T21:41:31.468Z"
   },
   {
    "duration": 25,
    "start_time": "2022-11-10T21:41:56.546Z"
   },
   {
    "duration": 24,
    "start_time": "2022-11-10T21:42:52.834Z"
   },
   {
    "duration": 24,
    "start_time": "2022-11-10T21:45:05.566Z"
   },
   {
    "duration": 25,
    "start_time": "2022-11-10T21:45:41.481Z"
   },
   {
    "duration": 10,
    "start_time": "2022-11-10T21:46:57.518Z"
   },
   {
    "duration": 72,
    "start_time": "2022-11-10T21:49:38.733Z"
   },
   {
    "duration": 24126,
    "start_time": "2022-11-10T21:49:57.479Z"
   },
   {
    "duration": 41,
    "start_time": "2022-11-10T21:51:20.254Z"
   },
   {
    "duration": 76,
    "start_time": "2022-11-10T21:53:06.859Z"
   },
   {
    "duration": 179,
    "start_time": "2022-11-10T21:53:11.510Z"
   },
   {
    "duration": 64509,
    "start_time": "2022-11-10T21:53:51.426Z"
   },
   {
    "duration": 48,
    "start_time": "2022-11-10T21:56:01.999Z"
   },
   {
    "duration": 154,
    "start_time": "2022-11-10T21:56:32.563Z"
   },
   {
    "duration": 44,
    "start_time": "2022-11-10T21:56:40.710Z"
   },
   {
    "duration": 177,
    "start_time": "2022-11-10T21:57:12.524Z"
   },
   {
    "duration": 63712,
    "start_time": "2022-11-10T21:58:18.760Z"
   },
   {
    "duration": 5,
    "start_time": "2022-11-10T21:59:55.295Z"
   },
   {
    "duration": 1059,
    "start_time": "2022-11-10T22:00:07.087Z"
   },
   {
    "duration": 68,
    "start_time": "2022-11-10T22:00:08.149Z"
   },
   {
    "duration": 20,
    "start_time": "2022-11-10T22:00:08.218Z"
   },
   {
    "duration": 20,
    "start_time": "2022-11-10T22:00:08.239Z"
   },
   {
    "duration": 7,
    "start_time": "2022-11-10T22:00:08.261Z"
   },
   {
    "duration": 10,
    "start_time": "2022-11-10T22:00:08.270Z"
   },
   {
    "duration": 17,
    "start_time": "2022-11-10T22:00:08.282Z"
   },
   {
    "duration": 39,
    "start_time": "2022-11-10T22:00:08.300Z"
   },
   {
    "duration": 10,
    "start_time": "2022-11-10T22:00:08.341Z"
   },
   {
    "duration": 4,
    "start_time": "2022-11-10T22:00:08.353Z"
   },
   {
    "duration": 14,
    "start_time": "2022-11-10T22:00:08.358Z"
   },
   {
    "duration": 28272,
    "start_time": "2022-11-10T22:00:08.373Z"
   },
   {
    "duration": 210,
    "start_time": "2022-11-10T22:00:36.647Z"
   },
   {
    "duration": 34566,
    "start_time": "2022-11-10T22:00:36.859Z"
   },
   {
    "duration": 330,
    "start_time": "2022-11-10T22:01:11.427Z"
   },
   {
    "duration": 37393,
    "start_time": "2022-11-10T22:01:11.759Z"
   },
   {
    "duration": 128,
    "start_time": "2022-11-10T22:01:49.154Z"
   },
   {
    "duration": 4,
    "start_time": "2022-11-10T22:01:49.284Z"
   },
   {
    "duration": 14,
    "start_time": "2022-11-10T22:01:49.289Z"
   },
   {
    "duration": 117,
    "start_time": "2022-11-10T22:01:49.305Z"
   },
   {
    "duration": 24,
    "start_time": "2022-11-10T22:02:06.792Z"
   },
   {
    "duration": 47114,
    "start_time": "2022-11-10T22:02:27.919Z"
   },
   {
    "duration": 0,
    "start_time": "2022-11-10T22:05:09.747Z"
   },
   {
    "duration": 47161,
    "start_time": "2022-11-10T22:05:24.390Z"
   },
   {
    "duration": 8,
    "start_time": "2022-11-11T09:46:27.564Z"
   },
   {
    "duration": 1132,
    "start_time": "2022-11-11T09:48:07.503Z"
   },
   {
    "duration": 116,
    "start_time": "2022-11-11T09:48:08.637Z"
   },
   {
    "duration": 20,
    "start_time": "2022-11-11T09:48:08.755Z"
   },
   {
    "duration": 14,
    "start_time": "2022-11-11T09:48:08.777Z"
   },
   {
    "duration": 8,
    "start_time": "2022-11-11T09:48:08.793Z"
   },
   {
    "duration": 8,
    "start_time": "2022-11-11T09:48:08.803Z"
   },
   {
    "duration": 17,
    "start_time": "2022-11-11T09:48:08.812Z"
   },
   {
    "duration": 54,
    "start_time": "2022-11-11T09:48:08.830Z"
   },
   {
    "duration": 13,
    "start_time": "2022-11-11T09:48:08.886Z"
   },
   {
    "duration": 6,
    "start_time": "2022-11-11T09:48:08.900Z"
   },
   {
    "duration": 6,
    "start_time": "2022-11-11T09:48:08.908Z"
   },
   {
    "duration": 32863,
    "start_time": "2022-11-11T09:48:08.915Z"
   },
   {
    "duration": 234,
    "start_time": "2022-11-11T09:48:41.780Z"
   },
   {
    "duration": 52265,
    "start_time": "2022-11-11T09:48:42.017Z"
   },
   {
    "duration": 308,
    "start_time": "2022-11-11T09:49:34.284Z"
   },
   {
    "duration": 43558,
    "start_time": "2022-11-11T09:49:34.594Z"
   },
   {
    "duration": 145,
    "start_time": "2022-11-11T09:50:18.154Z"
   },
   {
    "duration": 3,
    "start_time": "2022-11-11T09:50:18.301Z"
   },
   {
    "duration": 32,
    "start_time": "2022-11-11T09:50:18.306Z"
   },
   {
    "duration": 29,
    "start_time": "2022-11-11T09:50:18.339Z"
   },
   {
    "duration": 55342,
    "start_time": "2022-11-11T09:50:18.369Z"
   },
   {
    "duration": 69186,
    "start_time": "2022-11-11T09:51:13.713Z"
   },
   {
    "duration": 53845,
    "start_time": "2022-11-11T09:57:24.335Z"
   },
   {
    "duration": 2,
    "start_time": "2022-11-11T10:00:45.366Z"
   },
   {
    "duration": 50502,
    "start_time": "2022-11-11T10:00:45.850Z"
   },
   {
    "duration": 59627,
    "start_time": "2022-11-11T10:01:36.354Z"
   },
   {
    "duration": 60809,
    "start_time": "2022-11-11T10:02:35.983Z"
   },
   {
    "duration": 2,
    "start_time": "2022-11-11T10:03:47.311Z"
   },
   {
    "duration": 48616,
    "start_time": "2022-11-11T10:03:48.332Z"
   },
   {
    "duration": 59428,
    "start_time": "2022-11-11T10:04:36.950Z"
   },
   {
    "duration": 55292,
    "start_time": "2022-11-11T10:05:36.384Z"
   },
   {
    "duration": 5,
    "start_time": "2022-11-11T10:06:52.648Z"
   },
   {
    "duration": 4,
    "start_time": "2022-11-11T10:06:53.150Z"
   },
   {
    "duration": 3,
    "start_time": "2022-11-11T10:06:55.100Z"
   },
   {
    "duration": 32802,
    "start_time": "2022-11-11T10:06:59.816Z"
   },
   {
    "duration": 2,
    "start_time": "2022-11-11T10:08:49.569Z"
   },
   {
    "duration": 29941,
    "start_time": "2022-11-11T10:08:50.082Z"
   },
   {
    "duration": 3,
    "start_time": "2022-11-11T10:09:52.942Z"
   },
   {
    "duration": 31551,
    "start_time": "2022-11-11T10:09:53.268Z"
   },
   {
    "duration": 120,
    "start_time": "2022-11-11T10:10:24.822Z"
   },
   {
    "duration": 0,
    "start_time": "2022-11-11T10:10:24.943Z"
   },
   {
    "duration": 45363,
    "start_time": "2022-11-11T10:10:52.919Z"
   },
   {
    "duration": 31103,
    "start_time": "2022-11-11T10:11:38.285Z"
   },
   {
    "duration": 3,
    "start_time": "2022-11-11T10:14:41.731Z"
   },
   {
    "duration": 78,
    "start_time": "2022-11-11T10:39:19.399Z"
   },
   {
    "duration": 79,
    "start_time": "2022-11-11T10:39:36.513Z"
   },
   {
    "duration": 82,
    "start_time": "2022-11-11T10:40:33.102Z"
   },
   {
    "duration": 245,
    "start_time": "2022-11-11T10:40:43.960Z"
   },
   {
    "duration": 130,
    "start_time": "2022-11-11T10:41:35.917Z"
   },
   {
    "duration": 158,
    "start_time": "2022-11-11T10:46:25.510Z"
   },
   {
    "duration": 270,
    "start_time": "2022-11-11T10:46:26.538Z"
   },
   {
    "duration": 473,
    "start_time": "2022-11-11T10:46:27.158Z"
   },
   {
    "duration": 1132,
    "start_time": "2022-11-11T10:52:05.224Z"
   },
   {
    "duration": 89,
    "start_time": "2022-11-11T10:52:06.358Z"
   },
   {
    "duration": 21,
    "start_time": "2022-11-11T10:52:06.449Z"
   },
   {
    "duration": 24,
    "start_time": "2022-11-11T10:52:06.473Z"
   },
   {
    "duration": 22,
    "start_time": "2022-11-11T10:52:06.502Z"
   },
   {
    "duration": 10,
    "start_time": "2022-11-11T10:52:06.526Z"
   },
   {
    "duration": 16,
    "start_time": "2022-11-11T10:52:06.538Z"
   },
   {
    "duration": 27,
    "start_time": "2022-11-11T10:52:06.555Z"
   },
   {
    "duration": 24,
    "start_time": "2022-11-11T10:52:06.584Z"
   },
   {
    "duration": 6,
    "start_time": "2022-11-11T10:52:06.611Z"
   },
   {
    "duration": 4,
    "start_time": "2022-11-11T10:52:06.619Z"
   },
   {
    "duration": 35539,
    "start_time": "2022-11-11T10:52:06.625Z"
   },
   {
    "duration": 85815,
    "start_time": "2022-11-11T10:52:42.166Z"
   },
   {
    "duration": 98041,
    "start_time": "2022-11-11T10:54:07.985Z"
   },
   {
    "duration": 4,
    "start_time": "2022-11-11T10:55:46.028Z"
   },
   {
    "duration": 9,
    "start_time": "2022-11-11T10:55:46.034Z"
   },
   {
    "duration": 14,
    "start_time": "2022-11-11T10:55:46.045Z"
   },
   {
    "duration": 49208,
    "start_time": "2022-11-11T10:55:46.061Z"
   },
   {
    "duration": 73829,
    "start_time": "2022-11-11T10:56:35.271Z"
   },
   {
    "duration": 124593,
    "start_time": "2022-11-11T10:57:49.103Z"
   },
   {
    "duration": 4,
    "start_time": "2022-11-11T10:59:53.697Z"
   },
   {
    "duration": 9,
    "start_time": "2022-11-11T10:59:53.703Z"
   },
   {
    "duration": 12,
    "start_time": "2022-11-11T10:59:53.713Z"
   },
   {
    "duration": 33790,
    "start_time": "2022-11-11T10:59:53.727Z"
   },
   {
    "duration": 76592,
    "start_time": "2022-11-11T11:00:27.519Z"
   },
   {
    "duration": 75273,
    "start_time": "2022-11-11T11:01:44.178Z"
   },
   {
    "duration": 168,
    "start_time": "2022-11-11T11:02:59.453Z"
   },
   {
    "duration": 285,
    "start_time": "2022-11-11T11:02:59.624Z"
   },
   {
    "duration": 478,
    "start_time": "2022-11-11T11:02:59.911Z"
   },
   {
    "duration": 122,
    "start_time": "2022-11-11T11:03:00.397Z"
   },
   {
    "duration": 5,
    "start_time": "2022-11-11T11:09:54.990Z"
   },
   {
    "duration": 6,
    "start_time": "2022-11-11T11:14:43.536Z"
   },
   {
    "duration": 520,
    "start_time": "2022-11-11T11:41:44.805Z"
   },
   {
    "duration": 531,
    "start_time": "2022-11-11T11:42:22.755Z"
   },
   {
    "duration": 164,
    "start_time": "2022-11-11T11:42:50.456Z"
   },
   {
    "duration": 4,
    "start_time": "2022-11-11T11:45:24.278Z"
   },
   {
    "duration": 36,
    "start_time": "2022-11-11T11:46:11.849Z"
   },
   {
    "duration": 34,
    "start_time": "2022-11-11T11:46:37.216Z"
   },
   {
    "duration": 40,
    "start_time": "2022-11-11T11:46:50.157Z"
   },
   {
    "duration": 478,
    "start_time": "2022-11-11T11:47:02.836Z"
   },
   {
    "duration": 164,
    "start_time": "2022-11-11T11:47:07.440Z"
   },
   {
    "duration": 156,
    "start_time": "2022-11-11T11:48:21.362Z"
   },
   {
    "duration": 162,
    "start_time": "2022-11-11T11:48:25.584Z"
   },
   {
    "duration": 235,
    "start_time": "2022-11-11T11:48:59.833Z"
   },
   {
    "duration": 86,
    "start_time": "2022-11-11T11:49:07.473Z"
   },
   {
    "duration": 186,
    "start_time": "2022-11-11T11:49:09.916Z"
   },
   {
    "duration": 184,
    "start_time": "2022-11-11T11:49:19.537Z"
   },
   {
    "duration": 196,
    "start_time": "2022-11-11T11:49:24.292Z"
   },
   {
    "duration": 205,
    "start_time": "2022-11-11T11:49:28.916Z"
   },
   {
    "duration": 8,
    "start_time": "2022-11-11T11:49:48.871Z"
   },
   {
    "duration": 9,
    "start_time": "2022-11-11T11:51:18.726Z"
   },
   {
    "duration": 4,
    "start_time": "2022-11-11T11:51:26.785Z"
   },
   {
    "duration": 7,
    "start_time": "2022-11-11T11:51:30.582Z"
   },
   {
    "duration": 75,
    "start_time": "2022-11-11T11:52:13.813Z"
   },
   {
    "duration": 74,
    "start_time": "2022-11-11T11:52:17.554Z"
   },
   {
    "duration": 8,
    "start_time": "2022-11-11T11:52:20.133Z"
   },
   {
    "duration": 183,
    "start_time": "2022-11-11T11:52:34.441Z"
   },
   {
    "duration": 187,
    "start_time": "2022-11-11T11:52:37.992Z"
   },
   {
    "duration": 182,
    "start_time": "2022-11-11T11:52:58.786Z"
   },
   {
    "duration": 1538,
    "start_time": "2022-11-11T11:53:22.431Z"
   },
   {
    "duration": 88,
    "start_time": "2022-11-11T11:53:23.973Z"
   },
   {
    "duration": 30,
    "start_time": "2022-11-11T11:53:24.063Z"
   },
   {
    "duration": 19,
    "start_time": "2022-11-11T11:53:24.095Z"
   },
   {
    "duration": 10,
    "start_time": "2022-11-11T11:53:24.117Z"
   },
   {
    "duration": 18,
    "start_time": "2022-11-11T11:53:24.129Z"
   },
   {
    "duration": 46,
    "start_time": "2022-11-11T11:53:24.149Z"
   },
   {
    "duration": 26,
    "start_time": "2022-11-11T11:53:24.197Z"
   },
   {
    "duration": 14,
    "start_time": "2022-11-11T11:53:24.225Z"
   },
   {
    "duration": 37,
    "start_time": "2022-11-11T11:53:24.242Z"
   },
   {
    "duration": 6,
    "start_time": "2022-11-11T11:53:24.281Z"
   },
   {
    "duration": 5,
    "start_time": "2022-11-11T11:53:24.289Z"
   },
   {
    "duration": 1508,
    "start_time": "2022-11-11T11:53:41.559Z"
   },
   {
    "duration": 84,
    "start_time": "2022-11-11T11:53:43.070Z"
   },
   {
    "duration": 18,
    "start_time": "2022-11-11T11:53:43.156Z"
   },
   {
    "duration": 14,
    "start_time": "2022-11-11T11:53:43.176Z"
   },
   {
    "duration": 8,
    "start_time": "2022-11-11T11:53:43.193Z"
   },
   {
    "duration": 9,
    "start_time": "2022-11-11T11:53:43.203Z"
   },
   {
    "duration": 18,
    "start_time": "2022-11-11T11:53:43.214Z"
   },
   {
    "duration": 58,
    "start_time": "2022-11-11T11:53:43.234Z"
   },
   {
    "duration": 11,
    "start_time": "2022-11-11T11:53:43.294Z"
   },
   {
    "duration": 5,
    "start_time": "2022-11-11T11:53:43.307Z"
   },
   {
    "duration": 6,
    "start_time": "2022-11-11T11:53:43.314Z"
   },
   {
    "duration": 5,
    "start_time": "2022-11-11T11:53:43.322Z"
   },
   {
    "duration": 34135,
    "start_time": "2022-11-11T11:53:43.329Z"
   },
   {
    "duration": 45014,
    "start_time": "2022-11-11T11:54:17.468Z"
   },
   {
    "duration": 100355,
    "start_time": "2022-11-11T11:55:02.484Z"
   },
   {
    "duration": 5,
    "start_time": "2022-11-11T11:56:42.841Z"
   },
   {
    "duration": 11,
    "start_time": "2022-11-11T11:56:42.849Z"
   },
   {
    "duration": 17,
    "start_time": "2022-11-11T11:56:42.862Z"
   },
   {
    "duration": 50936,
    "start_time": "2022-11-11T11:56:42.887Z"
   },
   {
    "duration": 75573,
    "start_time": "2022-11-11T11:57:33.825Z"
   },
   {
    "duration": 128045,
    "start_time": "2022-11-11T11:58:49.400Z"
   },
   {
    "duration": 4,
    "start_time": "2022-11-11T12:00:57.447Z"
   },
   {
    "duration": 8,
    "start_time": "2022-11-11T12:00:57.453Z"
   },
   {
    "duration": 13,
    "start_time": "2022-11-11T12:00:57.463Z"
   },
   {
    "duration": 35123,
    "start_time": "2022-11-11T12:00:57.480Z"
   },
   {
    "duration": 64005,
    "start_time": "2022-11-11T12:01:32.605Z"
   },
   {
    "duration": 74212,
    "start_time": "2022-11-11T12:02:36.685Z"
   },
   {
    "duration": 529,
    "start_time": "2022-11-11T12:03:50.899Z"
   },
   {
    "duration": 207,
    "start_time": "2022-11-11T12:03:51.429Z"
   },
   {
    "duration": 7,
    "start_time": "2022-11-11T12:03:51.638Z"
   },
   {
    "duration": 81,
    "start_time": "2022-11-11T13:02:57.253Z"
   },
   {
    "duration": 524,
    "start_time": "2022-11-11T13:09:04.494Z"
   },
   {
    "duration": 16,
    "start_time": "2022-11-11T13:18:53.031Z"
   },
   {
    "duration": 1470,
    "start_time": "2022-11-11T13:19:00.092Z"
   },
   {
    "duration": 71,
    "start_time": "2022-11-11T13:19:01.564Z"
   },
   {
    "duration": 19,
    "start_time": "2022-11-11T13:19:01.637Z"
   },
   {
    "duration": 19,
    "start_time": "2022-11-11T13:19:01.658Z"
   },
   {
    "duration": 32,
    "start_time": "2022-11-11T13:19:01.680Z"
   },
   {
    "duration": 23,
    "start_time": "2022-11-11T13:19:01.714Z"
   },
   {
    "duration": 34,
    "start_time": "2022-11-11T13:19:01.738Z"
   },
   {
    "duration": 61,
    "start_time": "2022-11-11T13:19:01.774Z"
   },
   {
    "duration": 12,
    "start_time": "2022-11-11T13:19:01.837Z"
   },
   {
    "duration": 31,
    "start_time": "2022-11-11T13:19:01.852Z"
   },
   {
    "duration": 36,
    "start_time": "2022-11-11T13:19:01.885Z"
   },
   {
    "duration": 51,
    "start_time": "2022-11-11T13:19:01.923Z"
   },
   {
    "duration": 35651,
    "start_time": "2022-11-11T13:19:01.976Z"
   },
   {
    "duration": 56757,
    "start_time": "2022-11-11T13:19:37.629Z"
   },
   {
    "duration": 101511,
    "start_time": "2022-11-11T13:20:34.388Z"
   },
   {
    "duration": 5,
    "start_time": "2022-11-11T13:22:15.902Z"
   },
   {
    "duration": 10,
    "start_time": "2022-11-11T13:22:15.908Z"
   },
   {
    "duration": 8,
    "start_time": "2022-11-11T13:22:15.921Z"
   },
   {
    "duration": 49943,
    "start_time": "2022-11-11T13:22:15.931Z"
   },
   {
    "duration": 61910,
    "start_time": "2022-11-11T13:23:05.877Z"
   },
   {
    "duration": 127419,
    "start_time": "2022-11-11T13:24:07.789Z"
   },
   {
    "duration": 4,
    "start_time": "2022-11-11T13:26:15.210Z"
   },
   {
    "duration": 19,
    "start_time": "2022-11-11T13:26:15.216Z"
   },
   {
    "duration": 29,
    "start_time": "2022-11-11T13:26:15.237Z"
   },
   {
    "duration": 32739,
    "start_time": "2022-11-11T13:26:15.268Z"
   },
   {
    "duration": 46580,
    "start_time": "2022-11-11T13:26:48.009Z"
   },
   {
    "duration": 70133,
    "start_time": "2022-11-11T13:27:34.591Z"
   },
   {
    "duration": 592,
    "start_time": "2022-11-11T13:28:44.728Z"
   },
   {
    "duration": 203,
    "start_time": "2022-11-11T13:28:45.322Z"
   },
   {
    "duration": 6,
    "start_time": "2022-11-11T13:28:45.527Z"
   },
   {
    "duration": 12,
    "start_time": "2022-11-11T18:23:37.142Z"
   },
   {
    "duration": 2,
    "start_time": "2022-11-11T18:23:44.040Z"
   },
   {
    "duration": 41,
    "start_time": "2022-11-11T18:29:08.236Z"
   },
   {
    "duration": 1465,
    "start_time": "2022-11-11T18:29:24.395Z"
   },
   {
    "duration": 49,
    "start_time": "2022-11-11T18:36:02.751Z"
   },
   {
    "duration": 47,
    "start_time": "2022-11-11T18:36:06.128Z"
   },
   {
    "duration": 47,
    "start_time": "2022-11-11T18:36:11.286Z"
   },
   {
    "duration": 2,
    "start_time": "2022-11-11T18:36:13.864Z"
   },
   {
    "duration": 66,
    "start_time": "2022-11-11T18:38:09.105Z"
   },
   {
    "duration": 4,
    "start_time": "2022-11-11T18:38:12.829Z"
   },
   {
    "duration": 178,
    "start_time": "2022-11-11T18:38:14.545Z"
   },
   {
    "duration": 14,
    "start_time": "2022-11-11T18:38:16.323Z"
   },
   {
    "duration": 13,
    "start_time": "2022-11-11T18:38:16.930Z"
   },
   {
    "duration": 3,
    "start_time": "2022-11-11T18:38:18.811Z"
   },
   {
    "duration": 1242,
    "start_time": "2022-11-11T18:39:26.666Z"
   },
   {
    "duration": 58,
    "start_time": "2022-11-11T18:39:27.910Z"
   },
   {
    "duration": 15,
    "start_time": "2022-11-11T18:39:27.969Z"
   },
   {
    "duration": 11,
    "start_time": "2022-11-11T18:39:27.986Z"
   },
   {
    "duration": 7,
    "start_time": "2022-11-11T18:39:27.998Z"
   },
   {
    "duration": 2,
    "start_time": "2022-11-11T18:39:28.007Z"
   },
   {
    "duration": 8,
    "start_time": "2022-11-11T18:39:28.010Z"
   },
   {
    "duration": 40,
    "start_time": "2022-11-11T18:39:28.019Z"
   },
   {
    "duration": 2,
    "start_time": "2022-11-11T18:39:28.061Z"
   },
   {
    "duration": 12,
    "start_time": "2022-11-11T18:39:28.066Z"
   },
   {
    "duration": 21,
    "start_time": "2022-11-11T18:39:28.080Z"
   },
   {
    "duration": 4,
    "start_time": "2022-11-11T18:39:28.102Z"
   },
   {
    "duration": 8,
    "start_time": "2022-11-11T18:39:28.108Z"
   },
   {
    "duration": 4,
    "start_time": "2022-11-11T18:39:28.117Z"
   },
   {
    "duration": 1230,
    "start_time": "2022-11-11T18:39:37.193Z"
   },
   {
    "duration": 61,
    "start_time": "2022-11-11T18:39:39.635Z"
   },
   {
    "duration": 17,
    "start_time": "2022-11-11T18:39:41.483Z"
   },
   {
    "duration": 12,
    "start_time": "2022-11-11T18:39:43.456Z"
   },
   {
    "duration": 7,
    "start_time": "2022-11-11T18:39:44.803Z"
   },
   {
    "duration": 2,
    "start_time": "2022-11-11T18:39:46.392Z"
   },
   {
    "duration": 6,
    "start_time": "2022-11-11T18:39:47.730Z"
   },
   {
    "duration": 4,
    "start_time": "2022-11-11T18:45:53.724Z"
   },
   {
    "duration": 6,
    "start_time": "2022-11-11T18:45:54.865Z"
   },
   {
    "duration": 6,
    "start_time": "2022-11-11T18:48:08.444Z"
   },
   {
    "duration": 113,
    "start_time": "2022-11-11T18:48:23.529Z"
   },
   {
    "duration": 10,
    "start_time": "2022-11-11T18:48:30.497Z"
   },
   {
    "duration": 7,
    "start_time": "2022-11-11T18:48:32.075Z"
   },
   {
    "duration": 7,
    "start_time": "2022-11-11T18:48:38.080Z"
   },
   {
    "duration": 7,
    "start_time": "2022-11-11T18:48:52.073Z"
   },
   {
    "duration": 17,
    "start_time": "2022-11-11T18:48:59.361Z"
   },
   {
    "duration": 1217,
    "start_time": "2022-11-11T18:49:11.824Z"
   },
   {
    "duration": 56,
    "start_time": "2022-11-11T18:49:13.043Z"
   },
   {
    "duration": 14,
    "start_time": "2022-11-11T18:49:13.101Z"
   },
   {
    "duration": 12,
    "start_time": "2022-11-11T18:49:13.118Z"
   },
   {
    "duration": 7,
    "start_time": "2022-11-11T18:49:13.131Z"
   },
   {
    "duration": 3,
    "start_time": "2022-11-11T18:49:13.140Z"
   },
   {
    "duration": 7,
    "start_time": "2022-11-11T18:49:13.145Z"
   },
   {
    "duration": 17,
    "start_time": "2022-11-11T18:49:13.154Z"
   },
   {
    "duration": 2,
    "start_time": "2022-11-11T18:49:13.172Z"
   },
   {
    "duration": 11,
    "start_time": "2022-11-11T18:49:13.176Z"
   },
   {
    "duration": 121,
    "start_time": "2022-11-11T18:49:13.188Z"
   },
   {
    "duration": 0,
    "start_time": "2022-11-11T18:49:13.311Z"
   },
   {
    "duration": 0,
    "start_time": "2022-11-11T18:49:13.312Z"
   },
   {
    "duration": 0,
    "start_time": "2022-11-11T18:49:13.313Z"
   },
   {
    "duration": 0,
    "start_time": "2022-11-11T18:49:13.314Z"
   },
   {
    "duration": 0,
    "start_time": "2022-11-11T18:49:13.315Z"
   },
   {
    "duration": 0,
    "start_time": "2022-11-11T18:49:13.316Z"
   },
   {
    "duration": 0,
    "start_time": "2022-11-11T18:49:13.317Z"
   },
   {
    "duration": 0,
    "start_time": "2022-11-11T18:49:13.318Z"
   },
   {
    "duration": 0,
    "start_time": "2022-11-11T18:49:13.318Z"
   },
   {
    "duration": 0,
    "start_time": "2022-11-11T18:49:13.321Z"
   },
   {
    "duration": 0,
    "start_time": "2022-11-11T18:49:13.322Z"
   },
   {
    "duration": 0,
    "start_time": "2022-11-11T18:49:13.322Z"
   },
   {
    "duration": 0,
    "start_time": "2022-11-11T18:49:13.323Z"
   },
   {
    "duration": 0,
    "start_time": "2022-11-11T18:49:13.324Z"
   },
   {
    "duration": 0,
    "start_time": "2022-11-11T18:49:13.325Z"
   },
   {
    "duration": 0,
    "start_time": "2022-11-11T18:49:13.326Z"
   },
   {
    "duration": 0,
    "start_time": "2022-11-11T18:49:13.327Z"
   },
   {
    "duration": 0,
    "start_time": "2022-11-11T18:49:13.327Z"
   },
   {
    "duration": 0,
    "start_time": "2022-11-11T18:49:13.359Z"
   },
   {
    "duration": 0,
    "start_time": "2022-11-11T18:49:13.360Z"
   },
   {
    "duration": 0,
    "start_time": "2022-11-11T18:49:13.361Z"
   },
   {
    "duration": 20,
    "start_time": "2022-11-11T18:49:47.974Z"
   },
   {
    "duration": 5,
    "start_time": "2022-11-11T18:49:59.536Z"
   },
   {
    "duration": 7,
    "start_time": "2022-11-11T18:50:00.184Z"
   },
   {
    "duration": 5,
    "start_time": "2022-11-11T18:50:05.844Z"
   },
   {
    "duration": 1223,
    "start_time": "2022-11-11T18:50:11.999Z"
   },
   {
    "duration": 57,
    "start_time": "2022-11-11T18:50:13.224Z"
   },
   {
    "duration": 15,
    "start_time": "2022-11-11T18:50:13.283Z"
   },
   {
    "duration": 12,
    "start_time": "2022-11-11T18:50:13.300Z"
   },
   {
    "duration": 7,
    "start_time": "2022-11-11T18:50:13.313Z"
   },
   {
    "duration": 3,
    "start_time": "2022-11-11T18:50:13.322Z"
   },
   {
    "duration": 9,
    "start_time": "2022-11-11T18:50:13.326Z"
   },
   {
    "duration": 38,
    "start_time": "2022-11-11T18:50:13.336Z"
   },
   {
    "duration": 2,
    "start_time": "2022-11-11T18:50:13.376Z"
   },
   {
    "duration": 15,
    "start_time": "2022-11-11T18:50:13.382Z"
   },
   {
    "duration": 22,
    "start_time": "2022-11-11T18:50:13.398Z"
   },
   {
    "duration": 5,
    "start_time": "2022-11-11T18:50:13.422Z"
   },
   {
    "duration": 6,
    "start_time": "2022-11-11T18:50:13.459Z"
   },
   {
    "duration": 7,
    "start_time": "2022-11-11T18:50:13.466Z"
   },
   {
    "duration": 33240,
    "start_time": "2022-11-11T18:50:13.474Z"
   },
   {
    "duration": 60148,
    "start_time": "2022-11-11T18:50:46.716Z"
   },
   {
    "duration": 76041,
    "start_time": "2022-11-11T18:51:46.865Z"
   },
   {
    "duration": 4,
    "start_time": "2022-11-11T18:53:02.907Z"
   },
   {
    "duration": 9,
    "start_time": "2022-11-11T18:53:02.912Z"
   },
   {
    "duration": 10,
    "start_time": "2022-11-11T18:53:02.923Z"
   },
   {
    "duration": 49076,
    "start_time": "2022-11-11T18:53:02.935Z"
   },
   {
    "duration": 71761,
    "start_time": "2022-11-11T18:53:52.012Z"
   },
   {
    "duration": 100208,
    "start_time": "2022-11-11T18:55:03.775Z"
   },
   {
    "duration": 4,
    "start_time": "2022-11-11T18:56:43.984Z"
   },
   {
    "duration": 8,
    "start_time": "2022-11-11T18:56:43.989Z"
   },
   {
    "duration": 7,
    "start_time": "2022-11-11T18:56:43.998Z"
   },
   {
    "duration": 29432,
    "start_time": "2022-11-11T18:56:44.007Z"
   },
   {
    "duration": 51424,
    "start_time": "2022-11-11T18:57:13.442Z"
   },
   {
    "duration": 56519,
    "start_time": "2022-11-11T18:58:04.868Z"
   },
   {
    "duration": 430,
    "start_time": "2022-11-11T18:59:01.388Z"
   },
   {
    "duration": 182,
    "start_time": "2022-11-11T18:59:01.820Z"
   },
   {
    "duration": 6,
    "start_time": "2022-11-11T18:59:02.003Z"
   },
   {
    "duration": 176372,
    "start_time": "2022-11-11T19:00:01.422Z"
   },
   {
    "duration": 94945,
    "start_time": "2022-11-11T19:03:30.669Z"
   },
   {
    "duration": 219939,
    "start_time": "2022-11-11T19:05:48.334Z"
   },
   {
    "duration": 397256,
    "start_time": "2022-11-11T19:10:01.544Z"
   },
   {
    "duration": 1801,
    "start_time": "2022-11-11T19:17:25.716Z"
   },
   {
    "duration": 222,
    "start_time": "2022-11-11T19:20:35.339Z"
   },
   {
    "duration": 6,
    "start_time": "2022-11-11T19:20:40.351Z"
   },
   {
    "duration": 1268,
    "start_time": "2022-11-11T20:17:00.465Z"
   },
   {
    "duration": 61,
    "start_time": "2022-11-11T20:17:01.735Z"
   },
   {
    "duration": 16,
    "start_time": "2022-11-11T20:17:01.797Z"
   },
   {
    "duration": 15,
    "start_time": "2022-11-11T20:17:01.814Z"
   },
   {
    "duration": 15,
    "start_time": "2022-11-11T20:17:01.830Z"
   },
   {
    "duration": 6,
    "start_time": "2022-11-11T20:17:01.847Z"
   },
   {
    "duration": 23,
    "start_time": "2022-11-11T20:17:01.855Z"
   },
   {
    "duration": 21,
    "start_time": "2022-11-11T20:17:01.880Z"
   },
   {
    "duration": 3,
    "start_time": "2022-11-11T20:17:01.902Z"
   },
   {
    "duration": 15,
    "start_time": "2022-11-11T20:17:01.907Z"
   },
   {
    "duration": 27,
    "start_time": "2022-11-11T20:17:01.923Z"
   },
   {
    "duration": 5,
    "start_time": "2022-11-11T20:17:01.952Z"
   },
   {
    "duration": 18,
    "start_time": "2022-11-11T20:17:01.958Z"
   },
   {
    "duration": 9,
    "start_time": "2022-11-11T20:17:01.978Z"
   },
   {
    "duration": 32757,
    "start_time": "2022-11-11T20:17:01.989Z"
   },
   {
    "duration": 68418,
    "start_time": "2022-11-11T20:17:34.748Z"
   },
   {
    "duration": 78954,
    "start_time": "2022-11-11T20:18:43.167Z"
   },
   {
    "duration": 3,
    "start_time": "2022-11-11T20:20:02.123Z"
   },
   {
    "duration": 11,
    "start_time": "2022-11-11T20:20:02.127Z"
   },
   {
    "duration": 15,
    "start_time": "2022-11-11T20:20:02.139Z"
   },
   {
    "duration": 52632,
    "start_time": "2022-11-11T20:20:02.155Z"
   },
   {
    "duration": 79392,
    "start_time": "2022-11-11T20:20:54.788Z"
   },
   {
    "duration": 305421,
    "start_time": "2022-11-11T20:22:14.183Z"
   },
   {
    "duration": 4,
    "start_time": "2022-11-11T20:27:19.606Z"
   },
   {
    "duration": 7,
    "start_time": "2022-11-11T20:27:19.611Z"
   },
   {
    "duration": 13,
    "start_time": "2022-11-11T20:27:19.620Z"
   },
   {
    "duration": 28875,
    "start_time": "2022-11-11T20:27:19.634Z"
   },
   {
    "duration": 58756,
    "start_time": "2022-11-11T20:27:48.512Z"
   },
   {
    "duration": 57604,
    "start_time": "2022-11-11T20:28:47.272Z"
   },
   {
    "duration": 1818,
    "start_time": "2022-11-11T20:29:44.878Z"
   },
   {
    "duration": 239,
    "start_time": "2022-11-11T20:29:46.697Z"
   },
   {
    "duration": 6,
    "start_time": "2022-11-11T20:29:46.937Z"
   },
   {
    "duration": 45,
    "start_time": "2023-01-29T21:25:03.093Z"
   },
   {
    "duration": 1240,
    "start_time": "2023-01-29T21:25:08.862Z"
   },
   {
    "duration": 129,
    "start_time": "2023-01-29T21:25:10.104Z"
   },
   {
    "duration": 15,
    "start_time": "2023-01-29T21:25:10.234Z"
   },
   {
    "duration": 15,
    "start_time": "2023-01-29T21:25:10.251Z"
   },
   {
    "duration": 7,
    "start_time": "2023-01-29T21:25:10.268Z"
   },
   {
    "duration": 31,
    "start_time": "2023-01-29T21:25:10.276Z"
   },
   {
    "duration": 18,
    "start_time": "2023-01-29T21:25:10.308Z"
   },
   {
    "duration": 38,
    "start_time": "2023-01-29T21:25:10.327Z"
   },
   {
    "duration": 18,
    "start_time": "2023-01-29T21:25:10.366Z"
   },
   {
    "duration": 18,
    "start_time": "2023-01-29T21:25:10.386Z"
   },
   {
    "duration": 36,
    "start_time": "2023-01-29T21:25:10.405Z"
   },
   {
    "duration": 13,
    "start_time": "2023-01-29T21:25:10.443Z"
   },
   {
    "duration": 10,
    "start_time": "2023-01-29T21:25:10.458Z"
   },
   {
    "duration": 23,
    "start_time": "2023-01-29T21:25:10.469Z"
   },
   {
    "duration": 33046,
    "start_time": "2023-01-29T21:25:10.493Z"
   },
   {
    "duration": 59897,
    "start_time": "2023-01-29T21:25:43.541Z"
   },
   {
    "duration": 77860,
    "start_time": "2023-01-29T21:26:43.440Z"
   },
   {
    "duration": 4,
    "start_time": "2023-01-29T21:28:01.301Z"
   },
   {
    "duration": 66,
    "start_time": "2023-01-29T21:28:01.306Z"
   },
   {
    "duration": 46,
    "start_time": "2023-01-29T21:28:01.374Z"
   },
   {
    "duration": 48900,
    "start_time": "2023-01-29T21:28:01.422Z"
   },
   {
    "duration": 64118,
    "start_time": "2023-01-29T21:28:50.324Z"
   },
   {
    "duration": 310928,
    "start_time": "2023-01-29T21:29:54.444Z"
   },
   {
    "duration": 4,
    "start_time": "2023-01-29T21:35:05.374Z"
   },
   {
    "duration": 11,
    "start_time": "2023-01-29T21:35:05.379Z"
   },
   {
    "duration": 6,
    "start_time": "2023-01-29T21:35:05.392Z"
   },
   {
    "duration": 29516,
    "start_time": "2023-01-29T21:35:05.399Z"
   },
   {
    "duration": 41224,
    "start_time": "2023-01-29T21:35:34.917Z"
   },
   {
    "duration": 57344,
    "start_time": "2023-01-29T21:36:16.144Z"
   },
   {
    "duration": 1774,
    "start_time": "2023-01-29T21:37:13.490Z"
   },
   {
    "duration": 231,
    "start_time": "2023-01-29T21:37:15.266Z"
   },
   {
    "duration": 6,
    "start_time": "2023-01-29T21:37:15.499Z"
   }
  ],
  "kernelspec": {
   "display_name": "Python 3 (ipykernel)",
   "language": "python",
   "name": "python3"
  },
  "language_info": {
   "codemirror_mode": {
    "name": "ipython",
    "version": 3
   },
   "file_extension": ".py",
   "mimetype": "text/x-python",
   "name": "python",
   "nbconvert_exporter": "python",
   "pygments_lexer": "ipython3",
   "version": "3.9.13"
  },
  "toc": {
   "base_numbering": 1,
   "nav_menu": {},
   "number_sections": true,
   "sideBar": true,
   "skip_h1_title": true,
   "title_cell": "Содержание",
   "title_sidebar": "Contents",
   "toc_cell": true,
   "toc_position": {
    "height": "calc(100% - 180px)",
    "left": "10px",
    "top": "150px",
    "width": "286.075px"
   },
   "toc_section_display": true,
   "toc_window_display": true
  }
 },
 "nbformat": 4,
 "nbformat_minor": 2
}
