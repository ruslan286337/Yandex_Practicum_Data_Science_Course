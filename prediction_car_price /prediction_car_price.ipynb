{
 "cells": [
  {
   "cell_type": "markdown",
   "metadata": {},
   "source": [
    "# Определение стоимости автомобилей"
   ]
  },
  {
   "cell_type": "markdown",
   "metadata": {},
   "source": [
    "Сервис по продаже автомобилей с пробегом «Не бит, не крашен» разрабатывает приложение для привлечения новых клиентов. В нём можно быстро узнать рыночную стоимость своего автомобиля. В вашем распоряжении исторические данные: технические характеристики, комплектации и цены автомобилей. Вам нужно построить модель для определения стоимости. \n",
    "\n",
    "Заказчику важны:\n",
    "\n",
    "- качество предсказания;\n",
    "- скорость предсказания;\n",
    "- время обучения."
   ]
  },
  {
   "cell_type": "code",
   "execution_count": 1,
   "metadata": {},
   "outputs": [],
   "source": [
    "!pip install -q scikit-learn==1.1.3"
   ]
  },
  {
   "cell_type": "code",
   "execution_count": 2,
   "metadata": {},
   "outputs": [],
   "source": [
    "import pandas as pd\n",
    "import numpy as np\n",
    "import sklearn\n",
    "import matplotlib.pyplot as plt\n",
    "plt.style.use('ggplot')\n",
    "import seaborn as sns\n",
    "from sklearn.preprocessing import OneHotEncoder, OrdinalEncoder, StandardScaler\n",
    "from sklearn.model_selection import train_test_split\n",
    "from sklearn.model_selection import cross_val_score\n",
    "from sklearn.metrics import mean_squared_error\n",
    "from sklearn.model_selection import GridSearchCV\n",
    "from sklearn.model_selection import RandomizedSearchCV\n",
    "from sklearn.linear_model import LinearRegression\n",
    "from catboost import CatBoostRegressor, Pool, cv\n",
    "import lightgbm as lgb\n",
    "import warnings\n",
    "warnings.filterwarnings(\"ignore\")"
   ]
  },
  {
   "cell_type": "code",
   "execution_count": 3,
   "metadata": {},
   "outputs": [
    {
     "name": "stdout",
     "output_type": "stream",
     "text": [
      "The scikit-learn version is 1.1.3.\n"
     ]
    }
   ],
   "source": [
    "print('The scikit-learn version is {}.'.format(sklearn.__version__))"
   ]
  },
  {
   "cell_type": "markdown",
   "metadata": {},
   "source": [
    "## Ведение"
   ]
  },
  {
   "cell_type": "markdown",
   "metadata": {},
   "source": [
    "**Подготовка данных**\n",
    "\n",
    "Загрузим, рассмотрим имеющиеся данные, удалим ненужные столбцы для обучения, а также поработаем с выбросами.\n",
    "\n",
    "**Обучение моделей**\n",
    "\n",
    "Разделим данные на выборки, также применим методики прямого кодирования и масштабирования. Обучим модели и посмотрим на их показатели: RMSE, время обучения, время предсказания.\n",
    "\n",
    "**Анализ моделей**\n",
    "\n",
    "Выберем лучшую с точки зрения всех показателей. Произведем предсказание на тестовой выборке."
   ]
  },
  {
   "cell_type": "markdown",
   "metadata": {},
   "source": [
    "## Подготовка данных"
   ]
  },
  {
   "cell_type": "markdown",
   "metadata": {},
   "source": [
    "### Откроем данные и изучим их"
   ]
  },
  {
   "cell_type": "code",
   "execution_count": 4,
   "metadata": {},
   "outputs": [
    {
     "data": {
      "text/html": [
       "<div>\n",
       "<style scoped>\n",
       "    .dataframe tbody tr th:only-of-type {\n",
       "        vertical-align: middle;\n",
       "    }\n",
       "\n",
       "    .dataframe tbody tr th {\n",
       "        vertical-align: top;\n",
       "    }\n",
       "\n",
       "    .dataframe thead th {\n",
       "        text-align: right;\n",
       "    }\n",
       "</style>\n",
       "<table border=\"1\" class=\"dataframe\">\n",
       "  <thead>\n",
       "    <tr style=\"text-align: right;\">\n",
       "      <th></th>\n",
       "      <th>DateCrawled</th>\n",
       "      <th>Price</th>\n",
       "      <th>VehicleType</th>\n",
       "      <th>RegistrationYear</th>\n",
       "      <th>Gearbox</th>\n",
       "      <th>Power</th>\n",
       "      <th>Model</th>\n",
       "      <th>Kilometer</th>\n",
       "      <th>RegistrationMonth</th>\n",
       "      <th>FuelType</th>\n",
       "      <th>Brand</th>\n",
       "      <th>Repaired</th>\n",
       "      <th>DateCreated</th>\n",
       "      <th>NumberOfPictures</th>\n",
       "      <th>PostalCode</th>\n",
       "      <th>LastSeen</th>\n",
       "    </tr>\n",
       "  </thead>\n",
       "  <tbody>\n",
       "    <tr>\n",
       "      <th>0</th>\n",
       "      <td>2016-03-24 11:52:17</td>\n",
       "      <td>480</td>\n",
       "      <td>NaN</td>\n",
       "      <td>1993</td>\n",
       "      <td>manual</td>\n",
       "      <td>0</td>\n",
       "      <td>golf</td>\n",
       "      <td>150000</td>\n",
       "      <td>0</td>\n",
       "      <td>petrol</td>\n",
       "      <td>volkswagen</td>\n",
       "      <td>NaN</td>\n",
       "      <td>2016-03-24 00:00:00</td>\n",
       "      <td>0</td>\n",
       "      <td>70435</td>\n",
       "      <td>2016-04-07 03:16:57</td>\n",
       "    </tr>\n",
       "    <tr>\n",
       "      <th>1</th>\n",
       "      <td>2016-03-24 10:58:45</td>\n",
       "      <td>18300</td>\n",
       "      <td>coupe</td>\n",
       "      <td>2011</td>\n",
       "      <td>manual</td>\n",
       "      <td>190</td>\n",
       "      <td>NaN</td>\n",
       "      <td>125000</td>\n",
       "      <td>5</td>\n",
       "      <td>gasoline</td>\n",
       "      <td>audi</td>\n",
       "      <td>yes</td>\n",
       "      <td>2016-03-24 00:00:00</td>\n",
       "      <td>0</td>\n",
       "      <td>66954</td>\n",
       "      <td>2016-04-07 01:46:50</td>\n",
       "    </tr>\n",
       "    <tr>\n",
       "      <th>2</th>\n",
       "      <td>2016-03-14 12:52:21</td>\n",
       "      <td>9800</td>\n",
       "      <td>suv</td>\n",
       "      <td>2004</td>\n",
       "      <td>auto</td>\n",
       "      <td>163</td>\n",
       "      <td>grand</td>\n",
       "      <td>125000</td>\n",
       "      <td>8</td>\n",
       "      <td>gasoline</td>\n",
       "      <td>jeep</td>\n",
       "      <td>NaN</td>\n",
       "      <td>2016-03-14 00:00:00</td>\n",
       "      <td>0</td>\n",
       "      <td>90480</td>\n",
       "      <td>2016-04-05 12:47:46</td>\n",
       "    </tr>\n",
       "    <tr>\n",
       "      <th>3</th>\n",
       "      <td>2016-03-17 16:54:04</td>\n",
       "      <td>1500</td>\n",
       "      <td>small</td>\n",
       "      <td>2001</td>\n",
       "      <td>manual</td>\n",
       "      <td>75</td>\n",
       "      <td>golf</td>\n",
       "      <td>150000</td>\n",
       "      <td>6</td>\n",
       "      <td>petrol</td>\n",
       "      <td>volkswagen</td>\n",
       "      <td>no</td>\n",
       "      <td>2016-03-17 00:00:00</td>\n",
       "      <td>0</td>\n",
       "      <td>91074</td>\n",
       "      <td>2016-03-17 17:40:17</td>\n",
       "    </tr>\n",
       "    <tr>\n",
       "      <th>4</th>\n",
       "      <td>2016-03-31 17:25:20</td>\n",
       "      <td>3600</td>\n",
       "      <td>small</td>\n",
       "      <td>2008</td>\n",
       "      <td>manual</td>\n",
       "      <td>69</td>\n",
       "      <td>fabia</td>\n",
       "      <td>90000</td>\n",
       "      <td>7</td>\n",
       "      <td>gasoline</td>\n",
       "      <td>skoda</td>\n",
       "      <td>no</td>\n",
       "      <td>2016-03-31 00:00:00</td>\n",
       "      <td>0</td>\n",
       "      <td>60437</td>\n",
       "      <td>2016-04-06 10:17:21</td>\n",
       "    </tr>\n",
       "  </tbody>\n",
       "</table>\n",
       "</div>"
      ],
      "text/plain": [
       "           DateCrawled  Price VehicleType  RegistrationYear Gearbox  Power  \\\n",
       "0  2016-03-24 11:52:17    480         NaN              1993  manual      0   \n",
       "1  2016-03-24 10:58:45  18300       coupe              2011  manual    190   \n",
       "2  2016-03-14 12:52:21   9800         suv              2004    auto    163   \n",
       "3  2016-03-17 16:54:04   1500       small              2001  manual     75   \n",
       "4  2016-03-31 17:25:20   3600       small              2008  manual     69   \n",
       "\n",
       "   Model  Kilometer  RegistrationMonth  FuelType       Brand Repaired  \\\n",
       "0   golf     150000                  0    petrol  volkswagen      NaN   \n",
       "1    NaN     125000                  5  gasoline        audi      yes   \n",
       "2  grand     125000                  8  gasoline        jeep      NaN   \n",
       "3   golf     150000                  6    petrol  volkswagen       no   \n",
       "4  fabia      90000                  7  gasoline       skoda       no   \n",
       "\n",
       "           DateCreated  NumberOfPictures  PostalCode             LastSeen  \n",
       "0  2016-03-24 00:00:00                 0       70435  2016-04-07 03:16:57  \n",
       "1  2016-03-24 00:00:00                 0       66954  2016-04-07 01:46:50  \n",
       "2  2016-03-14 00:00:00                 0       90480  2016-04-05 12:47:46  \n",
       "3  2016-03-17 00:00:00                 0       91074  2016-03-17 17:40:17  \n",
       "4  2016-03-31 00:00:00                 0       60437  2016-04-06 10:17:21  "
      ]
     },
     "execution_count": 4,
     "metadata": {},
     "output_type": "execute_result"
    }
   ],
   "source": [
    "try:\n",
    "    data = pd.read_csv('C:/datasets/autos.csv')\n",
    "except:\n",
    "    data = pd.read_csv('/datasets/autos.csv')\n",
    "data.head()"
   ]
  },
  {
   "cell_type": "code",
   "execution_count": 5,
   "metadata": {},
   "outputs": [
    {
     "name": "stdout",
     "output_type": "stream",
     "text": [
      "<class 'pandas.core.frame.DataFrame'>\n",
      "RangeIndex: 354369 entries, 0 to 354368\n",
      "Data columns (total 16 columns):\n",
      " #   Column             Non-Null Count   Dtype \n",
      "---  ------             --------------   ----- \n",
      " 0   DateCrawled        354369 non-null  object\n",
      " 1   Price              354369 non-null  int64 \n",
      " 2   VehicleType        316879 non-null  object\n",
      " 3   RegistrationYear   354369 non-null  int64 \n",
      " 4   Gearbox            334536 non-null  object\n",
      " 5   Power              354369 non-null  int64 \n",
      " 6   Model              334664 non-null  object\n",
      " 7   Kilometer          354369 non-null  int64 \n",
      " 8   RegistrationMonth  354369 non-null  int64 \n",
      " 9   FuelType           321474 non-null  object\n",
      " 10  Brand              354369 non-null  object\n",
      " 11  Repaired           283215 non-null  object\n",
      " 12  DateCreated        354369 non-null  object\n",
      " 13  NumberOfPictures   354369 non-null  int64 \n",
      " 14  PostalCode         354369 non-null  int64 \n",
      " 15  LastSeen           354369 non-null  object\n",
      "dtypes: int64(7), object(9)\n",
      "memory usage: 43.3+ MB\n"
     ]
    }
   ],
   "source": [
    "data.info()"
   ]
  },
  {
   "cell_type": "code",
   "execution_count": 6,
   "metadata": {},
   "outputs": [
    {
     "data": {
      "text/html": [
       "<div>\n",
       "<style scoped>\n",
       "    .dataframe tbody tr th:only-of-type {\n",
       "        vertical-align: middle;\n",
       "    }\n",
       "\n",
       "    .dataframe tbody tr th {\n",
       "        vertical-align: top;\n",
       "    }\n",
       "\n",
       "    .dataframe thead th {\n",
       "        text-align: right;\n",
       "    }\n",
       "</style>\n",
       "<table border=\"1\" class=\"dataframe\">\n",
       "  <thead>\n",
       "    <tr style=\"text-align: right;\">\n",
       "      <th></th>\n",
       "      <th>Price</th>\n",
       "      <th>RegistrationYear</th>\n",
       "      <th>Power</th>\n",
       "      <th>Kilometer</th>\n",
       "      <th>RegistrationMonth</th>\n",
       "      <th>NumberOfPictures</th>\n",
       "      <th>PostalCode</th>\n",
       "    </tr>\n",
       "  </thead>\n",
       "  <tbody>\n",
       "    <tr>\n",
       "      <th>count</th>\n",
       "      <td>354369.000000</td>\n",
       "      <td>354369.000000</td>\n",
       "      <td>354369.000000</td>\n",
       "      <td>354369.000000</td>\n",
       "      <td>354369.000000</td>\n",
       "      <td>354369.0</td>\n",
       "      <td>354369.000000</td>\n",
       "    </tr>\n",
       "    <tr>\n",
       "      <th>mean</th>\n",
       "      <td>4416.656776</td>\n",
       "      <td>2004.234448</td>\n",
       "      <td>110.094337</td>\n",
       "      <td>128211.172535</td>\n",
       "      <td>5.714645</td>\n",
       "      <td>0.0</td>\n",
       "      <td>50508.689087</td>\n",
       "    </tr>\n",
       "    <tr>\n",
       "      <th>std</th>\n",
       "      <td>4514.158514</td>\n",
       "      <td>90.227958</td>\n",
       "      <td>189.850405</td>\n",
       "      <td>37905.341530</td>\n",
       "      <td>3.726421</td>\n",
       "      <td>0.0</td>\n",
       "      <td>25783.096248</td>\n",
       "    </tr>\n",
       "    <tr>\n",
       "      <th>min</th>\n",
       "      <td>0.000000</td>\n",
       "      <td>1000.000000</td>\n",
       "      <td>0.000000</td>\n",
       "      <td>5000.000000</td>\n",
       "      <td>0.000000</td>\n",
       "      <td>0.0</td>\n",
       "      <td>1067.000000</td>\n",
       "    </tr>\n",
       "    <tr>\n",
       "      <th>25%</th>\n",
       "      <td>1050.000000</td>\n",
       "      <td>1999.000000</td>\n",
       "      <td>69.000000</td>\n",
       "      <td>125000.000000</td>\n",
       "      <td>3.000000</td>\n",
       "      <td>0.0</td>\n",
       "      <td>30165.000000</td>\n",
       "    </tr>\n",
       "    <tr>\n",
       "      <th>50%</th>\n",
       "      <td>2700.000000</td>\n",
       "      <td>2003.000000</td>\n",
       "      <td>105.000000</td>\n",
       "      <td>150000.000000</td>\n",
       "      <td>6.000000</td>\n",
       "      <td>0.0</td>\n",
       "      <td>49413.000000</td>\n",
       "    </tr>\n",
       "    <tr>\n",
       "      <th>75%</th>\n",
       "      <td>6400.000000</td>\n",
       "      <td>2008.000000</td>\n",
       "      <td>143.000000</td>\n",
       "      <td>150000.000000</td>\n",
       "      <td>9.000000</td>\n",
       "      <td>0.0</td>\n",
       "      <td>71083.000000</td>\n",
       "    </tr>\n",
       "    <tr>\n",
       "      <th>max</th>\n",
       "      <td>20000.000000</td>\n",
       "      <td>9999.000000</td>\n",
       "      <td>20000.000000</td>\n",
       "      <td>150000.000000</td>\n",
       "      <td>12.000000</td>\n",
       "      <td>0.0</td>\n",
       "      <td>99998.000000</td>\n",
       "    </tr>\n",
       "  </tbody>\n",
       "</table>\n",
       "</div>"
      ],
      "text/plain": [
       "               Price  RegistrationYear          Power      Kilometer  \\\n",
       "count  354369.000000     354369.000000  354369.000000  354369.000000   \n",
       "mean     4416.656776       2004.234448     110.094337  128211.172535   \n",
       "std      4514.158514         90.227958     189.850405   37905.341530   \n",
       "min         0.000000       1000.000000       0.000000    5000.000000   \n",
       "25%      1050.000000       1999.000000      69.000000  125000.000000   \n",
       "50%      2700.000000       2003.000000     105.000000  150000.000000   \n",
       "75%      6400.000000       2008.000000     143.000000  150000.000000   \n",
       "max     20000.000000       9999.000000   20000.000000  150000.000000   \n",
       "\n",
       "       RegistrationMonth  NumberOfPictures     PostalCode  \n",
       "count      354369.000000          354369.0  354369.000000  \n",
       "mean            5.714645               0.0   50508.689087  \n",
       "std             3.726421               0.0   25783.096248  \n",
       "min             0.000000               0.0    1067.000000  \n",
       "25%             3.000000               0.0   30165.000000  \n",
       "50%             6.000000               0.0   49413.000000  \n",
       "75%             9.000000               0.0   71083.000000  \n",
       "max            12.000000               0.0   99998.000000  "
      ]
     },
     "execution_count": 6,
     "metadata": {},
     "output_type": "execute_result"
    }
   ],
   "source": [
    "data.describe()"
   ]
  },
  {
   "cell_type": "code",
   "execution_count": 7,
   "metadata": {},
   "outputs": [
    {
     "name": "stdout",
     "output_type": "stream",
     "text": [
      "['volkswagen' 'audi' 'jeep' 'skoda' 'bmw' 'peugeot' 'ford' 'mazda'\n",
      " 'nissan' 'renault' 'mercedes_benz' 'opel' 'seat' 'citroen' 'honda' 'fiat'\n",
      " 'mini' 'smart' 'hyundai' 'sonstige_autos' 'alfa_romeo' 'subaru' 'volvo'\n",
      " 'mitsubishi' 'kia' 'suzuki' 'lancia' 'toyota' 'chevrolet' 'dacia'\n",
      " 'daihatsu' 'trabant' 'saab' 'chrysler' 'jaguar' 'daewoo' 'porsche'\n",
      " 'rover' 'land_rover' 'lada']\n",
      "[nan 'coupe' 'suv' 'small' 'sedan' 'convertible' 'bus' 'wagon' 'other']\n",
      "['golf' nan 'grand' 'fabia' '3er' '2_reihe' 'other' 'c_max' '3_reihe'\n",
      " 'passat' 'navara' 'ka' 'polo' 'twingo' 'a_klasse' 'scirocco' '5er'\n",
      " 'meriva' 'arosa' 'c4' 'civic' 'transporter' 'punto' 'e_klasse' 'clio'\n",
      " 'kadett' 'kangoo' 'corsa' 'one' 'fortwo' '1er' 'b_klasse' 'signum'\n",
      " 'astra' 'a8' 'jetta' 'fiesta' 'c_klasse' 'micra' 'vito' 'sprinter' '156'\n",
      " 'escort' 'forester' 'xc_reihe' 'scenic' 'a4' 'a1' 'insignia' 'combo'\n",
      " 'focus' 'tt' 'a6' 'jazz' 'omega' 'slk' '7er' '80' '147' '100' 'z_reihe'\n",
      " 'sportage' 'sorento' 'v40' 'ibiza' 'mustang' 'eos' 'touran' 'getz' 'a3'\n",
      " 'almera' 'megane' 'lupo' 'r19' 'zafira' 'caddy' 'mondeo' 'cordoba' 'colt'\n",
      " 'impreza' 'vectra' 'berlingo' 'tiguan' 'i_reihe' 'espace' 'sharan'\n",
      " '6_reihe' 'panda' 'up' 'seicento' 'ceed' '5_reihe' 'yeti' 'octavia' 'mii'\n",
      " 'rx_reihe' '6er' 'modus' 'fox' 'matiz' 'beetle' 'c1' 'rio' 'touareg'\n",
      " 'logan' 'spider' 'cuore' 's_max' 'a2' 'galaxy' 'c3' 'viano' 's_klasse'\n",
      " '1_reihe' 'avensis' 'roomster' 'sl' 'kaefer' 'santa' 'cooper' 'leon'\n",
      " '4_reihe' 'a5' '500' 'laguna' 'ptcruiser' 'clk' 'primera' 'x_reihe'\n",
      " 'exeo' '159' 'transit' 'juke' 'qashqai' 'carisma' 'accord' 'corolla'\n",
      " 'lanos' 'phaeton' 'verso' 'swift' 'rav' 'picanto' 'boxster' 'kalos'\n",
      " 'superb' 'stilo' 'alhambra' 'mx_reihe' 'roadster' 'ypsilon' 'cayenne'\n",
      " 'galant' 'justy' '90' 'sirion' 'crossfire' 'agila' 'duster' 'cr_reihe'\n",
      " 'v50' 'c_reihe' 'v_klasse' 'm_klasse' 'yaris' 'c5' 'aygo' 'cc' 'carnival'\n",
      " 'fusion' '911' 'bora' 'forfour' 'm_reihe' 'cl' 'tigra' '300c' 'spark'\n",
      " 'v70' 'kuga' 'x_type' 'ducato' 's_type' 'x_trail' 'toledo' 'altea'\n",
      " 'voyager' 'calibra' 'bravo' 'antara' 'tucson' 'citigo' 'jimny' 'wrangler'\n",
      " 'lybra' 'q7' 'lancer' 'captiva' 'c2' 'discovery' 'freelander' 'sandero'\n",
      " 'note' '900' 'cherokee' 'clubman' 'samara' 'defender' '601' 'cx_reihe'\n",
      " 'legacy' 'pajero' 'auris' 'niva' 's60' 'nubira' 'vivaro' 'g_klasse'\n",
      " 'lodgy' '850' 'range_rover' 'q3' 'serie_2' 'glk' 'charade' 'croma'\n",
      " 'outlander' 'doblo' 'musa' 'move' '9000' 'v60' '145' 'aveo' '200' 'b_max'\n",
      " 'range_rover_sport' 'terios' 'rangerover' 'q5' 'range_rover_evoque'\n",
      " 'materia' 'delta' 'gl' 'kalina' 'amarok' 'elefantino' 'i3' 'kappa'\n",
      " 'serie_3' 'serie_1']\n"
     ]
    }
   ],
   "source": [
    "print(data['Brand'].unique(), data['VehicleType'].unique(), data['Model'].unique(),sep='\\n')"
   ]
  },
  {
   "cell_type": "code",
   "execution_count": 8,
   "metadata": {},
   "outputs": [
    {
     "data": {
      "text/plain": [
       "Index(['date_crawled', 'price', 'vehicle_type', 'registration_year', 'gearbox',\n",
       "       'power', 'model', 'kilometer', 'registration_month', 'fuel_type',\n",
       "       'brand', 'repaired', 'date_created', 'number_of_pictures',\n",
       "       'postal_code', 'last_seen'],\n",
       "      dtype='object')"
      ]
     },
     "execution_count": 8,
     "metadata": {},
     "output_type": "execute_result"
    }
   ],
   "source": [
    "data.columns = data.columns.str.lower()\n",
    "data = data.rename(columns = {'datecrawled':'date_crawled', 'vehicletype': 'vehicle_type', 'registrationyear': 'registration_year', \n",
    "                              'registrationmonth': 'registration_month', 'fueltype': 'fuel_type', 'datecreated': 'date_created', \n",
    "                              'numberofpictures': 'number_of_pictures', 'postalcode': 'postal_code', 'lastseen': 'last_seen'})\n",
    "data.columns"
   ]
  },
  {
   "cell_type": "markdown",
   "metadata": {},
   "source": [
    "<div class=\"alert alert-block alert-info\">\n",
    "<b>Комментарий:</b> Преобразуем названия столбцов в удобный нам вид.\n",
    "</div>"
   ]
  },
  {
   "cell_type": "code",
   "execution_count": 9,
   "metadata": {},
   "outputs": [
    {
     "data": {
      "text/plain": [
       "Index(['price', 'vehicle_type', 'registration_year', 'gearbox', 'power',\n",
       "       'model', 'kilometer', 'fuel_type', 'brand', 'repaired'],\n",
       "      dtype='object')"
      ]
     },
     "execution_count": 9,
     "metadata": {},
     "output_type": "execute_result"
    }
   ],
   "source": [
    "data.drop(['date_crawled', 'registration_month', 'date_created', 'number_of_pictures', 'postal_code', 'last_seen'], \n",
    "          inplace = True, axis=1)\n",
    "data.columns"
   ]
  },
  {
   "cell_type": "markdown",
   "metadata": {},
   "source": [
    "<div class=\"alert alert-block alert-info\">\n",
    "<b>Комментарий:</b> Удалим ненужные столбцы, которые не участвуют в обучении.\n",
    "</div>"
   ]
  },
  {
   "cell_type": "markdown",
   "metadata": {},
   "source": [
    "### Предобработка"
   ]
  },
  {
   "cell_type": "code",
   "execution_count": 10,
   "metadata": {},
   "outputs": [
    {
     "data": {
      "text/plain": [
       "price                 0.000000\n",
       "vehicle_type         10.579368\n",
       "registration_year     0.000000\n",
       "gearbox               5.596709\n",
       "power                 0.000000\n",
       "model                 5.560588\n",
       "kilometer             0.000000\n",
       "fuel_type             9.282697\n",
       "brand                 0.000000\n",
       "repaired             20.079070\n",
       "dtype: float64"
      ]
     },
     "execution_count": 10,
     "metadata": {},
     "output_type": "execute_result"
    }
   ],
   "source": [
    "data.isna().sum()/len(data)*100"
   ]
  },
  {
   "cell_type": "code",
   "execution_count": 11,
   "metadata": {
    "scrolled": true
   },
   "outputs": [
    {
     "data": {
      "text/plain": [
       "<AxesSubplot:ylabel='kilometer'>"
      ]
     },
     "execution_count": 11,
     "metadata": {},
     "output_type": "execute_result"
    },
    {
     "data": {
      "image/png": "[encoded data removed]",
      "text/plain": [
       "<Figure size 576x1440 with 4 Axes>"
      ]
     },
     "metadata": {},
     "output_type": "display_data"
    }
   ],
   "source": [
    "fig_1, (ax1,ax2,ax3,ax4) = plt.subplots(4,1,figsize=(8,20))\n",
    "sns.boxplot(ax = ax1, y='price',data=data)\n",
    "sns.boxplot(ax = ax2, y='registration_year',data=data)\n",
    "sns.boxplot(ax = ax3, y='power',data=data)\n",
    "sns.boxplot(ax = ax4, y='kilometer',data=data)"
   ]
  },
  {
   "cell_type": "markdown",
   "metadata": {},
   "source": [
    "<div class=\"alert alert-block alert-info\">\n",
    "<b>Комментарий:</b> Kilometer выглядит нормально, а вот остальные данные не очень, registration_year и power имеют много аномальных значений, price имеет много нулей или очень низких цен. Сначала разберемся с годами.\n",
    "</div>"
   ]
  },
  {
   "cell_type": "code",
   "execution_count": 12,
   "metadata": {},
   "outputs": [
    {
     "name": "stdout",
     "output_type": "stream",
     "text": [
      "Будет удалено данных: 5.240300364873902 %\n"
     ]
    }
   ],
   "source": [
    "print('Будет удалено данных:', \n",
    "      (len(data) - len(data.query('registration_year > 1980 & registration_year <= 2016')))/len(data)*100, '%')"
   ]
  },
  {
   "cell_type": "code",
   "execution_count": 13,
   "metadata": {},
   "outputs": [
    {
     "name": "stdout",
     "output_type": "stream",
     "text": [
      "Кол-во до удаления: 354369\n",
      "Кол-во после удаления: 335799\n"
     ]
    }
   ],
   "source": [
    "print('Кол-во до удаления:', len(data))\n",
    "data = data[(data['registration_year'] > 1980) & (data['registration_year'] <= 2016)]\n",
    "print('Кол-во после удаления:', len(data))\n",
    "data.reset_index(drop=True, inplace=True)"
   ]
  },
  {
   "cell_type": "markdown",
   "metadata": {},
   "source": [
    "<div class=\"alert alert-block alert-info\">\n",
    "<b>Комментарий:</b> Данных было удалено не много.\n",
    "</div>"
   ]
  },
  {
   "cell_type": "markdown",
   "metadata": {},
   "source": [
    "<div class=\"alert alert-block alert-info\">\n",
    "<b>Комментарий:</b> Модель будет тяжело восстановить, этих данных также не много, удалим их, чтобы через группировку бренда и модели заполнить пропущенные категориальные значения самыми распространенными.\n",
    "</div>"
   ]
  },
  {
   "cell_type": "code",
   "execution_count": 14,
   "metadata": {},
   "outputs": [
    {
     "name": "stdout",
     "output_type": "stream",
     "text": [
      "Кол-во данных: 319165\n"
     ]
    }
   ],
   "source": [
    "data = data.dropna(subset=['model']).reset_index(drop=True)\n",
    "print('Кол-во данных:', len(data))"
   ]
  },
  {
   "cell_type": "code",
   "execution_count": 15,
   "metadata": {
    "scrolled": true
   },
   "outputs": [],
   "source": [
    "func = lambda x: x.mode().iloc[0]\n",
    "data = data.fillna(data.groupby(['brand','model']).transform(func))"
   ]
  },
  {
   "cell_type": "code",
   "execution_count": 16,
   "metadata": {},
   "outputs": [
    {
     "data": {
      "text/plain": [
       "price                0\n",
       "vehicle_type         0\n",
       "registration_year    0\n",
       "gearbox              0\n",
       "power                0\n",
       "model                0\n",
       "kilometer            0\n",
       "fuel_type            0\n",
       "brand                0\n",
       "repaired             0\n",
       "dtype: int64"
      ]
     },
     "execution_count": 16,
     "metadata": {},
     "output_type": "execute_result"
    }
   ],
   "source": [
    "data.isna().sum()"
   ]
  },
  {
   "cell_type": "markdown",
   "metadata": {},
   "source": [
    "<div class=\"alert alert-block alert-info\">\n",
    "<b>Комментарий:</b> От пропусков избавились перейдем к выбросам.\n",
    "</div>"
   ]
  },
  {
   "cell_type": "markdown",
   "metadata": {},
   "source": [
    "<div class=\"alert alert-block alert-info\">\n",
    "<b>Комментарий:</b> Начнем со столбца power. Будем группировать по брендам, моделям, типу кузова, и топливу, брать среднее и заполнять там, где очень маленькие значения, очень большие удалим, их весьма мало.\n",
    "</div>"
   ]
  },
  {
   "cell_type": "code",
   "execution_count": 17,
   "metadata": {},
   "outputs": [
    {
     "name": "stdout",
     "output_type": "stream",
     "text": [
      "Кол-во до удаления: 319165\n",
      "Кол-во после удаления: 318798\n"
     ]
    }
   ],
   "source": [
    "print('Кол-во до удаления:', len(data))\n",
    "data = data.drop(data.query('power > 500').index).reset_index(drop=True)\n",
    "print('Кол-во после удаления:', len(data))"
   ]
  },
  {
   "cell_type": "code",
   "execution_count": 18,
   "metadata": {},
   "outputs": [],
   "source": [
    "data.loc[data.query('power < 50').index, 'power'] = data.groupby(['brand','model','vehicle_type','fuel_type'])['power'].transform('mean')[data.query('power < 50').index.values]"
   ]
  },
  {
   "cell_type": "code",
   "execution_count": 19,
   "metadata": {},
   "outputs": [
    {
     "name": "stdout",
     "output_type": "stream",
     "text": [
      "Кол-во до удаления: 318798\n",
      "Кол-во после удаления: 316113\n"
     ]
    }
   ],
   "source": [
    "print('Кол-во до удаления:', len(data))\n",
    "data = data.drop(data.query('power < 50').index).reset_index(drop=True)\n",
    "print('Кол-во после удаления:', len(data))"
   ]
  },
  {
   "cell_type": "markdown",
   "metadata": {},
   "source": [
    "<div class=\"alert alert-block alert-info\">\n",
    "<b>Комментарий:</b> Удалим остатки, которые по прежнему очень малы.\n",
    "</div>"
   ]
  },
  {
   "cell_type": "markdown",
   "metadata": {},
   "source": [
    "<div class=\"alert alert-block alert-info\">\n",
    "<b>Комментарий:</b> По такой же схеме как и со столбцом power, обработаем выбросы столбца price, правда нас интересует только нижняя граница\n",
    "</div>"
   ]
  },
  {
   "cell_type": "code",
   "execution_count": 20,
   "metadata": {},
   "outputs": [],
   "source": [
    "data.loc[data.query('price < 500').index, 'price'] = data.groupby(['brand','model','vehicle_type', 'kilometer', 'registration_year'])['price'].transform('mean')[data.query('price < 500').index.values]"
   ]
  },
  {
   "cell_type": "code",
   "execution_count": 21,
   "metadata": {},
   "outputs": [
    {
     "name": "stdout",
     "output_type": "stream",
     "text": [
      "Кол-во до удаления: 316113\n",
      "Кол-во после удаления: 310617\n"
     ]
    }
   ],
   "source": [
    "print('Кол-во до удаления:', len(data))\n",
    "data = data.drop(data.query('price < 500').index).reset_index(drop=True)\n",
    "print('Кол-во после удаления:', len(data))"
   ]
  },
  {
   "cell_type": "code",
   "execution_count": 22,
   "metadata": {},
   "outputs": [
    {
     "data": {
      "text/plain": [
       "<AxesSubplot:ylabel='kilometer'>"
      ]
     },
     "execution_count": 22,
     "metadata": {},
     "output_type": "execute_result"
    },
    {
     "data": {
      "image/png": "[encoded data removed]",
      "text/plain": [
       "<Figure size 576x1440 with 4 Axes>"
      ]
     },
     "metadata": {},
     "output_type": "display_data"
    }
   ],
   "source": [
    "fig_1, (ax1,ax2,ax3,ax4) = plt.subplots(4,1,figsize=(8,20))\n",
    "sns.boxplot(ax = ax1, y='price',data=data)\n",
    "sns.boxplot(ax = ax2, y='registration_year',data=data)\n",
    "sns.boxplot(ax = ax3, y='power',data=data)\n",
    "sns.boxplot(ax = ax4, y='kilometer',data=data)"
   ]
  },
  {
   "cell_type": "markdown",
   "metadata": {},
   "source": [
    "<div class=\"alert alert-block alert-info\">\n",
    "<b>Комментарий:</b> Ящики с усами выглядят приемлемо.\n",
    "</div>"
   ]
  },
  {
   "cell_type": "markdown",
   "metadata": {},
   "source": [
    "## Обучение моделей"
   ]
  },
  {
   "cell_type": "markdown",
   "metadata": {},
   "source": [
    "### Подготовим данные к обучению"
   ]
  },
  {
   "cell_type": "markdown",
   "metadata": {},
   "source": [
    "<div class=\"alert alert-block alert-info\">\n",
    "<b>Комментарий:</b> Масштабируем и закодируем признаки.\n",
    "</div>"
   ]
  },
  {
   "cell_type": "code",
   "execution_count": 23,
   "metadata": {},
   "outputs": [
    {
     "name": "stdout",
     "output_type": "stream",
     "text": [
      "Общий размер: (310617, 9) (310617,) \n",
      "Размер тренировочной выборки: (248493, 9) (248493,) \n",
      "Размер тестовой выборки: (62124, 9) (62124,)\n"
     ]
    }
   ],
   "source": [
    "target = data['price']\n",
    "features = data.drop(['price'], axis=1)\n",
    "features_train, features_test, target_train, target_test, = train_test_split(features,target, \n",
    "                                                                             train_size=0.8, random_state=12345)\n",
    "features_train.reset_index(drop=True, inplace=True)\n",
    "target_train.reset_index(drop=True, inplace=True)\n",
    "features_test.reset_index(drop=True, inplace=True)\n",
    "target_test.reset_index(drop=True, inplace=True)\n",
    "print('Общий размер:', features.shape, target.shape, \n",
    "      '\\nРазмер тренировочной выборки:', features_train.shape, target_train.shape,\n",
    "      '\\nРазмер тестовой выборки:', features_test.shape, target_test.shape)"
   ]
  },
  {
   "cell_type": "code",
   "execution_count": 24,
   "metadata": {},
   "outputs": [
    {
     "name": "stdout",
     "output_type": "stream",
     "text": [
      "Категориальные данные: ['vehicle_type', 'gearbox', 'model', 'fuel_type', 'brand', 'repaired']\n",
      "Количественные данные: ['registration_year', 'power', 'kilometer']\n"
     ]
    }
   ],
   "source": [
    "numeric_features = features_train.select_dtypes(exclude='object').columns.to_list()\n",
    "categoric_features = features_train.select_dtypes(include='object').columns.to_list()\n",
    "print('Категориальные данные:', categoric_features)\n",
    "print('Количественные данные:', numeric_features)"
   ]
  },
  {
   "cell_type": "markdown",
   "metadata": {},
   "source": [
    "<div class=\"alert alert-block alert-info\">\n",
    "<b>Комментарий:</b> OHE кодирование выполено после разбиения на выборки. Также  ходе проб и ошибок, было выявлено, что CatboostRegressor показывает результат лучше при предварительном кодировании, а LGBMRegressor наоборот лучше при встроенном кодировании. В соотсветсвии с этими данным и были подготовлены выборки. \n",
    "</div>"
   ]
  },
  {
   "cell_type": "markdown",
   "metadata": {},
   "source": [
    "#### Выборка для LinearRegression"
   ]
  },
  {
   "cell_type": "code",
   "execution_count": 25,
   "metadata": {},
   "outputs": [
    {
     "data": {
      "text/plain": [
       "(248493, 303)"
      ]
     },
     "execution_count": 25,
     "metadata": {},
     "output_type": "execute_result"
    }
   ],
   "source": [
    "features_train_ohe = features_train.copy()\n",
    "features_test_ohe = features_test.copy()\n",
    "\n",
    "encoder_ohe = OneHotEncoder(drop='first', handle_unknown='ignore', sparse=False)\n",
    "\n",
    "encoder_ohe.fit(features_train_ohe[categoric_features])\n",
    "\n",
    "scaler_ohe = StandardScaler()\n",
    "\n",
    "# добавляем закодированные признаки, предварительно разбив на два датасета, поскольку если делать это с одним большим\n",
    "# происходит coredumped\n",
    "first_part = features_train_ohe.shape[0]//2\n",
    "temp_first_part = features_train_ohe[:first_part]\n",
    "temp_second_part = features_train_ohe[first_part:features_train_ohe.shape[0]]\n",
    "\n",
    "temp_first_part[encoder_ohe.get_feature_names_out()] = encoder_ohe.transform(temp_first_part[categoric_features])\n",
    "temp_second_part[encoder_ohe.get_feature_names_out()] = encoder_ohe.transform(temp_second_part[categoric_features])\n",
    "features_train_ohe = pd.concat([temp_first_part,temp_second_part])\n",
    "\n",
    "features_train_ohe = features_train_ohe.drop(categoric_features, axis=1)\n",
    "\n",
    "scaler_ohe.fit(features_train_ohe[numeric_features])\n",
    "features_train_ohe[numeric_features] = scaler_ohe.transform(features_train_ohe[numeric_features])\n",
    "\n",
    "features_train_ohe.shape"
   ]
  },
  {
   "cell_type": "code",
   "execution_count": 26,
   "metadata": {},
   "outputs": [
    {
     "data": {
      "text/plain": [
       "(62124, 303)"
      ]
     },
     "execution_count": 26,
     "metadata": {},
     "output_type": "execute_result"
    }
   ],
   "source": [
    "features_test_ohe[encoder_ohe.get_feature_names_out()] = encoder_ohe.transform(features_test_ohe[categoric_features])\n",
    "\n",
    "features_test_ohe = features_test_ohe.drop(categoric_features, axis=1)\n",
    "features_test_ohe[numeric_features] = scaler_ohe.transform(features_test_ohe[numeric_features])\n",
    "features_test_ohe.shape"
   ]
  },
  {
   "cell_type": "code",
   "execution_count": 27,
   "metadata": {},
   "outputs": [
    {
     "name": "stdout",
     "output_type": "stream",
     "text": [
      "Несовпадений в столбцах: 0\n"
     ]
    }
   ],
   "source": [
    "print('Несовпадений в столбцах:',(features_train_ohe.columns != features_test_ohe.columns).sum())"
   ]
  },
  {
   "cell_type": "markdown",
   "metadata": {},
   "source": [
    "#### Выборка для CatBoostRegressor"
   ]
  },
  {
   "cell_type": "code",
   "execution_count": 28,
   "metadata": {},
   "outputs": [
    {
     "data": {
      "text/plain": [
       "(248493, 9)"
      ]
     },
     "execution_count": 28,
     "metadata": {},
     "output_type": "execute_result"
    }
   ],
   "source": [
    "features_train_ore = features_train.copy()\n",
    "features_test_ore = features_test.copy()\n",
    "\n",
    "encoder_ore = OrdinalEncoder(handle_unknown='use_encoded_value', unknown_value=-1) \n",
    "\n",
    "encoder_ore.fit(features_train_ore[categoric_features])\n",
    "\n",
    "scaler_ore = StandardScaler()\n",
    "\n",
    "features_train_ore[categoric_features] = encoder_ore.transform(features_train_ore[categoric_features])\n",
    "\n",
    "scaler_ore.fit(features_train_ore[numeric_features])\n",
    "features_train_ore[numeric_features] = scaler_ore.transform(features_train_ore[numeric_features])\n",
    "\n",
    "features_train_ore.shape"
   ]
  },
  {
   "cell_type": "code",
   "execution_count": 29,
   "metadata": {},
   "outputs": [
    {
     "data": {
      "text/plain": [
       "(62124, 9)"
      ]
     },
     "execution_count": 29,
     "metadata": {},
     "output_type": "execute_result"
    }
   ],
   "source": [
    "features_test_ore[categoric_features] = encoder_ore.transform(features_test_ore[categoric_features])\n",
    "\n",
    "features_test_ore[numeric_features] = scaler_ore.transform(features_test_ore[numeric_features])\n",
    "features_test_ore.shape"
   ]
  },
  {
   "cell_type": "code",
   "execution_count": 30,
   "metadata": {},
   "outputs": [
    {
     "name": "stdout",
     "output_type": "stream",
     "text": [
      "Несовпадений в столбцах: 0\n"
     ]
    }
   ],
   "source": [
    "print('Несовпадений в столбцах:',(features_train_ore.columns != features_test_ore.columns).sum())"
   ]
  },
  {
   "cell_type": "markdown",
   "metadata": {},
   "source": [
    "#### Выборка для LGBMRegressor"
   ]
  },
  {
   "cell_type": "code",
   "execution_count": 31,
   "metadata": {},
   "outputs": [
    {
     "name": "stdout",
     "output_type": "stream",
     "text": [
      "(248493, 9)\n"
     ]
    },
    {
     "data": {
      "text/plain": [
       "vehicle_type         category\n",
       "registration_year     float64\n",
       "gearbox              category\n",
       "power                 float64\n",
       "model                category\n",
       "kilometer             float64\n",
       "fuel_type            category\n",
       "brand                category\n",
       "repaired             category\n",
       "dtype: object"
      ]
     },
     "execution_count": 31,
     "metadata": {},
     "output_type": "execute_result"
    }
   ],
   "source": [
    "features_train_lgb = features_train.copy()\n",
    "features_train_lgb[categoric_features] = features_train[categoric_features].astype('category')\n",
    "\n",
    "scaler_lgb = StandardScaler()\n",
    "\n",
    "scaler_lgb.fit(features_train_lgb[numeric_features])\n",
    "features_train_lgb[numeric_features] = scaler_lgb.transform(features_train_lgb[numeric_features])\n",
    "\n",
    "print(features_train_lgb.shape)\n",
    "features_train_lgb.dtypes"
   ]
  },
  {
   "cell_type": "code",
   "execution_count": 32,
   "metadata": {},
   "outputs": [
    {
     "data": {
      "text/plain": [
       "(62124, 9)"
      ]
     },
     "execution_count": 32,
     "metadata": {},
     "output_type": "execute_result"
    }
   ],
   "source": [
    "features_test_lgb = features_test.copy()\n",
    "features_test_lgb[categoric_features] = features_test[categoric_features].astype('category')\n",
    "\n",
    "features_test_lgb[numeric_features] = scaler_lgb.transform(features_test_lgb[numeric_features])\n",
    "features_test_lgb.shape"
   ]
  },
  {
   "cell_type": "code",
   "execution_count": 33,
   "metadata": {},
   "outputs": [
    {
     "name": "stdout",
     "output_type": "stream",
     "text": [
      "Несовпадений в столбцах: 0\n"
     ]
    }
   ],
   "source": [
    "print('Несовпадений в столбцах:',(features_train_lgb.columns != features_test_lgb.columns).sum())"
   ]
  },
  {
   "cell_type": "markdown",
   "metadata": {},
   "source": [
    "### Обучим модели"
   ]
  },
  {
   "cell_type": "code",
   "execution_count": 34,
   "metadata": {},
   "outputs": [],
   "source": [
    "model_linear_reg = LinearRegression()"
   ]
  },
  {
   "cell_type": "code",
   "execution_count": 35,
   "metadata": {},
   "outputs": [
    {
     "name": "stdout",
     "output_type": "stream",
     "text": [
      "CPU times: user 21.6 s, sys: 12 s, total: 33.7 s\n",
      "Wall time: 33.7 s\n"
     ]
    },
    {
     "data": {
      "text/html": [
       "<style>#sk-container-id-1 {color: black;background-color: white;}#sk-container-id-1 pre{padding: 0;}#sk-container-id-1 div.sk-toggleable {background-color: white;}#sk-container-id-1 label.sk-toggleable__label {cursor: pointer;display: block;width: 100%;margin-bottom: 0;padding: 0.3em;box-sizing: border-box;text-align: center;}#sk-container-id-1 label.sk-toggleable__label-arrow:before {content: \"▸\";float: left;margin-right: 0.25em;color: #696969;}#sk-container-id-1 label.sk-toggleable__label-arrow:hover:before {color: black;}#sk-container-id-1 div.sk-estimator:hover label.sk-toggleable__label-arrow:before {color: black;}#sk-container-id-1 div.sk-toggleable__content {max-height: 0;max-width: 0;overflow: hidden;text-align: left;background-color: #f0f8ff;}#sk-container-id-1 div.sk-toggleable__content pre {margin: 0.2em;color: black;border-radius: 0.25em;background-color: #f0f8ff;}#sk-container-id-1 input.sk-toggleable__control:checked~div.sk-toggleable__content {max-height: 200px;max-width: 100%;overflow: auto;}#sk-container-id-1 input.sk-toggleable__control:checked~label.sk-toggleable__label-arrow:before {content: \"▾\";}#sk-container-id-1 div.sk-estimator input.sk-toggleable__control:checked~label.sk-toggleable__label {background-color: #d4ebff;}#sk-container-id-1 div.sk-label input.sk-toggleable__control:checked~label.sk-toggleable__label {background-color: #d4ebff;}#sk-container-id-1 input.sk-hidden--visually {border: 0;clip: rect(1px 1px 1px 1px);clip: rect(1px, 1px, 1px, 1px);height: 1px;margin: -1px;overflow: hidden;padding: 0;position: absolute;width: 1px;}#sk-container-id-1 div.sk-estimator {font-family: monospace;background-color: #f0f8ff;border: 1px dotted black;border-radius: 0.25em;box-sizing: border-box;margin-bottom: 0.5em;}#sk-container-id-1 div.sk-estimator:hover {background-color: #d4ebff;}#sk-container-id-1 div.sk-parallel-item::after {content: \"\";width: 100%;border-bottom: 1px solid gray;flex-grow: 1;}#sk-container-id-1 div.sk-label:hover label.sk-toggleable__label {background-color: #d4ebff;}#sk-container-id-1 div.sk-serial::before {content: \"\";position: absolute;border-left: 1px solid gray;box-sizing: border-box;top: 0;bottom: 0;left: 50%;z-index: 0;}#sk-container-id-1 div.sk-serial {display: flex;flex-direction: column;align-items: center;background-color: white;padding-right: 0.2em;padding-left: 0.2em;position: relative;}#sk-container-id-1 div.sk-item {position: relative;z-index: 1;}#sk-container-id-1 div.sk-parallel {display: flex;align-items: stretch;justify-content: center;background-color: white;position: relative;}#sk-container-id-1 div.sk-item::before, #sk-container-id-1 div.sk-parallel-item::before {content: \"\";position: absolute;border-left: 1px solid gray;box-sizing: border-box;top: 0;bottom: 0;left: 50%;z-index: -1;}#sk-container-id-1 div.sk-parallel-item {display: flex;flex-direction: column;z-index: 1;position: relative;background-color: white;}#sk-container-id-1 div.sk-parallel-item:first-child::after {align-self: flex-end;width: 50%;}#sk-container-id-1 div.sk-parallel-item:last-child::after {align-self: flex-start;width: 50%;}#sk-container-id-1 div.sk-parallel-item:only-child::after {width: 0;}#sk-container-id-1 div.sk-dashed-wrapped {border: 1px dashed gray;margin: 0 0.4em 0.5em 0.4em;box-sizing: border-box;padding-bottom: 0.4em;background-color: white;}#sk-container-id-1 div.sk-label label {font-family: monospace;font-weight: bold;display: inline-block;line-height: 1.2em;}#sk-container-id-1 div.sk-label-container {text-align: center;}#sk-container-id-1 div.sk-container {/* jupyter's `normalize.less` sets `[hidden] { display: none; }` but bootstrap.min.css set `[hidden] { display: none !important; }` so we also need the `!important` here to be able to override the default hidden behavior on the sphinx rendered scikit-learn.org. See: https://github.com/scikit-learn/scikit-learn/issues/21755 */display: inline-block !important;position: relative;}#sk-container-id-1 div.sk-text-repr-fallback {display: none;}</style><div id=\"sk-container-id-1\" class=\"sk-top-container\"><div class=\"sk-text-repr-fallback\"><pre>LinearRegression()</pre><b>In a Jupyter environment, please rerun this cell to show the HTML representation or trust the notebook. <br />On GitHub, the HTML representation is unable to render, please try loading this page with nbviewer.org.</b></div><div class=\"sk-container\" hidden><div class=\"sk-item\"><div class=\"sk-estimator sk-toggleable\"><input class=\"sk-toggleable__control sk-hidden--visually\" id=\"sk-estimator-id-1\" type=\"checkbox\" checked><label for=\"sk-estimator-id-1\" class=\"sk-toggleable__label sk-toggleable__label-arrow\">LinearRegression</label><div class=\"sk-toggleable__content\"><pre>LinearRegression()</pre></div></div></div></div></div>"
      ],
      "text/plain": [
       "LinearRegression()"
      ]
     },
     "execution_count": 35,
     "metadata": {},
     "output_type": "execute_result"
    }
   ],
   "source": [
    "%%time\n",
    "model_linear_reg.fit(features_train_ohe,target_train);"
   ]
  },
  {
   "cell_type": "code",
   "execution_count": 36,
   "metadata": {},
   "outputs": [
    {
     "name": "stdout",
     "output_type": "stream",
     "text": [
      "CPU times: user 163 ms, sys: 37.7 ms, total: 200 ms\n",
      "Wall time: 195 ms\n"
     ]
    }
   ],
   "source": [
    "%%time\n",
    "linear_predict = model_linear_reg.predict(features_train_ohe)"
   ]
  },
  {
   "cell_type": "code",
   "execution_count": 37,
   "metadata": {},
   "outputs": [
    {
     "name": "stdout",
     "output_type": "stream",
     "text": [
      "LinearRegression RMSE: 2447.848487784839\n"
     ]
    }
   ],
   "source": [
    "print(\"LinearRegression RMSE:\", mean_squared_error(target_train, linear_predict)**0.5)"
   ]
  },
  {
   "cell_type": "code",
   "execution_count": 38,
   "metadata": {
    "scrolled": true
   },
   "outputs": [
    {
     "name": "stdout",
     "output_type": "stream",
     "text": [
      "CPU times: user 417 µs, sys: 61 µs, total: 478 µs\n",
      "Wall time: 165 µs\n"
     ]
    }
   ],
   "source": [
    "%%time\n",
    "CBR = CatBoostRegressor(random_state=12345, verbose = False, loss_function ='RMSE')\n",
    "parameters_CBR = {'depth': [4,5,6,7],\n",
    "                  'learning_rate': [0.03,0.1],\n",
    "                  'iterations': [10, 20,30,40]}\n",
    "grid_CBR = GridSearchCV(CBR, param_grid = parameters_CBR, \n",
    "                        cv=5, scoring = \"neg_mean_squared_error\", n_jobs=-1)"
   ]
  },
  {
   "cell_type": "code",
   "execution_count": 39,
   "metadata": {},
   "outputs": [
    {
     "name": "stdout",
     "output_type": "stream",
     "text": [
      "CatBoost GridCV RMSE: 1836.9354515151913\n",
      "Параметры модели CatBoostRegressor: {'depth': 7, 'iterations': 40, 'learning_rate': 0.1}\n",
      "CPU times: user 1min 56s, sys: 1.2 s, total: 1min 57s\n",
      "Wall time: 3min 4s\n"
     ]
    }
   ],
   "source": [
    "%%time\n",
    "grid_CBR.fit(features_train_ore, target_train)\n",
    "print(\"CatBoost GridCV RMSE:\", np.sqrt(grid_CBR.best_score_*(-1)))\n",
    "print(\"Параметры модели CatBoostRegressor:\", grid_CBR.best_params_)"
   ]
  },
  {
   "cell_type": "code",
   "execution_count": 40,
   "metadata": {},
   "outputs": [
    {
     "name": "stdout",
     "output_type": "stream",
     "text": [
      "CatBoost GridCV RMSE: 1839.4009632225939\n",
      "CPU times: user 40.8 ms, sys: 972 µs, total: 41.8 ms\n",
      "Wall time: 39.9 ms\n"
     ]
    }
   ],
   "source": [
    "%%time \n",
    "cat_predict = grid_CBR.best_estimator_.predict(features_train_ore)\n",
    "print(\"CatBoost GridCV RMSE:\", mean_squared_error(target_train, cat_predict)**0.5)"
   ]
  },
  {
   "cell_type": "code",
   "execution_count": 41,
   "metadata": {},
   "outputs": [
    {
     "name": "stdout",
     "output_type": "stream",
     "text": [
      "CPU times: user 20 µs, sys: 1e+03 ns, total: 21 µs\n",
      "Wall time: 25 µs\n"
     ]
    }
   ],
   "source": [
    "%%time\n",
    "grid_CBR_random = RandomizedSearchCV(CBR, param_distributions = parameters_CBR, \n",
    "                                     cv=5, scoring = \"neg_mean_squared_error\", n_jobs=-1)"
   ]
  },
  {
   "cell_type": "code",
   "execution_count": 42,
   "metadata": {},
   "outputs": [
    {
     "name": "stdout",
     "output_type": "stream",
     "text": [
      "CatBoost RandomCV RMSE: 1979.0746576064475\n",
      "Параметры модели CatBoostRegressor: {'learning_rate': 0.1, 'iterations': 30, 'depth': 6}\n",
      "CPU times: user 35.1 s, sys: 373 ms, total: 35.5 s\n",
      "Wall time: 54.8 s\n"
     ]
    }
   ],
   "source": [
    "%%time\n",
    "grid_CBR_random.fit(features_train_ore, target_train)\n",
    "print(\"CatBoost RandomCV RMSE:\", np.sqrt(grid_CBR_random.best_score_*(-1)))\n",
    "print(\"Параметры модели CatBoostRegressor:\", grid_CBR_random.best_params_)"
   ]
  },
  {
   "cell_type": "code",
   "execution_count": 43,
   "metadata": {},
   "outputs": [
    {
     "name": "stdout",
     "output_type": "stream",
     "text": [
      "CatBoost RandomCV RMSE: 1976.5830576981998\n",
      "CPU times: user 25 ms, sys: 3.77 ms, total: 28.7 ms\n",
      "Wall time: 26.7 ms\n"
     ]
    }
   ],
   "source": [
    "%%time \n",
    "cat_predict_random = grid_CBR_random.best_estimator_.predict(features_train_ore)\n",
    "print(\"CatBoost RandomCV RMSE:\", mean_squared_error(target_train, cat_predict_random)**0.5)"
   ]
  },
  {
   "cell_type": "code",
   "execution_count": 44,
   "metadata": {},
   "outputs": [],
   "source": [
    "lgb_model = lgb.LGBMRegressor(metric = 'rmse',random_state=12345)"
   ]
  },
  {
   "cell_type": "code",
   "execution_count": 45,
   "metadata": {},
   "outputs": [
    {
     "name": "stdout",
     "output_type": "stream",
     "text": [
      "CPU times: user 5min 35s, sys: 5.23 s, total: 5min 40s\n",
      "Wall time: 5min 43s\n"
     ]
    },
    {
     "data": {
      "text/html": [
       "<style>#sk-container-id-2 {color: black;background-color: white;}#sk-container-id-2 pre{padding: 0;}#sk-container-id-2 div.sk-toggleable {background-color: white;}#sk-container-id-2 label.sk-toggleable__label {cursor: pointer;display: block;width: 100%;margin-bottom: 0;padding: 0.3em;box-sizing: border-box;text-align: center;}#sk-container-id-2 label.sk-toggleable__label-arrow:before {content: \"▸\";float: left;margin-right: 0.25em;color: #696969;}#sk-container-id-2 label.sk-toggleable__label-arrow:hover:before {color: black;}#sk-container-id-2 div.sk-estimator:hover label.sk-toggleable__label-arrow:before {color: black;}#sk-container-id-2 div.sk-toggleable__content {max-height: 0;max-width: 0;overflow: hidden;text-align: left;background-color: #f0f8ff;}#sk-container-id-2 div.sk-toggleable__content pre {margin: 0.2em;color: black;border-radius: 0.25em;background-color: #f0f8ff;}#sk-container-id-2 input.sk-toggleable__control:checked~div.sk-toggleable__content {max-height: 200px;max-width: 100%;overflow: auto;}#sk-container-id-2 input.sk-toggleable__control:checked~label.sk-toggleable__label-arrow:before {content: \"▾\";}#sk-container-id-2 div.sk-estimator input.sk-toggleable__control:checked~label.sk-toggleable__label {background-color: #d4ebff;}#sk-container-id-2 div.sk-label input.sk-toggleable__control:checked~label.sk-toggleable__label {background-color: #d4ebff;}#sk-container-id-2 input.sk-hidden--visually {border: 0;clip: rect(1px 1px 1px 1px);clip: rect(1px, 1px, 1px, 1px);height: 1px;margin: -1px;overflow: hidden;padding: 0;position: absolute;width: 1px;}#sk-container-id-2 div.sk-estimator {font-family: monospace;background-color: #f0f8ff;border: 1px dotted black;border-radius: 0.25em;box-sizing: border-box;margin-bottom: 0.5em;}#sk-container-id-2 div.sk-estimator:hover {background-color: #d4ebff;}#sk-container-id-2 div.sk-parallel-item::after {content: \"\";width: 100%;border-bottom: 1px solid gray;flex-grow: 1;}#sk-container-id-2 div.sk-label:hover label.sk-toggleable__label {background-color: #d4ebff;}#sk-container-id-2 div.sk-serial::before {content: \"\";position: absolute;border-left: 1px solid gray;box-sizing: border-box;top: 0;bottom: 0;left: 50%;z-index: 0;}#sk-container-id-2 div.sk-serial {display: flex;flex-direction: column;align-items: center;background-color: white;padding-right: 0.2em;padding-left: 0.2em;position: relative;}#sk-container-id-2 div.sk-item {position: relative;z-index: 1;}#sk-container-id-2 div.sk-parallel {display: flex;align-items: stretch;justify-content: center;background-color: white;position: relative;}#sk-container-id-2 div.sk-item::before, #sk-container-id-2 div.sk-parallel-item::before {content: \"\";position: absolute;border-left: 1px solid gray;box-sizing: border-box;top: 0;bottom: 0;left: 50%;z-index: -1;}#sk-container-id-2 div.sk-parallel-item {display: flex;flex-direction: column;z-index: 1;position: relative;background-color: white;}#sk-container-id-2 div.sk-parallel-item:first-child::after {align-self: flex-end;width: 50%;}#sk-container-id-2 div.sk-parallel-item:last-child::after {align-self: flex-start;width: 50%;}#sk-container-id-2 div.sk-parallel-item:only-child::after {width: 0;}#sk-container-id-2 div.sk-dashed-wrapped {border: 1px dashed gray;margin: 0 0.4em 0.5em 0.4em;box-sizing: border-box;padding-bottom: 0.4em;background-color: white;}#sk-container-id-2 div.sk-label label {font-family: monospace;font-weight: bold;display: inline-block;line-height: 1.2em;}#sk-container-id-2 div.sk-label-container {text-align: center;}#sk-container-id-2 div.sk-container {/* jupyter's `normalize.less` sets `[hidden] { display: none; }` but bootstrap.min.css set `[hidden] { display: none !important; }` so we also need the `!important` here to be able to override the default hidden behavior on the sphinx rendered scikit-learn.org. See: https://github.com/scikit-learn/scikit-learn/issues/21755 */display: inline-block !important;position: relative;}#sk-container-id-2 div.sk-text-repr-fallback {display: none;}</style><div id=\"sk-container-id-2\" class=\"sk-top-container\"><div class=\"sk-text-repr-fallback\"><pre>LGBMRegressor(metric=&#x27;rmse&#x27;, random_state=12345)</pre><b>In a Jupyter environment, please rerun this cell to show the HTML representation or trust the notebook. <br />On GitHub, the HTML representation is unable to render, please try loading this page with nbviewer.org.</b></div><div class=\"sk-container\" hidden><div class=\"sk-item\"><div class=\"sk-estimator sk-toggleable\"><input class=\"sk-toggleable__control sk-hidden--visually\" id=\"sk-estimator-id-2\" type=\"checkbox\" checked><label for=\"sk-estimator-id-2\" class=\"sk-toggleable__label sk-toggleable__label-arrow\">LGBMRegressor</label><div class=\"sk-toggleable__content\"><pre>LGBMRegressor(metric=&#x27;rmse&#x27;, random_state=12345)</pre></div></div></div></div></div>"
      ],
      "text/plain": [
       "LGBMRegressor(metric='rmse', random_state=12345)"
      ]
     },
     "execution_count": 45,
     "metadata": {},
     "output_type": "execute_result"
    }
   ],
   "source": [
    "%%time\n",
    "lgb_model.fit(features_train_lgb,target_train)"
   ]
  },
  {
   "cell_type": "code",
   "execution_count": 46,
   "metadata": {},
   "outputs": [
    {
     "name": "stdout",
     "output_type": "stream",
     "text": [
      "CPU times: user 2.46 s, sys: 114 µs, total: 2.46 s\n",
      "Wall time: 2.5 s\n"
     ]
    }
   ],
   "source": [
    "%%time\n",
    "lgb_predict = lgb_model.predict(features_train_lgb)"
   ]
  },
  {
   "cell_type": "code",
   "execution_count": 47,
   "metadata": {},
   "outputs": [
    {
     "name": "stdout",
     "output_type": "stream",
     "text": [
      "LGBMRegressor RMSE: 1485.7935793540041\n"
     ]
    }
   ],
   "source": [
    "print(\"LGBMRegressor RMSE:\", mean_squared_error(target_train, lgb_predict)**0.5)"
   ]
  },
  {
   "cell_type": "code",
   "execution_count": 48,
   "metadata": {},
   "outputs": [
    {
     "data": {
      "text/html": [
       "<div>\n",
       "<style scoped>\n",
       "    .dataframe tbody tr th:only-of-type {\n",
       "        vertical-align: middle;\n",
       "    }\n",
       "\n",
       "    .dataframe tbody tr th {\n",
       "        vertical-align: top;\n",
       "    }\n",
       "\n",
       "    .dataframe thead th {\n",
       "        text-align: right;\n",
       "    }\n",
       "</style>\n",
       "<table border=\"1\" class=\"dataframe\">\n",
       "  <thead>\n",
       "    <tr style=\"text-align: right;\">\n",
       "      <th></th>\n",
       "      <th>RMSE</th>\n",
       "      <th>time_learning</th>\n",
       "      <th>time_predict</th>\n",
       "    </tr>\n",
       "  </thead>\n",
       "  <tbody>\n",
       "    <tr>\n",
       "      <th>LinearRegression</th>\n",
       "      <td>2447.848488</td>\n",
       "      <td>32.5s</td>\n",
       "      <td>200ms</td>\n",
       "    </tr>\n",
       "    <tr>\n",
       "      <th>CatBoostRegressor GridCV</th>\n",
       "      <td>1839.400963</td>\n",
       "      <td>1min 57s</td>\n",
       "      <td>41.8ms</td>\n",
       "    </tr>\n",
       "    <tr>\n",
       "      <th>CatBoostRegressor RandomCV</th>\n",
       "      <td>1976.583058</td>\n",
       "      <td>35.5s</td>\n",
       "      <td>28.7ms</td>\n",
       "    </tr>\n",
       "    <tr>\n",
       "      <th>LGBMRegressor</th>\n",
       "      <td>1485.793579</td>\n",
       "      <td>5min 40s</td>\n",
       "      <td>2.46s</td>\n",
       "    </tr>\n",
       "  </tbody>\n",
       "</table>\n",
       "</div>"
      ],
      "text/plain": [
       "                                   RMSE time_learning time_predict\n",
       "LinearRegression            2447.848488         32.5s        200ms\n",
       "CatBoostRegressor GridCV    1839.400963      1min 57s       41.8ms\n",
       "CatBoostRegressor RandomCV  1976.583058         35.5s       28.7ms\n",
       "LGBMRegressor               1485.793579      5min 40s        2.46s"
      ]
     },
     "execution_count": 48,
     "metadata": {},
     "output_type": "execute_result"
    }
   ],
   "source": [
    "results = pd.DataFrame(data={'RMSE': [mean_squared_error(target_train, linear_predict)**0.5, \n",
    "                                      mean_squared_error(target_train, cat_predict)**0.5,\n",
    "                                      mean_squared_error(target_train, cat_predict_random)**0.5,\n",
    "                                      mean_squared_error(target_train, lgb_predict)**0.5], \n",
    "                             'time_learning' : ['32.5s', '1min 57s', '35.5s', '5min 40s'],\n",
    "                             'time_predict': ['200ms','41.8ms', '28.7ms','2.46s']},\n",
    "                       index = ['LinearRegression', 'CatBoostRegressor GridCV',\n",
    "                                'CatBoostRegressor RandomCV' , 'LGBMRegressor'])\n",
    "results"
   ]
  },
  {
   "cell_type": "markdown",
   "metadata": {},
   "source": [
    "<div class=\"alert alert-block alert-info\">\n",
    "<b>Комментарий:</b> В лучше всех себя показывает LinearRegression. Она обучалась и быстрее при неизменных параметрах.\n",
    "</div>"
   ]
  },
  {
   "cell_type": "markdown",
   "metadata": {},
   "source": [
    "<div class=\"alert alert-block alert-info\">\n",
    "<b>Комментарий:</b> Теперь лучше всех себя показал CatBoostRegressor обученный случайным подбором параметров. Он чуточку хуже по времени, но весьма лучше по RMSE.\n",
    "</div>"
   ]
  },
  {
   "cell_type": "code",
   "execution_count": 50,
   "metadata": {},
   "outputs": [
    {
     "name": "stdout",
     "output_type": "stream",
     "text": [
      "CPU times: user 8.99 ms, sys: 48 µs, total: 9.04 ms\n",
      "Wall time: 7.62 ms\n"
     ]
    }
   ],
   "source": [
    "%%time\n",
    "grid_CBR_random_predict = grid_CBR_random.predict(features_test_ore)"
   ]
  },
  {
   "cell_type": "code",
   "execution_count": 51,
   "metadata": {},
   "outputs": [
    {
     "name": "stdout",
     "output_type": "stream",
     "text": [
      "RMSE: 1989.8715085637534\n"
     ]
    }
   ],
   "source": [
    "print(\"RMSE:\", mean_squared_error(target_test, grid_CBR_random_predict)**0.5)"
   ]
  },
  {
   "cell_type": "markdown",
   "metadata": {},
   "source": [
    "## Вывод"
   ]
  },
  {
   "cell_type": "markdown",
   "metadata": {},
   "source": [
    "LinearRegression имеет самую лучшую скорость, но самый плохой показатель RMSE. LGBMRegressor имеет самое длительное обучение, но лучший показатель RMSE. CatBoostRegressor был рассмотрен с двумя разными вариантами подбора параметров, random лучше по скорости, но хуже по метрике, grid наоборот. Таким образом разные модели могут использоваться при разных вариантах того, какой параметр является важнейшим."
   ]
  },
  {
   "cell_type": "code",
   "execution_count": null,
   "metadata": {},
   "outputs": [],
   "source": []
  }
 ],
 "metadata": {
  "ExecuteTimeLog": [
   {
    "duration": 44,
    "start_time": "2023-01-29T11:17:25.739Z"
   },
   {
    "duration": 364,
    "start_time": "2023-01-29T11:17:39.758Z"
   },
   {
    "duration": 1163,
    "start_time": "2023-01-29T11:17:41.124Z"
   },
   {
    "duration": 100,
    "start_time": "2023-01-29T11:18:14.790Z"
   },
   {
    "duration": 78,
    "start_time": "2023-01-29T11:21:18.395Z"
   },
   {
    "duration": 28,
    "start_time": "2023-01-29T11:21:31.797Z"
   },
   {
    "duration": 29,
    "start_time": "2023-01-29T11:22:55.223Z"
   },
   {
    "duration": 33,
    "start_time": "2023-01-29T11:23:26.719Z"
   },
   {
    "duration": 34,
    "start_time": "2023-01-29T11:23:46.438Z"
   },
   {
    "duration": 49,
    "start_time": "2023-01-29T11:23:52.702Z"
   },
   {
    "duration": 37,
    "start_time": "2023-01-29T11:23:55.458Z"
   },
   {
    "duration": 33,
    "start_time": "2023-01-29T11:23:58.938Z"
   },
   {
    "duration": 38,
    "start_time": "2023-01-29T11:24:09.447Z"
   },
   {
    "duration": 34,
    "start_time": "2023-01-29T11:24:19.155Z"
   },
   {
    "duration": 1145,
    "start_time": "2023-01-29T11:24:43.331Z"
   },
   {
    "duration": 49,
    "start_time": "2023-01-29T11:24:49.662Z"
   },
   {
    "duration": 4,
    "start_time": "2023-01-29T11:35:21.448Z"
   },
   {
    "duration": 4,
    "start_time": "2023-01-29T11:35:23.385Z"
   },
   {
    "duration": 21,
    "start_time": "2023-01-29T11:35:26.443Z"
   },
   {
    "duration": 171,
    "start_time": "2023-01-29T11:39:16.137Z"
   },
   {
    "duration": 167,
    "start_time": "2023-01-29T11:39:40.298Z"
   },
   {
    "duration": 63,
    "start_time": "2023-01-29T11:40:14.670Z"
   },
   {
    "duration": 67,
    "start_time": "2023-01-29T11:40:24.483Z"
   },
   {
    "duration": 51,
    "start_time": "2023-01-29T11:40:35.157Z"
   },
   {
    "duration": 6,
    "start_time": "2023-01-29T11:45:17.555Z"
   },
   {
    "duration": 48,
    "start_time": "2023-01-29T11:45:27.227Z"
   },
   {
    "duration": 38,
    "start_time": "2023-01-29T11:46:45.617Z"
   },
   {
    "duration": 39,
    "start_time": "2023-01-29T11:47:06.398Z"
   },
   {
    "duration": 42,
    "start_time": "2023-01-29T11:47:31.543Z"
   },
   {
    "duration": 46,
    "start_time": "2023-01-29T11:47:37.155Z"
   },
   {
    "duration": 37,
    "start_time": "2023-01-29T11:47:58.343Z"
   },
   {
    "duration": 39,
    "start_time": "2023-01-29T11:48:08.575Z"
   },
   {
    "duration": 36,
    "start_time": "2023-01-29T11:48:39.932Z"
   },
   {
    "duration": 37,
    "start_time": "2023-01-29T11:48:55.363Z"
   },
   {
    "duration": 323,
    "start_time": "2023-01-29T11:49:08.089Z"
   },
   {
    "duration": 757,
    "start_time": "2023-01-29T11:49:08.414Z"
   },
   {
    "duration": 113,
    "start_time": "2023-01-29T11:49:09.172Z"
   },
   {
    "duration": 101,
    "start_time": "2023-01-29T11:49:09.286Z"
   },
   {
    "duration": 53,
    "start_time": "2023-01-29T11:49:09.389Z"
   },
   {
    "duration": 70,
    "start_time": "2023-01-29T11:49:09.444Z"
   },
   {
    "duration": 83,
    "start_time": "2023-01-29T11:49:09.516Z"
   },
   {
    "duration": 4,
    "start_time": "2023-01-29T11:49:17.783Z"
   },
   {
    "duration": 35,
    "start_time": "2023-01-29T11:50:37.833Z"
   },
   {
    "duration": 360,
    "start_time": "2023-01-29T11:51:01.556Z"
   },
   {
    "duration": 846,
    "start_time": "2023-01-29T11:51:01.918Z"
   },
   {
    "duration": 112,
    "start_time": "2023-01-29T11:51:02.765Z"
   },
   {
    "duration": 103,
    "start_time": "2023-01-29T11:51:02.879Z"
   },
   {
    "duration": 55,
    "start_time": "2023-01-29T11:51:02.984Z"
   },
   {
    "duration": 53,
    "start_time": "2023-01-29T11:51:03.040Z"
   },
   {
    "duration": 50,
    "start_time": "2023-01-29T11:51:03.094Z"
   },
   {
    "duration": 60,
    "start_time": "2023-01-29T11:54:17.488Z"
   },
   {
    "duration": 101,
    "start_time": "2023-01-29T11:54:28.252Z"
   },
   {
    "duration": 126,
    "start_time": "2023-01-29T11:54:56.438Z"
   },
   {
    "duration": 62,
    "start_time": "2023-01-29T11:55:13.800Z"
   },
   {
    "duration": 65,
    "start_time": "2023-01-29T11:58:17.943Z"
   },
   {
    "duration": 64,
    "start_time": "2023-01-29T11:58:22.260Z"
   },
   {
    "duration": 399,
    "start_time": "2023-01-29T12:07:54.959Z"
   },
   {
    "duration": 847,
    "start_time": "2023-01-29T12:07:55.360Z"
   },
   {
    "duration": 123,
    "start_time": "2023-01-29T12:07:56.209Z"
   },
   {
    "duration": 122,
    "start_time": "2023-01-29T12:07:56.341Z"
   },
   {
    "duration": 98,
    "start_time": "2023-01-29T12:07:56.465Z"
   },
   {
    "duration": 55,
    "start_time": "2023-01-29T12:07:56.566Z"
   },
   {
    "duration": 49,
    "start_time": "2023-01-29T12:07:56.622Z"
   },
   {
    "duration": 79,
    "start_time": "2023-01-29T12:07:56.673Z"
   },
   {
    "duration": 101,
    "start_time": "2023-01-29T12:26:51.154Z"
   },
   {
    "duration": 70,
    "start_time": "2023-01-29T12:26:55.754Z"
   },
   {
    "duration": 57,
    "start_time": "2023-01-29T12:26:57.665Z"
   },
   {
    "duration": 102,
    "start_time": "2023-01-29T12:27:05.288Z"
   },
   {
    "duration": 6,
    "start_time": "2023-01-29T12:27:09.336Z"
   },
   {
    "duration": 11,
    "start_time": "2023-01-29T12:27:17.484Z"
   },
   {
    "duration": 216,
    "start_time": "2023-01-29T12:29:31.151Z"
   },
   {
    "duration": 229,
    "start_time": "2023-01-29T12:29:40.254Z"
   },
   {
    "duration": 3,
    "start_time": "2023-01-29T12:29:47.663Z"
   },
   {
    "duration": 119,
    "start_time": "2023-01-29T12:30:03.443Z"
   },
   {
    "duration": 28,
    "start_time": "2023-01-29T12:32:37.152Z"
   },
   {
    "duration": 80,
    "start_time": "2023-01-29T12:35:06.189Z"
   },
   {
    "duration": 140,
    "start_time": "2023-01-29T12:35:10.701Z"
   },
   {
    "duration": 25,
    "start_time": "2023-01-29T12:35:16.440Z"
   },
   {
    "duration": 22,
    "start_time": "2023-01-29T12:35:33.432Z"
   },
   {
    "duration": 32,
    "start_time": "2023-01-29T12:35:41.244Z"
   },
   {
    "duration": 45,
    "start_time": "2023-01-29T12:36:36.390Z"
   },
   {
    "duration": 39,
    "start_time": "2023-01-29T12:38:14.577Z"
   },
   {
    "duration": 37,
    "start_time": "2023-01-29T12:38:24.550Z"
   },
   {
    "duration": 47,
    "start_time": "2023-01-29T12:39:52.632Z"
   },
   {
    "duration": 171,
    "start_time": "2023-01-29T12:44:19.242Z"
   },
   {
    "duration": 8,
    "start_time": "2023-01-29T12:44:28.786Z"
   },
   {
    "duration": 2699,
    "start_time": "2023-01-29T12:45:31.024Z"
   },
   {
    "duration": 159,
    "start_time": "2023-01-29T12:45:50.541Z"
   },
   {
    "duration": 7,
    "start_time": "2023-01-29T12:58:54.778Z"
   },
   {
    "duration": 473,
    "start_time": "2023-01-29T12:58:58.181Z"
   },
   {
    "duration": 233,
    "start_time": "2023-01-29T12:59:02.521Z"
   },
   {
    "duration": 1301,
    "start_time": "2023-01-29T12:59:11.867Z"
   },
   {
    "duration": 1283,
    "start_time": "2023-01-29T12:59:45.654Z"
   },
   {
    "duration": 457,
    "start_time": "2023-01-29T13:02:59.836Z"
   },
   {
    "duration": 152,
    "start_time": "2023-01-29T13:03:14.649Z"
   },
   {
    "duration": 1091,
    "start_time": "2023-01-29T13:03:45.651Z"
   },
   {
    "duration": 335,
    "start_time": "2023-01-29T13:04:52.655Z"
   },
   {
    "duration": 564,
    "start_time": "2023-01-29T13:05:20.309Z"
   },
   {
    "duration": 1579,
    "start_time": "2023-01-29T13:05:27.849Z"
   },
   {
    "duration": 443,
    "start_time": "2023-01-29T13:06:35.654Z"
   },
   {
    "duration": 305,
    "start_time": "2023-01-29T13:06:44.532Z"
   },
   {
    "duration": 517,
    "start_time": "2023-01-29T13:06:52.000Z"
   },
   {
    "duration": 514,
    "start_time": "2023-01-29T13:07:03.985Z"
   },
   {
    "duration": 673,
    "start_time": "2023-01-29T13:07:11.803Z"
   },
   {
    "duration": 591,
    "start_time": "2023-01-29T13:07:19.996Z"
   },
   {
    "duration": 9,
    "start_time": "2023-01-29T13:23:11.005Z"
   },
   {
    "duration": 1123,
    "start_time": "2023-01-29T13:25:41.767Z"
   },
   {
    "duration": 813,
    "start_time": "2023-01-29T13:25:42.892Z"
   },
   {
    "duration": 116,
    "start_time": "2023-01-29T13:25:43.706Z"
   },
   {
    "duration": 95,
    "start_time": "2023-01-29T13:25:43.824Z"
   },
   {
    "duration": 63,
    "start_time": "2023-01-29T13:25:43.921Z"
   },
   {
    "duration": 69,
    "start_time": "2023-01-29T13:25:43.986Z"
   },
   {
    "duration": 35,
    "start_time": "2023-01-29T13:25:44.056Z"
   },
   {
    "duration": 551,
    "start_time": "2023-01-29T13:25:44.093Z"
   },
   {
    "duration": 199,
    "start_time": "2023-01-29T13:25:44.646Z"
   },
   {
    "duration": 67,
    "start_time": "2023-01-29T13:25:44.847Z"
   },
   {
    "duration": 51,
    "start_time": "2023-01-29T13:25:44.915Z"
   },
   {
    "duration": 50,
    "start_time": "2023-01-29T13:25:44.968Z"
   },
   {
    "duration": 55,
    "start_time": "2023-01-29T13:25:45.020Z"
   },
   {
    "duration": 196,
    "start_time": "2023-01-29T13:25:45.077Z"
   },
   {
    "duration": 266,
    "start_time": "2023-01-29T13:25:52.074Z"
   },
   {
    "duration": 43,
    "start_time": "2023-01-29T13:27:38.192Z"
   },
   {
    "duration": 1157,
    "start_time": "2023-01-29T13:27:42.361Z"
   },
   {
    "duration": 803,
    "start_time": "2023-01-29T13:27:43.520Z"
   },
   {
    "duration": 131,
    "start_time": "2023-01-29T13:27:44.324Z"
   },
   {
    "duration": 107,
    "start_time": "2023-01-29T13:27:44.457Z"
   },
   {
    "duration": 52,
    "start_time": "2023-01-29T13:27:44.566Z"
   },
   {
    "duration": 70,
    "start_time": "2023-01-29T13:27:44.620Z"
   },
   {
    "duration": 46,
    "start_time": "2023-01-29T13:27:44.692Z"
   },
   {
    "duration": 552,
    "start_time": "2023-01-29T13:27:44.740Z"
   },
   {
    "duration": 5,
    "start_time": "2023-01-29T13:27:45.293Z"
   },
   {
    "duration": 85,
    "start_time": "2023-01-29T13:27:45.300Z"
   },
   {
    "duration": 52,
    "start_time": "2023-01-29T13:27:45.387Z"
   },
   {
    "duration": 53,
    "start_time": "2023-01-29T13:27:45.441Z"
   },
   {
    "duration": 59,
    "start_time": "2023-01-29T13:27:45.495Z"
   },
   {
    "duration": 207,
    "start_time": "2023-01-29T13:27:45.558Z"
   },
   {
    "duration": 12,
    "start_time": "2023-01-29T13:28:06.650Z"
   },
   {
    "duration": 1026,
    "start_time": "2023-01-29T15:01:23.076Z"
   },
   {
    "duration": 703,
    "start_time": "2023-01-29T15:01:24.104Z"
   },
   {
    "duration": 109,
    "start_time": "2023-01-29T15:01:24.809Z"
   },
   {
    "duration": 114,
    "start_time": "2023-01-29T15:01:24.920Z"
   },
   {
    "duration": 49,
    "start_time": "2023-01-29T15:01:25.036Z"
   },
   {
    "duration": 78,
    "start_time": "2023-01-29T15:01:25.086Z"
   },
   {
    "duration": 32,
    "start_time": "2023-01-29T15:01:25.166Z"
   },
   {
    "duration": 551,
    "start_time": "2023-01-29T15:01:25.200Z"
   },
   {
    "duration": 1777,
    "start_time": "2023-01-29T15:01:25.752Z"
   },
   {
    "duration": 63,
    "start_time": "2023-01-29T15:01:27.536Z"
   },
   {
    "duration": 41,
    "start_time": "2023-01-29T15:01:27.600Z"
   },
   {
    "duration": 47,
    "start_time": "2023-01-29T15:01:27.643Z"
   },
   {
    "duration": 51,
    "start_time": "2023-01-29T15:01:27.692Z"
   },
   {
    "duration": 201,
    "start_time": "2023-01-29T15:01:27.745Z"
   },
   {
    "duration": 42,
    "start_time": "2023-01-29T15:04:30.143Z"
   },
   {
    "duration": 1040,
    "start_time": "2023-01-29T15:04:35.075Z"
   },
   {
    "duration": 719,
    "start_time": "2023-01-29T15:04:36.116Z"
   },
   {
    "duration": 103,
    "start_time": "2023-01-29T15:04:36.837Z"
   },
   {
    "duration": 81,
    "start_time": "2023-01-29T15:04:36.941Z"
   },
   {
    "duration": 57,
    "start_time": "2023-01-29T15:04:37.024Z"
   },
   {
    "duration": 58,
    "start_time": "2023-01-29T15:04:37.082Z"
   },
   {
    "duration": 28,
    "start_time": "2023-01-29T15:04:37.142Z"
   },
   {
    "duration": 506,
    "start_time": "2023-01-29T15:04:37.172Z"
   },
   {
    "duration": 37,
    "start_time": "2023-01-29T15:04:37.679Z"
   },
   {
    "duration": 74,
    "start_time": "2023-01-29T15:04:37.718Z"
   },
   {
    "duration": 52,
    "start_time": "2023-01-29T15:04:37.794Z"
   },
   {
    "duration": 45,
    "start_time": "2023-01-29T15:04:37.847Z"
   },
   {
    "duration": 48,
    "start_time": "2023-01-29T15:04:37.893Z"
   },
   {
    "duration": 191,
    "start_time": "2023-01-29T15:04:37.943Z"
   },
   {
    "duration": 38,
    "start_time": "2023-01-29T15:05:22.605Z"
   },
   {
    "duration": 41,
    "start_time": "2023-01-29T15:05:30.843Z"
   },
   {
    "duration": 41,
    "start_time": "2023-01-29T15:05:44.476Z"
   },
   {
    "duration": 40,
    "start_time": "2023-01-29T15:05:50.034Z"
   },
   {
    "duration": 41,
    "start_time": "2023-01-29T15:05:56.650Z"
   },
   {
    "duration": 37,
    "start_time": "2023-01-29T15:06:12.568Z"
   },
   {
    "duration": 24,
    "start_time": "2023-01-29T15:08:52.907Z"
   },
   {
    "duration": 26,
    "start_time": "2023-01-29T15:09:02.483Z"
   },
   {
    "duration": 24,
    "start_time": "2023-01-29T15:09:09.939Z"
   },
   {
    "duration": 8,
    "start_time": "2023-01-29T15:11:17.887Z"
   },
   {
    "duration": 30,
    "start_time": "2023-01-29T15:11:22.417Z"
   },
   {
    "duration": 4,
    "start_time": "2023-01-29T15:11:53.962Z"
   },
   {
    "duration": 32,
    "start_time": "2023-01-29T15:11:55.848Z"
   },
   {
    "duration": 18,
    "start_time": "2023-01-29T15:12:11.132Z"
   },
   {
    "duration": 40,
    "start_time": "2023-01-29T15:13:10.196Z"
   },
   {
    "duration": 39,
    "start_time": "2023-01-29T15:13:17.023Z"
   },
   {
    "duration": 21,
    "start_time": "2023-01-29T15:13:24.980Z"
   },
   {
    "duration": 17,
    "start_time": "2023-01-29T15:13:46.008Z"
   },
   {
    "duration": 31,
    "start_time": "2023-01-29T15:14:02.958Z"
   },
   {
    "duration": 20,
    "start_time": "2023-01-29T15:14:05.553Z"
   },
   {
    "duration": 37,
    "start_time": "2023-01-29T15:14:11.440Z"
   },
   {
    "duration": 24,
    "start_time": "2023-01-29T15:14:16.420Z"
   },
   {
    "duration": 7,
    "start_time": "2023-01-29T15:16:53.908Z"
   },
   {
    "duration": 1061,
    "start_time": "2023-01-29T15:17:38.152Z"
   },
   {
    "duration": 785,
    "start_time": "2023-01-29T15:17:39.215Z"
   },
   {
    "duration": 111,
    "start_time": "2023-01-29T15:17:40.001Z"
   },
   {
    "duration": 94,
    "start_time": "2023-01-29T15:17:40.113Z"
   },
   {
    "duration": 56,
    "start_time": "2023-01-29T15:17:40.209Z"
   },
   {
    "duration": 54,
    "start_time": "2023-01-29T15:17:40.266Z"
   },
   {
    "duration": 50,
    "start_time": "2023-01-29T15:17:40.322Z"
   },
   {
    "duration": 518,
    "start_time": "2023-01-29T15:17:40.373Z"
   },
   {
    "duration": 44,
    "start_time": "2023-01-29T15:17:40.893Z"
   },
   {
    "duration": 13,
    "start_time": "2023-01-29T15:17:40.939Z"
   },
   {
    "duration": 109,
    "start_time": "2023-01-29T15:17:40.953Z"
   },
   {
    "duration": 0,
    "start_time": "2023-01-29T15:17:41.064Z"
   },
   {
    "duration": 0,
    "start_time": "2023-01-29T15:17:41.064Z"
   },
   {
    "duration": 0,
    "start_time": "2023-01-29T15:17:41.065Z"
   },
   {
    "duration": 0,
    "start_time": "2023-01-29T15:17:41.067Z"
   },
   {
    "duration": 1,
    "start_time": "2023-01-29T15:17:41.068Z"
   },
   {
    "duration": 0,
    "start_time": "2023-01-29T15:17:41.070Z"
   },
   {
    "duration": 851,
    "start_time": "2023-01-29T15:18:00.564Z"
   },
   {
    "duration": 1051,
    "start_time": "2023-01-29T15:18:05.972Z"
   },
   {
    "duration": 787,
    "start_time": "2023-01-29T15:18:07.025Z"
   },
   {
    "duration": 112,
    "start_time": "2023-01-29T15:18:07.814Z"
   },
   {
    "duration": 91,
    "start_time": "2023-01-29T15:18:07.928Z"
   },
   {
    "duration": 55,
    "start_time": "2023-01-29T15:18:08.021Z"
   },
   {
    "duration": 66,
    "start_time": "2023-01-29T15:18:08.078Z"
   },
   {
    "duration": 35,
    "start_time": "2023-01-29T15:18:08.146Z"
   },
   {
    "duration": 522,
    "start_time": "2023-01-29T15:18:08.182Z"
   },
   {
    "duration": 44,
    "start_time": "2023-01-29T15:18:08.706Z"
   },
   {
    "duration": 11,
    "start_time": "2023-01-29T15:18:08.752Z"
   },
   {
    "duration": 121,
    "start_time": "2023-01-29T15:18:08.765Z"
   },
   {
    "duration": 0,
    "start_time": "2023-01-29T15:18:08.888Z"
   },
   {
    "duration": 0,
    "start_time": "2023-01-29T15:18:08.890Z"
   },
   {
    "duration": 0,
    "start_time": "2023-01-29T15:18:08.895Z"
   },
   {
    "duration": 0,
    "start_time": "2023-01-29T15:18:08.897Z"
   },
   {
    "duration": 0,
    "start_time": "2023-01-29T15:18:08.902Z"
   },
   {
    "duration": 0,
    "start_time": "2023-01-29T15:18:08.903Z"
   },
   {
    "duration": 895,
    "start_time": "2023-01-29T15:18:17.213Z"
   },
   {
    "duration": 1052,
    "start_time": "2023-01-29T15:18:22.562Z"
   },
   {
    "duration": 752,
    "start_time": "2023-01-29T15:18:23.616Z"
   },
   {
    "duration": 112,
    "start_time": "2023-01-29T15:18:24.370Z"
   },
   {
    "duration": 94,
    "start_time": "2023-01-29T15:18:24.484Z"
   },
   {
    "duration": 61,
    "start_time": "2023-01-29T15:18:24.580Z"
   },
   {
    "duration": 49,
    "start_time": "2023-01-29T15:18:24.643Z"
   },
   {
    "duration": 48,
    "start_time": "2023-01-29T15:18:24.693Z"
   },
   {
    "duration": 513,
    "start_time": "2023-01-29T15:18:24.743Z"
   },
   {
    "duration": 35,
    "start_time": "2023-01-29T15:18:25.258Z"
   },
   {
    "duration": 10,
    "start_time": "2023-01-29T15:18:25.295Z"
   },
   {
    "duration": 37,
    "start_time": "2023-01-29T15:18:25.306Z"
   },
   {
    "duration": 19,
    "start_time": "2023-01-29T15:18:25.344Z"
   },
   {
    "duration": 9,
    "start_time": "2023-01-29T15:18:25.364Z"
   },
   {
    "duration": 17,
    "start_time": "2023-01-29T15:18:25.375Z"
   },
   {
    "duration": 11,
    "start_time": "2023-01-29T15:18:25.394Z"
   },
   {
    "duration": 17,
    "start_time": "2023-01-29T15:18:25.407Z"
   },
   {
    "duration": 101,
    "start_time": "2023-01-29T15:18:25.425Z"
   },
   {
    "duration": 18,
    "start_time": "2023-01-29T15:18:39.213Z"
   },
   {
    "duration": 1039,
    "start_time": "2023-01-29T15:18:59.504Z"
   },
   {
    "duration": 772,
    "start_time": "2023-01-29T15:19:00.544Z"
   },
   {
    "duration": 110,
    "start_time": "2023-01-29T15:19:01.318Z"
   },
   {
    "duration": 98,
    "start_time": "2023-01-29T15:19:01.437Z"
   },
   {
    "duration": 47,
    "start_time": "2023-01-29T15:19:01.536Z"
   },
   {
    "duration": 59,
    "start_time": "2023-01-29T15:19:01.585Z"
   },
   {
    "duration": 32,
    "start_time": "2023-01-29T15:19:01.645Z"
   },
   {
    "duration": 539,
    "start_time": "2023-01-29T15:19:01.679Z"
   },
   {
    "duration": 40,
    "start_time": "2023-01-29T15:19:02.220Z"
   },
   {
    "duration": 24,
    "start_time": "2023-01-29T15:19:02.262Z"
   },
   {
    "duration": 53,
    "start_time": "2023-01-29T15:19:02.287Z"
   },
   {
    "duration": 36,
    "start_time": "2023-01-29T15:19:02.342Z"
   },
   {
    "duration": 91,
    "start_time": "2023-01-29T15:19:02.379Z"
   },
   {
    "duration": 65,
    "start_time": "2023-01-29T15:19:02.472Z"
   },
   {
    "duration": 60,
    "start_time": "2023-01-29T15:19:02.539Z"
   },
   {
    "duration": 57,
    "start_time": "2023-01-29T15:19:02.601Z"
   },
   {
    "duration": 177,
    "start_time": "2023-01-29T15:19:02.660Z"
   },
   {
    "duration": 144,
    "start_time": "2023-01-29T15:29:53.278Z"
   },
   {
    "duration": 90,
    "start_time": "2023-01-29T15:30:09.759Z"
   },
   {
    "duration": 107,
    "start_time": "2023-01-29T15:30:42.119Z"
   },
   {
    "duration": 90,
    "start_time": "2023-01-29T15:30:52.102Z"
   },
   {
    "duration": 110,
    "start_time": "2023-01-29T15:31:00.222Z"
   },
   {
    "duration": 111,
    "start_time": "2023-01-29T15:31:09.052Z"
   },
   {
    "duration": 5,
    "start_time": "2023-01-29T15:31:41.774Z"
   },
   {
    "duration": 20,
    "start_time": "2023-01-29T15:34:43.889Z"
   },
   {
    "duration": 22,
    "start_time": "2023-01-29T15:34:56.608Z"
   },
   {
    "duration": 9,
    "start_time": "2023-01-29T15:35:07.097Z"
   },
   {
    "duration": 22,
    "start_time": "2023-01-29T15:35:12.888Z"
   },
   {
    "duration": 21,
    "start_time": "2023-01-29T15:36:32.265Z"
   },
   {
    "duration": 195,
    "start_time": "2023-01-29T15:36:52.954Z"
   },
   {
    "duration": 93,
    "start_time": "2023-01-29T15:37:35.169Z"
   },
   {
    "duration": 72,
    "start_time": "2023-01-29T15:38:01.308Z"
   },
   {
    "duration": 89,
    "start_time": "2023-01-29T15:38:05.232Z"
   },
   {
    "duration": 141,
    "start_time": "2023-01-29T15:42:13.515Z"
   },
   {
    "duration": 101,
    "start_time": "2023-01-29T15:42:31.927Z"
   },
   {
    "duration": 9,
    "start_time": "2023-01-29T15:44:12.263Z"
   },
   {
    "duration": 10,
    "start_time": "2023-01-29T15:44:38.311Z"
   },
   {
    "duration": 8,
    "start_time": "2023-01-29T15:44:44.111Z"
   },
   {
    "duration": 12,
    "start_time": "2023-01-29T15:44:47.515Z"
   },
   {
    "duration": 178,
    "start_time": "2023-01-29T15:46:19.407Z"
   },
   {
    "duration": 4,
    "start_time": "2023-01-29T16:11:35.587Z"
   },
   {
    "duration": 9,
    "start_time": "2023-01-29T16:11:41.129Z"
   },
   {
    "duration": 110,
    "start_time": "2023-01-29T16:11:46.946Z"
   },
   {
    "duration": 91,
    "start_time": "2023-01-29T16:12:23.510Z"
   },
   {
    "duration": 95,
    "start_time": "2023-01-29T16:12:26.243Z"
   },
   {
    "duration": 100,
    "start_time": "2023-01-29T16:12:46.650Z"
   },
   {
    "duration": 103,
    "start_time": "2023-01-29T16:12:55.194Z"
   },
   {
    "duration": 97,
    "start_time": "2023-01-29T16:12:57.554Z"
   },
   {
    "duration": 95,
    "start_time": "2023-01-29T16:13:01.491Z"
   },
   {
    "duration": 92,
    "start_time": "2023-01-29T16:13:08.197Z"
   },
   {
    "duration": 520,
    "start_time": "2023-01-29T16:25:55.508Z"
   },
   {
    "duration": 1405,
    "start_time": "2023-01-29T16:26:14.896Z"
   },
   {
    "duration": 26,
    "start_time": "2023-01-29T16:27:33.519Z"
   },
   {
    "duration": 37,
    "start_time": "2023-01-29T16:28:47.223Z"
   },
   {
    "duration": 450,
    "start_time": "2023-01-29T16:28:48.547Z"
   },
   {
    "duration": 13,
    "start_time": "2023-01-29T16:29:21.031Z"
   },
   {
    "duration": 16,
    "start_time": "2023-01-29T16:29:27.734Z"
   },
   {
    "duration": 13,
    "start_time": "2023-01-29T16:30:18.823Z"
   },
   {
    "duration": 446,
    "start_time": "2023-01-29T16:30:35.863Z"
   },
   {
    "duration": 420,
    "start_time": "2023-01-29T16:30:48.003Z"
   },
   {
    "duration": 1293,
    "start_time": "2023-01-29T16:31:02.055Z"
   },
   {
    "duration": 1212,
    "start_time": "2023-01-29T16:31:06.011Z"
   },
   {
    "duration": 56,
    "start_time": "2023-01-29T16:31:44.587Z"
   },
   {
    "duration": 71,
    "start_time": "2023-01-29T16:31:47.536Z"
   },
   {
    "duration": 1894,
    "start_time": "2023-01-29T16:37:04.839Z"
   },
   {
    "duration": 65,
    "start_time": "2023-01-29T16:37:09.114Z"
   },
   {
    "duration": 1103,
    "start_time": "2023-01-29T16:43:48.852Z"
   },
   {
    "duration": 798,
    "start_time": "2023-01-29T16:43:49.957Z"
   },
   {
    "duration": 105,
    "start_time": "2023-01-29T16:43:50.757Z"
   },
   {
    "duration": 95,
    "start_time": "2023-01-29T16:43:50.864Z"
   },
   {
    "duration": 48,
    "start_time": "2023-01-29T16:43:50.960Z"
   },
   {
    "duration": 68,
    "start_time": "2023-01-29T16:43:51.010Z"
   },
   {
    "duration": 37,
    "start_time": "2023-01-29T16:43:51.079Z"
   },
   {
    "duration": 77,
    "start_time": "2023-01-29T16:43:51.117Z"
   },
   {
    "duration": 837,
    "start_time": "2023-01-29T16:43:51.195Z"
   },
   {
    "duration": 0,
    "start_time": "2023-01-29T16:43:52.033Z"
   },
   {
    "duration": 0,
    "start_time": "2023-01-29T16:43:52.035Z"
   },
   {
    "duration": 0,
    "start_time": "2023-01-29T16:43:52.037Z"
   },
   {
    "duration": 0,
    "start_time": "2023-01-29T16:43:52.038Z"
   },
   {
    "duration": 0,
    "start_time": "2023-01-29T16:43:52.039Z"
   },
   {
    "duration": 0,
    "start_time": "2023-01-29T16:43:52.039Z"
   },
   {
    "duration": 0,
    "start_time": "2023-01-29T16:43:52.040Z"
   },
   {
    "duration": 0,
    "start_time": "2023-01-29T16:43:52.041Z"
   },
   {
    "duration": 0,
    "start_time": "2023-01-29T16:43:52.042Z"
   },
   {
    "duration": 0,
    "start_time": "2023-01-29T16:43:52.043Z"
   },
   {
    "duration": 0,
    "start_time": "2023-01-29T16:43:52.044Z"
   },
   {
    "duration": 0,
    "start_time": "2023-01-29T16:43:52.045Z"
   },
   {
    "duration": 0,
    "start_time": "2023-01-29T16:43:52.046Z"
   },
   {
    "duration": 44,
    "start_time": "2023-01-29T16:46:14.658Z"
   },
   {
    "duration": 789,
    "start_time": "2023-01-29T16:46:15.736Z"
   },
   {
    "duration": 513,
    "start_time": "2023-01-29T16:46:51.459Z"
   },
   {
    "duration": 487,
    "start_time": "2023-01-29T16:47:53.996Z"
   },
   {
    "duration": 47,
    "start_time": "2023-01-29T16:48:21.123Z"
   },
   {
    "duration": 55,
    "start_time": "2023-01-29T16:48:25.670Z"
   },
   {
    "duration": 451,
    "start_time": "2023-01-29T16:48:31.464Z"
   },
   {
    "duration": 476,
    "start_time": "2023-01-29T16:48:48.688Z"
   },
   {
    "duration": 1048,
    "start_time": "2023-01-29T16:49:18.964Z"
   },
   {
    "duration": 770,
    "start_time": "2023-01-29T16:49:20.014Z"
   },
   {
    "duration": 109,
    "start_time": "2023-01-29T16:49:20.785Z"
   },
   {
    "duration": 98,
    "start_time": "2023-01-29T16:49:20.896Z"
   },
   {
    "duration": 60,
    "start_time": "2023-01-29T16:49:20.996Z"
   },
   {
    "duration": 52,
    "start_time": "2023-01-29T16:49:21.058Z"
   },
   {
    "duration": 46,
    "start_time": "2023-01-29T16:49:21.111Z"
   },
   {
    "duration": 65,
    "start_time": "2023-01-29T16:49:21.158Z"
   },
   {
    "duration": 39,
    "start_time": "2023-01-29T16:49:21.237Z"
   },
   {
    "duration": 600,
    "start_time": "2023-01-29T16:49:21.279Z"
   },
   {
    "duration": 0,
    "start_time": "2023-01-29T16:49:21.881Z"
   },
   {
    "duration": 0,
    "start_time": "2023-01-29T16:49:21.882Z"
   },
   {
    "duration": 0,
    "start_time": "2023-01-29T16:49:21.883Z"
   },
   {
    "duration": 0,
    "start_time": "2023-01-29T16:49:21.884Z"
   },
   {
    "duration": 0,
    "start_time": "2023-01-29T16:49:21.885Z"
   },
   {
    "duration": 0,
    "start_time": "2023-01-29T16:49:21.885Z"
   },
   {
    "duration": 0,
    "start_time": "2023-01-29T16:49:21.886Z"
   },
   {
    "duration": 0,
    "start_time": "2023-01-29T16:49:21.888Z"
   },
   {
    "duration": 0,
    "start_time": "2023-01-29T16:49:21.888Z"
   },
   {
    "duration": 0,
    "start_time": "2023-01-29T16:49:21.889Z"
   },
   {
    "duration": 0,
    "start_time": "2023-01-29T16:49:21.890Z"
   },
   {
    "duration": 0,
    "start_time": "2023-01-29T16:49:21.891Z"
   },
   {
    "duration": 1063,
    "start_time": "2023-01-29T16:49:52.659Z"
   },
   {
    "duration": 767,
    "start_time": "2023-01-29T16:49:53.724Z"
   },
   {
    "duration": 112,
    "start_time": "2023-01-29T16:49:54.492Z"
   },
   {
    "duration": 89,
    "start_time": "2023-01-29T16:49:54.606Z"
   },
   {
    "duration": 59,
    "start_time": "2023-01-29T16:49:54.697Z"
   },
   {
    "duration": 53,
    "start_time": "2023-01-29T16:49:54.757Z"
   },
   {
    "duration": 46,
    "start_time": "2023-01-29T16:49:54.811Z"
   },
   {
    "duration": 69,
    "start_time": "2023-01-29T16:49:54.858Z"
   },
   {
    "duration": 47,
    "start_time": "2023-01-29T16:49:54.928Z"
   },
   {
    "duration": 67,
    "start_time": "2023-01-29T16:49:54.977Z"
   },
   {
    "duration": 498,
    "start_time": "2023-01-29T16:49:55.045Z"
   },
   {
    "duration": 24,
    "start_time": "2023-01-29T16:49:55.544Z"
   },
   {
    "duration": 23,
    "start_time": "2023-01-29T16:49:55.570Z"
   },
   {
    "duration": 115,
    "start_time": "2023-01-29T16:49:55.596Z"
   },
   {
    "duration": 68,
    "start_time": "2023-01-29T16:49:55.713Z"
   },
   {
    "duration": 0,
    "start_time": "2023-01-29T16:49:55.783Z"
   },
   {
    "duration": 0,
    "start_time": "2023-01-29T16:49:55.784Z"
   },
   {
    "duration": 0,
    "start_time": "2023-01-29T16:49:55.786Z"
   },
   {
    "duration": 0,
    "start_time": "2023-01-29T16:49:55.788Z"
   },
   {
    "duration": 0,
    "start_time": "2023-01-29T16:49:55.788Z"
   },
   {
    "duration": 0,
    "start_time": "2023-01-29T16:49:55.790Z"
   },
   {
    "duration": 0,
    "start_time": "2023-01-29T16:49:55.791Z"
   },
   {
    "duration": 1012,
    "start_time": "2023-01-29T16:50:03.901Z"
   },
   {
    "duration": 808,
    "start_time": "2023-01-29T16:50:04.915Z"
   },
   {
    "duration": 114,
    "start_time": "2023-01-29T16:50:05.724Z"
   },
   {
    "duration": 97,
    "start_time": "2023-01-29T16:50:05.841Z"
   },
   {
    "duration": 56,
    "start_time": "2023-01-29T16:50:05.940Z"
   },
   {
    "duration": 64,
    "start_time": "2023-01-29T16:50:05.998Z"
   },
   {
    "duration": 35,
    "start_time": "2023-01-29T16:50:06.063Z"
   },
   {
    "duration": 81,
    "start_time": "2023-01-29T16:50:06.100Z"
   },
   {
    "duration": 45,
    "start_time": "2023-01-29T16:50:06.182Z"
   },
   {
    "duration": 63,
    "start_time": "2023-01-29T16:50:06.229Z"
   },
   {
    "duration": 503,
    "start_time": "2023-01-29T16:50:06.293Z"
   },
   {
    "duration": 29,
    "start_time": "2023-01-29T16:50:06.797Z"
   },
   {
    "duration": 22,
    "start_time": "2023-01-29T16:50:06.836Z"
   },
   {
    "duration": 95,
    "start_time": "2023-01-29T16:50:06.860Z"
   },
   {
    "duration": 184,
    "start_time": "2023-01-29T16:50:06.957Z"
   },
   {
    "duration": 0,
    "start_time": "2023-01-29T16:50:07.142Z"
   },
   {
    "duration": 0,
    "start_time": "2023-01-29T16:50:07.143Z"
   },
   {
    "duration": 0,
    "start_time": "2023-01-29T16:50:07.144Z"
   },
   {
    "duration": 0,
    "start_time": "2023-01-29T16:50:07.145Z"
   },
   {
    "duration": 0,
    "start_time": "2023-01-29T16:50:07.146Z"
   },
   {
    "duration": 0,
    "start_time": "2023-01-29T16:50:07.147Z"
   },
   {
    "duration": 0,
    "start_time": "2023-01-29T16:50:07.148Z"
   },
   {
    "duration": 1083,
    "start_time": "2023-01-29T16:50:32.130Z"
   },
   {
    "duration": 772,
    "start_time": "2023-01-29T16:50:33.214Z"
   },
   {
    "duration": 110,
    "start_time": "2023-01-29T16:50:33.987Z"
   },
   {
    "duration": 99,
    "start_time": "2023-01-29T16:50:34.099Z"
   },
   {
    "duration": 58,
    "start_time": "2023-01-29T16:50:34.199Z"
   },
   {
    "duration": 52,
    "start_time": "2023-01-29T16:50:34.259Z"
   },
   {
    "duration": 51,
    "start_time": "2023-01-29T16:50:34.313Z"
   },
   {
    "duration": 74,
    "start_time": "2023-01-29T16:50:34.366Z"
   },
   {
    "duration": 41,
    "start_time": "2023-01-29T16:50:34.442Z"
   },
   {
    "duration": 70,
    "start_time": "2023-01-29T16:50:34.486Z"
   },
   {
    "duration": 521,
    "start_time": "2023-01-29T16:50:34.558Z"
   },
   {
    "duration": 25,
    "start_time": "2023-01-29T16:50:35.081Z"
   },
   {
    "duration": 38,
    "start_time": "2023-01-29T16:50:35.108Z"
   },
   {
    "duration": 99,
    "start_time": "2023-01-29T16:50:35.148Z"
   },
   {
    "duration": 35,
    "start_time": "2023-01-29T16:50:35.249Z"
   },
   {
    "duration": 22,
    "start_time": "2023-01-29T16:50:35.285Z"
   },
   {
    "duration": 1380,
    "start_time": "2023-01-29T16:50:35.309Z"
   },
   {
    "duration": 15,
    "start_time": "2023-01-29T16:50:36.690Z"
   },
   {
    "duration": 54,
    "start_time": "2023-01-29T16:50:36.707Z"
   },
   {
    "duration": 34,
    "start_time": "2023-01-29T16:50:36.762Z"
   },
   {
    "duration": 71,
    "start_time": "2023-01-29T16:50:36.797Z"
   },
   {
    "duration": 1020,
    "start_time": "2023-01-29T16:51:00.094Z"
   },
   {
    "duration": 762,
    "start_time": "2023-01-29T16:51:01.116Z"
   },
   {
    "duration": 106,
    "start_time": "2023-01-29T16:51:01.879Z"
   },
   {
    "duration": 96,
    "start_time": "2023-01-29T16:51:01.988Z"
   },
   {
    "duration": 57,
    "start_time": "2023-01-29T16:51:02.085Z"
   },
   {
    "duration": 57,
    "start_time": "2023-01-29T16:51:02.143Z"
   },
   {
    "duration": 51,
    "start_time": "2023-01-29T16:51:02.201Z"
   },
   {
    "duration": 84,
    "start_time": "2023-01-29T16:51:02.253Z"
   },
   {
    "duration": 46,
    "start_time": "2023-01-29T16:51:02.339Z"
   },
   {
    "duration": 77,
    "start_time": "2023-01-29T16:51:02.388Z"
   },
   {
    "duration": 537,
    "start_time": "2023-01-29T16:51:02.467Z"
   },
   {
    "duration": 35,
    "start_time": "2023-01-29T16:51:03.006Z"
   },
   {
    "duration": 23,
    "start_time": "2023-01-29T16:51:03.043Z"
   },
   {
    "duration": 101,
    "start_time": "2023-01-29T16:51:03.068Z"
   },
   {
    "duration": 33,
    "start_time": "2023-01-29T16:51:03.171Z"
   },
   {
    "duration": 1326,
    "start_time": "2023-01-29T16:51:03.206Z"
   },
   {
    "duration": 21,
    "start_time": "2023-01-29T16:51:04.534Z"
   },
   {
    "duration": 14,
    "start_time": "2023-01-29T16:51:04.557Z"
   },
   {
    "duration": 43,
    "start_time": "2023-01-29T16:51:04.572Z"
   },
   {
    "duration": 33,
    "start_time": "2023-01-29T16:51:04.637Z"
   },
   {
    "duration": 71,
    "start_time": "2023-01-29T16:51:04.671Z"
   },
   {
    "duration": 1064,
    "start_time": "2023-01-29T16:51:12.158Z"
   },
   {
    "duration": 776,
    "start_time": "2023-01-29T16:51:13.224Z"
   },
   {
    "duration": 106,
    "start_time": "2023-01-29T16:51:14.001Z"
   },
   {
    "duration": 96,
    "start_time": "2023-01-29T16:51:14.109Z"
   },
   {
    "duration": 56,
    "start_time": "2023-01-29T16:51:14.207Z"
   },
   {
    "duration": 53,
    "start_time": "2023-01-29T16:51:14.264Z"
   },
   {
    "duration": 48,
    "start_time": "2023-01-29T16:51:14.319Z"
   },
   {
    "duration": 76,
    "start_time": "2023-01-29T16:51:14.368Z"
   },
   {
    "duration": 41,
    "start_time": "2023-01-29T16:51:14.446Z"
   },
   {
    "duration": 64,
    "start_time": "2023-01-29T16:51:14.489Z"
   },
   {
    "duration": 506,
    "start_time": "2023-01-29T16:51:14.554Z"
   },
   {
    "duration": 25,
    "start_time": "2023-01-29T16:51:15.062Z"
   },
   {
    "duration": 23,
    "start_time": "2023-01-29T16:51:15.089Z"
   },
   {
    "duration": 106,
    "start_time": "2023-01-29T16:51:15.114Z"
   },
   {
    "duration": 37,
    "start_time": "2023-01-29T16:51:15.221Z"
   },
   {
    "duration": 20,
    "start_time": "2023-01-29T16:51:15.259Z"
   },
   {
    "duration": 1385,
    "start_time": "2023-01-29T16:51:15.281Z"
   },
   {
    "duration": 15,
    "start_time": "2023-01-29T16:51:16.668Z"
   },
   {
    "duration": 55,
    "start_time": "2023-01-29T16:51:16.685Z"
   },
   {
    "duration": 34,
    "start_time": "2023-01-29T16:51:16.741Z"
   },
   {
    "duration": 85,
    "start_time": "2023-01-29T16:51:16.777Z"
   },
   {
    "duration": 1121,
    "start_time": "2023-01-29T16:51:30.184Z"
   },
   {
    "duration": 783,
    "start_time": "2023-01-29T16:51:31.306Z"
   },
   {
    "duration": 107,
    "start_time": "2023-01-29T16:51:32.091Z"
   },
   {
    "duration": 101,
    "start_time": "2023-01-29T16:51:32.200Z"
   },
   {
    "duration": 65,
    "start_time": "2023-01-29T16:51:32.302Z"
   },
   {
    "duration": 50,
    "start_time": "2023-01-29T16:51:32.369Z"
   },
   {
    "duration": 51,
    "start_time": "2023-01-29T16:51:32.421Z"
   },
   {
    "duration": 87,
    "start_time": "2023-01-29T16:51:32.474Z"
   },
   {
    "duration": 57,
    "start_time": "2023-01-29T16:51:32.563Z"
   },
   {
    "duration": 78,
    "start_time": "2023-01-29T16:51:32.623Z"
   },
   {
    "duration": 511,
    "start_time": "2023-01-29T16:51:32.703Z"
   },
   {
    "duration": 31,
    "start_time": "2023-01-29T16:51:33.215Z"
   },
   {
    "duration": 28,
    "start_time": "2023-01-29T16:51:33.248Z"
   },
   {
    "duration": 102,
    "start_time": "2023-01-29T16:51:33.278Z"
   },
   {
    "duration": 32,
    "start_time": "2023-01-29T16:51:33.381Z"
   },
   {
    "duration": 1323,
    "start_time": "2023-01-29T16:51:33.415Z"
   },
   {
    "duration": 24,
    "start_time": "2023-01-29T16:51:34.739Z"
   },
   {
    "duration": 15,
    "start_time": "2023-01-29T16:51:34.765Z"
   },
   {
    "duration": 65,
    "start_time": "2023-01-29T16:51:34.782Z"
   },
   {
    "duration": 34,
    "start_time": "2023-01-29T16:51:34.849Z"
   },
   {
    "duration": 71,
    "start_time": "2023-01-29T16:51:34.884Z"
   },
   {
    "duration": 1106,
    "start_time": "2023-01-29T16:51:41.999Z"
   },
   {
    "duration": 801,
    "start_time": "2023-01-29T16:51:43.107Z"
   },
   {
    "duration": 107,
    "start_time": "2023-01-29T16:51:43.910Z"
   },
   {
    "duration": 88,
    "start_time": "2023-01-29T16:51:44.019Z"
   },
   {
    "duration": 63,
    "start_time": "2023-01-29T16:51:44.108Z"
   },
   {
    "duration": 52,
    "start_time": "2023-01-29T16:51:44.173Z"
   },
   {
    "duration": 45,
    "start_time": "2023-01-29T16:51:44.226Z"
   },
   {
    "duration": 77,
    "start_time": "2023-01-29T16:51:44.273Z"
   },
   {
    "duration": 44,
    "start_time": "2023-01-29T16:51:44.352Z"
   },
   {
    "duration": 65,
    "start_time": "2023-01-29T16:51:44.398Z"
   },
   {
    "duration": 504,
    "start_time": "2023-01-29T16:51:44.465Z"
   },
   {
    "duration": 24,
    "start_time": "2023-01-29T16:51:44.970Z"
   },
   {
    "duration": 23,
    "start_time": "2023-01-29T16:51:44.996Z"
   },
   {
    "duration": 87,
    "start_time": "2023-01-29T16:51:45.038Z"
   },
   {
    "duration": 1330,
    "start_time": "2023-01-29T16:51:45.126Z"
   },
   {
    "duration": 31,
    "start_time": "2023-01-29T16:51:46.457Z"
   },
   {
    "duration": 22,
    "start_time": "2023-01-29T16:51:46.489Z"
   },
   {
    "duration": 30,
    "start_time": "2023-01-29T16:51:46.512Z"
   },
   {
    "duration": 50,
    "start_time": "2023-01-29T16:51:46.544Z"
   },
   {
    "duration": 51,
    "start_time": "2023-01-29T16:51:46.596Z"
   },
   {
    "duration": 68,
    "start_time": "2023-01-29T16:51:46.648Z"
   },
   {
    "duration": 1120,
    "start_time": "2023-01-29T16:51:54.935Z"
   },
   {
    "duration": 820,
    "start_time": "2023-01-29T16:51:56.057Z"
   },
   {
    "duration": 124,
    "start_time": "2023-01-29T16:51:56.879Z"
   },
   {
    "duration": 103,
    "start_time": "2023-01-29T16:51:57.006Z"
   },
   {
    "duration": 59,
    "start_time": "2023-01-29T16:51:57.111Z"
   },
   {
    "duration": 66,
    "start_time": "2023-01-29T16:51:57.172Z"
   },
   {
    "duration": 37,
    "start_time": "2023-01-29T16:51:57.240Z"
   },
   {
    "duration": 78,
    "start_time": "2023-01-29T16:51:57.278Z"
   },
   {
    "duration": 42,
    "start_time": "2023-01-29T16:51:57.358Z"
   },
   {
    "duration": 68,
    "start_time": "2023-01-29T16:51:57.403Z"
   },
   {
    "duration": 560,
    "start_time": "2023-01-29T16:51:57.472Z"
   },
   {
    "duration": 40,
    "start_time": "2023-01-29T16:51:58.033Z"
   },
   {
    "duration": 25,
    "start_time": "2023-01-29T16:51:58.076Z"
   },
   {
    "duration": 1412,
    "start_time": "2023-01-29T16:51:58.102Z"
   },
   {
    "duration": 96,
    "start_time": "2023-01-29T16:51:59.516Z"
   },
   {
    "duration": 37,
    "start_time": "2023-01-29T16:51:59.614Z"
   },
   {
    "duration": 22,
    "start_time": "2023-01-29T16:51:59.652Z"
   },
   {
    "duration": 17,
    "start_time": "2023-01-29T16:51:59.676Z"
   },
   {
    "duration": 92,
    "start_time": "2023-01-29T16:51:59.695Z"
   },
   {
    "duration": 41,
    "start_time": "2023-01-29T16:51:59.788Z"
   },
   {
    "duration": 73,
    "start_time": "2023-01-29T16:51:59.830Z"
   },
   {
    "duration": 1084,
    "start_time": "2023-01-29T16:52:11.673Z"
   },
   {
    "duration": 806,
    "start_time": "2023-01-29T16:52:12.759Z"
   },
   {
    "duration": 113,
    "start_time": "2023-01-29T16:52:13.567Z"
   },
   {
    "duration": 102,
    "start_time": "2023-01-29T16:52:13.682Z"
   },
   {
    "duration": 61,
    "start_time": "2023-01-29T16:52:13.785Z"
   },
   {
    "duration": 53,
    "start_time": "2023-01-29T16:52:13.847Z"
   },
   {
    "duration": 48,
    "start_time": "2023-01-29T16:52:13.902Z"
   },
   {
    "duration": 64,
    "start_time": "2023-01-29T16:52:13.951Z"
   },
   {
    "duration": 58,
    "start_time": "2023-01-29T16:52:14.016Z"
   },
   {
    "duration": 63,
    "start_time": "2023-01-29T16:52:14.076Z"
   },
   {
    "duration": 499,
    "start_time": "2023-01-29T16:52:14.140Z"
   },
   {
    "duration": 24,
    "start_time": "2023-01-29T16:52:14.640Z"
   },
   {
    "duration": 557,
    "start_time": "2023-01-29T16:52:14.665Z"
   },
   {
    "duration": 0,
    "start_time": "2023-01-29T16:52:15.223Z"
   },
   {
    "duration": 0,
    "start_time": "2023-01-29T16:52:15.224Z"
   },
   {
    "duration": 0,
    "start_time": "2023-01-29T16:52:15.225Z"
   },
   {
    "duration": 0,
    "start_time": "2023-01-29T16:52:15.226Z"
   },
   {
    "duration": 0,
    "start_time": "2023-01-29T16:52:15.227Z"
   },
   {
    "duration": 0,
    "start_time": "2023-01-29T16:52:15.227Z"
   },
   {
    "duration": 0,
    "start_time": "2023-01-29T16:52:15.228Z"
   },
   {
    "duration": 0,
    "start_time": "2023-01-29T16:52:15.229Z"
   },
   {
    "duration": 41,
    "start_time": "2023-01-29T16:53:39.486Z"
   },
   {
    "duration": 57,
    "start_time": "2023-01-29T16:53:40.297Z"
   },
   {
    "duration": 476,
    "start_time": "2023-01-29T16:53:41.042Z"
   },
   {
    "duration": 30,
    "start_time": "2023-01-29T16:53:43.713Z"
   },
   {
    "duration": 458,
    "start_time": "2023-01-29T16:53:44.179Z"
   },
   {
    "duration": 29,
    "start_time": "2023-01-29T16:54:05.210Z"
   },
   {
    "duration": 1269,
    "start_time": "2023-01-29T16:54:05.790Z"
   },
   {
    "duration": 46,
    "start_time": "2023-01-29T16:55:20.175Z"
   },
   {
    "duration": 38,
    "start_time": "2023-01-29T16:55:51.343Z"
   },
   {
    "duration": 38,
    "start_time": "2023-01-29T16:56:07.298Z"
   },
   {
    "duration": 8,
    "start_time": "2023-01-29T16:56:14.858Z"
   },
   {
    "duration": 1114,
    "start_time": "2023-01-29T16:56:24.720Z"
   },
   {
    "duration": 794,
    "start_time": "2023-01-29T16:56:25.837Z"
   },
   {
    "duration": 107,
    "start_time": "2023-01-29T16:56:26.633Z"
   },
   {
    "duration": 85,
    "start_time": "2023-01-29T16:56:26.742Z"
   },
   {
    "duration": 48,
    "start_time": "2023-01-29T16:56:26.837Z"
   },
   {
    "duration": 63,
    "start_time": "2023-01-29T16:56:26.887Z"
   },
   {
    "duration": 33,
    "start_time": "2023-01-29T16:56:26.952Z"
   },
   {
    "duration": 74,
    "start_time": "2023-01-29T16:56:26.987Z"
   },
   {
    "duration": 46,
    "start_time": "2023-01-29T16:56:27.062Z"
   },
   {
    "duration": 104,
    "start_time": "2023-01-29T16:56:27.111Z"
   },
   {
    "duration": 0,
    "start_time": "2023-01-29T16:56:27.217Z"
   },
   {
    "duration": 0,
    "start_time": "2023-01-29T16:56:27.218Z"
   },
   {
    "duration": 0,
    "start_time": "2023-01-29T16:56:27.219Z"
   },
   {
    "duration": 0,
    "start_time": "2023-01-29T16:56:27.219Z"
   },
   {
    "duration": 0,
    "start_time": "2023-01-29T16:56:27.220Z"
   },
   {
    "duration": 0,
    "start_time": "2023-01-29T16:56:27.221Z"
   },
   {
    "duration": 0,
    "start_time": "2023-01-29T16:56:27.222Z"
   },
   {
    "duration": 0,
    "start_time": "2023-01-29T16:56:27.237Z"
   },
   {
    "duration": 0,
    "start_time": "2023-01-29T16:56:27.238Z"
   },
   {
    "duration": 0,
    "start_time": "2023-01-29T16:56:27.239Z"
   },
   {
    "duration": 0,
    "start_time": "2023-01-29T16:56:27.240Z"
   },
   {
    "duration": 8,
    "start_time": "2023-01-29T16:56:41.690Z"
   },
   {
    "duration": 7,
    "start_time": "2023-01-29T16:56:49.431Z"
   },
   {
    "duration": 1095,
    "start_time": "2023-01-29T16:57:03.916Z"
   },
   {
    "duration": 788,
    "start_time": "2023-01-29T16:57:05.013Z"
   },
   {
    "duration": 116,
    "start_time": "2023-01-29T16:57:05.803Z"
   },
   {
    "duration": 91,
    "start_time": "2023-01-29T16:57:05.922Z"
   },
   {
    "duration": 60,
    "start_time": "2023-01-29T16:57:06.014Z"
   },
   {
    "duration": 66,
    "start_time": "2023-01-29T16:57:06.075Z"
   },
   {
    "duration": 39,
    "start_time": "2023-01-29T16:57:06.143Z"
   },
   {
    "duration": 85,
    "start_time": "2023-01-29T16:57:06.184Z"
   },
   {
    "duration": 84,
    "start_time": "2023-01-29T16:57:06.271Z"
   },
   {
    "duration": 59,
    "start_time": "2023-01-29T16:57:06.358Z"
   },
   {
    "duration": 511,
    "start_time": "2023-01-29T16:57:06.419Z"
   },
   {
    "duration": 26,
    "start_time": "2023-01-29T16:57:06.932Z"
   },
   {
    "duration": 18,
    "start_time": "2023-01-29T16:57:06.960Z"
   },
   {
    "duration": 1321,
    "start_time": "2023-01-29T16:57:06.980Z"
   },
   {
    "duration": 96,
    "start_time": "2023-01-29T16:57:08.303Z"
   },
   {
    "duration": 41,
    "start_time": "2023-01-29T16:57:08.401Z"
   },
   {
    "duration": 22,
    "start_time": "2023-01-29T16:57:08.444Z"
   },
   {
    "duration": 15,
    "start_time": "2023-01-29T16:57:08.468Z"
   },
   {
    "duration": 64,
    "start_time": "2023-01-29T16:57:08.484Z"
   },
   {
    "duration": 34,
    "start_time": "2023-01-29T16:57:08.550Z"
   },
   {
    "duration": 92,
    "start_time": "2023-01-29T16:57:08.585Z"
   },
   {
    "duration": 1026,
    "start_time": "2023-01-29T16:57:24.580Z"
   },
   {
    "duration": 795,
    "start_time": "2023-01-29T16:57:25.610Z"
   },
   {
    "duration": 109,
    "start_time": "2023-01-29T16:57:26.409Z"
   },
   {
    "duration": 88,
    "start_time": "2023-01-29T16:57:26.519Z"
   },
   {
    "duration": 63,
    "start_time": "2023-01-29T16:57:26.609Z"
   },
   {
    "duration": 67,
    "start_time": "2023-01-29T16:57:26.674Z"
   },
   {
    "duration": 35,
    "start_time": "2023-01-29T16:57:26.742Z"
   },
   {
    "duration": 90,
    "start_time": "2023-01-29T16:57:26.779Z"
   },
   {
    "duration": 84,
    "start_time": "2023-01-29T16:57:26.872Z"
   },
   {
    "duration": 82,
    "start_time": "2023-01-29T16:57:26.957Z"
   },
   {
    "duration": 541,
    "start_time": "2023-01-29T16:57:27.041Z"
   },
   {
    "duration": 26,
    "start_time": "2023-01-29T16:57:27.584Z"
   },
   {
    "duration": 40,
    "start_time": "2023-01-29T16:57:27.612Z"
   },
   {
    "duration": 1502,
    "start_time": "2023-01-29T16:57:27.654Z"
   },
   {
    "duration": 91,
    "start_time": "2023-01-29T16:57:29.157Z"
   },
   {
    "duration": 29,
    "start_time": "2023-01-29T16:57:29.250Z"
   },
   {
    "duration": 25,
    "start_time": "2023-01-29T16:57:29.281Z"
   },
   {
    "duration": 48,
    "start_time": "2023-01-29T16:57:29.309Z"
   },
   {
    "duration": 47,
    "start_time": "2023-01-29T16:57:29.358Z"
   },
   {
    "duration": 52,
    "start_time": "2023-01-29T16:57:29.406Z"
   },
   {
    "duration": 65,
    "start_time": "2023-01-29T16:57:29.460Z"
   },
   {
    "duration": 1013,
    "start_time": "2023-01-29T16:58:00.692Z"
   },
   {
    "duration": 784,
    "start_time": "2023-01-29T16:58:01.707Z"
   },
   {
    "duration": 138,
    "start_time": "2023-01-29T16:58:02.496Z"
   },
   {
    "duration": 85,
    "start_time": "2023-01-29T16:58:02.636Z"
   },
   {
    "duration": 62,
    "start_time": "2023-01-29T16:58:02.723Z"
   },
   {
    "duration": 63,
    "start_time": "2023-01-29T16:58:02.786Z"
   },
   {
    "duration": 44,
    "start_time": "2023-01-29T16:58:02.850Z"
   },
   {
    "duration": 74,
    "start_time": "2023-01-29T16:58:02.895Z"
   },
   {
    "duration": 80,
    "start_time": "2023-01-29T16:58:02.971Z"
   },
   {
    "duration": 60,
    "start_time": "2023-01-29T16:58:03.053Z"
   },
   {
    "duration": 504,
    "start_time": "2023-01-29T16:58:03.114Z"
   },
   {
    "duration": 31,
    "start_time": "2023-01-29T16:58:03.619Z"
   },
   {
    "duration": 563,
    "start_time": "2023-01-29T16:58:03.651Z"
   },
   {
    "duration": 0,
    "start_time": "2023-01-29T16:58:04.216Z"
   },
   {
    "duration": 0,
    "start_time": "2023-01-29T16:58:04.217Z"
   },
   {
    "duration": 0,
    "start_time": "2023-01-29T16:58:04.218Z"
   },
   {
    "duration": 1,
    "start_time": "2023-01-29T16:58:04.218Z"
   },
   {
    "duration": 0,
    "start_time": "2023-01-29T16:58:04.219Z"
   },
   {
    "duration": 0,
    "start_time": "2023-01-29T16:58:04.220Z"
   },
   {
    "duration": 0,
    "start_time": "2023-01-29T16:58:04.221Z"
   },
   {
    "duration": 0,
    "start_time": "2023-01-29T16:58:04.222Z"
   },
   {
    "duration": 1090,
    "start_time": "2023-01-29T17:00:38.935Z"
   },
   {
    "duration": 762,
    "start_time": "2023-01-29T17:00:40.027Z"
   },
   {
    "duration": 110,
    "start_time": "2023-01-29T17:00:40.791Z"
   },
   {
    "duration": 97,
    "start_time": "2023-01-29T17:00:40.903Z"
   },
   {
    "duration": 66,
    "start_time": "2023-01-29T17:00:41.001Z"
   },
   {
    "duration": 59,
    "start_time": "2023-01-29T17:00:41.068Z"
   },
   {
    "duration": 39,
    "start_time": "2023-01-29T17:00:41.137Z"
   },
   {
    "duration": 88,
    "start_time": "2023-01-29T17:00:41.178Z"
   },
   {
    "duration": 87,
    "start_time": "2023-01-29T17:00:41.267Z"
   },
   {
    "duration": 65,
    "start_time": "2023-01-29T17:00:41.357Z"
   },
   {
    "duration": 581,
    "start_time": "2023-01-29T17:00:41.424Z"
   },
   {
    "duration": 706,
    "start_time": "2023-01-29T17:00:42.007Z"
   },
   {
    "duration": 0,
    "start_time": "2023-01-29T17:00:42.715Z"
   },
   {
    "duration": 0,
    "start_time": "2023-01-29T17:00:42.717Z"
   },
   {
    "duration": 0,
    "start_time": "2023-01-29T17:00:42.718Z"
   },
   {
    "duration": 0,
    "start_time": "2023-01-29T17:00:42.719Z"
   },
   {
    "duration": 0,
    "start_time": "2023-01-29T17:00:42.721Z"
   },
   {
    "duration": 0,
    "start_time": "2023-01-29T17:00:42.722Z"
   },
   {
    "duration": 0,
    "start_time": "2023-01-29T17:00:42.723Z"
   },
   {
    "duration": 0,
    "start_time": "2023-01-29T17:00:42.724Z"
   },
   {
    "duration": 0,
    "start_time": "2023-01-29T17:00:42.726Z"
   },
   {
    "duration": 11,
    "start_time": "2023-01-29T17:01:03.594Z"
   },
   {
    "duration": 16,
    "start_time": "2023-01-29T17:01:13.655Z"
   },
   {
    "duration": 5,
    "start_time": "2023-01-29T17:03:46.314Z"
   },
   {
    "duration": 25,
    "start_time": "2023-01-29T17:03:55.606Z"
   },
   {
    "duration": 18,
    "start_time": "2023-01-29T17:04:01.258Z"
   },
   {
    "duration": 17,
    "start_time": "2023-01-29T17:04:10.466Z"
   },
   {
    "duration": 509,
    "start_time": "2023-01-29T17:04:33.939Z"
   },
   {
    "duration": 119,
    "start_time": "2023-01-29T17:04:41.522Z"
   },
   {
    "duration": 451,
    "start_time": "2023-01-29T17:04:54.099Z"
   },
   {
    "duration": 416,
    "start_time": "2023-01-29T17:04:56.963Z"
   },
   {
    "duration": 471,
    "start_time": "2023-01-29T17:05:38.049Z"
   },
   {
    "duration": 684,
    "start_time": "2023-01-29T17:05:41.559Z"
   },
   {
    "duration": 737,
    "start_time": "2023-01-29T17:05:53.830Z"
   },
   {
    "duration": 1166,
    "start_time": "2023-01-29T17:16:56.666Z"
   },
   {
    "duration": 712,
    "start_time": "2023-01-29T17:17:17.984Z"
   },
   {
    "duration": 531,
    "start_time": "2023-01-29T17:17:28.533Z"
   },
   {
    "duration": 1140,
    "start_time": "2023-01-29T17:18:45.967Z"
   },
   {
    "duration": 780,
    "start_time": "2023-01-29T17:18:47.109Z"
   },
   {
    "duration": 108,
    "start_time": "2023-01-29T17:18:47.891Z"
   },
   {
    "duration": 94,
    "start_time": "2023-01-29T17:18:48.000Z"
   },
   {
    "duration": 58,
    "start_time": "2023-01-29T17:18:48.097Z"
   },
   {
    "duration": 53,
    "start_time": "2023-01-29T17:18:48.157Z"
   },
   {
    "duration": 48,
    "start_time": "2023-01-29T17:18:48.212Z"
   },
   {
    "duration": 64,
    "start_time": "2023-01-29T17:18:48.261Z"
   },
   {
    "duration": 69,
    "start_time": "2023-01-29T17:18:48.344Z"
   },
   {
    "duration": 22,
    "start_time": "2023-01-29T17:18:48.415Z"
   },
   {
    "duration": 64,
    "start_time": "2023-01-29T17:18:48.439Z"
   },
   {
    "duration": 528,
    "start_time": "2023-01-29T17:18:48.505Z"
   },
   {
    "duration": 894,
    "start_time": "2023-01-29T17:18:49.034Z"
   },
   {
    "duration": 0,
    "start_time": "2023-01-29T17:18:49.929Z"
   },
   {
    "duration": 0,
    "start_time": "2023-01-29T17:18:49.930Z"
   },
   {
    "duration": 0,
    "start_time": "2023-01-29T17:18:49.931Z"
   },
   {
    "duration": 0,
    "start_time": "2023-01-29T17:18:49.932Z"
   },
   {
    "duration": 0,
    "start_time": "2023-01-29T17:18:49.933Z"
   },
   {
    "duration": 0,
    "start_time": "2023-01-29T17:18:49.937Z"
   },
   {
    "duration": 0,
    "start_time": "2023-01-29T17:18:49.938Z"
   },
   {
    "duration": 0,
    "start_time": "2023-01-29T17:18:49.939Z"
   },
   {
    "duration": 0,
    "start_time": "2023-01-29T17:18:49.940Z"
   },
   {
    "duration": 0,
    "start_time": "2023-01-29T17:18:49.941Z"
   },
   {
    "duration": 34,
    "start_time": "2023-01-29T17:18:54.917Z"
   },
   {
    "duration": 1442,
    "start_time": "2023-01-29T17:18:55.535Z"
   },
   {
    "duration": 1857,
    "start_time": "2023-01-29T17:19:04.177Z"
   },
   {
    "duration": 24,
    "start_time": "2023-01-29T17:23:50.105Z"
   },
   {
    "duration": 1801,
    "start_time": "2023-01-29T17:23:51.242Z"
   },
   {
    "duration": 60,
    "start_time": "2023-01-29T17:27:22.682Z"
   },
   {
    "duration": 60,
    "start_time": "2023-01-29T17:27:36.547Z"
   },
   {
    "duration": 25,
    "start_time": "2023-01-29T17:28:30.985Z"
   },
   {
    "duration": 1120,
    "start_time": "2023-01-29T17:28:48.903Z"
   },
   {
    "duration": 795,
    "start_time": "2023-01-29T17:28:50.025Z"
   },
   {
    "duration": 112,
    "start_time": "2023-01-29T17:28:50.822Z"
   },
   {
    "duration": 102,
    "start_time": "2023-01-29T17:28:50.936Z"
   },
   {
    "duration": 59,
    "start_time": "2023-01-29T17:28:51.039Z"
   },
   {
    "duration": 72,
    "start_time": "2023-01-29T17:28:51.100Z"
   },
   {
    "duration": 39,
    "start_time": "2023-01-29T17:28:51.173Z"
   },
   {
    "duration": 89,
    "start_time": "2023-01-29T17:28:51.214Z"
   },
   {
    "duration": 102,
    "start_time": "2023-01-29T17:28:51.305Z"
   },
   {
    "duration": 28,
    "start_time": "2023-01-29T17:28:51.410Z"
   },
   {
    "duration": 61,
    "start_time": "2023-01-29T17:28:51.439Z"
   },
   {
    "duration": 536,
    "start_time": "2023-01-29T17:28:51.501Z"
   },
   {
    "duration": 25,
    "start_time": "2023-01-29T17:28:52.038Z"
   },
   {
    "duration": 38,
    "start_time": "2023-01-29T17:28:52.065Z"
   },
   {
    "duration": 2257,
    "start_time": "2023-01-29T17:28:52.105Z"
   },
   {
    "duration": 96,
    "start_time": "2023-01-29T17:28:54.363Z"
   },
   {
    "duration": 32,
    "start_time": "2023-01-29T17:28:54.461Z"
   },
   {
    "duration": 22,
    "start_time": "2023-01-29T17:28:54.494Z"
   },
   {
    "duration": 38,
    "start_time": "2023-01-29T17:28:54.517Z"
   },
   {
    "duration": 44,
    "start_time": "2023-01-29T17:28:54.557Z"
   },
   {
    "duration": 45,
    "start_time": "2023-01-29T17:28:54.603Z"
   },
   {
    "duration": 74,
    "start_time": "2023-01-29T17:28:54.650Z"
   },
   {
    "duration": 1011,
    "start_time": "2023-01-29T17:38:18.602Z"
   },
   {
    "duration": 784,
    "start_time": "2023-01-29T17:38:19.615Z"
   },
   {
    "duration": 106,
    "start_time": "2023-01-29T17:38:20.400Z"
   },
   {
    "duration": 93,
    "start_time": "2023-01-29T17:38:20.508Z"
   },
   {
    "duration": 55,
    "start_time": "2023-01-29T17:38:20.602Z"
   },
   {
    "duration": 52,
    "start_time": "2023-01-29T17:38:20.659Z"
   },
   {
    "duration": 49,
    "start_time": "2023-01-29T17:38:20.712Z"
   },
   {
    "duration": 62,
    "start_time": "2023-01-29T17:38:20.763Z"
   },
   {
    "duration": 510,
    "start_time": "2023-01-29T17:38:20.837Z"
   },
   {
    "duration": 34,
    "start_time": "2023-01-29T17:38:21.349Z"
   },
   {
    "duration": 52,
    "start_time": "2023-01-29T17:38:21.385Z"
   },
   {
    "duration": 77,
    "start_time": "2023-01-29T17:38:21.438Z"
   },
   {
    "duration": 1891,
    "start_time": "2023-01-29T17:38:21.516Z"
   },
   {
    "duration": 58,
    "start_time": "2023-01-29T17:38:23.408Z"
   },
   {
    "duration": 101,
    "start_time": "2023-01-29T17:38:23.468Z"
   },
   {
    "duration": 34,
    "start_time": "2023-01-29T17:38:23.570Z"
   },
   {
    "duration": 35,
    "start_time": "2023-01-29T17:38:23.605Z"
   },
   {
    "duration": 16,
    "start_time": "2023-01-29T17:38:23.641Z"
   },
   {
    "duration": 44,
    "start_time": "2023-01-29T17:38:23.658Z"
   },
   {
    "duration": 47,
    "start_time": "2023-01-29T17:38:23.704Z"
   },
   {
    "duration": 105,
    "start_time": "2023-01-29T17:38:23.753Z"
   },
   {
    "duration": 56,
    "start_time": "2023-01-29T18:34:07.270Z"
   },
   {
    "duration": 1096,
    "start_time": "2023-01-29T18:34:26.735Z"
   },
   {
    "duration": 862,
    "start_time": "2023-01-29T18:34:27.833Z"
   },
   {
    "duration": 117,
    "start_time": "2023-01-29T18:34:28.697Z"
   },
   {
    "duration": 101,
    "start_time": "2023-01-29T18:34:28.815Z"
   },
   {
    "duration": 64,
    "start_time": "2023-01-29T18:34:28.918Z"
   },
   {
    "duration": 68,
    "start_time": "2023-01-29T18:34:28.983Z"
   },
   {
    "duration": 37,
    "start_time": "2023-01-29T18:34:29.053Z"
   },
   {
    "duration": 84,
    "start_time": "2023-01-29T18:34:29.092Z"
   },
   {
    "duration": 552,
    "start_time": "2023-01-29T18:34:29.178Z"
   },
   {
    "duration": 39,
    "start_time": "2023-01-29T18:34:29.731Z"
   },
   {
    "duration": 49,
    "start_time": "2023-01-29T18:34:29.772Z"
   },
   {
    "duration": 92,
    "start_time": "2023-01-29T18:34:29.823Z"
   },
   {
    "duration": 1945,
    "start_time": "2023-01-29T18:34:29.917Z"
   },
   {
    "duration": 57,
    "start_time": "2023-01-29T18:34:31.864Z"
   },
   {
    "duration": 94,
    "start_time": "2023-01-29T18:34:31.923Z"
   },
   {
    "duration": 35,
    "start_time": "2023-01-29T18:34:32.018Z"
   },
   {
    "duration": 20,
    "start_time": "2023-01-29T18:34:32.055Z"
   },
   {
    "duration": 14,
    "start_time": "2023-01-29T18:34:32.076Z"
   },
   {
    "duration": 68,
    "start_time": "2023-01-29T18:34:32.092Z"
   },
   {
    "duration": 34,
    "start_time": "2023-01-29T18:34:32.162Z"
   },
   {
    "duration": 82,
    "start_time": "2023-01-29T18:34:32.197Z"
   },
   {
    "duration": 1321,
    "start_time": "2023-01-29T18:35:11.529Z"
   },
   {
    "duration": 56,
    "start_time": "2023-01-29T18:35:14.397Z"
   },
   {
    "duration": 1206,
    "start_time": "2023-01-29T18:35:23.574Z"
   },
   {
    "duration": 65,
    "start_time": "2023-01-29T18:35:26.956Z"
   },
   {
    "duration": 1029,
    "start_time": "2023-01-29T18:35:39.088Z"
   },
   {
    "duration": 773,
    "start_time": "2023-01-29T18:35:40.118Z"
   },
   {
    "duration": 110,
    "start_time": "2023-01-29T18:35:40.892Z"
   },
   {
    "duration": 89,
    "start_time": "2023-01-29T18:35:41.004Z"
   },
   {
    "duration": 58,
    "start_time": "2023-01-29T18:35:41.095Z"
   },
   {
    "duration": 52,
    "start_time": "2023-01-29T18:35:41.155Z"
   },
   {
    "duration": 48,
    "start_time": "2023-01-29T18:35:41.208Z"
   },
   {
    "duration": 62,
    "start_time": "2023-01-29T18:35:41.258Z"
   },
   {
    "duration": 527,
    "start_time": "2023-01-29T18:35:41.321Z"
   },
   {
    "duration": 34,
    "start_time": "2023-01-29T18:35:41.850Z"
   },
   {
    "duration": 52,
    "start_time": "2023-01-29T18:35:41.886Z"
   },
   {
    "duration": 76,
    "start_time": "2023-01-29T18:35:41.940Z"
   },
   {
    "duration": 1896,
    "start_time": "2023-01-29T18:35:42.017Z"
   },
   {
    "duration": 62,
    "start_time": "2023-01-29T18:35:43.916Z"
   },
   {
    "duration": 93,
    "start_time": "2023-01-29T18:35:43.979Z"
   },
   {
    "duration": 31,
    "start_time": "2023-01-29T18:35:44.074Z"
   },
   {
    "duration": 36,
    "start_time": "2023-01-29T18:35:44.107Z"
   },
   {
    "duration": 15,
    "start_time": "2023-01-29T18:35:44.145Z"
   },
   {
    "duration": 48,
    "start_time": "2023-01-29T18:35:44.162Z"
   },
   {
    "duration": 44,
    "start_time": "2023-01-29T18:35:44.212Z"
   },
   {
    "duration": 67,
    "start_time": "2023-01-29T18:35:44.257Z"
   },
   {
    "duration": 19,
    "start_time": "2023-01-29T18:36:42.996Z"
   },
   {
    "duration": 1099,
    "start_time": "2023-01-29T18:38:05.934Z"
   },
   {
    "duration": 756,
    "start_time": "2023-01-29T18:38:07.035Z"
   },
   {
    "duration": 108,
    "start_time": "2023-01-29T18:38:07.793Z"
   },
   {
    "duration": 92,
    "start_time": "2023-01-29T18:38:07.903Z"
   },
   {
    "duration": 60,
    "start_time": "2023-01-29T18:38:07.996Z"
   },
   {
    "duration": 52,
    "start_time": "2023-01-29T18:38:08.057Z"
   },
   {
    "duration": 46,
    "start_time": "2023-01-29T18:38:08.110Z"
   },
   {
    "duration": 61,
    "start_time": "2023-01-29T18:38:08.158Z"
   },
   {
    "duration": 529,
    "start_time": "2023-01-29T18:38:08.221Z"
   },
   {
    "duration": 34,
    "start_time": "2023-01-29T18:38:08.752Z"
   },
   {
    "duration": 24,
    "start_time": "2023-01-29T18:38:08.787Z"
   },
   {
    "duration": 79,
    "start_time": "2023-01-29T18:38:08.812Z"
   },
   {
    "duration": 1826,
    "start_time": "2023-01-29T18:38:08.892Z"
   },
   {
    "duration": 63,
    "start_time": "2023-01-29T18:38:10.719Z"
   },
   {
    "duration": 98,
    "start_time": "2023-01-29T18:38:10.783Z"
   },
   {
    "duration": 37,
    "start_time": "2023-01-29T18:38:10.883Z"
   },
   {
    "duration": 34,
    "start_time": "2023-01-29T18:38:10.922Z"
   },
   {
    "duration": 16,
    "start_time": "2023-01-29T18:38:10.957Z"
   },
   {
    "duration": 63,
    "start_time": "2023-01-29T18:38:10.975Z"
   },
   {
    "duration": 34,
    "start_time": "2023-01-29T18:38:11.040Z"
   },
   {
    "duration": 68,
    "start_time": "2023-01-29T18:38:11.075Z"
   },
   {
    "duration": 66,
    "start_time": "2023-01-29T18:38:40.757Z"
   },
   {
    "duration": 83,
    "start_time": "2023-01-29T18:38:56.941Z"
   },
   {
    "duration": 64,
    "start_time": "2023-01-29T18:39:32.229Z"
   },
   {
    "duration": 18,
    "start_time": "2023-01-29T18:39:35.112Z"
   },
   {
    "duration": 19,
    "start_time": "2023-01-29T18:39:38.152Z"
   },
   {
    "duration": 28,
    "start_time": "2023-01-29T18:40:09.597Z"
   },
   {
    "duration": 9,
    "start_time": "2023-01-29T18:40:38.879Z"
   },
   {
    "duration": 118,
    "start_time": "2023-01-29T18:41:32.730Z"
   },
   {
    "duration": 36,
    "start_time": "2023-01-29T18:42:20.719Z"
   },
   {
    "duration": 60,
    "start_time": "2023-01-29T18:42:50.346Z"
   },
   {
    "duration": 27,
    "start_time": "2023-01-29T18:43:13.381Z"
   },
   {
    "duration": 13,
    "start_time": "2023-01-29T18:43:30.082Z"
   },
   {
    "duration": 79,
    "start_time": "2023-01-29T18:43:47.268Z"
   },
   {
    "duration": 46,
    "start_time": "2023-01-29T18:44:45.931Z"
   },
   {
    "duration": 1050,
    "start_time": "2023-01-29T18:44:52.674Z"
   },
   {
    "duration": 1026,
    "start_time": "2023-01-29T18:44:53.725Z"
   },
   {
    "duration": 98,
    "start_time": "2023-01-29T18:44:54.753Z"
   },
   {
    "duration": 91,
    "start_time": "2023-01-29T18:44:54.853Z"
   },
   {
    "duration": 47,
    "start_time": "2023-01-29T18:44:54.946Z"
   },
   {
    "duration": 67,
    "start_time": "2023-01-29T18:44:54.994Z"
   },
   {
    "duration": 33,
    "start_time": "2023-01-29T18:44:55.062Z"
   },
   {
    "duration": 77,
    "start_time": "2023-01-29T18:44:55.097Z"
   },
   {
    "duration": 511,
    "start_time": "2023-01-29T18:44:55.175Z"
   },
   {
    "duration": 34,
    "start_time": "2023-01-29T18:44:55.687Z"
   },
   {
    "duration": 34,
    "start_time": "2023-01-29T18:44:55.723Z"
   },
   {
    "duration": 62,
    "start_time": "2023-01-29T18:44:55.759Z"
   },
   {
    "duration": 1884,
    "start_time": "2023-01-29T18:44:55.822Z"
   },
   {
    "duration": 63,
    "start_time": "2023-01-29T18:44:57.708Z"
   },
   {
    "duration": 89,
    "start_time": "2023-01-29T18:44:57.773Z"
   },
   {
    "duration": 40,
    "start_time": "2023-01-29T18:44:57.864Z"
   },
   {
    "duration": 31,
    "start_time": "2023-01-29T18:44:57.906Z"
   },
   {
    "duration": 45,
    "start_time": "2023-01-29T18:45:40.072Z"
   },
   {
    "duration": 1085,
    "start_time": "2023-01-29T18:45:46.952Z"
   },
   {
    "duration": 1150,
    "start_time": "2023-01-29T18:45:48.039Z"
   },
   {
    "duration": 113,
    "start_time": "2023-01-29T18:45:49.191Z"
   },
   {
    "duration": 93,
    "start_time": "2023-01-29T18:45:49.306Z"
   },
   {
    "duration": 62,
    "start_time": "2023-01-29T18:45:49.401Z"
   },
   {
    "duration": 55,
    "start_time": "2023-01-29T18:45:49.464Z"
   },
   {
    "duration": 49,
    "start_time": "2023-01-29T18:45:49.521Z"
   },
   {
    "duration": 75,
    "start_time": "2023-01-29T18:45:49.572Z"
   },
   {
    "duration": 545,
    "start_time": "2023-01-29T18:45:49.649Z"
   },
   {
    "duration": 43,
    "start_time": "2023-01-29T18:45:50.196Z"
   },
   {
    "duration": 27,
    "start_time": "2023-01-29T18:45:50.242Z"
   },
   {
    "duration": 80,
    "start_time": "2023-01-29T18:45:50.271Z"
   },
   {
    "duration": 1962,
    "start_time": "2023-01-29T18:45:50.353Z"
   },
   {
    "duration": 81,
    "start_time": "2023-01-29T18:45:52.318Z"
   },
   {
    "duration": 128,
    "start_time": "2023-01-29T18:45:52.403Z"
   },
   {
    "duration": 50,
    "start_time": "2023-01-29T18:45:52.532Z"
   },
   {
    "duration": 16,
    "start_time": "2023-01-29T18:45:52.584Z"
   },
   {
    "duration": 144,
    "start_time": "2023-01-29T18:45:52.602Z"
   },
   {
    "duration": 0,
    "start_time": "2023-01-29T18:45:52.748Z"
   },
   {
    "duration": 0,
    "start_time": "2023-01-29T18:45:52.749Z"
   },
   {
    "duration": 0,
    "start_time": "2023-01-29T18:45:52.750Z"
   },
   {
    "duration": 0,
    "start_time": "2023-01-29T18:45:52.751Z"
   },
   {
    "duration": 0,
    "start_time": "2023-01-29T18:45:52.752Z"
   },
   {
    "duration": 82,
    "start_time": "2023-01-29T18:46:02.725Z"
   },
   {
    "duration": 22,
    "start_time": "2023-01-29T18:46:05.256Z"
   },
   {
    "duration": 13,
    "start_time": "2023-01-29T18:47:08.321Z"
   },
   {
    "duration": 25,
    "start_time": "2023-01-29T18:47:43.769Z"
   },
   {
    "duration": 12,
    "start_time": "2023-01-29T18:47:48.636Z"
   },
   {
    "duration": 27,
    "start_time": "2023-01-29T18:48:10.805Z"
   },
   {
    "duration": 27,
    "start_time": "2023-01-29T18:48:18.157Z"
   },
   {
    "duration": 93,
    "start_time": "2023-01-29T18:49:53.123Z"
   },
   {
    "duration": 104,
    "start_time": "2023-01-29T18:50:03.486Z"
   },
   {
    "duration": 27,
    "start_time": "2023-01-29T18:50:41.621Z"
   },
   {
    "duration": 14,
    "start_time": "2023-01-29T18:50:55.560Z"
   },
   {
    "duration": 107,
    "start_time": "2023-01-29T18:51:00.190Z"
   },
   {
    "duration": 483,
    "start_time": "2023-01-29T18:51:08.308Z"
   },
   {
    "duration": 21,
    "start_time": "2023-01-29T18:57:05.434Z"
   },
   {
    "duration": 1062,
    "start_time": "2023-01-29T18:58:16.744Z"
   },
   {
    "duration": 767,
    "start_time": "2023-01-29T18:58:17.808Z"
   },
   {
    "duration": 105,
    "start_time": "2023-01-29T18:58:18.576Z"
   },
   {
    "duration": 104,
    "start_time": "2023-01-29T18:58:18.683Z"
   },
   {
    "duration": 52,
    "start_time": "2023-01-29T18:58:18.788Z"
   },
   {
    "duration": 52,
    "start_time": "2023-01-29T18:58:18.842Z"
   },
   {
    "duration": 48,
    "start_time": "2023-01-29T18:58:18.895Z"
   },
   {
    "duration": 80,
    "start_time": "2023-01-29T18:58:18.944Z"
   },
   {
    "duration": 536,
    "start_time": "2023-01-29T18:58:19.026Z"
   },
   {
    "duration": 34,
    "start_time": "2023-01-29T18:58:19.566Z"
   },
   {
    "duration": 39,
    "start_time": "2023-01-29T18:58:19.602Z"
   },
   {
    "duration": 64,
    "start_time": "2023-01-29T18:58:19.643Z"
   },
   {
    "duration": 1835,
    "start_time": "2023-01-29T18:58:19.708Z"
   },
   {
    "duration": 62,
    "start_time": "2023-01-29T18:58:21.545Z"
   },
   {
    "duration": 106,
    "start_time": "2023-01-29T18:58:21.608Z"
   },
   {
    "duration": 57,
    "start_time": "2023-01-29T18:58:21.716Z"
   },
   {
    "duration": 172,
    "start_time": "2023-01-29T18:58:21.775Z"
   },
   {
    "duration": 0,
    "start_time": "2023-01-29T18:58:21.949Z"
   },
   {
    "duration": 0,
    "start_time": "2023-01-29T18:58:21.950Z"
   },
   {
    "duration": 0,
    "start_time": "2023-01-29T18:58:21.952Z"
   },
   {
    "duration": 0,
    "start_time": "2023-01-29T18:58:21.953Z"
   },
   {
    "duration": 0,
    "start_time": "2023-01-29T18:58:21.954Z"
   },
   {
    "duration": 0,
    "start_time": "2023-01-29T18:58:21.955Z"
   },
   {
    "duration": 0,
    "start_time": "2023-01-29T18:58:21.956Z"
   },
   {
    "duration": 0,
    "start_time": "2023-01-29T18:58:21.957Z"
   },
   {
    "duration": 69,
    "start_time": "2023-01-29T18:58:42.920Z"
   },
   {
    "duration": 84,
    "start_time": "2023-01-29T18:58:44.957Z"
   },
   {
    "duration": 20,
    "start_time": "2023-01-29T18:59:24.475Z"
   },
   {
    "duration": 126,
    "start_time": "2023-01-29T18:59:27.541Z"
   },
   {
    "duration": 20,
    "start_time": "2023-01-29T18:59:29.469Z"
   },
   {
    "duration": 3,
    "start_time": "2023-01-29T18:59:50.337Z"
   },
   {
    "duration": 40,
    "start_time": "2023-01-29T18:59:58.113Z"
   },
   {
    "duration": 55,
    "start_time": "2023-01-29T19:00:15.020Z"
   },
   {
    "duration": 499,
    "start_time": "2023-01-29T19:02:06.200Z"
   },
   {
    "duration": 22,
    "start_time": "2023-01-29T19:02:40.532Z"
   },
   {
    "duration": 80,
    "start_time": "2023-01-29T19:05:05.806Z"
   },
   {
    "duration": 11,
    "start_time": "2023-01-29T19:05:08.765Z"
   },
   {
    "duration": 78,
    "start_time": "2023-01-29T19:05:11.619Z"
   },
   {
    "duration": 88,
    "start_time": "2023-01-29T19:05:37.842Z"
   },
   {
    "duration": 119,
    "start_time": "2023-01-29T19:05:50.649Z"
   },
   {
    "duration": 12,
    "start_time": "2023-01-29T19:06:05.753Z"
   },
   {
    "duration": 102,
    "start_time": "2023-01-29T19:06:07.829Z"
   },
   {
    "duration": 36,
    "start_time": "2023-01-29T19:06:25.362Z"
   },
   {
    "duration": 15,
    "start_time": "2023-01-29T19:06:29.293Z"
   },
   {
    "duration": 126,
    "start_time": "2023-01-29T19:06:43.833Z"
   },
   {
    "duration": 30,
    "start_time": "2023-01-29T19:06:58.543Z"
   },
   {
    "duration": 35,
    "start_time": "2023-01-29T19:08:02.431Z"
   },
   {
    "duration": 85,
    "start_time": "2023-01-29T19:08:22.929Z"
   },
   {
    "duration": 32,
    "start_time": "2023-01-29T19:15:53.975Z"
   },
   {
    "duration": 23,
    "start_time": "2023-01-29T19:15:58.258Z"
   },
   {
    "duration": 29,
    "start_time": "2023-01-29T19:16:12.410Z"
   },
   {
    "duration": 14,
    "start_time": "2023-01-29T19:20:26.336Z"
   },
   {
    "duration": 98,
    "start_time": "2023-01-29T19:24:04.531Z"
   },
   {
    "duration": 544,
    "start_time": "2023-01-29T19:24:06.193Z"
   },
   {
    "duration": 1073,
    "start_time": "2023-01-29T19:24:23.938Z"
   },
   {
    "duration": 808,
    "start_time": "2023-01-29T19:24:25.013Z"
   },
   {
    "duration": 106,
    "start_time": "2023-01-29T19:24:25.822Z"
   },
   {
    "duration": 92,
    "start_time": "2023-01-29T19:24:25.936Z"
   },
   {
    "duration": 50,
    "start_time": "2023-01-29T19:24:26.030Z"
   },
   {
    "duration": 67,
    "start_time": "2023-01-29T19:24:26.082Z"
   },
   {
    "duration": 34,
    "start_time": "2023-01-29T19:24:26.150Z"
   },
   {
    "duration": 78,
    "start_time": "2023-01-29T19:24:26.186Z"
   },
   {
    "duration": 527,
    "start_time": "2023-01-29T19:24:26.266Z"
   },
   {
    "duration": 43,
    "start_time": "2023-01-29T19:24:26.797Z"
   },
   {
    "duration": 24,
    "start_time": "2023-01-29T19:24:26.842Z"
   },
   {
    "duration": 76,
    "start_time": "2023-01-29T19:24:26.868Z"
   },
   {
    "duration": 2024,
    "start_time": "2023-01-29T19:24:26.945Z"
   },
   {
    "duration": 74,
    "start_time": "2023-01-29T19:24:28.971Z"
   },
   {
    "duration": 118,
    "start_time": "2023-01-29T19:24:29.047Z"
   },
   {
    "duration": 43,
    "start_time": "2023-01-29T19:24:29.167Z"
   },
   {
    "duration": 111,
    "start_time": "2023-01-29T19:24:29.212Z"
   },
   {
    "duration": 21,
    "start_time": "2023-01-29T19:24:29.325Z"
   },
   {
    "duration": 139,
    "start_time": "2023-01-29T19:24:29.348Z"
   },
   {
    "duration": 63,
    "start_time": "2023-01-29T19:24:29.489Z"
   },
   {
    "duration": 103,
    "start_time": "2023-01-29T19:24:29.553Z"
   },
   {
    "duration": 13,
    "start_time": "2023-01-29T19:24:29.658Z"
   },
   {
    "duration": 131,
    "start_time": "2023-01-29T19:24:29.672Z"
   },
   {
    "duration": 595,
    "start_time": "2023-01-29T19:24:29.804Z"
   },
   {
    "duration": 30,
    "start_time": "2023-01-29T19:25:25.615Z"
   },
   {
    "duration": 22,
    "start_time": "2023-01-29T19:25:34.138Z"
   },
   {
    "duration": 31,
    "start_time": "2023-01-29T19:25:51.495Z"
   },
   {
    "duration": 160,
    "start_time": "2023-01-29T19:26:22.390Z"
   },
   {
    "duration": 100,
    "start_time": "2023-01-29T19:26:29.755Z"
   },
   {
    "duration": 31,
    "start_time": "2023-01-29T19:26:30.202Z"
   },
   {
    "duration": 513,
    "start_time": "2023-01-29T19:26:31.239Z"
   },
   {
    "duration": 1254,
    "start_time": "2023-01-29T19:32:36.220Z"
   },
   {
    "duration": 881,
    "start_time": "2023-01-29T19:32:37.476Z"
   },
   {
    "duration": 193,
    "start_time": "2023-01-29T19:32:38.363Z"
   },
   {
    "duration": 111,
    "start_time": "2023-01-29T19:32:38.558Z"
   },
   {
    "duration": 76,
    "start_time": "2023-01-29T19:32:38.671Z"
   },
   {
    "duration": 76,
    "start_time": "2023-01-29T19:32:38.749Z"
   },
   {
    "duration": 58,
    "start_time": "2023-01-29T19:32:38.827Z"
   },
   {
    "duration": 153,
    "start_time": "2023-01-29T19:32:38.890Z"
   },
   {
    "duration": 789,
    "start_time": "2023-01-29T19:32:39.044Z"
   },
   {
    "duration": 41,
    "start_time": "2023-01-29T19:32:39.835Z"
   },
   {
    "duration": 34,
    "start_time": "2023-01-29T19:32:39.878Z"
   },
   {
    "duration": 84,
    "start_time": "2023-01-29T19:32:39.914Z"
   },
   {
    "duration": 2193,
    "start_time": "2023-01-29T19:32:40.000Z"
   },
   {
    "duration": 65,
    "start_time": "2023-01-29T19:32:42.195Z"
   },
   {
    "duration": 118,
    "start_time": "2023-01-29T19:32:42.261Z"
   },
   {
    "duration": 61,
    "start_time": "2023-01-29T19:32:42.381Z"
   },
   {
    "duration": 151,
    "start_time": "2023-01-29T19:32:42.445Z"
   },
   {
    "duration": 20,
    "start_time": "2023-01-29T19:32:42.598Z"
   },
   {
    "duration": 143,
    "start_time": "2023-01-29T19:32:42.620Z"
   },
   {
    "duration": 48,
    "start_time": "2023-01-29T19:32:42.765Z"
   },
   {
    "duration": 114,
    "start_time": "2023-01-29T19:32:42.815Z"
   },
   {
    "duration": 112,
    "start_time": "2023-01-29T19:32:42.931Z"
   },
   {
    "duration": 44,
    "start_time": "2023-01-29T19:32:43.044Z"
   },
   {
    "duration": 570,
    "start_time": "2023-01-29T19:32:43.090Z"
   },
   {
    "duration": 1123,
    "start_time": "2023-01-29T19:37:21.124Z"
   },
   {
    "duration": 836,
    "start_time": "2023-01-29T19:37:22.249Z"
   },
   {
    "duration": 106,
    "start_time": "2023-01-29T19:37:23.087Z"
   },
   {
    "duration": 100,
    "start_time": "2023-01-29T19:37:23.194Z"
   },
   {
    "duration": 49,
    "start_time": "2023-01-29T19:37:23.297Z"
   },
   {
    "duration": 53,
    "start_time": "2023-01-29T19:37:23.348Z"
   },
   {
    "duration": 47,
    "start_time": "2023-01-29T19:37:23.403Z"
   },
   {
    "duration": 71,
    "start_time": "2023-01-29T19:37:23.452Z"
   },
   {
    "duration": 532,
    "start_time": "2023-01-29T19:37:23.525Z"
   },
   {
    "duration": 37,
    "start_time": "2023-01-29T19:37:24.059Z"
   },
   {
    "duration": 44,
    "start_time": "2023-01-29T19:37:24.098Z"
   },
   {
    "duration": 62,
    "start_time": "2023-01-29T19:37:24.144Z"
   },
   {
    "duration": 1889,
    "start_time": "2023-01-29T19:37:24.207Z"
   },
   {
    "duration": 64,
    "start_time": "2023-01-29T19:37:26.098Z"
   },
   {
    "duration": 107,
    "start_time": "2023-01-29T19:37:26.163Z"
   },
   {
    "duration": 44,
    "start_time": "2023-01-29T19:37:26.272Z"
   },
   {
    "duration": 124,
    "start_time": "2023-01-29T19:37:26.318Z"
   },
   {
    "duration": 45,
    "start_time": "2023-01-29T19:37:26.443Z"
   },
   {
    "duration": 116,
    "start_time": "2023-01-29T19:37:26.490Z"
   },
   {
    "duration": 117,
    "start_time": "2023-01-29T19:37:26.607Z"
   },
   {
    "duration": 73,
    "start_time": "2023-01-29T19:37:26.725Z"
   },
   {
    "duration": 500,
    "start_time": "2023-01-29T19:37:26.800Z"
   },
   {
    "duration": 4,
    "start_time": "2023-01-29T20:16:32.764Z"
   },
   {
    "duration": 4,
    "start_time": "2023-01-29T20:17:18.299Z"
   },
   {
    "duration": 88,
    "start_time": "2023-01-29T20:17:18.899Z"
   },
   {
    "duration": 20,
    "start_time": "2023-01-29T20:17:26.987Z"
   },
   {
    "duration": 20,
    "start_time": "2023-01-29T20:17:44.115Z"
   },
   {
    "duration": 16,
    "start_time": "2023-01-29T20:17:50.358Z"
   },
   {
    "duration": 13,
    "start_time": "2023-01-29T20:17:58.150Z"
   },
   {
    "duration": 24,
    "start_time": "2023-01-29T20:20:37.627Z"
   },
   {
    "duration": 1178,
    "start_time": "2023-01-29T20:20:42.126Z"
   },
   {
    "duration": 803,
    "start_time": "2023-01-29T20:20:43.306Z"
   },
   {
    "duration": 110,
    "start_time": "2023-01-29T20:20:44.111Z"
   },
   {
    "duration": 88,
    "start_time": "2023-01-29T20:20:44.223Z"
   },
   {
    "duration": 76,
    "start_time": "2023-01-29T20:20:44.313Z"
   },
   {
    "duration": 67,
    "start_time": "2023-01-29T20:20:44.391Z"
   },
   {
    "duration": 37,
    "start_time": "2023-01-29T20:20:44.460Z"
   },
   {
    "duration": 104,
    "start_time": "2023-01-29T20:20:44.498Z"
   },
   {
    "duration": 535,
    "start_time": "2023-01-29T20:20:44.604Z"
   },
   {
    "duration": 34,
    "start_time": "2023-01-29T20:20:45.141Z"
   },
   {
    "duration": 32,
    "start_time": "2023-01-29T20:20:45.177Z"
   },
   {
    "duration": 70,
    "start_time": "2023-01-29T20:20:45.211Z"
   },
   {
    "duration": 1886,
    "start_time": "2023-01-29T20:20:45.282Z"
   },
   {
    "duration": 68,
    "start_time": "2023-01-29T20:20:47.169Z"
   },
   {
    "duration": 101,
    "start_time": "2023-01-29T20:20:47.238Z"
   },
   {
    "duration": 40,
    "start_time": "2023-01-29T20:20:47.340Z"
   },
   {
    "duration": 128,
    "start_time": "2023-01-29T20:20:47.382Z"
   },
   {
    "duration": 43,
    "start_time": "2023-01-29T20:20:47.511Z"
   },
   {
    "duration": 110,
    "start_time": "2023-01-29T20:20:47.555Z"
   },
   {
    "duration": 107,
    "start_time": "2023-01-29T20:20:47.667Z"
   },
   {
    "duration": 43,
    "start_time": "2023-01-29T20:20:47.775Z"
   },
   {
    "duration": 521,
    "start_time": "2023-01-29T20:20:47.820Z"
   },
   {
    "duration": 3,
    "start_time": "2023-01-29T20:20:48.343Z"
   },
   {
    "duration": 75,
    "start_time": "2023-01-29T20:20:48.348Z"
   },
   {
    "duration": 20,
    "start_time": "2023-01-29T20:20:48.424Z"
   },
   {
    "duration": 881,
    "start_time": "2023-01-29T20:23:02.445Z"
   },
   {
    "duration": 31,
    "start_time": "2023-01-29T20:23:09.448Z"
   },
   {
    "duration": 1187,
    "start_time": "2023-01-29T20:26:13.415Z"
   },
   {
    "duration": 1120,
    "start_time": "2023-01-29T20:26:23.628Z"
   },
   {
    "duration": 9,
    "start_time": "2023-01-29T20:30:35.679Z"
   },
   {
    "duration": 216,
    "start_time": "2023-01-29T20:30:40.348Z"
   },
   {
    "duration": 15,
    "start_time": "2023-01-29T20:30:44.844Z"
   },
   {
    "duration": 11,
    "start_time": "2023-01-29T20:34:28.448Z"
   },
   {
    "duration": 16,
    "start_time": "2023-01-29T20:34:49.224Z"
   },
   {
    "duration": 1210,
    "start_time": "2023-01-29T20:34:53.796Z"
   },
   {
    "duration": 776,
    "start_time": "2023-01-29T20:34:55.008Z"
   },
   {
    "duration": 119,
    "start_time": "2023-01-29T20:34:55.788Z"
   },
   {
    "duration": 98,
    "start_time": "2023-01-29T20:34:55.909Z"
   },
   {
    "duration": 60,
    "start_time": "2023-01-29T20:34:56.009Z"
   },
   {
    "duration": 54,
    "start_time": "2023-01-29T20:34:56.070Z"
   },
   {
    "duration": 44,
    "start_time": "2023-01-29T20:34:56.125Z"
   },
   {
    "duration": 77,
    "start_time": "2023-01-29T20:34:56.171Z"
   },
   {
    "duration": 522,
    "start_time": "2023-01-29T20:34:56.250Z"
   },
   {
    "duration": 36,
    "start_time": "2023-01-29T20:34:56.773Z"
   },
   {
    "duration": 39,
    "start_time": "2023-01-29T20:34:56.811Z"
   },
   {
    "duration": 67,
    "start_time": "2023-01-29T20:34:56.851Z"
   },
   {
    "duration": 1879,
    "start_time": "2023-01-29T20:34:56.920Z"
   },
   {
    "duration": 63,
    "start_time": "2023-01-29T20:34:58.801Z"
   },
   {
    "duration": 108,
    "start_time": "2023-01-29T20:34:58.866Z"
   },
   {
    "duration": 49,
    "start_time": "2023-01-29T20:34:58.976Z"
   },
   {
    "duration": 114,
    "start_time": "2023-01-29T20:34:59.027Z"
   },
   {
    "duration": 43,
    "start_time": "2023-01-29T20:34:59.143Z"
   },
   {
    "duration": 118,
    "start_time": "2023-01-29T20:34:59.187Z"
   },
   {
    "duration": 103,
    "start_time": "2023-01-29T20:34:59.307Z"
   },
   {
    "duration": 66,
    "start_time": "2023-01-29T20:34:59.412Z"
   },
   {
    "duration": 481,
    "start_time": "2023-01-29T20:34:59.479Z"
   },
   {
    "duration": 4,
    "start_time": "2023-01-29T20:34:59.962Z"
   },
   {
    "duration": 828,
    "start_time": "2023-01-29T20:34:59.968Z"
   },
   {
    "duration": 136,
    "start_time": "2023-01-29T20:35:00.797Z"
   },
   {
    "duration": 0,
    "start_time": "2023-01-29T20:35:00.936Z"
   },
   {
    "duration": 38,
    "start_time": "2023-01-29T20:36:59.113Z"
   },
   {
    "duration": 38,
    "start_time": "2023-01-29T20:37:48.848Z"
   },
   {
    "duration": 6,
    "start_time": "2023-01-29T20:43:56.192Z"
   },
   {
    "duration": 29,
    "start_time": "2023-01-29T20:44:05.752Z"
   },
   {
    "duration": 3,
    "start_time": "2023-01-29T20:44:23.017Z"
   },
   {
    "duration": 13,
    "start_time": "2023-01-29T21:25:42.025Z"
   },
   {
    "duration": 400,
    "start_time": "2023-01-29T21:26:17.139Z"
   },
   {
    "duration": 586,
    "start_time": "2023-01-29T21:26:52.959Z"
   },
   {
    "duration": 315,
    "start_time": "2023-01-29T21:27:02.622Z"
   },
   {
    "duration": 272,
    "start_time": "2023-01-29T21:27:30.091Z"
   },
   {
    "duration": 119,
    "start_time": "2023-01-29T21:27:42.342Z"
   },
   {
    "duration": 254,
    "start_time": "2023-01-29T21:27:55.915Z"
   },
   {
    "duration": 524,
    "start_time": "2023-01-29T21:28:18.223Z"
   },
   {
    "duration": 240,
    "start_time": "2023-01-29T21:28:34.131Z"
   },
   {
    "duration": 267,
    "start_time": "2023-01-29T21:28:42.317Z"
   },
   {
    "duration": 402,
    "start_time": "2023-01-29T21:29:06.438Z"
   },
   {
    "duration": 1711,
    "start_time": "2023-01-29T21:29:20.638Z"
   },
   {
    "duration": 310,
    "start_time": "2023-01-29T21:29:24.238Z"
   },
   {
    "duration": 99,
    "start_time": "2023-01-29T21:29:50.139Z"
   },
   {
    "duration": 10,
    "start_time": "2023-01-29T21:30:05.277Z"
   },
   {
    "duration": 4,
    "start_time": "2023-01-29T21:31:31.995Z"
   },
   {
    "duration": 4,
    "start_time": "2023-01-29T21:31:51.864Z"
   },
   {
    "duration": 2205,
    "start_time": "2023-01-29T21:31:57.438Z"
   },
   {
    "duration": 1616,
    "start_time": "2023-01-29T21:31:59.645Z"
   },
   {
    "duration": 387,
    "start_time": "2023-01-29T21:32:01.263Z"
   },
   {
    "duration": 210,
    "start_time": "2023-01-29T21:32:01.653Z"
   },
   {
    "duration": 172,
    "start_time": "2023-01-29T21:32:01.865Z"
   },
   {
    "duration": 113,
    "start_time": "2023-01-29T21:32:02.039Z"
   },
   {
    "duration": 95,
    "start_time": "2023-01-29T21:32:02.153Z"
   },
   {
    "duration": 188,
    "start_time": "2023-01-29T21:32:02.250Z"
   },
   {
    "duration": 1341,
    "start_time": "2023-01-29T21:32:02.440Z"
   },
   {
    "duration": 87,
    "start_time": "2023-01-29T21:32:03.782Z"
   },
   {
    "duration": 85,
    "start_time": "2023-01-29T21:32:03.872Z"
   },
   {
    "duration": 178,
    "start_time": "2023-01-29T21:32:03.959Z"
   },
   {
    "duration": 4522,
    "start_time": "2023-01-29T21:32:04.139Z"
   },
   {
    "duration": 112,
    "start_time": "2023-01-29T21:32:08.664Z"
   },
   {
    "duration": 261,
    "start_time": "2023-01-29T21:32:08.778Z"
   },
   {
    "duration": 122,
    "start_time": "2023-01-29T21:32:09.041Z"
   },
   {
    "duration": 272,
    "start_time": "2023-01-29T21:32:09.165Z"
   },
   {
    "duration": 108,
    "start_time": "2023-01-29T21:32:09.440Z"
   },
   {
    "duration": 307,
    "start_time": "2023-01-29T21:32:09.550Z"
   },
   {
    "duration": 210,
    "start_time": "2023-01-29T21:32:09.859Z"
   },
   {
    "duration": 165,
    "start_time": "2023-01-29T21:32:10.072Z"
   },
   {
    "duration": 1030,
    "start_time": "2023-01-29T21:32:10.239Z"
   },
   {
    "duration": 4,
    "start_time": "2023-01-29T21:32:11.271Z"
   },
   {
    "duration": 1867,
    "start_time": "2023-01-29T21:32:11.276Z"
   },
   {
    "duration": 619,
    "start_time": "2023-01-29T21:32:13.145Z"
   },
   {
    "duration": 302,
    "start_time": "2023-01-29T21:32:13.766Z"
   },
   {
    "duration": 97,
    "start_time": "2023-01-29T21:32:14.070Z"
   },
   {
    "duration": 1509,
    "start_time": "2023-01-30T07:08:15.963Z"
   },
   {
    "duration": 106,
    "start_time": "2023-01-30T07:13:00.752Z"
   },
   {
    "duration": 1345,
    "start_time": "2023-01-30T07:13:05.506Z"
   },
   {
    "duration": 3219,
    "start_time": "2023-01-30T07:13:06.853Z"
   },
   {
    "duration": 128,
    "start_time": "2023-01-30T07:13:10.073Z"
   },
   {
    "duration": 137,
    "start_time": "2023-01-30T07:13:10.203Z"
   },
   {
    "duration": 64,
    "start_time": "2023-01-30T07:13:10.341Z"
   },
   {
    "duration": 61,
    "start_time": "2023-01-30T07:13:10.406Z"
   },
   {
    "duration": 191,
    "start_time": "2023-01-30T07:13:10.468Z"
   },
   {
    "duration": 167,
    "start_time": "2023-01-30T07:13:10.661Z"
   },
   {
    "duration": 524,
    "start_time": "2023-01-30T07:13:10.829Z"
   },
   {
    "duration": 35,
    "start_time": "2023-01-30T07:13:11.356Z"
   },
   {
    "duration": 25,
    "start_time": "2023-01-30T07:13:11.393Z"
   },
   {
    "duration": 95,
    "start_time": "2023-01-30T07:13:11.420Z"
   },
   {
    "duration": 1894,
    "start_time": "2023-01-30T07:13:11.517Z"
   },
   {
    "duration": 92,
    "start_time": "2023-01-30T07:13:13.413Z"
   },
   {
    "duration": 129,
    "start_time": "2023-01-30T07:13:13.506Z"
   },
   {
    "duration": 54,
    "start_time": "2023-01-30T07:13:13.637Z"
   },
   {
    "duration": 141,
    "start_time": "2023-01-30T07:13:13.693Z"
   },
   {
    "duration": 50,
    "start_time": "2023-01-30T07:13:13.836Z"
   },
   {
    "duration": 122,
    "start_time": "2023-01-30T07:13:13.888Z"
   },
   {
    "duration": 116,
    "start_time": "2023-01-30T07:13:14.012Z"
   },
   {
    "duration": 53,
    "start_time": "2023-01-30T07:13:14.129Z"
   },
   {
    "duration": 587,
    "start_time": "2023-01-30T07:13:14.184Z"
   },
   {
    "duration": 796,
    "start_time": "2023-01-30T07:13:14.772Z"
   },
   {
    "duration": 307,
    "start_time": "2023-01-30T07:13:15.569Z"
   },
   {
    "duration": 148,
    "start_time": "2023-01-30T07:13:15.877Z"
   },
   {
    "duration": 108,
    "start_time": "2023-01-30T07:13:16.026Z"
   },
   {
    "duration": 93385,
    "start_time": "2023-01-30T07:13:30.572Z"
   },
   {
    "duration": 111604,
    "start_time": "2023-01-30T07:16:58.952Z"
   },
   {
    "duration": 86966,
    "start_time": "2023-01-30T07:22:14.289Z"
   },
   {
    "duration": 70,
    "start_time": "2023-01-30T07:25:09.747Z"
   },
   {
    "duration": 27501,
    "start_time": "2023-01-30T07:25:15.252Z"
   },
   {
    "duration": 54558,
    "start_time": "2023-01-30T07:26:19.991Z"
   },
   {
    "duration": 79435,
    "start_time": "2023-01-30T07:27:47.927Z"
   },
   {
    "duration": 27620,
    "start_time": "2023-01-30T07:29:13.038Z"
   },
   {
    "duration": 10,
    "start_time": "2023-01-30T07:30:01.914Z"
   },
   {
    "duration": 4,
    "start_time": "2023-01-30T07:30:06.982Z"
   },
   {
    "duration": 10057,
    "start_time": "2023-01-30T07:30:11.450Z"
   },
   {
    "duration": 115763,
    "start_time": "2023-01-30T07:30:55.400Z"
   },
   {
    "duration": 2,
    "start_time": "2023-01-30T07:33:55.882Z"
   },
   {
    "duration": 3,
    "start_time": "2023-01-30T07:34:07.527Z"
   },
   {
    "duration": 66,
    "start_time": "2023-01-30T07:38:08.305Z"
   },
   {
    "duration": 120295,
    "start_time": "2023-01-30T07:39:18.297Z"
   },
   {
    "duration": 64,
    "start_time": "2023-01-30T07:42:50.657Z"
   },
   {
    "duration": 1363,
    "start_time": "2023-01-30T07:53:32.511Z"
   },
   {
    "duration": 861,
    "start_time": "2023-01-30T07:53:33.876Z"
   },
   {
    "duration": 151,
    "start_time": "2023-01-30T07:53:34.738Z"
   },
   {
    "duration": 104,
    "start_time": "2023-01-30T07:53:34.890Z"
   },
   {
    "duration": 75,
    "start_time": "2023-01-30T07:53:34.996Z"
   },
   {
    "duration": 55,
    "start_time": "2023-01-30T07:53:35.072Z"
   },
   {
    "duration": 55,
    "start_time": "2023-01-30T07:53:35.128Z"
   },
   {
    "duration": 94,
    "start_time": "2023-01-30T07:53:35.184Z"
   },
   {
    "duration": 606,
    "start_time": "2023-01-30T07:53:35.280Z"
   },
   {
    "duration": 35,
    "start_time": "2023-01-30T07:53:35.888Z"
   },
   {
    "duration": 43,
    "start_time": "2023-01-30T07:53:35.925Z"
   },
   {
    "duration": 79,
    "start_time": "2023-01-30T07:53:35.970Z"
   },
   {
    "duration": 2139,
    "start_time": "2023-01-30T07:53:36.050Z"
   },
   {
    "duration": 93,
    "start_time": "2023-01-30T07:53:38.192Z"
   },
   {
    "duration": 120,
    "start_time": "2023-01-30T07:53:38.286Z"
   },
   {
    "duration": 48,
    "start_time": "2023-01-30T07:53:38.408Z"
   },
   {
    "duration": 124,
    "start_time": "2023-01-30T07:53:38.458Z"
   },
   {
    "duration": 40,
    "start_time": "2023-01-30T07:53:38.584Z"
   },
   {
    "duration": 141,
    "start_time": "2023-01-30T07:53:38.626Z"
   },
   {
    "duration": 128,
    "start_time": "2023-01-30T07:53:38.769Z"
   },
   {
    "duration": 49,
    "start_time": "2023-01-30T07:53:38.899Z"
   },
   {
    "duration": 631,
    "start_time": "2023-01-30T07:53:38.950Z"
   },
   {
    "duration": 845,
    "start_time": "2023-01-30T07:53:39.583Z"
   },
   {
    "duration": 308,
    "start_time": "2023-01-30T07:53:40.429Z"
   },
   {
    "duration": 169,
    "start_time": "2023-01-30T07:53:40.738Z"
   },
   {
    "duration": 25162,
    "start_time": "2023-01-30T07:53:40.909Z"
   },
   {
    "duration": 139967,
    "start_time": "2023-01-30T07:54:06.157Z"
   },
   {
    "duration": 126203,
    "start_time": "2023-01-30T07:58:25.636Z"
   },
   {
    "duration": 120499,
    "start_time": "2023-01-30T08:01:01.885Z"
   },
   {
    "duration": 34,
    "start_time": "2023-01-30T09:25:29.313Z"
   },
   {
    "duration": 5,
    "start_time": "2023-01-30T09:27:39.732Z"
   },
   {
    "duration": 109,
    "start_time": "2023-01-30T09:29:27.912Z"
   },
   {
    "duration": 1560,
    "start_time": "2023-01-30T09:31:09.444Z"
   },
   {
    "duration": 864,
    "start_time": "2023-01-30T09:31:11.006Z"
   },
   {
    "duration": 128,
    "start_time": "2023-01-30T09:31:11.872Z"
   },
   {
    "duration": 101,
    "start_time": "2023-01-30T09:31:12.002Z"
   },
   {
    "duration": 65,
    "start_time": "2023-01-30T09:31:12.104Z"
   },
   {
    "duration": 59,
    "start_time": "2023-01-30T09:31:12.170Z"
   },
   {
    "duration": 47,
    "start_time": "2023-01-30T09:31:12.230Z"
   },
   {
    "duration": 93,
    "start_time": "2023-01-30T09:31:12.279Z"
   },
   {
    "duration": 575,
    "start_time": "2023-01-30T09:31:12.374Z"
   },
   {
    "duration": 38,
    "start_time": "2023-01-30T09:31:12.951Z"
   },
   {
    "duration": 25,
    "start_time": "2023-01-30T09:31:12.991Z"
   },
   {
    "duration": 91,
    "start_time": "2023-01-30T09:31:13.018Z"
   },
   {
    "duration": 2247,
    "start_time": "2023-01-30T09:31:13.111Z"
   },
   {
    "duration": 90,
    "start_time": "2023-01-30T09:31:15.359Z"
   },
   {
    "duration": 114,
    "start_time": "2023-01-30T09:31:15.451Z"
   },
   {
    "duration": 44,
    "start_time": "2023-01-30T09:31:15.567Z"
   },
   {
    "duration": 135,
    "start_time": "2023-01-30T09:31:15.613Z"
   },
   {
    "duration": 47,
    "start_time": "2023-01-30T09:31:15.750Z"
   },
   {
    "duration": 126,
    "start_time": "2023-01-30T09:31:15.799Z"
   },
   {
    "duration": 122,
    "start_time": "2023-01-30T09:31:15.926Z"
   },
   {
    "duration": 47,
    "start_time": "2023-01-30T09:31:16.050Z"
   },
   {
    "duration": 590,
    "start_time": "2023-01-30T09:31:16.099Z"
   },
   {
    "duration": 830,
    "start_time": "2023-01-30T09:31:16.692Z"
   },
   {
    "duration": 317,
    "start_time": "2023-01-30T09:31:17.524Z"
   },
   {
    "duration": 157,
    "start_time": "2023-01-30T09:31:17.848Z"
   },
   {
    "duration": 33145,
    "start_time": "2023-01-30T09:31:18.007Z"
   },
   {
    "duration": 122905,
    "start_time": "2023-01-30T09:31:51.156Z"
   },
   {
    "duration": 237965,
    "start_time": "2023-01-30T09:33:54.066Z"
   },
   {
    "duration": 4174,
    "start_time": "2023-01-30T09:37:53.965Z"
   },
   {
    "duration": 4272,
    "start_time": "2023-01-30T09:38:51.245Z"
   },
   {
    "duration": 68487,
    "start_time": "2023-01-30T09:39:57.863Z"
   },
   {
    "duration": 34939,
    "start_time": "2023-01-30T09:42:08.713Z"
   },
   {
    "duration": 51142,
    "start_time": "2023-01-30T09:42:53.629Z"
   },
   {
    "duration": 37309,
    "start_time": "2023-01-30T09:43:54.466Z"
   },
   {
    "duration": 397750,
    "start_time": "2023-01-30T09:45:53.510Z"
   },
   {
    "duration": 356876,
    "start_time": "2023-01-30T09:52:35.193Z"
   },
   {
    "duration": 1449,
    "start_time": "2023-01-30T09:58:47.242Z"
   },
   {
    "duration": 841,
    "start_time": "2023-01-30T09:58:48.693Z"
   },
   {
    "duration": 140,
    "start_time": "2023-01-30T09:58:49.536Z"
   },
   {
    "duration": 100,
    "start_time": "2023-01-30T09:58:49.679Z"
   },
   {
    "duration": 68,
    "start_time": "2023-01-30T09:58:49.781Z"
   },
   {
    "duration": 60,
    "start_time": "2023-01-30T09:58:49.851Z"
   },
   {
    "duration": 52,
    "start_time": "2023-01-30T09:58:49.912Z"
   },
   {
    "duration": 91,
    "start_time": "2023-01-30T09:58:49.966Z"
   },
   {
    "duration": 561,
    "start_time": "2023-01-30T09:58:50.059Z"
   },
   {
    "duration": 46,
    "start_time": "2023-01-30T09:58:50.624Z"
   },
   {
    "duration": 25,
    "start_time": "2023-01-30T09:58:50.672Z"
   },
   {
    "duration": 88,
    "start_time": "2023-01-30T09:58:50.699Z"
   },
   {
    "duration": 2125,
    "start_time": "2023-01-30T09:58:50.789Z"
   },
   {
    "duration": 84,
    "start_time": "2023-01-30T09:58:52.916Z"
   },
   {
    "duration": 112,
    "start_time": "2023-01-30T09:58:53.002Z"
   },
   {
    "duration": 59,
    "start_time": "2023-01-30T09:58:53.116Z"
   },
   {
    "duration": 123,
    "start_time": "2023-01-30T09:58:53.177Z"
   },
   {
    "duration": 58,
    "start_time": "2023-01-30T09:58:53.302Z"
   },
   {
    "duration": 137,
    "start_time": "2023-01-30T09:58:53.362Z"
   },
   {
    "duration": 123,
    "start_time": "2023-01-30T09:58:53.501Z"
   },
   {
    "duration": 73,
    "start_time": "2023-01-30T09:58:53.625Z"
   },
   {
    "duration": 557,
    "start_time": "2023-01-30T09:58:53.700Z"
   },
   {
    "duration": 786,
    "start_time": "2023-01-30T09:58:54.259Z"
   },
   {
    "duration": 299,
    "start_time": "2023-01-30T09:58:55.046Z"
   },
   {
    "duration": 155,
    "start_time": "2023-01-30T09:58:55.349Z"
   },
   {
    "duration": 30744,
    "start_time": "2023-01-30T09:58:55.506Z"
   },
   {
    "duration": 132633,
    "start_time": "2023-01-30T09:59:26.252Z"
   },
   {
    "duration": 34477,
    "start_time": "2023-01-30T10:01:38.888Z"
   },
   {
    "duration": 189,
    "start_time": "2023-01-30T10:02:40.378Z"
   },
   {
    "duration": 5,
    "start_time": "2023-01-30T10:03:03.761Z"
   },
   {
    "duration": 3375,
    "start_time": "2023-01-30T10:03:08.181Z"
   },
   {
    "duration": 3243,
    "start_time": "2023-01-30T10:03:56.793Z"
   },
   {
    "duration": 3446,
    "start_time": "2023-01-30T10:04:13.305Z"
   },
   {
    "duration": 1434,
    "start_time": "2023-01-30T10:06:15.122Z"
   },
   {
    "duration": 904,
    "start_time": "2023-01-30T10:06:16.558Z"
   },
   {
    "duration": 144,
    "start_time": "2023-01-30T10:06:17.464Z"
   },
   {
    "duration": 101,
    "start_time": "2023-01-30T10:06:17.610Z"
   },
   {
    "duration": 65,
    "start_time": "2023-01-30T10:06:17.713Z"
   },
   {
    "duration": 69,
    "start_time": "2023-01-30T10:06:17.780Z"
   },
   {
    "duration": 39,
    "start_time": "2023-01-30T10:06:17.851Z"
   },
   {
    "duration": 107,
    "start_time": "2023-01-30T10:06:17.891Z"
   },
   {
    "duration": 548,
    "start_time": "2023-01-30T10:06:18.000Z"
   },
   {
    "duration": 38,
    "start_time": "2023-01-30T10:06:18.550Z"
   },
   {
    "duration": 25,
    "start_time": "2023-01-30T10:06:18.590Z"
   },
   {
    "duration": 86,
    "start_time": "2023-01-30T10:06:18.617Z"
   },
   {
    "duration": 2133,
    "start_time": "2023-01-30T10:06:18.705Z"
   },
   {
    "duration": 120,
    "start_time": "2023-01-30T10:06:20.840Z"
   },
   {
    "duration": 117,
    "start_time": "2023-01-30T10:06:20.967Z"
   },
   {
    "duration": 63,
    "start_time": "2023-01-30T10:06:21.086Z"
   },
   {
    "duration": 124,
    "start_time": "2023-01-30T10:06:21.150Z"
   },
   {
    "duration": 45,
    "start_time": "2023-01-30T10:06:21.276Z"
   },
   {
    "duration": 136,
    "start_time": "2023-01-30T10:06:21.323Z"
   },
   {
    "duration": 120,
    "start_time": "2023-01-30T10:06:21.461Z"
   },
   {
    "duration": 49,
    "start_time": "2023-01-30T10:06:21.583Z"
   },
   {
    "duration": 568,
    "start_time": "2023-01-30T10:06:21.634Z"
   },
   {
    "duration": 815,
    "start_time": "2023-01-30T10:06:22.203Z"
   },
   {
    "duration": 301,
    "start_time": "2023-01-30T10:06:23.019Z"
   },
   {
    "duration": 196,
    "start_time": "2023-01-30T10:06:23.322Z"
   },
   {
    "duration": 33030,
    "start_time": "2023-01-30T10:06:23.521Z"
   },
   {
    "duration": 125644,
    "start_time": "2023-01-30T10:06:56.554Z"
   },
   {
    "duration": 308633,
    "start_time": "2023-01-30T10:09:02.202Z"
   },
   {
    "duration": 122091,
    "start_time": "2023-01-30T10:14:12.347Z"
   },
   {
    "duration": 1364,
    "start_time": "2023-01-30T10:19:41.344Z"
   },
   {
    "duration": 891,
    "start_time": "2023-01-30T10:19:42.710Z"
   },
   {
    "duration": 173,
    "start_time": "2023-01-30T10:19:43.603Z"
   },
   {
    "duration": 97,
    "start_time": "2023-01-30T10:19:43.783Z"
   },
   {
    "duration": 97,
    "start_time": "2023-01-30T10:19:43.882Z"
   },
   {
    "duration": 68,
    "start_time": "2023-01-30T10:19:43.980Z"
   },
   {
    "duration": 41,
    "start_time": "2023-01-30T10:19:44.050Z"
   },
   {
    "duration": 102,
    "start_time": "2023-01-30T10:19:44.093Z"
   },
   {
    "duration": 582,
    "start_time": "2023-01-30T10:19:44.197Z"
   },
   {
    "duration": 38,
    "start_time": "2023-01-30T10:19:44.781Z"
   },
   {
    "duration": 39,
    "start_time": "2023-01-30T10:19:44.821Z"
   },
   {
    "duration": 70,
    "start_time": "2023-01-30T10:19:44.861Z"
   },
   {
    "duration": 2402,
    "start_time": "2023-01-30T10:19:44.949Z"
   },
   {
    "duration": 86,
    "start_time": "2023-01-30T10:19:47.352Z"
   },
   {
    "duration": 114,
    "start_time": "2023-01-30T10:19:47.448Z"
   },
   {
    "duration": 44,
    "start_time": "2023-01-30T10:19:47.564Z"
   },
   {
    "duration": 128,
    "start_time": "2023-01-30T10:19:47.610Z"
   },
   {
    "duration": 48,
    "start_time": "2023-01-30T10:19:47.740Z"
   },
   {
    "duration": 128,
    "start_time": "2023-01-30T10:19:47.790Z"
   },
   {
    "duration": 120,
    "start_time": "2023-01-30T10:19:47.920Z"
   },
   {
    "duration": 45,
    "start_time": "2023-01-30T10:19:48.042Z"
   },
   {
    "duration": 537,
    "start_time": "2023-01-30T10:19:48.089Z"
   },
   {
    "duration": 806,
    "start_time": "2023-01-30T10:19:48.628Z"
   },
   {
    "duration": 304,
    "start_time": "2023-01-30T10:19:49.436Z"
   },
   {
    "duration": 150,
    "start_time": "2023-01-30T10:19:49.741Z"
   },
   {
    "duration": 30256,
    "start_time": "2023-01-30T10:19:49.893Z"
   },
   {
    "duration": 135485,
    "start_time": "2023-01-30T10:20:20.151Z"
   },
   {
    "duration": 34425,
    "start_time": "2023-01-30T10:22:35.639Z"
   },
   {
    "duration": 190,
    "start_time": "2023-01-30T10:23:10.065Z"
   },
   {
    "duration": 4,
    "start_time": "2023-01-30T10:24:18.526Z"
   },
   {
    "duration": 11,
    "start_time": "2023-01-30T10:24:23.449Z"
   },
   {
    "duration": 134,
    "start_time": "2023-01-30T11:00:28.845Z"
   },
   {
    "duration": 64,
    "start_time": "2023-01-30T11:03:13.308Z"
   },
   {
    "duration": 1486,
    "start_time": "2023-01-30T11:08:23.227Z"
   },
   {
    "duration": 903,
    "start_time": "2023-01-30T11:08:24.715Z"
   },
   {
    "duration": 185,
    "start_time": "2023-01-30T11:08:25.620Z"
   },
   {
    "duration": 101,
    "start_time": "2023-01-30T11:08:25.808Z"
   },
   {
    "duration": 66,
    "start_time": "2023-01-30T11:08:25.911Z"
   },
   {
    "duration": 70,
    "start_time": "2023-01-30T11:08:25.979Z"
   },
   {
    "duration": 38,
    "start_time": "2023-01-30T11:08:26.051Z"
   },
   {
    "duration": 97,
    "start_time": "2023-01-30T11:08:26.090Z"
   },
   {
    "duration": 642,
    "start_time": "2023-01-30T11:08:26.189Z"
   },
   {
    "duration": 45,
    "start_time": "2023-01-30T11:08:26.834Z"
   },
   {
    "duration": 26,
    "start_time": "2023-01-30T11:08:26.881Z"
   },
   {
    "duration": 92,
    "start_time": "2023-01-30T11:08:26.909Z"
   },
   {
    "duration": 2063,
    "start_time": "2023-01-30T11:08:27.003Z"
   },
   {
    "duration": 89,
    "start_time": "2023-01-30T11:08:29.068Z"
   },
   {
    "duration": 115,
    "start_time": "2023-01-30T11:08:29.159Z"
   },
   {
    "duration": 47,
    "start_time": "2023-01-30T11:08:29.276Z"
   },
   {
    "duration": 142,
    "start_time": "2023-01-30T11:08:29.324Z"
   },
   {
    "duration": 47,
    "start_time": "2023-01-30T11:08:29.468Z"
   },
   {
    "duration": 149,
    "start_time": "2023-01-30T11:08:29.518Z"
   },
   {
    "duration": 115,
    "start_time": "2023-01-30T11:08:29.669Z"
   },
   {
    "duration": 45,
    "start_time": "2023-01-30T11:08:29.786Z"
   },
   {
    "duration": 525,
    "start_time": "2023-01-30T11:08:29.833Z"
   },
   {
    "duration": 856,
    "start_time": "2023-01-30T11:08:30.360Z"
   },
   {
    "duration": 299,
    "start_time": "2023-01-30T11:08:31.218Z"
   },
   {
    "duration": 163,
    "start_time": "2023-01-30T11:08:31.518Z"
   },
   {
    "duration": 30967,
    "start_time": "2023-01-30T11:08:31.683Z"
   },
   {
    "duration": 28506,
    "start_time": "2023-01-30T11:09:02.652Z"
   },
   {
    "duration": 487,
    "start_time": "2023-01-30T11:09:31.162Z"
   },
   {
    "duration": 134033,
    "start_time": "2023-01-30T11:09:31.655Z"
   },
   {
    "duration": 31,
    "start_time": "2023-01-30T11:11:45.690Z"
   },
   {
    "duration": 2172,
    "start_time": "2023-01-30T11:32:29.055Z"
   },
   {
    "duration": 965,
    "start_time": "2023-01-30T11:32:31.229Z"
   },
   {
    "duration": 148,
    "start_time": "2023-01-30T11:32:32.196Z"
   },
   {
    "duration": 107,
    "start_time": "2023-01-30T11:32:32.349Z"
   },
   {
    "duration": 69,
    "start_time": "2023-01-30T11:32:32.458Z"
   },
   {
    "duration": 81,
    "start_time": "2023-01-30T11:32:32.529Z"
   },
   {
    "duration": 49,
    "start_time": "2023-01-30T11:32:32.612Z"
   },
   {
    "duration": 89,
    "start_time": "2023-01-30T11:32:32.663Z"
   },
   {
    "duration": 568,
    "start_time": "2023-01-30T11:32:32.753Z"
   },
   {
    "duration": 60,
    "start_time": "2023-01-30T11:32:33.323Z"
   },
   {
    "duration": 28,
    "start_time": "2023-01-30T11:32:33.385Z"
   },
   {
    "duration": 107,
    "start_time": "2023-01-30T11:32:33.415Z"
   },
   {
    "duration": 2258,
    "start_time": "2023-01-30T11:32:33.525Z"
   },
   {
    "duration": 90,
    "start_time": "2023-01-30T11:32:35.785Z"
   },
   {
    "duration": 62,
    "start_time": "2023-01-30T11:32:35.877Z"
   },
   {
    "duration": 134,
    "start_time": "2023-01-30T11:32:35.941Z"
   },
   {
    "duration": 51,
    "start_time": "2023-01-30T11:32:36.077Z"
   },
   {
    "duration": 156,
    "start_time": "2023-01-30T11:32:36.131Z"
   },
   {
    "duration": 62,
    "start_time": "2023-01-30T11:32:36.291Z"
   },
   {
    "duration": 647,
    "start_time": "2023-01-30T11:32:36.356Z"
   },
   {
    "duration": 907,
    "start_time": "2023-01-30T11:32:37.005Z"
   },
   {
    "duration": 322,
    "start_time": "2023-01-30T11:32:37.914Z"
   },
   {
    "duration": 174,
    "start_time": "2023-01-30T11:32:38.238Z"
   },
   {
    "duration": 28346,
    "start_time": "2023-01-30T11:32:38.414Z"
   },
   {
    "duration": 35392,
    "start_time": "2023-01-30T11:33:06.762Z"
   },
   {
    "duration": 410,
    "start_time": "2023-01-30T11:33:42.156Z"
   },
   {
    "duration": 149509,
    "start_time": "2023-01-30T11:33:42.570Z"
   },
   {
    "duration": 48,
    "start_time": "2023-01-30T11:36:12.084Z"
   },
   {
    "duration": 244620,
    "start_time": "2023-01-30T11:36:12.134Z"
   },
   {
    "duration": 1624,
    "start_time": "2023-01-30T11:41:45.148Z"
   },
   {
    "duration": 867,
    "start_time": "2023-01-30T11:41:46.774Z"
   },
   {
    "duration": 140,
    "start_time": "2023-01-30T11:41:47.648Z"
   },
   {
    "duration": 113,
    "start_time": "2023-01-30T11:41:47.791Z"
   },
   {
    "duration": 98,
    "start_time": "2023-01-30T11:41:47.906Z"
   },
   {
    "duration": 80,
    "start_time": "2023-01-30T11:41:48.006Z"
   },
   {
    "duration": 44,
    "start_time": "2023-01-30T11:41:48.088Z"
   },
   {
    "duration": 96,
    "start_time": "2023-01-30T11:41:48.134Z"
   },
   {
    "duration": 570,
    "start_time": "2023-01-30T11:41:48.232Z"
   },
   {
    "duration": 48,
    "start_time": "2023-01-30T11:41:48.805Z"
   },
   {
    "duration": 24,
    "start_time": "2023-01-30T11:41:48.854Z"
   },
   {
    "duration": 89,
    "start_time": "2023-01-30T11:41:48.879Z"
   },
   {
    "duration": 2178,
    "start_time": "2023-01-30T11:41:48.970Z"
   },
   {
    "duration": 116,
    "start_time": "2023-01-30T11:41:51.151Z"
   },
   {
    "duration": 51,
    "start_time": "2023-01-30T11:41:51.269Z"
   },
   {
    "duration": 144,
    "start_time": "2023-01-30T11:41:51.322Z"
   },
   {
    "duration": 44,
    "start_time": "2023-01-30T11:41:51.468Z"
   },
   {
    "duration": 129,
    "start_time": "2023-01-30T11:41:51.514Z"
   },
   {
    "duration": 47,
    "start_time": "2023-01-30T11:41:51.645Z"
   },
   {
    "duration": 559,
    "start_time": "2023-01-30T11:41:51.694Z"
   },
   {
    "duration": 852,
    "start_time": "2023-01-30T11:41:52.255Z"
   },
   {
    "duration": 316,
    "start_time": "2023-01-30T11:41:53.109Z"
   },
   {
    "duration": 195,
    "start_time": "2023-01-30T11:41:53.427Z"
   },
   {
    "duration": 1445,
    "start_time": "2023-01-30T11:42:22.509Z"
   },
   {
    "duration": 823,
    "start_time": "2023-01-30T11:42:23.957Z"
   },
   {
    "duration": 138,
    "start_time": "2023-01-30T11:42:24.784Z"
   },
   {
    "duration": 145,
    "start_time": "2023-01-30T11:42:24.924Z"
   },
   {
    "duration": 59,
    "start_time": "2023-01-30T11:42:25.071Z"
   },
   {
    "duration": 53,
    "start_time": "2023-01-30T11:42:25.148Z"
   },
   {
    "duration": 48,
    "start_time": "2023-01-30T11:42:25.203Z"
   },
   {
    "duration": 105,
    "start_time": "2023-01-30T11:42:25.253Z"
   },
   {
    "duration": 575,
    "start_time": "2023-01-30T11:42:25.361Z"
   },
   {
    "duration": 42,
    "start_time": "2023-01-30T11:42:25.938Z"
   },
   {
    "duration": 30,
    "start_time": "2023-01-30T11:42:25.982Z"
   },
   {
    "duration": 102,
    "start_time": "2023-01-30T11:42:26.014Z"
   },
   {
    "duration": 2328,
    "start_time": "2023-01-30T11:42:26.118Z"
   },
   {
    "duration": 84,
    "start_time": "2023-01-30T11:42:28.448Z"
   },
   {
    "duration": 63,
    "start_time": "2023-01-30T11:42:28.533Z"
   },
   {
    "duration": 127,
    "start_time": "2023-01-30T11:42:28.598Z"
   },
   {
    "duration": 60,
    "start_time": "2023-01-30T11:42:28.727Z"
   },
   {
    "duration": 120,
    "start_time": "2023-01-30T11:42:28.789Z"
   },
   {
    "duration": 71,
    "start_time": "2023-01-30T11:42:28.910Z"
   },
   {
    "duration": 556,
    "start_time": "2023-01-30T11:42:28.983Z"
   },
   {
    "duration": 846,
    "start_time": "2023-01-30T11:42:29.541Z"
   },
   {
    "duration": 310,
    "start_time": "2023-01-30T11:42:30.389Z"
   },
   {
    "duration": 158,
    "start_time": "2023-01-30T11:42:30.701Z"
   },
   {
    "duration": 26588,
    "start_time": "2023-01-30T11:42:30.861Z"
   },
   {
    "duration": 28514,
    "start_time": "2023-01-30T11:42:57.451Z"
   },
   {
    "duration": 483,
    "start_time": "2023-01-30T11:43:25.968Z"
   },
   {
    "duration": 121180,
    "start_time": "2023-01-30T11:43:26.456Z"
   },
   {
    "duration": 37,
    "start_time": "2023-01-30T11:45:27.638Z"
   },
   {
    "duration": 5,
    "start_time": "2023-01-30T11:45:27.677Z"
   },
   {
    "duration": 6,
    "start_time": "2023-01-30T11:45:27.683Z"
   },
   {
    "duration": 147725,
    "start_time": "2023-01-30T11:45:27.690Z"
   },
   {
    "duration": 61,
    "start_time": "2023-01-30T11:47:55.417Z"
   },
   {
    "duration": 10,
    "start_time": "2023-01-30T11:47:55.480Z"
   },
   {
    "duration": 0,
    "start_time": "2023-01-30T11:47:55.492Z"
   },
   {
    "duration": 4,
    "start_time": "2023-01-30T11:48:05.012Z"
   },
   {
    "duration": 146837,
    "start_time": "2023-01-30T11:48:06.528Z"
   },
   {
    "duration": 3408,
    "start_time": "2023-01-30T11:50:33.367Z"
   },
   {
    "duration": 5,
    "start_time": "2023-01-30T11:50:36.777Z"
   },
   {
    "duration": 11,
    "start_time": "2023-01-30T11:51:59.654Z"
   },
   {
    "duration": 136,
    "start_time": "2023-01-30T11:53:21.015Z"
   },
   {
    "duration": 86,
    "start_time": "2023-01-30T11:53:33.596Z"
   },
   {
    "duration": 88,
    "start_time": "2023-01-30T11:54:25.385Z"
   },
   {
    "duration": 75,
    "start_time": "2023-01-30T11:54:53.588Z"
   },
   {
    "duration": 4,
    "start_time": "2023-01-30T11:55:01.071Z"
   },
   {
    "duration": 1329,
    "start_time": "2023-01-30T11:55:14.678Z"
   },
   {
    "duration": 928,
    "start_time": "2023-01-30T11:55:16.009Z"
   },
   {
    "duration": 155,
    "start_time": "2023-01-30T11:55:16.938Z"
   },
   {
    "duration": 105,
    "start_time": "2023-01-30T11:55:17.095Z"
   },
   {
    "duration": 82,
    "start_time": "2023-01-30T11:55:17.202Z"
   },
   {
    "duration": 71,
    "start_time": "2023-01-30T11:55:17.286Z"
   },
   {
    "duration": 47,
    "start_time": "2023-01-30T11:55:17.359Z"
   },
   {
    "duration": 109,
    "start_time": "2023-01-30T11:55:17.408Z"
   },
   {
    "duration": 589,
    "start_time": "2023-01-30T11:55:17.518Z"
   },
   {
    "duration": 48,
    "start_time": "2023-01-30T11:55:18.110Z"
   },
   {
    "duration": 26,
    "start_time": "2023-01-30T11:55:18.160Z"
   },
   {
    "duration": 101,
    "start_time": "2023-01-30T11:55:18.188Z"
   },
   {
    "duration": 2152,
    "start_time": "2023-01-30T11:55:18.291Z"
   },
   {
    "duration": 84,
    "start_time": "2023-01-30T11:55:20.445Z"
   },
   {
    "duration": 68,
    "start_time": "2023-01-30T11:55:20.531Z"
   },
   {
    "duration": 123,
    "start_time": "2023-01-30T11:55:20.600Z"
   },
   {
    "duration": 53,
    "start_time": "2023-01-30T11:55:20.724Z"
   },
   {
    "duration": 129,
    "start_time": "2023-01-30T11:55:20.778Z"
   },
   {
    "duration": 73,
    "start_time": "2023-01-30T11:55:20.909Z"
   },
   {
    "duration": 542,
    "start_time": "2023-01-30T11:55:20.984Z"
   },
   {
    "duration": 811,
    "start_time": "2023-01-30T11:55:21.528Z"
   },
   {
    "duration": 315,
    "start_time": "2023-01-30T11:55:22.341Z"
   },
   {
    "duration": 163,
    "start_time": "2023-01-30T11:55:22.658Z"
   },
   {
    "duration": 45240,
    "start_time": "2023-01-30T11:55:22.822Z"
   },
   {
    "duration": 30902,
    "start_time": "2023-01-30T11:56:08.065Z"
   },
   {
    "duration": 481,
    "start_time": "2023-01-30T11:56:38.969Z"
   },
   {
    "duration": 141429,
    "start_time": "2023-01-30T11:56:39.452Z"
   },
   {
    "duration": 41,
    "start_time": "2023-01-30T11:59:00.884Z"
   },
   {
    "duration": 3,
    "start_time": "2023-01-30T11:59:00.926Z"
   },
   {
    "duration": 70794,
    "start_time": "2023-01-30T11:59:00.931Z"
   },
   {
    "duration": 99,
    "start_time": "2023-01-30T12:00:11.727Z"
   },
   {
    "duration": 14,
    "start_time": "2023-01-30T12:00:11.828Z"
   },
   {
    "duration": 0,
    "start_time": "2023-01-30T12:00:11.845Z"
   },
   {
    "duration": 0,
    "start_time": "2023-01-30T12:00:11.846Z"
   },
   {
    "duration": 0,
    "start_time": "2023-01-30T12:00:11.854Z"
   },
   {
    "duration": 2665,
    "start_time": "2023-01-30T12:00:28.673Z"
   },
   {
    "duration": 1601,
    "start_time": "2023-01-30T12:00:31.341Z"
   },
   {
    "duration": 166,
    "start_time": "2023-01-30T12:00:32.943Z"
   },
   {
    "duration": 107,
    "start_time": "2023-01-30T12:00:33.111Z"
   },
   {
    "duration": 84,
    "start_time": "2023-01-30T12:00:33.219Z"
   },
   {
    "duration": 73,
    "start_time": "2023-01-30T12:00:33.305Z"
   },
   {
    "duration": 50,
    "start_time": "2023-01-30T12:00:36.177Z"
   },
   {
    "duration": 109,
    "start_time": "2023-01-30T12:00:37.086Z"
   },
   {
    "duration": 595,
    "start_time": "2023-01-30T12:00:37.449Z"
   },
   {
    "duration": 49,
    "start_time": "2023-01-30T12:00:40.038Z"
   },
   {
    "duration": 35,
    "start_time": "2023-01-30T12:00:40.602Z"
   },
   {
    "duration": 94,
    "start_time": "2023-01-30T12:00:42.321Z"
   },
   {
    "duration": 2539,
    "start_time": "2023-01-30T12:00:42.875Z"
   },
   {
    "duration": 139,
    "start_time": "2023-01-30T12:00:45.870Z"
   },
   {
    "duration": 57,
    "start_time": "2023-01-30T12:00:47.437Z"
   },
   {
    "duration": 161,
    "start_time": "2023-01-30T12:00:47.737Z"
   },
   {
    "duration": 49,
    "start_time": "2023-01-30T12:00:48.502Z"
   },
   {
    "duration": 187,
    "start_time": "2023-01-30T12:00:49.101Z"
   },
   {
    "duration": 75,
    "start_time": "2023-01-30T12:00:49.290Z"
   },
   {
    "duration": 659,
    "start_time": "2023-01-30T12:00:49.413Z"
   },
   {
    "duration": 881,
    "start_time": "2023-01-30T12:00:51.437Z"
   },
   {
    "duration": 329,
    "start_time": "2023-01-30T12:00:52.320Z"
   },
   {
    "duration": 184,
    "start_time": "2023-01-30T12:00:52.651Z"
   },
   {
    "duration": 62029,
    "start_time": "2023-01-30T12:00:52.838Z"
   },
   {
    "duration": 69132,
    "start_time": "2023-01-30T12:01:54.871Z"
   },
   {
    "duration": 458,
    "start_time": "2023-01-30T12:03:04.004Z"
   },
   {
    "duration": 156058,
    "start_time": "2023-01-30T12:03:04.464Z"
   },
   {
    "duration": 61,
    "start_time": "2023-01-30T12:05:40.524Z"
   },
   {
    "duration": 3,
    "start_time": "2023-01-30T12:06:08.300Z"
   },
   {
    "duration": 364753,
    "start_time": "2023-01-30T12:06:08.898Z"
   },
   {
    "duration": 3545,
    "start_time": "2023-01-30T12:12:13.653Z"
   },
   {
    "duration": 6,
    "start_time": "2023-01-30T12:12:17.200Z"
   },
   {
    "duration": 18,
    "start_time": "2023-01-30T12:21:51.974Z"
   },
   {
    "duration": 129,
    "start_time": "2023-01-30T12:21:54.539Z"
   },
   {
    "duration": 5,
    "start_time": "2023-01-30T12:21:55.739Z"
   },
   {
    "duration": 1416,
    "start_time": "2023-01-31T10:20:26.105Z"
   },
   {
    "duration": 3050,
    "start_time": "2023-01-31T10:20:30.887Z"
   },
   {
    "duration": 130,
    "start_time": "2023-01-31T10:20:33.939Z"
   },
   {
    "duration": 99,
    "start_time": "2023-01-31T10:20:34.071Z"
   },
   {
    "duration": 55,
    "start_time": "2023-01-31T10:20:34.253Z"
   },
   {
    "duration": 52,
    "start_time": "2023-01-31T10:20:36.046Z"
   },
   {
    "duration": 35,
    "start_time": "2023-01-31T10:20:37.288Z"
   },
   {
    "duration": 80,
    "start_time": "2023-01-31T10:20:38.766Z"
   },
   {
    "duration": 557,
    "start_time": "2023-01-31T10:20:39.951Z"
   },
   {
    "duration": 32,
    "start_time": "2023-01-31T10:20:42.063Z"
   },
   {
    "duration": 25,
    "start_time": "2023-01-31T10:20:46.413Z"
   },
   {
    "duration": 69,
    "start_time": "2023-01-31T10:20:57.245Z"
   },
   {
    "duration": 2032,
    "start_time": "2023-01-31T10:21:01.899Z"
   },
   {
    "duration": 75,
    "start_time": "2023-01-31T10:21:04.542Z"
   },
   {
    "duration": 42,
    "start_time": "2023-01-31T10:21:08.409Z"
   },
   {
    "duration": 101,
    "start_time": "2023-01-31T10:21:10.422Z"
   },
   {
    "duration": 39,
    "start_time": "2023-01-31T10:21:11.120Z"
   },
   {
    "duration": 108,
    "start_time": "2023-01-31T10:21:16.178Z"
   },
   {
    "duration": 40,
    "start_time": "2023-01-31T10:21:16.706Z"
   },
   {
    "duration": 526,
    "start_time": "2023-01-31T10:21:23.034Z"
   },
   {
    "duration": 23,
    "start_time": "2023-01-31T10:21:39.389Z"
   },
   {
    "duration": 24,
    "start_time": "2023-01-31T10:21:40.855Z"
   },
   {
    "duration": 1313,
    "start_time": "2023-01-31T10:21:57.795Z"
   },
   {
    "duration": 904,
    "start_time": "2023-01-31T10:22:01.178Z"
   },
   {
    "duration": 121,
    "start_time": "2023-01-31T10:22:03.042Z"
   },
   {
    "duration": 93,
    "start_time": "2023-01-31T10:22:03.814Z"
   },
   {
    "duration": 57,
    "start_time": "2023-01-31T10:22:04.914Z"
   },
   {
    "duration": 60,
    "start_time": "2023-01-31T10:22:05.395Z"
   },
   {
    "duration": 39,
    "start_time": "2023-01-31T10:22:07.009Z"
   },
   {
    "duration": 83,
    "start_time": "2023-01-31T10:22:08.706Z"
   },
   {
    "duration": 567,
    "start_time": "2023-01-31T10:22:10.453Z"
   },
   {
    "duration": 31,
    "start_time": "2023-01-31T10:22:11.793Z"
   },
   {
    "duration": 24,
    "start_time": "2023-01-31T10:22:12.950Z"
   },
   {
    "duration": 74,
    "start_time": "2023-01-31T10:22:21.788Z"
   },
   {
    "duration": 2041,
    "start_time": "2023-01-31T10:22:24.622Z"
   },
   {
    "duration": 84,
    "start_time": "2023-01-31T10:22:26.665Z"
   },
   {
    "duration": 48,
    "start_time": "2023-01-31T10:22:27.977Z"
   },
   {
    "duration": 105,
    "start_time": "2023-01-31T10:22:28.682Z"
   },
   {
    "duration": 52,
    "start_time": "2023-01-31T10:22:29.645Z"
   },
   {
    "duration": 133,
    "start_time": "2023-01-31T10:22:31.934Z"
   },
   {
    "duration": 56,
    "start_time": "2023-01-31T10:22:33.194Z"
   },
   {
    "duration": 475,
    "start_time": "2023-01-31T10:22:34.690Z"
   },
   {
    "duration": 176,
    "start_time": "2023-01-31T10:29:42.905Z"
   },
   {
    "duration": 36,
    "start_time": "2023-01-31T10:30:15.131Z"
   },
   {
    "duration": 96,
    "start_time": "2023-01-31T10:30:23.288Z"
   },
   {
    "duration": 6,
    "start_time": "2023-01-31T10:34:00.003Z"
   },
   {
    "duration": 22,
    "start_time": "2023-01-31T10:40:28.571Z"
   },
   {
    "duration": 22,
    "start_time": "2023-01-31T10:46:07.994Z"
   },
   {
    "duration": 32,
    "start_time": "2023-01-31T10:50:36.577Z"
   },
   {
    "duration": 1154,
    "start_time": "2023-01-31T10:52:26.621Z"
   },
   {
    "duration": 1103,
    "start_time": "2023-01-31T10:55:44.340Z"
   },
   {
    "duration": 72,
    "start_time": "2023-01-31T10:55:47.670Z"
   },
   {
    "duration": 35,
    "start_time": "2023-01-31T10:55:57.437Z"
   },
   {
    "duration": 80,
    "start_time": "2023-01-31T10:56:05.112Z"
   },
   {
    "duration": 78,
    "start_time": "2023-01-31T10:56:14.294Z"
   },
   {
    "duration": 90,
    "start_time": "2023-01-31T10:56:55.345Z"
   },
   {
    "duration": 6138,
    "start_time": "2023-01-31T10:57:26.727Z"
   },
   {
    "duration": 2010,
    "start_time": "2023-01-31T10:57:34.172Z"
   },
   {
    "duration": 6,
    "start_time": "2023-01-31T10:57:37.434Z"
   },
   {
    "duration": 43,
    "start_time": "2023-01-31T10:57:48.190Z"
   },
   {
    "duration": 72,
    "start_time": "2023-01-31T10:58:50.768Z"
   },
   {
    "duration": 4930,
    "start_time": "2023-01-31T10:59:56.711Z"
   },
   {
    "duration": 5,
    "start_time": "2023-01-31T11:00:02.584Z"
   },
   {
    "duration": 82,
    "start_time": "2023-01-31T11:00:11.919Z"
   },
   {
    "duration": 73,
    "start_time": "2023-01-31T11:00:18.572Z"
   },
   {
    "duration": 2399,
    "start_time": "2023-01-31T19:08:07.338Z"
   },
   {
    "duration": 1563,
    "start_time": "2023-01-31T19:08:11.357Z"
   },
   {
    "duration": 1156,
    "start_time": "2023-01-31T19:09:38.211Z"
   },
   {
    "duration": 120,
    "start_time": "2023-01-31T19:09:39.718Z"
   },
   {
    "duration": 69,
    "start_time": "2023-01-31T19:09:42.112Z"
   },
   {
    "duration": 52,
    "start_time": "2023-01-31T19:10:18.008Z"
   },
   {
    "duration": 1206,
    "start_time": "2023-01-31T19:10:21.476Z"
   },
   {
    "duration": 1898,
    "start_time": "2023-01-31T19:10:41.536Z"
   },
   {
    "duration": 1337,
    "start_time": "2023-01-31T19:10:44.018Z"
   },
   {
    "duration": 830,
    "start_time": "2023-01-31T19:10:49.160Z"
   },
   {
    "duration": 102,
    "start_time": "2023-01-31T19:10:51.474Z"
   },
   {
    "duration": 134,
    "start_time": "2023-01-31T19:10:52.944Z"
   },
   {
    "duration": 61,
    "start_time": "2023-01-31T19:10:54.295Z"
   },
   {
    "duration": 50,
    "start_time": "2023-01-31T19:10:56.036Z"
   },
   {
    "duration": 44,
    "start_time": "2023-01-31T19:10:57.793Z"
   },
   {
    "duration": 66,
    "start_time": "2023-01-31T19:10:59.720Z"
   },
   {
    "duration": 534,
    "start_time": "2023-01-31T19:11:00.975Z"
   },
   {
    "duration": 36,
    "start_time": "2023-01-31T19:11:03.574Z"
   },
   {
    "duration": 27,
    "start_time": "2023-01-31T19:11:04.394Z"
   },
   {
    "duration": 72,
    "start_time": "2023-01-31T19:11:06.452Z"
   },
   {
    "duration": 2222,
    "start_time": "2023-01-31T19:11:07.960Z"
   },
   {
    "duration": 77,
    "start_time": "2023-01-31T19:11:10.184Z"
   },
   {
    "duration": 44,
    "start_time": "2023-01-31T19:11:12.510Z"
   },
   {
    "duration": 117,
    "start_time": "2023-01-31T19:11:14.105Z"
   },
   {
    "duration": 44,
    "start_time": "2023-01-31T19:11:14.737Z"
   },
   {
    "duration": 109,
    "start_time": "2023-01-31T19:11:17.007Z"
   },
   {
    "duration": 48,
    "start_time": "2023-01-31T19:11:17.555Z"
   },
   {
    "duration": 496,
    "start_time": "2023-01-31T19:11:18.791Z"
   },
   {
    "duration": 76,
    "start_time": "2023-01-31T19:11:21.296Z"
   },
   {
    "duration": 23,
    "start_time": "2023-01-31T19:11:23.594Z"
   },
   {
    "duration": 22,
    "start_time": "2023-01-31T19:11:25.156Z"
   },
   {
    "duration": 160,
    "start_time": "2023-01-31T19:11:30.700Z"
   },
   {
    "duration": 67,
    "start_time": "2023-01-31T19:12:09.045Z"
   },
   {
    "duration": 61,
    "start_time": "2023-01-31T19:12:18.761Z"
   },
   {
    "duration": 57,
    "start_time": "2023-01-31T19:12:44.026Z"
   },
   {
    "duration": 1952,
    "start_time": "2023-01-31T19:12:51.797Z"
   },
   {
    "duration": 1546,
    "start_time": "2023-01-31T19:12:53.751Z"
   },
   {
    "duration": 1102,
    "start_time": "2023-01-31T19:12:55.299Z"
   },
   {
    "duration": 101,
    "start_time": "2023-01-31T19:12:56.403Z"
   },
   {
    "duration": 138,
    "start_time": "2023-01-31T19:12:56.506Z"
   },
   {
    "duration": 57,
    "start_time": "2023-01-31T19:12:56.645Z"
   },
   {
    "duration": 49,
    "start_time": "2023-01-31T19:12:56.704Z"
   },
   {
    "duration": 46,
    "start_time": "2023-01-31T19:12:56.755Z"
   },
   {
    "duration": 76,
    "start_time": "2023-01-31T19:12:56.803Z"
   },
   {
    "duration": 564,
    "start_time": "2023-01-31T19:12:56.882Z"
   },
   {
    "duration": 36,
    "start_time": "2023-01-31T19:12:57.448Z"
   },
   {
    "duration": 26,
    "start_time": "2023-01-31T19:12:57.498Z"
   },
   {
    "duration": 81,
    "start_time": "2023-01-31T19:12:57.526Z"
   },
   {
    "duration": 2239,
    "start_time": "2023-01-31T19:12:57.609Z"
   },
   {
    "duration": 64,
    "start_time": "2023-01-31T19:12:59.849Z"
   },
   {
    "duration": 41,
    "start_time": "2023-01-31T19:12:59.915Z"
   },
   {
    "duration": 125,
    "start_time": "2023-01-31T19:12:59.958Z"
   },
   {
    "duration": 51,
    "start_time": "2023-01-31T19:13:00.085Z"
   },
   {
    "duration": 118,
    "start_time": "2023-01-31T19:13:00.138Z"
   },
   {
    "duration": 54,
    "start_time": "2023-01-31T19:13:00.258Z"
   },
   {
    "duration": 533,
    "start_time": "2023-01-31T19:13:00.313Z"
   },
   {
    "duration": 80,
    "start_time": "2023-01-31T19:13:00.848Z"
   },
   {
    "duration": 14,
    "start_time": "2023-01-31T19:13:00.930Z"
   },
   {
    "duration": 61,
    "start_time": "2023-01-31T19:13:00.946Z"
   },
   {
    "duration": 80,
    "start_time": "2023-01-31T19:13:01.009Z"
   },
   {
    "duration": 47,
    "start_time": "2023-01-31T19:13:25.218Z"
   },
   {
    "duration": 850,
    "start_time": "2023-01-31T19:14:16.392Z"
   },
   {
    "duration": 7809,
    "start_time": "2023-01-31T19:14:20.335Z"
   },
   {
    "duration": 7,
    "start_time": "2023-01-31T19:15:16.523Z"
   },
   {
    "duration": 1355,
    "start_time": "2023-01-31T19:15:57.821Z"
   },
   {
    "duration": 4,
    "start_time": "2023-01-31T19:16:01.888Z"
   },
   {
    "duration": 1330,
    "start_time": "2023-01-31T19:16:08.360Z"
   },
   {
    "duration": 123,
    "start_time": "2023-01-31T19:16:10.854Z"
   },
   {
    "duration": 98,
    "start_time": "2023-01-31T19:16:16.042Z"
   },
   {
    "duration": 49,
    "start_time": "2023-01-31T19:16:17.306Z"
   },
   {
    "duration": 52,
    "start_time": "2023-01-31T19:16:18.540Z"
   },
   {
    "duration": 34,
    "start_time": "2023-01-31T19:16:20.118Z"
   },
   {
    "duration": 65,
    "start_time": "2023-01-31T19:16:22.425Z"
   },
   {
    "duration": 536,
    "start_time": "2023-01-31T19:16:22.955Z"
   },
   {
    "duration": 36,
    "start_time": "2023-01-31T19:16:24.430Z"
   },
   {
    "duration": 25,
    "start_time": "2023-01-31T19:16:24.930Z"
   },
   {
    "duration": 79,
    "start_time": "2023-01-31T19:16:27.142Z"
   },
   {
    "duration": 2046,
    "start_time": "2023-01-31T19:16:27.890Z"
   },
   {
    "duration": 71,
    "start_time": "2023-01-31T19:16:29.938Z"
   },
   {
    "duration": 44,
    "start_time": "2023-01-31T19:16:32.287Z"
   },
   {
    "duration": 112,
    "start_time": "2023-01-31T19:16:32.587Z"
   },
   {
    "duration": 49,
    "start_time": "2023-01-31T19:16:33.061Z"
   },
   {
    "duration": 126,
    "start_time": "2023-01-31T19:16:34.285Z"
   },
   {
    "duration": 70,
    "start_time": "2023-01-31T19:16:34.480Z"
   },
   {
    "duration": 543,
    "start_time": "2023-01-31T19:16:35.246Z"
   },
   {
    "duration": 75,
    "start_time": "2023-01-31T19:16:39.995Z"
   },
   {
    "duration": 17,
    "start_time": "2023-01-31T19:16:42.694Z"
   },
   {
    "duration": 30,
    "start_time": "2023-01-31T19:16:43.990Z"
   },
   {
    "duration": 78,
    "start_time": "2023-01-31T19:16:51.290Z"
   },
   {
    "duration": 47,
    "start_time": "2023-01-31T19:17:21.702Z"
   },
   {
    "duration": 2016,
    "start_time": "2023-01-31T19:17:25.997Z"
   },
   {
    "duration": 1572,
    "start_time": "2023-01-31T19:17:28.016Z"
   },
   {
    "duration": 3,
    "start_time": "2023-01-31T19:17:29.589Z"
   },
   {
    "duration": 1109,
    "start_time": "2023-01-31T19:17:29.594Z"
   },
   {
    "duration": 106,
    "start_time": "2023-01-31T19:17:30.705Z"
   },
   {
    "duration": 153,
    "start_time": "2023-01-31T19:17:30.813Z"
   },
   {
    "duration": 52,
    "start_time": "2023-01-31T19:17:30.967Z"
   },
   {
    "duration": 51,
    "start_time": "2023-01-31T19:17:31.020Z"
   },
   {
    "duration": 48,
    "start_time": "2023-01-31T19:17:31.073Z"
   },
   {
    "duration": 92,
    "start_time": "2023-01-31T19:17:31.122Z"
   },
   {
    "duration": 549,
    "start_time": "2023-01-31T19:17:31.216Z"
   },
   {
    "duration": 41,
    "start_time": "2023-01-31T19:17:31.766Z"
   },
   {
    "duration": 27,
    "start_time": "2023-01-31T19:17:31.809Z"
   },
   {
    "duration": 87,
    "start_time": "2023-01-31T19:17:31.839Z"
   },
   {
    "duration": 2019,
    "start_time": "2023-01-31T19:17:31.928Z"
   },
   {
    "duration": 95,
    "start_time": "2023-01-31T19:17:33.950Z"
   },
   {
    "duration": 75,
    "start_time": "2023-01-31T19:17:34.047Z"
   },
   {
    "duration": 147,
    "start_time": "2023-01-31T19:17:34.124Z"
   },
   {
    "duration": 62,
    "start_time": "2023-01-31T19:17:34.273Z"
   },
   {
    "duration": 141,
    "start_time": "2023-01-31T19:17:34.338Z"
   },
   {
    "duration": 56,
    "start_time": "2023-01-31T19:17:34.481Z"
   },
   {
    "duration": 577,
    "start_time": "2023-01-31T19:17:34.539Z"
   },
   {
    "duration": 91,
    "start_time": "2023-01-31T19:17:35.118Z"
   },
   {
    "duration": 19,
    "start_time": "2023-01-31T19:17:35.211Z"
   },
   {
    "duration": 53,
    "start_time": "2023-01-31T19:17:35.232Z"
   },
   {
    "duration": 76,
    "start_time": "2023-01-31T19:17:35.287Z"
   },
   {
    "duration": 56,
    "start_time": "2023-01-31T19:19:19.648Z"
   },
   {
    "duration": 1950,
    "start_time": "2023-01-31T19:19:24.225Z"
   },
   {
    "duration": 1718,
    "start_time": "2023-01-31T19:19:26.178Z"
   },
   {
    "duration": 5,
    "start_time": "2023-01-31T19:19:27.898Z"
   },
   {
    "duration": 1061,
    "start_time": "2023-01-31T19:19:27.906Z"
   },
   {
    "duration": 101,
    "start_time": "2023-01-31T19:19:28.969Z"
   },
   {
    "duration": 104,
    "start_time": "2023-01-31T19:19:29.071Z"
   },
   {
    "duration": 59,
    "start_time": "2023-01-31T19:19:29.176Z"
   },
   {
    "duration": 52,
    "start_time": "2023-01-31T19:19:29.236Z"
   },
   {
    "duration": 37,
    "start_time": "2023-01-31T19:19:29.299Z"
   },
   {
    "duration": 83,
    "start_time": "2023-01-31T19:19:29.339Z"
   },
   {
    "duration": 549,
    "start_time": "2023-01-31T19:19:29.424Z"
   },
   {
    "duration": 42,
    "start_time": "2023-01-31T19:19:29.974Z"
   },
   {
    "duration": 24,
    "start_time": "2023-01-31T19:19:30.017Z"
   },
   {
    "duration": 76,
    "start_time": "2023-01-31T19:19:30.043Z"
   },
   {
    "duration": 1982,
    "start_time": "2023-01-31T19:19:30.120Z"
   },
   {
    "duration": 61,
    "start_time": "2023-01-31T19:19:32.103Z"
   },
   {
    "duration": 60,
    "start_time": "2023-01-31T19:19:32.165Z"
   },
   {
    "duration": 114,
    "start_time": "2023-01-31T19:19:32.227Z"
   },
   {
    "duration": 75,
    "start_time": "2023-01-31T19:19:32.343Z"
   },
   {
    "duration": 209,
    "start_time": "2023-01-31T19:19:32.420Z"
   },
   {
    "duration": 97,
    "start_time": "2023-01-31T19:19:32.631Z"
   },
   {
    "duration": 1378,
    "start_time": "2023-01-31T19:19:32.729Z"
   },
   {
    "duration": 206,
    "start_time": "2023-01-31T19:19:34.109Z"
   },
   {
    "duration": 17,
    "start_time": "2023-01-31T19:19:34.317Z"
   },
   {
    "duration": 82,
    "start_time": "2023-01-31T19:19:34.336Z"
   },
   {
    "duration": 1942,
    "start_time": "2023-01-31T19:20:02.550Z"
   },
   {
    "duration": 1637,
    "start_time": "2023-01-31T19:20:04.494Z"
   },
   {
    "duration": 3,
    "start_time": "2023-01-31T19:20:06.133Z"
   },
   {
    "duration": 1180,
    "start_time": "2023-01-31T19:20:06.138Z"
   },
   {
    "duration": 116,
    "start_time": "2023-01-31T19:20:07.319Z"
   },
   {
    "duration": 163,
    "start_time": "2023-01-31T19:20:07.437Z"
   },
   {
    "duration": 56,
    "start_time": "2023-01-31T19:20:07.602Z"
   },
   {
    "duration": 68,
    "start_time": "2023-01-31T19:20:07.660Z"
   },
   {
    "duration": 41,
    "start_time": "2023-01-31T19:20:07.729Z"
   },
   {
    "duration": 100,
    "start_time": "2023-01-31T19:20:07.773Z"
   },
   {
    "duration": 615,
    "start_time": "2023-01-31T19:20:07.874Z"
   },
   {
    "duration": 48,
    "start_time": "2023-01-31T19:20:08.491Z"
   },
   {
    "duration": 28,
    "start_time": "2023-01-31T19:20:08.541Z"
   },
   {
    "duration": 136,
    "start_time": "2023-01-31T19:20:08.570Z"
   },
   {
    "duration": 3131,
    "start_time": "2023-01-31T19:20:08.708Z"
   },
   {
    "duration": 63,
    "start_time": "2023-01-31T19:20:11.841Z"
   },
   {
    "duration": 48,
    "start_time": "2023-01-31T19:20:11.906Z"
   },
   {
    "duration": 122,
    "start_time": "2023-01-31T19:20:11.956Z"
   },
   {
    "duration": 50,
    "start_time": "2023-01-31T19:20:12.080Z"
   },
   {
    "duration": 116,
    "start_time": "2023-01-31T19:20:12.131Z"
   },
   {
    "duration": 64,
    "start_time": "2023-01-31T19:20:12.248Z"
   },
   {
    "duration": 516,
    "start_time": "2023-01-31T19:20:12.314Z"
   },
   {
    "duration": 89,
    "start_time": "2023-01-31T19:20:12.832Z"
   },
   {
    "duration": 14,
    "start_time": "2023-01-31T19:20:12.923Z"
   },
   {
    "duration": 22,
    "start_time": "2023-01-31T19:20:12.939Z"
   },
   {
    "duration": 93,
    "start_time": "2023-01-31T19:20:12.963Z"
   },
   {
    "duration": 7,
    "start_time": "2023-01-31T19:20:13.058Z"
   },
   {
    "duration": 18006,
    "start_time": "2023-01-31T19:20:13.068Z"
   },
   {
    "duration": 3,
    "start_time": "2023-01-31T19:20:31.076Z"
   },
   {
    "duration": 170,
    "start_time": "2023-01-31T19:20:31.081Z"
   },
   {
    "duration": 278,
    "start_time": "2023-01-31T19:20:31.253Z"
   },
   {
    "duration": 142,
    "start_time": "2023-01-31T19:20:31.533Z"
   },
   {
    "duration": 127,
    "start_time": "2023-01-31T19:20:31.676Z"
   },
   {
    "duration": 16054,
    "start_time": "2023-01-31T19:20:31.805Z"
   },
   {
    "duration": 76,
    "start_time": "2023-01-31T19:20:47.861Z"
   },
   {
    "duration": 3,
    "start_time": "2023-01-31T19:20:47.939Z"
   },
   {
    "duration": 119,
    "start_time": "2023-01-31T19:20:47.943Z"
   },
   {
    "duration": 80,
    "start_time": "2023-01-31T19:20:48.064Z"
   },
   {
    "duration": 11,
    "start_time": "2023-01-31T19:20:48.145Z"
   },
   {
    "duration": 0,
    "start_time": "2023-01-31T19:20:48.158Z"
   },
   {
    "duration": 0,
    "start_time": "2023-01-31T19:20:48.159Z"
   },
   {
    "duration": 0,
    "start_time": "2023-01-31T19:20:48.160Z"
   },
   {
    "duration": 0,
    "start_time": "2023-01-31T19:20:48.162Z"
   },
   {
    "duration": 16,
    "start_time": "2023-01-31T19:20:52.990Z"
   },
   {
    "duration": 15,
    "start_time": "2023-01-31T19:20:56.737Z"
   },
   {
    "duration": 6,
    "start_time": "2023-01-31T19:21:10.664Z"
   },
   {
    "duration": 1906,
    "start_time": "2023-01-31T19:25:31.149Z"
   },
   {
    "duration": 1304,
    "start_time": "2023-01-31T19:25:33.058Z"
   },
   {
    "duration": 4,
    "start_time": "2023-01-31T19:25:34.364Z"
   },
   {
    "duration": 969,
    "start_time": "2023-01-31T19:25:34.370Z"
   },
   {
    "duration": 130,
    "start_time": "2023-01-31T19:25:35.341Z"
   },
   {
    "duration": 113,
    "start_time": "2023-01-31T19:25:35.473Z"
   },
   {
    "duration": 63,
    "start_time": "2023-01-31T19:25:35.588Z"
   },
   {
    "duration": 74,
    "start_time": "2023-01-31T19:25:35.653Z"
   },
   {
    "duration": 42,
    "start_time": "2023-01-31T19:25:35.729Z"
   },
   {
    "duration": 93,
    "start_time": "2023-01-31T19:25:35.774Z"
   },
   {
    "duration": 575,
    "start_time": "2023-01-31T19:25:35.869Z"
   },
   {
    "duration": 37,
    "start_time": "2023-01-31T19:25:36.446Z"
   },
   {
    "duration": 28,
    "start_time": "2023-01-31T19:25:36.498Z"
   },
   {
    "duration": 87,
    "start_time": "2023-01-31T19:25:36.528Z"
   },
   {
    "duration": 2031,
    "start_time": "2023-01-31T19:25:36.617Z"
   },
   {
    "duration": 61,
    "start_time": "2023-01-31T19:25:38.650Z"
   },
   {
    "duration": 44,
    "start_time": "2023-01-31T19:25:38.713Z"
   },
   {
    "duration": 121,
    "start_time": "2023-01-31T19:25:38.758Z"
   },
   {
    "duration": 50,
    "start_time": "2023-01-31T19:25:38.881Z"
   },
   {
    "duration": 120,
    "start_time": "2023-01-31T19:25:38.933Z"
   },
   {
    "duration": 53,
    "start_time": "2023-01-31T19:25:39.055Z"
   },
   {
    "duration": 536,
    "start_time": "2023-01-31T19:25:39.109Z"
   },
   {
    "duration": 85,
    "start_time": "2023-01-31T19:25:39.646Z"
   },
   {
    "duration": 13,
    "start_time": "2023-01-31T19:25:39.733Z"
   },
   {
    "duration": 23,
    "start_time": "2023-01-31T19:25:39.747Z"
   },
   {
    "duration": 87,
    "start_time": "2023-01-31T19:25:39.772Z"
   },
   {
    "duration": 1038,
    "start_time": "2023-01-31T19:25:39.861Z"
   },
   {
    "duration": 7,
    "start_time": "2023-01-31T19:25:40.904Z"
   },
   {
    "duration": 12,
    "start_time": "2023-01-31T19:25:40.913Z"
   },
   {
    "duration": 17625,
    "start_time": "2023-01-31T19:25:40.926Z"
   },
   {
    "duration": 4,
    "start_time": "2023-01-31T19:25:58.552Z"
   },
   {
    "duration": 353,
    "start_time": "2023-01-31T19:25:58.558Z"
   },
   {
    "duration": 307,
    "start_time": "2023-01-31T19:25:58.913Z"
   },
   {
    "duration": 130,
    "start_time": "2023-01-31T19:25:59.221Z"
   },
   {
    "duration": 125,
    "start_time": "2023-01-31T19:25:59.352Z"
   },
   {
    "duration": 16157,
    "start_time": "2023-01-31T19:25:59.479Z"
   },
   {
    "duration": 71,
    "start_time": "2023-01-31T19:26:15.638Z"
   },
   {
    "duration": 3,
    "start_time": "2023-01-31T19:26:15.711Z"
   },
   {
    "duration": 98,
    "start_time": "2023-01-31T19:26:15.715Z"
   },
   {
    "duration": 81,
    "start_time": "2023-01-31T19:26:15.815Z"
   },
   {
    "duration": 9,
    "start_time": "2023-01-31T19:26:15.898Z"
   },
   {
    "duration": 0,
    "start_time": "2023-01-31T19:26:15.909Z"
   },
   {
    "duration": 0,
    "start_time": "2023-01-31T19:26:15.910Z"
   },
   {
    "duration": 0,
    "start_time": "2023-01-31T19:26:15.912Z"
   },
   {
    "duration": 14,
    "start_time": "2023-01-31T19:26:31.685Z"
   },
   {
    "duration": 12,
    "start_time": "2023-01-31T19:27:29.637Z"
   },
   {
    "duration": 13,
    "start_time": "2023-01-31T19:27:33.260Z"
   },
   {
    "duration": 12,
    "start_time": "2023-01-31T19:29:05.413Z"
   },
   {
    "duration": 1944,
    "start_time": "2023-01-31T19:29:12.437Z"
   },
   {
    "duration": 1245,
    "start_time": "2023-01-31T19:29:14.384Z"
   },
   {
    "duration": 3,
    "start_time": "2023-01-31T19:29:15.631Z"
   },
   {
    "duration": 846,
    "start_time": "2023-01-31T19:29:15.635Z"
   },
   {
    "duration": 116,
    "start_time": "2023-01-31T19:29:16.483Z"
   },
   {
    "duration": 111,
    "start_time": "2023-01-31T19:29:16.601Z"
   },
   {
    "duration": 57,
    "start_time": "2023-01-31T19:29:16.714Z"
   },
   {
    "duration": 67,
    "start_time": "2023-01-31T19:29:16.773Z"
   },
   {
    "duration": 39,
    "start_time": "2023-01-31T19:29:16.842Z"
   },
   {
    "duration": 91,
    "start_time": "2023-01-31T19:29:16.883Z"
   },
   {
    "duration": 577,
    "start_time": "2023-01-31T19:29:16.975Z"
   },
   {
    "duration": 35,
    "start_time": "2023-01-31T19:29:17.554Z"
   },
   {
    "duration": 25,
    "start_time": "2023-01-31T19:29:17.599Z"
   },
   {
    "duration": 79,
    "start_time": "2023-01-31T19:29:17.627Z"
   },
   {
    "duration": 2742,
    "start_time": "2023-01-31T19:29:17.708Z"
   },
   {
    "duration": 62,
    "start_time": "2023-01-31T19:29:20.451Z"
   },
   {
    "duration": 67,
    "start_time": "2023-01-31T19:29:20.515Z"
   },
   {
    "duration": 107,
    "start_time": "2023-01-31T19:29:20.584Z"
   },
   {
    "duration": 47,
    "start_time": "2023-01-31T19:29:20.693Z"
   },
   {
    "duration": 119,
    "start_time": "2023-01-31T19:29:20.741Z"
   },
   {
    "duration": 52,
    "start_time": "2023-01-31T19:29:20.862Z"
   },
   {
    "duration": 503,
    "start_time": "2023-01-31T19:29:20.916Z"
   },
   {
    "duration": 80,
    "start_time": "2023-01-31T19:29:21.421Z"
   },
   {
    "duration": 13,
    "start_time": "2023-01-31T19:29:21.503Z"
   },
   {
    "duration": 49,
    "start_time": "2023-01-31T19:29:21.518Z"
   },
   {
    "duration": 69,
    "start_time": "2023-01-31T19:29:21.568Z"
   },
   {
    "duration": 46,
    "start_time": "2023-01-31T19:33:38.399Z"
   },
   {
    "duration": 1990,
    "start_time": "2023-01-31T19:33:54.605Z"
   },
   {
    "duration": 1678,
    "start_time": "2023-01-31T19:33:56.598Z"
   },
   {
    "duration": 5,
    "start_time": "2023-01-31T19:34:06.343Z"
   },
   {
    "duration": 1245,
    "start_time": "2023-01-31T19:34:09.966Z"
   },
   {
    "duration": 104,
    "start_time": "2023-01-31T19:34:11.213Z"
   },
   {
    "duration": 135,
    "start_time": "2023-01-31T19:34:11.319Z"
   },
   {
    "duration": 55,
    "start_time": "2023-01-31T19:34:11.456Z"
   },
   {
    "duration": 49,
    "start_time": "2023-01-31T19:34:11.913Z"
   },
   {
    "duration": 38,
    "start_time": "2023-01-31T19:34:12.700Z"
   },
   {
    "duration": 65,
    "start_time": "2023-01-31T19:34:13.290Z"
   },
   {
    "duration": 569,
    "start_time": "2023-01-31T19:34:13.549Z"
   },
   {
    "duration": 39,
    "start_time": "2023-01-31T19:34:14.122Z"
   },
   {
    "duration": 42,
    "start_time": "2023-01-31T19:34:14.163Z"
   },
   {
    "duration": 70,
    "start_time": "2023-01-31T19:34:14.891Z"
   },
   {
    "duration": 1901,
    "start_time": "2023-01-31T19:34:15.240Z"
   },
   {
    "duration": 74,
    "start_time": "2023-01-31T19:34:17.143Z"
   },
   {
    "duration": 44,
    "start_time": "2023-01-31T19:34:17.218Z"
   },
   {
    "duration": 125,
    "start_time": "2023-01-31T19:34:17.265Z"
   },
   {
    "duration": 47,
    "start_time": "2023-01-31T19:34:17.391Z"
   },
   {
    "duration": 127,
    "start_time": "2023-01-31T19:34:17.440Z"
   },
   {
    "duration": 52,
    "start_time": "2023-01-31T19:34:17.569Z"
   },
   {
    "duration": 514,
    "start_time": "2023-01-31T19:34:17.791Z"
   },
   {
    "duration": 79,
    "start_time": "2023-01-31T19:34:18.593Z"
   },
   {
    "duration": 15,
    "start_time": "2023-01-31T19:34:20.392Z"
   },
   {
    "duration": 23,
    "start_time": "2023-01-31T19:34:20.543Z"
   },
   {
    "duration": 69,
    "start_time": "2023-01-31T19:34:27.035Z"
   },
   {
    "duration": 4,
    "start_time": "2023-01-31T19:34:27.729Z"
   },
   {
    "duration": 20,
    "start_time": "2023-01-31T19:35:07.714Z"
   },
   {
    "duration": 4,
    "start_time": "2023-01-31T19:35:20.849Z"
   },
   {
    "duration": 19,
    "start_time": "2023-01-31T19:35:24.330Z"
   },
   {
    "duration": 5,
    "start_time": "2023-01-31T19:35:53.054Z"
   },
   {
    "duration": 22,
    "start_time": "2023-01-31T19:36:05.696Z"
   },
   {
    "duration": 5,
    "start_time": "2023-01-31T19:36:12.138Z"
   },
   {
    "duration": 100,
    "start_time": "2023-01-31T19:36:14.893Z"
   },
   {
    "duration": 34437,
    "start_time": "2023-01-31T19:36:30.201Z"
   },
   {
    "duration": 262,
    "start_time": "2023-01-31T19:37:06.823Z"
   },
   {
    "duration": 1964,
    "start_time": "2023-01-31T19:43:21.885Z"
   },
   {
    "duration": 1551,
    "start_time": "2023-01-31T19:43:23.852Z"
   },
   {
    "duration": 3,
    "start_time": "2023-01-31T19:43:25.405Z"
   },
   {
    "duration": 1130,
    "start_time": "2023-01-31T19:43:25.410Z"
   },
   {
    "duration": 123,
    "start_time": "2023-01-31T19:43:26.542Z"
   },
   {
    "duration": 108,
    "start_time": "2023-01-31T19:43:26.666Z"
   },
   {
    "duration": 56,
    "start_time": "2023-01-31T19:43:26.776Z"
   },
   {
    "duration": 72,
    "start_time": "2023-01-31T19:43:26.834Z"
   },
   {
    "duration": 38,
    "start_time": "2023-01-31T19:43:26.908Z"
   },
   {
    "duration": 87,
    "start_time": "2023-01-31T19:43:26.947Z"
   },
   {
    "duration": 587,
    "start_time": "2023-01-31T19:43:27.036Z"
   },
   {
    "duration": 35,
    "start_time": "2023-01-31T19:43:27.625Z"
   },
   {
    "duration": 39,
    "start_time": "2023-01-31T19:43:27.661Z"
   },
   {
    "duration": 62,
    "start_time": "2023-01-31T19:43:27.703Z"
   },
   {
    "duration": 2017,
    "start_time": "2023-01-31T19:43:27.767Z"
   },
   {
    "duration": 64,
    "start_time": "2023-01-31T19:43:29.785Z"
   },
   {
    "duration": 54,
    "start_time": "2023-01-31T19:43:29.851Z"
   },
   {
    "duration": 111,
    "start_time": "2023-01-31T19:43:29.908Z"
   },
   {
    "duration": 44,
    "start_time": "2023-01-31T19:43:30.021Z"
   },
   {
    "duration": 124,
    "start_time": "2023-01-31T19:43:30.067Z"
   },
   {
    "duration": 51,
    "start_time": "2023-01-31T19:43:30.193Z"
   },
   {
    "duration": 527,
    "start_time": "2023-01-31T19:43:30.246Z"
   },
   {
    "duration": 90,
    "start_time": "2023-01-31T19:43:30.775Z"
   },
   {
    "duration": 13,
    "start_time": "2023-01-31T19:43:30.867Z"
   },
   {
    "duration": 37,
    "start_time": "2023-01-31T19:43:30.882Z"
   },
   {
    "duration": 98,
    "start_time": "2023-01-31T19:43:30.921Z"
   },
   {
    "duration": 108,
    "start_time": "2023-01-31T19:43:31.021Z"
   },
   {
    "duration": 43,
    "start_time": "2023-01-31T19:43:31.131Z"
   },
   {
    "duration": 22,
    "start_time": "2023-01-31T19:43:31.175Z"
   },
   {
    "duration": 17843,
    "start_time": "2023-01-31T19:43:31.199Z"
   },
   {
    "duration": 3,
    "start_time": "2023-01-31T19:43:49.044Z"
   },
   {
    "duration": 139,
    "start_time": "2023-01-31T19:43:49.049Z"
   },
   {
    "duration": 306,
    "start_time": "2023-01-31T19:43:49.190Z"
   },
   {
    "duration": 125,
    "start_time": "2023-01-31T19:43:49.498Z"
   },
   {
    "duration": 125,
    "start_time": "2023-01-31T19:43:49.625Z"
   },
   {
    "duration": 16378,
    "start_time": "2023-01-31T19:43:49.752Z"
   },
   {
    "duration": 71,
    "start_time": "2023-01-31T19:44:06.131Z"
   },
   {
    "duration": 3,
    "start_time": "2023-01-31T19:44:06.204Z"
   },
   {
    "duration": 152,
    "start_time": "2023-01-31T19:44:06.208Z"
   },
   {
    "duration": 83,
    "start_time": "2023-01-31T19:44:06.361Z"
   },
   {
    "duration": 9,
    "start_time": "2023-01-31T19:44:06.447Z"
   },
   {
    "duration": 0,
    "start_time": "2023-01-31T19:44:06.458Z"
   },
   {
    "duration": 0,
    "start_time": "2023-01-31T19:44:06.459Z"
   },
   {
    "duration": 0,
    "start_time": "2023-01-31T19:44:06.460Z"
   },
   {
    "duration": 13,
    "start_time": "2023-01-31T19:45:17.319Z"
   },
   {
    "duration": 111,
    "start_time": "2023-01-31T19:45:31.005Z"
   },
   {
    "duration": 14,
    "start_time": "2023-01-31T19:45:33.626Z"
   },
   {
    "duration": 13,
    "start_time": "2023-01-31T19:45:50.062Z"
   },
   {
    "duration": 14,
    "start_time": "2023-01-31T19:46:09.603Z"
   },
   {
    "duration": 13,
    "start_time": "2023-01-31T19:46:21.838Z"
   },
   {
    "duration": 1920,
    "start_time": "2023-01-31T20:10:41.629Z"
   },
   {
    "duration": 1222,
    "start_time": "2023-01-31T20:10:43.551Z"
   },
   {
    "duration": 3,
    "start_time": "2023-01-31T20:10:44.775Z"
   },
   {
    "duration": 886,
    "start_time": "2023-01-31T20:10:47.101Z"
   },
   {
    "duration": 110,
    "start_time": "2023-01-31T20:10:47.989Z"
   },
   {
    "duration": 100,
    "start_time": "2023-01-31T20:10:48.100Z"
   },
   {
    "duration": 51,
    "start_time": "2023-01-31T20:10:48.202Z"
   },
   {
    "duration": 69,
    "start_time": "2023-01-31T20:10:48.255Z"
   },
   {
    "duration": 38,
    "start_time": "2023-01-31T20:10:48.689Z"
   },
   {
    "duration": 65,
    "start_time": "2023-01-31T20:10:49.468Z"
   },
   {
    "duration": 541,
    "start_time": "2023-01-31T20:10:49.599Z"
   },
   {
    "duration": 36,
    "start_time": "2023-01-31T20:10:50.142Z"
   },
   {
    "duration": 42,
    "start_time": "2023-01-31T20:10:50.180Z"
   },
   {
    "duration": 61,
    "start_time": "2023-01-31T20:10:50.864Z"
   },
   {
    "duration": 1946,
    "start_time": "2023-01-31T20:10:51.191Z"
   },
   {
    "duration": 67,
    "start_time": "2023-01-31T20:10:53.139Z"
   },
   {
    "duration": 54,
    "start_time": "2023-01-31T20:10:53.208Z"
   },
   {
    "duration": 113,
    "start_time": "2023-01-31T20:10:53.264Z"
   },
   {
    "duration": 66,
    "start_time": "2023-01-31T20:10:53.379Z"
   },
   {
    "duration": 116,
    "start_time": "2023-01-31T20:10:53.446Z"
   },
   {
    "duration": 58,
    "start_time": "2023-01-31T20:10:53.565Z"
   },
   {
    "duration": 562,
    "start_time": "2023-01-31T20:10:53.625Z"
   },
   {
    "duration": 72,
    "start_time": "2023-01-31T20:10:54.840Z"
   },
   {
    "duration": 16,
    "start_time": "2023-01-31T20:10:56.247Z"
   },
   {
    "duration": 22,
    "start_time": "2023-01-31T20:10:56.861Z"
   },
   {
    "duration": 65,
    "start_time": "2023-01-31T20:10:58.945Z"
   },
   {
    "duration": 4,
    "start_time": "2023-01-31T20:11:32.049Z"
   },
   {
    "duration": 3,
    "start_time": "2023-01-31T20:11:41.668Z"
   },
   {
    "duration": 2,
    "start_time": "2023-01-31T20:11:51.172Z"
   },
   {
    "duration": 5,
    "start_time": "2023-01-31T20:11:58.985Z"
   },
   {
    "duration": 21,
    "start_time": "2023-01-31T20:12:06.386Z"
   },
   {
    "duration": 3908,
    "start_time": "2023-01-31T20:12:23.559Z"
   },
   {
    "duration": 2010,
    "start_time": "2023-01-31T20:13:47.492Z"
   },
   {
    "duration": 1629,
    "start_time": "2023-01-31T20:13:49.504Z"
   },
   {
    "duration": 4,
    "start_time": "2023-01-31T20:13:51.137Z"
   },
   {
    "duration": 1114,
    "start_time": "2023-01-31T20:13:51.142Z"
   },
   {
    "duration": 105,
    "start_time": "2023-01-31T20:13:52.258Z"
   },
   {
    "duration": 98,
    "start_time": "2023-01-31T20:13:52.365Z"
   },
   {
    "duration": 62,
    "start_time": "2023-01-31T20:13:52.465Z"
   },
   {
    "duration": 55,
    "start_time": "2023-01-31T20:13:52.529Z"
   },
   {
    "duration": 46,
    "start_time": "2023-01-31T20:13:52.598Z"
   },
   {
    "duration": 79,
    "start_time": "2023-01-31T20:13:52.646Z"
   },
   {
    "duration": 557,
    "start_time": "2023-01-31T20:13:52.727Z"
   },
   {
    "duration": 43,
    "start_time": "2023-01-31T20:13:53.286Z"
   },
   {
    "duration": 25,
    "start_time": "2023-01-31T20:13:53.330Z"
   },
   {
    "duration": 85,
    "start_time": "2023-01-31T20:13:53.357Z"
   },
   {
    "duration": 2079,
    "start_time": "2023-01-31T20:13:53.444Z"
   },
   {
    "duration": 61,
    "start_time": "2023-01-31T20:13:55.525Z"
   },
   {
    "duration": 44,
    "start_time": "2023-01-31T20:13:55.598Z"
   },
   {
    "duration": 127,
    "start_time": "2023-01-31T20:13:55.644Z"
   },
   {
    "duration": 51,
    "start_time": "2023-01-31T20:13:55.773Z"
   },
   {
    "duration": 116,
    "start_time": "2023-01-31T20:13:55.825Z"
   },
   {
    "duration": 75,
    "start_time": "2023-01-31T20:13:55.943Z"
   },
   {
    "duration": 503,
    "start_time": "2023-01-31T20:13:56.020Z"
   },
   {
    "duration": 82,
    "start_time": "2023-01-31T20:13:56.525Z"
   },
   {
    "duration": 20,
    "start_time": "2023-01-31T20:13:56.609Z"
   },
   {
    "duration": 54,
    "start_time": "2023-01-31T20:13:56.631Z"
   },
   {
    "duration": 77,
    "start_time": "2023-01-31T20:13:56.688Z"
   },
   {
    "duration": 4,
    "start_time": "2023-01-31T20:13:56.769Z"
   },
   {
    "duration": 17,
    "start_time": "2023-01-31T20:13:56.775Z"
   },
   {
    "duration": 29,
    "start_time": "2023-01-31T20:13:56.794Z"
   },
   {
    "duration": 121,
    "start_time": "2023-01-31T20:13:56.825Z"
   },
   {
    "duration": 20923,
    "start_time": "2023-01-31T20:13:56.948Z"
   },
   {
    "duration": 5,
    "start_time": "2023-01-31T20:14:17.873Z"
   },
   {
    "duration": 49,
    "start_time": "2023-01-31T20:14:35.354Z"
   },
   {
    "duration": 7,
    "start_time": "2023-01-31T20:21:01.241Z"
   },
   {
    "duration": 1897,
    "start_time": "2023-01-31T20:21:51.428Z"
   },
   {
    "duration": 1581,
    "start_time": "2023-01-31T20:21:53.629Z"
   },
   {
    "duration": 3,
    "start_time": "2023-01-31T20:21:55.212Z"
   },
   {
    "duration": 1061,
    "start_time": "2023-01-31T20:21:55.216Z"
   },
   {
    "duration": 105,
    "start_time": "2023-01-31T20:21:56.279Z"
   },
   {
    "duration": 130,
    "start_time": "2023-01-31T20:21:56.387Z"
   },
   {
    "duration": 54,
    "start_time": "2023-01-31T20:21:56.518Z"
   },
   {
    "duration": 64,
    "start_time": "2023-01-31T20:21:56.573Z"
   },
   {
    "duration": 36,
    "start_time": "2023-01-31T20:21:56.639Z"
   },
   {
    "duration": 76,
    "start_time": "2023-01-31T20:21:56.677Z"
   },
   {
    "duration": 548,
    "start_time": "2023-01-31T20:21:56.755Z"
   },
   {
    "duration": 33,
    "start_time": "2023-01-31T20:21:57.306Z"
   },
   {
    "duration": 26,
    "start_time": "2023-01-31T20:21:57.341Z"
   },
   {
    "duration": 75,
    "start_time": "2023-01-31T20:21:57.924Z"
   },
   {
    "duration": 1899,
    "start_time": "2023-01-31T20:21:58.292Z"
   },
   {
    "duration": 65,
    "start_time": "2023-01-31T20:22:00.193Z"
   },
   {
    "duration": 64,
    "start_time": "2023-01-31T20:22:00.260Z"
   },
   {
    "duration": 123,
    "start_time": "2023-01-31T20:22:00.327Z"
   },
   {
    "duration": 56,
    "start_time": "2023-01-31T20:22:00.452Z"
   },
   {
    "duration": 112,
    "start_time": "2023-01-31T20:22:00.510Z"
   },
   {
    "duration": 45,
    "start_time": "2023-01-31T20:22:00.624Z"
   },
   {
    "duration": 532,
    "start_time": "2023-01-31T20:22:00.671Z"
   },
   {
    "duration": 77,
    "start_time": "2023-01-31T20:22:01.206Z"
   },
   {
    "duration": 17,
    "start_time": "2023-01-31T20:22:02.681Z"
   },
   {
    "duration": 22,
    "start_time": "2023-01-31T20:22:03.168Z"
   },
   {
    "duration": 67,
    "start_time": "2023-01-31T20:22:14.500Z"
   },
   {
    "duration": 3,
    "start_time": "2023-01-31T20:22:20.817Z"
   },
   {
    "duration": 4,
    "start_time": "2023-01-31T20:22:25.824Z"
   },
   {
    "duration": 3,
    "start_time": "2023-01-31T20:22:41.933Z"
   },
   {
    "duration": 4,
    "start_time": "2023-01-31T20:23:25.877Z"
   },
   {
    "duration": 4,
    "start_time": "2023-01-31T20:25:32.216Z"
   },
   {
    "duration": 2,
    "start_time": "2023-01-31T20:25:42.986Z"
   },
   {
    "duration": 5,
    "start_time": "2023-01-31T20:25:50.456Z"
   },
   {
    "duration": 4,
    "start_time": "2023-01-31T20:26:08.189Z"
   },
   {
    "duration": 17,
    "start_time": "2023-01-31T20:26:21.725Z"
   },
   {
    "duration": 5,
    "start_time": "2023-01-31T20:26:28.680Z"
   },
   {
    "duration": 17,
    "start_time": "2023-01-31T20:26:31.882Z"
   },
   {
    "duration": 4,
    "start_time": "2023-01-31T20:26:37.196Z"
   },
   {
    "duration": 4,
    "start_time": "2023-01-31T20:26:38.722Z"
   },
   {
    "duration": 95,
    "start_time": "2023-01-31T20:26:43.644Z"
   },
   {
    "duration": 19,
    "start_time": "2023-01-31T20:27:08.189Z"
   },
   {
    "duration": 38364,
    "start_time": "2023-01-31T20:27:44.693Z"
   },
   {
    "duration": 38372,
    "start_time": "2023-01-31T20:28:23.059Z"
   },
   {
    "duration": 102,
    "start_time": "2023-01-31T20:29:01.433Z"
   },
   {
    "duration": 90,
    "start_time": "2023-01-31T20:30:00.977Z"
   },
   {
    "duration": 107,
    "start_time": "2023-01-31T20:31:50.307Z"
   },
   {
    "duration": 11,
    "start_time": "2023-01-31T20:32:05.839Z"
   },
   {
    "duration": 9,
    "start_time": "2023-01-31T20:33:58.924Z"
   },
   {
    "duration": 1005,
    "start_time": "2023-01-31T20:34:31.689Z"
   },
   {
    "duration": 1331,
    "start_time": "2023-01-31T20:34:35.575Z"
   },
   {
    "duration": 4,
    "start_time": "2023-01-31T20:49:28.498Z"
   },
   {
    "duration": 17,
    "start_time": "2023-01-31T20:49:32.593Z"
   },
   {
    "duration": 104,
    "start_time": "2023-01-31T20:49:43.910Z"
   },
   {
    "duration": 6,
    "start_time": "2023-01-31T20:49:44.100Z"
   },
   {
    "duration": 2218,
    "start_time": "2023-01-31T20:50:35.687Z"
   },
   {
    "duration": 1274,
    "start_time": "2023-01-31T20:50:37.907Z"
   },
   {
    "duration": 4,
    "start_time": "2023-01-31T20:50:39.182Z"
   },
   {
    "duration": 881,
    "start_time": "2023-01-31T20:50:39.188Z"
   },
   {
    "duration": 119,
    "start_time": "2023-01-31T20:50:40.071Z"
   },
   {
    "duration": 107,
    "start_time": "2023-01-31T20:50:40.192Z"
   },
   {
    "duration": 60,
    "start_time": "2023-01-31T20:50:40.301Z"
   },
   {
    "duration": 73,
    "start_time": "2023-01-31T20:50:40.362Z"
   },
   {
    "duration": 39,
    "start_time": "2023-01-31T20:50:40.436Z"
   },
   {
    "duration": 78,
    "start_time": "2023-01-31T20:50:40.477Z"
   },
   {
    "duration": 543,
    "start_time": "2023-01-31T20:50:40.556Z"
   },
   {
    "duration": 35,
    "start_time": "2023-01-31T20:50:41.100Z"
   },
   {
    "duration": 24,
    "start_time": "2023-01-31T20:50:41.137Z"
   },
   {
    "duration": 83,
    "start_time": "2023-01-31T20:50:41.163Z"
   },
   {
    "duration": 1900,
    "start_time": "2023-01-31T20:50:41.248Z"
   },
   {
    "duration": 61,
    "start_time": "2023-01-31T20:50:43.150Z"
   },
   {
    "duration": 43,
    "start_time": "2023-01-31T20:50:43.213Z"
   },
   {
    "duration": 125,
    "start_time": "2023-01-31T20:50:43.258Z"
   },
   {
    "duration": 55,
    "start_time": "2023-01-31T20:50:43.384Z"
   },
   {
    "duration": 131,
    "start_time": "2023-01-31T20:50:43.440Z"
   },
   {
    "duration": 61,
    "start_time": "2023-01-31T20:50:43.573Z"
   },
   {
    "duration": 613,
    "start_time": "2023-01-31T20:50:43.636Z"
   },
   {
    "duration": 166,
    "start_time": "2023-01-31T20:50:44.251Z"
   },
   {
    "duration": 15,
    "start_time": "2023-01-31T20:50:44.419Z"
   },
   {
    "duration": 83,
    "start_time": "2023-01-31T20:50:44.435Z"
   },
   {
    "duration": 1863,
    "start_time": "2023-01-31T20:52:19.817Z"
   },
   {
    "duration": 1259,
    "start_time": "2023-01-31T20:52:21.683Z"
   },
   {
    "duration": 3,
    "start_time": "2023-01-31T20:52:22.944Z"
   },
   {
    "duration": 852,
    "start_time": "2023-01-31T20:52:22.948Z"
   },
   {
    "duration": 126,
    "start_time": "2023-01-31T20:52:23.802Z"
   },
   {
    "duration": 171,
    "start_time": "2023-01-31T20:52:23.930Z"
   },
   {
    "duration": 66,
    "start_time": "2023-01-31T20:52:24.103Z"
   },
   {
    "duration": 67,
    "start_time": "2023-01-31T20:52:24.170Z"
   },
   {
    "duration": 38,
    "start_time": "2023-01-31T20:52:24.239Z"
   },
   {
    "duration": 79,
    "start_time": "2023-01-31T20:52:24.279Z"
   },
   {
    "duration": 541,
    "start_time": "2023-01-31T20:52:24.360Z"
   },
   {
    "duration": 37,
    "start_time": "2023-01-31T20:52:24.903Z"
   },
   {
    "duration": 28,
    "start_time": "2023-01-31T20:52:24.942Z"
   },
   {
    "duration": 96,
    "start_time": "2023-01-31T20:52:24.973Z"
   },
   {
    "duration": 2081,
    "start_time": "2023-01-31T20:52:25.071Z"
   },
   {
    "duration": 69,
    "start_time": "2023-01-31T20:52:27.153Z"
   },
   {
    "duration": 50,
    "start_time": "2023-01-31T20:52:27.224Z"
   },
   {
    "duration": 126,
    "start_time": "2023-01-31T20:52:27.275Z"
   },
   {
    "duration": 44,
    "start_time": "2023-01-31T20:52:27.403Z"
   },
   {
    "duration": 125,
    "start_time": "2023-01-31T20:52:27.449Z"
   },
   {
    "duration": 68,
    "start_time": "2023-01-31T20:52:27.576Z"
   },
   {
    "duration": 533,
    "start_time": "2023-01-31T20:52:27.645Z"
   },
   {
    "duration": 79,
    "start_time": "2023-01-31T20:52:28.179Z"
   },
   {
    "duration": 13,
    "start_time": "2023-01-31T20:52:28.260Z"
   },
   {
    "duration": 45,
    "start_time": "2023-01-31T20:52:28.275Z"
   },
   {
    "duration": 80021,
    "start_time": "2023-01-31T20:52:28.322Z"
   },
   {
    "duration": 19398,
    "start_time": "2023-01-31T20:53:48.345Z"
   },
   {
    "duration": 5,
    "start_time": "2023-01-31T20:54:07.746Z"
   },
   {
    "duration": 173,
    "start_time": "2023-01-31T20:54:07.753Z"
   },
   {
    "duration": 330,
    "start_time": "2023-01-31T20:54:07.928Z"
   },
   {
    "duration": 141,
    "start_time": "2023-01-31T20:54:08.259Z"
   },
   {
    "duration": 135,
    "start_time": "2023-01-31T20:54:08.402Z"
   },
   {
    "duration": 16449,
    "start_time": "2023-01-31T20:54:08.539Z"
   },
   {
    "duration": 73,
    "start_time": "2023-01-31T20:54:24.990Z"
   },
   {
    "duration": 3,
    "start_time": "2023-01-31T20:54:25.065Z"
   },
   {
    "duration": 112,
    "start_time": "2023-01-31T20:54:25.070Z"
   },
   {
    "duration": 80,
    "start_time": "2023-01-31T20:54:25.184Z"
   },
   {
    "duration": 11,
    "start_time": "2023-01-31T20:54:25.266Z"
   },
   {
    "duration": 0,
    "start_time": "2023-01-31T20:54:25.278Z"
   },
   {
    "duration": 0,
    "start_time": "2023-01-31T20:54:25.280Z"
   },
   {
    "duration": 0,
    "start_time": "2023-01-31T20:54:25.281Z"
   },
   {
    "duration": 96,
    "start_time": "2023-01-31T20:54:40.494Z"
   },
   {
    "duration": 18,
    "start_time": "2023-01-31T20:56:03.122Z"
   },
   {
    "duration": 4,
    "start_time": "2023-01-31T20:57:42.273Z"
   },
   {
    "duration": 16,
    "start_time": "2023-01-31T21:00:41.762Z"
   },
   {
    "duration": 1884,
    "start_time": "2023-01-31T21:03:21.749Z"
   },
   {
    "duration": 1200,
    "start_time": "2023-01-31T21:03:23.635Z"
   },
   {
    "duration": 3,
    "start_time": "2023-01-31T21:03:24.836Z"
   },
   {
    "duration": 851,
    "start_time": "2023-01-31T21:03:24.841Z"
   },
   {
    "duration": 102,
    "start_time": "2023-01-31T21:03:25.694Z"
   },
   {
    "duration": 140,
    "start_time": "2023-01-31T21:03:25.799Z"
   },
   {
    "duration": 48,
    "start_time": "2023-01-31T21:03:25.941Z"
   },
   {
    "duration": 52,
    "start_time": "2023-01-31T21:03:25.998Z"
   },
   {
    "duration": 50,
    "start_time": "2023-01-31T21:03:26.051Z"
   },
   {
    "duration": 88,
    "start_time": "2023-01-31T21:03:26.103Z"
   },
   {
    "duration": 552,
    "start_time": "2023-01-31T21:03:26.193Z"
   },
   {
    "duration": 35,
    "start_time": "2023-01-31T21:03:26.747Z"
   },
   {
    "duration": 39,
    "start_time": "2023-01-31T21:03:26.784Z"
   },
   {
    "duration": 78,
    "start_time": "2023-01-31T21:03:26.825Z"
   },
   {
    "duration": 2034,
    "start_time": "2023-01-31T21:03:26.905Z"
   },
   {
    "duration": 65,
    "start_time": "2023-01-31T21:03:28.941Z"
   },
   {
    "duration": 70,
    "start_time": "2023-01-31T21:03:29.007Z"
   },
   {
    "duration": 104,
    "start_time": "2023-01-31T21:03:29.079Z"
   },
   {
    "duration": 55,
    "start_time": "2023-01-31T21:03:29.185Z"
   },
   {
    "duration": 110,
    "start_time": "2023-01-31T21:03:29.242Z"
   },
   {
    "duration": 52,
    "start_time": "2023-01-31T21:03:29.354Z"
   },
   {
    "duration": 497,
    "start_time": "2023-01-31T21:03:29.408Z"
   },
   {
    "duration": 72,
    "start_time": "2023-01-31T21:03:29.908Z"
   },
   {
    "duration": 35,
    "start_time": "2023-01-31T21:03:29.983Z"
   },
   {
    "duration": 87314,
    "start_time": "2023-01-31T21:03:30.019Z"
   },
   {
    "duration": 20789,
    "start_time": "2023-01-31T21:04:57.334Z"
   },
   {
    "duration": 109,
    "start_time": "2023-01-31T21:05:18.124Z"
   },
   {
    "duration": 0,
    "start_time": "2023-01-31T21:05:18.235Z"
   },
   {
    "duration": 0,
    "start_time": "2023-01-31T21:05:18.236Z"
   },
   {
    "duration": 0,
    "start_time": "2023-01-31T21:05:18.237Z"
   },
   {
    "duration": 0,
    "start_time": "2023-01-31T21:05:18.238Z"
   },
   {
    "duration": 0,
    "start_time": "2023-01-31T21:05:18.239Z"
   },
   {
    "duration": 0,
    "start_time": "2023-01-31T21:05:18.240Z"
   },
   {
    "duration": 0,
    "start_time": "2023-01-31T21:05:18.242Z"
   },
   {
    "duration": 0,
    "start_time": "2023-01-31T21:05:18.243Z"
   },
   {
    "duration": 0,
    "start_time": "2023-01-31T21:05:18.244Z"
   },
   {
    "duration": 0,
    "start_time": "2023-01-31T21:05:18.245Z"
   },
   {
    "duration": 0,
    "start_time": "2023-01-31T21:05:18.247Z"
   },
   {
    "duration": 0,
    "start_time": "2023-01-31T21:05:18.249Z"
   },
   {
    "duration": 5,
    "start_time": "2023-01-31T21:06:21.444Z"
   },
   {
    "duration": 4,
    "start_time": "2023-01-31T21:06:34.288Z"
   },
   {
    "duration": 97,
    "start_time": "2023-01-31T21:06:38.691Z"
   },
   {
    "duration": 3,
    "start_time": "2023-01-31T21:07:25.324Z"
   },
   {
    "duration": 25622,
    "start_time": "2023-01-31T21:07:41.485Z"
   },
   {
    "duration": 23360,
    "start_time": "2023-01-31T21:08:23.948Z"
   },
   {
    "duration": 107425,
    "start_time": "2023-01-31T21:09:01.275Z"
   },
   {
    "duration": 74762,
    "start_time": "2023-01-31T21:11:19.544Z"
   },
   {
    "duration": 6,
    "start_time": "2023-01-31T21:13:02.244Z"
   },
   {
    "duration": 147,
    "start_time": "2023-01-31T21:13:09.000Z"
   },
   {
    "duration": 24405,
    "start_time": "2023-01-31T21:13:14.329Z"
   },
   {
    "duration": 152,
    "start_time": "2023-01-31T21:13:50.058Z"
   },
   {
    "duration": 153,
    "start_time": "2023-01-31T21:13:55.549Z"
   },
   {
    "duration": 5,
    "start_time": "2023-01-31T21:13:58.512Z"
   },
   {
    "duration": 104180,
    "start_time": "2023-01-31T21:14:38.324Z"
   },
   {
    "duration": 65,
    "start_time": "2023-01-31T21:23:00.185Z"
   },
   {
    "duration": 863,
    "start_time": "2023-01-31T21:23:39.746Z"
   },
   {
    "duration": 4,
    "start_time": "2023-01-31T21:29:39.425Z"
   },
   {
    "duration": 59,
    "start_time": "2023-01-31T21:31:41.683Z"
   },
   {
    "duration": 4,
    "start_time": "2023-01-31T21:31:52.328Z"
   },
   {
    "duration": 11,
    "start_time": "2023-01-31T21:32:41.435Z"
   },
   {
    "duration": 2732,
    "start_time": "2023-01-31T21:34:13.262Z"
   },
   {
    "duration": 3,
    "start_time": "2023-01-31T21:39:43.580Z"
   },
   {
    "duration": 5,
    "start_time": "2023-01-31T21:39:47.349Z"
   },
   {
    "duration": 4,
    "start_time": "2023-01-31T21:41:00.712Z"
   },
   {
    "duration": 5,
    "start_time": "2023-01-31T21:41:26.308Z"
   },
   {
    "duration": 5,
    "start_time": "2023-01-31T21:43:10.537Z"
   },
   {
    "duration": 5,
    "start_time": "2023-01-31T21:43:42.780Z"
   },
   {
    "duration": 4,
    "start_time": "2023-01-31T21:43:45.340Z"
   },
   {
    "duration": 2704,
    "start_time": "2023-01-31T21:43:46.300Z"
   },
   {
    "duration": 5,
    "start_time": "2023-01-31T22:05:45.510Z"
   },
   {
    "duration": 4,
    "start_time": "2023-01-31T22:05:45.872Z"
   },
   {
    "duration": 11,
    "start_time": "2023-01-31T22:05:46.406Z"
   },
   {
    "duration": 4,
    "start_time": "2023-01-31T22:06:05.181Z"
   },
   {
    "duration": 5,
    "start_time": "2023-01-31T22:06:07.912Z"
   },
   {
    "duration": 9,
    "start_time": "2023-01-31T22:06:15.336Z"
   },
   {
    "duration": 4,
    "start_time": "2023-01-31T22:07:05.881Z"
   },
   {
    "duration": 11,
    "start_time": "2023-01-31T22:07:10.462Z"
   },
   {
    "duration": 227,
    "start_time": "2023-01-31T22:08:11.635Z"
   },
   {
    "duration": 5,
    "start_time": "2023-01-31T22:11:11.891Z"
   },
   {
    "duration": 2072,
    "start_time": "2023-01-31T22:11:12.530Z"
   },
   {
    "duration": 5,
    "start_time": "2023-01-31T22:12:07.050Z"
   },
   {
    "duration": 4,
    "start_time": "2023-01-31T22:12:13.082Z"
   },
   {
    "duration": 1522,
    "start_time": "2023-01-31T22:12:13.520Z"
   },
   {
    "duration": 825,
    "start_time": "2023-01-31T22:12:24.645Z"
   },
   {
    "duration": 4,
    "start_time": "2023-01-31T22:13:03.329Z"
   },
   {
    "duration": 870,
    "start_time": "2023-01-31T22:13:04.892Z"
   },
   {
    "duration": 5,
    "start_time": "2023-01-31T22:28:35.228Z"
   },
   {
    "duration": 7239,
    "start_time": "2023-02-01T08:46:54.560Z"
   },
   {
    "duration": 1525,
    "start_time": "2023-02-01T08:47:01.807Z"
   },
   {
    "duration": 4,
    "start_time": "2023-02-01T08:47:03.333Z"
   },
   {
    "duration": 1501,
    "start_time": "2023-02-01T08:47:03.338Z"
   },
   {
    "duration": 145,
    "start_time": "2023-02-01T08:47:04.841Z"
   },
   {
    "duration": 102,
    "start_time": "2023-02-01T08:47:04.987Z"
   },
   {
    "duration": 75,
    "start_time": "2023-02-01T08:47:05.094Z"
   },
   {
    "duration": 81,
    "start_time": "2023-02-01T08:47:05.170Z"
   },
   {
    "duration": 33,
    "start_time": "2023-02-01T08:47:05.253Z"
   },
   {
    "duration": 126,
    "start_time": "2023-02-01T08:47:05.288Z"
   },
   {
    "duration": 597,
    "start_time": "2023-02-01T08:47:05.416Z"
   },
   {
    "duration": 36,
    "start_time": "2023-02-01T08:47:06.015Z"
   },
   {
    "duration": 47,
    "start_time": "2023-02-01T08:47:06.053Z"
   },
   {
    "duration": 71,
    "start_time": "2023-02-01T08:47:06.107Z"
   },
   {
    "duration": 2254,
    "start_time": "2023-02-01T08:47:06.180Z"
   },
   {
    "duration": 92,
    "start_time": "2023-02-01T08:47:08.436Z"
   },
   {
    "duration": 40,
    "start_time": "2023-02-01T08:47:08.530Z"
   },
   {
    "duration": 147,
    "start_time": "2023-02-01T08:47:08.572Z"
   },
   {
    "duration": 41,
    "start_time": "2023-02-01T08:47:08.721Z"
   },
   {
    "duration": 156,
    "start_time": "2023-02-01T08:47:08.764Z"
   },
   {
    "duration": 44,
    "start_time": "2023-02-01T08:47:08.923Z"
   },
   {
    "duration": 587,
    "start_time": "2023-02-01T08:47:08.969Z"
   },
   {
    "duration": 87,
    "start_time": "2023-02-01T08:47:09.558Z"
   },
   {
    "duration": 3,
    "start_time": "2023-02-01T08:47:09.648Z"
   },
   {
    "duration": 22,
    "start_time": "2023-02-01T08:47:09.652Z"
   },
   {
    "duration": 71848,
    "start_time": "2023-02-01T08:47:09.676Z"
   },
   {
    "duration": 15449,
    "start_time": "2023-02-01T08:48:21.526Z"
   },
   {
    "duration": 3,
    "start_time": "2023-02-01T08:48:36.977Z"
   },
   {
    "duration": 2207,
    "start_time": "2023-02-01T11:00:29.592Z"
   },
   {
    "duration": 7,
    "start_time": "2023-02-01T11:00:31.803Z"
   },
   {
    "duration": 35,
    "start_time": "2023-02-01T11:00:31.812Z"
   },
   {
    "duration": 834,
    "start_time": "2023-02-01T11:00:31.849Z"
   },
   {
    "duration": 127,
    "start_time": "2023-02-01T11:00:32.684Z"
   },
   {
    "duration": 92,
    "start_time": "2023-02-01T11:00:32.812Z"
   },
   {
    "duration": 53,
    "start_time": "2023-02-01T11:00:32.906Z"
   },
   {
    "duration": 74,
    "start_time": "2023-02-01T11:00:32.962Z"
   },
   {
    "duration": 26,
    "start_time": "2023-02-01T11:00:33.038Z"
   },
   {
    "duration": 94,
    "start_time": "2023-02-01T11:00:33.066Z"
   },
   {
    "duration": 567,
    "start_time": "2023-02-01T11:00:33.161Z"
   },
   {
    "duration": 29,
    "start_time": "2023-02-01T11:00:33.730Z"
   },
   {
    "duration": 43,
    "start_time": "2023-02-01T11:00:33.761Z"
   },
   {
    "duration": 55,
    "start_time": "2023-02-01T11:00:34.095Z"
   },
   {
    "duration": 1934,
    "start_time": "2023-02-01T11:00:34.321Z"
   },
   {
    "duration": 79,
    "start_time": "2023-02-01T11:00:36.257Z"
   },
   {
    "duration": 48,
    "start_time": "2023-02-01T11:00:37.694Z"
   },
   {
    "duration": 2168,
    "start_time": "2023-02-01T11:00:48.306Z"
   },
   {
    "duration": 1364,
    "start_time": "2023-02-01T11:00:50.476Z"
   },
   {
    "duration": 4,
    "start_time": "2023-02-01T11:00:51.842Z"
   },
   {
    "duration": 972,
    "start_time": "2023-02-01T11:00:51.849Z"
   },
   {
    "duration": 128,
    "start_time": "2023-02-01T11:00:52.823Z"
   },
   {
    "duration": 110,
    "start_time": "2023-02-01T11:00:52.953Z"
   },
   {
    "duration": 70,
    "start_time": "2023-02-01T11:00:53.065Z"
   },
   {
    "duration": 62,
    "start_time": "2023-02-01T11:00:53.137Z"
   },
   {
    "duration": 35,
    "start_time": "2023-02-01T11:00:53.200Z"
   },
   {
    "duration": 86,
    "start_time": "2023-02-01T11:00:53.238Z"
   },
   {
    "duration": 561,
    "start_time": "2023-02-01T11:00:53.326Z"
   },
   {
    "duration": 37,
    "start_time": "2023-02-01T11:00:53.889Z"
   },
   {
    "duration": 27,
    "start_time": "2023-02-01T11:00:53.928Z"
   },
   {
    "duration": 101,
    "start_time": "2023-02-01T11:00:53.958Z"
   },
   {
    "duration": 2122,
    "start_time": "2023-02-01T11:00:54.062Z"
   },
   {
    "duration": 81,
    "start_time": "2023-02-01T11:00:56.185Z"
   },
   {
    "duration": 62,
    "start_time": "2023-02-01T11:00:56.268Z"
   },
   {
    "duration": 126,
    "start_time": "2023-02-01T11:00:56.332Z"
   },
   {
    "duration": 73,
    "start_time": "2023-02-01T11:00:56.459Z"
   },
   {
    "duration": 135,
    "start_time": "2023-02-01T11:00:56.535Z"
   },
   {
    "duration": 58,
    "start_time": "2023-02-01T11:00:56.672Z"
   },
   {
    "duration": 594,
    "start_time": "2023-02-01T11:00:56.732Z"
   },
   {
    "duration": 84,
    "start_time": "2023-02-01T11:00:57.328Z"
   },
   {
    "duration": 119,
    "start_time": "2023-02-01T11:04:32.894Z"
   },
   {
    "duration": 33,
    "start_time": "2023-02-01T11:07:09.423Z"
   },
   {
    "duration": 21,
    "start_time": "2023-02-01T11:08:37.342Z"
   },
   {
    "duration": 429,
    "start_time": "2023-02-01T11:08:51.139Z"
   },
   {
    "duration": 76,
    "start_time": "2023-02-01T11:08:58.002Z"
   },
   {
    "duration": 17,
    "start_time": "2023-02-01T11:09:07.586Z"
   },
   {
    "duration": 86,
    "start_time": "2023-02-01T11:11:25.727Z"
   },
   {
    "duration": 462,
    "start_time": "2023-02-01T11:11:31.994Z"
   },
   {
    "duration": 17,
    "start_time": "2023-02-01T11:12:22.987Z"
   },
   {
    "duration": 556,
    "start_time": "2023-02-01T11:12:27.694Z"
   },
   {
    "duration": 17,
    "start_time": "2023-02-01T11:14:54.782Z"
   },
   {
    "duration": 22,
    "start_time": "2023-02-01T11:14:59.823Z"
   },
   {
    "duration": 15,
    "start_time": "2023-02-01T11:15:05.187Z"
   },
   {
    "duration": 474,
    "start_time": "2023-02-01T11:15:08.108Z"
   },
   {
    "duration": 101,
    "start_time": "2023-02-01T11:18:03.207Z"
   },
   {
    "duration": 723,
    "start_time": "2023-02-01T11:18:41.619Z"
   },
   {
    "duration": 700,
    "start_time": "2023-02-01T11:18:55.530Z"
   },
   {
    "duration": 809,
    "start_time": "2023-02-01T11:19:30.801Z"
   },
   {
    "duration": 821,
    "start_time": "2023-02-01T11:19:39.654Z"
   },
   {
    "duration": 17,
    "start_time": "2023-02-01T11:19:41.688Z"
   },
   {
    "duration": 146,
    "start_time": "2023-02-01T11:21:32.614Z"
   },
   {
    "duration": 923,
    "start_time": "2023-02-01T11:21:34.995Z"
   },
   {
    "duration": 179,
    "start_time": "2023-02-01T11:21:36.582Z"
   },
   {
    "duration": 20,
    "start_time": "2023-02-01T11:21:43.564Z"
   },
   {
    "duration": 18,
    "start_time": "2023-02-01T11:21:47.250Z"
   },
   {
    "duration": 2073,
    "start_time": "2023-02-01T11:22:10.452Z"
   },
   {
    "duration": 1247,
    "start_time": "2023-02-01T11:22:12.528Z"
   },
   {
    "duration": 3,
    "start_time": "2023-02-01T11:22:13.776Z"
   },
   {
    "duration": 942,
    "start_time": "2023-02-01T11:22:13.781Z"
   },
   {
    "duration": 140,
    "start_time": "2023-02-01T11:22:14.726Z"
   },
   {
    "duration": 100,
    "start_time": "2023-02-01T11:22:14.868Z"
   },
   {
    "duration": 63,
    "start_time": "2023-02-01T11:22:14.970Z"
   },
   {
    "duration": 70,
    "start_time": "2023-02-01T11:22:15.035Z"
   },
   {
    "duration": 38,
    "start_time": "2023-02-01T11:22:15.107Z"
   },
   {
    "duration": 93,
    "start_time": "2023-02-01T11:22:15.146Z"
   },
   {
    "duration": 586,
    "start_time": "2023-02-01T11:22:15.240Z"
   },
   {
    "duration": 37,
    "start_time": "2023-02-01T11:22:15.828Z"
   },
   {
    "duration": 43,
    "start_time": "2023-02-01T11:22:15.868Z"
   },
   {
    "duration": 68,
    "start_time": "2023-02-01T11:22:15.914Z"
   },
   {
    "duration": 1962,
    "start_time": "2023-02-01T11:22:15.994Z"
   },
   {
    "duration": 75,
    "start_time": "2023-02-01T11:22:17.958Z"
   },
   {
    "duration": 41,
    "start_time": "2023-02-01T11:22:18.034Z"
   },
   {
    "duration": 125,
    "start_time": "2023-02-01T11:22:18.076Z"
   },
   {
    "duration": 43,
    "start_time": "2023-02-01T11:22:18.203Z"
   },
   {
    "duration": 124,
    "start_time": "2023-02-01T11:22:18.248Z"
   },
   {
    "duration": 72,
    "start_time": "2023-02-01T11:22:18.374Z"
   },
   {
    "duration": 524,
    "start_time": "2023-02-01T11:22:18.447Z"
   },
   {
    "duration": 81,
    "start_time": "2023-02-01T11:22:18.972Z"
   },
   {
    "duration": 24,
    "start_time": "2023-02-01T11:22:19.055Z"
   },
   {
    "duration": 68045,
    "start_time": "2023-02-01T11:22:19.093Z"
   },
   {
    "duration": 12719,
    "start_time": "2023-02-01T11:23:27.139Z"
   },
   {
    "duration": 4,
    "start_time": "2023-02-01T11:23:39.859Z"
   },
   {
    "duration": 898,
    "start_time": "2023-02-01T11:23:39.865Z"
   },
   {
    "duration": 171,
    "start_time": "2023-02-01T11:23:40.765Z"
   },
   {
    "duration": 4,
    "start_time": "2023-02-01T11:23:40.937Z"
   },
   {
    "duration": 34988,
    "start_time": "2023-02-01T11:23:40.943Z"
   },
   {
    "duration": 261,
    "start_time": "2023-02-01T11:24:15.933Z"
   },
   {
    "duration": 6,
    "start_time": "2023-02-01T11:24:16.196Z"
   },
   {
    "duration": 92,
    "start_time": "2023-02-01T11:24:16.204Z"
   },
   {
    "duration": 17,
    "start_time": "2023-02-01T11:24:16.299Z"
   },
   {
    "duration": 764211,
    "start_time": "2023-02-01T11:24:16.318Z"
   },
   {
    "duration": 2708,
    "start_time": "2023-02-01T11:37:00.531Z"
   },
   {
    "duration": 0,
    "start_time": "2023-02-01T11:37:03.241Z"
   },
   {
    "duration": 0,
    "start_time": "2023-02-01T11:37:03.242Z"
   },
   {
    "duration": 0,
    "start_time": "2023-02-01T11:37:03.244Z"
   },
   {
    "duration": 0,
    "start_time": "2023-02-01T11:37:03.246Z"
   },
   {
    "duration": 0,
    "start_time": "2023-02-01T11:37:03.248Z"
   },
   {
    "duration": 0,
    "start_time": "2023-02-01T11:37:03.249Z"
   },
   {
    "duration": 0,
    "start_time": "2023-02-01T11:37:03.251Z"
   },
   {
    "duration": 0,
    "start_time": "2023-02-01T11:37:03.252Z"
   },
   {
    "duration": 0,
    "start_time": "2023-02-01T11:37:03.253Z"
   },
   {
    "duration": 0,
    "start_time": "2023-02-01T11:37:03.255Z"
   },
   {
    "duration": 1298771,
    "start_time": "2023-02-01T11:37:42.721Z"
   },
   {
    "duration": 74291,
    "start_time": "2023-02-01T11:59:21.495Z"
   },
   {
    "duration": 2454,
    "start_time": "2023-02-01T12:13:43.307Z"
   },
   {
    "duration": 1391,
    "start_time": "2023-02-01T12:13:45.764Z"
   },
   {
    "duration": 4,
    "start_time": "2023-02-01T12:13:47.156Z"
   },
   {
    "duration": 891,
    "start_time": "2023-02-01T12:13:47.162Z"
   },
   {
    "duration": 221,
    "start_time": "2023-02-01T12:13:48.055Z"
   },
   {
    "duration": 98,
    "start_time": "2023-02-01T12:13:48.278Z"
   },
   {
    "duration": 65,
    "start_time": "2023-02-01T12:13:48.378Z"
   },
   {
    "duration": 71,
    "start_time": "2023-02-01T12:13:48.444Z"
   },
   {
    "duration": 39,
    "start_time": "2023-02-01T12:13:48.517Z"
   },
   {
    "duration": 104,
    "start_time": "2023-02-01T12:13:48.557Z"
   },
   {
    "duration": 710,
    "start_time": "2023-02-01T12:13:48.663Z"
   },
   {
    "duration": 52,
    "start_time": "2023-02-01T12:13:49.376Z"
   },
   {
    "duration": 37,
    "start_time": "2023-02-01T12:13:49.431Z"
   },
   {
    "duration": 93,
    "start_time": "2023-02-01T12:13:49.472Z"
   },
   {
    "duration": 2186,
    "start_time": "2023-02-01T12:13:49.566Z"
   },
   {
    "duration": 80,
    "start_time": "2023-02-01T12:13:51.754Z"
   },
   {
    "duration": 61,
    "start_time": "2023-02-01T12:13:51.836Z"
   },
   {
    "duration": 128,
    "start_time": "2023-02-01T12:13:51.899Z"
   },
   {
    "duration": 47,
    "start_time": "2023-02-01T12:13:52.029Z"
   },
   {
    "duration": 137,
    "start_time": "2023-02-01T12:13:52.077Z"
   },
   {
    "duration": 58,
    "start_time": "2023-02-01T12:13:52.217Z"
   },
   {
    "duration": 580,
    "start_time": "2023-02-01T12:13:52.277Z"
   },
   {
    "duration": 82,
    "start_time": "2023-02-01T12:13:52.859Z"
   },
   {
    "duration": 16,
    "start_time": "2023-02-01T12:13:52.943Z"
   },
   {
    "duration": 73871,
    "start_time": "2023-02-01T12:13:52.960Z"
   },
   {
    "duration": 18301,
    "start_time": "2023-02-01T12:15:06.833Z"
   },
   {
    "duration": 5,
    "start_time": "2023-02-01T12:15:25.136Z"
   },
   {
    "duration": 975,
    "start_time": "2023-02-01T12:15:25.143Z"
   },
   {
    "duration": 198,
    "start_time": "2023-02-01T12:15:26.119Z"
   },
   {
    "duration": 4,
    "start_time": "2023-02-01T12:15:26.320Z"
   },
   {
    "duration": 74,
    "start_time": "2023-02-01T12:15:26.329Z"
   },
   {
    "duration": 76918,
    "start_time": "2023-02-01T12:15:26.405Z"
   },
   {
    "duration": 271,
    "start_time": "2023-02-01T12:16:43.325Z"
   },
   {
    "duration": 5,
    "start_time": "2023-02-01T12:16:43.599Z"
   },
   {
    "duration": 92,
    "start_time": "2023-02-01T12:16:43.607Z"
   },
   {
    "duration": 55,
    "start_time": "2023-02-01T12:16:43.701Z"
   },
   {
    "duration": 49,
    "start_time": "2023-02-01T12:16:43.758Z"
   },
   {
    "duration": 57,
    "start_time": "2023-02-01T12:16:43.809Z"
   },
   {
    "duration": 1529682,
    "start_time": "2023-02-01T12:16:43.868Z"
   },
   {
    "duration": 2920,
    "start_time": "2023-02-01T12:42:13.554Z"
   },
   {
    "duration": 4,
    "start_time": "2023-02-01T12:42:16.479Z"
   },
   {
    "duration": 119,
    "start_time": "2023-02-01T12:42:16.485Z"
   },
   {
    "duration": 82,
    "start_time": "2023-02-01T12:42:16.606Z"
   },
   {
    "duration": 10,
    "start_time": "2023-02-01T12:42:16.689Z"
   },
   {
    "duration": 0,
    "start_time": "2023-02-01T12:42:16.700Z"
   },
   {
    "duration": 0,
    "start_time": "2023-02-01T12:42:16.702Z"
   },
   {
    "duration": 0,
    "start_time": "2023-02-01T12:42:16.703Z"
   },
   {
    "duration": 71087,
    "start_time": "2023-02-01T12:43:44.852Z"
   },
   {
    "duration": 43,
    "start_time": "2023-02-01T12:45:58.960Z"
   },
   {
    "duration": 35,
    "start_time": "2023-02-01T12:46:34.297Z"
   },
   {
    "duration": 110,
    "start_time": "2023-02-01T12:48:29.622Z"
   },
   {
    "duration": 68214,
    "start_time": "2023-02-01T12:48:50.794Z"
   },
   {
    "duration": 150,
    "start_time": "2023-02-01T12:49:59.010Z"
   },
   {
    "duration": 7,
    "start_time": "2023-02-01T12:49:59.196Z"
   },
   {
    "duration": 79,
    "start_time": "2023-02-01T12:51:01.210Z"
   },
   {
    "duration": 236166,
    "start_time": "2023-02-01T12:51:21.317Z"
   },
   {
    "duration": 5,
    "start_time": "2023-02-01T12:59:18.219Z"
   },
   {
    "duration": 10,
    "start_time": "2023-02-01T12:59:31.419Z"
   },
   {
    "duration": 2293,
    "start_time": "2023-02-01T13:05:10.443Z"
   },
   {
    "duration": 1320,
    "start_time": "2023-02-01T13:05:12.739Z"
   },
   {
    "duration": 7,
    "start_time": "2023-02-01T13:05:14.062Z"
   },
   {
    "duration": 1053,
    "start_time": "2023-02-01T13:05:14.071Z"
   },
   {
    "duration": 140,
    "start_time": "2023-02-01T13:05:15.126Z"
   },
   {
    "duration": 152,
    "start_time": "2023-02-01T13:05:15.268Z"
   },
   {
    "duration": 57,
    "start_time": "2023-02-01T13:05:15.422Z"
   },
   {
    "duration": 65,
    "start_time": "2023-02-01T13:05:15.481Z"
   },
   {
    "duration": 62,
    "start_time": "2023-02-01T13:05:15.547Z"
   },
   {
    "duration": 92,
    "start_time": "2023-02-01T13:05:15.611Z"
   },
   {
    "duration": 596,
    "start_time": "2023-02-01T13:05:15.705Z"
   },
   {
    "duration": 42,
    "start_time": "2023-02-01T13:05:16.303Z"
   },
   {
    "duration": 50,
    "start_time": "2023-02-01T13:05:16.346Z"
   },
   {
    "duration": 97,
    "start_time": "2023-02-01T13:05:16.398Z"
   },
   {
    "duration": 2122,
    "start_time": "2023-02-01T13:05:16.497Z"
   },
   {
    "duration": 86,
    "start_time": "2023-02-01T13:05:18.621Z"
   },
   {
    "duration": 60,
    "start_time": "2023-02-01T13:05:18.709Z"
   },
   {
    "duration": 140,
    "start_time": "2023-02-01T13:05:18.770Z"
   },
   {
    "duration": 44,
    "start_time": "2023-02-01T13:05:18.911Z"
   },
   {
    "duration": 138,
    "start_time": "2023-02-01T13:05:18.957Z"
   },
   {
    "duration": 51,
    "start_time": "2023-02-01T13:05:19.097Z"
   },
   {
    "duration": 572,
    "start_time": "2023-02-01T13:05:19.150Z"
   },
   {
    "duration": 87,
    "start_time": "2023-02-01T13:05:19.724Z"
   },
   {
    "duration": 22,
    "start_time": "2023-02-01T13:05:19.812Z"
   },
   {
    "duration": 88298,
    "start_time": "2023-02-01T13:05:19.835Z"
   },
   {
    "duration": 20513,
    "start_time": "2023-02-01T13:06:48.135Z"
   },
   {
    "duration": 4,
    "start_time": "2023-02-01T13:07:08.650Z"
   },
   {
    "duration": 1000,
    "start_time": "2023-02-01T13:07:08.658Z"
   },
   {
    "duration": 217,
    "start_time": "2023-02-01T13:07:09.659Z"
   },
   {
    "duration": 4,
    "start_time": "2023-02-01T13:07:09.877Z"
   },
   {
    "duration": 15,
    "start_time": "2023-02-01T13:07:09.883Z"
   },
   {
    "duration": 30897,
    "start_time": "2023-02-01T13:07:09.900Z"
   },
   {
    "duration": 199,
    "start_time": "2023-02-01T13:07:40.800Z"
   },
   {
    "duration": 7,
    "start_time": "2023-02-01T13:07:41.001Z"
   },
   {
    "duration": 242431,
    "start_time": "2023-02-01T13:07:41.010Z"
   },
   {
    "duration": 76217,
    "start_time": "2023-02-01T13:11:43.442Z"
   },
   {
    "duration": 34,
    "start_time": "2023-02-01T13:12:59.661Z"
   },
   {
    "duration": 7,
    "start_time": "2023-02-01T13:12:59.696Z"
   },
   {
    "duration": 227,
    "start_time": "2023-02-01T13:12:59.705Z"
   },
   {
    "duration": 78,
    "start_time": "2023-02-01T13:12:59.934Z"
   },
   {
    "duration": 13,
    "start_time": "2023-02-01T13:13:00.014Z"
   },
   {
    "duration": 0,
    "start_time": "2023-02-01T13:13:00.028Z"
   },
   {
    "duration": 0,
    "start_time": "2023-02-01T13:13:00.030Z"
   },
   {
    "duration": 0,
    "start_time": "2023-02-01T13:13:00.031Z"
   },
   {
    "duration": 7439,
    "start_time": "2023-02-01T16:01:28.213Z"
   },
   {
    "duration": 1570,
    "start_time": "2023-02-01T16:01:35.655Z"
   },
   {
    "duration": 4,
    "start_time": "2023-02-01T16:01:37.227Z"
   },
   {
    "duration": 3267,
    "start_time": "2023-02-01T16:01:37.233Z"
   },
   {
    "duration": 155,
    "start_time": "2023-02-01T16:01:40.503Z"
   },
   {
    "duration": 109,
    "start_time": "2023-02-01T16:01:40.660Z"
   },
   {
    "duration": 75,
    "start_time": "2023-02-01T16:01:40.771Z"
   },
   {
    "duration": 70,
    "start_time": "2023-02-01T16:01:40.848Z"
   },
   {
    "duration": 40,
    "start_time": "2023-02-01T16:01:40.919Z"
   },
   {
    "duration": 112,
    "start_time": "2023-02-01T16:01:40.961Z"
   },
   {
    "duration": 596,
    "start_time": "2023-02-01T16:01:41.075Z"
   },
   {
    "duration": 46,
    "start_time": "2023-02-01T16:01:41.672Z"
   },
   {
    "duration": 26,
    "start_time": "2023-02-01T16:01:41.720Z"
   },
   {
    "duration": 120,
    "start_time": "2023-02-01T16:01:41.751Z"
   },
   {
    "duration": 2157,
    "start_time": "2023-02-01T16:01:41.873Z"
   },
   {
    "duration": 103,
    "start_time": "2023-02-01T16:01:44.032Z"
   },
   {
    "duration": 43,
    "start_time": "2023-02-01T16:01:44.137Z"
   },
   {
    "duration": 139,
    "start_time": "2023-02-01T16:01:44.181Z"
   },
   {
    "duration": 42,
    "start_time": "2023-02-01T16:01:44.322Z"
   },
   {
    "duration": 135,
    "start_time": "2023-02-01T16:01:44.366Z"
   },
   {
    "duration": 55,
    "start_time": "2023-02-01T16:01:44.502Z"
   },
   {
    "duration": 552,
    "start_time": "2023-02-01T16:01:44.559Z"
   },
   {
    "duration": 84,
    "start_time": "2023-02-01T16:01:45.112Z"
   },
   {
    "duration": 20,
    "start_time": "2023-02-01T16:01:45.201Z"
   },
   {
    "duration": 72130,
    "start_time": "2023-02-01T16:01:45.223Z"
   },
   {
    "duration": 13116,
    "start_time": "2023-02-01T16:02:57.355Z"
   },
   {
    "duration": 4,
    "start_time": "2023-02-01T16:03:10.473Z"
   },
   {
    "duration": 1033,
    "start_time": "2023-02-01T16:03:10.479Z"
   },
   {
    "duration": 230,
    "start_time": "2023-02-01T16:03:11.518Z"
   },
   {
    "duration": 4,
    "start_time": "2023-02-01T16:03:11.750Z"
   },
   {
    "duration": 57,
    "start_time": "2023-02-01T16:03:11.756Z"
   },
   {
    "duration": 51600,
    "start_time": "2023-02-01T16:03:11.815Z"
   },
   {
    "duration": 188,
    "start_time": "2023-02-01T16:04:03.417Z"
   },
   {
    "duration": 6,
    "start_time": "2023-02-01T16:04:03.606Z"
   },
   {
    "duration": 203545,
    "start_time": "2023-02-01T16:04:03.614Z"
   },
   {
    "duration": 67506,
    "start_time": "2023-02-01T16:07:27.160Z"
   },
   {
    "duration": 41,
    "start_time": "2023-02-01T16:08:34.667Z"
   },
   {
    "duration": 3,
    "start_time": "2023-02-01T16:08:34.710Z"
   },
   {
    "duration": 176,
    "start_time": "2023-02-01T16:08:34.715Z"
   },
   {
    "duration": 57,
    "start_time": "2023-02-01T16:08:34.893Z"
   },
   {
    "duration": 9,
    "start_time": "2023-02-01T16:08:34.954Z"
   },
   {
    "duration": 0,
    "start_time": "2023-02-01T16:08:34.965Z"
   },
   {
    "duration": 0,
    "start_time": "2023-02-01T16:08:34.968Z"
   },
   {
    "duration": 0,
    "start_time": "2023-02-01T16:08:34.970Z"
   },
   {
    "duration": 339050,
    "start_time": "2023-02-01T17:47:58.842Z"
   },
   {
    "duration": 53,
    "start_time": "2023-02-01T17:53:37.894Z"
   },
   {
    "duration": 10,
    "start_time": "2023-02-01T17:53:37.949Z"
   },
   {
    "duration": 1694,
    "start_time": "2023-02-01T17:53:47.298Z"
   },
   {
    "duration": 5,
    "start_time": "2023-02-01T17:53:51.869Z"
   },
   {
    "duration": 100,
    "start_time": "2023-02-01T17:55:29.942Z"
   },
   {
    "duration": 123,
    "start_time": "2023-02-01T17:55:46.914Z"
   },
   {
    "duration": 118,
    "start_time": "2023-02-01T17:55:55.626Z"
   },
   {
    "duration": 13,
    "start_time": "2023-02-01T17:59:36.945Z"
   },
   {
    "duration": 272,
    "start_time": "2023-02-01T18:01:06.300Z"
   },
   {
    "duration": 25,
    "start_time": "2023-02-01T18:01:13.910Z"
   },
   {
    "duration": 335971,
    "start_time": "2023-02-01T18:01:27.637Z"
   },
   {
    "duration": 86,
    "start_time": "2023-02-01T18:07:03.610Z"
   },
   {
    "duration": 6,
    "start_time": "2023-02-01T18:07:03.698Z"
   },
   {
    "duration": 2347,
    "start_time": "2023-02-01T18:07:16.958Z"
   },
   {
    "duration": 5,
    "start_time": "2023-02-01T18:07:20.705Z"
   },
   {
    "duration": 107,
    "start_time": "2023-02-01T18:13:55.814Z"
   },
   {
    "duration": 94,
    "start_time": "2023-02-01T18:14:00.367Z"
   },
   {
    "duration": 102,
    "start_time": "2023-02-01T18:14:11.417Z"
   },
   {
    "duration": 54,
    "start_time": "2023-02-01T18:14:17.764Z"
   },
   {
    "duration": 234,
    "start_time": "2023-02-01T18:14:37.059Z"
   },
   {
    "duration": 61,
    "start_time": "2023-02-01T18:14:53.951Z"
   },
   {
    "duration": 31,
    "start_time": "2023-02-01T18:14:58.485Z"
   },
   {
    "duration": 4,
    "start_time": "2023-02-01T18:15:24.543Z"
   },
   {
    "duration": 3,
    "start_time": "2023-02-01T18:42:15.180Z"
   },
   {
    "duration": 1577102,
    "start_time": "2023-02-01T18:45:05.736Z"
   },
   {
    "duration": 2166,
    "start_time": "2023-02-01T19:21:24.346Z"
   },
   {
    "duration": 1351,
    "start_time": "2023-02-01T19:21:26.514Z"
   },
   {
    "duration": 3,
    "start_time": "2023-02-01T19:21:27.867Z"
   },
   {
    "duration": 908,
    "start_time": "2023-02-01T19:21:27.871Z"
   },
   {
    "duration": 141,
    "start_time": "2023-02-01T19:21:28.780Z"
   },
   {
    "duration": 104,
    "start_time": "2023-02-01T19:21:28.923Z"
   },
   {
    "duration": 68,
    "start_time": "2023-02-01T19:21:29.028Z"
   },
   {
    "duration": 61,
    "start_time": "2023-02-01T19:21:29.097Z"
   },
   {
    "duration": 55,
    "start_time": "2023-02-01T19:21:29.159Z"
   },
   {
    "duration": 92,
    "start_time": "2023-02-01T19:21:29.216Z"
   },
   {
    "duration": 542,
    "start_time": "2023-02-01T19:21:29.309Z"
   },
   {
    "duration": 43,
    "start_time": "2023-02-01T19:21:29.853Z"
   },
   {
    "duration": 25,
    "start_time": "2023-02-01T19:21:29.898Z"
   },
   {
    "duration": 85,
    "start_time": "2023-02-01T19:21:29.925Z"
   },
   {
    "duration": 1924,
    "start_time": "2023-02-01T19:21:30.012Z"
   },
   {
    "duration": 82,
    "start_time": "2023-02-01T19:21:31.937Z"
   },
   {
    "duration": 50,
    "start_time": "2023-02-01T19:21:34.799Z"
   },
   {
    "duration": 120,
    "start_time": "2023-02-01T19:21:34.927Z"
   },
   {
    "duration": 45,
    "start_time": "2023-02-01T19:21:35.061Z"
   },
   {
    "duration": 140,
    "start_time": "2023-02-01T19:21:35.654Z"
   },
   {
    "duration": 63,
    "start_time": "2023-02-01T19:21:35.796Z"
   },
   {
    "duration": 552,
    "start_time": "2023-02-01T19:21:36.026Z"
   },
   {
    "duration": 72,
    "start_time": "2023-02-01T19:21:36.706Z"
   },
   {
    "duration": 18,
    "start_time": "2023-02-01T19:21:37.250Z"
   },
   {
    "duration": 78128,
    "start_time": "2023-02-01T19:21:37.990Z"
   },
   {
    "duration": 17686,
    "start_time": "2023-02-01T19:22:56.120Z"
   },
   {
    "duration": 4,
    "start_time": "2023-02-01T19:23:13.807Z"
   },
   {
    "duration": 904,
    "start_time": "2023-02-01T19:23:13.815Z"
   },
   {
    "duration": 238,
    "start_time": "2023-02-01T19:23:14.721Z"
   },
   {
    "duration": 3,
    "start_time": "2023-02-01T19:23:14.961Z"
   },
   {
    "duration": 257,
    "start_time": "2023-02-01T19:23:14.966Z"
   },
   {
    "duration": 75,
    "start_time": "2023-02-01T19:23:15.225Z"
   },
   {
    "duration": 4,
    "start_time": "2023-02-01T19:23:15.301Z"
   },
   {
    "duration": 6,
    "start_time": "2023-02-01T19:23:15.307Z"
   },
   {
    "duration": 33015,
    "start_time": "2023-02-01T19:23:15.314Z"
   },
   {
    "duration": 268,
    "start_time": "2023-02-01T19:23:48.331Z"
   },
   {
    "duration": 7,
    "start_time": "2023-02-01T19:23:48.601Z"
   },
   {
    "duration": 97,
    "start_time": "2023-02-01T19:23:48.610Z"
   },
   {
    "duration": 186993,
    "start_time": "2023-02-01T19:23:48.710Z"
   },
   {
    "duration": 3,
    "start_time": "2023-02-01T19:26:55.705Z"
   },
   {
    "duration": 60397,
    "start_time": "2023-02-01T19:26:55.710Z"
   },
   {
    "duration": 48,
    "start_time": "2023-02-01T19:27:56.109Z"
   },
   {
    "duration": 3,
    "start_time": "2023-02-01T19:27:56.158Z"
   },
   {
    "duration": 460033,
    "start_time": "2023-02-01T19:27:56.163Z"
   },
   {
    "duration": 2454,
    "start_time": "2023-02-01T19:35:36.198Z"
   },
   {
    "duration": 35,
    "start_time": "2023-02-01T19:35:38.660Z"
   },
   {
    "duration": 2220,
    "start_time": "2023-02-01T19:46:18.124Z"
   },
   {
    "duration": 1240,
    "start_time": "2023-02-01T19:46:20.347Z"
   },
   {
    "duration": 4,
    "start_time": "2023-02-01T19:46:21.591Z"
   },
   {
    "duration": 895,
    "start_time": "2023-02-01T19:46:21.597Z"
   },
   {
    "duration": 146,
    "start_time": "2023-02-01T19:46:22.495Z"
   },
   {
    "duration": 144,
    "start_time": "2023-02-01T19:46:22.643Z"
   },
   {
    "duration": 57,
    "start_time": "2023-02-01T19:46:22.792Z"
   },
   {
    "duration": 74,
    "start_time": "2023-02-01T19:46:22.851Z"
   },
   {
    "duration": 46,
    "start_time": "2023-02-01T19:46:22.929Z"
   },
   {
    "duration": 101,
    "start_time": "2023-02-01T19:46:22.991Z"
   },
   {
    "duration": 549,
    "start_time": "2023-02-01T19:46:23.094Z"
   },
   {
    "duration": 35,
    "start_time": "2023-02-01T19:46:23.645Z"
   },
   {
    "duration": 26,
    "start_time": "2023-02-01T19:46:23.692Z"
   },
   {
    "duration": 98,
    "start_time": "2023-02-01T19:46:23.720Z"
   },
   {
    "duration": 1959,
    "start_time": "2023-02-01T19:46:23.820Z"
   },
   {
    "duration": 82,
    "start_time": "2023-02-01T19:46:25.781Z"
   },
   {
    "duration": 63,
    "start_time": "2023-02-01T19:46:25.865Z"
   },
   {
    "duration": 119,
    "start_time": "2023-02-01T19:46:25.930Z"
   },
   {
    "duration": 46,
    "start_time": "2023-02-01T19:46:26.050Z"
   },
   {
    "duration": 133,
    "start_time": "2023-02-01T19:46:26.098Z"
   },
   {
    "duration": 84,
    "start_time": "2023-02-01T19:46:26.233Z"
   },
   {
    "duration": 573,
    "start_time": "2023-02-01T19:46:26.319Z"
   },
   {
    "duration": 81,
    "start_time": "2023-02-01T19:46:26.896Z"
   },
   {
    "duration": 17,
    "start_time": "2023-02-01T19:46:26.992Z"
   },
   {
    "duration": 84061,
    "start_time": "2023-02-01T19:46:27.011Z"
   },
   {
    "duration": 15694,
    "start_time": "2023-02-01T19:47:51.077Z"
   },
   {
    "duration": 3,
    "start_time": "2023-02-01T19:48:06.773Z"
   },
   {
    "duration": 865,
    "start_time": "2023-02-01T19:48:06.778Z"
   },
   {
    "duration": 181,
    "start_time": "2023-02-01T19:48:07.644Z"
   },
   {
    "duration": 4,
    "start_time": "2023-02-01T19:48:07.827Z"
   },
   {
    "duration": 265,
    "start_time": "2023-02-01T19:48:07.833Z"
   },
   {
    "duration": 64,
    "start_time": "2023-02-01T19:48:08.099Z"
   },
   {
    "duration": 4,
    "start_time": "2023-02-01T19:48:08.164Z"
   },
   {
    "duration": 21,
    "start_time": "2023-02-01T19:48:08.170Z"
   },
   {
    "duration": 33702,
    "start_time": "2023-02-01T19:48:08.193Z"
   },
   {
    "duration": 199,
    "start_time": "2023-02-01T19:48:41.897Z"
   },
   {
    "duration": 92,
    "start_time": "2023-02-01T19:48:42.101Z"
   },
   {
    "duration": 14,
    "start_time": "2023-02-01T19:48:42.195Z"
   },
   {
    "duration": 184228,
    "start_time": "2023-02-01T19:48:42.211Z"
   },
   {
    "duration": 44,
    "start_time": "2023-02-01T19:51:46.441Z"
   },
   {
    "duration": 3,
    "start_time": "2023-02-01T19:51:46.487Z"
   },
   {
    "duration": 54801,
    "start_time": "2023-02-01T19:51:46.492Z"
   },
   {
    "duration": 30,
    "start_time": "2023-02-01T19:52:41.295Z"
   },
   {
    "duration": 3,
    "start_time": "2023-02-01T19:52:41.326Z"
   },
   {
    "duration": 343171,
    "start_time": "2023-02-01T19:52:41.331Z"
   },
   {
    "duration": 2505,
    "start_time": "2023-02-01T19:58:24.504Z"
   },
   {
    "duration": 5,
    "start_time": "2023-02-01T19:58:27.011Z"
   },
   {
    "duration": 16,
    "start_time": "2023-02-01T20:04:17.193Z"
   },
   {
    "duration": 183,
    "start_time": "2023-02-01T20:06:30.273Z"
   },
   {
    "duration": 11,
    "start_time": "2023-02-01T20:06:50.766Z"
   },
   {
    "duration": 5,
    "start_time": "2023-02-01T20:06:57.180Z"
   }
  ],
  "kernelspec": {
   "display_name": "Python 3 (ipykernel)",
   "language": "python",
   "name": "python3"
  },
  "language_info": {
   "codemirror_mode": {
    "name": "ipython",
    "version": 3
   },
   "file_extension": ".py",
   "mimetype": "text/x-python",
   "name": "python",
   "nbconvert_exporter": "python",
   "pygments_lexer": "ipython3",
   "version": "3.9.13"
  },
  "toc": {
   "base_numbering": 1,
   "nav_menu": {},
   "number_sections": true,
   "sideBar": true,
   "skip_h1_title": true,
   "title_cell": "Table of Contents",
   "title_sidebar": "Contents",
   "toc_cell": false,
   "toc_position": {
    "height": "calc(100% - 180px)",
    "left": "10px",
    "top": "150px",
    "width": "286.075px"
   },
   "toc_section_display": true,
   "toc_window_display": true
  }
 },
 "nbformat": 4,
 "nbformat_minor": 2
}
